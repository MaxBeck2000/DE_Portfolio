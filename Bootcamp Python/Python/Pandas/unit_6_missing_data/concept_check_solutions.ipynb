{
 "cells": [
  {
   "attachments": {},
   "cell_type": "markdown",
   "id": "2157bd1e",
   "metadata": {},
   "source": [
    "---\n",
    "## <font color=#FF8181>Unit 6 - Concept Check: </font>\n",
    "\n",
    "1. Suppose we have a DataFrame `df=pd.DataFrame({'col1':[1,2,np.nan, 4,5], 'col2':[6,7,8,9,10], 'col3':[np.nan, 12,13, np.nan,15]})`. Without running a code, determine:\n",
    "- the shape of the output produced by `df.dropna(axis=1)`\n",
    "- the shape of the output produced by `df.dropna(axis=0)`\n",
    "2. Using the DataFrame from question 1 and without running a code, determine:\n",
    "- the value of `df.loc[0,'col3']` after applying imputation via forward fill `.fillna(method = 'ffill')`\n",
    "- the value of `df.loc[2,'col1']` after applying imputation via backward fill `.fillna(method = 'bfill')`"
   ]
  },
  {
   "attachments": {},
   "cell_type": "markdown",
   "id": "401cb7d6",
   "metadata": {},
   "source": [
    "---\n",
    "### <font color=#14F278> Solutions: </font>"
   ]
  },
  {
   "cell_type": "code",
   "execution_count": null,
   "id": "8ab0ae9e",
   "metadata": {},
   "outputs": [],
   "source": [
    "import pandas as pd\n",
    "import numpy as np"
   ]
  },
  {
   "cell_type": "code",
   "execution_count": null,
   "id": "0eb89bd5",
   "metadata": {},
   "outputs": [],
   "source": [
    "# 1) Suppose we have the following dataframe:\n",
    "df = pd.DataFrame({'col1':[1,2,np.nan, 4,5], 'col2':[6,7,8,9,10], 'col3':[np.nan, 12,13,14, np.nan]})\n",
    "display(df)\n",
    "\n",
    "# 1.1) without running a code, determine the shape of df.dropna(axis = 0)\n",
    "# .dropna(axis = 0) will eliminate all rows with missing data\n",
    "# current df has shape (5,3) --> after dropna(axis = 1) the output has eliminated 3 rows --> shape of output is (2,3)\n",
    "display(df.dropna(axis=0))\n",
    "\n",
    "# 1.2) without running a code, determine the shape of df.dropna(axis = 1)\n",
    "# .dropna(axis = 1) will eliminate all columns with missing data\n",
    "# current df has shape (5,3) --> after dropna(axis = 1) the output has eliminated 2 columns --> shape of output is (5,1)\n",
    "display(df.dropna(axis=1))"
   ]
  },
  {
   "cell_type": "code",
   "execution_count": null,
   "id": "67c0320c",
   "metadata": {},
   "outputs": [],
   "source": [
    "# 2) Forward fill takes the value of the element above each blank and 'imputes' it.\n",
    "# this means that NaNs at the beginning of a column will remain NaNs:\n",
    "# df.loc[0,'col3'] is namely the first element in column 3, so ffill will not change that it is a NaN\n",
    "print(df.fillna(method= 'ffill').loc[0, 'col3'])\n",
    "\n",
    "# df.loc[2, 'col1'] is however in the middle of column 1 and has a non blank value below it, therefore it will become 4.0\n",
    "print(df.fillna(method= 'bfill').loc[2, 'col1'])"
   ]
  }
 ],
 "metadata": {
  "kernelspec": {
   "display_name": "Python 3 (ipykernel)",
   "language": "python",
   "name": "python3"
  },
  "language_info": {
   "codemirror_mode": {
    "name": "ipython",
    "version": 3
   },
   "file_extension": ".py",
   "mimetype": "text/x-python",
   "name": "python",
   "nbconvert_exporter": "python",
   "pygments_lexer": "ipython3",
   "version": "3.9.7"
  }
 },
 "nbformat": 4,
 "nbformat_minor": 5
}
