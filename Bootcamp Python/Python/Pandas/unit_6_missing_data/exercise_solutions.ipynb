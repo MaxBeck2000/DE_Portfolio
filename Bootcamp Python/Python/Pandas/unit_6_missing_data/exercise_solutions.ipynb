{
 "cells": [
  {
   "attachments": {},
   "cell_type": "markdown",
   "id": "1e8838f7",
   "metadata": {},
   "source": [
    "---\n",
    "## <font color=#FF8181>Unit 6 - Exercises: </font>\n",
    "<style>\n",
    "  table {margin-left: 0 !important;}\n",
    "</style>\n",
    "\n",
    "__Consider the following DataFrame__:\n",
    "\n",
    "### Monster table 2\n",
    "\n",
    "|          |    Name          |    Strength    |    Speed    |    Type           |    Color     |    MCODE     |\n",
    "|----------|------------------|----------------|-------------|-------------------|--------------|--------------|\n",
    "|    90    |    Fungus        |                |    3        |    Monster        |    Orange    |    223423    |\n",
    "|    91    |    Celia         |    40          |             |    Monster        |    Purple    |    223422    |\n",
    "|    92    |    Waternoose    |    51          |    35       |    EvilMonster    |    Gray      |    223234    |\n",
    "\n",
    "- Run the code below to construct the dataframe\n",
    "- you can use `test_df` to test your solutions"
   ]
  },
  {
   "cell_type": "code",
   "execution_count": null,
   "id": "250717fa",
   "metadata": {},
   "outputs": [],
   "source": [
    "import pandas as pd\n",
    "import numpy as np\n",
    "\n",
    "data = {'Name': ['Fungus', 'Celia', 'Waternoose'],\n",
    "        'Strength': [np.nan, 40,51],\n",
    "        'Speed':[3, np.nan, 35],\n",
    "        'Type':['Monster', 'Monster', 'EvilMonster'],\n",
    "        'Color':['Orange', 'Purple', 'Gray'],\n",
    "        'MCODE':[223423, 223422, 223234]}\n",
    "test_df = pd.DataFrame(data, index = [90,91,92])"
   ]
  },
  {
   "attachments": {},
   "cell_type": "markdown",
   "id": "7ea61b06",
   "metadata": {},
   "source": [
    "---\n",
    "### <font color=#14F278> Task 1: Create a python function `interpolate_monster()` which does the following: </font>\n",
    "\n",
    "- Takes dataframe __Monster Table 2__ as an argument:\n",
    "- Fills in missing data via Interpolation\n",
    "- Drops any rows which still contain missing data\n",
    "- Returns the new DataFrame"
   ]
  },
  {
   "cell_type": "code",
   "execution_count": null,
   "id": "cd0b2a43",
   "metadata": {},
   "outputs": [],
   "source": [
    "# Solution\n",
    "\n",
    "def interpolate_monster(df):\n",
    "    df = df.interpolate()\n",
    "    df = df.dropna(axis = 0)\n",
    "    return df"
   ]
  },
  {
   "cell_type": "code",
   "execution_count": null,
   "id": "aedc1c0e",
   "metadata": {},
   "outputs": [],
   "source": [
    "# Call the function and display returned objects\n",
    "interpolate_monster(test_df)"
   ]
  },
  {
   "attachments": {},
   "cell_type": "markdown",
   "id": "9ef2cd30",
   "metadata": {},
   "source": [
    "---\n",
    "### <font color=#14F278> Task 2: Create a python function `impute_monster()` which does the following </font>\n",
    "\n",
    "- Takes datafame __Monster Table 2__ as an argument:\n",
    "- assigns the speed of Celia to the average speed across the rows\n",
    "- assigns the strength of Fungus to the minimum strength across the rows\n",
    "- Returns the new DataFrame"
   ]
  },
  {
   "cell_type": "code",
   "execution_count": null,
   "id": "cfb8aa8a",
   "metadata": {},
   "outputs": [],
   "source": [
    "# Solution\n",
    "\n",
    "def impute_monster(df):\n",
    "    df.loc[91,'Speed'] = df['Speed'].mean()\n",
    "    df.loc[90, 'Strength'] = df['Strength'].min()\n",
    "    return df"
   ]
  },
  {
   "cell_type": "code",
   "execution_count": null,
   "id": "f8798509",
   "metadata": {},
   "outputs": [],
   "source": [
    "# Call the function and display returned objects\n",
    "impute_monster(test_df)"
   ]
  },
  {
   "attachments": {},
   "cell_type": "markdown",
   "id": "ea25298b",
   "metadata": {},
   "source": [
    "__NB__: *Solutions to these exercises are distributed separately in the form of a stand-alone unit at a later point in time. This is to ensure that consultants have had the chance to attempt the exercises autonomously, leveraging the reading materials and concept check solutions.*"
   ]
  }
 ],
 "metadata": {
  "kernelspec": {
   "display_name": "Python 3 (ipykernel)",
   "language": "python",
   "name": "python3"
  },
  "language_info": {
   "codemirror_mode": {
    "name": "ipython",
    "version": 3
   },
   "file_extension": ".py",
   "mimetype": "text/x-python",
   "name": "python",
   "nbconvert_exporter": "python",
   "pygments_lexer": "ipython3",
   "version": "3.9.7"
  }
 },
 "nbformat": 4,
 "nbformat_minor": 5
}
