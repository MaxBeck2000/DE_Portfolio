{
 "cells": [
  {
   "attachments": {},
   "cell_type": "markdown",
   "id": "1e8838f7",
   "metadata": {},
   "source": [
    "---\n",
    "## <font color=#FF8181>Unit 6 - Exercises: </font>\n",
    "<style>\n",
    "  table {margin-left: 0 !important;}\n",
    "</style>\n",
    "\n",
    "__Consider the following DataFrame__:\n",
    "\n",
    "### Monster table 2\n",
    "\n",
    "|          |    Name          |    Strength    |    Speed    |    Type           |    Color     |    MCODE     |\n",
    "|----------|------------------|----------------|-------------|-------------------|--------------|--------------|\n",
    "|    90    |    Fungus        |                |    3        |    Monster        |    Orange    |    223423    |\n",
    "|    91    |    Celia         |    40          |             |    Monster        |    Purple    |    223422    |\n",
    "|    92    |    Waternoose    |    51          |    35       |    EvilMonster    |    Gray      |    223234    |\n",
    "\n",
    "- Run the code below to construct the dataframe\n",
    "- you can use `test_df` to test your solutions"
   ]
  },
  {
   "cell_type": "code",
   "execution_count": 26,
   "id": "250717fa",
   "metadata": {},
   "outputs": [],
   "source": [
    "import pandas as pd\n",
    "import numpy as np\n",
    "\n",
    "data = {'Name': ['Fungus', 'Celia', 'Waternoose'],\n",
    "        'Strength': [np.nan, 40,51],\n",
    "        'Speed':[3, np.nan, 35],\n",
    "        'Type':['Monster', 'Monster', 'EvilMonster'],\n",
    "        'Color':['Orange', 'Purple', 'Gray'],\n",
    "        'MCODE':[223423, 223422, 223234]}\n",
    "test_df = pd.DataFrame(data, index = [90,91,92])"
   ]
  },
  {
   "attachments": {},
   "cell_type": "markdown",
   "id": "7ea61b06",
   "metadata": {},
   "source": [
    "---\n",
    "### <font color=#14F278> Task 1: Create a python function `interpolate_monster()` which does the following: </font>\n",
    "\n",
    "- Takes dataframe __Monster Table 2__ as an argument:\n",
    "- Fills in missing data via Interpolation\n",
    "- Drops any rows which still contain missing data\n",
    "- Returns the new DataFrame"
   ]
  },
  {
   "cell_type": "code",
   "execution_count": 18,
   "id": "cd0b2a43",
   "metadata": {},
   "outputs": [
    {
     "data": {
      "text/html": [
       "<div>\n",
       "<style scoped>\n",
       "    .dataframe tbody tr th:only-of-type {\n",
       "        vertical-align: middle;\n",
       "    }\n",
       "\n",
       "    .dataframe tbody tr th {\n",
       "        vertical-align: top;\n",
       "    }\n",
       "\n",
       "    .dataframe thead th {\n",
       "        text-align: right;\n",
       "    }\n",
       "</style>\n",
       "<table border=\"1\" class=\"dataframe\">\n",
       "  <thead>\n",
       "    <tr style=\"text-align: right;\">\n",
       "      <th></th>\n",
       "      <th>Name</th>\n",
       "      <th>Strength</th>\n",
       "      <th>Speed</th>\n",
       "      <th>Type</th>\n",
       "      <th>Color</th>\n",
       "      <th>MCODE</th>\n",
       "    </tr>\n",
       "  </thead>\n",
       "  <tbody>\n",
       "    <tr>\n",
       "      <th>90</th>\n",
       "      <td>Fungus</td>\n",
       "      <td>NaN</td>\n",
       "      <td>3.0</td>\n",
       "      <td>Monster</td>\n",
       "      <td>Orange</td>\n",
       "      <td>223423</td>\n",
       "    </tr>\n",
       "    <tr>\n",
       "      <th>91</th>\n",
       "      <td>Celia</td>\n",
       "      <td>40.0</td>\n",
       "      <td>NaN</td>\n",
       "      <td>Monster</td>\n",
       "      <td>Purple</td>\n",
       "      <td>223422</td>\n",
       "    </tr>\n",
       "    <tr>\n",
       "      <th>92</th>\n",
       "      <td>Waternoose</td>\n",
       "      <td>51.0</td>\n",
       "      <td>35.0</td>\n",
       "      <td>EvilMonster</td>\n",
       "      <td>Gray</td>\n",
       "      <td>223234</td>\n",
       "    </tr>\n",
       "  </tbody>\n",
       "</table>\n",
       "</div>"
      ],
      "text/plain": [
       "          Name  Strength  Speed         Type   Color   MCODE\n",
       "90      Fungus       NaN    3.0      Monster  Orange  223423\n",
       "91       Celia      40.0    NaN      Monster  Purple  223422\n",
       "92  Waternoose      51.0   35.0  EvilMonster    Gray  223234"
      ]
     },
     "metadata": {},
     "output_type": "display_data"
    },
    {
     "name": "stderr",
     "output_type": "stream",
     "text": [
      "C:\\Users\\MaxBeck\\AppData\\Local\\Temp\\ipykernel_3304\\3792404036.py:4: FutureWarning: DataFrame.interpolate with object dtype is deprecated and will raise in a future version. Call obj.infer_objects(copy=False) before interpolating instead.\n",
      "  df = df.interpolate()\n"
     ]
    },
    {
     "data": {
      "text/html": [
       "<div>\n",
       "<style scoped>\n",
       "    .dataframe tbody tr th:only-of-type {\n",
       "        vertical-align: middle;\n",
       "    }\n",
       "\n",
       "    .dataframe tbody tr th {\n",
       "        vertical-align: top;\n",
       "    }\n",
       "\n",
       "    .dataframe thead th {\n",
       "        text-align: right;\n",
       "    }\n",
       "</style>\n",
       "<table border=\"1\" class=\"dataframe\">\n",
       "  <thead>\n",
       "    <tr style=\"text-align: right;\">\n",
       "      <th></th>\n",
       "      <th>Name</th>\n",
       "      <th>Strength</th>\n",
       "      <th>Speed</th>\n",
       "      <th>Type</th>\n",
       "      <th>Color</th>\n",
       "      <th>MCODE</th>\n",
       "    </tr>\n",
       "  </thead>\n",
       "  <tbody>\n",
       "    <tr>\n",
       "      <th>91</th>\n",
       "      <td>Celia</td>\n",
       "      <td>40.0</td>\n",
       "      <td>19.0</td>\n",
       "      <td>Monster</td>\n",
       "      <td>Purple</td>\n",
       "      <td>223422</td>\n",
       "    </tr>\n",
       "    <tr>\n",
       "      <th>92</th>\n",
       "      <td>Waternoose</td>\n",
       "      <td>51.0</td>\n",
       "      <td>35.0</td>\n",
       "      <td>EvilMonster</td>\n",
       "      <td>Gray</td>\n",
       "      <td>223234</td>\n",
       "    </tr>\n",
       "  </tbody>\n",
       "</table>\n",
       "</div>"
      ],
      "text/plain": [
       "          Name  Strength  Speed         Type   Color   MCODE\n",
       "91       Celia      40.0   19.0      Monster  Purple  223422\n",
       "92  Waternoose      51.0   35.0  EvilMonster    Gray  223234"
      ]
     },
     "execution_count": 18,
     "metadata": {},
     "output_type": "execute_result"
    }
   ],
   "source": [
    "# Write your solution here\n",
    "display(test_df)\n",
    "def interpolate_monster(df):\n",
    "    df = df.interpolate()\n",
    "    df = df.dropna()\n",
    "    return df\n",
    "\n",
    "interpolate_monster(test_df)\n"
   ]
  },
  {
   "attachments": {},
   "cell_type": "markdown",
   "id": "9ef2cd30",
   "metadata": {},
   "source": [
    "---\n",
    "### <font color=#14F278> Task 2: Create a python function `impute_monster()` which does the following </font>\n",
    "\n",
    "- Takes datafame __Monster Table 2__ as an argument:\n",
    "- assigns the speed of Celia to the average speed across the rows\n",
    "- assigns the strength of Fungus to the minimum strength across the rows\n",
    "- Returns the new DataFrame"
   ]
  },
  {
   "cell_type": "code",
   "execution_count": 27,
   "id": "cfb8aa8a",
   "metadata": {},
   "outputs": [
    {
     "data": {
      "text/html": [
       "<div>\n",
       "<style scoped>\n",
       "    .dataframe tbody tr th:only-of-type {\n",
       "        vertical-align: middle;\n",
       "    }\n",
       "\n",
       "    .dataframe tbody tr th {\n",
       "        vertical-align: top;\n",
       "    }\n",
       "\n",
       "    .dataframe thead th {\n",
       "        text-align: right;\n",
       "    }\n",
       "</style>\n",
       "<table border=\"1\" class=\"dataframe\">\n",
       "  <thead>\n",
       "    <tr style=\"text-align: right;\">\n",
       "      <th></th>\n",
       "      <th>Name</th>\n",
       "      <th>Strength</th>\n",
       "      <th>Speed</th>\n",
       "      <th>Type</th>\n",
       "      <th>Color</th>\n",
       "      <th>MCODE</th>\n",
       "    </tr>\n",
       "  </thead>\n",
       "  <tbody>\n",
       "    <tr>\n",
       "      <th>90</th>\n",
       "      <td>Fungus</td>\n",
       "      <td>40.0</td>\n",
       "      <td>3.0</td>\n",
       "      <td>Monster</td>\n",
       "      <td>Orange</td>\n",
       "      <td>223423</td>\n",
       "    </tr>\n",
       "    <tr>\n",
       "      <th>91</th>\n",
       "      <td>Celia</td>\n",
       "      <td>40.0</td>\n",
       "      <td>19.0</td>\n",
       "      <td>Monster</td>\n",
       "      <td>Purple</td>\n",
       "      <td>223422</td>\n",
       "    </tr>\n",
       "    <tr>\n",
       "      <th>92</th>\n",
       "      <td>Waternoose</td>\n",
       "      <td>51.0</td>\n",
       "      <td>35.0</td>\n",
       "      <td>EvilMonster</td>\n",
       "      <td>Gray</td>\n",
       "      <td>223234</td>\n",
       "    </tr>\n",
       "  </tbody>\n",
       "</table>\n",
       "</div>"
      ],
      "text/plain": [
       "          Name  Strength  Speed         Type   Color   MCODE\n",
       "90      Fungus      40.0    3.0      Monster  Orange  223423\n",
       "91       Celia      40.0   19.0      Monster  Purple  223422\n",
       "92  Waternoose      51.0   35.0  EvilMonster    Gray  223234"
      ]
     },
     "execution_count": 27,
     "metadata": {},
     "output_type": "execute_result"
    }
   ],
   "source": [
    "# Write your solution here\n",
    "def impute_monster(df):\n",
    "    df.loc[91, 'Speed'] = df['Speed'].mean()\n",
    "    df.loc[90, 'Strength'] = df['Strength'].min()\n",
    "    return df\n",
    "\n",
    "impute_monster(test_df)"
   ]
  },
  {
   "attachments": {},
   "cell_type": "markdown",
   "id": "ea25298b",
   "metadata": {},
   "source": [
    "__NB__: *Solutions to these exercises are distributed separately in the form of a stand-alone unit at a later point in time. This is to ensure that consultants have had the chance to attempt the exercises autonomously, leveraging the reading materials and concept check solutions.*"
   ]
  }
 ],
 "metadata": {
  "kernelspec": {
   "display_name": "Python 3 (ipykernel)",
   "language": "python",
   "name": "python3"
  },
  "language_info": {
   "codemirror_mode": {
    "name": "ipython",
    "version": 3
   },
   "file_extension": ".py",
   "mimetype": "text/x-python",
   "name": "python",
   "nbconvert_exporter": "python",
   "pygments_lexer": "ipython3",
   "version": "3.11.8"
  }
 },
 "nbformat": 4,
 "nbformat_minor": 5
}
