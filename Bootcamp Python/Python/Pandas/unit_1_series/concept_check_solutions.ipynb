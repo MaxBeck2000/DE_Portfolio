{
 "cells": [
  {
   "attachments": {},
   "cell_type": "markdown",
   "id": "8bcebdae",
   "metadata": {},
   "source": [
    "---\n",
    "## <font color=#FF8181>Unit 1 - Concept Check: </font>\n",
    "\n",
    "1. What is a pandas series object? What attributes does it have?\n",
    "2. How many dtypes (datatypes) can you have for the values of a single Series instance?\n",
    "3. Construct a series object from a tuple containing `(10, 10.5, 11)`. What is the dtype for your series? Is this what you expect?\n",
    "4. Construct a series object from a list containing `['10', '10.5', '11']`. What is the dtype for your series? Is this what you expect? If appropriate, how would you convert it to a numeric data type?\n",
    "5. Construct a series object from a list containing `['10', '10.5', '11']`, with index set to `[3,4,5]`. How would you get the second element in your series?"
   ]
  },
  {
   "attachments": {},
   "cell_type": "markdown",
   "id": "497d510d",
   "metadata": {},
   "source": [
    "---\n",
    "### <font color=#14F278> Solutions: </font>"
   ]
  },
  {
   "cell_type": "code",
   "execution_count": null,
   "id": "fc6a5a08",
   "metadata": {},
   "outputs": [],
   "source": [
    "import pandas as pd\n",
    "import numpy as np"
   ]
  },
  {
   "cell_type": "code",
   "execution_count": null,
   "id": "fec88564",
   "metadata": {},
   "outputs": [],
   "source": [
    "# 1) What is a Pandas Series Object? What attributes does it have:\n",
    "\n",
    "# A Series is a 1-dimensional array of indexed data. Each Series has a single data type.\n",
    "# The index of a Series serves as a key for the elements in the Series\n",
    "\n",
    "# Series have 3 types of attributes:\n",
    "# - General - Dimension, Shape - .shape, .ndim (gives dimension 1), .index\n",
    "# - Data related - .values, .dtype\n",
    "# Memory-usage related - .nbytes (number of bytes), .memory_usage() (actual bytes in memory)"
   ]
  },
  {
   "cell_type": "code",
   "execution_count": null,
   "id": "65bed07a",
   "metadata": {},
   "outputs": [],
   "source": [
    "# 2) How many data types can you have for the values of a single Series instance?\n",
    "# Series have a single data type - this means that within each Series instance, all elements are of the same type\n",
    "# Upon construction, however, Series can take many data types - integer, string, float, python object, etc."
   ]
  },
  {
   "cell_type": "code",
   "execution_count": null,
   "id": "178b5aae",
   "metadata": {},
   "outputs": [],
   "source": [
    "# 3) Construct a series object from a tuple containing (10, 10.5, 11). What is the Series dtype? Is this what you expect?\n",
    "\n",
    "# Data type -- float, which is the most granular data type amongs the elements (inherited from 10.5)\n",
    "my_tuple = (10, 10.5, 11)\n",
    "s1 = pd.Series(my_tuple)\n",
    "display(s1)\n",
    "print(s1.dtype)"
   ]
  },
  {
   "cell_type": "code",
   "execution_count": null,
   "id": "9a59fe2d",
   "metadata": {},
   "outputs": [],
   "source": [
    "# 4) Construct a series object from a list containing [‘10’, ‘10.5’, ‘11’]. What is the dtype for your series?\n",
    "# If appropriate, how would you convert it to a numeric data type?\n",
    "\n",
    "# Initial Series data type -- object, because all elements are strings\n",
    "my_list = ['10', '10.5', '11']\n",
    "s2 = pd.Series(my_list)\n",
    "display(s2)\n",
    "print(s2.dtype)\n",
    "\n",
    "# To convert to numeric, we need to type cast it into float (as 10.5 is of type float)\n",
    "# Note - to store the type change, we need to assign it to the Series\n",
    "s2 = s2.astype(float)\n",
    "display(s2)"
   ]
  },
  {
   "cell_type": "code",
   "execution_count": null,
   "id": "8309301c",
   "metadata": {},
   "outputs": [],
   "source": [
    "# 5) Construct a series object from a list containing [‘10’, ‘10.5’, ‘11’], with index set to [3,4,5].\n",
    "# How would you get the second element in your series?\n",
    "\n",
    "my_list = ['10', '10.5', '11']\n",
    "s3 = pd.Series(my_list, index = [3,4,5])\n",
    "display(s3)\n",
    "s3[4] # Note: this is when we know the index label; we will cover more methods in Unit 3- Selection"
   ]
  }
 ],
 "metadata": {
  "kernelspec": {
   "display_name": "Python 3 (ipykernel)",
   "language": "python",
   "name": "python3"
  },
  "language_info": {
   "codemirror_mode": {
    "name": "ipython",
    "version": 3
   },
   "file_extension": ".py",
   "mimetype": "text/x-python",
   "name": "python",
   "nbconvert_exporter": "python",
   "pygments_lexer": "ipython3",
   "version": "3.9.7"
  }
 },
 "nbformat": 4,
 "nbformat_minor": 5
}
