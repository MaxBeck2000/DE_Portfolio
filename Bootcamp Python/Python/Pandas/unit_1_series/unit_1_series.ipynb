{
 "cells": [
  {
   "attachments": {},
   "cell_type": "markdown",
   "id": "00980105",
   "metadata": {},
   "source": [
    "\n",
    "# <font color=#14F278>Unit 1 - Pandas Series</font>\n",
    "---\n",
    "\n",
    "## <font color=#14F278> 1. What is Pandas?</font>\n",
    "\n",
    "\n",
    "<font color=#14F278>**Pandas**</font> is a <font color=#14F278>**Python library**</font>, specifically designed for data manipulation and analysis. So far we have explored the world of core Python and learnt about various objects like lists, strings and dictionaries. However, a vast amount of data in the world is stored and displayed in tables - there is not a single company in the world that hasn't 'indulged' in building a table in Excel!\n",
    "\n",
    "#### <font color=#14F278> Why are Tables so Important?</font>\n",
    "\n",
    "A <font color=#14F278> **Table**</font> is a data structure that organizes information into rows and columns, used to store and display data in a structured format. Tables are used everywhere - tables in Maths are known under the term 'Matrix' (and whole field called Linear Algebra has emerged since 1694 revolving around it); tables are also a building block in databases; Chances are that everyone of us already 'consumed' some information today in the form of a table, purely because of how easy it is to deliver the 'meaning' behind a dataset.\n",
    "\n",
    "Here are some of the reasons why we use tables:\n",
    "- effortless data entry\n",
    "- automatic nomenclature: each cell is uniquely and easily identifiable\n",
    "- collection of vast quantitative data in an organised way\n",
    "- easy formatting, sorting and filtering\n",
    "\n",
    "#### <font color=#14F278> What does Pandas have to do with Tables?</font>\n",
    "\n",
    "Pandas is the biggest Python 'weapon' in handling and exploring tables. As a Python library, it provides high-performance data structures and data analysis tools. The two main data structures in Pandas are:\n",
    "- <font color=#14F278>**Series**</font>\n",
    "- <font color=#14F278>**DataFrame**</font>\n"
   ]
  },
  {
   "attachments": {},
   "cell_type": "markdown",
   "id": "e72e9f44",
   "metadata": {},
   "source": [
    "---\n",
    "\n",
    "## <font color=#14F278> 2. Imports: </font>\n",
    "\n",
    "To use the <font color=#14F278> **Pandas** </font> library, we need to import it in the beginning of our code:\n",
    "- `import pandas as pd`\n",
    "- `pd` is the **alias** used for Pandas"
   ]
  },
  {
   "cell_type": "code",
   "execution_count": 2,
   "id": "0457365f",
   "metadata": {},
   "outputs": [],
   "source": [
    "# Imports\n",
    "import pandas as pd"
   ]
  },
  {
   "attachments": {},
   "cell_type": "markdown",
   "id": "65755dba",
   "metadata": {},
   "source": [
    "---\n",
    "## <font color=#14F278> 3. Pandas Series - Definition: </font>\n",
    "A <font color=#14F278>**Series**</font> is a <font color=#14F278>**1-dimensional array**</font> of indexed data. When we translate array into 'arrangement' and 1-dimensional into 'linear', a Series is simply a linear arrangement of indexed data. Series objects are able of holding data of any type, as long as all elements of the Series are of the same type - in that sense:\n",
    "- Each Series has a <font color=#14F278>**single data type**</font> !\n",
    "- We can think of each element's index as its <font color=#14F278>**key**</font> \n",
    "\n",
    "<center>\n",
    "    <div>\n",
    "        <img src=\"..\\images\\series_001.png\"/>\n",
    "    </div>\n",
    "</center>"
   ]
  },
  {
   "attachments": {},
   "cell_type": "markdown",
   "id": "0c8b3459",
   "metadata": {},
   "source": [
    "---\n",
    "## <font color=#14F278> 4. Constructing a Pandas Series Object: </font>\n",
    "\n",
    "A Series can be created in two ways - from a list and from a dictionary.\n",
    "\n",
    "- From a <font color=#14F278>**List**</font> :\n",
    "    - `pd.Series([item1, item2, ...])`\n",
    "    - `pd.Series([item1, item2, ...], index = [index1, index2, ...])`\n",
    "    \n",
    "    \n",
    "- From a <font color=#14F278>**Dictionary**</font> :\n",
    "    - `pd.Series({index1: item1, index2:item2, ...})`"
   ]
  },
  {
   "cell_type": "code",
   "execution_count": 3,
   "id": "f0162e8c",
   "metadata": {},
   "outputs": [
    {
     "data": {
      "text/plain": [
       "0    1\n",
       "1    2\n",
       "2    3\n",
       "dtype: int64"
      ]
     },
     "metadata": {},
     "output_type": "display_data"
    }
   ],
   "source": [
    "# Creating a Series from a list\n",
    "s = pd.Series([1,2,3])\n",
    "display(s)"
   ]
  },
  {
   "cell_type": "code",
   "execution_count": 4,
   "id": "1d50caa4",
   "metadata": {},
   "outputs": [
    {
     "data": {
      "text/plain": [
       "a    1\n",
       "b    2\n",
       "c    3\n",
       "dtype: int64"
      ]
     },
     "metadata": {},
     "output_type": "display_data"
    }
   ],
   "source": [
    "# Creating a Series from a list while specifying the index\n",
    "s = pd.Series([1,2,3], index=['a','b','c'])\n",
    "display(s)"
   ]
  },
  {
   "cell_type": "code",
   "execution_count": 5,
   "id": "900de9d3",
   "metadata": {},
   "outputs": [
    {
     "data": {
      "text/plain": [
       "a    111\n",
       "b    222\n",
       "dtype: int64"
      ]
     },
     "metadata": {},
     "output_type": "display_data"
    }
   ],
   "source": [
    "# Creating a Series from a dictionary\n",
    "# This method is identical to using a list and specifying the indeces. i.e.\n",
    "# s = pd.Series([111,222], index = 'a', 'b')\n",
    "s = pd.Series({'a':111, 'b':222})\n",
    "display(s)"
   ]
  },
  {
   "attachments": {},
   "cell_type": "markdown",
   "id": "d76f6528",
   "metadata": {},
   "source": [
    "---\n",
    "## <font color=#14F278> 5. Retrieving Series Values and Index: </font>\n",
    "\n",
    "\n",
    "Now that we know how to construct a simple __Series__ (which essentially looks like an indexed column), let's learn how to obtain values and indeces from it:"
   ]
  },
  {
   "cell_type": "code",
   "execution_count": 6,
   "id": "e1091f75",
   "metadata": {},
   "outputs": [
    {
     "data": {
      "text/plain": [
       "array([111, 222], dtype=int64)"
      ]
     },
     "execution_count": 6,
     "metadata": {},
     "output_type": "execute_result"
    }
   ],
   "source": [
    "# Obtain the values of a Series\n",
    "s.values"
   ]
  },
  {
   "cell_type": "code",
   "execution_count": 7,
   "id": "b38977ab",
   "metadata": {},
   "outputs": [
    {
     "data": {
      "text/plain": [
       "Index(['a', 'b'], dtype='object')"
      ]
     },
     "execution_count": 7,
     "metadata": {},
     "output_type": "execute_result"
    }
   ],
   "source": [
    "# Obtain the index of a Series\n",
    "s.index"
   ]
  },
  {
   "cell_type": "code",
   "execution_count": 8,
   "id": "2ff38a89",
   "metadata": {},
   "outputs": [
    {
     "data": {
      "text/plain": [
       "111"
      ]
     },
     "execution_count": 8,
     "metadata": {},
     "output_type": "execute_result"
    }
   ],
   "source": [
    "# Obtain a specific value of a Series by specifying its index\n",
    "s['a']"
   ]
  },
  {
   "attachments": {},
   "cell_type": "markdown",
   "id": "8bd7dac5",
   "metadata": {},
   "source": [
    "---\n",
    "## <font color=#14F278> 6. Series Data Types: </font>\n",
    "\n",
    "- We already mentioned that each Series has a <font color=#14F278>**single data type** </font> - all elements in the Series share the same type.\n",
    "- Series can take one of multiple data types - they can be of integer, float, string, python object data type, etc.\n",
    "- Let's explore how to obtain a Series' data type and change it (where possible):"
   ]
  },
  {
   "cell_type": "code",
   "execution_count": 9,
   "id": "f5db5288",
   "metadata": {},
   "outputs": [
    {
     "data": {
      "text/plain": [
       "dtype('int64')"
      ]
     },
     "execution_count": 9,
     "metadata": {},
     "output_type": "execute_result"
    }
   ],
   "source": [
    "# Check Series data type\n",
    "s.dtype"
   ]
  },
  {
   "cell_type": "code",
   "execution_count": 10,
   "id": "74c16954",
   "metadata": {},
   "outputs": [
    {
     "data": {
      "text/plain": [
       "a    111.0\n",
       "b    222.0\n",
       "dtype: float64"
      ]
     },
     "execution_count": 10,
     "metadata": {},
     "output_type": "execute_result"
    }
   ],
   "source": [
    "# Changing the data type of a Series - so called 'typecasting'\n",
    "s.astype(float)"
   ]
  },
  {
   "cell_type": "code",
   "execution_count": 14,
   "id": "3cb94b69",
   "metadata": {},
   "outputs": [
    {
     "data": {
      "text/plain": [
       "0    [1]\n",
       "1    [2]\n",
       "2    [3]\n",
       "dtype: object"
      ]
     },
     "execution_count": 14,
     "metadata": {},
     "output_type": "execute_result"
    }
   ],
   "source": [
    "s = pd.Series([[1],[2],[3]])\n",
    "\n",
    "s"
   ]
  },
  {
   "cell_type": "code",
   "execution_count": 11,
   "id": "41f7340f",
   "metadata": {},
   "outputs": [
    {
     "data": {
      "text/plain": [
       "numpy.ndarray"
      ]
     },
     "execution_count": 11,
     "metadata": {},
     "output_type": "execute_result"
    }
   ],
   "source": [
    "# Underlying data structure is a numpy array\n",
    "type(s.values)"
   ]
  },
  {
   "attachments": {},
   "cell_type": "markdown",
   "id": "acfa3505",
   "metadata": {},
   "source": [
    "---\n",
    "## <font color=#14F278>7. Series Shape: </font>\n",
    "\n",
    "- The concept of  <font color=#14F278> **shape** </font> allows us to obtain 'metadata' about Series (and later on about DataFrames).\n",
    "- It essentially returns the object's dimensions in the form of a tuple. \n",
    "- Series are <font color=#14F278> **1-dimensional** </font>, so we only expect to obtain information on 1 dimension:"
   ]
  },
  {
   "cell_type": "code",
   "execution_count": 15,
   "id": "bc836598",
   "metadata": {},
   "outputs": [
    {
     "data": {
      "text/plain": [
       "a    1\n",
       "b    2\n",
       "c    3\n",
       "dtype: int64"
      ]
     },
     "metadata": {},
     "output_type": "display_data"
    }
   ],
   "source": [
    "s = pd.Series({'a':1, 'b':2, 'c':3})\n",
    "display(s)"
   ]
  },
  {
   "cell_type": "code",
   "execution_count": 16,
   "id": "16d67ada",
   "metadata": {},
   "outputs": [
    {
     "data": {
      "text/plain": [
       "(3,)"
      ]
     },
     "execution_count": 16,
     "metadata": {},
     "output_type": "execute_result"
    }
   ],
   "source": [
    "# Series object has 1 dimension with 3 elements\n",
    "s.shape"
   ]
  },
  {
   "cell_type": "code",
   "execution_count": 19,
   "id": "a324c212",
   "metadata": {},
   "outputs": [
    {
     "data": {
      "text/plain": [
       "a    1\n",
       "b    2\n",
       "c    3\n",
       "dtype: int32"
      ]
     },
     "execution_count": 19,
     "metadata": {},
     "output_type": "execute_result"
    }
   ],
   "source": [
    "s.astype(int)"
   ]
  },
  {
   "attachments": {},
   "cell_type": "markdown",
   "id": "7fe8aa51",
   "metadata": {},
   "source": [
    "---\n",
    "## <font color=#14F278> 8. Summary: </font>\n",
    "\n",
    "\n",
    "- Pandas is a Python library providing high-performance data structures and analysis tools\n",
    "- Pandas 2 main objects are __Series__ and __DataFrames__\n",
    "- Pandas Series is a 1-dimensional array of indexed data, which has a single data type\n",
    "- Series can be constructed from __lists__ and __dictionaries__ using the `pd.Series()` method\n",
    "- We can obtain Series values via the `.values` property\n",
    "- We can obtain Series index via the `.index` property\n",
    "- We can obtain Series data type via the `.dtype` property and we can type cast a Series via the `.astype()` method\n",
    "- We can obtain the dimensions of a Series via the `.shape` property"
   ]
  },
  {
   "attachments": {},
   "cell_type": "markdown",
   "id": "ad96a67d",
   "metadata": {},
   "source": [
    "---\n",
    "## <font color=#FF8181> 9. Concept Check: </font>\n",
    "\n",
    "1. What is a pandas series object? What attributes does it have?\n",
    "2. How many dtypes (datatypes) can you have for the values of a single Series instance?\n",
    "3. Construct a series object from a tuple containing `(10, 10.5, 11)`. What is the dtype for your series? Is this what you expect?\n",
    "4. Construct a series object from a list containing `['10', '10.5', '11']`. What is the dtype for your series? Is this what you expect? If appropriate, how would you convert it to a numeric data type?\n",
    "5. Construct a series object from a list containing `['10', '10.5', '11']`, with index set to `[3,4,5]`. How would you get the second element in your series?"
   ]
  },
  {
   "cell_type": "code",
   "execution_count": null,
   "id": "7247b0eb",
   "metadata": {},
   "outputs": [],
   "source": [
    "# #1\n",
    "# A pandas series object is a 1 dimensional array of indexed data.\n",
    "# Can hold data of any type, but each series must be comprised of only 1 data type"
   ]
  },
  {
   "cell_type": "code",
   "execution_count": null,
   "id": "4a74a6ab",
   "metadata": {},
   "outputs": [],
   "source": [
    "# only one datatype for the values in a single series instance"
   ]
  },
  {
   "cell_type": "code",
   "execution_count": 34,
   "id": "d260c344",
   "metadata": {},
   "outputs": [
    {
     "data": {
      "text/plain": [
       "0    10.0\n",
       "1    10.5\n",
       "2    11.0\n",
       "dtype: float64"
      ]
     },
     "metadata": {},
     "output_type": "display_data"
    },
    {
     "name": "stdout",
     "output_type": "stream",
     "text": [
      "float64\n"
     ]
    }
   ],
   "source": [
    "\n",
    "my_tuple = (10, 10.5, 11)\n",
    "s1 = pd.Series(my_tuple)\n",
    "display(s1)\n",
    "print(s1.dtype)"
   ]
  },
  {
   "cell_type": "code",
   "execution_count": 35,
   "id": "74ac1bad",
   "metadata": {},
   "outputs": [
    {
     "name": "stdout",
     "output_type": "stream",
     "text": [
      "float64\n"
     ]
    },
    {
     "data": {
      "text/plain": [
       "0    10.0\n",
       "1    10.5\n",
       "2    11.0\n",
       "dtype: float64"
      ]
     },
     "metadata": {},
     "output_type": "display_data"
    }
   ],
   "source": [
    "\n",
    "# Creating a Series from a list\n",
    "s2 = pd.Series([10,10.5,11])\n",
    "print(s2.dtype)\n",
    "display(s2)"
   ]
  },
  {
   "cell_type": "code",
   "execution_count": 33,
   "id": "06f10b7d",
   "metadata": {},
   "outputs": [
    {
     "data": {
      "text/plain": [
       "3    10.0\n",
       "4    10.5\n",
       "5    11.0\n",
       "dtype: float64"
      ]
     },
     "metadata": {},
     "output_type": "display_data"
    },
    {
     "data": {
      "text/plain": [
       "10.5"
      ]
     },
     "execution_count": 33,
     "metadata": {},
     "output_type": "execute_result"
    }
   ],
   "source": [
    "s = pd.Series([10,10.5,11], index=[3,4,5])\n",
    "display(s)\n",
    "s[4]"
   ]
  },
  {
   "cell_type": "code",
   "execution_count": null,
   "id": "f74571bd",
   "metadata": {},
   "outputs": [],
   "source": []
  }
 ],
 "metadata": {
  "kernelspec": {
   "display_name": "Python 3 (ipykernel)",
   "language": "python",
   "name": "python3"
  },
  "language_info": {
   "codemirror_mode": {
    "name": "ipython",
    "version": 3
   },
   "file_extension": ".py",
   "mimetype": "text/x-python",
   "name": "python",
   "nbconvert_exporter": "python",
   "pygments_lexer": "ipython3",
   "version": "3.11.8"
  }
 },
 "nbformat": 4,
 "nbformat_minor": 5
}
