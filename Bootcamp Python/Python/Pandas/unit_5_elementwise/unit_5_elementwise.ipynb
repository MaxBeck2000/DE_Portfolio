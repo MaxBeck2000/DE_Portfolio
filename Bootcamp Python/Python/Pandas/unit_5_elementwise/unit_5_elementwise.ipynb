{
 "cells": [
  {
   "attachments": {},
   "cell_type": "markdown",
   "metadata": {},
   "source": [
    "# <font color=#14F278>Unit 5 - Element-Wise Operations</font>\n",
    "---\n",
    "\n",
    "## <font color=#14F278>1. Element-Wise Operations - Definition:</font>\n",
    "An <font color=#14F278>**Element-Wise Operation**</font> is an operation that can be easily distributed over the elements of a data container. One of the essential advantages of Pandas is its ability to perform quick element-wise operations.\n",
    "\n",
    "A subset of element-wise operations is the <font color=#14F278>**Universal Functions (ufunc)**</font> - they take an array of data and operate in an <font color=#14F278>**element-by-element**</font> fashion, producing another array of data. Pandas leverages **NumPy**'s universal functions, which inlcude <font color=#14F278>**addition, subtraction, multiplication, logs, exponentials,**</font> and many others. Important features of **ufuncs**:\n",
    "- index-aligned operations\n",
    "- quick - use when possible\n",
    "- available ufuncs can be found here: https://docs.scipy.org/doc/numpy/reference/ufuncs.html"
   ]
  },
  {
   "cell_type": "code",
   "execution_count": 1,
   "metadata": {},
   "outputs": [],
   "source": [
    "import pandas as pd\n",
    "import numpy as np"
   ]
  },
  {
   "attachments": {},
   "cell_type": "markdown",
   "metadata": {},
   "source": [
    "---\n",
    "## <font color=#14F278>2. The Reshape() Function:</font>\n",
    "\n",
    "Before exploring element-wise operations, let's take a look at a quick way of generating DataFrames. To do this, we will use the `reshape()` function:\n",
    "- it takes an <font color=#14F278>**array**</font> of data - arrays are NumPy objects - create via the `np.array()` function\n",
    "- it <font color=#14F278>**reshapes**</font> the array into rows and columns\n",
    "\n",
    "<center>\n",
    "    <div>\n",
    "        <img src=\"..\\images\\elementwise_001.png\"/>\n",
    "    </div>\n",
    "</center>\n"
   ]
  },
  {
   "cell_type": "code",
   "execution_count": 8,
   "metadata": {},
   "outputs": [],
   "source": [
    "# Create a function that generates a dataframe using the .reshape() function\n",
    "def make_df2():\n",
    "    data = np.array(range(10)).reshape(-1,2)\n",
    "    return pd.DataFrame(data, columns=['col1', 'col2'])"
   ]
  },
  {
   "cell_type": "code",
   "execution_count": 9,
   "metadata": {},
   "outputs": [
    {
     "data": {
      "text/html": [
       "<div>\n",
       "<style scoped>\n",
       "    .dataframe tbody tr th:only-of-type {\n",
       "        vertical-align: middle;\n",
       "    }\n",
       "\n",
       "    .dataframe tbody tr th {\n",
       "        vertical-align: top;\n",
       "    }\n",
       "\n",
       "    .dataframe thead th {\n",
       "        text-align: right;\n",
       "    }\n",
       "</style>\n",
       "<table border=\"1\" class=\"dataframe\">\n",
       "  <thead>\n",
       "    <tr style=\"text-align: right;\">\n",
       "      <th></th>\n",
       "      <th>col1</th>\n",
       "      <th>col2</th>\n",
       "    </tr>\n",
       "  </thead>\n",
       "  <tbody>\n",
       "    <tr>\n",
       "      <th>0</th>\n",
       "      <td>0</td>\n",
       "      <td>1</td>\n",
       "    </tr>\n",
       "    <tr>\n",
       "      <th>1</th>\n",
       "      <td>2</td>\n",
       "      <td>3</td>\n",
       "    </tr>\n",
       "    <tr>\n",
       "      <th>2</th>\n",
       "      <td>4</td>\n",
       "      <td>5</td>\n",
       "    </tr>\n",
       "    <tr>\n",
       "      <th>3</th>\n",
       "      <td>6</td>\n",
       "      <td>7</td>\n",
       "    </tr>\n",
       "    <tr>\n",
       "      <th>4</th>\n",
       "      <td>8</td>\n",
       "      <td>9</td>\n",
       "    </tr>\n",
       "  </tbody>\n",
       "</table>\n",
       "</div>"
      ],
      "text/plain": [
       "   col1  col2\n",
       "0     0     1\n",
       "1     2     3\n",
       "2     4     5\n",
       "3     6     7\n",
       "4     8     9"
      ]
     },
     "metadata": {},
     "output_type": "display_data"
    }
   ],
   "source": [
    "# Create a dataframe using the above function\n",
    "df = make_df2()\n",
    "display(df)"
   ]
  },
  {
   "cell_type": "code",
   "execution_count": 7,
   "metadata": {},
   "outputs": [
    {
     "data": {
      "text/html": [
       "<div>\n",
       "<style scoped>\n",
       "    .dataframe tbody tr th:only-of-type {\n",
       "        vertical-align: middle;\n",
       "    }\n",
       "\n",
       "    .dataframe tbody tr th {\n",
       "        vertical-align: top;\n",
       "    }\n",
       "\n",
       "    .dataframe thead th {\n",
       "        text-align: right;\n",
       "    }\n",
       "</style>\n",
       "<table border=\"1\" class=\"dataframe\">\n",
       "  <thead>\n",
       "    <tr style=\"text-align: right;\">\n",
       "      <th></th>\n",
       "      <th>col1</th>\n",
       "      <th>col2</th>\n",
       "    </tr>\n",
       "  </thead>\n",
       "  <tbody>\n",
       "    <tr>\n",
       "      <th>0</th>\n",
       "      <td>0</td>\n",
       "      <td>1</td>\n",
       "    </tr>\n",
       "    <tr>\n",
       "      <th>1</th>\n",
       "      <td>2</td>\n",
       "      <td>3</td>\n",
       "    </tr>\n",
       "    <tr>\n",
       "      <th>2</th>\n",
       "      <td>4</td>\n",
       "      <td>5</td>\n",
       "    </tr>\n",
       "    <tr>\n",
       "      <th>3</th>\n",
       "      <td>6</td>\n",
       "      <td>7</td>\n",
       "    </tr>\n",
       "    <tr>\n",
       "      <th>4</th>\n",
       "      <td>8</td>\n",
       "      <td>0</td>\n",
       "    </tr>\n",
       "  </tbody>\n",
       "</table>\n",
       "</div>"
      ],
      "text/plain": [
       "   col1  col2\n",
       "0     0     1\n",
       "1     2     3\n",
       "2     4     5\n",
       "3     6     7\n",
       "4     8     0"
      ]
     },
     "metadata": {},
     "output_type": "display_data"
    }
   ],
   "source": [
    "def make_df2():\n",
    "    data = np.resize(np.array(range(9)), 10).reshape(5,2)\n",
    "    return pd.DataFrame(data, columns=['col1', 'col2'])\n",
    "\n",
    "df = make_df2()\n",
    "display(df)"
   ]
  },
  {
   "attachments": {},
   "cell_type": "markdown",
   "metadata": {},
   "source": [
    "---\n",
    "## <font color=#14F278>3. Element-Wise Operations on Series:</font>\n",
    "\n",
    "A main characteristic of element-wise operations (and universal functions) is that they operate in an <font color=#14F278>**index-aligned fashion**</font>. Series are 1-dimensional objects, so the operation is applied along this dimension. Here we will try some basic math functions - note how they get distributed across the pairs of elements, sharing the same index:\n",
    "- <font color=#14F278>**addition**</font>: use the `+` sign or the `.add()` universal function\n",
    "- <font color=#14F278>**multiplication**</font>: use the `*` sign or the `.multiply()` universal function"
   ]
  },
  {
   "cell_type": "code",
   "execution_count": 10,
   "metadata": {},
   "outputs": [
    {
     "data": {
      "text/plain": [
       "0    9000\n",
       "1    9002\n",
       "2    9004\n",
       "3    9006\n",
       "4    9008\n",
       "Name: col1, dtype: int32"
      ]
     },
     "execution_count": 10,
     "metadata": {},
     "output_type": "execute_result"
    }
   ],
   "source": [
    "# Add a constant to a Series\n",
    "df['col1'] + 9000"
   ]
  },
  {
   "cell_type": "code",
   "execution_count": 11,
   "metadata": {},
   "outputs": [
    {
     "data": {
      "text/plain": [
       "0     1\n",
       "1     5\n",
       "2     9\n",
       "3    13\n",
       "4    17\n",
       "dtype: int32"
      ]
     },
     "execution_count": 11,
     "metadata": {},
     "output_type": "execute_result"
    }
   ],
   "source": [
    "# Add two Series together\n",
    "df['col1'] + df['col2']"
   ]
  },
  {
   "cell_type": "code",
   "execution_count": 12,
   "metadata": {},
   "outputs": [
    {
     "data": {
      "text/plain": [
       "0     1\n",
       "1     5\n",
       "2     9\n",
       "3    13\n",
       "4    17\n",
       "dtype: int32"
      ]
     },
     "execution_count": 12,
     "metadata": {},
     "output_type": "execute_result"
    }
   ],
   "source": [
    "# Alternatively, use the .add() ufunc\n",
    "df['col1'].add(df['col2'])"
   ]
  },
  {
   "cell_type": "code",
   "execution_count": 13,
   "metadata": {},
   "outputs": [
    {
     "data": {
      "text/plain": [
       "0     0\n",
       "1     6\n",
       "2    20\n",
       "3    42\n",
       "4    72\n",
       "dtype: int32"
      ]
     },
     "execution_count": 13,
     "metadata": {},
     "output_type": "execute_result"
    }
   ],
   "source": [
    "# Multiply two Series together\n",
    "df['col1']*df['col2']"
   ]
  },
  {
   "cell_type": "code",
   "execution_count": 14,
   "metadata": {},
   "outputs": [
    {
     "data": {
      "text/plain": [
       "0     0\n",
       "1     6\n",
       "2    20\n",
       "3    42\n",
       "4    72\n",
       "dtype: int32"
      ]
     },
     "execution_count": 14,
     "metadata": {},
     "output_type": "execute_result"
    }
   ],
   "source": [
    "# Alternatively, use the .multiply() ufunc\n",
    "df['col1'].multiply(df['col2'])"
   ]
  },
  {
   "attachments": {},
   "cell_type": "markdown",
   "metadata": {},
   "source": [
    "<font color=#FF8181>**Important:**</font> All of the above operations <font color=#FF8181>**produce a new Series Object**</font>. If you want to store this object into a variable (or a new column in a dataframe):\n",
    "- `s = df['col1'] + df['col2']` to store in a **stand-alone** variable\n",
    "- `df['col3] = df['col1'] + df['col2']` to store as a **column** in the orignial dataframe "
   ]
  },
  {
   "cell_type": "code",
   "execution_count": null,
   "metadata": {},
   "outputs": [],
   "source": [
    "# Let's store the sum of the two columns in a third column 'col3'\n",
    "df['col3'] = df['col1'] + df['col2']\n",
    "display(df)"
   ]
  },
  {
   "attachments": {},
   "cell_type": "markdown",
   "metadata": {},
   "source": [
    "---\n",
    "## <font color=#14F278>4. Element-Wise Operations on DataFrames:</font>\n",
    "\n",
    "Element-Wise functions on DataFrames operate in the same way as on Series. Again, we are looking into an index-aligned application - operations between 2 dataframes with different dimensions will result in a dataframe with the dimensions of the bigger one!"
   ]
  },
  {
   "cell_type": "code",
   "execution_count": 15,
   "metadata": {},
   "outputs": [
    {
     "data": {
      "text/html": [
       "<div>\n",
       "<style scoped>\n",
       "    .dataframe tbody tr th:only-of-type {\n",
       "        vertical-align: middle;\n",
       "    }\n",
       "\n",
       "    .dataframe tbody tr th {\n",
       "        vertical-align: top;\n",
       "    }\n",
       "\n",
       "    .dataframe thead th {\n",
       "        text-align: right;\n",
       "    }\n",
       "</style>\n",
       "<table border=\"1\" class=\"dataframe\">\n",
       "  <thead>\n",
       "    <tr style=\"text-align: right;\">\n",
       "      <th></th>\n",
       "      <th>col1</th>\n",
       "      <th>col2</th>\n",
       "    </tr>\n",
       "  </thead>\n",
       "  <tbody>\n",
       "    <tr>\n",
       "      <th>0</th>\n",
       "      <td>0</td>\n",
       "      <td>1</td>\n",
       "    </tr>\n",
       "    <tr>\n",
       "      <th>1</th>\n",
       "      <td>2</td>\n",
       "      <td>3</td>\n",
       "    </tr>\n",
       "    <tr>\n",
       "      <th>2</th>\n",
       "      <td>4</td>\n",
       "      <td>5</td>\n",
       "    </tr>\n",
       "    <tr>\n",
       "      <th>3</th>\n",
       "      <td>6</td>\n",
       "      <td>7</td>\n",
       "    </tr>\n",
       "    <tr>\n",
       "      <th>4</th>\n",
       "      <td>8</td>\n",
       "      <td>9</td>\n",
       "    </tr>\n",
       "  </tbody>\n",
       "</table>\n",
       "</div>"
      ],
      "text/plain": [
       "   col1  col2\n",
       "0     0     1\n",
       "1     2     3\n",
       "2     4     5\n",
       "3     6     7\n",
       "4     8     9"
      ]
     },
     "metadata": {},
     "output_type": "display_data"
    }
   ],
   "source": [
    "df = make_df2()\n",
    "display(df)"
   ]
  },
  {
   "cell_type": "code",
   "execution_count": 16,
   "metadata": {},
   "outputs": [
    {
     "data": {
      "text/html": [
       "<div>\n",
       "<style scoped>\n",
       "    .dataframe tbody tr th:only-of-type {\n",
       "        vertical-align: middle;\n",
       "    }\n",
       "\n",
       "    .dataframe tbody tr th {\n",
       "        vertical-align: top;\n",
       "    }\n",
       "\n",
       "    .dataframe thead th {\n",
       "        text-align: right;\n",
       "    }\n",
       "</style>\n",
       "<table border=\"1\" class=\"dataframe\">\n",
       "  <thead>\n",
       "    <tr style=\"text-align: right;\">\n",
       "      <th></th>\n",
       "      <th>col1</th>\n",
       "      <th>col2</th>\n",
       "    </tr>\n",
       "  </thead>\n",
       "  <tbody>\n",
       "    <tr>\n",
       "      <th>0</th>\n",
       "      <td>9000</td>\n",
       "      <td>9001</td>\n",
       "    </tr>\n",
       "    <tr>\n",
       "      <th>1</th>\n",
       "      <td>9002</td>\n",
       "      <td>9003</td>\n",
       "    </tr>\n",
       "    <tr>\n",
       "      <th>2</th>\n",
       "      <td>9004</td>\n",
       "      <td>9005</td>\n",
       "    </tr>\n",
       "    <tr>\n",
       "      <th>3</th>\n",
       "      <td>9006</td>\n",
       "      <td>9007</td>\n",
       "    </tr>\n",
       "    <tr>\n",
       "      <th>4</th>\n",
       "      <td>9008</td>\n",
       "      <td>9009</td>\n",
       "    </tr>\n",
       "  </tbody>\n",
       "</table>\n",
       "</div>"
      ],
      "text/plain": [
       "   col1  col2\n",
       "0  9000  9001\n",
       "1  9002  9003\n",
       "2  9004  9005\n",
       "3  9006  9007\n",
       "4  9008  9009"
      ]
     },
     "execution_count": 16,
     "metadata": {},
     "output_type": "execute_result"
    }
   ],
   "source": [
    "# DataFrame + scalar -- the scalar is added to all elements of the df\n",
    "df + 9000"
   ]
  },
  {
   "cell_type": "code",
   "execution_count": 17,
   "metadata": {},
   "outputs": [
    {
     "data": {
      "text/html": [
       "<div>\n",
       "<style scoped>\n",
       "    .dataframe tbody tr th:only-of-type {\n",
       "        vertical-align: middle;\n",
       "    }\n",
       "\n",
       "    .dataframe tbody tr th {\n",
       "        vertical-align: top;\n",
       "    }\n",
       "\n",
       "    .dataframe thead th {\n",
       "        text-align: right;\n",
       "    }\n",
       "</style>\n",
       "<table border=\"1\" class=\"dataframe\">\n",
       "  <thead>\n",
       "    <tr style=\"text-align: right;\">\n",
       "      <th></th>\n",
       "      <th>col1</th>\n",
       "      <th>col2</th>\n",
       "    </tr>\n",
       "  </thead>\n",
       "  <tbody>\n",
       "    <tr>\n",
       "      <th>0</th>\n",
       "      <td>1</td>\n",
       "      <td>3</td>\n",
       "    </tr>\n",
       "    <tr>\n",
       "      <th>1</th>\n",
       "      <td>3</td>\n",
       "      <td>5</td>\n",
       "    </tr>\n",
       "    <tr>\n",
       "      <th>2</th>\n",
       "      <td>5</td>\n",
       "      <td>7</td>\n",
       "    </tr>\n",
       "    <tr>\n",
       "      <th>3</th>\n",
       "      <td>7</td>\n",
       "      <td>9</td>\n",
       "    </tr>\n",
       "    <tr>\n",
       "      <th>4</th>\n",
       "      <td>9</td>\n",
       "      <td>11</td>\n",
       "    </tr>\n",
       "  </tbody>\n",
       "</table>\n",
       "</div>"
      ],
      "text/plain": [
       "   col1  col2\n",
       "0     1     3\n",
       "1     3     5\n",
       "2     5     7\n",
       "3     7     9\n",
       "4     9    11"
      ]
     },
     "execution_count": 17,
     "metadata": {},
     "output_type": "execute_result"
    }
   ],
   "source": [
    "# DataFrame + List -- operation called broadcasting\n",
    "# Adds 1 to all elements in col1 and 2 to all elements in col2\n",
    "df + [1,2] "
   ]
  },
  {
   "cell_type": "code",
   "execution_count": 18,
   "metadata": {},
   "outputs": [
    {
     "data": {
      "text/html": [
       "<div>\n",
       "<style scoped>\n",
       "    .dataframe tbody tr th:only-of-type {\n",
       "        vertical-align: middle;\n",
       "    }\n",
       "\n",
       "    .dataframe tbody tr th {\n",
       "        vertical-align: top;\n",
       "    }\n",
       "\n",
       "    .dataframe thead th {\n",
       "        text-align: right;\n",
       "    }\n",
       "</style>\n",
       "<table border=\"1\" class=\"dataframe\">\n",
       "  <thead>\n",
       "    <tr style=\"text-align: right;\">\n",
       "      <th></th>\n",
       "      <th>col1</th>\n",
       "      <th>col2</th>\n",
       "    </tr>\n",
       "  </thead>\n",
       "  <tbody>\n",
       "    <tr>\n",
       "      <th>0</th>\n",
       "      <td>0</td>\n",
       "      <td>2</td>\n",
       "    </tr>\n",
       "    <tr>\n",
       "      <th>1</th>\n",
       "      <td>4</td>\n",
       "      <td>6</td>\n",
       "    </tr>\n",
       "    <tr>\n",
       "      <th>2</th>\n",
       "      <td>8</td>\n",
       "      <td>10</td>\n",
       "    </tr>\n",
       "    <tr>\n",
       "      <th>3</th>\n",
       "      <td>12</td>\n",
       "      <td>14</td>\n",
       "    </tr>\n",
       "    <tr>\n",
       "      <th>4</th>\n",
       "      <td>16</td>\n",
       "      <td>18</td>\n",
       "    </tr>\n",
       "  </tbody>\n",
       "</table>\n",
       "</div>"
      ],
      "text/plain": [
       "   col1  col2\n",
       "0     0     2\n",
       "1     4     6\n",
       "2     8    10\n",
       "3    12    14\n",
       "4    16    18"
      ]
     },
     "execution_count": 18,
     "metadata": {},
     "output_type": "execute_result"
    }
   ],
   "source": [
    "# DataFrame + DataFrame -- sums fields of 1st df with their counterpart from 2nd df\n",
    "df + df"
   ]
  },
  {
   "attachments": {},
   "cell_type": "markdown",
   "metadata": {},
   "source": [
    "---\n",
    "## <font color=#14F278>5. Lambda Functions:</font>\n",
    "\n",
    "<font color=#14F278>**Lambda Functions**</font> (also known as **Anonymous Functions**) are a short-hand notation for function definitions, when the body of the function consists of <font color=#14F278>**only one statement**</font>. Lambda functions are great for defining simple functions, required for a single use. Additionally, they are great for <font color=#14F278>**chaining**</font> them with other functions, requiring a function as an argument.\n",
    "\n",
    "Syntax:\n",
    "`lambda x: <statement>`"
   ]
  },
  {
   "cell_type": "code",
   "execution_count": 19,
   "metadata": {},
   "outputs": [
    {
     "data": {
      "text/plain": [
       "64"
      ]
     },
     "execution_count": 19,
     "metadata": {},
     "output_type": "execute_result"
    }
   ],
   "source": [
    "# A world without lambda functions:\n",
    "def my_func(x):\n",
    "    return x**3\n",
    "\n",
    "my_func(4)"
   ]
  },
  {
   "cell_type": "code",
   "execution_count": 20,
   "metadata": {},
   "outputs": [
    {
     "data": {
      "text/plain": [
       "64"
      ]
     },
     "execution_count": 20,
     "metadata": {},
     "output_type": "execute_result"
    }
   ],
   "source": [
    "# The above can be written as a lambda function:\n",
    "my_func2 = lambda x: x**3\n",
    "my_func2(4)"
   ]
  },
  {
   "cell_type": "code",
   "execution_count": 21,
   "metadata": {},
   "outputs": [
    {
     "data": {
      "text/plain": [
       "10"
      ]
     },
     "execution_count": 21,
     "metadata": {},
     "output_type": "execute_result"
    }
   ],
   "source": [
    "# Lambda functions become potent when their statement contains other short-hand notations, such as the ternary operator\n",
    "# ternary operator = short if-else statement\n",
    "\n",
    "# A world without lambda functions:\n",
    "def my_func3(x,y):\n",
    "    if x>=y:\n",
    "        return x\n",
    "    else:\n",
    "        return y\n",
    "\n",
    "my_func3(5,10)"
   ]
  },
  {
   "cell_type": "code",
   "execution_count": null,
   "metadata": {},
   "outputs": [],
   "source": [
    "# The above can be written as a lambda function:\n",
    "my_func4 = lambda x,y: x if x>=y else y\n",
    "my_func4(5,10)"
   ]
  },
  {
   "cell_type": "code",
   "execution_count": 25,
   "metadata": {},
   "outputs": [
    {
     "data": {
      "text/plain": [
       "'a'"
      ]
     },
     "execution_count": 25,
     "metadata": {},
     "output_type": "execute_result"
    }
   ],
   "source": [
    "my_lambda = lambda name: str(name[0])\n",
    "my_lambda(('alskjdhsjdklss'))"
   ]
  },
  {
   "attachments": {},
   "cell_type": "markdown",
   "metadata": {},
   "source": [
    "---\n",
    "## <font color=#14F278>6. The `apply()` Method:</font>\n",
    "\n",
    "The `.apply()` method is used to <font color=#14F278>**apply an element-wise function**</font> to a <font color=#14F278>**Series**</font> or <font color=#14F278>**along one of the axes of a DataFrame**</font>.\n",
    "\n",
    "Syntax:\n",
    "- <font color=#14F278>**On a Seires**</font>: `series_name.apply(function)`\n",
    "- <font color=#14F278>**On a DataFrame**</font>: `df_name.apply(function, axis = ...)` where `axis = 0 (default)` or `axis = 1`\n",
    "\n",
    "Since __DataFrames__ are 2-dimensional, we need to instruct the `.apply()` method on which axis to perform the operation:\n",
    "- <font color=#14F278>**axis = 1**</font> - the operation is performed **across the columns** - result has a shape of a **column**\n",
    "- <font color=#14F278>**axis = 0**</font> - the operation is performed **across the rows** - the result has the shape of a **row**\n",
    "\n",
    "<font color=#FF8181>**Important:**</font> Note that the `apply()` method expects a **function** as an argument. This can either be **pre-defined** in the conventional way, or we can define it on the spot with as a **lambda function** (if possible)!\n"
   ]
  },
  {
   "attachments": {},
   "cell_type": "markdown",
   "metadata": {},
   "source": [
    "---\n",
    "### <font color=#14F278>6.1 `apply()` on Series:</font>"
   ]
  },
  {
   "cell_type": "code",
   "execution_count": 26,
   "metadata": {},
   "outputs": [
    {
     "data": {
      "text/html": [
       "<div>\n",
       "<style scoped>\n",
       "    .dataframe tbody tr th:only-of-type {\n",
       "        vertical-align: middle;\n",
       "    }\n",
       "\n",
       "    .dataframe tbody tr th {\n",
       "        vertical-align: top;\n",
       "    }\n",
       "\n",
       "    .dataframe thead th {\n",
       "        text-align: right;\n",
       "    }\n",
       "</style>\n",
       "<table border=\"1\" class=\"dataframe\">\n",
       "  <thead>\n",
       "    <tr style=\"text-align: right;\">\n",
       "      <th></th>\n",
       "      <th>col1</th>\n",
       "      <th>col2</th>\n",
       "    </tr>\n",
       "  </thead>\n",
       "  <tbody>\n",
       "    <tr>\n",
       "      <th>0</th>\n",
       "      <td>0</td>\n",
       "      <td>1</td>\n",
       "    </tr>\n",
       "    <tr>\n",
       "      <th>1</th>\n",
       "      <td>2</td>\n",
       "      <td>3</td>\n",
       "    </tr>\n",
       "    <tr>\n",
       "      <th>2</th>\n",
       "      <td>4</td>\n",
       "      <td>5</td>\n",
       "    </tr>\n",
       "    <tr>\n",
       "      <th>3</th>\n",
       "      <td>6</td>\n",
       "      <td>7</td>\n",
       "    </tr>\n",
       "    <tr>\n",
       "      <th>4</th>\n",
       "      <td>8</td>\n",
       "      <td>9</td>\n",
       "    </tr>\n",
       "  </tbody>\n",
       "</table>\n",
       "</div>"
      ],
      "text/plain": [
       "   col1  col2\n",
       "0     0     1\n",
       "1     2     3\n",
       "2     4     5\n",
       "3     6     7\n",
       "4     8     9"
      ]
     },
     "metadata": {},
     "output_type": "display_data"
    }
   ],
   "source": [
    "# Setting up our data\n",
    "df = make_df2()\n",
    "display(df)"
   ]
  },
  {
   "cell_type": "code",
   "execution_count": 27,
   "metadata": {},
   "outputs": [
    {
     "data": {
      "text/html": [
       "<div>\n",
       "<style scoped>\n",
       "    .dataframe tbody tr th:only-of-type {\n",
       "        vertical-align: middle;\n",
       "    }\n",
       "\n",
       "    .dataframe tbody tr th {\n",
       "        vertical-align: top;\n",
       "    }\n",
       "\n",
       "    .dataframe thead th {\n",
       "        text-align: right;\n",
       "    }\n",
       "</style>\n",
       "<table border=\"1\" class=\"dataframe\">\n",
       "  <thead>\n",
       "    <tr style=\"text-align: right;\">\n",
       "      <th></th>\n",
       "      <th>col1</th>\n",
       "      <th>col2</th>\n",
       "      <th>divisible_by_3</th>\n",
       "    </tr>\n",
       "  </thead>\n",
       "  <tbody>\n",
       "    <tr>\n",
       "      <th>0</th>\n",
       "      <td>0</td>\n",
       "      <td>1</td>\n",
       "      <td>no</td>\n",
       "    </tr>\n",
       "    <tr>\n",
       "      <th>1</th>\n",
       "      <td>2</td>\n",
       "      <td>3</td>\n",
       "      <td>yes</td>\n",
       "    </tr>\n",
       "    <tr>\n",
       "      <th>2</th>\n",
       "      <td>4</td>\n",
       "      <td>5</td>\n",
       "      <td>no</td>\n",
       "    </tr>\n",
       "    <tr>\n",
       "      <th>3</th>\n",
       "      <td>6</td>\n",
       "      <td>7</td>\n",
       "      <td>no</td>\n",
       "    </tr>\n",
       "    <tr>\n",
       "      <th>4</th>\n",
       "      <td>8</td>\n",
       "      <td>9</td>\n",
       "      <td>yes</td>\n",
       "    </tr>\n",
       "  </tbody>\n",
       "</table>\n",
       "</div>"
      ],
      "text/plain": [
       "   col1  col2 divisible_by_3\n",
       "0     0     1             no\n",
       "1     2     3            yes\n",
       "2     4     5             no\n",
       "3     6     7             no\n",
       "4     8     9            yes"
      ]
     },
     "metadata": {},
     "output_type": "display_data"
    }
   ],
   "source": [
    "# Using .apply method to square each element in a column -- recall lambda functions\n",
    "# When there is no supported ufunc, we can use the apply method to do element-wise operation\n",
    "\n",
    "# Here we are checking which values in 'col2' are divisible by 3\n",
    "df['divisible_by_3'] = df['col2'].apply(lambda x: 'yes' if x%3==0 else 'no') # if you use the name of an existing column it overwrites it\n",
    "display(df) "
   ]
  },
  {
   "attachments": {},
   "cell_type": "markdown",
   "metadata": {},
   "source": [
    "---\n",
    "### <font color=#14F278>6.2 `apply()` on DataFrames:</font>\n",
    "\n",
    "`.aaply()` can be applied in 3 different ways on DataFrames:\n",
    "- we can apply a function to each individual element (cell) in the DataFrame\n",
    "- we can apply a function across the rows of the dataframe, to produce a row\n",
    "- we can apply a function across the columns of the dataframe, to produce a column\n",
    "\n",
    "<center>\n",
    "    <div>\n",
    "        <img src=\"..\\images\\elementwise_002.png\"/>\n",
    "    </div>\n",
    "</center>\n",
    "\n",
    "\n",
    "<font color=#FF8181>**Warning:**</font> Always think about the object that the function argument takes, when applying `.apply()` on a particular axis!\n",
    "- if you want to produce an output that looks like a **column**, your function takes a **row** as argument\n",
    "- if you want to produce an output that looks like a **row**, your function takes a **column** as argument"
   ]
  },
  {
   "cell_type": "code",
   "execution_count": 28,
   "metadata": {},
   "outputs": [
    {
     "data": {
      "text/html": [
       "<div>\n",
       "<style scoped>\n",
       "    .dataframe tbody tr th:only-of-type {\n",
       "        vertical-align: middle;\n",
       "    }\n",
       "\n",
       "    .dataframe tbody tr th {\n",
       "        vertical-align: top;\n",
       "    }\n",
       "\n",
       "    .dataframe thead th {\n",
       "        text-align: right;\n",
       "    }\n",
       "</style>\n",
       "<table border=\"1\" class=\"dataframe\">\n",
       "  <thead>\n",
       "    <tr style=\"text-align: right;\">\n",
       "      <th></th>\n",
       "      <th>col1</th>\n",
       "      <th>col2</th>\n",
       "    </tr>\n",
       "  </thead>\n",
       "  <tbody>\n",
       "    <tr>\n",
       "      <th>0</th>\n",
       "      <td>0</td>\n",
       "      <td>1</td>\n",
       "    </tr>\n",
       "    <tr>\n",
       "      <th>1</th>\n",
       "      <td>2</td>\n",
       "      <td>3</td>\n",
       "    </tr>\n",
       "    <tr>\n",
       "      <th>2</th>\n",
       "      <td>4</td>\n",
       "      <td>5</td>\n",
       "    </tr>\n",
       "    <tr>\n",
       "      <th>3</th>\n",
       "      <td>6</td>\n",
       "      <td>7</td>\n",
       "    </tr>\n",
       "    <tr>\n",
       "      <th>4</th>\n",
       "      <td>8</td>\n",
       "      <td>9</td>\n",
       "    </tr>\n",
       "  </tbody>\n",
       "</table>\n",
       "</div>"
      ],
      "text/plain": [
       "   col1  col2\n",
       "0     0     1\n",
       "1     2     3\n",
       "2     4     5\n",
       "3     6     7\n",
       "4     8     9"
      ]
     },
     "metadata": {},
     "output_type": "display_data"
    }
   ],
   "source": [
    "# Setting up our data\n",
    "df = make_df2()\n",
    "display(df)"
   ]
  },
  {
   "cell_type": "code",
   "execution_count": 29,
   "metadata": {},
   "outputs": [
    {
     "data": {
      "text/html": [
       "<div>\n",
       "<style scoped>\n",
       "    .dataframe tbody tr th:only-of-type {\n",
       "        vertical-align: middle;\n",
       "    }\n",
       "\n",
       "    .dataframe tbody tr th {\n",
       "        vertical-align: top;\n",
       "    }\n",
       "\n",
       "    .dataframe thead th {\n",
       "        text-align: right;\n",
       "    }\n",
       "</style>\n",
       "<table border=\"1\" class=\"dataframe\">\n",
       "  <thead>\n",
       "    <tr style=\"text-align: right;\">\n",
       "      <th></th>\n",
       "      <th>col1</th>\n",
       "      <th>col2</th>\n",
       "    </tr>\n",
       "  </thead>\n",
       "  <tbody>\n",
       "    <tr>\n",
       "      <th>0</th>\n",
       "      <td>0</td>\n",
       "      <td>1</td>\n",
       "    </tr>\n",
       "    <tr>\n",
       "      <th>1</th>\n",
       "      <td>8</td>\n",
       "      <td>27</td>\n",
       "    </tr>\n",
       "    <tr>\n",
       "      <th>2</th>\n",
       "      <td>64</td>\n",
       "      <td>125</td>\n",
       "    </tr>\n",
       "    <tr>\n",
       "      <th>3</th>\n",
       "      <td>216</td>\n",
       "      <td>343</td>\n",
       "    </tr>\n",
       "    <tr>\n",
       "      <th>4</th>\n",
       "      <td>512</td>\n",
       "      <td>729</td>\n",
       "    </tr>\n",
       "  </tbody>\n",
       "</table>\n",
       "</div>"
      ],
      "text/plain": [
       "   col1  col2\n",
       "0     0     1\n",
       "1     8    27\n",
       "2    64   125\n",
       "3   216   343\n",
       "4   512   729"
      ]
     },
     "execution_count": 29,
     "metadata": {},
     "output_type": "execute_result"
    }
   ],
   "source": [
    "# Applying a function to each element in our dataframe.\n",
    "df.apply(lambda x: x**3)"
   ]
  },
  {
   "cell_type": "code",
   "execution_count": 30,
   "metadata": {},
   "outputs": [
    {
     "data": {
      "text/plain": [
       "col1    20\n",
       "col2    25\n",
       "dtype: int64"
      ]
     },
     "execution_count": 30,
     "metadata": {},
     "output_type": "execute_result"
    }
   ],
   "source": [
    "# Using .apply with axis=0\n",
    "df.apply(lambda col: sum(col), axis=0)"
   ]
  },
  {
   "cell_type": "code",
   "execution_count": 31,
   "metadata": {},
   "outputs": [
    {
     "data": {
      "text/plain": [
       "0     2\n",
       "1     8\n",
       "2    14\n",
       "3    20\n",
       "4    26\n",
       "dtype: int32"
      ]
     },
     "execution_count": 31,
     "metadata": {},
     "output_type": "execute_result"
    }
   ],
   "source": [
    "# Using .apply method to compute df['col1'] + 2*df['col2'] with axis = 1\n",
    "df.apply(lambda row: row['col1'] + 2*row['col2'], axis=1)"
   ]
  },
  {
   "attachments": {},
   "cell_type": "markdown",
   "metadata": {},
   "source": [
    "Using `.apply()` with `axis=1` is very common when you want to <font color=#14F278>**produce a new custom column**</font>, which is not easily created via simple universal functions. When the logic behind the construction of this custom column is too complicated, it might even be difficult to use `apply()` together with a `lambda` function.\n",
    "\n",
    "In such moments, you can simply <font color=#14F278>**define your own function**</font> and pass its name in the `.apply()` method. \n",
    "\n",
    "Example:\n",
    "- Suppose we have a dataset of clients and their Risk Profile and Risk Budget\n",
    "- Both Risk Profile and Risk Budget are numericals (1 to 5)\n",
    "- We need to translate these numbers to categories - 'very low', 'low', 'medium', 'high', 'very high'\n",
    "- Additionally we need to bin clients in 3 groups - 'RP>RB', 'RP=RB', 'RP<RB'"
   ]
  },
  {
   "cell_type": "code",
   "execution_count": 32,
   "metadata": {},
   "outputs": [
    {
     "data": {
      "text/html": [
       "<div>\n",
       "<style scoped>\n",
       "    .dataframe tbody tr th:only-of-type {\n",
       "        vertical-align: middle;\n",
       "    }\n",
       "\n",
       "    .dataframe tbody tr th {\n",
       "        vertical-align: top;\n",
       "    }\n",
       "\n",
       "    .dataframe thead th {\n",
       "        text-align: right;\n",
       "    }\n",
       "</style>\n",
       "<table border=\"1\" class=\"dataframe\">\n",
       "  <thead>\n",
       "    <tr style=\"text-align: right;\">\n",
       "      <th></th>\n",
       "      <th>client</th>\n",
       "      <th>risk_profile</th>\n",
       "      <th>risk_budget</th>\n",
       "    </tr>\n",
       "  </thead>\n",
       "  <tbody>\n",
       "    <tr>\n",
       "      <th>0</th>\n",
       "      <td>Adams</td>\n",
       "      <td>3</td>\n",
       "      <td>4</td>\n",
       "    </tr>\n",
       "    <tr>\n",
       "      <th>1</th>\n",
       "      <td>White</td>\n",
       "      <td>5</td>\n",
       "      <td>4</td>\n",
       "    </tr>\n",
       "    <tr>\n",
       "      <th>2</th>\n",
       "      <td>McDonald</td>\n",
       "      <td>1</td>\n",
       "      <td>3</td>\n",
       "    </tr>\n",
       "    <tr>\n",
       "      <th>3</th>\n",
       "      <td>Hirani</td>\n",
       "      <td>3</td>\n",
       "      <td>5</td>\n",
       "    </tr>\n",
       "    <tr>\n",
       "      <th>4</th>\n",
       "      <td>Jackson</td>\n",
       "      <td>2</td>\n",
       "      <td>2</td>\n",
       "    </tr>\n",
       "  </tbody>\n",
       "</table>\n",
       "</div>"
      ],
      "text/plain": [
       "     client  risk_profile  risk_budget\n",
       "0     Adams             3            4\n",
       "1     White             5            4\n",
       "2  McDonald             1            3\n",
       "3    Hirani             3            5\n",
       "4   Jackson             2            2"
      ]
     },
     "metadata": {},
     "output_type": "display_data"
    }
   ],
   "source": [
    "data = {'client':['Adams', 'White', 'McDonald', 'Hirani', 'Jackson'],\n",
    "         'risk_profile':[3,5,1,3,2],\n",
    "         'risk_budget':[4,4,3,5,2]}\n",
    "df = pd.DataFrame(data)\n",
    "display(df)"
   ]
  },
  {
   "cell_type": "code",
   "execution_count": 33,
   "metadata": {},
   "outputs": [],
   "source": [
    "# Define 2 functions that converts numericals to risk categories\n",
    "\n",
    "def rp_category(row):\n",
    "    if row['risk_profile'] == 1:\n",
    "        value = 'very low'\n",
    "    elif row['risk_profile'] == 2:\n",
    "        value = 'low'\n",
    "    elif row['risk_profile'] == 3:\n",
    "        value = 'medium'\n",
    "    elif row['risk_profile'] == 4:\n",
    "        value = 'high'\n",
    "    elif row['risk_profile'] == 5:\n",
    "        value = 'very high'\n",
    "    else:\n",
    "        value = 'NA'\n",
    "    return value\n",
    "\n",
    "\n",
    "def rb_category(row):\n",
    "    if row['risk_budget'] == 1:\n",
    "        value = 'very low'\n",
    "    elif row['risk_budget'] == 2:\n",
    "        value = 'low'\n",
    "    elif row['risk_budget'] == 3:\n",
    "        value = 'medium'\n",
    "    elif row['risk_budget'] == 4:\n",
    "        value = 'high'\n",
    "    elif row['risk_budget'] == 5:\n",
    "        value = 'very high'\n",
    "    else:\n",
    "        value = 'NA'\n",
    "    return value"
   ]
  },
  {
   "cell_type": "code",
   "execution_count": 34,
   "metadata": {},
   "outputs": [
    {
     "data": {
      "text/html": [
       "<div>\n",
       "<style scoped>\n",
       "    .dataframe tbody tr th:only-of-type {\n",
       "        vertical-align: middle;\n",
       "    }\n",
       "\n",
       "    .dataframe tbody tr th {\n",
       "        vertical-align: top;\n",
       "    }\n",
       "\n",
       "    .dataframe thead th {\n",
       "        text-align: right;\n",
       "    }\n",
       "</style>\n",
       "<table border=\"1\" class=\"dataframe\">\n",
       "  <thead>\n",
       "    <tr style=\"text-align: right;\">\n",
       "      <th></th>\n",
       "      <th>client</th>\n",
       "      <th>risk_profile</th>\n",
       "      <th>risk_budget</th>\n",
       "      <th>rp_cat</th>\n",
       "      <th>rb_cat</th>\n",
       "    </tr>\n",
       "  </thead>\n",
       "  <tbody>\n",
       "    <tr>\n",
       "      <th>0</th>\n",
       "      <td>Adams</td>\n",
       "      <td>3</td>\n",
       "      <td>4</td>\n",
       "      <td>medium</td>\n",
       "      <td>high</td>\n",
       "    </tr>\n",
       "    <tr>\n",
       "      <th>1</th>\n",
       "      <td>White</td>\n",
       "      <td>5</td>\n",
       "      <td>4</td>\n",
       "      <td>very high</td>\n",
       "      <td>high</td>\n",
       "    </tr>\n",
       "    <tr>\n",
       "      <th>2</th>\n",
       "      <td>McDonald</td>\n",
       "      <td>1</td>\n",
       "      <td>3</td>\n",
       "      <td>very low</td>\n",
       "      <td>medium</td>\n",
       "    </tr>\n",
       "    <tr>\n",
       "      <th>3</th>\n",
       "      <td>Hirani</td>\n",
       "      <td>3</td>\n",
       "      <td>5</td>\n",
       "      <td>medium</td>\n",
       "      <td>very high</td>\n",
       "    </tr>\n",
       "    <tr>\n",
       "      <th>4</th>\n",
       "      <td>Jackson</td>\n",
       "      <td>2</td>\n",
       "      <td>2</td>\n",
       "      <td>low</td>\n",
       "      <td>low</td>\n",
       "    </tr>\n",
       "  </tbody>\n",
       "</table>\n",
       "</div>"
      ],
      "text/plain": [
       "     client  risk_profile  risk_budget     rp_cat     rb_cat\n",
       "0     Adams             3            4     medium       high\n",
       "1     White             5            4  very high       high\n",
       "2  McDonald             1            3   very low     medium\n",
       "3    Hirani             3            5     medium  very high\n",
       "4   Jackson             2            2        low        low"
      ]
     },
     "metadata": {},
     "output_type": "display_data"
    }
   ],
   "source": [
    "# Apply the functions to the dataframe to create 2 new columns\n",
    "\n",
    "df['rp_cat'] = df.apply(rp_category, axis = 1) # y column (axis = 1)\n",
    "df['rb_cat'] = df.apply(rb_category, axis = 1)\n",
    "display(df)"
   ]
  },
  {
   "attachments": {},
   "cell_type": "markdown",
   "metadata": {},
   "source": [
    "We can make this even more **efficient** by adding the column name that needs transforming as an <font color=#14F278>**argument to the function definition**</font> - this allows us to <font color=#14F278>**refactor**</font> the above 2 function definitions into 1 function - `risk_category()`:"
   ]
  },
  {
   "cell_type": "code",
   "execution_count": 35,
   "metadata": {},
   "outputs": [
    {
     "data": {
      "text/html": [
       "<div>\n",
       "<style scoped>\n",
       "    .dataframe tbody tr th:only-of-type {\n",
       "        vertical-align: middle;\n",
       "    }\n",
       "\n",
       "    .dataframe tbody tr th {\n",
       "        vertical-align: top;\n",
       "    }\n",
       "\n",
       "    .dataframe thead th {\n",
       "        text-align: right;\n",
       "    }\n",
       "</style>\n",
       "<table border=\"1\" class=\"dataframe\">\n",
       "  <thead>\n",
       "    <tr style=\"text-align: right;\">\n",
       "      <th></th>\n",
       "      <th>client</th>\n",
       "      <th>risk_profile</th>\n",
       "      <th>risk_budget</th>\n",
       "    </tr>\n",
       "  </thead>\n",
       "  <tbody>\n",
       "    <tr>\n",
       "      <th>0</th>\n",
       "      <td>Adams</td>\n",
       "      <td>3</td>\n",
       "      <td>4</td>\n",
       "    </tr>\n",
       "    <tr>\n",
       "      <th>1</th>\n",
       "      <td>White</td>\n",
       "      <td>5</td>\n",
       "      <td>4</td>\n",
       "    </tr>\n",
       "    <tr>\n",
       "      <th>2</th>\n",
       "      <td>McDonald</td>\n",
       "      <td>1</td>\n",
       "      <td>3</td>\n",
       "    </tr>\n",
       "    <tr>\n",
       "      <th>3</th>\n",
       "      <td>Hirani</td>\n",
       "      <td>3</td>\n",
       "      <td>5</td>\n",
       "    </tr>\n",
       "    <tr>\n",
       "      <th>4</th>\n",
       "      <td>Jackson</td>\n",
       "      <td>2</td>\n",
       "      <td>2</td>\n",
       "    </tr>\n",
       "  </tbody>\n",
       "</table>\n",
       "</div>"
      ],
      "text/plain": [
       "     client  risk_profile  risk_budget\n",
       "0     Adams             3            4\n",
       "1     White             5            4\n",
       "2  McDonald             1            3\n",
       "3    Hirani             3            5\n",
       "4   Jackson             2            2"
      ]
     },
     "metadata": {},
     "output_type": "display_data"
    }
   ],
   "source": [
    "data = {'client':['Adams', 'White', 'McDonald', 'Hirani', 'Jackson'],\n",
    "         'risk_profile':[3,5,1,3,2],\n",
    "         'risk_budget':[4,4,3,5,2]}\n",
    "df = pd.DataFrame(data)\n",
    "display(df)"
   ]
  },
  {
   "cell_type": "code",
   "execution_count": 36,
   "metadata": {},
   "outputs": [],
   "source": [
    "# We can make this even more efficient by adding the column name that needs transforming as an argument\n",
    "# to the function definition - this allows us to refactor the above 2 function definitions into 1\n",
    "\n",
    "def risk_category(row, column_name):\n",
    "    if row[column_name] == 1:\n",
    "        value = 'very low'\n",
    "    elif row[column_name] == 2:\n",
    "        value = 'low'\n",
    "    elif row[column_name] == 3:\n",
    "        value = 'medium'\n",
    "    elif row[column_name] == 4:\n",
    "        value = 'high'\n",
    "    elif row[column_name] == 5:\n",
    "        value = 'very high'\n",
    "    else:\n",
    "        value = 'NA'\n",
    "    return value"
   ]
  },
  {
   "cell_type": "code",
   "execution_count": 37,
   "metadata": {},
   "outputs": [
    {
     "data": {
      "text/html": [
       "<div>\n",
       "<style scoped>\n",
       "    .dataframe tbody tr th:only-of-type {\n",
       "        vertical-align: middle;\n",
       "    }\n",
       "\n",
       "    .dataframe tbody tr th {\n",
       "        vertical-align: top;\n",
       "    }\n",
       "\n",
       "    .dataframe thead th {\n",
       "        text-align: right;\n",
       "    }\n",
       "</style>\n",
       "<table border=\"1\" class=\"dataframe\">\n",
       "  <thead>\n",
       "    <tr style=\"text-align: right;\">\n",
       "      <th></th>\n",
       "      <th>client</th>\n",
       "      <th>risk_profile</th>\n",
       "      <th>risk_budget</th>\n",
       "      <th>rp_cat</th>\n",
       "      <th>rb_cat</th>\n",
       "    </tr>\n",
       "  </thead>\n",
       "  <tbody>\n",
       "    <tr>\n",
       "      <th>0</th>\n",
       "      <td>Adams</td>\n",
       "      <td>3</td>\n",
       "      <td>4</td>\n",
       "      <td>medium</td>\n",
       "      <td>high</td>\n",
       "    </tr>\n",
       "    <tr>\n",
       "      <th>1</th>\n",
       "      <td>White</td>\n",
       "      <td>5</td>\n",
       "      <td>4</td>\n",
       "      <td>very high</td>\n",
       "      <td>high</td>\n",
       "    </tr>\n",
       "    <tr>\n",
       "      <th>2</th>\n",
       "      <td>McDonald</td>\n",
       "      <td>1</td>\n",
       "      <td>3</td>\n",
       "      <td>very low</td>\n",
       "      <td>medium</td>\n",
       "    </tr>\n",
       "    <tr>\n",
       "      <th>3</th>\n",
       "      <td>Hirani</td>\n",
       "      <td>3</td>\n",
       "      <td>5</td>\n",
       "      <td>medium</td>\n",
       "      <td>very high</td>\n",
       "    </tr>\n",
       "    <tr>\n",
       "      <th>4</th>\n",
       "      <td>Jackson</td>\n",
       "      <td>2</td>\n",
       "      <td>2</td>\n",
       "      <td>low</td>\n",
       "      <td>low</td>\n",
       "    </tr>\n",
       "  </tbody>\n",
       "</table>\n",
       "</div>"
      ],
      "text/plain": [
       "     client  risk_profile  risk_budget     rp_cat     rb_cat\n",
       "0     Adams             3            4     medium       high\n",
       "1     White             5            4  very high       high\n",
       "2  McDonald             1            3   very low     medium\n",
       "3    Hirani             3            5     medium  very high\n",
       "4   Jackson             2            2        low        low"
      ]
     },
     "metadata": {},
     "output_type": "display_data"
    }
   ],
   "source": [
    "# pass the extra column_name argument value in the .apply() call\n",
    "df['rp_cat'] = df.apply(risk_category, axis = 1, column_name = 'risk_profile')\n",
    "df['rb_cat'] = df.apply(risk_category, axis = 1, column_name = 'risk_budget')\n",
    "display(df)"
   ]
  },
  {
   "cell_type": "code",
   "execution_count": 48,
   "metadata": {},
   "outputs": [],
   "source": [
    "# Lastly, build a function that bins the clients by comparing Risk Profile to Risk Budget:\n",
    "# Write your code here\n",
    "# TODO Look at thjis code very useful. Remember to reference row[] and return the value\n",
    "def compare_risk(row, risk_budg, risk_prof):\n",
    "    if row[risk_budg] > row[risk_prof]:\n",
    "        value = 'non-risky'\n",
    "    elif row[risk_budg] == row[risk_prof]:\n",
    "        value = 'semi-risky'\n",
    "    elif row[risk_budg] < row[risk_prof]:\n",
    "        value = 'risky'\n",
    "\n",
    "    return value\n",
    "\n",
    "    "
   ]
  },
  {
   "cell_type": "code",
   "execution_count": 49,
   "metadata": {},
   "outputs": [
    {
     "data": {
      "text/html": [
       "<div>\n",
       "<style scoped>\n",
       "    .dataframe tbody tr th:only-of-type {\n",
       "        vertical-align: middle;\n",
       "    }\n",
       "\n",
       "    .dataframe tbody tr th {\n",
       "        vertical-align: top;\n",
       "    }\n",
       "\n",
       "    .dataframe thead th {\n",
       "        text-align: right;\n",
       "    }\n",
       "</style>\n",
       "<table border=\"1\" class=\"dataframe\">\n",
       "  <thead>\n",
       "    <tr style=\"text-align: right;\">\n",
       "      <th></th>\n",
       "      <th>client</th>\n",
       "      <th>risk_profile</th>\n",
       "      <th>risk_budget</th>\n",
       "      <th>rp_cat</th>\n",
       "      <th>rb_cat</th>\n",
       "      <th>risk_summary</th>\n",
       "    </tr>\n",
       "  </thead>\n",
       "  <tbody>\n",
       "    <tr>\n",
       "      <th>0</th>\n",
       "      <td>Adams</td>\n",
       "      <td>3</td>\n",
       "      <td>4</td>\n",
       "      <td>medium</td>\n",
       "      <td>high</td>\n",
       "      <td>non-risky</td>\n",
       "    </tr>\n",
       "    <tr>\n",
       "      <th>1</th>\n",
       "      <td>White</td>\n",
       "      <td>5</td>\n",
       "      <td>4</td>\n",
       "      <td>very high</td>\n",
       "      <td>high</td>\n",
       "      <td>risky</td>\n",
       "    </tr>\n",
       "    <tr>\n",
       "      <th>2</th>\n",
       "      <td>McDonald</td>\n",
       "      <td>1</td>\n",
       "      <td>3</td>\n",
       "      <td>very low</td>\n",
       "      <td>medium</td>\n",
       "      <td>non-risky</td>\n",
       "    </tr>\n",
       "    <tr>\n",
       "      <th>3</th>\n",
       "      <td>Hirani</td>\n",
       "      <td>3</td>\n",
       "      <td>5</td>\n",
       "      <td>medium</td>\n",
       "      <td>very high</td>\n",
       "      <td>non-risky</td>\n",
       "    </tr>\n",
       "    <tr>\n",
       "      <th>4</th>\n",
       "      <td>Jackson</td>\n",
       "      <td>2</td>\n",
       "      <td>2</td>\n",
       "      <td>low</td>\n",
       "      <td>low</td>\n",
       "      <td>semi-risky</td>\n",
       "    </tr>\n",
       "  </tbody>\n",
       "</table>\n",
       "</div>"
      ],
      "text/plain": [
       "     client  risk_profile  risk_budget     rp_cat     rb_cat risk_summary\n",
       "0     Adams             3            4     medium       high    non-risky\n",
       "1     White             5            4  very high       high        risky\n",
       "2  McDonald             1            3   very low     medium    non-risky\n",
       "3    Hirani             3            5     medium  very high    non-risky\n",
       "4   Jackson             2            2        low        low   semi-risky"
      ]
     },
     "metadata": {},
     "output_type": "display_data"
    }
   ],
   "source": [
    "df['risk_summary'] = df.apply(compare_risk, axis = 1, risk_budg = 'risk_budget', risk_prof = 'risk_profile')\n",
    "display(df)"
   ]
  },
  {
   "attachments": {},
   "cell_type": "markdown",
   "metadata": {},
   "source": [
    "---\n",
    "## <font color=#14F278> 7. Summary:</font>\n",
    "- An __Element-Wise Opeartion__ is an operation that can easily be distributed over the elements of a data container\n",
    "- Pandas leverages on __NumPy's universal functions__, which include addition, subtraction, multiplication, logs, exponentials, etc\n",
    "- The __.apply()__ method is used to apply an element-wise function to a Series or along one of the axes of a DataFrame - a great tool to use when there is no ufunc existing for the operation we want to conduct!"
   ]
  },
  {
   "attachments": {},
   "cell_type": "markdown",
   "metadata": {},
   "source": [
    "---\n",
    "## <font color=#FF8181> 8. Concept Check: </font>\n",
    "\n",
    "1. If you use df.apply(..., axis=0), what is the shape of the output? Suppose df.shape = (10,5)\n",
    "2. If you use df.apply(..., axis=1), what is the shape of the output? Suppose df.shape = (10,5)\n",
    "3. Use .apply on a series. The input to the function is x. If x is even, return 0. Else, return x.\n",
    "    - Eg. `pd.Series([1,2,3,4,5])` -> `[1,0,3,0,5]`\n",
    "4. Suppose you had a dataframe `df = pd.DataFrame({'currency':['USD','AUD','USD'], 'amount':[100,200,300]})`. Use the apply method to get a column with the amounts in GBP.\n",
    "   - To go from AUD to GBP, divide by 1.94.\n",
    "   - To go from USD to GBP, divide by 1.32.\n",
    "5. Compare the time it takes to use apply vs a ufunc. Use %timeit."
   ]
  },
  {
   "cell_type": "code",
   "execution_count": null,
   "metadata": {},
   "outputs": [],
   "source": [
    "#1 axis = 0, the shape of the output would be the shape of the row, so (1,5)\n",
    "#2 axis = 1, the shape of the output would be the shape of the column, so (10,1)"
   ]
  },
  {
   "cell_type": "code",
   "execution_count": 71,
   "metadata": {},
   "outputs": [
    {
     "data": {
      "text/plain": [
       "0    1\n",
       "1    0\n",
       "2    3\n",
       "3    0\n",
       "4    5\n",
       "dtype: object"
      ]
     },
     "metadata": {},
     "output_type": "display_data"
    }
   ],
   "source": [
    "#3\n",
    "import pandas as pd\n",
    "\n",
    "df = pd.Series([1,2,3,4,5])\n",
    "df['even'] = df.apply(lambda x: '0' if x % 2 == 0 else x)\n",
    "display(df['even'])\n"
   ]
  },
  {
   "cell_type": "code",
   "execution_count": 96,
   "metadata": {},
   "outputs": [
    {
     "data": {
      "text/html": [
       "<div>\n",
       "<style scoped>\n",
       "    .dataframe tbody tr th:only-of-type {\n",
       "        vertical-align: middle;\n",
       "    }\n",
       "\n",
       "    .dataframe tbody tr th {\n",
       "        vertical-align: top;\n",
       "    }\n",
       "\n",
       "    .dataframe thead th {\n",
       "        text-align: right;\n",
       "    }\n",
       "</style>\n",
       "<table border=\"1\" class=\"dataframe\">\n",
       "  <thead>\n",
       "    <tr style=\"text-align: right;\">\n",
       "      <th></th>\n",
       "      <th>currency</th>\n",
       "      <th>amount</th>\n",
       "      <th>GBP</th>\n",
       "    </tr>\n",
       "  </thead>\n",
       "  <tbody>\n",
       "    <tr>\n",
       "      <th>0</th>\n",
       "      <td>USD</td>\n",
       "      <td>100</td>\n",
       "      <td>75.757576</td>\n",
       "    </tr>\n",
       "    <tr>\n",
       "      <th>1</th>\n",
       "      <td>AUD</td>\n",
       "      <td>200</td>\n",
       "      <td>103.092784</td>\n",
       "    </tr>\n",
       "    <tr>\n",
       "      <th>2</th>\n",
       "      <td>USD</td>\n",
       "      <td>300</td>\n",
       "      <td>227.272727</td>\n",
       "    </tr>\n",
       "  </tbody>\n",
       "</table>\n",
       "</div>"
      ],
      "text/plain": [
       "  currency  amount         GBP\n",
       "0      USD     100   75.757576\n",
       "1      AUD     200  103.092784\n",
       "2      USD     300  227.272727"
      ]
     },
     "metadata": {},
     "output_type": "display_data"
    }
   ],
   "source": [
    "#4\n",
    "df = pd.DataFrame({'currency':['USD','AUD','USD'], 'amount':[100,200,300]})\n",
    "\n",
    "def convert(row, currency, amount):\n",
    "    if row[currency] == 'USD':\n",
    "        GBP = row[amount] / 1.32\n",
    "    elif row[currency] == 'AUD':\n",
    "        GBP = row[amount] / 1.94\n",
    "    return GBP\n",
    "\n",
    "df['GBP'] = df.apply(convert, axis = 1, currency = 'currency', amount = 'amount')\n",
    "display(df)\n",
    "\n",
    "\n",
    "# Different, faster solution\n",
    "# df['amount_gbp'] = df.apply(lambda row: row['amount']/1.94 if row['currency'] == 'AUD' else row['amount']/1.32, axis=1)\n",
    "# display(df)"
   ]
  },
  {
   "cell_type": "code",
   "execution_count": 93,
   "metadata": {},
   "outputs": [
    {
     "name": "stdout",
     "output_type": "stream",
     "text": [
      "3.53 ms ± 334 µs per loop (mean ± std. dev. of 7 runs, 100 loops each)\n"
     ]
    }
   ],
   "source": [
    "s = pd.Series(range(10000))\n",
    "%timeit s.apply(lambda x:x*10)"
   ]
  },
  {
   "cell_type": "code",
   "execution_count": 94,
   "metadata": {},
   "outputs": [
    {
     "name": "stdout",
     "output_type": "stream",
     "text": [
      "54.8 µs ± 3.79 µs per loop (mean ± std. dev. of 7 runs, 10,000 loops each)\n"
     ]
    }
   ],
   "source": [
    "s = pd.Series(range(10000))\n",
    "%timeit s*10"
   ]
  }
 ],
 "metadata": {
  "kernelspec": {
   "display_name": "base",
   "language": "python",
   "name": "python3"
  },
  "language_info": {
   "codemirror_mode": {
    "name": "ipython",
    "version": 3
   },
   "file_extension": ".py",
   "mimetype": "text/x-python",
   "name": "python",
   "nbconvert_exporter": "python",
   "pygments_lexer": "ipython3",
   "version": "3.11.8"
  },
  "orig_nbformat": 4
 },
 "nbformat": 4,
 "nbformat_minor": 2
}
