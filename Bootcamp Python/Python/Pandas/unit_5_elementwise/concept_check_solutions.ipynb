{
 "cells": [
  {
   "attachments": {},
   "cell_type": "markdown",
   "id": "a063da1e",
   "metadata": {},
   "source": [
    "---\n",
    "## <font color=#FF8181>Unit 5 - Concept Check: </font>\n",
    "\n",
    "1. If you use df.apply(..., axis=0), what is the shape of the output? Suppose df.shape = (10,5)\n",
    "2. If you use df.apply(..., axis=1), what is the shape of the output? Suppose df.shape = (10,5)\n",
    "3. Use .apply on a series. The input to the function is x. If x is even, return 0. Else, return x.\n",
    "    - Eg. `pd.Series([1,2,3,4,5])` -> `[1,0,3,0,5]`\n",
    "4. Suppose you had a dataframe `df = pd.DataFrame({'currency':['USD','AUD','USD'], 'amount':[100,200,300]})`. Use the apply method to get a column with the amounts in GBP.\n",
    "   - To go from AUD to GBP, divide by 1.94.\n",
    "   - To go from USD to GBP, divide by 1.32.\n",
    "5. Compare the time it takes to use apply vs a ufunc. Use %timeit."
   ]
  },
  {
   "attachments": {},
   "cell_type": "markdown",
   "id": "f4cd1453",
   "metadata": {},
   "source": [
    "---\n",
    "### <font color=#14F278> Solutions: </font>"
   ]
  },
  {
   "cell_type": "code",
   "execution_count": null,
   "id": "b6e7a6bf",
   "metadata": {},
   "outputs": [],
   "source": [
    "import pandas as pd\n",
    "import numpy as np"
   ]
  },
  {
   "cell_type": "code",
   "execution_count": null,
   "id": "0cabd237",
   "metadata": {},
   "outputs": [],
   "source": [
    "# 1) If you use df.apply(axis = 0) what is the shape of the output? Suppose df.shape = (10,5)\n",
    "# df.shape(10,5) suggests that this is a DataFrame with 10 rows and 5 columns\n",
    "# .apply(axis = 0) performs the operation across rows --> the output has the shape of a row\n",
    "# in that sense, df.apply(axis = 0) will have a shape (1,5)\n",
    "\n",
    "# NB: Although it looks like a row, the object will be stored as a Series, so the initial shape will be (5,).\n",
    "# however, this can be transposed to look like a (1,5) dataframe (i.e. a row)"
   ]
  },
  {
   "cell_type": "code",
   "execution_count": null,
   "id": "33c30988",
   "metadata": {},
   "outputs": [],
   "source": [
    "# 2) If you use df.apply(axis = 1) what is the shape of the output? Suppose df.shape = (10,5)\n",
    "# df.shape(10,5) suggests that this is a DataFrame with 10 rows and 5 columns\n",
    "# .apply(axis = 1) performs the operation across columns --> the output has the shape of a column\n",
    "# in that sense, df.apply(axis = 1) will have a shape (10,1)\n",
    "\n",
    "# NB: The object will be stored initially as a Series, so its shape will be (10,),\n",
    "# however, we can always store this into a DataFrame with a shape (10,1)"
   ]
  },
  {
   "cell_type": "code",
   "execution_count": null,
   "id": "cbb0a27b",
   "metadata": {},
   "outputs": [],
   "source": [
    "# 3) Use .apply() on a Series - the input is x; the output is 0 if x is even, otherwise the output is x\n",
    "s = pd.Series([1,2,3,4,5])\n",
    "display(s)\n",
    "s.apply(lambda x: 0 if x%2==0 else x)"
   ]
  },
  {
   "cell_type": "code",
   "execution_count": null,
   "id": "7465e7c0",
   "metadata": {},
   "outputs": [],
   "source": [
    "# Alternative solution\n",
    "def zero_even(x):\n",
    "    if x%2==0:\n",
    "        return 0\n",
    "    else:\n",
    "        return x\n",
    "s.apply(zero_even)"
   ]
  },
  {
   "cell_type": "code",
   "execution_count": null,
   "id": "2895461b",
   "metadata": {},
   "outputs": [],
   "source": [
    "# 4) Suppose you have a DataFrame df. Use apply method to get a column with the amounts in GBP:\n",
    "df = pd.DataFrame({'currency':['USD','AUD','USD'], 'amount':[100,200,300]})\n",
    "display(df)\n"
   ]
  },
  {
   "cell_type": "code",
   "execution_count": null,
   "id": "19d33226",
   "metadata": {},
   "outputs": [],
   "source": [
    "\n",
    "df['amount_gbp'] = df.apply(lambda row: row['amount']/1.94 if row['currency'] == 'AUD' else row['amount']/1.32, axis=1)\n",
    "display(df)"
   ]
  },
  {
   "cell_type": "code",
   "execution_count": null,
   "id": "56284256",
   "metadata": {},
   "outputs": [],
   "source": [
    "# Alternative Solution\n",
    "def convert_to_gbp(row):    \n",
    "    if row['currency'] == 'AUD':\n",
    "        return row['amount'] / 1.94\n",
    "    else:\n",
    "        return row['amount'] / 1.32\n",
    "    \n",
    "df = pd.DataFrame({'currency':['USD','AUD','USD'], 'amount':[100,200,300]})\n",
    "df['amount_gbp'] = df.apply(convert_to_gbp, axis=1)\n",
    "df"
   ]
  },
  {
   "cell_type": "code",
   "execution_count": null,
   "id": "3afc520f",
   "metadata": {},
   "outputs": [],
   "source": [
    "# 5) Using %timeit, compare the time used by .apply() vs ufunc\n",
    "s = pd.Series(range(10000))\n",
    "%timeit s.apply(lambda x:x*10)"
   ]
  },
  {
   "cell_type": "code",
   "execution_count": null,
   "id": "ae62b227",
   "metadata": {},
   "outputs": [],
   "source": [
    "s = pd.Series(range(10000))\n",
    "%timeit s*10"
   ]
  }
 ],
 "metadata": {
  "kernelspec": {
   "display_name": "Python 3 (ipykernel)",
   "language": "python",
   "name": "python3"
  },
  "language_info": {
   "codemirror_mode": {
    "name": "ipython",
    "version": 3
   },
   "file_extension": ".py",
   "mimetype": "text/x-python",
   "name": "python",
   "nbconvert_exporter": "python",
   "pygments_lexer": "ipython3",
   "version": "3.9.7"
  }
 },
 "nbformat": 4,
 "nbformat_minor": 5
}
