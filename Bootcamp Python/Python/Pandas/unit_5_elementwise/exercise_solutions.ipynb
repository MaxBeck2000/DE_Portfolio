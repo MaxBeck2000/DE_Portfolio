{
 "cells": [
  {
   "attachments": {},
   "cell_type": "markdown",
   "id": "8751bd3e",
   "metadata": {},
   "source": [
    "---\n",
    "## <font color=#FF8181>Unit 5 - Exercises: </font>\n",
    "<style>\n",
    "  table {margin-left: 0 !important;}\n",
    "</style>\n",
    "\n",
    "__Consider the following DataFrame__:\n",
    "\n",
    "### Monster table 1\n",
    "\n",
    "|         |    Name       |    Strength    |    Speed    |    Type           |\n",
    "|---------|---------------|----------------|-------------|-------------------|\n",
    "|    0    |    Mike       |    1           |    3        |    Monster        |\n",
    "|    1    |    Sully      |    99          |    65       |    Monster        |\n",
    "|    2    |    Randall    |    35          |    99       |    EvilMonster    |\n",
    "|    3    |    Boo        |    5           |    5        |    Human          |\n",
    "\n",
    "\n",
    "- Run the code below to construct the dataframe\n",
    "- you can use `test_df` to test your solutions"
   ]
  },
  {
   "cell_type": "code",
   "execution_count": null,
   "id": "db6e8b90",
   "metadata": {},
   "outputs": [],
   "source": [
    "import pandas as pd\n",
    "import numpy as np\n",
    "\n",
    "data = {'Name': ['Mike', 'Saly', 'Randall', 'Boo'],\n",
    "        'Strength': [1,99,35,5],\n",
    "        'Speed':[3,65,99,5],\n",
    "        'Type':['Monster', 'Monster', 'EvilMonster', 'Human']}\n",
    "test_df = pd.DataFrame(data)"
   ]
  },
  {
   "attachments": {},
   "cell_type": "markdown",
   "id": "13e824cd",
   "metadata": {},
   "source": [
    "---\n",
    "### <font color=#14F278> Task 1: Create a python function `stat_monster()` which does the following: </font>\n",
    "- Takes dataframe __Monster Table 1__ as an argument\n",
    "- Creates 3 new columns via the `.apply()` method in combination with __lambda__:\n",
    "    - __AvgStat__ - the average of the strength and speed for each row\n",
    "    - __MinStat__ - the minimum of the strength and speed for each row\n",
    "    - __MaxStat__ - the maximum of the strength and speed for each row\n",
    "- Returns the new DataFrame"
   ]
  },
  {
   "cell_type": "code",
   "execution_count": null,
   "id": "ab822a47",
   "metadata": {},
   "outputs": [],
   "source": [
    "# Write your solution here# Solution\n",
    "\n",
    "def stat_monster(df):\n",
    "    df['AvgStat'] = df.apply(lambda row: (row['Speed'] + row['Strength'])/2, axis = 1)\n",
    "    df['MinStat'] = df.apply(lambda row: min(row['Speed'], row['Strength']), axis = 1)\n",
    "    df['MaxStat'] = df.apply(lambda row: max(row['Speed'], row['Strength']), axis = 1)\n",
    "    return df"
   ]
  },
  {
   "cell_type": "code",
   "execution_count": null,
   "id": "8261792d",
   "metadata": {},
   "outputs": [],
   "source": [
    "# Call the function and display returned objects\n",
    "stat_monster(test_df)"
   ]
  },
  {
   "attachments": {},
   "cell_type": "markdown",
   "id": "5b87bb5c",
   "metadata": {},
   "source": [
    "---\n",
    "### <font color=#14F278> Task 2: Create a python function `boost_monster()` which does the following: </font>\n",
    "\n",
    "- Takes a dataframe __Monster Table 1__ as an argument\n",
    "- Creates 2 new columns via the `.apply()` method in combination with __lambda__:\n",
    "    - __BoostSpeed__ - twice the speed if type 'Monster', else the same speed\n",
    "    - __BoostStrength__ - 3 times the strength if type 'EvilMonster', else the same strength\n",
    "- Returns the new DataFrame"
   ]
  },
  {
   "cell_type": "code",
   "execution_count": null,
   "id": "85263e1c",
   "metadata": {},
   "outputs": [],
   "source": [
    "# Solution\n",
    "\n",
    "def boost_monster(df):\n",
    "    df['BoostSpeed'] = df.apply(lambda row: 2*row['Speed'] if row['Type']== 'Monster' else row['Speed'], axis = 1)\n",
    "    df['BoostStrength'] = df.apply(lambda row: 3*row['Strength'] if row['Type']== 'EvilMonster' else row['Strength'], axis = 1)\n",
    "    return df"
   ]
  },
  {
   "cell_type": "code",
   "execution_count": null,
   "id": "d443a2eb",
   "metadata": {},
   "outputs": [],
   "source": [
    "# Call the function and display returned objects\n",
    "boost_monster(test_df)"
   ]
  },
  {
   "attachments": {},
   "cell_type": "markdown",
   "id": "5f14ec40",
   "metadata": {},
   "source": [
    "__NB__: *Solutions to these exercises are distributed separately in the form of a stand-alone unit at a later point in time. This is to ensure that consultants have had the chance to attempt the exercises autonomously, leveraging the reading materials and concept check solutions.*"
   ]
  }
 ],
 "metadata": {
  "kernelspec": {
   "display_name": "Python 3 (ipykernel)",
   "language": "python",
   "name": "python3"
  },
  "language_info": {
   "codemirror_mode": {
    "name": "ipython",
    "version": 3
   },
   "file_extension": ".py",
   "mimetype": "text/x-python",
   "name": "python",
   "nbconvert_exporter": "python",
   "pygments_lexer": "ipython3",
   "version": "3.9.7"
  }
 },
 "nbformat": 4,
 "nbformat_minor": 5
}
