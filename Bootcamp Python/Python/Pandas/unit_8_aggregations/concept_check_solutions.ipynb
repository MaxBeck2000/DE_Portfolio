{
 "cells": [
  {
   "attachments": {},
   "cell_type": "markdown",
   "id": "da5b95ff",
   "metadata": {},
   "source": [
    "---\n",
    "## <font color=#FF8181>Unit 8 - Concept Check: </font>\n",
    "1. Suppose we have the following Series: `s = pd.Series([1,2,3, np.nan, np.nan, 6,7])`. Calculate:\n",
    "- the output produced by `s.mean()`\n",
    "- the output produced by `s.median()`\n",
    "- what can we conclude about missing values and aggregations? Do we include NaNs in the population of values, used for the calculations?\n",
    "2. Suppose we have the following DataFrame: `df = pd.DataFrame({'Uni':['Bath', 'Warwick', 'Bristol', 'Bristol', 'Warwick', 'Bath'], 'Subject':['Maths', 'Physics', 'English', 'Maths', 'Maths', 'English'], 'Score':[78, 68, 65, 75, 82, 62]})`\n",
    "- create new a DataFrame with: number of universities and average score per subject\n",
    "- create a new column to the DataFrame with the avarage university scores across all subjects using `.transform()`\n",
    "- pivot the initial dataframe so that the values in 'Subject' column become column names"
   ]
  },
  {
   "attachments": {},
   "cell_type": "markdown",
   "id": "320e3cb7",
   "metadata": {},
   "source": [
    "---\n",
    "### <font color=#14F278> Solutions: </font>"
   ]
  },
  {
   "cell_type": "code",
   "execution_count": null,
   "id": "87699157",
   "metadata": {},
   "outputs": [],
   "source": [
    "import pandas as pd\n",
    "import numpy as np"
   ]
  },
  {
   "cell_type": "code",
   "execution_count": null,
   "id": "918226cb",
   "metadata": {},
   "outputs": [],
   "source": [
    "# 1) suppose we have the following Series:\n",
    "s = pd.Series([1,2,3, np.nan, np.nan, 6,7])\n",
    "display(s)\n",
    "\n",
    "print(s.mean())\n",
    "print(s.median())\n",
    "# 1.1) Aggregate statistics are always calculated based on the non-null population of values in a given data set.\n",
    "# In this example, there are 5 non-null values, adding up to a total of 19, which implies a mean of 19/5 = 3.8\n",
    "# To find the median value, we need to order all values in ascending order and find the one 'sitting in the middle'\n",
    "# i.e. 50% of remaining values are to the left and 50% to the right of it\n",
    "# in this case, the median is 3 - Note that NaNs are again excluded (and not aoutmatically considered as 0s)"
   ]
  },
  {
   "cell_type": "code",
   "execution_count": null,
   "id": "f4e4e13c",
   "metadata": {},
   "outputs": [],
   "source": [
    "# 2) Suppose we have the following DataFrame:\n",
    "df = pd.DataFrame({'Uni':['Bath', 'Warwick', 'Bristol', 'Bristol', 'Warwick', 'Bath'],\n",
    "                   'Subject':['Maths', 'Physics', 'English', 'Maths', 'Maths', 'English'],\n",
    "                   'Score':[78, 68, 65, 75, 82, 62]})\n",
    "display(df)"
   ]
  },
  {
   "cell_type": "code",
   "execution_count": null,
   "id": "6cc582ff",
   "metadata": {},
   "outputs": [],
   "source": [
    "# 2.1) create new a DataFrame with: number of universities and average score per subject\n",
    "# Note - here we use a new aggregation function - pd.Series.nunique to count distinct Universities\n",
    "df2 = df.groupby('Subject').agg({'Uni':pd.Series.nunique, 'Score':np.mean})\n",
    "display(df2)"
   ]
  },
  {
   "cell_type": "code",
   "execution_count": null,
   "id": "433fb896",
   "metadata": {},
   "outputs": [],
   "source": [
    "# 2.2) Calculate the average univeristy scores across all subjects unisng transform():\n",
    "df['avg_uni_score'] = df.groupby('Uni')['Score'].transform(np.mean)\n",
    "display(df)"
   ]
  },
  {
   "cell_type": "code",
   "execution_count": null,
   "id": "1ffb449e",
   "metadata": {},
   "outputs": [],
   "source": [
    "# 2.3) Pivot the initial table\n",
    "pivot_df = df.pivot_table(index = 'Uni', columns = 'Subject', values = 'Score', aggfunc = np.max)\n",
    "pivot_df"
   ]
  }
 ],
 "metadata": {
  "kernelspec": {
   "display_name": "Python 3 (ipykernel)",
   "language": "python",
   "name": "python3"
  },
  "language_info": {
   "codemirror_mode": {
    "name": "ipython",
    "version": 3
   },
   "file_extension": ".py",
   "mimetype": "text/x-python",
   "name": "python",
   "nbconvert_exporter": "python",
   "pygments_lexer": "ipython3",
   "version": "3.9.7"
  }
 },
 "nbformat": 4,
 "nbformat_minor": 5
}
