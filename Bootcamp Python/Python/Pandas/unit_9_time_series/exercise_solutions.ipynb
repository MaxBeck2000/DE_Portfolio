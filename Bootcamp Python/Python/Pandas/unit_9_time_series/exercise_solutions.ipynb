{
 "cells": [
  {
   "attachments": {},
   "cell_type": "markdown",
   "id": "d49590fa",
   "metadata": {},
   "source": [
    "---\n",
    "## <font color=#FF8181>Unit 9 - Exercises: </font>\n",
    "\n",
    "In the following exercises, we will leverage knowledge from previous units and test our understanding on __Time Series__. We shall be using YahooFinancials to conduct Time Series Analysis on historical stock prices. Refer to the materials on Time Series and Aggregations for guidance on how to obtain data from YahooFinancials."
   ]
  },
  {
   "cell_type": "code",
   "execution_count": 3,
   "id": "80bec025",
   "metadata": {},
   "outputs": [],
   "source": [
    "import pandas as pd\n",
    "import numpy as np\n",
    "from yahoofinancials import YahooFinancials"
   ]
  },
  {
   "attachments": {},
   "cell_type": "markdown",
   "id": "614107b8",
   "metadata": {},
   "source": [
    "---\n",
    "### <font color=#14F278> Task 1:  </font>\n",
    "\n",
    "<font color=#14F278> **The purpose of Task 1 is to produce a Time Series of average yearly Apple stock prices for the years 2019-2021 via downsampling and present it in a pre-defined format. This exercise tests your knowledge on Time Series, as well as melting and sorting a dataframe. The task deliverable is to produce the dataframe below:** </font>\n",
    "\n",
    "<center>\n",
    "    <div>\n",
    "        <img src=\"..\\images\\timeseries_003.png\"/>\n",
    "    </div>\n",
    "</center>\n",
    "\n",
    "\n",
    "__Steps: Create a python function `apple_downsample()` which does the following:__\n",
    "- Scrapes historical monthly price data on Apple from __YahooFinancials__\n",
    "- Constructs a DataFrame with the monthly price observations for period 2019 - 2021 - columns 'high', 'low' and 'close'\n",
    "- Sets column 'formatted_date' to be your DataFrame index\n",
    "- Downsamples DataFrame from monthly to annual level of granularity via averaging monthly observations\n",
    "- Resets index to new DataFrame (to ensure that 'formatted_date' values are in a column)\n",
    "- Melts the DataFrame, so that column names 'high', 'low', 'close' become entries of column __'price_type'__ and observations are stored in column __'avg_price'__\n",
    "- Sorts melted DataFrame by 'formatted_date' and 'price_type' in ascending order\n",
    "- Returns final sorted DataFrame"
   ]
  },
  {
   "cell_type": "code",
   "execution_count": 4,
   "id": "cc5c9684",
   "metadata": {},
   "outputs": [],
   "source": [
    "# Solution\n",
    "\n",
    "def apple_downsample():\n",
    "    from yahoofinancials import YahooFinancials\n",
    "    data = YahooFinancials('AAPL').get_historical_price_data('2019-01-01', '2022-01-01', 'monthly')\n",
    "    data = data['AAPL']['prices']\n",
    "    df = pd.DataFrame(data)\n",
    "    df = df[['formatted_date', 'high', 'low', 'close']]\n",
    "    df['formatted_date'] = pd.to_datetime(df['formatted_date'], format = '%Y-%m-%d')\n",
    "    df.set_index('formatted_date', inplace = True)\n",
    "    df_upsample = df.resample('Y').mean()\n",
    "    df_upsample.reset_index(inplace = True)\n",
    "    df_melt = df_upsample.melt(id_vars = ['formatted_date'], var_name = 'price_type', value_name = 'avg_price')\n",
    "    df_melt.sort_values(['formatted_date', 'price_type'], ascending = [True, True], inplace = True)\n",
    "    return df_melt"
   ]
  },
  {
   "cell_type": "code",
   "execution_count": 5,
   "id": "04dea2dc",
   "metadata": {},
   "outputs": [
    {
     "name": "stderr",
     "output_type": "stream",
     "text": [
      "C:\\Users\\MaxBeck\\AppData\\Local\\Temp\\ipykernel_14936\\2791613890.py:11: FutureWarning: 'Y' is deprecated and will be removed in a future version, please use 'YE' instead.\n",
      "  df_upsample = df.resample('Y').mean()\n"
     ]
    },
    {
     "data": {
      "text/html": [
       "<div>\n",
       "<style scoped>\n",
       "    .dataframe tbody tr th:only-of-type {\n",
       "        vertical-align: middle;\n",
       "    }\n",
       "\n",
       "    .dataframe tbody tr th {\n",
       "        vertical-align: top;\n",
       "    }\n",
       "\n",
       "    .dataframe thead th {\n",
       "        text-align: right;\n",
       "    }\n",
       "</style>\n",
       "<table border=\"1\" class=\"dataframe\">\n",
       "  <thead>\n",
       "    <tr style=\"text-align: right;\">\n",
       "      <th></th>\n",
       "      <th>formatted_date</th>\n",
       "      <th>price_type</th>\n",
       "      <th>avg_price</th>\n",
       "    </tr>\n",
       "  </thead>\n",
       "  <tbody>\n",
       "    <tr>\n",
       "      <th>6</th>\n",
       "      <td>2019-12-31</td>\n",
       "      <td>close</td>\n",
       "      <td>53.304375</td>\n",
       "    </tr>\n",
       "    <tr>\n",
       "      <th>0</th>\n",
       "      <td>2019-12-31</td>\n",
       "      <td>high</td>\n",
       "      <td>55.113750</td>\n",
       "    </tr>\n",
       "    <tr>\n",
       "      <th>3</th>\n",
       "      <td>2019-12-31</td>\n",
       "      <td>low</td>\n",
       "      <td>48.476251</td>\n",
       "    </tr>\n",
       "    <tr>\n",
       "      <th>7</th>\n",
       "      <td>2020-12-31</td>\n",
       "      <td>close</td>\n",
       "      <td>97.094583</td>\n",
       "    </tr>\n",
       "    <tr>\n",
       "      <th>1</th>\n",
       "      <td>2020-12-31</td>\n",
       "      <td>high</td>\n",
       "      <td>104.093332</td>\n",
       "    </tr>\n",
       "    <tr>\n",
       "      <th>4</th>\n",
       "      <td>2020-12-31</td>\n",
       "      <td>low</td>\n",
       "      <td>86.300833</td>\n",
       "    </tr>\n",
       "    <tr>\n",
       "      <th>8</th>\n",
       "      <td>2021-12-31</td>\n",
       "      <td>close</td>\n",
       "      <td>141.688337</td>\n",
       "    </tr>\n",
       "    <tr>\n",
       "      <th>2</th>\n",
       "      <td>2021-12-31</td>\n",
       "      <td>high</td>\n",
       "      <td>148.499168</td>\n",
       "    </tr>\n",
       "    <tr>\n",
       "      <th>5</th>\n",
       "      <td>2021-12-31</td>\n",
       "      <td>low</td>\n",
       "      <td>132.827499</td>\n",
       "    </tr>\n",
       "  </tbody>\n",
       "</table>\n",
       "</div>"
      ],
      "text/plain": [
       "  formatted_date price_type   avg_price\n",
       "6     2019-12-31      close   53.304375\n",
       "0     2019-12-31       high   55.113750\n",
       "3     2019-12-31        low   48.476251\n",
       "7     2020-12-31      close   97.094583\n",
       "1     2020-12-31       high  104.093332\n",
       "4     2020-12-31        low   86.300833\n",
       "8     2021-12-31      close  141.688337\n",
       "2     2021-12-31       high  148.499168\n",
       "5     2021-12-31        low  132.827499"
      ]
     },
     "execution_count": 5,
     "metadata": {},
     "output_type": "execute_result"
    }
   ],
   "source": [
    "# Call the function and display returned objects\n",
    "apple_downsample()"
   ]
  },
  {
   "attachments": {},
   "cell_type": "markdown",
   "id": "fe7b863f",
   "metadata": {},
   "source": [
    "---\n",
    "### <font color=#14F278> Task 2:</font>\n",
    "\n",
    "<font color=#14F278> **The purpose of Task 2 is to analyse the deivation which linear interpolation produces on a Time Series. We know that linear interpolation effectively 'smoothes out' a Time Series - in this exercise you will be asked to quantify this 'smoothing effect' in the context of Apple daily stock prices for Q4 2021. Task 2 aims to compare the real daily stock prices to linearly interpolated ones and assess the percentage deviation between the two. The deliverable is to produce the dataframe below (NB: image shows a part of the dataframe):** </font>\n",
    "\n",
    "\n",
    "<center>\n",
    "    <div>\n",
    "        <img src=\"..\\images\\timeseries_004.png\"/>\n",
    "    </div>\n",
    "</center>\n",
    "\n",
    "\n",
    "\n",
    "__Steps: Create a python function `apple_upsample()` which does the following:__\n",
    "- Scrapes historical monthly price data on Apple from __YahooFinancials__\n",
    "- Creates two dataframes - __monthly_prices__ and __daily_prices__:\n",
    "    - __monthly_price__ containing the monthly price observations for Q4 2021 - column 'close'\n",
    "    - __daily_price__ containing the daily price observations for Q4 2021 - column 'close'\n",
    "- Sets column 'formatted_date' to be the index to __monthly_prices__ dataframe\n",
    "- Upsamples __monthly_prices__ to daily level of granularity\n",
    "- Fills in missing values via Linear Interpolation\n",
    "- Resets index to __monthly_prices__ (to ensure that 'formatted_date' values are in a column)\n",
    "- Performs a left merge of __monthly_prices__ onto __daily_prices__\n",
    "- Renames column __close_x__ to __real_close__ and __close_y__ to __inter_close__\n",
    "- Creates a new column __'perc_dev'__, calculating the deviation of the interpolated price value from the real price value on a daily basis \n",
    "     - __perc dev__ = ((__inter_close__ - __real_close__)/__real_close__)*100)\n",
    "- Returns the final DataFrame"
   ]
  },
  {
   "cell_type": "code",
   "execution_count": null,
   "id": "2ea370c5",
   "metadata": {},
   "outputs": [],
   "source": [
    "# Solution \n",
    "\n",
    "def apple_upsample():\n",
    "    from yahoofinancials import YahooFinancials\n",
    "    data1 = YahooFinancials('AAPL').get_historical_price_data('2021-10-01', '2022-01-02', 'monthly')\n",
    "    data2 = YahooFinancials('AAPL').get_historical_price_data('2021-10-01', '2022-01-02', 'daily')\n",
    "    data1 = data1['AAPL']['prices']\n",
    "    data2 = data2['AAPL']['prices']\n",
    "    monthly_prices = pd.DataFrame(data1)[['formatted_date', 'close']]\n",
    "    daily_prices = pd.DataFrame(data2)[['formatted_date', 'close']]\n",
    "    monthly_prices['formatted_date'] = pd.to_datetime(monthly_prices['formatted_date'], format = '%Y-%m-%d')\n",
    "    daily_prices['formatted_date'] = pd.to_datetime(daily_prices['formatted_date'], format = '%Y-%m-%d')\n",
    "    monthly_prices.set_index('formatted_date', inplace = True)\n",
    "    monthly_prices = monthly_prices.resample('D').mean()\n",
    "    monthly_prices.interpolate(inplace = True)\n",
    "    monthly_prices.reset_index(inplace = True)\n",
    "    combined_df = pd.merge(daily_prices, monthly_prices, on = 'formatted_date', how = 'left')\n",
    "    combined_df.rename(columns = {'close_x':'real_close', 'close_y':'inter_close'}, inplace = True)\n",
    "    combined_df['perc_dev'] = combined_df.apply(lambda row: ((row['inter_close'] - row['real_close'])/row['real_close'])*100, axis = 1)\n",
    "    return combined_df"
   ]
  },
  {
   "cell_type": "code",
   "execution_count": null,
   "id": "5ee6d6b5",
   "metadata": {},
   "outputs": [],
   "source": [
    "# Call the function and display returned objects\n",
    "apple_upsample()"
   ]
  },
  {
   "attachments": {},
   "cell_type": "markdown",
   "id": "5de93137",
   "metadata": {},
   "source": [
    "---\n",
    "### <font color=#14F278> Task 3:</font>\n",
    "\n",
    "<font color=#14F278> **The purpose of Task 3 is to detect the dates in December 2021 when Apple stock prices increased by more than 2% compared to the previous day. This exercise tests your knowledge on performing rolling statistics on a Time Series, as well as filtering a dataframe via a Boolean Mask. The task deliverable is to produce the dataframe below:**</font>\n",
    "\n",
    "\n",
    "<center>\n",
    "    <div>\n",
    "        <img src=\"..\\images\\timeseries_005.png\"/>\n",
    "    </div>\n",
    "</center>\n",
    "\n",
    "\n",
    "__Steps: Create a python function `apple_rolling_stats()` which does the following:__\n",
    "- Scrapes historical monthly price data on Apple from __YahooFinancials__\n",
    "- Constructs a DataFrame with the daily price observations for December 2021 - column 'close'\n",
    "- Sets column 'formatted_date' to be your DataFrame index\n",
    "- Calculates the __percentage change__ of the Time Series across observations - use `.pct_change()` and store in column __perc_change__\n",
    "- Takes the __first difference__ of the Time Series - use `.diff(1)` and store in column __first_diff__\n",
    "- Filters the resulting DataFrame via __Boolean Mask__ to contain only daily observations with __percentage change__ above 2% (0.02)\n",
    "- Resets index to new DataFrame (to ensure that 'formatted_date' values are in a column)\n",
    "- Returns the final DataFrame"
   ]
  },
  {
   "cell_type": "code",
   "execution_count": null,
   "id": "f0bc64b2",
   "metadata": {},
   "outputs": [],
   "source": [
    "# Solution\n",
    "\n",
    "def apple_rolling_stats():\n",
    "    from yahoofinancials import YahooFinancials\n",
    "    data = YahooFinancials('AAPL').get_historical_price_data('2021-12-01', '2022-01-01', 'daily')\n",
    "    data = data['AAPL']['prices']\n",
    "    df = pd.DataFrame(data)\n",
    "    df = df[['formatted_date', 'close']]\n",
    "    df['formatted_date'] = pd.to_datetime(df['formatted_date'], format = '%Y-%m-%d')\n",
    "    df.set_index('formatted_date', inplace = True)\n",
    "    df['perc_change'] = df['close'].pct_change()\n",
    "    df['first_diff'] = df['close'].diff(1)\n",
    "    mask = df['perc_change'] >0.02\n",
    "    new_df = df[mask]\n",
    "    new_df.reset_index(inplace = True)\n",
    "    return new_df"
   ]
  },
  {
   "cell_type": "code",
   "execution_count": null,
   "id": "9cd794dd",
   "metadata": {},
   "outputs": [],
   "source": [
    "# Call the function and display returned objects\n",
    "apple_rolling_stats()"
   ]
  },
  {
   "attachments": {},
   "cell_type": "markdown",
   "id": "9cd7b56b",
   "metadata": {},
   "source": [
    "__NB__: *Solutions to these exercises are distributed separately in the form of a stand-alone unit at a later point in time. This is to ensure that consultants have had the chance to attempt the exercises autonomously, leveraging the reading materials and concept check solutions.*"
   ]
  }
 ],
 "metadata": {
  "kernelspec": {
   "display_name": "Python 3 (ipykernel)",
   "language": "python",
   "name": "python3"
  },
  "language_info": {
   "codemirror_mode": {
    "name": "ipython",
    "version": 3
   },
   "file_extension": ".py",
   "mimetype": "text/x-python",
   "name": "python",
   "nbconvert_exporter": "python",
   "pygments_lexer": "ipython3",
   "version": "3.11.8"
  }
 },
 "nbformat": 4,
 "nbformat_minor": 5
}
