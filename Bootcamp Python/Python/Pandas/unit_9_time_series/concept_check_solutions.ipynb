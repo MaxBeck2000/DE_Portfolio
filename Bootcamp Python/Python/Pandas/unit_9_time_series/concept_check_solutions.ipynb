{
 "cells": [
  {
   "attachments": {},
   "cell_type": "markdown",
   "id": "6b9f2e97",
   "metadata": {},
   "source": [
    "---\n",
    "## <font color=#FF8181>Unit 9 - Concept Check: </font>\n",
    "\n",
    "1. What is a __Time Series__? Explain in simple words the difference between a Pandas Series Object and a Time Series\n",
    "2. Suppose we have a Time Series, containing a full year worth of observations on variable __X__ (that is 365 daily observations):\n",
    "- What is the output produced by `.resample('M').mean()` - explain the concept of downsampling\n",
    "- What is the output produced by `.resample('D').mean()` - explain the concept of upsampling\n",
    "- After resampling to the initial frequency of observation (daily) what can you say about the majority of values in our Time Series. How could you best tackle them? What is the main difference between the initial Time Series and the final Time Series you have produced?"
   ]
  },
  {
   "attachments": {},
   "cell_type": "markdown",
   "id": "11a8f0fb",
   "metadata": {},
   "source": [
    "---\n",
    "### <font color=#14F278> Solutions: </font>"
   ]
  },
  {
   "cell_type": "code",
   "execution_count": null,
   "id": "87b97a68",
   "metadata": {},
   "outputs": [],
   "source": [
    "import pandas as pd\n",
    "import numpy as np"
   ]
  },
  {
   "cell_type": "code",
   "execution_count": null,
   "id": "41054920",
   "metadata": {},
   "outputs": [],
   "source": [
    "# 1) A Time Series is a collection of variable observations, made over a given time period.\n",
    "# Each observation is indexed (uniquely identified) by the moment in time it took place. \n",
    "# In that sense, a Pandas Series Object with index of type DataTime is a Time Series"
   ]
  },
  {
   "cell_type": "code",
   "execution_count": null,
   "id": "95de5f51",
   "metadata": {},
   "outputs": [],
   "source": [
    "# 2) Suppose we have a Time Series, containing a full year worth of observations on variable X (that is 365 daily observations):\n",
    "# 2.1) downsampling implies reducing the sampling rate of observation - in this case we donwsample to Monthly observation\n",
    "# the output would be a Time Series with only 12 elements - each hodling the average value of observations for the month\n",
    "\n",
    "# 2.2) upsampling implies increasing the sampling rate of observations\n",
    "# In this case we upsample from Monthly to Daily observation rate again \n",
    "# The output will be a Time Series with 365 elements, however, unlike initial one, now all but 12 records are NaN\n",
    "\n",
    "# 2.3) Downsampling allows us to aggregate, but ultimately this leads to losing a level of data granularity. Upsampling back to \n",
    "# Daily observation will not recover the loss of detail (a lot of NaNs appear)\n",
    "# To best tackle these NaNs, we should use linear interpolation\n",
    "# In essence, interpolating the data onto the Nulls will create a 'smoothed out' version of our initial Time Series\n",
    "# data volatility is the biggest difference between the initial and the final Time Series"
   ]
  }
 ],
 "metadata": {
  "kernelspec": {
   "display_name": "Python 3 (ipykernel)",
   "language": "python",
   "name": "python3"
  },
  "language_info": {
   "codemirror_mode": {
    "name": "ipython",
    "version": 3
   },
   "file_extension": ".py",
   "mimetype": "text/x-python",
   "name": "python",
   "nbconvert_exporter": "python",
   "pygments_lexer": "ipython3",
   "version": "3.9.7"
  }
 },
 "nbformat": 4,
 "nbformat_minor": 5
}
