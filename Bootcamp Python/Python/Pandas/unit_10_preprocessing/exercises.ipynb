{
 "cells": [
  {
   "attachments": {},
   "cell_type": "markdown",
   "metadata": {},
   "source": [
    "---\n",
    "## <font color=#FF8181>Unit 10 - Exercises: </font>\n",
    "\n",
    "In the following exercises, we will apply the preprocessing techniques we covered on a real-life dataset. The dataset is stored in **bike_rental.csv** and contains daily records on bike rentals together with weather-specific information for the day. Additionally, the exercises leverage previous knowledge on element-wise operations, aggregations, formatting and handling missing data.\n"
   ]
  },
  {
   "cell_type": "code",
   "execution_count": null,
   "metadata": {},
   "outputs": [],
   "source": [
    "import pandas as pd\n",
    "import numpy as np"
   ]
  },
  {
   "cell_type": "code",
   "execution_count": null,
   "metadata": {},
   "outputs": [],
   "source": [
    "# Data Load\n",
    "filename = r'../data/bike_rental.csv'\n",
    "df = pd.read_csv(filename)\n",
    "display(df)"
   ]
  },
  {
   "attachments": {},
   "cell_type": "markdown",
   "metadata": {},
   "source": [
    "---\n",
    "### <font color=#14F278> Task 1: Create a Python function `numerical_transformations()` which does the following: </font>\n",
    "- takes the dataframe `df` as an argument\n",
    "- drops columns `'day'`,`'mnth'` and `'year'`\n",
    "- renames all column names which are not lowercase\n",
    "- drops any duplicate records\n",
    "- drops any records with missing values\n",
    "- standardises columns `'temp'`, `'atemp'`, '`humidity'` and `'windspeed'`\n",
    "- returns the dataframe object\n",
    "\n",
    "**NB**: Ensure all formatting is conducted in-place to optimise memory usage. This, however, means that the function has **side-effects**"
   ]
  },
  {
   "cell_type": "code",
   "execution_count": null,
   "metadata": {},
   "outputs": [],
   "source": [
    "# Write your solution here"
   ]
  },
  {
   "attachments": {},
   "cell_type": "markdown",
   "metadata": {},
   "source": [
    "---\n",
    "### <font color=#14F278> Task 2: Create a Python function `categorical_transformations()` which does the following: </font>\n",
    "- takes the output dataframe from Task 1 (important to use the formatted dataframe, not the raw one)\n",
    "- replaces the values in column `season` with the appropriate season names - 1 = winter, 2 = spring, 3 = summer, 4 = autumn\n",
    "- performs One Hot Encoding on the 'season' column, using the 'is' prefix\n",
    "- returns the dataframe object"
   ]
  },
  {
   "cell_type": "code",
   "execution_count": null,
   "metadata": {},
   "outputs": [],
   "source": [
    "# Write your solution here"
   ]
  },
  {
   "attachments": {},
   "cell_type": "markdown",
   "metadata": {},
   "source": [
    "---\n",
    "### <font color=#14F278> Task 3: Create a Python function `above_average()` which does the following: </font>\n",
    "- takes the output dataframe from Task 2 (important to use this one rather than the raw dataset)\n",
    "- creates a column `'temp_above_average'`, based on the standardised `'temp'` column - this column should have binary 0/1 values\n",
    "- drops all columns except for `'rentals'`, `'temp_above_average'`,`'is_autumn'`,`'is_spring'`,`'is_summer'`,`'is_winter'`\n",
    "- groups by `'temp_above_average'` and calculates the total number of days per season as well as the average bike rentals for each category \n",
    "- returns the aggregated dataframe"
   ]
  },
  {
   "cell_type": "code",
   "execution_count": null,
   "metadata": {},
   "outputs": [],
   "source": [
    "# Write your solution here\n"
   ]
  },
  {
   "attachments": {},
   "cell_type": "markdown",
   "metadata": {},
   "source": [
    "__NB__: *Solutions to these exercises are distributed separately in the form of a stand-alone unit at a later point in time. This is to ensure that consultants have had the chance to attempt the exercises autonomously, leveraging the reading materials and concept check solutions.*"
   ]
  }
 ],
 "metadata": {
  "kernelspec": {
   "display_name": "base",
   "language": "python",
   "name": "python3"
  },
  "language_info": {
   "codemirror_mode": {
    "name": "ipython",
    "version": 3
   },
   "file_extension": ".py",
   "mimetype": "text/x-python",
   "name": "python",
   "nbconvert_exporter": "python",
   "pygments_lexer": "ipython3",
   "version": "3.9.7"
  },
  "orig_nbformat": 4
 },
 "nbformat": 4,
 "nbformat_minor": 2
}
