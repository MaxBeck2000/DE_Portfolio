{
 "cells": [
  {
   "attachments": {},
   "cell_type": "markdown",
   "metadata": {},
   "source": [
    "---\n",
    "## <font color=#FF8181>Unit 10 - Concept Check: </font>\n",
    "\n",
    "Suppose you have a dataset, containing exam score records of students from different universities:\n",
    "- Standardise the exam scores\n",
    "- One Hot Encode the university category\n",
    "- further binarise the standardised exam score to create a column `'Above Average?'`\n",
    "\n",
    "<center>\n",
    "    <div>\n",
    "        <img src=\"..\\images\\preprocessing_008.png\" />\n",
    "    </div>\n",
    "</center>"
   ]
  },
  {
   "attachments": {},
   "cell_type": "markdown",
   "metadata": {},
   "source": [
    "---\n",
    "### <font color=#14F278> Solutions: </font>"
   ]
  },
  {
   "cell_type": "code",
   "execution_count": null,
   "metadata": {},
   "outputs": [],
   "source": [
    "import pandas as pd\n",
    "import numpy as np"
   ]
  },
  {
   "cell_type": "code",
   "execution_count": null,
   "metadata": {},
   "outputs": [],
   "source": [
    "# Example Dataframe\n",
    "data = {'StudentID':[13090, 13091, 13092, 13093, 13094, 13095, 13096,13097, 13098, 13099],\n",
    "        'Exam Score':[54,78,65,67,72,83,81,90,52,75],\n",
    "        'University':['Warwick', 'Harvard', 'LSE', 'Harvard', 'LSE', 'Warwick', 'LSE', 'Harvard', 'Harvard', 'Warwick']}\n",
    "df = pd.DataFrame(data)\n",
    "display(df)"
   ]
  },
  {
   "cell_type": "code",
   "execution_count": null,
   "metadata": {},
   "outputs": [],
   "source": [
    "# Standardisation on a given column\n",
    "df['Standardised Score'] = (df['Exam Score'] - df['Exam Score'].mean())/df['Exam Score'].std()\n",
    "\n",
    "# Perform One Hot Encoding on University \n",
    "df = pd.get_dummies(df, columns = ['University'], prefix = ['Is'])\n",
    "\n",
    "# Lastly, binarize the standardised exam score column\n",
    "df['Above Average?'] = df.apply(lambda row: 'yes' if row['Standardised Score']>=0 else 'no', axis = 1)\n",
    "display(df)"
   ]
  },
  {
   "cell_type": "code",
   "execution_count": null,
   "metadata": {},
   "outputs": [],
   "source": [
    "# Exploring the distribution of 'Above Average?'\n",
    "df['Above Average?'].value_counts()"
   ]
  }
 ],
 "metadata": {
  "kernelspec": {
   "display_name": "base",
   "language": "python",
   "name": "python3"
  },
  "language_info": {
   "codemirror_mode": {
    "name": "ipython",
    "version": 3
   },
   "file_extension": ".py",
   "mimetype": "text/x-python",
   "name": "python",
   "nbconvert_exporter": "python",
   "pygments_lexer": "ipython3",
   "version": "3.9.7"
  },
  "orig_nbformat": 4
 },
 "nbformat": 4,
 "nbformat_minor": 2
}
