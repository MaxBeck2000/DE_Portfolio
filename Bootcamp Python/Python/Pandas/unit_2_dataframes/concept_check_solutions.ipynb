{
 "cells": [
  {
   "attachments": {},
   "cell_type": "markdown",
   "id": "26df6fe3",
   "metadata": {},
   "source": [
    "---\n",
    "## <font color=#FF8181>Unit 2 - Concept Check: </font>\n",
    "\n",
    "1. What is a pandas DataFrame? How is it different to a Series?\n",
    "2. What are some useful attributes of a DataFrame instance?\n",
    "3. What is the data type for a column in a dataframe?\n",
    "4. Construct the following DataFrame in Pandas:\n",
    "\n",
    "| |col1|col2|\n",
    "|-|-|-|\n",
    "|0|1|2.0|\n",
    "|1|3|4.0|\n",
    "|2|5|6.0|\n",
    "\n",
    "Do this by using:\n",
    "- list of lists\n",
    "- list of tuples\n",
    "- list of dictionaries\n",
    "- dictionary of list values"
   ]
  },
  {
   "attachments": {},
   "cell_type": "markdown",
   "id": "5eadd3c6",
   "metadata": {},
   "source": [
    "---\n",
    "### <font color=#14F278> Solutions: </font>"
   ]
  },
  {
   "cell_type": "code",
   "execution_count": null,
   "id": "f680af66",
   "metadata": {},
   "outputs": [],
   "source": [
    "import pandas as pd\n",
    "import numpy as np"
   ]
  },
  {
   "cell_type": "code",
   "execution_count": null,
   "id": "5437ecf5",
   "metadata": {},
   "outputs": [],
   "source": [
    "# 1) What is a Pandas DataFrame Object? How is it different to a Series?\n",
    "\n",
    "# A DataFrame is a 2-dimensional array of data, indexed by rows and columns (Unlike Series, which is 1-dimensional).\n",
    "# Each column of a DataFrame is a Series object, in that sense a DataFrame is a collection of Series."
   ]
  },
  {
   "cell_type": "code",
   "execution_count": null,
   "id": "0842a422",
   "metadata": {},
   "outputs": [],
   "source": [
    "# 2) What are some useful attributes of a DataFrame instance?\n",
    "\n",
    "# The concept of DataFrame is a natural continuation of the concept of Series - in that sense, it inherits a lot of rules and\n",
    "# attributes, applicable to Series:\n",
    "# - General - Dimension, Shape - .shape, .index, .columns\n",
    "# - Data related - .values, .dtypes"
   ]
  },
  {
   "cell_type": "code",
   "execution_count": null,
   "id": "89f157ec",
   "metadata": {},
   "outputs": [],
   "source": [
    "# 3) What is the data type for each column in a DataFrame?\n",
    "\n",
    "# Each column in a DataFrame is a Series. In that sense, each DataFrame column has a single data type - int, float, object, etc."
   ]
  },
  {
   "cell_type": "code",
   "execution_count": null,
   "id": "eb6a5e9c",
   "metadata": {
    "scrolled": false
   },
   "outputs": [],
   "source": [
    "# 4) Construct a pandas dataframe with 1, 2 in the first row, 3,4 in the second row, and 5, 6.0 in the third row.\n",
    "# Repeat this question by constructing your dataframe using a list of lists, list of tuples and a dictionary of lists\n",
    "\n",
    "# Let's construct a df via 4 different methods:\n",
    "\n",
    "# -- List of lists\n",
    "data = [[1,2], [3,4], [5,6.0]]\n",
    "df1 = pd.DataFrame(data)\n",
    "display(df1)\n",
    "\n",
    "# -- List of tuples\n",
    "data = [(1,2), (3,4), (5,6.0)]\n",
    "df2 = pd.DataFrame(data)\n",
    "display(df2)\n",
    "\n",
    "# -- List of dictionaries\n",
    "data = [{'col1': 1, 'col2': 2}, {'col1': 3, 'col2':4},{'col1':5, 'col2':6.0}]\n",
    "df3 = pd.DataFrame(data)\n",
    "display(df3)\n",
    "\n",
    "# -- Dictionary of List Values\n",
    "data = {'col1': [1,3,5], 'col2': [2,4,6.0]}\n",
    "df4 = pd.DataFrame(data)\n",
    "display(df4)"
   ]
  }
 ],
 "metadata": {
  "kernelspec": {
   "display_name": "Python 3 (ipykernel)",
   "language": "python",
   "name": "python3"
  },
  "language_info": {
   "codemirror_mode": {
    "name": "ipython",
    "version": 3
   },
   "file_extension": ".py",
   "mimetype": "text/x-python",
   "name": "python",
   "nbconvert_exporter": "python",
   "pygments_lexer": "ipython3",
   "version": "3.9.7"
  }
 },
 "nbformat": 4,
 "nbformat_minor": 5
}
