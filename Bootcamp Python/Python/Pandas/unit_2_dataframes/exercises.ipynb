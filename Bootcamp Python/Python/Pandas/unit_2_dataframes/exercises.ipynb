{
 "cells": [
  {
   "attachments": {},
   "cell_type": "markdown",
   "id": "9afcb14a",
   "metadata": {},
   "source": [
    "---\n",
    "## <font color=#FF8181>Unit 2 - Exercises: </font>\n",
    "<style>\n",
    "  table {margin-left: 0 !important;}\n",
    "</style>\n",
    "\n",
    "__Consider the following DataFrame__:\n",
    "\n",
    "### Monster table 1\n",
    "\n",
    "|         |    Name       |    Strength    |    Speed    |    Type           |\n",
    "|---------|---------------|----------------|-------------|-------------------|\n",
    "|    0    |    Mike       |    1           |    3        |    Monster        |\n",
    "|    1    |    Sully      |    99          |    65       |    Monster        |\n",
    "|    2    |    Randall    |    35          |    99       |    EvilMonster    |\n",
    "|    3    |    Boo        |    5           |    5        |    Human          |"
   ]
  },
  {
   "cell_type": "code",
   "execution_count": 1,
   "id": "08ec1e4b",
   "metadata": {},
   "outputs": [],
   "source": [
    "import pandas as pd\n",
    "\n",
    "\n"
   ]
  },
  {
   "attachments": {},
   "cell_type": "markdown",
   "id": "81a1ec1f",
   "metadata": {},
   "source": [
    "---\n",
    "### <font color=#14F278> Task 1: Construct a python function `create_monster_lol()` which does the following: </font>\n",
    "\n",
    "- Takes no arguments\n",
    "- Creates a __list of lists__, containing the data from __Monster Table 1__\n",
    "- Creates a __column list__ containing the column names from __Monster Table 1__\n",
    "- Returns a tuple of 2 objects - the __list of lists__ and the __column list__\n",
    "\n",
    "__Purpose of the function:__\n",
    "The function aims to produce 2 objects which can then be passed on to `pd.DataFrame()` and thus create a __Monster Table 1__ dataframe. "
   ]
  },
  {
   "cell_type": "code",
   "execution_count": 22,
   "id": "f74786f5",
   "metadata": {},
   "outputs": [
    {
     "data": {
      "text/plain": [
       "([['Mike', '1', '3', 'Monster'],\n",
       "  ['Sully', '99', '65', 'Monster'],\n",
       "  ['Randall', '35', '99', 'EvilMonster'],\n",
       "  ['Boo', '5', '5', 'Human']],\n",
       " [['Name', 'Strength', 'Speed', 'Type']])"
      ]
     },
     "execution_count": 22,
     "metadata": {},
     "output_type": "execute_result"
    }
   ],
   "source": [
    "# Write your solution here\n",
    "\n",
    "def create_monster_lol():\n",
    "    column = [['Name', 'Strength', 'Speed', 'Type']]\n",
    "    data = [['Mike', '1', '3', 'Monster'],\n",
    "            ['Sully','99','65','Monster'],\n",
    "            ['Randall','35','99','EvilMonster'],\n",
    "            ['Boo','5','5','Human']]\n",
    "    return data, column\n",
    "\n",
    "create_monster_lol()\n",
    "    \n"
   ]
  },
  {
   "attachments": {},
   "cell_type": "markdown",
   "id": "a82497bb",
   "metadata": {},
   "source": [
    "---\n",
    "### <font color=#14F278> Task 2: Construct a python function `create_monster_lod()` which does the following: </font>\n",
    "\n",
    "- Takes no arguments\n",
    "- Creates a __list of dictionaries__, containing the data from __Monster Table 1__\n",
    "- Returns the __list of dictionaries__\n",
    "\n",
    "__Purpose of the function:__\n",
    "The function aims to produce an object which can then be passed on to `pd.DataFrame()` and thus create a __Monster Table 1__ dataframe. "
   ]
  },
  {
   "cell_type": "code",
   "execution_count": 26,
   "id": "71568e69",
   "metadata": {},
   "outputs": [
    {
     "data": {
      "text/plain": [
       "[{'Name': 'Mike', 'Stength': '1', 'Speed': '3', 'Type': 'Monster'},\n",
       " {'Name': 'Sully', 'Stength': '99', 'Speed': '65', 'Type': 'Monster'},\n",
       " {'Name': 'Randall', 'Stength': '35', 'Speed': '99', 'Type': 'EvilMonster'},\n",
       " {'Name': 'Boo', 'Stength': '5', 'Speed': '5', 'Type': 'Human'}]"
      ]
     },
     "execution_count": 26,
     "metadata": {},
     "output_type": "execute_result"
    }
   ],
   "source": [
    "# Write your solution here\n",
    "def create_monster_lod():\n",
    "    data = [{'Name': 'Mike', 'Stength': '1', 'Speed': '3', 'Type':'Monster'},\n",
    "            {'Name': 'Sully', 'Stength': '99', 'Speed': '65', 'Type':'Monster'},\n",
    "            {'Name': 'Randall', 'Stength': '35', 'Speed': '99', 'Type':'EvilMonster'},\n",
    "            {'Name': 'Boo', 'Stength': '5', 'Speed': '5', 'Type':'Human'}]\n",
    "    return data\n",
    "create_monster_lod()"
   ]
  },
  {
   "attachments": {},
   "cell_type": "markdown",
   "id": "576a1693",
   "metadata": {},
   "source": [
    "---\n",
    "### <font color=#14F278> Task 3: Construct a python function `create_monster_dol()` which does the following: </font>\n",
    "\n",
    "- Takes no arguments\n",
    "- Creates a __dictionary of list values__, containing the data from __Monster Table 1__\n",
    "- Returns the __dictionary of list values__\n",
    "\n",
    "__Purpose of the function:__\n",
    "The function aims to produce an object which can then be passed on to `pd.DataFrame()` and thus create a __Monster Table 1__ dataframe. "
   ]
  },
  {
   "cell_type": "code",
   "execution_count": 28,
   "id": "1166ea0c",
   "metadata": {},
   "outputs": [
    {
     "data": {
      "text/plain": [
       "{'Name': ['Mike', 'Sully', 'Randall', 'Boo'],\n",
       " 'Strength': ['1', '99', '35', '5'],\n",
       " 'Speed': ['3', '64', '99', '5'],\n",
       " 'Type': ['Monster', 'Monster', 'EvilMonster', 'Human']}"
      ]
     },
     "execution_count": 28,
     "metadata": {},
     "output_type": "execute_result"
    }
   ],
   "source": [
    "# Write your solution here\n",
    "def create_monster_dol():\n",
    "    data = {'Name':['Mike','Sully','Randall','Boo'],\n",
    "            'Strength':['1','99','35','5'],\n",
    "            'Speed':['3','64','99','5'],\n",
    "            'Type':['Monster','Monster','EvilMonster','Human']}\n",
    "    return data\n",
    "\n",
    "create_monster_dol()"
   ]
  },
  {
   "attachments": {},
   "cell_type": "markdown",
   "id": "783fabe3",
   "metadata": {},
   "source": [
    "---\n",
    "### <font color=#14F278> Task 4: Construct a python function `create_reset_monster()` which does the following: </font>\n",
    "\n",
    "- Takes the function `create_monster_lod()` as an argument\n",
    "-  Calls the argument function and uses the returned object to produce a DataFrame (looking like __Monster Table 1__)\n",
    "- Resets its Index to `['Player1', 'Player2', 'Player3', 'Player4']` - hint: use the `df.index` attribute\n",
    "- Returns the new DataFrame"
   ]
  },
  {
   "cell_type": "code",
   "execution_count": 36,
   "id": "d0d60f6e",
   "metadata": {},
   "outputs": [
    {
     "data": {
      "text/html": [
       "<div>\n",
       "<style scoped>\n",
       "    .dataframe tbody tr th:only-of-type {\n",
       "        vertical-align: middle;\n",
       "    }\n",
       "\n",
       "    .dataframe tbody tr th {\n",
       "        vertical-align: top;\n",
       "    }\n",
       "\n",
       "    .dataframe thead th {\n",
       "        text-align: right;\n",
       "    }\n",
       "</style>\n",
       "<table border=\"1\" class=\"dataframe\">\n",
       "  <thead>\n",
       "    <tr style=\"text-align: right;\">\n",
       "      <th></th>\n",
       "      <th>Name</th>\n",
       "      <th>Stength</th>\n",
       "      <th>Speed</th>\n",
       "      <th>Type</th>\n",
       "    </tr>\n",
       "  </thead>\n",
       "  <tbody>\n",
       "    <tr>\n",
       "      <th>Player1</th>\n",
       "      <td>Mike</td>\n",
       "      <td>1</td>\n",
       "      <td>3</td>\n",
       "      <td>Monster</td>\n",
       "    </tr>\n",
       "    <tr>\n",
       "      <th>Player2</th>\n",
       "      <td>Sully</td>\n",
       "      <td>99</td>\n",
       "      <td>65</td>\n",
       "      <td>Monster</td>\n",
       "    </tr>\n",
       "    <tr>\n",
       "      <th>Player3</th>\n",
       "      <td>Randall</td>\n",
       "      <td>35</td>\n",
       "      <td>99</td>\n",
       "      <td>EvilMonster</td>\n",
       "    </tr>\n",
       "    <tr>\n",
       "      <th>Player4</th>\n",
       "      <td>Boo</td>\n",
       "      <td>5</td>\n",
       "      <td>5</td>\n",
       "      <td>Human</td>\n",
       "    </tr>\n",
       "  </tbody>\n",
       "</table>\n",
       "</div>"
      ],
      "text/plain": [
       "            Name Stength Speed         Type\n",
       "Player1     Mike       1     3      Monster\n",
       "Player2    Sully      99    65      Monster\n",
       "Player3  Randall      35    99  EvilMonster\n",
       "Player4      Boo       5     5        Human"
      ]
     },
     "execution_count": 36,
     "metadata": {},
     "output_type": "execute_result"
    }
   ],
   "source": [
    "# Write your solution here\n",
    "\n",
    "def create_reset_monster(create_monster_lod):\n",
    "    df = pd.DataFrame(create_monster_lod)\n",
    "    df.index = ['Player1', 'Player2', 'Player3', 'Player4']\n",
    "    return df\n",
    "\n",
    "create_reset_monster(create_monster_lod())"
   ]
  },
  {
   "attachments": {},
   "cell_type": "markdown",
   "id": "26000c32",
   "metadata": {},
   "source": [
    "__NB__: *Solutions to these exercises are distributed separately in the form of a stand-alone unit at a later point in time. This is to ensure that consultants have had the chance to attempt the exercises autonomously, leveraging the reading materials and concept check solutions.*"
   ]
  }
 ],
 "metadata": {
  "kernelspec": {
   "display_name": "Python 3 (ipykernel)",
   "language": "python",
   "name": "python3"
  },
  "language_info": {
   "codemirror_mode": {
    "name": "ipython",
    "version": 3
   },
   "file_extension": ".py",
   "mimetype": "text/x-python",
   "name": "python",
   "nbconvert_exporter": "python",
   "pygments_lexer": "ipython3",
   "version": "3.11.8"
  }
 },
 "nbformat": 4,
 "nbformat_minor": 5
}
