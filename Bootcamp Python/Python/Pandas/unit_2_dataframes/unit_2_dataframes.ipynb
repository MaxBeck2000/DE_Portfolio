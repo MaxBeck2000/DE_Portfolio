{
 "cells": [
  {
   "attachments": {},
   "cell_type": "markdown",
   "id": "3dbd1dc9",
   "metadata": {},
   "source": [
    "\n",
    "# <font color=#14F278>Unit 2 - Pandas DataFrames</font>\n",
    "---\n",
    "\n",
    "## <font color=#14F278> 1. Pandas DataFrame - Definition:</font>\n",
    "\n",
    "\n",
    "\n",
    "In the previous unit we learnt about the concept of Series. Pandas <font color=#14F278>**DataFrames**</font> are a natural conitnuation of it.\n",
    "\n",
    "A <font color=#14F278>**DataFrame**</font> is a <font color=#14F278>**2-dimensional array of data**</font>, indexed by rows and columns. Each column in a __DataFrame__ corresponds to a __Series__ object. Put simply, a __DataFrame__ is the Pandas' term for a table! And just like with any table, each cell in it is uniquely identified by its row and column index - in that sense:  \n",
    "\n",
    "- Each __DataFrame__ is a <font color=#14F278>**collection of Series**</font>, each having a single data type\n",
    "- We can think of each pair `(row_index, column_index)` as a <font color=#14F278>**key**</font> of an element in the __DataFrame__\n",
    "\n",
    "\n",
    "<center>\n",
    "    <div>\n",
    "        <img src=\"..\\images\\dataframes_001.png\"/>\n",
    "    </div>\n",
    "</center>"
   ]
  },
  {
   "cell_type": "code",
   "execution_count": 1,
   "id": "c6fbd9ae",
   "metadata": {},
   "outputs": [],
   "source": [
    "# Imports\n",
    "import pandas as pd\n",
    "import numpy as np\n",
    "import datetime as dt"
   ]
  },
  {
   "attachments": {},
   "cell_type": "markdown",
   "id": "8ea5eee4",
   "metadata": {},
   "source": [
    "---\n",
    "## <font color=#14F278> 2. Constructing a Pandas DataFrame:</font>\n",
    "\n",
    "A __DataFrame__ object can be created in many ways. To see why, recall that a simple __Series__ object can be constructed from a list as well as a dictionary. Now we are handling not a 1- but a 2-dimensional object. In that sense, there are multiple ways to navigate the construction - horizontally via creating a collection of rows, or vertically - via a collection of columns!\n",
    "\n",
    "---\n",
    "### <font color=#14F278> 2.1 Constructing a DataFrame with 1 Column:</font>\n",
    "A __DataFrame__ can have a single column. Yes - this really looks like a Series, however, once initialised as a DataFrame object, Python will treat it as such - a table with only one column. A single-column DataFrame can be built in 2 ways:\n",
    "\n",
    "- From a <font color=#14F278>**List**</font> :\n",
    "    - `pd.DataFrame([item1, item2, ...], columns = ['column1'])` \n",
    "    \n",
    "- From a <font color=#14F278>**Series**</font>:\n",
    "    - `pd.DataFrame(series_name)`"
   ]
  },
  {
   "cell_type": "code",
   "execution_count": 2,
   "id": "83d18a79",
   "metadata": {},
   "outputs": [
    {
     "data": {
      "text/html": [
       "<div>\n",
       "<style scoped>\n",
       "    .dataframe tbody tr th:only-of-type {\n",
       "        vertical-align: middle;\n",
       "    }\n",
       "\n",
       "    .dataframe tbody tr th {\n",
       "        vertical-align: top;\n",
       "    }\n",
       "\n",
       "    .dataframe thead th {\n",
       "        text-align: right;\n",
       "    }\n",
       "</style>\n",
       "<table border=\"1\" class=\"dataframe\">\n",
       "  <thead>\n",
       "    <tr style=\"text-align: right;\">\n",
       "      <th></th>\n",
       "      <th>column1</th>\n",
       "    </tr>\n",
       "  </thead>\n",
       "  <tbody>\n",
       "    <tr>\n",
       "      <th>0</th>\n",
       "      <td>1</td>\n",
       "    </tr>\n",
       "    <tr>\n",
       "      <th>1</th>\n",
       "      <td>2</td>\n",
       "    </tr>\n",
       "    <tr>\n",
       "      <th>2</th>\n",
       "      <td>3</td>\n",
       "    </tr>\n",
       "    <tr>\n",
       "      <th>3</th>\n",
       "      <td>4</td>\n",
       "    </tr>\n",
       "  </tbody>\n",
       "</table>\n",
       "</div>"
      ],
      "text/plain": [
       "   column1\n",
       "0        1\n",
       "1        2\n",
       "2        3\n",
       "3        4"
      ]
     },
     "metadata": {},
     "output_type": "display_data"
    }
   ],
   "source": [
    "# Constructing a dataframe from a simple list\n",
    "df = pd.DataFrame([1,2,3,4], columns=['column1'])\n",
    "display(df)"
   ]
  },
  {
   "cell_type": "code",
   "execution_count": 3,
   "id": "d26c0729",
   "metadata": {},
   "outputs": [
    {
     "data": {
      "text/html": [
       "<div>\n",
       "<style scoped>\n",
       "    .dataframe tbody tr th:only-of-type {\n",
       "        vertical-align: middle;\n",
       "    }\n",
       "\n",
       "    .dataframe tbody tr th {\n",
       "        vertical-align: top;\n",
       "    }\n",
       "\n",
       "    .dataframe thead th {\n",
       "        text-align: right;\n",
       "    }\n",
       "</style>\n",
       "<table border=\"1\" class=\"dataframe\">\n",
       "  <thead>\n",
       "    <tr style=\"text-align: right;\">\n",
       "      <th></th>\n",
       "      <th>0</th>\n",
       "    </tr>\n",
       "  </thead>\n",
       "  <tbody>\n",
       "    <tr>\n",
       "      <th>a</th>\n",
       "      <td>123</td>\n",
       "    </tr>\n",
       "    <tr>\n",
       "      <th>b</th>\n",
       "      <td>456</td>\n",
       "    </tr>\n",
       "  </tbody>\n",
       "</table>\n",
       "</div>"
      ],
      "text/plain": [
       "     0\n",
       "a  123\n",
       "b  456"
      ]
     },
     "metadata": {},
     "output_type": "display_data"
    },
    {
     "data": {
      "text/html": [
       "<div>\n",
       "<style scoped>\n",
       "    .dataframe tbody tr th:only-of-type {\n",
       "        vertical-align: middle;\n",
       "    }\n",
       "\n",
       "    .dataframe tbody tr th {\n",
       "        vertical-align: top;\n",
       "    }\n",
       "\n",
       "    .dataframe thead th {\n",
       "        text-align: right;\n",
       "    }\n",
       "</style>\n",
       "<table border=\"1\" class=\"dataframe\">\n",
       "  <thead>\n",
       "    <tr style=\"text-align: right;\">\n",
       "      <th></th>\n",
       "      <th>column1</th>\n",
       "    </tr>\n",
       "  </thead>\n",
       "  <tbody>\n",
       "    <tr>\n",
       "      <th>a</th>\n",
       "      <td>123</td>\n",
       "    </tr>\n",
       "    <tr>\n",
       "      <th>b</th>\n",
       "      <td>456</td>\n",
       "    </tr>\n",
       "  </tbody>\n",
       "</table>\n",
       "</div>"
      ],
      "text/plain": [
       "   column1\n",
       "a      123\n",
       "b      456"
      ]
     },
     "metadata": {},
     "output_type": "display_data"
    }
   ],
   "source": [
    "# Constructing a dataframe from a series object\n",
    "s  = pd.Series({'a':123, 'b':456})\n",
    "df = pd.DataFrame(s)\n",
    "display(df)\n",
    "\n",
    "# unless the column name is specified, it will be assigned a default value 0 - we can rename the column in this way\n",
    "df = df.rename(columns = {0:'column1'})\n",
    "display(df)"
   ]
  },
  {
   "attachments": {},
   "cell_type": "markdown",
   "id": "0fa199f3",
   "metadata": {},
   "source": [
    "---\n",
    "### <font color=#14F278> 2.2 Constructing a DataFrame with Multiple Columns:</font>\n",
    "Now let's explore the ways to build a <font color=#14F278>**multi-column DataFrame**</font>. Below is a brief syntax guide on the different ways to do it:\n",
    "\n",
    "<center>\n",
    "    <div>\n",
    "        <img src=\"..\\images\\dataframes_002.png\"/>\n",
    "    </div>\n",
    "</center>\n",
    "\n",
    "\n",
    "- From a <font color=#14F278>**List of Lists**</font> - each inner list corresponds to a row:\n",
    "    - `pd.DataFrame([list1, list2, list3, ...], columns = ['column1', ...])` where `list1 = [item1, item2, ...]`\n",
    "    \n",
    "    \n",
    "- From a <font color=#14F278>**List of Dictionaries**</font> - each dictionary corresponds to a row; each key in a dict corresponds to a column name\n",
    "    - `pd.DataFrame([dict1, dict2, dict3, ...])` where `dict1 = {'column1': value1, 'columns2': value2, ...}`\n",
    "   \n",
    "   \n",
    "- From a <font color=#14F278>**Dictionary of List Values**</font> - each key correspond to a column name; each list corresponds to column values\n",
    "    - `pd.DataFrame({'column1': list1, 'column2': list2, ...})` where `list1 = [item1, item2, ...]`\n",
    "    \n",
    "    \n",
    "- From a <font color=#14F278>**Dictionary of Series**</font> - each key corresponds to a column name; each Series corresponds to column values\n",
    "    - `pd.DataFrame({'column1': series1, 'column2': series2, ...})` where `series1 = pd.Series(...)`"
   ]
  },
  {
   "cell_type": "code",
   "execution_count": 4,
   "id": "1a580f4f",
   "metadata": {},
   "outputs": [
    {
     "data": {
      "text/html": [
       "<div>\n",
       "<style scoped>\n",
       "    .dataframe tbody tr th:only-of-type {\n",
       "        vertical-align: middle;\n",
       "    }\n",
       "\n",
       "    .dataframe tbody tr th {\n",
       "        vertical-align: top;\n",
       "    }\n",
       "\n",
       "    .dataframe thead th {\n",
       "        text-align: right;\n",
       "    }\n",
       "</style>\n",
       "<table border=\"1\" class=\"dataframe\">\n",
       "  <thead>\n",
       "    <tr style=\"text-align: right;\">\n",
       "      <th></th>\n",
       "      <th>col1</th>\n",
       "      <th>col2</th>\n",
       "    </tr>\n",
       "  </thead>\n",
       "  <tbody>\n",
       "    <tr>\n",
       "      <th>0</th>\n",
       "      <td>1</td>\n",
       "      <td>2</td>\n",
       "    </tr>\n",
       "    <tr>\n",
       "      <th>1</th>\n",
       "      <td>3</td>\n",
       "      <td>4</td>\n",
       "    </tr>\n",
       "    <tr>\n",
       "      <th>2</th>\n",
       "      <td>5</td>\n",
       "      <td>6</td>\n",
       "    </tr>\n",
       "  </tbody>\n",
       "</table>\n",
       "</div>"
      ],
      "text/plain": [
       "   col1  col2\n",
       "0     1     2\n",
       "1     3     4\n",
       "2     5     6"
      ]
     },
     "metadata": {},
     "output_type": "display_data"
    }
   ],
   "source": [
    "# Constructing a dataframe using a list of lists.\n",
    "data = [[1,2], # row 1\n",
    "        [3,4], # row 2\n",
    "        [5,6]] # row 3\n",
    "\n",
    "df = pd.DataFrame(data, columns=['col1', 'col2'])\n",
    "display(df)"
   ]
  },
  {
   "cell_type": "code",
   "execution_count": 6,
   "id": "f5410fd2",
   "metadata": {},
   "outputs": [
    {
     "data": {
      "text/html": [
       "<div>\n",
       "<style scoped>\n",
       "    .dataframe tbody tr th:only-of-type {\n",
       "        vertical-align: middle;\n",
       "    }\n",
       "\n",
       "    .dataframe tbody tr th {\n",
       "        vertical-align: top;\n",
       "    }\n",
       "\n",
       "    .dataframe thead th {\n",
       "        text-align: right;\n",
       "    }\n",
       "</style>\n",
       "<table border=\"1\" class=\"dataframe\">\n",
       "  <thead>\n",
       "    <tr style=\"text-align: right;\">\n",
       "      <th></th>\n",
       "      <th>a</th>\n",
       "      <th>b</th>\n",
       "    </tr>\n",
       "  </thead>\n",
       "  <tbody>\n",
       "    <tr>\n",
       "      <th>0</th>\n",
       "      <td>111</td>\n",
       "      <td>222</td>\n",
       "    </tr>\n",
       "    <tr>\n",
       "      <th>1</th>\n",
       "      <td>333</td>\n",
       "      <td>444</td>\n",
       "    </tr>\n",
       "    <tr>\n",
       "      <th>2</th>\n",
       "      <td>555</td>\n",
       "      <td>666</td>\n",
       "    </tr>\n",
       "  </tbody>\n",
       "</table>\n",
       "</div>"
      ],
      "text/plain": [
       "     a    b\n",
       "0  111  222\n",
       "1  333  444\n",
       "2  555  666"
      ]
     },
     "metadata": {},
     "output_type": "display_data"
    }
   ],
   "source": [
    "# From a list of dictionaries\n",
    "data = [{'a':111, 'b':222}, # row 1\n",
    "        {'a':333, 'b':444}, # row 2\n",
    "        {'b':666, 'a':555}] # row 3\n",
    "\n",
    "df = pd.DataFrame(data)\n",
    "display(df)"
   ]
  },
  {
   "cell_type": "code",
   "execution_count": 5,
   "id": "6f19911b",
   "metadata": {},
   "outputs": [
    {
     "data": {
      "text/html": [
       "<div>\n",
       "<style scoped>\n",
       "    .dataframe tbody tr th:only-of-type {\n",
       "        vertical-align: middle;\n",
       "    }\n",
       "\n",
       "    .dataframe tbody tr th {\n",
       "        vertical-align: top;\n",
       "    }\n",
       "\n",
       "    .dataframe thead th {\n",
       "        text-align: right;\n",
       "    }\n",
       "</style>\n",
       "<table border=\"1\" class=\"dataframe\">\n",
       "  <thead>\n",
       "    <tr style=\"text-align: right;\">\n",
       "      <th></th>\n",
       "      <th>a</th>\n",
       "      <th>b</th>\n",
       "    </tr>\n",
       "  </thead>\n",
       "  <tbody>\n",
       "    <tr>\n",
       "      <th>0</th>\n",
       "      <td>1</td>\n",
       "      <td>5</td>\n",
       "    </tr>\n",
       "    <tr>\n",
       "      <th>1</th>\n",
       "      <td>2</td>\n",
       "      <td>6</td>\n",
       "    </tr>\n",
       "    <tr>\n",
       "      <th>2</th>\n",
       "      <td>3</td>\n",
       "      <td>7</td>\n",
       "    </tr>\n",
       "    <tr>\n",
       "      <th>3</th>\n",
       "      <td>4</td>\n",
       "      <td>8</td>\n",
       "    </tr>\n",
       "  </tbody>\n",
       "</table>\n",
       "</div>"
      ],
      "text/plain": [
       "   a  b\n",
       "0  1  5\n",
       "1  2  6\n",
       "2  3  7\n",
       "3  4  8"
      ]
     },
     "metadata": {},
     "output_type": "display_data"
    }
   ],
   "source": [
    "# From a dictionary of list values. For me this is the best type\n",
    "data = {'a':[1,2,3,4], 'b':[5,6,7,8]}\n",
    "\n",
    "df = pd.DataFrame(data)\n",
    "display(df)"
   ]
  },
  {
   "cell_type": "code",
   "execution_count": 7,
   "id": "938a53e8",
   "metadata": {},
   "outputs": [
    {
     "data": {
      "text/html": [
       "<div>\n",
       "<style scoped>\n",
       "    .dataframe tbody tr th:only-of-type {\n",
       "        vertical-align: middle;\n",
       "    }\n",
       "\n",
       "    .dataframe tbody tr th {\n",
       "        vertical-align: top;\n",
       "    }\n",
       "\n",
       "    .dataframe thead th {\n",
       "        text-align: right;\n",
       "    }\n",
       "</style>\n",
       "<table border=\"1\" class=\"dataframe\">\n",
       "  <thead>\n",
       "    <tr style=\"text-align: right;\">\n",
       "      <th></th>\n",
       "      <th>series1</th>\n",
       "      <th>series2</th>\n",
       "    </tr>\n",
       "  </thead>\n",
       "  <tbody>\n",
       "    <tr>\n",
       "      <th>a</th>\n",
       "      <td>1</td>\n",
       "      <td>3</td>\n",
       "    </tr>\n",
       "    <tr>\n",
       "      <th>b</th>\n",
       "      <td>2</td>\n",
       "      <td>4</td>\n",
       "    </tr>\n",
       "  </tbody>\n",
       "</table>\n",
       "</div>"
      ],
      "text/plain": [
       "   series1  series2\n",
       "a        1        3\n",
       "b        2        4"
      ]
     },
     "metadata": {},
     "output_type": "display_data"
    }
   ],
   "source": [
    "# From a dictionary of series\n",
    "s1 = pd.Series([1,2], index=['a','b'])\n",
    "s2 = pd.Series([3,4], index=['a','b'])\n",
    "\n",
    "data = {'series1':s1, 'series2':s2}\n",
    "\n",
    "df = pd.DataFrame(data)\n",
    "display(df)"
   ]
  },
  {
   "cell_type": "code",
   "execution_count": 8,
   "id": "178e49af",
   "metadata": {},
   "outputs": [
    {
     "data": {
      "text/html": [
       "<div>\n",
       "<style scoped>\n",
       "    .dataframe tbody tr th:only-of-type {\n",
       "        vertical-align: middle;\n",
       "    }\n",
       "\n",
       "    .dataframe tbody tr th {\n",
       "        vertical-align: top;\n",
       "    }\n",
       "\n",
       "    .dataframe thead th {\n",
       "        text-align: right;\n",
       "    }\n",
       "</style>\n",
       "<table border=\"1\" class=\"dataframe\">\n",
       "  <thead>\n",
       "    <tr style=\"text-align: right;\">\n",
       "      <th></th>\n",
       "      <th>series1</th>\n",
       "      <th>series2</th>\n",
       "    </tr>\n",
       "  </thead>\n",
       "  <tbody>\n",
       "    <tr>\n",
       "      <th>a</th>\n",
       "      <td>1.0</td>\n",
       "      <td>NaN</td>\n",
       "    </tr>\n",
       "    <tr>\n",
       "      <th>b</th>\n",
       "      <td>2.0</td>\n",
       "      <td>3.0</td>\n",
       "    </tr>\n",
       "    <tr>\n",
       "      <th>c</th>\n",
       "      <td>NaN</td>\n",
       "      <td>4.0</td>\n",
       "    </tr>\n",
       "  </tbody>\n",
       "</table>\n",
       "</div>"
      ],
      "text/plain": [
       "   series1  series2\n",
       "a      1.0      NaN\n",
       "b      2.0      3.0\n",
       "c      NaN      4.0"
      ]
     },
     "metadata": {},
     "output_type": "display_data"
    }
   ],
   "source": [
    "# From a dictionary of series - showing index alignment\n",
    "s1 = pd.Series([1,2], index=['a','b'])\n",
    "s2 = pd.Series([3,4], index=['b','c'])\n",
    "data = {'series1':s1, 'series2':s2}\n",
    "\n",
    "df = pd.DataFrame(data)\n",
    "display(df)"
   ]
  },
  {
   "cell_type": "code",
   "execution_count": 11,
   "id": "685b890a",
   "metadata": {},
   "outputs": [
    {
     "data": {
      "text/plain": [
       "numpy.float64"
      ]
     },
     "execution_count": 11,
     "metadata": {},
     "output_type": "execute_result"
    }
   ],
   "source": [
    "type(df.iloc[0,1])"
   ]
  },
  {
   "attachments": {},
   "cell_type": "markdown",
   "id": "adc6ddad",
   "metadata": {},
   "source": [
    "---\n",
    "## <font color=#14F278> 3. Retrieving DataFrame's Index, Columns and Values:</font>\n",
    "\n",
    "\n",
    "Obtaining information on values and the index of a DataFrame is identical to how we do it with Series:"
   ]
  },
  {
   "cell_type": "code",
   "execution_count": 16,
   "id": "a3f85471",
   "metadata": {},
   "outputs": [
    {
     "data": {
      "text/plain": [
       "Index(['a', 'b', 'c'], dtype='object')"
      ]
     },
     "execution_count": 16,
     "metadata": {},
     "output_type": "execute_result"
    }
   ],
   "source": [
    "# Getting the index\n",
    "df.index"
   ]
  },
  {
   "cell_type": "code",
   "execution_count": 20,
   "id": "31ff664e",
   "metadata": {},
   "outputs": [
    {
     "data": {
      "text/plain": [
       "Index(['series1', 'series2'], dtype='object')"
      ]
     },
     "execution_count": 20,
     "metadata": {},
     "output_type": "execute_result"
    }
   ],
   "source": [
    "# Getting the columns\n",
    "df.columns"
   ]
  },
  {
   "cell_type": "code",
   "execution_count": null,
   "id": "48b2cc66",
   "metadata": {},
   "outputs": [],
   "source": [
    "# Getting the values\n",
    "df.values"
   ]
  },
  {
   "attachments": {},
   "cell_type": "markdown",
   "id": "a25e44c7",
   "metadata": {},
   "source": [
    "---\n",
    "## <font color=#14F278> 4. DataFrame - Column Data Types:</font>\n",
    "\n",
    "Since a __DataFrame__ is really just a <font color=#14F278>**collection of Series**</font>, we can easily obtain the data types of all columns in the same way we did with Series. To cast a new data type onto a column however, we now have to specify the column name of interest:"
   ]
  },
  {
   "cell_type": "code",
   "execution_count": 21,
   "id": "d152d60b",
   "metadata": {},
   "outputs": [
    {
     "data": {
      "text/plain": [
       "series1    float64\n",
       "series2    float64\n",
       "dtype: object"
      ]
     },
     "execution_count": 21,
     "metadata": {},
     "output_type": "execute_result"
    }
   ],
   "source": [
    "# Getting datatypes for each column - note the difference between s.dtype and df.dtypes - there is an extra s\n",
    "df.dtypes"
   ]
  },
  {
   "cell_type": "code",
   "execution_count": 22,
   "id": "400da893",
   "metadata": {},
   "outputs": [
    {
     "data": {
      "text/plain": [
       "series1     object\n",
       "series2    float64\n",
       "dtype: object"
      ]
     },
     "execution_count": 22,
     "metadata": {},
     "output_type": "execute_result"
    }
   ],
   "source": [
    "# Typecasting on a dataframe column\n",
    "# we have to use a nested (double) square bracket structure - more on this later\n",
    "df[['series1']] = df[['series1']].astype(str)\n",
    "df.dtypes"
   ]
  },
  {
   "attachments": {},
   "cell_type": "markdown",
   "id": "86630c6d",
   "metadata": {},
   "source": [
    "---\n",
    "## <font color=#14F278> 5. DataFrame Shape:</font>\n",
    "As we know, the __Shape__ of an object returns information on its dimensions. With __Series__ we saw that the outcome of the `.shape` method was a __(x,)__ pair, indicating the number of elements in the Series. \n",
    "\n",
    "\n",
    "__DataFrames__ are however 2-dimensional, so we would expect to <font color=#14F278>**obtain information on 2 things**</font> - the number of rows and number of columns in it.\n",
    "\n",
    "Remember: The output of `df.shape` is <font color=#14F278>**a pair (x,y)**</font> where:\n",
    "- <font color=#14F278>**x**</font> corresponds to the number of rows\n",
    "- <font color=#14F278>**y**</font> corresponds to the number of columns"
   ]
  },
  {
   "cell_type": "code",
   "execution_count": 23,
   "id": "c84890a8",
   "metadata": {},
   "outputs": [
    {
     "data": {
      "text/plain": [
       "(3, 2)"
      ]
     },
     "execution_count": 23,
     "metadata": {},
     "output_type": "execute_result"
    }
   ],
   "source": [
    "# 2 dimensions - 3 rows, 2 columns.\n",
    "df.shape"
   ]
  },
  {
   "attachments": {},
   "cell_type": "markdown",
   "id": "c64c0841",
   "metadata": {},
   "source": [
    "---\n",
    "## <font color=#14F278> 6. Pandas Index Object:</font>\n",
    "We encountered the concept of <font color=#14F278>**Index**</font> with both __Series__ and __DataFrames__. \n",
    "\n",
    "<font color=#14F278>**Pandas Index**</font> is an <font color=#14F278>**immutable sequence**</font> used for indexing and alignment - the basic object, storing axis labels for all Pandas objects. Think of an index as an immutable list or tuple.\n",
    "\n",
    "In the context of working with Series and DataFrames, unless explicitly specified, indexes will be automatically created. Below we are showing a couple of ways to explicitly construct an __Index__ object via the `.Index()` method:"
   ]
  },
  {
   "cell_type": "code",
   "execution_count": 24,
   "id": "8228b599",
   "metadata": {},
   "outputs": [
    {
     "data": {
      "text/plain": [
       "Index([1, 2, 3], dtype='int64')"
      ]
     },
     "execution_count": 24,
     "metadata": {},
     "output_type": "execute_result"
    }
   ],
   "source": [
    "# Creating an integer index\n",
    "idx = pd.Index([1,2,3])\n",
    "idx"
   ]
  },
  {
   "cell_type": "code",
   "execution_count": 13,
   "id": "735764d6",
   "metadata": {},
   "outputs": [
    {
     "data": {
      "text/plain": [
       "DatetimeIndex(['2020-01-01', '2020-01-02'], dtype='datetime64[ns]', freq=None)"
      ]
     },
     "execution_count": 13,
     "metadata": {},
     "output_type": "execute_result"
    }
   ],
   "source": [
    "# Creating a datetime index\n",
    "pd.Index([dt.datetime(2020,1,1), dt.datetime(2020,1,2)])"
   ]
  },
  {
   "cell_type": "code",
   "execution_count": null,
   "id": "83c4f2a1",
   "metadata": {},
   "outputs": [],
   "source": []
  },
  {
   "cell_type": "code",
   "execution_count": 14,
   "id": "b9f12929",
   "metadata": {},
   "outputs": [
    {
     "ename": "TypeError",
     "evalue": "Index does not support mutable operations",
     "output_type": "error",
     "traceback": [
      "\u001b[1;31m---------------------------------------------------------------------------\u001b[0m",
      "\u001b[1;31mTypeError\u001b[0m                                 Traceback (most recent call last)",
      "Cell \u001b[1;32mIn[14], line 3\u001b[0m\n\u001b[0;32m      1\u001b[0m \u001b[38;5;66;03m# Pandas indexes are immutable objects -- we can't change its value.\u001b[39;00m\n\u001b[0;32m      2\u001b[0m idx \u001b[38;5;241m=\u001b[39m pd\u001b[38;5;241m.\u001b[39mIndex([\u001b[38;5;241m1\u001b[39m,\u001b[38;5;241m2\u001b[39m,\u001b[38;5;241m3\u001b[39m])\n\u001b[1;32m----> 3\u001b[0m \u001b[43midx\u001b[49m\u001b[43m[\u001b[49m\u001b[38;5;241;43m1\u001b[39;49m\u001b[43m]\u001b[49m \u001b[38;5;241m=\u001b[39m \u001b[38;5;241m5\u001b[39m \u001b[38;5;66;03m# We get an error\u001b[39;00m\n",
      "File \u001b[1;32mc:\\Users\\MaxBeck\\AppData\\Local\\Programs\\Python\\Python311\\Lib\\site-packages\\pandas\\core\\indexes\\base.py:5371\u001b[0m, in \u001b[0;36mIndex.__setitem__\u001b[1;34m(self, key, value)\u001b[0m\n\u001b[0;32m   5369\u001b[0m \u001b[38;5;129m@final\u001b[39m\n\u001b[0;32m   5370\u001b[0m \u001b[38;5;28;01mdef\u001b[39;00m \u001b[38;5;21m__setitem__\u001b[39m(\u001b[38;5;28mself\u001b[39m, key, value) \u001b[38;5;241m-\u001b[39m\u001b[38;5;241m>\u001b[39m \u001b[38;5;28;01mNone\u001b[39;00m:\n\u001b[1;32m-> 5371\u001b[0m     \u001b[38;5;28;01mraise\u001b[39;00m \u001b[38;5;167;01mTypeError\u001b[39;00m(\u001b[38;5;124m\"\u001b[39m\u001b[38;5;124mIndex does not support mutable operations\u001b[39m\u001b[38;5;124m\"\u001b[39m)\n",
      "\u001b[1;31mTypeError\u001b[0m: Index does not support mutable operations"
     ]
    }
   ],
   "source": [
    "# Pandas indexes are immutable objects -- we can't change its value.\n",
    "idx = pd.Index([1,2,3])\n",
    "idx[1] = 5 # We get an error"
   ]
  },
  {
   "attachments": {},
   "cell_type": "markdown",
   "id": "4c4f651e",
   "metadata": {},
   "source": [
    "---\n",
    "## <font color=#14F278> 7. Summary:</font>\n",
    "\n",
    "- Pandas __DataFrame__ is a 2-dimensional array of data, indexed by rows and columns\n",
    "- DataFrames can be constructed in multiple ways - via list of lists, list of dictionaries, dictionary of lists, etc.\n",
    "- Obtaining the values, index, columns, column data types and the shape of a dataframe is identical to Series\n",
    "- Pandas __Index__ Object is an immutable sequence for indexing and alignment of Pandas objects"
   ]
  },
  {
   "attachments": {},
   "cell_type": "markdown",
   "id": "c17db8e7",
   "metadata": {},
   "source": [
    "---\n",
    "## <font color=#FF8181> 8. Concept Check: </font>\n",
    "\n",
    "1. What is a pandas DataFrame? How is it different to a Series?\n",
    "2. What are some useful attributes of a DataFrame instance?\n",
    "3. What is the data type for a column in a dataframe?\n",
    "4. Construct the following DataFrame in Pandas:\n",
    "\n",
    "| |col1|col2|\n",
    "|-|-|-|\n",
    "|0|1|2.0|\n",
    "|1|3|4.0|\n",
    "|2|5|6.0|\n",
    "\n",
    "Do this by using:\n",
    "- list of lists\n",
    "- list of tuples\n",
    "- list of dictionaries\n",
    "- dictionary of lists"
   ]
  },
  {
   "cell_type": "code",
   "execution_count": null,
   "id": "8f8eb6e2",
   "metadata": {},
   "outputs": [],
   "source": [
    "# 1) What is a Pandas DataFrame Object? How is it different to a Series?\n",
    "\n",
    "# A DataFrame is a 2-dimensional array of data, indexed by rows and columns (Unlike Series, which is 1-dimensional).\n",
    "# Each column of a DataFrame is a Series object, in that sense a DataFrame is a collection of Series."
   ]
  },
  {
   "cell_type": "code",
   "execution_count": null,
   "id": "7211b00f",
   "metadata": {},
   "outputs": [],
   "source": [
    "# 2) What are some useful attributes of a DataFrame instance?\n",
    "\n",
    "# The concept of DataFrame is a natural continuation of the concept of Series - in that sense, it inherits a lot of rules and\n",
    "# attributes, applicable to Series:\n",
    "# - General - Dimension, Shape - .shape, .index, .columns\n",
    "# - Data related - .values, .dtypes"
   ]
  },
  {
   "cell_type": "code",
   "execution_count": null,
   "id": "3991c4f2",
   "metadata": {},
   "outputs": [],
   "source": [
    "# 3) What is the data type for each column in a DataFrame?\n",
    "\n",
    "# Each column in a DataFrame is a Series. In that sense, each DataFrame column has a single data type - int, float, object, etc."
   ]
  },
  {
   "cell_type": "code",
   "execution_count": 28,
   "id": "18df136a",
   "metadata": {},
   "outputs": [
    {
     "data": {
      "text/html": [
       "<div>\n",
       "<style scoped>\n",
       "    .dataframe tbody tr th:only-of-type {\n",
       "        vertical-align: middle;\n",
       "    }\n",
       "\n",
       "    .dataframe tbody tr th {\n",
       "        vertical-align: top;\n",
       "    }\n",
       "\n",
       "    .dataframe thead th {\n",
       "        text-align: right;\n",
       "    }\n",
       "</style>\n",
       "<table border=\"1\" class=\"dataframe\">\n",
       "  <thead>\n",
       "    <tr style=\"text-align: right;\">\n",
       "      <th></th>\n",
       "      <th>col1</th>\n",
       "      <th>col2</th>\n",
       "    </tr>\n",
       "  </thead>\n",
       "  <tbody>\n",
       "    <tr>\n",
       "      <th>0</th>\n",
       "      <td>1</td>\n",
       "      <td>2.0</td>\n",
       "    </tr>\n",
       "    <tr>\n",
       "      <th>1</th>\n",
       "      <td>3</td>\n",
       "      <td>4.0</td>\n",
       "    </tr>\n",
       "    <tr>\n",
       "      <th>2</th>\n",
       "      <td>5</td>\n",
       "      <td>6.0</td>\n",
       "    </tr>\n",
       "  </tbody>\n",
       "</table>\n",
       "</div>"
      ],
      "text/plain": [
       "   col1  col2\n",
       "0     1   2.0\n",
       "1     3   4.0\n",
       "2     5   6.0"
      ]
     },
     "metadata": {},
     "output_type": "display_data"
    }
   ],
   "source": [
    "#4 a\n",
    "data = [[1,2.0], # row 1\n",
    "        [3,4.0], # row 2\n",
    "        [5,6.0]] # row 3\n",
    "\n",
    "df = pd.DataFrame(data, columns=['col1', 'col2'])\n",
    "display(df)\n",
    "\n"
   ]
  },
  {
   "cell_type": "code",
   "execution_count": 30,
   "id": "19487bb7",
   "metadata": {},
   "outputs": [
    {
     "data": {
      "text/html": [
       "<div>\n",
       "<style scoped>\n",
       "    .dataframe tbody tr th:only-of-type {\n",
       "        vertical-align: middle;\n",
       "    }\n",
       "\n",
       "    .dataframe tbody tr th {\n",
       "        vertical-align: top;\n",
       "    }\n",
       "\n",
       "    .dataframe thead th {\n",
       "        text-align: right;\n",
       "    }\n",
       "</style>\n",
       "<table border=\"1\" class=\"dataframe\">\n",
       "  <thead>\n",
       "    <tr style=\"text-align: right;\">\n",
       "      <th></th>\n",
       "      <th>col1</th>\n",
       "      <th>col2</th>\n",
       "    </tr>\n",
       "  </thead>\n",
       "  <tbody>\n",
       "    <tr>\n",
       "      <th>0</th>\n",
       "      <td>1</td>\n",
       "      <td>2.0</td>\n",
       "    </tr>\n",
       "    <tr>\n",
       "      <th>1</th>\n",
       "      <td>3</td>\n",
       "      <td>4.0</td>\n",
       "    </tr>\n",
       "    <tr>\n",
       "      <th>2</th>\n",
       "      <td>5</td>\n",
       "      <td>6.0</td>\n",
       "    </tr>\n",
       "  </tbody>\n",
       "</table>\n",
       "</div>"
      ],
      "text/plain": [
       "   col1  col2\n",
       "0     1   2.0\n",
       "1     3   4.0\n",
       "2     5   6.0"
      ]
     },
     "metadata": {},
     "output_type": "display_data"
    }
   ],
   "source": [
    "#4 b\n",
    "data = [(1,2.0),\n",
    "        (3,4.0),\n",
    "        (5,6.0)]\n",
    "\n",
    "\n",
    "\n",
    "df = pd.DataFrame(data, columns=['col1', 'col2'])\n",
    "display(df)"
   ]
  },
  {
   "cell_type": "code",
   "execution_count": 27,
   "id": "8edf9bc4",
   "metadata": {},
   "outputs": [
    {
     "data": {
      "text/html": [
       "<div>\n",
       "<style scoped>\n",
       "    .dataframe tbody tr th:only-of-type {\n",
       "        vertical-align: middle;\n",
       "    }\n",
       "\n",
       "    .dataframe tbody tr th {\n",
       "        vertical-align: top;\n",
       "    }\n",
       "\n",
       "    .dataframe thead th {\n",
       "        text-align: right;\n",
       "    }\n",
       "</style>\n",
       "<table border=\"1\" class=\"dataframe\">\n",
       "  <thead>\n",
       "    <tr style=\"text-align: right;\">\n",
       "      <th></th>\n",
       "      <th>col1</th>\n",
       "      <th>col2</th>\n",
       "    </tr>\n",
       "  </thead>\n",
       "  <tbody>\n",
       "    <tr>\n",
       "      <th>0</th>\n",
       "      <td>1</td>\n",
       "      <td>2.0</td>\n",
       "    </tr>\n",
       "    <tr>\n",
       "      <th>1</th>\n",
       "      <td>3</td>\n",
       "      <td>4.0</td>\n",
       "    </tr>\n",
       "    <tr>\n",
       "      <th>2</th>\n",
       "      <td>5</td>\n",
       "      <td>6.0</td>\n",
       "    </tr>\n",
       "  </tbody>\n",
       "</table>\n",
       "</div>"
      ],
      "text/plain": [
       "   col1  col2\n",
       "0     1   2.0\n",
       "1     3   4.0\n",
       "2     5   6.0"
      ]
     },
     "metadata": {},
     "output_type": "display_data"
    }
   ],
   "source": [
    "#4 c\n",
    "data = [{'col1':1, 'col2':2.0},\n",
    "        {'col1':3, 'col2':4.0},\n",
    "        {'col1':5, 'col2':6.0}]\n",
    "\n",
    "\n",
    "df = pd.DataFrame(data)\n",
    "display(df)\n",
    "\n"
   ]
  },
  {
   "cell_type": "code",
   "execution_count": 29,
   "id": "3947d922",
   "metadata": {},
   "outputs": [
    {
     "data": {
      "text/html": [
       "<div>\n",
       "<style scoped>\n",
       "    .dataframe tbody tr th:only-of-type {\n",
       "        vertical-align: middle;\n",
       "    }\n",
       "\n",
       "    .dataframe tbody tr th {\n",
       "        vertical-align: top;\n",
       "    }\n",
       "\n",
       "    .dataframe thead th {\n",
       "        text-align: right;\n",
       "    }\n",
       "</style>\n",
       "<table border=\"1\" class=\"dataframe\">\n",
       "  <thead>\n",
       "    <tr style=\"text-align: right;\">\n",
       "      <th></th>\n",
       "      <th>col1</th>\n",
       "      <th>col2</th>\n",
       "    </tr>\n",
       "  </thead>\n",
       "  <tbody>\n",
       "    <tr>\n",
       "      <th>0</th>\n",
       "      <td>1</td>\n",
       "      <td>2.0</td>\n",
       "    </tr>\n",
       "    <tr>\n",
       "      <th>1</th>\n",
       "      <td>3</td>\n",
       "      <td>4.0</td>\n",
       "    </tr>\n",
       "    <tr>\n",
       "      <th>2</th>\n",
       "      <td>5</td>\n",
       "      <td>6.0</td>\n",
       "    </tr>\n",
       "  </tbody>\n",
       "</table>\n",
       "</div>"
      ],
      "text/plain": [
       "   col1  col2\n",
       "0     1   2.0\n",
       "1     3   4.0\n",
       "2     5   6.0"
      ]
     },
     "metadata": {},
     "output_type": "display_data"
    }
   ],
   "source": [
    "#4 d\n",
    "data = {'col1':[1,3,5], 'col2':[2.0,4.0,6.0]}\n",
    "\n",
    "df = pd.DataFrame(data)\n",
    "display(df)"
   ]
  }
 ],
 "metadata": {
  "kernelspec": {
   "display_name": "Python 3 (ipykernel)",
   "language": "python",
   "name": "python3"
  },
  "language_info": {
   "codemirror_mode": {
    "name": "ipython",
    "version": 3
   },
   "file_extension": ".py",
   "mimetype": "text/x-python",
   "name": "python",
   "nbconvert_exporter": "python",
   "pygments_lexer": "ipython3",
   "version": "3.11.8"
  }
 },
 "nbformat": 4,
 "nbformat_minor": 5
}
