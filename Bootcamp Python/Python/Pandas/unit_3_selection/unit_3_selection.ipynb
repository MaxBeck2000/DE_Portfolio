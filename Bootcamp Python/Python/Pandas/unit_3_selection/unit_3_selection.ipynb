{
 "cells": [
  {
   "attachments": {},
   "cell_type": "markdown",
   "id": "4e8963bf",
   "metadata": {},
   "source": [
    "# <font color=#14F278>Unit 3 - Data Indexing and Selection</font>\n",
    "---\n",
    "\n",
    "In the previous units we learnt about the concepts of __Series__ and __DataFrames__ and how to construct them. Let's explore the ways we can access subsets of data from them. \n",
    "\n",
    "## <font color=#14F278> 1. Data Indexing and Selection - Definition:</font>\n",
    "\n",
    "<font color=#14F278>**Data Indexing**</font>  (also known as <font color=#14F278>**Subset Selection**</font>) in Pandas simply means selecting a certain sub-part of data from a Pandas Object.\n",
    "\n",
    "In the context of a __Series__, data indexing could mean selecting one or multiple elements of a Series. In the context of __DataFrames__, data indexing could refer to selecting a subset of rows and columns, individual values, etc."
   ]
  },
  {
   "cell_type": "code",
   "execution_count": 2,
   "id": "3b4babbc",
   "metadata": {},
   "outputs": [],
   "source": [
    "# Imports\n",
    "import pandas as pd\n",
    "import numpy as np\n",
    "import datetime as dt"
   ]
  },
  {
   "attachments": {},
   "cell_type": "markdown",
   "id": "c8c354a7",
   "metadata": {},
   "source": [
    "---\n",
    "## <font color=#14F278> 2. Series - Data Indexing and Selection:</font>\n",
    "\n",
    "Recall that __Series__ are 1-dimensional objects of indexed data.\n",
    "We can index a Series object in one of the following ways:\n",
    "- <font color=#14F278>**Explicit vs Implicit Indexing**</font>\n",
    "- <font color=#14F278>**Slicing**</font>\n",
    "- <font color=#14F278>**Boolean Indexing**</font>"
   ]
  },
  {
   "attachments": {},
   "cell_type": "markdown",
   "id": "f575a296",
   "metadata": {},
   "source": [
    "---\n",
    "### <font color=#14F278> 2.1 Explicit vs Implicit Indexing:</font>\n",
    "\n",
    "The first way to select an element from a Series is by using its <font color=#14F278>**index**</font> as a key!\n",
    "\n",
    "\n",
    "- <font color=#14F278>**Explicit Indexing:**</font>\n",
    "     - accessing a single element via the <font color=#14F278>**actual label (name)**</font> of its corresponding index\n",
    "     - Syntax: `series_name.loc[index_label]`\n",
    "- <font color=#14F278>**Implicit Indexing:**</font>\n",
    "     - accessing a single element via the <font color=#14F278>**integer position**</font> of its corresponding index\n",
    "     - Syntax: `series_name.iloc[index_position]`\n",
    "\n",
    "<font color=#FF8181>**Point to Note:**</font> Indexing is done by using one of two possible accessors - `.loc` and `.iloc`. An easy way to distinguish them from one another is by remembering that `.iloc` stands for __integer location__. In fact, associating the __i__ in `.iloc` with __integer, index,__ or even __implicit__ will help you remember which indexing method does what in the future! \n",
    "\n",
    "\n",
    "<center>\n",
    "    <div>\n",
    "        <img src=\"..\\images\\selection_001.png\"/>\n",
    "    </div>\n",
    "</center>"
   ]
  },
  {
   "cell_type": "code",
   "execution_count": 8,
   "id": "918dd0fa",
   "metadata": {},
   "outputs": [
    {
     "data": {
      "text/plain": [
       "1    a\n",
       "2    b\n",
       "3    c\n",
       "4    d\n",
       "dtype: object"
      ]
     },
     "metadata": {},
     "output_type": "display_data"
    }
   ],
   "source": [
    "# Create a series\n",
    "s = pd.Series(['a','b','c','d'], index=[1,2,3,4])\n",
    "display(s)"
   ]
  },
  {
   "cell_type": "code",
   "execution_count": 7,
   "id": "131014b7",
   "metadata": {},
   "outputs": [
    {
     "data": {
      "text/plain": [
       "2    a\n",
       "3    b\n",
       "4    c\n",
       "5    d\n",
       "dtype: object"
      ]
     },
     "execution_count": 7,
     "metadata": {},
     "output_type": "execute_result"
    }
   ],
   "source": [
    "s.index = range(2,6)\n",
    "s"
   ]
  },
  {
   "cell_type": "code",
   "execution_count": 4,
   "id": "09caabf9",
   "metadata": {},
   "outputs": [
    {
     "name": "stdout",
     "output_type": "stream",
     "text": [
      "Explicit indexing s.loc[1]:  a\n"
     ]
    }
   ],
   "source": [
    "# Explicit indexing (using the actual index labels)\n",
    "# in this example we access the element, corresponding to index of name 1\n",
    "print('Explicit indexing s.loc[1]: ', s.loc[1])"
   ]
  },
  {
   "cell_type": "code",
   "execution_count": 5,
   "id": "6518fa2c",
   "metadata": {},
   "outputs": [
    {
     "name": "stdout",
     "output_type": "stream",
     "text": [
      "Implicit indexing s.iloc[1]:  b\n"
     ]
    }
   ],
   "source": [
    "# Implicit index (using the position)\n",
    "# in this example we access the element, corresponding to position number 1\n",
    "# Recall that Series are 0-indexed -- the element on position 1 is in fact the 2nd element in the Series\n",
    "print('Implicit indexing s.iloc[1]: ', s.iloc[1])"
   ]
  },
  {
   "attachments": {},
   "cell_type": "markdown",
   "id": "52461ed7",
   "metadata": {},
   "source": [
    "<font color=#FF8181>**Warning:**</font> Using <font color=#FF8181>**unspecified indexing**</font> is <font color=#FF8181>**NOT recommended!**</font>\n",
    "\n",
    "Without passing an accessor, Pandas will try to find an element with the specified index label, and if it does not exist, it will search for an element with the specified index position. In any ways, not using an accessor when indexing Series introduced __ambiguity__."
   ]
  },
  {
   "cell_type": "code",
   "execution_count": 9,
   "id": "5b22b861",
   "metadata": {},
   "outputs": [
    {
     "name": "stdout",
     "output_type": "stream",
     "text": [
      "Unspecified indexing s[1]:  a\n"
     ]
    }
   ],
   "source": [
    "# in this case using unspecified indexing resulted in locating the element, corresponding to index label 1\n",
    "print('Unspecified indexing s[1]: ', s[1])"
   ]
  },
  {
   "attachments": {},
   "cell_type": "markdown",
   "id": "a241f94f",
   "metadata": {},
   "source": [
    "---\n",
    "### <font color=#14F278> 2.2 Slicing:</font>\n",
    "\n",
    "We learnt how to access a single element of a Series via Explicit or Implicit Indexing.\n",
    "To access a subset of elements of a Series, we use a method, called <font color=#14F278>**Slicing**</font>!\n",
    "\n",
    "\n",
    "<font color=#14F278>**Slicing**</font> leverages the same accessors as Indexing - `.loc` and `.iloc`. This time however, instead of passing on a single argument - the index label, or the index position of the desired element, we will be passing two arguments, delimited by a colon (__:__)\n",
    "\n",
    "\n",
    "Syntax:\n",
    "- <font color=#14F278>**Explicit Slicing**</font> - `series_name.loc[start_index_label: stop_index_label]` - value corresponding to stop_index_label is <font color=#14F278>**included**</font> in the output\n",
    "- <font color=#14F278>**Implicit Slicing**</font> - `series_name.iloc[start_index_position: stop_index_position]` - value corresponding to stop_index_label is <font color=#14F278>**excluded**</font> from the output\n",
    "\n",
    "<center>\n",
    "    <div>\n",
    "        <img src=\"..\\images\\selection_002.png\"/>\n",
    "    </div>\n",
    "</center>"
   ]
  },
  {
   "cell_type": "code",
   "execution_count": 10,
   "id": "fb075e48",
   "metadata": {},
   "outputs": [
    {
     "data": {
      "text/plain": [
       "1    a\n",
       "2    b\n",
       "3    c\n",
       "4    d\n",
       "dtype: object"
      ]
     },
     "metadata": {},
     "output_type": "display_data"
    }
   ],
   "source": [
    "# Create a Series\n",
    "s = pd.Series(['a','b','c','d'], index=[1,2,3,4])\n",
    "display(s)"
   ]
  },
  {
   "cell_type": "code",
   "execution_count": 11,
   "id": "6da04b82",
   "metadata": {},
   "outputs": [
    {
     "name": "stdout",
     "output_type": "stream",
     "text": [
      "Using explicit slicing s.loc[1:3]\n"
     ]
    },
    {
     "data": {
      "text/plain": [
       "1    a\n",
       "2    b\n",
       "3    c\n",
       "dtype: object"
      ]
     },
     "execution_count": 11,
     "metadata": {},
     "output_type": "execute_result"
    }
   ],
   "source": [
    "# Explicit Slicing - both values at index labels 1 and 3 included -- output has length 3\n",
    "print('Using explicit slicing s.loc[1:3]')\n",
    "s.loc[1:3]"
   ]
  },
  {
   "cell_type": "code",
   "execution_count": 12,
   "id": "09e3c58f",
   "metadata": {},
   "outputs": [
    {
     "name": "stdout",
     "output_type": "stream",
     "text": [
      "Using implicit slicing s.iloc[0:2]\n"
     ]
    },
    {
     "data": {
      "text/plain": [
       "1    a\n",
       "2    b\n",
       "dtype: object"
      ]
     },
     "execution_count": 12,
     "metadata": {},
     "output_type": "execute_result"
    }
   ],
   "source": [
    "# Implicit Slicing - value at index position 2 is excluded - output has length 2\n",
    "print('Using implicit slicing s.iloc[0:2]')\n",
    "s.iloc[0:2]"
   ]
  },
  {
   "attachments": {},
   "cell_type": "markdown",
   "id": "818e8a06",
   "metadata": {},
   "source": [
    "---\n",
    "### <font color=#14F278> 2.3 Boolean Indexing (Masking):</font>\n",
    "\n",
    "<font color=#14F278>**Boolean Indexing**</font> by definition is Indexing which uses <font color=#14F278>**actual values of the elements in the Series**</font>. \n",
    "Put simply, we do a __Boolean Indexing__ by assessing which elements of the Series fulfil a given __True/False__ statement - only the values which returned __True__ are then filtered. \n",
    "\n",
    "<center>\n",
    "    <div>\n",
    "        <img src=\"..\\images\\selection_003.png\"/>\n",
    "    </div>\n",
    "</center>\n",
    "\n",
    "Boolean Indexing is conducted by using a method called <font color=#14F278>**Masking**</font>:\n",
    "\n",
    "A <font color=#14F278>**Mask**</font> is a vector of Boolean objects - e.g. `[True, False, True]`. When used on a Pandas Object - Series, or DataFrames, the mask will return the subset of values, which corresponded to True. \n",
    "\n",
    "Syntax:\n",
    "- <font color=#14F278>**Explicit Mask**</font> - `mask = [bool1, bool2, ...]` where `bool1 = True/False`\n",
    "- <font color=#14F278>**Implicit Mask**</font>- `mask = (True/False statement on series_name)` - this will return a boolean list `[bool1, bool2, ...]`\n",
    "\n",
    "Although it sounds complicated in theory, <font color=#14F278>**Boolean Indexing (Masking) is just filtering!**</font>"
   ]
  },
  {
   "cell_type": "code",
   "execution_count": 13,
   "id": "dc6352bd",
   "metadata": {},
   "outputs": [
    {
     "data": {
      "text/plain": [
       "0    1\n",
       "1    2\n",
       "2    3\n",
       "3    4\n",
       "4    5\n",
       "dtype: int64"
      ]
     },
     "metadata": {},
     "output_type": "display_data"
    }
   ],
   "source": [
    "# Create a Series\n",
    "s = pd.Series([1,2,3,4,5])\n",
    "display(s)"
   ]
  },
  {
   "cell_type": "code",
   "execution_count": 14,
   "id": "a8cb9386",
   "metadata": {},
   "outputs": [
    {
     "name": "stdout",
     "output_type": "stream",
     "text": [
      "After applying the boolean mask: \n"
     ]
    },
    {
     "data": {
      "text/plain": [
       "0    1\n",
       "1    2\n",
       "2    3\n",
       "dtype: int64"
      ]
     },
     "execution_count": 14,
     "metadata": {},
     "output_type": "execute_result"
    }
   ],
   "source": [
    "# Create a mask explicitly (manually entering True/False bools)\n",
    "# note - once the mask is created, we can pass it onto the series via using the [] operator\n",
    "mask = [True, True, True, False, False]\n",
    "print('After applying the boolean mask: ')\n",
    "s[mask]"
   ]
  },
  {
   "cell_type": "code",
   "execution_count": 18,
   "id": "504b10bc",
   "metadata": {},
   "outputs": [
    {
     "name": "stdout",
     "output_type": "stream",
     "text": [
      "0     True\n",
      "1     True\n",
      "2     True\n",
      "3    False\n",
      "4    False\n",
      "dtype: bool\n"
     ]
    },
    {
     "data": {
      "text/plain": [
       "0    1\n",
       "1    2\n",
       "2    3\n",
       "dtype: int64"
      ]
     },
     "execution_count": 18,
     "metadata": {},
     "output_type": "execute_result"
    }
   ],
   "source": [
    "# Create a mask automatically via a True/False statement\n",
    "mask = (s <= 3)\n",
    "print(mask)\n",
    "s[mask]"
   ]
  },
  {
   "attachments": {},
   "cell_type": "markdown",
   "id": "649f2819",
   "metadata": {},
   "source": [
    "---\n",
    "### <font color=#14F278> 2.4 Assigning Values to a Series:</font>\n",
    "Data Indexing or Slicing is often used not just for 'selection and display purposes', but also for assigning new values to a Series. Below are some examples of how to do this:"
   ]
  },
  {
   "cell_type": "code",
   "execution_count": 19,
   "id": "96c39443",
   "metadata": {},
   "outputs": [
    {
     "data": {
      "text/plain": [
       "0    1\n",
       "1    2\n",
       "2    3\n",
       "3    4\n",
       "dtype: int64"
      ]
     },
     "metadata": {},
     "output_type": "display_data"
    },
    {
     "data": {
      "text/plain": [
       "0    9000\n",
       "1       2\n",
       "2       3\n",
       "3       4\n",
       "dtype: int64"
      ]
     },
     "metadata": {},
     "output_type": "display_data"
    },
    {
     "data": {
      "text/plain": [
       "0    9000\n",
       "1    9005\n",
       "2    9005\n",
       "3       4\n",
       "dtype: int64"
      ]
     },
     "metadata": {},
     "output_type": "display_data"
    },
    {
     "data": {
      "text/plain": [
       "0    9000\n",
       "1    9005\n",
       "2    9010\n",
       "3    9015\n",
       "dtype: int64"
      ]
     },
     "metadata": {},
     "output_type": "display_data"
    }
   ],
   "source": [
    "# Create our sample data\n",
    "s = pd.Series([1,2,3,4])\n",
    "display(s)\n",
    "\n",
    "# Assinging a new value to a single element:\n",
    "s.iloc[0] = 9000\n",
    "display(s)\n",
    "\n",
    "# Assigning multiple values to a slice:\n",
    "s.loc[1:2] = 9005\n",
    "display(s)\n",
    "\n",
    "# Assigning multiple values to a slice:\n",
    "s.iloc[2:4] = [9010, 9015]\n",
    "display(s)"
   ]
  },
  {
   "attachments": {},
   "cell_type": "markdown",
   "id": "50e29f25",
   "metadata": {},
   "source": [
    "---\n",
    "## <font color=#14F278> 3. DataFrames - Data Indexing and Selection:</font>\n",
    "Recall that __DataFrames__ are 2-dimensional objects of data, indexed by its rows and columns. \n",
    "\n",
    "We can index a DataFrame object in one of the following ways:\n",
    "- <font color=#14F278>**Explicit vs Implicit Indexing**</font>\n",
    "- <font color=#14F278>**Explicit vs Implicit Slicing**</font>\n",
    "- <font color=#14F278>**Boolean Indexing**</font>\n",
    "- <font color=#14F278>**Column Selection**</font>"
   ]
  },
  {
   "cell_type": "code",
   "execution_count": 20,
   "id": "dc60be19",
   "metadata": {},
   "outputs": [],
   "source": [
    "# Create a function to generate data\n",
    "def make_df(cols, rows):\n",
    "    data = {c:[str(c)+str(r) for r in rows] for c in cols}\n",
    "    return pd.DataFrame(data)"
   ]
  },
  {
   "cell_type": "code",
   "execution_count": 21,
   "id": "088d1c29",
   "metadata": {},
   "outputs": [
    {
     "data": {
      "text/html": [
       "<div>\n",
       "<style scoped>\n",
       "    .dataframe tbody tr th:only-of-type {\n",
       "        vertical-align: middle;\n",
       "    }\n",
       "\n",
       "    .dataframe tbody tr th {\n",
       "        vertical-align: top;\n",
       "    }\n",
       "\n",
       "    .dataframe thead th {\n",
       "        text-align: right;\n",
       "    }\n",
       "</style>\n",
       "<table border=\"1\" class=\"dataframe\">\n",
       "  <thead>\n",
       "    <tr style=\"text-align: right;\">\n",
       "      <th></th>\n",
       "      <th>a</th>\n",
       "      <th>b</th>\n",
       "      <th>c</th>\n",
       "    </tr>\n",
       "  </thead>\n",
       "  <tbody>\n",
       "    <tr>\n",
       "      <th>5</th>\n",
       "      <td>a1</td>\n",
       "      <td>b1</td>\n",
       "      <td>c1</td>\n",
       "    </tr>\n",
       "    <tr>\n",
       "      <th>6</th>\n",
       "      <td>a2</td>\n",
       "      <td>b2</td>\n",
       "      <td>c2</td>\n",
       "    </tr>\n",
       "    <tr>\n",
       "      <th>7</th>\n",
       "      <td>a3</td>\n",
       "      <td>b3</td>\n",
       "      <td>c3</td>\n",
       "    </tr>\n",
       "    <tr>\n",
       "      <th>8</th>\n",
       "      <td>a4</td>\n",
       "      <td>b4</td>\n",
       "      <td>c4</td>\n",
       "    </tr>\n",
       "  </tbody>\n",
       "</table>\n",
       "</div>"
      ],
      "text/plain": [
       "    a   b   c\n",
       "5  a1  b1  c1\n",
       "6  a2  b2  c2\n",
       "7  a3  b3  c3\n",
       "8  a4  b4  c4"
      ]
     },
     "metadata": {},
     "output_type": "display_data"
    }
   ],
   "source": [
    "# Construct a dataframe using function above\n",
    "df = make_df('abc', [1,2,3,4])\n",
    "df.index = [5,6,7,8]\n",
    "display(df)"
   ]
  },
  {
   "attachments": {},
   "cell_type": "markdown",
   "id": "4b9f54d8",
   "metadata": {},
   "source": [
    "---\n",
    "### <font color=#14F278> 3.1 Explicit vs Implicit Indexing:</font>\n",
    "\n",
    "Explicit and Implicit Indexing for DataFrames work in exactly the same way as for Series! The only thing to remember is that a value in a __DataFrame__ is now uniquely identified by a pair of two keys - its column and its row! \n",
    "\n",
    "Syntax:\n",
    "- <font color=#14F278>**Explicit Indexing**</font> - `dataframe_name.loc[row_label, column_label]`\n",
    "- <font color=#14F278>**Implicit Indexing**</font> - `dataframe_name.iloc[row_number, column_number]`"
   ]
  },
  {
   "cell_type": "code",
   "execution_count": 22,
   "id": "0d14f040",
   "metadata": {},
   "outputs": [
    {
     "data": {
      "text/plain": [
       "'a1'"
      ]
     },
     "execution_count": 22,
     "metadata": {},
     "output_type": "execute_result"
    }
   ],
   "source": [
    "# Getting the first row and first column using implicit indexing\n",
    "df.iloc[0,0]"
   ]
  },
  {
   "cell_type": "code",
   "execution_count": 23,
   "id": "3d7517c5",
   "metadata": {},
   "outputs": [
    {
     "data": {
      "text/plain": [
       "'a1'"
      ]
     },
     "execution_count": 23,
     "metadata": {},
     "output_type": "execute_result"
    }
   ],
   "source": [
    "# Getting the first row and first column using explicit indexing\n",
    "df.loc[5,'a']"
   ]
  },
  {
   "attachments": {},
   "cell_type": "markdown",
   "id": "70f46c4a",
   "metadata": {},
   "source": [
    "---\n",
    "### <font color=#14F278> 3.2 Slicing:</font>\n",
    "Again, slicing a DataFrame is very similar to slicing a Series - we shall again use the `.iloc` and `.loc` accessors. However, as __DataFrames__ are 2-dimensional objects, we now can obtain subsets of a DataFrame of all sorts and shapes!\n",
    "\n",
    "\n",
    "Syntax:\n",
    "- <font color=#14F278>**Explicit Indexing**</font> - `dataframe_name.loc[start_row_label: stop_row_label, start_column_label: stop_column_label]` \n",
    "- <font color=#14F278>**Implicit Indexing**</font> - `dataframe_name.iloc[start_row_lnum: stop_row_num, start_column_num: stop_column_num]`\n",
    "\n",
    "Depending on what output we are after, we can use a number of variations to the above syntax! Let's look into some examples!"
   ]
  },
  {
   "cell_type": "code",
   "execution_count": 24,
   "id": "6814876c",
   "metadata": {},
   "outputs": [
    {
     "data": {
      "text/html": [
       "<div>\n",
       "<style scoped>\n",
       "    .dataframe tbody tr th:only-of-type {\n",
       "        vertical-align: middle;\n",
       "    }\n",
       "\n",
       "    .dataframe tbody tr th {\n",
       "        vertical-align: top;\n",
       "    }\n",
       "\n",
       "    .dataframe thead th {\n",
       "        text-align: right;\n",
       "    }\n",
       "</style>\n",
       "<table border=\"1\" class=\"dataframe\">\n",
       "  <thead>\n",
       "    <tr style=\"text-align: right;\">\n",
       "      <th></th>\n",
       "      <th>b</th>\n",
       "      <th>c</th>\n",
       "    </tr>\n",
       "  </thead>\n",
       "  <tbody>\n",
       "    <tr>\n",
       "      <th>6</th>\n",
       "      <td>b2</td>\n",
       "      <td>c2</td>\n",
       "    </tr>\n",
       "    <tr>\n",
       "      <th>7</th>\n",
       "      <td>b3</td>\n",
       "      <td>c3</td>\n",
       "    </tr>\n",
       "  </tbody>\n",
       "</table>\n",
       "</div>"
      ],
      "text/plain": [
       "    b   c\n",
       "6  b2  c2\n",
       "7  b3  c3"
      ]
     },
     "execution_count": 24,
     "metadata": {},
     "output_type": "execute_result"
    }
   ],
   "source": [
    "# Explicit Slicing -- getting a sub-dataframe\n",
    "df.loc[6:7, 'b':'c']"
   ]
  },
  {
   "cell_type": "code",
   "execution_count": 25,
   "id": "b139d744",
   "metadata": {},
   "outputs": [
    {
     "data": {
      "text/plain": [
       "a    a2\n",
       "b    b2\n",
       "c    c2\n",
       "Name: 6, dtype: object"
      ]
     },
     "execution_count": 25,
     "metadata": {},
     "output_type": "execute_result"
    }
   ],
   "source": [
    "# Implicit Slicing -- getting just the second row in full\n",
    "# note - df.iloc[1] yields the same!\n",
    "df.iloc[1,:]"
   ]
  },
  {
   "cell_type": "code",
   "execution_count": 26,
   "id": "288fc07e",
   "metadata": {},
   "outputs": [
    {
     "data": {
      "text/html": [
       "<div>\n",
       "<style scoped>\n",
       "    .dataframe tbody tr th:only-of-type {\n",
       "        vertical-align: middle;\n",
       "    }\n",
       "\n",
       "    .dataframe tbody tr th {\n",
       "        vertical-align: top;\n",
       "    }\n",
       "\n",
       "    .dataframe thead th {\n",
       "        text-align: right;\n",
       "    }\n",
       "</style>\n",
       "<table border=\"1\" class=\"dataframe\">\n",
       "  <thead>\n",
       "    <tr style=\"text-align: right;\">\n",
       "      <th></th>\n",
       "      <th>a</th>\n",
       "      <th>b</th>\n",
       "      <th>c</th>\n",
       "    </tr>\n",
       "  </thead>\n",
       "  <tbody>\n",
       "    <tr>\n",
       "      <th>6</th>\n",
       "      <td>a2</td>\n",
       "      <td>b2</td>\n",
       "      <td>c2</td>\n",
       "    </tr>\n",
       "    <tr>\n",
       "      <th>7</th>\n",
       "      <td>a3</td>\n",
       "      <td>b3</td>\n",
       "      <td>c3</td>\n",
       "    </tr>\n",
       "  </tbody>\n",
       "</table>\n",
       "</div>"
      ],
      "text/plain": [
       "    a   b   c\n",
       "6  a2  b2  c2\n",
       "7  a3  b3  c3"
      ]
     },
     "execution_count": 26,
     "metadata": {},
     "output_type": "execute_result"
    }
   ],
   "source": [
    "# Explicit Slicing -- getting the 2nd and 3rd row in full\n",
    "# note - df.loc[6:7,:] yileds the same!\n",
    "df.loc[6:7]"
   ]
  },
  {
   "attachments": {},
   "cell_type": "markdown",
   "id": "9bdc8528",
   "metadata": {},
   "source": [
    "---\n",
    "### <font color=#14F278> 3.3 Boolean Indexing (Masking):</font>\n",
    "You got this right - <font color=#14F278>**Boolean Masking**</font> on DataFrames works identically as it does on Series!\n",
    "\n",
    "The only rule of thumb is that <font color=#14F278>**Masking filters Rows**</font>. In that sense, applying a mask on a DataFrame will return a new DataFrame with the same number of columns but fewer rows!\n",
    "\n",
    "<center>\n",
    "    <div>\n",
    "        <img src=\"..\\images\\selection_004.png\"/>\n",
    "    </div>\n",
    "</center>"
   ]
  },
  {
   "cell_type": "code",
   "execution_count": 27,
   "id": "1ed6164d",
   "metadata": {},
   "outputs": [
    {
     "data": {
      "text/html": [
       "<div>\n",
       "<style scoped>\n",
       "    .dataframe tbody tr th:only-of-type {\n",
       "        vertical-align: middle;\n",
       "    }\n",
       "\n",
       "    .dataframe tbody tr th {\n",
       "        vertical-align: top;\n",
       "    }\n",
       "\n",
       "    .dataframe thead th {\n",
       "        text-align: right;\n",
       "    }\n",
       "</style>\n",
       "<table border=\"1\" class=\"dataframe\">\n",
       "  <thead>\n",
       "    <tr style=\"text-align: right;\">\n",
       "      <th></th>\n",
       "      <th>a</th>\n",
       "      <th>b</th>\n",
       "      <th>c</th>\n",
       "    </tr>\n",
       "  </thead>\n",
       "  <tbody>\n",
       "    <tr>\n",
       "      <th>6</th>\n",
       "      <td>a2</td>\n",
       "      <td>b2</td>\n",
       "      <td>c2</td>\n",
       "    </tr>\n",
       "    <tr>\n",
       "      <th>8</th>\n",
       "      <td>a4</td>\n",
       "      <td>b4</td>\n",
       "      <td>c4</td>\n",
       "    </tr>\n",
       "  </tbody>\n",
       "</table>\n",
       "</div>"
      ],
      "text/plain": [
       "    a   b   c\n",
       "6  a2  b2  c2\n",
       "8  a4  b4  c4"
      ]
     },
     "execution_count": 27,
     "metadata": {},
     "output_type": "execute_result"
    }
   ],
   "source": [
    "# Explicit Masking -- it returns only the rows that correspond to True\n",
    "mask = [False, True, False, True] \n",
    "df[mask]"
   ]
  },
  {
   "cell_type": "code",
   "execution_count": 28,
   "id": "cee65ab4",
   "metadata": {},
   "outputs": [
    {
     "data": {
      "text/html": [
       "<div>\n",
       "<style scoped>\n",
       "    .dataframe tbody tr th:only-of-type {\n",
       "        vertical-align: middle;\n",
       "    }\n",
       "\n",
       "    .dataframe tbody tr th {\n",
       "        vertical-align: top;\n",
       "    }\n",
       "\n",
       "    .dataframe thead th {\n",
       "        text-align: right;\n",
       "    }\n",
       "</style>\n",
       "<table border=\"1\" class=\"dataframe\">\n",
       "  <thead>\n",
       "    <tr style=\"text-align: right;\">\n",
       "      <th></th>\n",
       "      <th>a</th>\n",
       "      <th>b</th>\n",
       "      <th>c</th>\n",
       "    </tr>\n",
       "  </thead>\n",
       "  <tbody>\n",
       "    <tr>\n",
       "      <th>7</th>\n",
       "      <td>a3</td>\n",
       "      <td>b3</td>\n",
       "      <td>c3</td>\n",
       "    </tr>\n",
       "  </tbody>\n",
       "</table>\n",
       "</div>"
      ],
      "text/plain": [
       "    a   b   c\n",
       "7  a3  b3  c3"
      ]
     },
     "execution_count": 28,
     "metadata": {},
     "output_type": "execute_result"
    }
   ],
   "source": [
    "# Implicit Masking - it checks for which row contains a column 'a' value of a3\n",
    "mask = df['a'] == 'a3'\n",
    "df[mask]"
   ]
  },
  {
   "attachments": {},
   "cell_type": "markdown",
   "id": "93dd8f2d",
   "metadata": {},
   "source": [
    "---\n",
    "### <font color=#14F278> 3.4 Column Selection:</font>\n",
    "<font color=#14F278>**Column Selection**</font> is something, specific to <font color=#14F278>**DataFrames**</font> only. Sometimes we want to 'get rid of' some columns, which are uneccessary for our analysis. We can specify which columns we would like to select in the following way:\n",
    "\n",
    "Synthax: \n",
    "- <font color=#14F278>**Select Multiple Columns & Return a DataFrame**</font> - `dataframe_name[['col1', 'col2', ...]]`\n",
    "- <font color=#14F278>**Select a Single Column & Return a DataFrame**</font> - `dataframe_name[['col1']]`\n",
    "- <font color=#14F278>**Select a Single Column & Return a Series**</font> - `dataframe_name['col1']`"
   ]
  },
  {
   "cell_type": "code",
   "execution_count": 30,
   "id": "4170edef",
   "metadata": {},
   "outputs": [
    {
     "data": {
      "text/plain": [
       "5    b1\n",
       "6    b2\n",
       "7    b3\n",
       "8    b4\n",
       "Name: b, dtype: object"
      ]
     },
     "metadata": {},
     "output_type": "display_data"
    },
    {
     "data": {
      "text/html": [
       "<div>\n",
       "<style scoped>\n",
       "    .dataframe tbody tr th:only-of-type {\n",
       "        vertical-align: middle;\n",
       "    }\n",
       "\n",
       "    .dataframe tbody tr th {\n",
       "        vertical-align: top;\n",
       "    }\n",
       "\n",
       "    .dataframe thead th {\n",
       "        text-align: right;\n",
       "    }\n",
       "</style>\n",
       "<table border=\"1\" class=\"dataframe\">\n",
       "  <thead>\n",
       "    <tr style=\"text-align: right;\">\n",
       "      <th></th>\n",
       "      <th>b</th>\n",
       "    </tr>\n",
       "  </thead>\n",
       "  <tbody>\n",
       "    <tr>\n",
       "      <th>5</th>\n",
       "      <td>b1</td>\n",
       "    </tr>\n",
       "    <tr>\n",
       "      <th>6</th>\n",
       "      <td>b2</td>\n",
       "    </tr>\n",
       "    <tr>\n",
       "      <th>7</th>\n",
       "      <td>b3</td>\n",
       "    </tr>\n",
       "    <tr>\n",
       "      <th>8</th>\n",
       "      <td>b4</td>\n",
       "    </tr>\n",
       "  </tbody>\n",
       "</table>\n",
       "</div>"
      ],
      "text/plain": [
       "    b\n",
       "5  b1\n",
       "6  b2\n",
       "7  b3\n",
       "8  b4"
      ]
     },
     "metadata": {},
     "output_type": "display_data"
    },
    {
     "data": {
      "text/html": [
       "<div>\n",
       "<style scoped>\n",
       "    .dataframe tbody tr th:only-of-type {\n",
       "        vertical-align: middle;\n",
       "    }\n",
       "\n",
       "    .dataframe tbody tr th {\n",
       "        vertical-align: top;\n",
       "    }\n",
       "\n",
       "    .dataframe thead th {\n",
       "        text-align: right;\n",
       "    }\n",
       "</style>\n",
       "<table border=\"1\" class=\"dataframe\">\n",
       "  <thead>\n",
       "    <tr style=\"text-align: right;\">\n",
       "      <th></th>\n",
       "      <th>a</th>\n",
       "      <th>b</th>\n",
       "    </tr>\n",
       "  </thead>\n",
       "  <tbody>\n",
       "    <tr>\n",
       "      <th>5</th>\n",
       "      <td>a1</td>\n",
       "      <td>b1</td>\n",
       "    </tr>\n",
       "    <tr>\n",
       "      <th>6</th>\n",
       "      <td>a2</td>\n",
       "      <td>b2</td>\n",
       "    </tr>\n",
       "    <tr>\n",
       "      <th>7</th>\n",
       "      <td>a3</td>\n",
       "      <td>b3</td>\n",
       "    </tr>\n",
       "    <tr>\n",
       "      <th>8</th>\n",
       "      <td>a4</td>\n",
       "      <td>b4</td>\n",
       "    </tr>\n",
       "  </tbody>\n",
       "</table>\n",
       "</div>"
      ],
      "text/plain": [
       "    a   b\n",
       "5  a1  b1\n",
       "6  a2  b2\n",
       "7  a3  b3\n",
       "8  a4  b4"
      ]
     },
     "metadata": {},
     "output_type": "display_data"
    }
   ],
   "source": [
    "display(df['b']) #series\n",
    "display(df[['b']])\n",
    "display(df[['a', 'b']])"
   ]
  },
  {
   "attachments": {},
   "cell_type": "markdown",
   "id": "40b5c81c",
   "metadata": {},
   "source": [
    "---\n",
    "## <font color=#14F278> 4. Summary:</font>\n",
    "\n",
    "__Data Indexing__ refers to selecting a sub-part of data from a Pandas Objects. The main ways to do this is via:\n",
    "- __Explicit vs Implicit Indexing__ - applicable to both DataFrames and Series\n",
    "- __Slicing__ - applicable to both DataFrames and Series\n",
    "- __Boolean Masking__ -applicable to both DataFrames and Series\n",
    "- __Column Selection__ - applicable to DataFrames only"
   ]
  },
  {
   "attachments": {},
   "cell_type": "markdown",
   "id": "7d7ee8da",
   "metadata": {},
   "source": [
    "---\n",
    "## <font color=#FF8181> 5. Concept Check: </font>\n",
    "1. What are the different ways we can index a series?\n",
    "2. Suppose you have a series `pd.Series([1,2,3,4], index=['a','b','c','d'])`\n",
    "-  Using implicit and explicit indexing, get the second element\n",
    "-  Using explicit indexing, slice the series to get the first three elements\n",
    "-  Using a boolean mask, select the even numbers"
   ]
  },
  {
   "cell_type": "code",
   "execution_count": null,
   "id": "a50f7645",
   "metadata": {},
   "outputs": [],
   "source": [
    "# 1) There are 3 ways to idex a Series - Explicitly, Implicitly and via Boolean Indexing\n",
    "# explicit is via specifying the name of the index -- .loc[]\n",
    "# implicit is via specifying the index number -- .iloc[]\n",
    "# Boolean is via specifying a True/False statement, assessing the Series values and returning those that satisfy the statement"
   ]
  },
  {
   "cell_type": "code",
   "execution_count": 39,
   "id": "8b234f27",
   "metadata": {},
   "outputs": [
    {
     "data": {
      "text/plain": [
       "a    1\n",
       "b    2\n",
       "c    3\n",
       "d    4\n",
       "dtype: int64"
      ]
     },
     "execution_count": 39,
     "metadata": {},
     "output_type": "execute_result"
    }
   ],
   "source": [
    "s = pd.Series([1,2,3,4], index=['a','b','c','d'])\n",
    "s"
   ]
  },
  {
   "cell_type": "code",
   "execution_count": 37,
   "id": "ed1201f1",
   "metadata": {},
   "outputs": [
    {
     "data": {
      "text/plain": [
       "2"
      ]
     },
     "execution_count": 37,
     "metadata": {},
     "output_type": "execute_result"
    }
   ],
   "source": [
    "#implicit \n",
    "s.iloc[1]\n"
   ]
  },
  {
   "cell_type": "code",
   "execution_count": 41,
   "id": "6feb0cdc",
   "metadata": {},
   "outputs": [
    {
     "data": {
      "text/plain": [
       "2"
      ]
     },
     "execution_count": 41,
     "metadata": {},
     "output_type": "execute_result"
    }
   ],
   "source": [
    "s.loc['b']"
   ]
  },
  {
   "cell_type": "code",
   "execution_count": 42,
   "id": "e7e819fa",
   "metadata": {},
   "outputs": [
    {
     "data": {
      "text/plain": [
       "a    1\n",
       "b    2\n",
       "c    3\n",
       "dtype: int64"
      ]
     },
     "execution_count": 42,
     "metadata": {},
     "output_type": "execute_result"
    }
   ],
   "source": [
    "s.loc['a':'c']"
   ]
  },
  {
   "cell_type": "code",
   "execution_count": 44,
   "id": "6aa6fbaa",
   "metadata": {},
   "outputs": [
    {
     "name": "stdout",
     "output_type": "stream",
     "text": [
      "a    False\n",
      "b     True\n",
      "c    False\n",
      "d     True\n",
      "dtype: bool\n"
     ]
    },
    {
     "data": {
      "text/plain": [
       "b    2\n",
       "d    4\n",
       "dtype: int64"
      ]
     },
     "execution_count": 44,
     "metadata": {},
     "output_type": "execute_result"
    }
   ],
   "source": [
    "mask = (s % 2 == 0)\n",
    "print(mask)\n",
    "s[mask]"
   ]
  },
  {
   "cell_type": "code",
   "execution_count": null,
   "id": "a881d866",
   "metadata": {},
   "outputs": [],
   "source": []
  },
  {
   "cell_type": "code",
   "execution_count": null,
   "id": "9752458d",
   "metadata": {},
   "outputs": [],
   "source": []
  }
 ],
 "metadata": {
  "kernelspec": {
   "display_name": "Python 3 (ipykernel)",
   "language": "python",
   "name": "python3"
  },
  "language_info": {
   "codemirror_mode": {
    "name": "ipython",
    "version": 3
   },
   "file_extension": ".py",
   "mimetype": "text/x-python",
   "name": "python",
   "nbconvert_exporter": "python",
   "pygments_lexer": "ipython3",
   "version": "3.11.8"
  }
 },
 "nbformat": 4,
 "nbformat_minor": 5
}
