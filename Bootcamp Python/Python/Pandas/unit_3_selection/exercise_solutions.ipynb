{
 "cells": [
  {
   "attachments": {},
   "cell_type": "markdown",
   "id": "b4f744b7",
   "metadata": {},
   "source": [
    "---\n",
    "## <font color=#FF8181>Unit 3 - Exercises: </font>\n",
    "<style>\n",
    "  table {margin-left: 0 !important;}\n",
    "</style>\n",
    "\n",
    "__Consider the following DataFrame__:\n",
    "\n",
    "### Monster table 2\n",
    "\n",
    "|          |    Name          |    Strength    |    Speed    |    Type           |    Color     |    MCODE     |\n",
    "|----------|------------------|----------------|-------------|-------------------|--------------|--------------|\n",
    "|    90    |    Fungus        |                |    3        |    Monster        |    Orange    |    223423    |\n",
    "|    91    |    Celia         |    40          |             |    Monster        |    Purple    |    223422    |\n",
    "|    92    |    Waternoose    |    51          |    35       |    EvilMonster    |    Gray      |    223234    |\n",
    "\n",
    "\n",
    "\n",
    "\n",
    "- Run the code below to construct the dataframe\n",
    "- you can use `test_df` to test your solutions"
   ]
  },
  {
   "cell_type": "code",
   "execution_count": 3,
   "id": "9a230686",
   "metadata": {},
   "outputs": [
    {
     "data": {
      "text/html": [
       "<div>\n",
       "<style scoped>\n",
       "    .dataframe tbody tr th:only-of-type {\n",
       "        vertical-align: middle;\n",
       "    }\n",
       "\n",
       "    .dataframe tbody tr th {\n",
       "        vertical-align: top;\n",
       "    }\n",
       "\n",
       "    .dataframe thead th {\n",
       "        text-align: right;\n",
       "    }\n",
       "</style>\n",
       "<table border=\"1\" class=\"dataframe\">\n",
       "  <thead>\n",
       "    <tr style=\"text-align: right;\">\n",
       "      <th></th>\n",
       "      <th>Name</th>\n",
       "      <th>Strength</th>\n",
       "      <th>Speed</th>\n",
       "      <th>Type</th>\n",
       "      <th>Color</th>\n",
       "      <th>MCODE</th>\n",
       "    </tr>\n",
       "  </thead>\n",
       "  <tbody>\n",
       "    <tr>\n",
       "      <th>90</th>\n",
       "      <td>Fungus</td>\n",
       "      <td>NaN</td>\n",
       "      <td>3.0</td>\n",
       "      <td>Monster</td>\n",
       "      <td>Orange</td>\n",
       "      <td>223423</td>\n",
       "    </tr>\n",
       "    <tr>\n",
       "      <th>91</th>\n",
       "      <td>Celia</td>\n",
       "      <td>40.0</td>\n",
       "      <td>NaN</td>\n",
       "      <td>Monster</td>\n",
       "      <td>Purple</td>\n",
       "      <td>223422</td>\n",
       "    </tr>\n",
       "    <tr>\n",
       "      <th>92</th>\n",
       "      <td>Waternoose</td>\n",
       "      <td>51.0</td>\n",
       "      <td>35.0</td>\n",
       "      <td>EvilMonster</td>\n",
       "      <td>Gray</td>\n",
       "      <td>223234</td>\n",
       "    </tr>\n",
       "  </tbody>\n",
       "</table>\n",
       "</div>"
      ],
      "text/plain": [
       "          Name  Strength  Speed         Type   Color   MCODE\n",
       "90      Fungus       NaN    3.0      Monster  Orange  223423\n",
       "91       Celia      40.0    NaN      Monster  Purple  223422\n",
       "92  Waternoose      51.0   35.0  EvilMonster    Gray  223234"
      ]
     },
     "metadata": {},
     "output_type": "display_data"
    }
   ],
   "source": [
    "import pandas as pd\n",
    "import numpy as np\n",
    "\n",
    "data = {'Name': ['Fungus', 'Celia', 'Waternoose'],\n",
    "        'Strength': [np.nan, 40,51],\n",
    "        'Speed':[3, np.nan, 35],\n",
    "        'Type':['Monster', 'Monster', 'EvilMonster'],\n",
    "        'Color':['Orange', 'Purple', 'Gray'],\n",
    "        'MCODE':[223423, 223422, 223234]}\n",
    "test_df = pd.DataFrame(data, index = [90,91,92])\n",
    "display(test_df)"
   ]
  },
  {
   "attachments": {},
   "cell_type": "markdown",
   "id": "321c8200",
   "metadata": {},
   "source": [
    "---\n",
    "### <font color=#14F278> Task 1: Create a python function `loc_monster()` which does the following: </font>\n",
    "\n",
    "- Takes dataframe __Monster Table 2__ as an argument\n",
    "- Obtains Fungus' speed\n",
    "- Obtains Celia's type\n",
    "- Obtains Walternoose's MCODE\n",
    "- Returns a dictionary `{'fungus_speed':...., 'celias_type':...., 'waternoose_mcode':....}`\n",
    "\n",
    "To obtain the above details, use the `.loc[]` accessor."
   ]
  },
  {
   "cell_type": "code",
   "execution_count": 1,
   "id": "5830858e",
   "metadata": {},
   "outputs": [],
   "source": [
    "# Solution\n",
    "\n",
    "def loc_monster(df):\n",
    "    fungus_speed = df.loc[90, 'Speed']\n",
    "    celias_type = df.loc[91, 'Type']\n",
    "    waternoose_mcode = df.loc[92, 'MCODE']\n",
    "    loc_values =  {'fungus_speed':fungus_speed, 'celias_type':celias_type, 'waternoose_mcode':waternoose_mcode}\n",
    "    return loc_values"
   ]
  },
  {
   "cell_type": "code",
   "execution_count": 4,
   "id": "77878292",
   "metadata": {},
   "outputs": [
    {
     "data": {
      "text/plain": [
       "{'fungus_speed': 3.0, 'celias_type': 'Monster', 'waternoose_mcode': 223234}"
      ]
     },
     "execution_count": 4,
     "metadata": {},
     "output_type": "execute_result"
    }
   ],
   "source": [
    "# Call the function and display returned objects\n",
    "loc_monster(test_df)"
   ]
  },
  {
   "attachments": {},
   "cell_type": "markdown",
   "id": "154974ed",
   "metadata": {},
   "source": [
    "---\n",
    "### <font color=#14F278>Task 2: Create a python function `iloc_monster()` which does the following:</font>\n",
    "\n",
    "- Takes dataframe __Monster Table 2__ as an argument\n",
    "- Obtains Fungus' speed\n",
    "- Obtains Celia's type\n",
    "- Obtains Walternoose's MCODE\n",
    "- Returns a dictionary `{'fungus_speed':...., 'celias_type':...., 'waternoose_mcode':....}`\n",
    "\n",
    "To obtain the above details, use the `.iloc[]` accessor."
   ]
  },
  {
   "cell_type": "code",
   "execution_count": null,
   "id": "450707e5",
   "metadata": {},
   "outputs": [],
   "source": [
    "# Solution\n",
    "\n",
    "def iloc_monster(df):\n",
    "    fungus_speed = df.iloc[0,2]\n",
    "    celias_type = df.iloc[1,3]\n",
    "    waternoose_mcode = df.iloc[2,5]\n",
    "    iloc_values =  {'fungus_speed':fungus_speed, 'celias_type':celias_type, 'waternoose_mcode':waternoose_mcode}\n",
    "    return iloc_values"
   ]
  },
  {
   "cell_type": "code",
   "execution_count": null,
   "id": "59cd98b4",
   "metadata": {},
   "outputs": [],
   "source": [
    "# Call the function and display returned objects\n",
    "iloc_monster(test_df)"
   ]
  },
  {
   "attachments": {},
   "cell_type": "markdown",
   "id": "a32fb14e",
   "metadata": {},
   "source": [
    "---\n",
    "### <font color=#14F278>Task 3: Create a python function `loc_slice_monster()` which does the following:</font>\n",
    "\n",
    "- Takes dataframe __Monster Table 2__ as an argument\n",
    "- Selects the first 2 rows and 5 columns of the table via `.loc[]` - Explicit Slicing\n",
    "- Returns the new DataFrame"
   ]
  },
  {
   "cell_type": "code",
   "execution_count": null,
   "id": "1d576d13",
   "metadata": {},
   "outputs": [],
   "source": [
    "# Solution\n",
    "\n",
    "def loc_slice_monster(df):\n",
    "    new_df = df.loc[90:91, 'Name':'Color']\n",
    "    return new_df"
   ]
  },
  {
   "cell_type": "code",
   "execution_count": null,
   "id": "a4ac530d",
   "metadata": {},
   "outputs": [],
   "source": [
    "# Call the function and display returned objects\n",
    "loc_slice_monster(test_df)"
   ]
  },
  {
   "attachments": {},
   "cell_type": "markdown",
   "id": "5723d63c",
   "metadata": {},
   "source": [
    "---\n",
    "### <font color=#14F278>Task 4: Create a python function `iloc_slice_monster()` which does the following:</font>\n",
    "\n",
    "- Takes dataframe __Monster Table 2__ as an argument\n",
    "- Selects the last 2 rows and 5 columns of the table via `.iloc[]` - Implicit Slicing\n",
    "- Returns the new DataFrame"
   ]
  },
  {
   "cell_type": "code",
   "execution_count": null,
   "id": "8bbf1a9d",
   "metadata": {},
   "outputs": [],
   "source": [
    "# Solution\n",
    "\n",
    "def iloc_slice_monster(df):\n",
    "    new_df = df.iloc[1:,1:]\n",
    "    return new_df"
   ]
  },
  {
   "cell_type": "code",
   "execution_count": null,
   "id": "073f2bb6",
   "metadata": {},
   "outputs": [],
   "source": [
    "# Call the function and display returned objects\n",
    "iloc_slice_monster(test_df)"
   ]
  },
  {
   "attachments": {},
   "cell_type": "markdown",
   "id": "bcb5e19e",
   "metadata": {},
   "source": [
    "---\n",
    "### <font color=#14F278>Task 5: Create a python function `bool_mask_monster()` which does the following:</font>\n",
    "\n",
    "- Takes dataframe __Monster Table 2__ as an argument\n",
    "- Selects only the rows where __Type == Monster__ via __Boolean mask__\n",
    "- Returns the new DataFrame"
   ]
  },
  {
   "cell_type": "code",
   "execution_count": null,
   "id": "580f22af",
   "metadata": {},
   "outputs": [],
   "source": [
    "# Solution\n",
    "\n",
    "def bool_mask_monster(df):\n",
    "    mask = df['Type'] == 'Monster'\n",
    "    new_df = df[mask]\n",
    "    return new_df"
   ]
  },
  {
   "cell_type": "code",
   "execution_count": null,
   "id": "fd7781d6",
   "metadata": {},
   "outputs": [],
   "source": [
    "# Call the function and display returned objects\n",
    "bool_mask_monster(test_df)"
   ]
  },
  {
   "attachments": {},
   "cell_type": "markdown",
   "id": "ae28cf61",
   "metadata": {},
   "source": [
    "__NB__: *Solutions to these exercises are distributed separately in the form of a stand-alone unit at a later point in time. This is to ensure that consultants have had the chance to attempt the exercises autonomously, leveraging the reading materials and concept check solutions.*"
   ]
  }
 ],
 "metadata": {
  "kernelspec": {
   "display_name": "Python 3 (ipykernel)",
   "language": "python",
   "name": "python3"
  },
  "language_info": {
   "codemirror_mode": {
    "name": "ipython",
    "version": 3
   },
   "file_extension": ".py",
   "mimetype": "text/x-python",
   "name": "python",
   "nbconvert_exporter": "python",
   "pygments_lexer": "ipython3",
   "version": "3.11.8"
  }
 },
 "nbformat": 4,
 "nbformat_minor": 5
}
