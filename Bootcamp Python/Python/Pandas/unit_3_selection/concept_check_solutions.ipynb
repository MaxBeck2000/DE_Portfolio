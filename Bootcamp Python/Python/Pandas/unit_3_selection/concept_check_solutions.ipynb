{
 "cells": [
  {
   "attachments": {},
   "cell_type": "markdown",
   "id": "18f0fcdb",
   "metadata": {},
   "source": [
    "---\n",
    "## <font color=#FF8181>Unit 3 - Concept Check: </font>\n",
    "\n",
    "1. What are the different ways we can index a series?\n",
    "2. Suppose you have a series `pd.Series([1,2,3,4], index=['a','b','c','d'])`\n",
    "-  Using implicit and explicit indexing, get the second element\n",
    "-  Using explicit indexing, slice the series to get the first three elements\n",
    "-  Using a boolean mask, select the even numbers"
   ]
  },
  {
   "attachments": {},
   "cell_type": "markdown",
   "id": "719eff2e",
   "metadata": {},
   "source": [
    "---\n",
    "### <font color=#14F278> Solutions: </font>"
   ]
  },
  {
   "cell_type": "code",
   "execution_count": null,
   "id": "a3a42a93",
   "metadata": {},
   "outputs": [],
   "source": [
    "import pandas as pd\n",
    "import numpy as np"
   ]
  },
  {
   "cell_type": "code",
   "execution_count": null,
   "id": "a5f4a2b3",
   "metadata": {},
   "outputs": [],
   "source": [
    "# 1) There are 3 ways to idex a Series - Explicitly, Implicitly and via Boolean Indexing\n",
    "# explicit is via specifying the name of the index -- .loc[]\n",
    "# implicit is via specifying the index number -- .iloc[]\n",
    "# Boolean is via specifying a True/False statement, assessing the Series values and returning those that satisfy the statement"
   ]
  },
  {
   "cell_type": "code",
   "execution_count": null,
   "id": "ad9ece68",
   "metadata": {},
   "outputs": [],
   "source": [
    "# 2) Suppose you have a Series pd.Series([1,2,3,4], index= ['a','b','c','d'])\n",
    "\n",
    "s = pd.Series([1,2,3,4], index= ['a','b','c','d'])\n",
    "display(s)\n",
    "\n",
    "# 2.1) Use implicit and explicit indexing to get second element\n",
    "print(s.loc['b']) # -- explicit indexing via .loc[]\n",
    "print(s.iloc[1]) # -- implicit indexing via .iloc[]\n",
    "\n",
    "# 2.2) Using explicit indexing, slice the Series to get the first 3 elements\n",
    "print(s.loc['a':'c']) # note that explicit indexing is inclusive of last element\n",
    "\n",
    "# 2.3) Using boolean mask, select the even numbers in s\n",
    "mask = (s%2==0)\n",
    "s_even = s[mask]\n",
    "display(s_even)"
   ]
  }
 ],
 "metadata": {
  "kernelspec": {
   "display_name": "Python 3 (ipykernel)",
   "language": "python",
   "name": "python3"
  },
  "language_info": {
   "codemirror_mode": {
    "name": "ipython",
    "version": 3
   },
   "file_extension": ".py",
   "mimetype": "text/x-python",
   "name": "python",
   "nbconvert_exporter": "python",
   "pygments_lexer": "ipython3",
   "version": "3.9.7"
  }
 },
 "nbformat": 4,
 "nbformat_minor": 5
}
