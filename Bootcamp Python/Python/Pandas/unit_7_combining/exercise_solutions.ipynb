{
 "cells": [
  {
   "attachments": {},
   "cell_type": "markdown",
   "id": "bb092e8a",
   "metadata": {},
   "source": [
    "---\n",
    "## <font color=#FF8181>Unit 7 - Exercises: </font>\n",
    "<style>\n",
    "  table {margin-left: 0 !important;}\n",
    "</style>\n",
    "\n",
    "__Consider the following 3 DataFrames__:\n",
    "\n",
    "### Monster table 1\n",
    "\n",
    "|         |    Name       |    Strength    |    Speed    |    Type           |\n",
    "|---------|---------------|----------------|-------------|-------------------|\n",
    "|    0    |    Mike       |    1           |    3        |    Monster        |\n",
    "|    1    |    Sully      |    99          |    65       |    Monster        |\n",
    "|    2    |    Randall    |    35          |    99       |    EvilMonster    |\n",
    "|    3    |    Boo        |    5           |    5        |    Human          |\n",
    "\n",
    "\n",
    "\n",
    "### Monster table 2\n",
    "\n",
    "|          |    Name          |    Strength    |    Speed    |    Type           |    Color     |    MCODE     |\n",
    "|----------|------------------|----------------|-------------|-------------------|--------------|--------------|\n",
    "|    90    |    Fungus        |                |    3        |    Monster        |    Orange    |    223423    |\n",
    "|    91    |    Celia         |    40          |             |    Monster        |    Purple    |    223422    |\n",
    "|    92    |    Waternoose    |    51          |    35       |    EvilMonster    |    Gray      |    223234    |\n",
    "\n",
    "### Monster food table\n",
    "\n",
    "|         |    Species        |    FavouriteFood    |\n",
    "|---------|-------------------|---------------------|\n",
    "|    0    |    Monster        |    Screams          |\n",
    "|    1    |    Human          |    Candy            |\n",
    "|    2    |    EvilMonster    |    <NULL>           |\n",
    "|    3    |    Donut          |    Flour            |\n",
    "    \n",
    "    \n",
    "- Run the code below to construct the dataframes\n",
    "- you can use `test_df1`, `test_df2` and `test_df3` to test your solution"
   ]
  },
  {
   "cell_type": "code",
   "execution_count": null,
   "id": "e9cec206",
   "metadata": {},
   "outputs": [],
   "source": [
    "import pandas as pd\n",
    "import numpy as np\n",
    "\n",
    "data1 = {'Name': ['Mike', 'Saly', 'Randall', 'Boo'],\n",
    "         'Strength': [1,99,35,5],\n",
    "         'Speed':[3,65,99,5],\n",
    "         'Type':['Monster', 'Monster', 'EvilMonster', 'Human']}\n",
    "test_df1 = pd.DataFrame(data1)\n",
    "\n",
    "data2 = {'Name': ['Fungus', 'Celia', 'Waternoose'],\n",
    "         'Strength': [np.nan, 40,51],\n",
    "         'Speed':[3, np.nan, 35],\n",
    "         'Type':['Monster', 'Monster', 'EvilMonster'],\n",
    "         'Color':['Orange', 'Purple', 'Gray'],\n",
    "         'MCODE':[223423, 223422, 223234]}\n",
    "test_df2 = pd.DataFrame(data2, index = [90,91,92])\n",
    "\n",
    "data3 = {'Species':['Monster', 'Human', 'EvilMonster', 'Donut'],\n",
    "         'FavouriteFood':['Screams', 'Candy', np.nan, 'Flour']}\n",
    "test_df3 = pd.DataFrame(data3)"
   ]
  },
  {
   "attachments": {},
   "cell_type": "markdown",
   "id": "4fb736c4",
   "metadata": {},
   "source": [
    "---\n",
    "### <font color=#14F278> Task 1: Create a python function `combine_monster()` which does the following </font>\n",
    "\n",
    "- Takes all 3 dataframes - __Monster Table 1,2,3__ as arguments:\n",
    "- Combines __Monster Table 1__ and __Monster Table 2__ vertically (on top of each other) using `.concat()`\n",
    "- Combines the resulting dataframe with __Monster Table 3__ horizontally (nex to each other) using `.merge()`\n",
    "- Resets the index of the resulting DataFrame\n",
    "- Assigns 'ExtremeScreams' as 'FavouriteFood' to type 'EvilMonster'\n",
    "- Fills in all NaNs in column 'Speed' and 'Strength' to the column averages\n",
    "- Drops any remaining columns with missing data\n",
    "- Drop column 'Species'\n",
    "- Returns the final DataFrame"
   ]
  },
  {
   "cell_type": "code",
   "execution_count": null,
   "id": "cab90994",
   "metadata": {},
   "outputs": [],
   "source": [
    "# Write your solution here# Solution\n",
    "\n",
    "def combine_monster(df1, df2, df3):\n",
    "    combined_df = pd.concat([df1,df2], axis = 0)\n",
    "    combined_df = pd.merge(combined_df, df3, left_on = 'Type', right_on = 'Species', how = 'left')\n",
    "    combined_df.reset_index(inplace = True)\n",
    "    combined_df['FavouriteFood'].fillna('ExtremeScreams', inplace = True)\n",
    "    combined_df['Speed'].fillna(combined_df['Speed'].mean(), inplace = True)\n",
    "    combined_df['Strength'].fillna(combined_df['Strength'].mean(), inplace = True)\n",
    "    combined_df.dropna(axis =1, inplace = True)\n",
    "    combined_df.drop(columns = 'Species', inplace = True)\n",
    "    return combined_df"
   ]
  },
  {
   "cell_type": "code",
   "execution_count": null,
   "id": "595cc669",
   "metadata": {},
   "outputs": [],
   "source": [
    "# Call the function and display returned objects\n",
    "combine_monster(test_df1, test_df2, test_df3)"
   ]
  },
  {
   "attachments": {},
   "cell_type": "markdown",
   "id": "ba30d421",
   "metadata": {},
   "source": [
    "__NB__: *Solutions to these exercises are distributed separately in the form of a stand-alone unit at a later point in time. This is to ensure that consultants have had the chance to attempt the exercises autonomously, leveraging the reading materials and concept check solutions.*"
   ]
  }
 ],
 "metadata": {
  "kernelspec": {
   "display_name": "Python 3",
   "language": "python",
   "name": "python3"
  },
  "language_info": {
   "codemirror_mode": {
    "name": "ipython",
    "version": 3
   },
   "file_extension": ".py",
   "mimetype": "text/x-python",
   "name": "python",
   "nbconvert_exporter": "python",
   "pygments_lexer": "ipython3",
   "version": "3.9.7"
  },
  "vscode": {
   "interpreter": {
    "hash": "369f2c481f4da34e4445cda3fffd2e751bd1c4d706f27375911949ba6bb62e1c"
   }
  }
 },
 "nbformat": 4,
 "nbformat_minor": 5
}
