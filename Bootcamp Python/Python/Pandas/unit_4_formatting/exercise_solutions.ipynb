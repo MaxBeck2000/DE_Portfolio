{
 "cells": [
  {
   "attachments": {},
   "cell_type": "markdown",
   "metadata": {},
   "source": [
    "---\n",
    "## <font color=#FF8181>Unit 4 - Exercises: </font>\n",
    "\n",
    "In the following exercise, we will apply the formatting techniques we covered on a real-life dataset. The dataset is stored in **bike_rental.csv** and contains daily records on bike rentals together with weather-specific information for the day."
   ]
  },
  {
   "cell_type": "code",
   "execution_count": null,
   "metadata": {},
   "outputs": [],
   "source": [
    "import pandas as pd"
   ]
  },
  {
   "cell_type": "code",
   "execution_count": null,
   "metadata": {},
   "outputs": [],
   "source": [
    "# Data Load\n",
    "filename = r'../data/bike_rental.csv'\n",
    "df = pd.read_csv(filename)\n",
    "display(df)"
   ]
  },
  {
   "attachments": {},
   "cell_type": "markdown",
   "metadata": {},
   "source": [
    "---\n",
    "### <font color=#14F278> Task 1: Create a Python function `format_bike_rentals()` which does the following: </font>\n",
    "- takes the bike rentals dataframe `df` as an argument\n",
    " sets the index to be the `date` column\n",
    "- drops unneccesary day, month and year columns\n",
    "- renames any columns which do not follow the prevalent naming convention - all lowercase\n",
    "- dedupe the dataset\n",
    "- return the formatted dataset\n",
    "\n",
    "**NB**: Ensure all formatting is conducted in-place to optimise memory usage. This, however, means that the function has **side-effects**"
   ]
  },
  {
   "cell_type": "code",
   "execution_count": null,
   "metadata": {},
   "outputs": [],
   "source": [
    "# Solution\n",
    "\n",
    "def format_bike_rentals(df):\n",
    "    df.set_index('date', inplace = True)\n",
    "    df.drop(columns = ['day', 'mnth', 'year'], inplace = True)\n",
    "    df.rename(columns = {'HUMIDITY':'humidity', 'Rentals':'rentals'}, inplace = True)\n",
    "    df.drop_duplicates(inplace = True)\n",
    "    return df"
   ]
  },
  {
   "cell_type": "code",
   "execution_count": null,
   "metadata": {},
   "outputs": [],
   "source": [
    "# Call the function and display returned object\n",
    "format_bike_rentals(df)"
   ]
  },
  {
   "attachments": {},
   "cell_type": "markdown",
   "metadata": {},
   "source": [
    "__NB__: *Solutions to these exercises are distributed separately in the form of a stand-alone unit at a later point in time. This is to ensure that consultants have had the chance to attempt the exercises autonomously, leveraging the reading materials and concept check solutions.*"
   ]
  }
 ],
 "metadata": {
  "kernelspec": {
   "display_name": "base",
   "language": "python",
   "name": "python3"
  },
  "language_info": {
   "codemirror_mode": {
    "name": "ipython",
    "version": 3
   },
   "file_extension": ".py",
   "mimetype": "text/x-python",
   "name": "python",
   "nbconvert_exporter": "python",
   "pygments_lexer": "ipython3",
   "version": "3.9.7"
  },
  "orig_nbformat": 4
 },
 "nbformat": 4,
 "nbformat_minor": 2
}
