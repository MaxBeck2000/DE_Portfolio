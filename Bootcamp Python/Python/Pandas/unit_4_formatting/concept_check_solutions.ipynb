{
 "cells": [
  {
   "attachments": {},
   "cell_type": "markdown",
   "metadata": {},
   "source": [
    "---\n",
    "## <font color=#FF8181>Unit 4 - Concept Check: </font>\n",
    "\n",
    "1. Suppose we create a new variable `df1` and equate it to `df`:\n",
    "- execute `df1 = df1.drop(columns = ['children'])`\n",
    "- what happened to the ID of the object, associated with `df1`\n",
    "- what can we conclude about the operation\n",
    "- what happened to the value, stored in `df` - did it follow suit? Why? Why not?\n",
    "\n",
    "2. Suppose we create a new variable `df1` and equate it to `df`:\n",
    "- execute `df1.drop(columns = ['children'], inplace = True)`\n",
    "- what happened to the ID of the object, associated with `df1`\n",
    "- what can we conclude about the operation\n",
    "- what happened to the value, stored in `df` - did it follow suit? Why? Why not?"
   ]
  },
  {
   "attachments": {},
   "cell_type": "markdown",
   "metadata": {},
   "source": [
    "---\n",
    "### <font color=#14F278> Solutions: </font>"
   ]
  },
  {
   "cell_type": "code",
   "execution_count": null,
   "metadata": {},
   "outputs": [],
   "source": [
    "import pandas as pd"
   ]
  },
  {
   "cell_type": "code",
   "execution_count": null,
   "metadata": {},
   "outputs": [],
   "source": [
    "# Data Load\n",
    "filename = r'../data/insurance.csv'\n",
    "df = pd.read_csv(filename)"
   ]
  },
  {
   "cell_type": "code",
   "execution_count": null,
   "metadata": {},
   "outputs": [],
   "source": [
    "# Equate df1 to df\n",
    "# Check the IDs of the objects, referenced by the two variables\n",
    "# Conclude that both variables are currently pointing towards the same object!\n",
    "\n",
    "df1 = df\n",
    "print(f'ID of df is {id(df)}')\n",
    "print(f'ID of df1 is {id(df1)}')\n",
    "\n",
    "if id(df) == id(df1):\n",
    "    print('Currently both variables point towards the same object')\n",
    "else:\n",
    "    print('The two variables point towards different objects')"
   ]
  },
  {
   "cell_type": "code",
   "execution_count": null,
   "metadata": {},
   "outputs": [],
   "source": [
    "# Drop a column from the object, referenced by df1\n",
    "df1 = df1.drop(columns = ['children'])\n",
    "df1.head()"
   ]
  },
  {
   "cell_type": "code",
   "execution_count": null,
   "metadata": {},
   "outputs": [],
   "source": [
    "# Check the ID of df1 after the operation\n",
    "# Since the ID has changed, we conclude that the above operation created a new object and re-assigned df1 to it\n",
    "id(df1)"
   ]
  },
  {
   "cell_type": "code",
   "execution_count": null,
   "metadata": {},
   "outputs": [],
   "source": [
    "# Variable df still references the original object\n",
    "# We can see that both from the unchanged ID as well as from the fact that the value of df contains column 'children'\n",
    "print(id(df))\n",
    "df.head()"
   ]
  },
  {
   "cell_type": "code",
   "execution_count": null,
   "metadata": {},
   "outputs": [],
   "source": [
    "# Conclusion - df and df1 are initially two references for the same object\n",
    "# The drop() operation together with the = sign instructed Python to create a NEW object,  based on the original one, and re-assign df1 to it\n",
    "# In Python variables are NEVER coupled to one another - they are only coupled with an object\n",
    "# Provided that the object hasn't changed, the variable won't change its association to it \n",
    "# This is why df remains coupled with the original object"
   ]
  },
  {
   "attachments": {},
   "cell_type": "markdown",
   "metadata": {},
   "source": [
    "---"
   ]
  },
  {
   "cell_type": "code",
   "execution_count": null,
   "metadata": {},
   "outputs": [],
   "source": [
    "# Data Load\n",
    "filename = r'../data/insurance.csv'\n",
    "df = pd.read_csv(filename)"
   ]
  },
  {
   "cell_type": "code",
   "execution_count": null,
   "metadata": {},
   "outputs": [],
   "source": [
    "# Equate df1 to df\n",
    "# Check the IDs of the objects, referenced by the two variables\n",
    "# Conclude that both variables are currently pointing towards the same object!\n",
    "\n",
    "df1 = df\n",
    "print(f'ID of df is {id(df)}')\n",
    "print(f'ID of df1 is {id(df1)}')\n",
    "\n",
    "if id(df) == id(df1):\n",
    "    print('Currently both variables point towards the same object')\n",
    "else:\n",
    "    print('The two variables point towards different objects')"
   ]
  },
  {
   "cell_type": "code",
   "execution_count": null,
   "metadata": {},
   "outputs": [],
   "source": [
    "# Drop a column from the object, referenced by df1. This time we use the inplace = True argument\n",
    "df1.drop(columns = ['children'], inplace = True)\n",
    "df1.head()"
   ]
  },
  {
   "cell_type": "code",
   "execution_count": null,
   "metadata": {},
   "outputs": [],
   "source": [
    "# Check the ID of df1 after the operation\n",
    "# Since the ID has NOT changed, we conclude that the above operation made an in-place change to the original object's value\n",
    "id(df1)"
   ]
  },
  {
   "cell_type": "code",
   "execution_count": null,
   "metadata": {},
   "outputs": [],
   "source": [
    "# Variable df still references the original object\n",
    "# Now however, the value of the object was mutated by the drop() method\n",
    "# This is why variable df REFLECTS the change - we can see column 'children' being dropped here too\n",
    "print(id(df))\n",
    "df.head()"
   ]
  },
  {
   "cell_type": "code",
   "execution_count": null,
   "metadata": {},
   "outputs": [],
   "source": [
    "# Conclusion - df and df1 are initially two references for the same object\n",
    "# The drop() operation together with the inplace = True argument, MUTATED the original object's value in-place\n",
    "# Since both df and df1 are coupled with this object, both variables will reflect the in-place change on its value\n",
    "# You may want to say that df followed suit (as it reflects the change) - this is however misleading\n",
    "# df and df1 are always independent of each other - it just happens so that the operation on df1 mutated the object, referenced by df, so df reflects the change\n",
    "\n",
    "# When working with an object with multiple references, an in-place change to the object's value via one of the references WILL BE REFLECTED by all other references!"
   ]
  }
 ],
 "metadata": {
  "kernelspec": {
   "display_name": "base",
   "language": "python",
   "name": "python3"
  },
  "language_info": {
   "codemirror_mode": {
    "name": "ipython",
    "version": 3
   },
   "file_extension": ".py",
   "mimetype": "text/x-python",
   "name": "python",
   "nbconvert_exporter": "python",
   "pygments_lexer": "ipython3",
   "version": "3.9.7"
  },
  "orig_nbformat": 4
 },
 "nbformat": 4,
 "nbformat_minor": 2
}
