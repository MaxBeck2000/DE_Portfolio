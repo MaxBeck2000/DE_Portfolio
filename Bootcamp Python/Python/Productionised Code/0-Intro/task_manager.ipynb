{
 "cells": [
  {
   "attachments": {},
   "cell_type": "markdown",
   "metadata": {},
   "source": [
    "# Task Manager"
   ]
  },
  {
   "cell_type": "code",
   "execution_count": 2,
   "metadata": {},
   "outputs": [
    {
     "name": "stdout",
     "output_type": "stream",
     "text": [
      "1. Add Task\n",
      "2. View Tasks\n",
      "3. Mark Task as Done\n",
      "4. Exit\n",
      "==================================================\n",
      "Invalid choice.\n",
      "--------------------------------------------------\n",
      "1. Add Task\n",
      "2. View Tasks\n",
      "3. Mark Task as Done\n",
      "4. Exit\n",
      "==================================================\n",
      "--------------------------------------------------\n",
      "1. Add Task\n",
      "2. View Tasks\n",
      "3. Mark Task as Done\n",
      "4. Exit\n",
      "==================================================\n",
      "Tasks:\n",
      "1. Washing\n",
      "--------------------------------------------------\n",
      "1. Add Task\n",
      "2. View Tasks\n",
      "3. Mark Task as Done\n",
      "4. Exit\n",
      "==================================================\n",
      "Task marked as done.\n",
      "1. Add Task\n",
      "2. View Tasks\n",
      "3. Mark Task as Done\n",
      "4. Exit\n",
      "==================================================\n",
      "Exiting.\n",
      "--------------------------------------------------\n"
     ]
    }
   ],
   "source": [
    "\n",
    "\n",
    "\n",
    "tsks = []\n",
    "\n",
    "while True: \n",
    "    print(\"1. Add Task\")\n",
    "    print(\"2. View Tasks\")\n",
    "    print(\"3. Mark Task as Done\")\n",
    "    print(\"4. Exit\")\n",
    "    print(\"=\"*50)\n",
    "    x = input(\"Enter your choice: \")\n",
    "    if x == '1':\n",
    "        tsk = input(\"Enter task: \")\n",
    "        tsks.append(tsk)\n",
    "        print(\"-\"*50)\n",
    "    elif x == '2':\n",
    "        print(\"Tasks:\")\n",
    "        for i, t in enumerate(tsks):\n",
    "            print(f\"{i+1}. {t}\")\n",
    "        print(\"-\"*50)\n",
    "    elif x == '3':\n",
    "        usr_input = input(\"Enter task number to mark as done: \")\n",
    "        if 0 <=  int(usr_input) - 1 < len(tsks): \n",
    "            tsks.pop(int(usr_input) - 1)\n",
    "            print(\"Task marked as done.\")\n",
    "        else:\n",
    "            print(\"Invalid task number.\")\n",
    "    elif x == '4':\n",
    "        print(\"Exiting.\")\n",
    "        print(\"-\"*50)\n",
    "        break\n",
    "    else:\n",
    "        print(\"Invalid choice.\")\n",
    "        print(\"-\"*50)\n"
   ]
  }
 ],
 "metadata": {
  "kernelspec": {
   "display_name": "Python 3",
   "language": "python",
   "name": "python3"
  },
  "language_info": {
   "codemirror_mode": {
    "name": "ipython",
    "version": 3
   },
   "file_extension": ".py",
   "mimetype": "text/x-python",
   "name": "python",
   "nbconvert_exporter": "python",
   "pygments_lexer": "ipython3",
   "version": "3.11.8"
  },
  "orig_nbformat": 4,
  "vscode": {
   "interpreter": {
    "hash": "4f77c56a1733e9d421c3a053160f731a1cdaa61fcda062af7a855a05be992435"
   }
  }
 },
 "nbformat": 4,
 "nbformat_minor": 2
}
