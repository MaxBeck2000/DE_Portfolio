{
    "cells": [
        {
            "attachments": {},
            "cell_type": "markdown",
            "metadata": {},
            "source": [
                "# 1. Logic",
                "\n| <u>**Metric**<u> | <u>Count<u> |\n| --- | --- |\n| **Cells** | 21 |\n| **Characters** | 2560 |\n| **Exercises** | 10 (10 **S**) |\n| **Completion Time** | 56 min |\n\n"
            ]
        },
        {
            "attachments": {},
            "cell_type": "markdown",
            "metadata": {},
            "source": [
                "## 1.1 Exercise\n",
                "\n",
                "What is printed out, `lupins` or `lumberjacks`?\n",
                "\n",
                "Then check your answers by running the code (remove ```python from the markdown then run the code)"
            ]
        },
        {
            "attachments": {},
            "cell_type": "markdown",
            "metadata": {},
            "source": [
                "\n",
                "```python\n",
                "choice = None\n",
                "if not choice:\n",
                "    print('lupins')\n",
                "else:\n",
                "    print('lumberjacks')\n",
                "\n",
                "\n"
            ]
        },
        {
            "attachments": {},
            "cell_type": "markdown",
            "metadata": {},
            "source": [
                "## 1.2 Exercise\n",
                "\n",
                "What is the value of the variable 'result' after the code is executed?\n",
                "\n",
                "Then check your answers by running the code (remove ```python from the markdown then run the code)"
            ]
        },
        {
            "attachments": {},
            "cell_type": "markdown",
            "metadata": {},
            "source": [
                "```python\n",
                "x = True\n",
                "y = False\n",
                "z = False\n",
                "\n",
                "if x or y and z:\n",
                "    result = \"True\"\n",
                "else:\n",
                "    result = \"False\"\n",
                "\n",
                "\n"
            ]
        },
        {
            "attachments": {},
            "cell_type": "markdown",
            "metadata": {},
            "source": [
                "## 1.3 Exercise\n",
                "\n",
                "What is the output of the following code snippet\n",
                "\n",
                "Then check your answers by running the code (remove ```python from the markdown then run the code)"
            ]
        },
        {
            "attachments": {},
            "cell_type": "markdown",
            "metadata": {},
            "source": [
                "```python\n",
                "a = True\n",
                "b = True\n",
                "c = False\n",
                "\n",
                "if not a or b and c:\n",
                "    print(\"True\")\n",
                "else:\n",
                "    print(\"False\")\n",
                "\n",
                "\n"
            ]
        },
        {
            "attachments": {},
            "cell_type": "markdown",
            "metadata": {},
            "source": [
                "## 1.4 Exercise\n",
                "\n",
                "What is the output of the following code snippet\n",
                "\n",
                "Then check your answers by running the code (remove ```python from the markdown then run the code)"
            ]
        },
        {
            "attachments": {},
            "cell_type": "markdown",
            "metadata": {},
            "source": [
                "```python\n",
                "p = False\n",
                "q = True\n",
                "r = False\n",
                "\n",
                "result = (not p and q) or (p and not r)\n",
                "\n"
            ]
        },
        {
            "attachments": {},
            "cell_type": "markdown",
            "metadata": {},
            "source": [
                "## 1.5 Exercise\n",
                "\n",
                "What is the output of the following code snippet\n",
                "\n",
                "Then check your answers by running the code (remove ```python from the markdown then run the code)"
            ]
        },
        {
            "attachments": {},
            "cell_type": "markdown",
            "metadata": {},
            "source": [
                "```python\n",
                "x = 5\n",
                "y = 10\n",
                "z = 15\n",
                "\n",
                "if x < y and y < z or x > y:\n",
                "    print(\"True\")\n",
                "else:\n",
                "    print(\"False\")\n",
                "\n"
            ]
        },
        {
            "attachments": {},
            "cell_type": "markdown",
            "metadata": {},
            "source": [
                "## 1.6 Exercise\n",
                "\n",
                "What is the output of the following code snippet\n",
                "\n",
                "Then check your answers by running the code (remove ```python from the markdown then run the code)"
            ]
        },
        {
            "attachments": {},
            "cell_type": "markdown",
            "metadata": {},
            "source": [
                "```python\n",
                "a = True\n",
                "b = False\n",
                "c = False\n",
                "\n",
                "result = (a and b) or (not c and a)\n",
                "\n"
            ]
        },
        {
            "attachments": {},
            "cell_type": "markdown",
            "metadata": {},
            "source": [
                "## 1.7 Exercise\n",
                "\n",
                "What is the output of the following code snippet\n",
                "\n",
                "Then check your answers by running the code (remove ```python from the markdown then run the code)"
            ]
        },
        {
            "attachments": {},
            "cell_type": "markdown",
            "metadata": {},
            "source": [
                "```python\n",
                "p = 3\n",
                "q = 7\n",
                "r = 11\n",
                "\n",
                "if (p + q == 10) or (p * r < 20) and (q - r > 0):\n",
                "    print(\"True\")\n",
                "else:\n",
                "    print(\"False\")\n",
                "\n",
                "\n"
            ]
        },
        {
            "attachments": {},
            "cell_type": "markdown",
            "metadata": {},
            "source": [
                "## 1.8 Exercise\n",
                "\n",
                "What is the output of the following code snippet\n",
                "\n",
                "Then check your answers by running the code (remove ```python from the markdown then run the code)"
            ]
        },
        {
            "cell_type": "markdown",
            "metadata": {},
            "source": [
                "```python\n",
                "d1 = {}\n",
                "d2 = {\"a\": 1}\n",
                "not d1 and d2"
            ]
        },
        {
            "attachments": {},
            "cell_type": "markdown",
            "metadata": {},
            "source": [
                "## 1.9 Exercise\n",
                "\n",
                "What is the output of the following code snippet\n",
                "\n",
                "Then check your answers by running the code (remove ```python from the markdown then run the code)"
            ]
        },
        {
            "cell_type": "markdown",
            "metadata": {},
            "source": [
                "```python\n",
                "d = {}\n",
                "if d:\n",
                "    print(\"The dictionary is not empty\")\n",
                "else:\n",
                "    print(\"The dictionary is empty\")\n"
            ]
        },
        {
            "attachments": {},
            "cell_type": "markdown",
            "metadata": {},
            "source": [
                "## 1.10 Exercise\n",
                "\n",
                "What is the output of the following code snippet\n",
                "\n",
                "Then check your answers by running the code (remove ```python from the markdown then run the code)"
            ]
        },
        {
            "cell_type": "markdown",
            "metadata": {},
            "source": [
                "```python\n",
                "d = {}\n",
                "print(d and True)\n"
            ]
        }
    ],
    "metadata": {
        "kernelspec": {
            "display_name": "base",
            "language": "python",
            "name": "python3"
        },
        "language_info": {
            "codemirror_mode": {
                "name": "ipython",
                "version": 3
            },
            "file_extension": ".py",
            "mimetype": "text/x-python",
            "name": "python",
            "nbconvert_exporter": "python",
            "pygments_lexer": "ipython3",
            "version": "3.9.13"
        },
        "orig_nbformat": 4,
        "vscode": {
            "interpreter": {
                "hash": "9bcd4d914e2bd1fd2df8e0d617ef656989b094900dc3b085585fa427e902d48a"
            }
        }
    },
    "nbformat": 4,
    "nbformat_minor": 2
}