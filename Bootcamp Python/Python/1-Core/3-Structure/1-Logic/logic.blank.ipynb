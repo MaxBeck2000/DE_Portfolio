{
    "cells": [
        {
            "cell_type": "markdown",
            "metadata": {},
            "source": [
                "---\n",
                "# 1. Boolean Logic\n",
                "---\n",
                "\n",
                "## 1.1 Boolean Expressions and Truth Values\n",
                "\n",
                "An expression is any combination of symbols that represent a value.  \n",
                "\n",
                "We have already covered *arithmetic* expressions such as `x/y` and `z**3`.\n",
                "\n",
                "A *boolean* expression is a combination of symbols that results in a boolean value (`True`, `False`).\n",
                "\n",
                "\n",
                "## 1.2 The Boolean Truth Table for `and`, `or` and `not` operators\n",
                "\n",
                "The logical operators `and`, `or` and `not` can be used to make Boolean expressions. \n",
                "\n",
                "If `A` and `B` are both variables that are either `True` or `False`, then the results of these operations are shown in the table below:\n",
                "\n",
                "\n",
                "|`A`|`B`|`A AND B`|`A OR B`|`NOT A`|\n",
                "|-|-|-      |-     |-    |\n",
                "|F|F|F      |F     |T    |\n",
                "|F|T|F      |T     |T    |\n",
                "|T|F|F      |T     |F    |\n",
                "|T|T|T      |T     |F    |\n",
                "\n",
                "The output of an `and` operation is only `True` if all the inputs are `True`\n",
                "\n",
                "The output of an `or` operation is `True` if any one of the inputs is `True`\n",
                "\n",
                "The output of `not` is the inverse of its input."
            ]
        },
        {
            "cell_type": "code",
            "execution_count": 7,
            "metadata": {},
            "outputs": [
                {
                    "name": "stdout",
                    "output_type": "stream",
                    "text": [
                        "The value of a and b is: False\n",
                        "The value of a or b is: False\n",
                        "not a is True\n"
                    ]
                }
            ],
            "source": [
                "a = False\n",
                "b = False\n",
                "\n",
                "print(f'The value of a and b is: {a and b}')\n",
                "print(f'The value of a or b is: {a or b}')\n",
                "print(f'not a is {not a}')"
            ]
        },
        {
            "cell_type": "code",
            "execution_count": 9,
            "metadata": {},
            "outputs": [
                {
                    "name": "stdout",
                    "output_type": "stream",
                    "text": [
                        "x is less than 20\n",
                        "at least one of a or b is False\n"
                    ]
                }
            ],
            "source": [
                "x = 10\n",
                "if x < 20:\n",
                "    print('x is less than 20')\n",
                "\n"
            ]
        },
        {
            "cell_type": "code",
            "execution_count": 10,
            "metadata": {},
            "outputs": [
                {
                    "name": "stdout",
                    "output_type": "stream",
                    "text": [
                        "at least one of a or b is False\n"
                    ]
                }
            ],
            "source": [
                "a = False\n",
                "b = False\n",
                "\n",
                "if a and b:\n",
                "    print('a and b are BOTH True')\n",
                "else:\n",
                "    print('at least one of a or b is False')"
            ]
        },
        {
            "cell_type": "markdown",
            "metadata": {},
            "source": [
                "### 1.2.1 Concept Check: Boolean Expressions\n",
                "\n",
                "Can you work out the values of these two Boolean expressions:\n",
                "- `not (A and B)`\n",
                "- `not A and B` \n",
                "\n",
                "Replace the question-marks ('?') with your answers, in the following table: \n",
                "\n",
                "|`A`|`B`| `not (A and B)` | `not A and B` |\n",
                "|:--|:--|-      |-     |\n",
                "|False|False|True  |False|\n",
                "|False|True|True      |True    |\n",
                "|True|False|True |False     |\n",
                "|True|True|False      |False     |\n",
                "\n",
                "In the code cell below, write the boolean expressions to check your answers   \n"
            ]
        },
        {
            "cell_type": "code",
            "execution_count": 19,
            "metadata": {},
            "outputs": [
                {
                    "data": {
                        "text/plain": [
                            "True"
                        ]
                    },
                    "execution_count": 19,
                    "metadata": {},
                    "output_type": "execute_result"
                }
            ],
            "source": [
                "a = False\n",
                "b = True\n",
                "not (a and b)"
            ]
        },
        {
            "cell_type": "code",
            "execution_count": null,
            "metadata": {},
            "outputs": [],
            "source": [
                "In order\n",
                "\n",
                "1. not\n",
                "2. and\n",
                "3. or"
            ]
        },
        {
            "cell_type": "code",
            "execution_count": 21,
            "metadata": {},
            "outputs": [
                {
                    "name": "stdout",
                    "output_type": "stream",
                    "text": [
                        "False\n",
                        "True\n"
                    ]
                }
            ],
            "source": [
                "print(bool(a))\n",
                "print(bool(b))"
            ]
        },
        {
            "cell_type": "code",
            "execution_count": 23,
            "metadata": {},
            "outputs": [
                {
                    "name": "stdout",
                    "output_type": "stream",
                    "text": [
                        "True\n",
                        "True\n",
                        "False\n"
                    ]
                }
            ],
            "source": [
                "my_string = 'hello word'\n",
                "print(bool(my_string))\n",
                "my_number = 100\n",
                "print(bool(my_number))\n",
                "my_new_number = 0\n",
                "print(bool(my_new_number))"
            ]
        },
        {
            "attachments": {},
            "cell_type": "markdown",
            "metadata": {},
            "source": [
                "## 1.3 Every Python Object Can Be Considered `True` or `False`\n",
                "\n",
                "The in-built function `bool` takes a single argument (an object) and returns either `True` or `False`."
            ]
        },
        {
            "cell_type": "markdown",
            "metadata": {},
            "source": [
                "\n",
                "By default, an object is considered to be `True` unless any of the following holds:\n",
                "- It is defined to be `False` (e.g. the `False` object itself or the `None` object)\n",
                "- It has a length of 0 returned by the `len()` function (typically applies to objects that have a notion of length such as lists, dictionaries, strings, tuples etc. AND are empty).\n",
                "- It has value of `0` (typically applies to numeric types, e.g. `0`, `0.0`, `0j`).\n",
                "\n",
                "If an object `x` satisfies any of the above three statements, `bool(x)` returns `False`. Otherwise, it returns `True`."
            ]
        },
        {
            "cell_type": "markdown",
            "metadata": {},
            "source": [
                "### 1.3.1 Example: Using the `bool` function"
            ]
        },
        {
            "cell_type": "code",
            "execution_count": 24,
            "metadata": {},
            "outputs": [],
            "source": [
                "my_list = []\n",
                "my_dict = {0:'zero'}\n",
                "def my_func(a, b):\n",
                "    return a + b\n",
                "a = 0"
            ]
        },
        {
            "cell_type": "code",
            "execution_count": 25,
            "metadata": {},
            "outputs": [
                {
                    "data": {
                        "text/plain": [
                            "False"
                        ]
                    },
                    "execution_count": 25,
                    "metadata": {},
                    "output_type": "execute_result"
                }
            ],
            "source": [
                "bool(my_list)"
            ]
        },
        {
            "cell_type": "code",
            "execution_count": 26,
            "metadata": {},
            "outputs": [
                {
                    "data": {
                        "text/plain": [
                            "True"
                        ]
                    },
                    "execution_count": 26,
                    "metadata": {},
                    "output_type": "execute_result"
                }
            ],
            "source": [
                "print(bool(my_dict))\n",
                "print(len(my_dict))"
            ]
        },
        {
            "cell_type": "code",
            "execution_count": 30,
            "metadata": {},
            "outputs": [
                {
                    "name": "stdout",
                    "output_type": "stream",
                    "text": [
                        "True\n"
                    ]
                }
            ],
            "source": [
                "print(bool(my_func))"
            ]
        },
        {
            "cell_type": "code",
            "execution_count": 31,
            "metadata": {},
            "outputs": [
                {
                    "name": "stdout",
                    "output_type": "stream",
                    "text": [
                        "False\n"
                    ]
                }
            ],
            "source": [
                "print(bool(a))"
            ]
        },
        {
            "cell_type": "code",
            "execution_count": 14,
            "metadata": {},
            "outputs": [],
            "source": []
        },
        {
            "cell_type": "code",
            "execution_count": 15,
            "metadata": {},
            "outputs": [],
            "source": []
        },
        {
            "cell_type": "code",
            "execution_count": 26,
            "metadata": {},
            "outputs": [],
            "source": []
        },
        {
            "cell_type": "markdown",
            "metadata": {},
            "source": [
                "### 1.3.2 Concept Check: Using the `bool` function\n",
                "\n",
                "Which of the Python objects `{a,b,c,d,e,f,g}` are `True` (and which are `False`)?\n",
                "\n",
                "Check your answers by putting each of  using each of these as an argument in the `bool` function.  \n",
                "\n",
                "\n",
                "| `object` | boolean value of object | notes |\n",
                "| - | - | - |\n",
                "| `a = 0.0` | False |   |\n",
                "| `b = -0` | False |   |\n",
                "| `c = (0,0)` | True |   |\n",
                "| `d = (0,)` | True |   |\n",
                "| `e = [0]` | True |   |\n",
                "| `f = (2+-2)` | False |   |\n",
                "| `g = +0` | False |   |\n",
                "| `h = (0)` | False |   |"
            ]
        },
        {
            "cell_type": "code",
            "execution_count": 40,
            "metadata": {},
            "outputs": [
                {
                    "data": {
                        "text/plain": [
                            "False"
                        ]
                    },
                    "execution_count": 40,
                    "metadata": {},
                    "output_type": "execute_result"
                }
            ],
            "source": [
                "a = 0.0\n",
                "b = -0\n",
                "c = (0,0)\n",
                "d = (0,)\n",
                "e = [0]\n",
                "f = (2+-2)\n",
                "g = +0\n",
                "h = (0)\n",
                "\n",
                "bool(h)"
            ]
        },
        {
            "cell_type": "markdown",
            "metadata": {},
            "source": [
                "## 1.4 Results of Logical Operations\n",
                "\n",
                "Python evaluates boolean expressions containing `and`, `or` and `not` operators, according to the following rules: \n",
                "\n",
                "\n",
                "```\n",
                "- a and b: If bool(a) is False, return a. Otherwise return b \n",
                "- a or b : If bool(a) is False, return b. Otherwise return a.\n",
                "- not a  : If bool(a) is False, return True. Otherwise return False.\n",
                "```\n",
                "\n",
                "This entails the following table of results: \n",
                "\n",
                "|`bool(a)`| `bool(b)`|`a and b` | `a or b` | `not a` |\n",
                "|-|-|-      |-     |-    |\n",
                "|`False`  | `False`  | `a`   | `b`  | `True`    |\n",
                "|`False`  | `True`   | `a`   | `b`     |  `True`  |\n",
                "|`True`   | `False`  | `b`   |   `a`     |`False`    |\n",
                "|`True`   | `True`   | `b`   | `a`     |`False`    |\n",
                "\n",
                "\n",
                "The `not` operator results in either `True` or `False`, so this is the same as the Table above\n",
                "\n",
                "However, the `and` and `or` operators result in either `a` or `b` (instead of simply `True` or `False`).\n",
                "\n",
                "It's useful to work through the last row of the above truth table, when it's a 'dead heat' between `a` and `b` ( i.e. `bool(a)` and `bool(b)` are both `True`):\n",
                "- `a and b`:  `b` wins\n",
                "- `a or b` :  `a` wins\n",
                "\n",
                "This operation is called short-circuiting\n",
                "\n",
                "\n",
                "### 1.4.1 Examples\n",
                "\n",
                "\n"
            ]
        },
        {
            "cell_type": "code",
            "execution_count": 41,
            "metadata": {},
            "outputs": [
                {
                    "data": {
                        "text/plain": [
                            "0"
                        ]
                    },
                    "execution_count": 41,
                    "metadata": {},
                    "output_type": "execute_result"
                }
            ],
            "source": [
                "a = 0 # bool(a) == false\n",
                "b = 20\n",
                "\n",
                "a and b"
            ]
        },
        {
            "cell_type": "code",
            "execution_count": 42,
            "metadata": {},
            "outputs": [
                {
                    "data": {
                        "text/plain": [
                            "0"
                        ]
                    },
                    "execution_count": 42,
                    "metadata": {},
                    "output_type": "execute_result"
                }
            ],
            "source": [
                "a = 'world' # bool(a) == true\n",
                "b = 0 \n",
                "\n",
                "a and b \n"
            ]
        },
        {
            "cell_type": "code",
            "execution_count": 43,
            "metadata": {
                "scrolled": true
            },
            "outputs": [
                {
                    "data": {
                        "text/plain": [
                            "'DE35'"
                        ]
                    },
                    "execution_count": 43,
                    "metadata": {},
                    "output_type": "execute_result"
                }
            ],
            "source": [
                "a = [1, 2, 3] # bool(a) == True\n",
                "b = 'DE35'\n",
                "\n",
                "a and b"
            ]
        },
        {
            "cell_type": "code",
            "execution_count": 46,
            "metadata": {},
            "outputs": [
                {
                    "data": {
                        "text/plain": [
                            "True"
                        ]
                    },
                    "execution_count": 46,
                    "metadata": {},
                    "output_type": "execute_result"
                }
            ],
            "source": [
                "a = True #bool(a) == true\n",
                "b = True\n",
                "a and b"
            ]
        },
        {
            "cell_type": "code",
            "execution_count": 1,
            "metadata": {},
            "outputs": [],
            "source": []
        },
        {
            "cell_type": "code",
            "execution_count": 17,
            "metadata": {},
            "outputs": [],
            "source": []
        },
        {
            "cell_type": "markdown",
            "metadata": {},
            "source": [
                "### 1.4.2 Concept Check: Boolean Evaluation\n",
                "\n",
                "What do the following evaluate to? \n",
                "\n",
                "Why? Will they be considered True or False in a boolean expression?\n",
                "\n",
                "```\n",
                "- []         : \n",
                "- \"\"         : \n",
                "- [] and 100 : \n",
                "- [] or None : \n",
                "- True and \"\": \n",
                "- 1 and 2    : \n",
                "- [] or 8    : \n",
                "```"
            ]
        },
        {
            "cell_type": "code",
            "execution_count": 55,
            "metadata": {},
            "outputs": [
                {
                    "name": "stdout",
                    "output_type": "stream",
                    "text": [
                        "False\n",
                        "False\n",
                        "False\n",
                        "False\n",
                        "False\n",
                        "True\n",
                        "True\n"
                    ]
                }
            ],
            "source": [
                "print(bool([])) #false as legnth is 0\n",
                "print(bool(\"\")) #false as length is 0\n",
                "print(bool([] and 100)) #false as bool100 is true\n",
                "print(bool([] or None))#false as both are false\n",
                "print(bool(True and \"\")) #false as bool(\"\") is false\n",
                "print(bool(1 and 2)) #true as both are true\n",
                "print(bool([] or 8)) #true as bool 8 is true"
            ]
        },
        {
            "cell_type": "markdown",
            "metadata": {},
            "source": [
                "## 1.5 Operator Precedence\n",
                "\n",
                "In Python, the operator `==`, `<`, `>`, `<=`, `>=` takes precendence over `and`, `or`, and `not`, which doesn't always match our natural language parsing.  "
            ]
        },
        {
            "cell_type": "code",
            "execution_count": 58,
            "metadata": {},
            "outputs": [
                {
                    "name": "stdout",
                    "output_type": "stream",
                    "text": [
                        "Erasing hard disk\n"
                    ]
                }
            ],
            "source": [
                "user_input = input('Shall I erase your hard disk')\n",
                "if user_input == 'yes'or 'YES': #'Yes' == 'yes' or 'Yes' -> False or yes -> yes -> true\n",
                "    print('Erasing hard disk')\n",
                "else:\n",
                "    print('Taking no action')"
            ]
        },
        {
            "cell_type": "code",
            "execution_count": 59,
            "metadata": {},
            "outputs": [
                {
                    "name": "stdout",
                    "output_type": "stream",
                    "text": [
                        "Erasing hard disk\n"
                    ]
                }
            ],
            "source": [
                "user_input = input('Shall I erase your hard disk')\n",
                "if user_input == 'yes'or 'YES': #'NO' == 'yes' or 'Yes' -> False or yes -> yes -> true\n",
                "    print('Erasing hard disk')\n",
                "else:\n",
                "    print('Taking no action')"
            ]
        },
        {
            "cell_type": "code",
            "execution_count": 64,
            "metadata": {},
            "outputs": [
                {
                    "name": "stdout",
                    "output_type": "stream",
                    "text": [
                        "Taking no action\n"
                    ]
                }
            ],
            "source": [
                "user_input = input('Shall I erase your hard disk')\n",
                "\n",
                "if user_input == 'yes' or user_input == 'Yes': #'NO' =='yes' or 'NO' == 'Yes' -> False or False -> False\n",
                "    print('Erasing hard disk')\n",
                "else:\n",
                "    print('Taking no action')"
            ]
        }
    ],
    "metadata": {
        "kernelspec": {
            "display_name": "base",
            "language": "python",
            "name": "python3"
        },
        "language_info": {
            "codemirror_mode": {
                "name": "ipython",
                "version": 3
            },
            "file_extension": ".py",
            "mimetype": "text/x-python",
            "name": "python",
            "nbconvert_exporter": "python",
            "pygments_lexer": "ipython3",
            "version": "3.11.8"
        },
        "varInspector": {
            "cols": {
                "lenName": 16,
                "lenType": 16,
                "lenVar": 40
            },
            "kernels_config": {
                "python": {
                    "delete_cmd_postfix": "",
                    "delete_cmd_prefix": "del ",
                    "library": "var_list.py",
                    "varRefreshCmd": "print(var_dic_list())"
                },
                "r": {
                    "delete_cmd_postfix": ") ",
                    "delete_cmd_prefix": "rm(",
                    "library": "var_list.r",
                    "varRefreshCmd": "cat(var_dic_list()) "
                }
            },
            "types_to_exclude": [
                "module",
                "function",
                "builtin_function_or_method",
                "instance",
                "_Feature"
            ],
            "window_display": false
        },
        "vscode": {
            "interpreter": {
                "hash": "54b57a9d7255aa9bd89013014712be1af3e9c0518087b34529522b12b0bc87de"
            }
        }
    },
    "nbformat": 4,
    "nbformat_minor": 2
}
