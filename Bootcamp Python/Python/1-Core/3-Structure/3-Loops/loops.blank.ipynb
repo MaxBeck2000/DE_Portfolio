{
    "cells": [
        {
            "cell_type": "markdown",
            "metadata": {},
            "source": [
                "# 3. Iteration and Looping (`for` and `while`)"
            ]
        },
        {
            "cell_type": "markdown",
            "metadata": {},
            "source": [
                "## 3.1 Indefinite Iteration: the `while` statement\n",
                "\n",
                "\n",
                "```\n",
                "while <condition>:\n",
                "    # block to execute while condition is True\n",
                "    <statement>\n",
                "    <statement>\n",
                "    ...\n",
                "```    \n",
                "\n",
                "The `while` statement repeatedly executes the code block, while the expression is true\n",
                "- The `break` statement exits the code block and carries on below.\n",
                "- The `continue` statement exits this iteration of the code block and starts the next iteration (at the `while` statement).\n",
                "- Nesting `while` statements is possible, but makes code hard to follow.\n",
                "\n"
            ]
        },
        {
            "cell_type": "code",
            "execution_count": 2,
            "metadata": {},
            "outputs": [],
            "source": [
                "game_has_ended = 'False'\n",
                "\n",
                "while game_has_ended == 'False':\n",
                "    user_input = input('Do you want to finish? y/n')\n",
                "    if user_input == 'y':\n",
                "        game_has_ended = True\n",
                "\n"
            ]
        },
        {
            "cell_type": "code",
            "execution_count": null,
            "metadata": {},
            "outputs": [],
            "source": []
        },
        {
            "cell_type": "code",
            "execution_count": null,
            "metadata": {
                "scrolled": true
            },
            "outputs": [],
            "source": []
        },
        {
            "cell_type": "markdown",
            "metadata": {},
            "source": [
                "### 3.1.1 The `break` keyword\n",
                "We can use a 'break' statement to break out of the loop"
            ]
        },
        {
            "cell_type": "code",
            "execution_count": 3,
            "metadata": {},
            "outputs": [
                {
                    "name": "stdout",
                    "output_type": "stream",
                    "text": [
                        "Playing a game\n",
                        "Playing a game\n"
                    ]
                }
            ],
            "source": [
                "while True:\n",
                "    print('Playing a game')\n",
                "    user_input = input('Do you want to finish?')\n",
                "    if user_input == 'y':\n",
                "        break"
            ]
        },
        {
            "cell_type": "code",
            "execution_count": null,
            "metadata": {},
            "outputs": [],
            "source": []
        },
        {
            "cell_type": "markdown",
            "metadata": {},
            "source": [
                "### 3.1.2 The `continue` keyword\n",
                "The `continue` statement can be used to skip the rest of the current iteration in a loop"
            ]
        },
        {
            "cell_type": "code",
            "execution_count": 10,
            "metadata": {},
            "outputs": [
                {
                    "name": "stdout",
                    "output_type": "stream",
                    "text": [
                        "Playing game\n",
                        "Carry on then\n",
                        "End of this round\n",
                        "Finished playing the game\n"
                    ]
                }
            ],
            "source": [
                "while True:\n",
                "    user_input = input('\"f\" for finish or \"p\" for pause')\n",
                "    if user_input == 'f':\n",
                "        break\n",
                "    elif user_input == 'p':\n",
                "        continue\n",
                "    else:\n",
                "        print('Playing game')\n",
                "    print('Carry on then')\n",
                "    print('End of this round')\n",
                "print('Finished playing the game')\n"
            ]
        },
        {
            "cell_type": "code",
            "execution_count": 11,
            "metadata": {},
            "outputs": [
                {
                    "name": "stdout",
                    "output_type": "stream",
                    "text": [
                        "2\n",
                        "4\n",
                        "6\n",
                        "8\n",
                        "10\n"
                    ]
                }
            ],
            "source": [
                "n = 1\n",
                "\n",
                "while n <= 10:\n",
                "    n = n + 1\n",
                "    if n % 2 ==1:\n",
                "        continue\n",
                "    print(n)\n"
            ]
        },
        {
            "cell_type": "code",
            "execution_count": null,
            "metadata": {},
            "outputs": [],
            "source": []
        },
        {
            "attachments": {},
            "cell_type": "markdown",
            "metadata": {},
            "source": [
                "#### Concept Check: `while` loops (Random numbers)\n",
                "\n",
                "- In a `while True` loop and a `break`, keep generating random numbers (between 1 and 100) until you get a number greater than 95.\n",
                "- Add these generated random numbers into a list object and print out this list.\n",
                "\n",
                "The `random` module is imported for you, use `random.randint(1, 100)` to generate a random number between 1 and 100.\n",
                "\n",
                "#### Extension: Create the solution without using break\n",
                "\n"
            ]
        },
        {
            "cell_type": "code",
            "execution_count": 77,
            "metadata": {},
            "outputs": [
                {
                    "name": "stdout",
                    "output_type": "stream",
                    "text": [
                        "62\n",
                        "77\n",
                        "83\n",
                        "83\n",
                        "7\n",
                        "98\n"
                    ]
                }
            ],
            "source": [
                "import random\n",
                "numb = random.randint(1,100)\n",
                "print(numb)\n",
                "# Write your solution below\n",
                "while True:\n",
                "        if numb < 95:\n",
                "                numb = random.randint(1,100)\n",
                "                print(numb)\n",
                "        else:\n",
                "                break\n"
            ]
        },
        {
            "cell_type": "code",
            "execution_count": 38,
            "metadata": {},
            "outputs": [
                {
                    "name": "stdout",
                    "output_type": "stream",
                    "text": [
                        "[95, 57, 30, 99]\n"
                    ]
                }
            ],
            "source": [
                "import random\n",
                "my_list_of_numbers = []\n",
                "\n",
                "while True:\n",
                "    generated_num = random.randint(1,100)\n",
                "    my_list_of_numbers.append(generated_num)\n",
                "\n",
                "    if generated_num > 95:\n",
                "        break\n",
                "    \n",
                "print(my_list_of_numbers)"
            ]
        },
        {
            "attachments": {},
            "cell_type": "markdown",
            "metadata": {},
            "source": [
                "#### Concept Check: Re-write this using `continue`\n",
                "\n",
                "In the cell below is a program that takes a `list_of_names` and prints out the names and some name stats for all names that don't begin with the letter `'A'`.\n",
                "\n",
                "Re-write the program to un-nest all the print statements using the `continue` statement."
            ]
        },
        {
            "cell_type": "code",
            "execution_count": 78,
            "metadata": {},
            "outputs": [
                {
                    "name": "stdout",
                    "output_type": "stream",
                    "text": [
                        "Bernadette\n",
                        "  Name stats:\n",
                        "  - There are 10 chars in this name\n",
                        "  - This name starts with the letter B\n",
                        "Starlord\n",
                        "  Name stats:\n",
                        "  - There are 8 chars in this name\n",
                        "  - This name starts with the letter S\n",
                        "Mia\n",
                        "  Name stats:\n",
                        "  - There are 3 chars in this name\n",
                        "  - This name starts with the letter M\n"
                    ]
                }
            ],
            "source": [
                "list_of_names = [\"Aaron\", \"Bernadette\", \"Starlord\", \"Aarjay\", \"Mia\", \"Ava\", \"Aries\"]\n",
                "\n",
                "for name in list_of_names:\n",
                "    if name[0] != 'A': #!= is not equal\n",
                "        print(name)\n",
                "        print(\"  Name stats:\")\n",
                "        print(f\"  - There are {len(name)} chars in this name\")\n",
                "        print(f\"  - This name starts with the letter {name[0]}\")\n"
            ]
        },
        {
            "cell_type": "code",
            "execution_count": 80,
            "metadata": {},
            "outputs": [
                {
                    "name": "stdout",
                    "output_type": "stream",
                    "text": [
                        "Bernadette\n",
                        "  Name stats:\n",
                        "  - There are 10 chars in this name\n",
                        "  - This name starts with the letter B\n",
                        "Starlord\n",
                        "  Name stats:\n",
                        "  - There are 8 chars in this name\n",
                        "  - This name starts with the letter S\n",
                        "Mia\n",
                        "  Name stats:\n",
                        "  - There are 3 chars in this name\n",
                        "  - This name starts with the letter M\n"
                    ]
                }
            ],
            "source": [
                "for name in list_of_names:\n",
                "    if name[0] == 'A':\n",
                "        continue\n",
                "    print(name)\n",
                "    print(\"  Name stats:\")\n",
                "    print(f\"  - There are {len(name)} chars in this name\")\n",
                "    print(f\"  - This name starts with the letter {name[0]}\")"
            ]
        },
        {
            "cell_type": "markdown",
            "metadata": {},
            "source": [
                "## 3.2  `for` Statements\n",
                "\n",
                "Python `for` statements are used to iterate through an iterable object.\n",
                "\n",
                "```\n",
                "for <item> in <collection>:\n",
                "    <statement>\n",
                "    <process item> # here, we can access one element from the collection in each iteration using <item> \n",
                "    <statement>\n",
                "    ...\n",
                "```\n",
                "\n",
                "What objects are iterable?\n",
                "\n",
                "- All sequences (tuples, strings, lists, ranges).\n",
                "- Sets and dictionaries.\n",
                "- Objects returned by in-built functions like `range` and `zip` (We will cover these in more detail later on).\n",
                "- (In fact, any object that has either an `__iter__()` method or a  `__getitem__()` dunder method is iterable. But we will not be making iterable objects at this point, so this can be considered an advanced topic.)  \n"
            ]
        },
        {
            "cell_type": "markdown",
            "metadata": {},
            "source": [
                "### 3.2.1 Simple iteration\n",
                "\n",
                "If `my_collection` is some sort of iterable object (a list, a string, a dictionary...) then we can iterate over its contents like this: \n",
                "\n",
                "```\n",
                "for x in my_collection:\n",
                "    print(x)\n",
                "    print('more statements here')\n",
                "```\n",
                "\n",
                "We call `x` the iterator variable: it is assigned in turn to each of the elements in `my_collection`.\n",
                "\n",
                "Each iteration, all the indented statements in this code block will be executed. \n"
            ]
        },
        {
            "cell_type": "code",
            "execution_count": null,
            "metadata": {},
            "outputs": [],
            "source": []
        },
        {
            "cell_type": "markdown",
            "metadata": {},
            "source": [
                "### 3.2.2 Iterating over a String\n",
                "\n",
                "The iterator variable will be assigned to each character in the string sequence.\n",
                "\n",
                "Below, we have named the iterator variable `i`:"
            ]
        },
        {
            "cell_type": "code",
            "execution_count": null,
            "metadata": {},
            "outputs": [],
            "source": []
        },
        {
            "cell_type": "markdown",
            "metadata": {},
            "source": [
                "### 3.2.3 Iterating over  a List\n",
                "\n",
                "\n",
                "The iterator variable will be assigned to each element in the list.\n",
                "\n",
                "Below, we have named the iterator variable `s`:"
            ]
        },
        {
            "cell_type": "code",
            "execution_count": null,
            "metadata": {},
            "outputs": [],
            "source": []
        },
        {
            "cell_type": "markdown",
            "metadata": {},
            "source": [
                "### 3.2.4 Iterating over a Set\n",
                "\n",
                "\n",
                "The iterator variable will be assigned to each element in the list.\n",
                "\n",
                "Below, we have named the iterator variable `i`.\n",
                "\n",
                "Note: Because sets are unordered, the `for` loop will not go through the elements in an ordered manner."
            ]
        },
        {
            "cell_type": "code",
            "execution_count": 82,
            "metadata": {},
            "outputs": [
                {
                    "name": "stdout",
                    "output_type": "stream",
                    "text": [
                        "green\n",
                        "yellow\n",
                        "blue\n"
                    ]
                }
            ],
            "source": [
                "my_Set = {'blue','green','yellow'}\n",
                "\n",
                "for colour in my_Set:\n",
                "    print(colour)"
            ]
        },
        {
            "cell_type": "markdown",
            "metadata": {},
            "source": [
                "### 3.2.5 Iterating over a Dictionary\n",
                "\n",
                "\n",
                "The iterator variable will be assigned to each key in the dictionary.\n",
                "\n",
                "Below, we have named the iterator variable `k`.\n",
                "\n",
                "Note that we can access each value in this dictionary using `dictionary_name[k]` where `dictionary_name` is the name of the dictionary we are iterating over.\n"
            ]
        },
        {
            "cell_type": "code",
            "execution_count": 86,
            "metadata": {},
            "outputs": [
                {
                    "name": "stdout",
                    "output_type": "stream",
                    "text": [
                        "1\n",
                        "One\n",
                        "------------------------------\n",
                        "2\n",
                        "Two\n",
                        "------------------------------\n"
                    ]
                }
            ],
            "source": [
                "my_dict = {1:'One',2:'Two'}\n",
                "for my_iterator in my_dict:\n",
                "    print(my_iterator)\n",
                "    print(my_dict[my_iterator])\n",
                "    print('------------------------------')"
            ]
        },
        {
            "cell_type": "markdown",
            "metadata": {},
            "source": [
                "### 3.2.6 Alternative Dictionary Iteration Forms\n",
                "\n",
                "We can also iterate over the keys, values and items in a dictionary obtained using the `.keys()`, `.values()` and `.items()` methods respectively. \n"
            ]
        },
        {
            "cell_type": "code",
            "execution_count": 87,
            "metadata": {},
            "outputs": [],
            "source": [
                "my_dict = {1: 'One', 2:'Two', 3:'Three',4:'Four'}"
            ]
        },
        {
            "cell_type": "code",
            "execution_count": 89,
            "metadata": {},
            "outputs": [
                {
                    "name": "stdout",
                    "output_type": "stream",
                    "text": [
                        "dict_keys([1, 2, 3, 4])\n",
                        "dict_values(['One', 'Two', 'Three', 'Four'])\n",
                        "dict_items([(1, 'One'), (2, 'Two'), (3, 'Three'), (4, 'Four')])\n"
                    ]
                }
            ],
            "source": [
                "print(my_dict.keys())\n",
                "print(my_dict.values())\n",
                "print(my_dict.items())\n"
            ]
        },
        {
            "cell_type": "code",
            "execution_count": 90,
            "metadata": {},
            "outputs": [
                {
                    "name": "stdout",
                    "output_type": "stream",
                    "text": [
                        "1\n",
                        "2\n",
                        "3\n",
                        "4\n"
                    ]
                }
            ],
            "source": [
                "for key in my_dict.keys():\n",
                "    print(key)"
            ]
        },
        {
            "cell_type": "code",
            "execution_count": 93,
            "metadata": {},
            "outputs": [
                {
                    "name": "stdout",
                    "output_type": "stream",
                    "text": [
                        "(1, 'One')\n",
                        "(2, 'Two')\n",
                        "(3, 'Three')\n",
                        "(4, 'Four')\n"
                    ]
                }
            ],
            "source": [
                "for item in my_dict.items():\n",
                "    print(item)"
            ]
        },
        {
            "cell_type": "code",
            "execution_count": 94,
            "metadata": {},
            "outputs": [
                {
                    "name": "stdout",
                    "output_type": "stream",
                    "text": [
                        "One\n",
                        "Two\n",
                        "Three\n",
                        "Four\n"
                    ]
                }
            ],
            "source": [
                "for value in my_dict.values():\n",
                "    print(value)"
            ]
        },
        {
            "cell_type": "code",
            "execution_count": null,
            "metadata": {},
            "outputs": [],
            "source": []
        },
        {
            "cell_type": "code",
            "execution_count": null,
            "metadata": {},
            "outputs": [],
            "source": []
        },
        {
            "attachments": {},
            "cell_type": "markdown",
            "metadata": {},
            "source": [
                "\n",
                "#### Concept Check: Pretty Printing a Set Menu (using `.items()`)\n",
                "\n",
                "Given the `set_menu` variable below, using `.items()` choose a set menu you would like and pretty print it in the following format:\n",
                "\n",
                "```\n",
                "**************\n",
                "**** Starter ****\n",
                "--- Bruschetta ---\n",
                "=============\n",
                "**** Main ****\n",
                "--- Pasta ---\n",
                "=============\n",
                "**** Dessert ****\n",
                "--- Peach Sorbet ---\n",
                "=============\n",
                "**** Drink ****\n",
                "--- Prosecco ---\n",
                "=============\n",
                "**************\n",
                "```\n",
                "\n",
                "(This is a repeat concept check using a different method. Try not to use your past solution unless you are stuck.)"
            ]
        },
        {
            "cell_type": "code",
            "execution_count": 95,
            "metadata": {},
            "outputs": [],
            "source": [
                "set_menu = {'Starter': '', 'Main': '', 'Dessert': '', 'Drink': ''}\n",
                "#TODO"
            ]
        },
        {
            "cell_type": "markdown",
            "metadata": {},
            "source": [
                "### 3.2.7 Iterating over a Range of Numbers\n",
                "\n",
                "To iterate over a range of integer numbers, we use the inbuilt function `range`.\n",
                "Built-in `range` function generates a range of numbers\n",
                "- `range(n)` generates numbers from `0` to `n-1`\n",
                "- `range(m,n)` generates numbers from `m` to `n-1`\n",
                "- `range(m,n,s)` generates numbers from `m` to `n-1` with a step `s` "
            ]
        },
        {
            "cell_type": "code",
            "execution_count": null,
            "metadata": {},
            "outputs": [],
            "source": []
        },
        {
            "cell_type": "code",
            "execution_count": null,
            "metadata": {},
            "outputs": [],
            "source": []
        },
        {
            "cell_type": "code",
            "execution_count": null,
            "metadata": {},
            "outputs": [],
            "source": []
        },
        {
            "cell_type": "code",
            "execution_count": null,
            "metadata": {},
            "outputs": [],
            "source": []
        },
        {
            "cell_type": "code",
            "execution_count": null,
            "metadata": {},
            "outputs": [],
            "source": []
        },
        {
            "cell_type": "markdown",
            "metadata": {},
            "source": [
                "We can directly iterate over a range function in a for loop. This means there is no need to convert the range object into a list before using it in a for loop"
            ]
        },
        {
            "cell_type": "code",
            "execution_count": 101,
            "metadata": {},
            "outputs": [
                {
                    "name": "stdout",
                    "output_type": "stream",
                    "text": [
                        "2\n",
                        "4\n",
                        "6\n",
                        "8\n"
                    ]
                }
            ],
            "source": [
                "\n",
                "for num in range(2,10,2):\n",
                "    print(num)"
            ]
        },
        {
            "cell_type": "code",
            "execution_count": null,
            "metadata": {},
            "outputs": [],
            "source": []
        },
        {
            "attachments": {},
            "cell_type": "markdown",
            "metadata": {},
            "source": [
                "#### Concept Check: Every second element\n",
                "\n",
                "Write some code to print out every second element for the following:\n",
                "\n",
                "a) The numbers 50 to 70 (inclusive).\\\n",
                "b) `my_nums = [1,2,3,4,5,6,7,8,9,10]`\\\n",
                "c) `my_chars = ['a','b','c','d','e','f','g','h','i','j']`\n",
                "\n",
                "Hint: While you can do `b)` and `c)` with `range`, there is a similar but simpler approach."
            ]
        },
        {
            "cell_type": "code",
            "execution_count": 116,
            "metadata": {},
            "outputs": [
                {
                    "name": "stdout",
                    "output_type": "stream",
                    "text": [
                        "------Part A------ \n",
                        "50\n",
                        "52\n",
                        "54\n",
                        "56\n",
                        "58\n",
                        "60\n",
                        "62\n",
                        "64\n",
                        "66\n",
                        "68\n",
                        "70\n",
                        "------Part B------ \n",
                        "1\n",
                        "3\n",
                        "5\n",
                        "7\n",
                        "9\n",
                        "------Part C------ \n",
                        "a\n",
                        "c\n",
                        "e\n",
                        "g\n",
                        "i\n"
                    ]
                }
            ],
            "source": [
                "my_nums = [1,2,3,4,5,6,7,8,9,10]\n",
                "my_chars = ['a','b','c','d','e','f','g','h','i','j']\n",
                "print(\"------Part A------ \")\n",
                "for num in range(50,71,2):\n",
                "    print(num)\n",
                "print(\"------Part B------ \")\n",
                "for num in my_nums[::2]:\n",
                "    print(num)\n",
                "print(\"------Part C------ \")\n",
                "for char in my_chars[::2]:\n",
                "    print(char)\n",
                "\n",
                "\n",
                "\n"
            ]
        },
        {
            "attachments": {},
            "cell_type": "markdown",
            "metadata": {},
            "source": [
                "#### Concept Check: Generating a number dictionary\n",
                "\n",
                "Create a dictionary that has keys from 1 to 100 (as integers) and their corresponding values '1' to '100' (as strings)"
            ]
        },
        {
            "cell_type": "code",
            "execution_count": 1,
            "metadata": {},
            "outputs": [
                {
                    "name": "stdout",
                    "output_type": "stream",
                    "text": [
                        "{0: '0', 1: '1', 2: '2', 3: '3', 4: '4', 5: '5', 6: '6', 7: '7', 8: '8', 9: '9', 10: '10', 11: '11', 12: '12', 13: '13', 14: '14', 15: '15', 16: '16', 17: '17', 18: '18', 19: '19', 20: '20', 21: '21', 22: '22', 23: '23', 24: '24', 25: '25', 26: '26', 27: '27', 28: '28', 29: '29', 30: '30', 31: '31', 32: '32', 33: '33', 34: '34', 35: '35', 36: '36', 37: '37', 38: '38', 39: '39', 40: '40', 41: '41', 42: '42', 43: '43', 44: '44', 45: '45', 46: '46', 47: '47', 48: '48', 49: '49', 50: '50', 51: '51', 52: '52', 53: '53', 54: '54', 55: '55', 56: '56', 57: '57', 58: '58', 59: '59', 60: '60', 61: '61', 62: '62', 63: '63', 64: '64', 65: '65', 66: '66', 67: '67', 68: '68', 69: '69', 70: '70', 71: '71', 72: '72', 73: '73', 74: '74', 75: '75', 76: '76', 77: '77', 78: '78', 79: '79', 80: '80', 81: '81', 82: '82', 83: '83', 84: '84', 85: '85', 86: '86', 87: '87', 88: '88', 89: '89', 90: '90', 91: '91', 92: '92', 93: '93', 94: '94', 95: '95', 96: '96', 97: '97', 98: '98', 99: '99'}\n"
                    ]
                }
            ],
            "source": [
                "dict_keys = []\n",
                "dict_values = []\n",
                "for keys in range(0,100):\n",
                "    dict_keys.append(keys) \n",
                "    dict_values.append(str(keys)) \n",
                "my_dict = dict(zip(dict_keys, dict_values)) #used chat gpt to find the zip thing\n",
                "print(my_dict)"
            ]
        },
        {
            "cell_type": "markdown",
            "metadata": {},
            "source": [
                "## 3.3 Beyond Simple Iteration \n",
                "\n",
                "In this section, some variations on the standard `for` iteration are introduced:\n",
                "- Iterating in reverse\n",
                "- Using `break` and `continue`\n",
                "- Using nested `for` statements\n",
                "- Using `enumerate` and `zip`\n",
                "- Alternative dictionary iteration forms"
            ]
        },
        {
            "cell_type": "markdown",
            "metadata": {},
            "source": [
                "### 3.3.1 Iterating in reverse\n",
                "\n",
                "To reverse the order of a sequence, recall that we can use the slice operator `[::-1]` to use a negative step from the end to the start.  "
            ]
        },
        {
            "cell_type": "code",
            "execution_count": 3,
            "metadata": {},
            "outputs": [
                {
                    "name": "stdout",
                    "output_type": "stream",
                    "text": [
                        "5\n",
                        "3\n",
                        "E\n",
                        "D\n"
                    ]
                }
            ],
            "source": [
                "my_str = 'DE35'\n",
                "\n",
                "for char in my_str[::-1]:\n",
                "    print(char)"
            ]
        },
        {
            "cell_type": "code",
            "execution_count": 4,
            "metadata": {},
            "outputs": [
                {
                    "name": "stdout",
                    "output_type": "stream",
                    "text": [
                        "4\n",
                        "3\n",
                        "2\n",
                        "1\n"
                    ]
                }
            ],
            "source": [
                "my_list = [1, 2, 3, 4]\n",
                "\n",
                "for num in my_list[::-1]:\n",
                "    print(num)"
            ]
        },
        {
            "cell_type": "markdown",
            "metadata": {},
            "source": [
                "### 3.3.2 Using `break` and `continue`\n",
                "\n",
                "We saw how  `break` and `continue` statements can be used in `while` code blocks. \n",
                "\n",
                "In `for` code blocks, these statements work in the same way. "
            ]
        },
        {
            "cell_type": "code",
            "execution_count": 5,
            "metadata": {},
            "outputs": [
                {
                    "name": "stdout",
                    "output_type": "stream",
                    "text": [
                        "1\n",
                        "2\n",
                        "4\n"
                    ]
                }
            ],
            "source": [
                "for i in [1, 2, 3, 4]:\n",
                "    if i == 3:\n",
                "        continue\n",
                "    print(i)"
            ]
        },
        {
            "cell_type": "code",
            "execution_count": 6,
            "metadata": {},
            "outputs": [
                {
                    "name": "stdout",
                    "output_type": "stream",
                    "text": [
                        "1\n",
                        "2\n"
                    ]
                }
            ],
            "source": [
                "for i in [1, 2, 3, 4]:\n",
                "    if i == 3:\n",
                "        break\n",
                "    print(i)"
            ]
        },
        {
            "attachments": {},
            "cell_type": "markdown",
            "metadata": {},
            "source": [
                "### 3.3.3 Concept Check: Duck, Duck, Goose!\n",
                "\n",
                "The list `duck_duck_goose` contains the either '`duck'`, `'bush'` or `'Goose!'`.\n",
                "\n",
                "Go through the list printing out all the elements. Using `break` and `continue` statements, make sure that:\n",
                "\n",
                "- if `bush` is encountered, nothing is printed and we just skip to the next element\n",
                "- if `Goose!` is encountered, it is printed and you stop going through the list as we have found the goose.\n"
            ]
        },
        {
            "cell_type": "code",
            "execution_count": 8,
            "metadata": {},
            "outputs": [
                {
                    "name": "stdout",
                    "output_type": "stream",
                    "text": [
                        "duck\n",
                        "duck\n",
                        "duck\n",
                        "duck\n",
                        "Goose!\n"
                    ]
                }
            ],
            "source": [
                "duck_duck_goose = [\"duck\", \"duck\", \"duck\", \"bush\", \"duck\", \"bush\", \"Goose!\", \"duck\", \"duck\", \"duck\"]\n",
                "\n",
                "for animal in duck_duck_goose:\n",
                "    if animal == 'bush':\n",
                "        continue\n",
                "    print(animal)\n",
                "\n",
                "    if animal == 'Goose!':\n",
                "        break\n"
            ]
        },
        {
            "cell_type": "markdown",
            "metadata": {},
            "source": [
                "### 3.3.4 Using Nested `for` Statements\n",
                "\n",
                "One `for` statement can be included within the code block for another for statement: this is known as *nested* iteration. \n",
                "\n",
                "All iterations of the inner `for` code block will be completed, for each iteration of the outer `for` code block. \n",
                "\n",
                "\n",
                "\n",
                "- If you have an inner and an outer for loop, for every iteration of the outer loop, the inner loop runs to completion\n",
                "\n",
                "- In every iteration of the outer loop, the inner loop resets and starts from the beginning\n"
            ]
        },
        {
            "cell_type": "code",
            "execution_count": 10,
            "metadata": {},
            "outputs": [
                {
                    "name": "stdout",
                    "output_type": "stream",
                    "text": [
                        "1\n",
                        "1-a\n",
                        "1-b\n",
                        "1-c\n",
                        "--------\n",
                        "2\n",
                        "2-a\n",
                        "2-b\n",
                        "2-c\n",
                        "--------\n",
                        "3\n",
                        "3-a\n",
                        "3-b\n",
                        "3-c\n",
                        "--------\n",
                        "END\n"
                    ]
                }
            ],
            "source": [
                "list_i = [1, 2, 3]\n",
                "list_j = ['a','b','c']\n",
                "\n",
                "for num in list_i:\n",
                "    print(num)\n",
                "    for char in list_j:\n",
                "        print(f'{num}-{char}')\n",
                "    print('--------')\n",
                "print('END')"
            ]
        },
        {
            "attachments": {
                "image.png": {
                    "image/png": "[encoded data removed]"
                }
            },
            "cell_type": "markdown",
            "metadata": {},
            "source": [
                "#### Concept Check: Nested `for` Statements\n",
                "\n",
                "Can you write a code cell that prints out the *N x M* times tables?\n",
                "\n",
                "(*N* is the number of rows, and *M* is the number of columnes)\n",
                "\n",
                "Example given below for 8 rows and 7 columns:\n",
                "\n",
                "![image.png](attachment:image.png)\n",
                "\n",
                "Hint: If stuck on pretty printing, google the print formatting options.\n"
            ]
        },
        {
            "cell_type": "code",
            "execution_count": 11,
            "metadata": {},
            "outputs": [],
            "source": [
                "#TODO"
            ]
        },
        {
            "cell_type": "markdown",
            "metadata": {},
            "source": [
                "### 3.3.5 Using `enumerate`\n",
                "\n",
                "The built-in function `enumerate` provides us with a two-element tuple at each iteration:\n",
                "- The first element of the tuple will be the index of the iteration (starting at zero by default). \n",
                "- The second element contains the item from the iterable object.\n",
                "\n"
            ]
        },
        {
            "cell_type": "code",
            "execution_count": 13,
            "metadata": {},
            "outputs": [
                {
                    "data": {
                        "text/plain": [
                            "<enumerate at 0x20cbb2c4d10>"
                        ]
                    },
                    "execution_count": 13,
                    "metadata": {},
                    "output_type": "execute_result"
                }
            ],
            "source": [
                "my_list = ['a','b','c','d','e','f']\n",
                "\n",
                "enumerate(my_list)"
            ]
        },
        {
            "cell_type": "code",
            "execution_count": 22,
            "metadata": {},
            "outputs": [
                {
                    "name": "stdout",
                    "output_type": "stream",
                    "text": [
                        "(0, 'a')\n",
                        "tup[0] is 0\n",
                        "tup[1] is a\n",
                        "(1, 'b')\n",
                        "tup[0] is 1\n",
                        "tup[1] is b\n",
                        "(2, 'c')\n",
                        "tup[0] is 2\n",
                        "tup[1] is c\n",
                        "(3, 'd')\n",
                        "tup[0] is 3\n",
                        "tup[1] is d\n",
                        "(4, 'e')\n",
                        "tup[0] is 4\n",
                        "tup[1] is e\n",
                        "(5, 'f')\n",
                        "tup[0] is 5\n",
                        "tup[1] is f\n"
                    ]
                }
            ],
            "source": [
                "for tup in enumerate(my_list):\n",
                "    print(tup)\n",
                "    print(f'tup[0] is {tup[0]}')\n",
                "    print(f'tup[1] is {tup[1]}')"
            ]
        },
        {
            "cell_type": "code",
            "execution_count": 16,
            "metadata": {},
            "outputs": [
                {
                    "data": {
                        "text/plain": [
                            "[(0, 'a'), (1, 'b'), (2, 'c'), (3, 'd'), (4, 'e'), (5, 'f')]"
                        ]
                    },
                    "execution_count": 16,
                    "metadata": {},
                    "output_type": "execute_result"
                }
            ],
            "source": [
                "list(enumerate(my_list))"
            ]
        },
        {
            "cell_type": "code",
            "execution_count": null,
            "metadata": {},
            "outputs": [],
            "source": []
        },
        {
            "cell_type": "code",
            "execution_count": null,
            "metadata": {},
            "outputs": [],
            "source": []
        },
        {
            "cell_type": "code",
            "execution_count": null,
            "metadata": {},
            "outputs": [],
            "source": []
        },
        {
            "cell_type": "code",
            "execution_count": null,
            "metadata": {},
            "outputs": [],
            "source": []
        },
        {
            "attachments": {},
            "cell_type": "markdown",
            "metadata": {},
            "source": [
                "### 3.3.6 Concept Check: Using `enumerate`\n",
                "\n",
                "For the list `medals`, using `enumerate` print the following:\n",
                "\n",
                "```\n",
                "Position 1 is awarded a Gold medal\n",
                "Position 2 is awarded a Silver medal\n",
                "Position 3 is awarded a Bronze medal\n",
                "```"
            ]
        },
        {
            "cell_type": "code",
            "execution_count": 39,
            "metadata": {},
            "outputs": [
                {
                    "name": "stdout",
                    "output_type": "stream",
                    "text": [
                        "Position 1 is awarded a Gold medal\n",
                        "Position 2 is awarded a Silver medal\n",
                        "Position 3 is awarded a Bronze medal\n"
                    ]
                }
            ],
            "source": [
                "medals = ['Gold', 'Silver', 'Bronze']\n",
                "for med in enumerate(medals):\n",
                "        print(f'Position {med[0]+1} is awarded a {med[1]} medal')\n"
            ]
        },
        {
            "cell_type": "markdown",
            "metadata": {},
            "source": [
                "---\n",
                "### 3.3.7 The `zip` built-in function\n",
                "\n",
                "The zip function allows us to combine two (or more) iterable objects, so that each iteration returns a tuple of items. \n",
                "- The tuple will contain one item from each iterable object (the same item that we would get if we iterated over that object separately) \n",
                "- If one of the iterable objects has less iterations than the other one(s), then the iteration stops here. The final elements in the other iterable objects won't be processed. \n",
                "- Used in a `for` loop, the `zip` function provides a way of pairing together elements from multiple iterables"
            ]
        },
        {
            "cell_type": "code",
            "execution_count": 40,
            "metadata": {},
            "outputs": [
                {
                    "data": {
                        "text/plain": [
                            "<zip at 0x20cbb6d8900>"
                        ]
                    },
                    "execution_count": 40,
                    "metadata": {},
                    "output_type": "execute_result"
                }
            ],
            "source": [
                "names = ['alice','bob','charlie']\n",
                "colours = ['blue','green','yellow']\n",
                "\n",
                "zip(names, colours)"
            ]
        },
        {
            "cell_type": "code",
            "execution_count": 41,
            "metadata": {},
            "outputs": [
                {
                    "name": "stdout",
                    "output_type": "stream",
                    "text": [
                        "('alice', 'blue')\n",
                        "('bob', 'green')\n",
                        "('charlie', 'yellow')\n"
                    ]
                }
            ],
            "source": [
                "for tup in zip(names, colours):\n",
                "    print(tup)"
            ]
        },
        {
            "cell_type": "code",
            "execution_count": 42,
            "metadata": {},
            "outputs": [
                {
                    "data": {
                        "text/plain": [
                            "<zip at 0x20cbb6d8a80>"
                        ]
                    },
                    "execution_count": 42,
                    "metadata": {},
                    "output_type": "execute_result"
                }
            ],
            "source": [
                "my_zip = zip(names, colours)\n",
                "my_zip"
            ]
        },
        {
            "cell_type": "code",
            "execution_count": null,
            "metadata": {},
            "outputs": [],
            "source": []
        },
        {
            "cell_type": "code",
            "execution_count": null,
            "metadata": {},
            "outputs": [],
            "source": []
        },
        {
            "cell_type": "markdown",
            "metadata": {},
            "source": [
                "**Warning**: A zip object can only be iterated over once. If we would like to iterate again, we have to recreate the zip object. "
            ]
        },
        {
            "cell_type": "code",
            "execution_count": 43,
            "metadata": {},
            "outputs": [
                {
                    "name": "stdout",
                    "output_type": "stream",
                    "text": [
                        "('alice', 'blue')\n",
                        "('bob', 'green')\n",
                        "('charlie', 'yellow')\n"
                    ]
                }
            ],
            "source": [
                "for tup in my_zip:\n",
                "    print(tup)"
            ]
        },
        {
            "cell_type": "code",
            "execution_count": 44,
            "metadata": {},
            "outputs": [],
            "source": [
                "for tup in my_zip: #its exhausted, already been iterated over\n",
                "    print(tup)"
            ]
        },
        {
            "cell_type": "code",
            "execution_count": null,
            "metadata": {},
            "outputs": [],
            "source": []
        },
        {
            "cell_type": "code",
            "execution_count": null,
            "metadata": {},
            "outputs": [],
            "source": []
        },
        {
            "cell_type": "code",
            "execution_count": null,
            "metadata": {},
            "outputs": [],
            "source": []
        },
        {
            "attachments": {},
            "cell_type": "markdown",
            "metadata": {},
            "source": [
                "#### Concept Check: Using `zip`\n",
                "\n",
                "Given the following lists of guests and activities:\n",
                "\n",
                "```\n",
                "guests = ['Alice', 'Bob', 'Charlie', 'David', 'Edgar', 'Freddy']\n",
                "activities = ['Tennis', 'Squash', 'Swimming', 'Badminton', 'Chess', 'Mahjong']\n",
                "```\n",
                "\n",
                "Produce the following list of announcements:\n",
                "\n",
                "```\n",
                "Alice likes to play Tennis\n",
                "Bob likes to play Squash\n",
                "Charlie likes to play Swimming\n",
                "David likes to play Badminton\n",
                "Edgar likes to play Chess\n",
                "Freddy likes to play Mahjong\n",
                "```"
            ]
        },
        {
            "cell_type": "code",
            "execution_count": 47,
            "metadata": {},
            "outputs": [
                {
                    "name": "stdout",
                    "output_type": "stream",
                    "text": [
                        "Alice likes to play Tennis\n",
                        "Bob likes to play Squash\n",
                        "Charlie likes to play Swimming\n",
                        "David likes to play Badminton\n",
                        "Edgar likes to play Chess\n",
                        "Freddy likes to play Mahjong\n"
                    ]
                }
            ],
            "source": [
                "# Write your solution here\n",
                "\n",
                "guests = ['Alice', 'Bob', 'Charlie', 'David', 'Edgar', 'Freddy']\n",
                "activities = ['Tennis', 'Squash', 'Swimming', 'Badminton', 'Chess', 'Mahjong']\n",
                "\n",
                "combi = zip(guests, activities)\n",
                "\n",
                "for tup in combi:\n",
                "    print(f'{tup[0]} likes to play {tup[1]}')"
            ]
        },
        {
            "attachments": {},
            "cell_type": "markdown",
            "metadata": {},
            "source": [
                "#### Concept Check: Using `zip` to Create a Dictionary\n",
                "\n",
                "Given the following lists of guests and activities:\n",
                "\n",
                "```\n",
                "guests = ['Alice', 'Bob', 'Charlie', 'David', 'Edgar', 'Freddy']\n",
                "activities = ['Tennis', 'Squash', 'Swimming', 'Badminton', 'Chess', 'Mahjong']\n",
                "```\n",
                "What's the most elegant way of using zip to create this dictionary?\n",
                "\n",
                "```\n",
                "{'Alice': 'Tennis',\n",
                " 'Bob': 'Squash',\n",
                " 'Charlie': 'Swimming',\n",
                " 'David': 'Badminton',\n",
                " 'Edgar': 'Chess',\n",
                " 'Freddy': 'Mahjong'}\n",
                " ```"
            ]
        },
        {
            "cell_type": "code",
            "execution_count": 50,
            "metadata": {},
            "outputs": [
                {
                    "name": "stdout",
                    "output_type": "stream",
                    "text": [
                        "{'Alice': 'Tennis', 'Bob': 'Squash', 'Charlie': 'Swimming', 'David': 'Badminton', 'Edgar': 'Chess', 'Freddy': 'Mahjong'}\n"
                    ]
                }
            ],
            "source": [
                "guests = ['Alice', 'Bob', 'Charlie', 'David', 'Edgar', 'Freddy']\n",
                "activities = ['Tennis', 'Squash', 'Swimming', 'Badminton', 'Chess', 'Mahjong']\n",
                "my_dict = dict(zip(guests, activities))\n",
                "print(my_dict)\n",
                "# Write your solution here\n"
            ]
        },
        {
            "cell_type": "markdown",
            "metadata": {},
            "source": [
                "## 3.4 Pitfalls *\n",
                "\n",
                "When working with iterations, two potential pitfalls are described below.\n",
                "\n",
                "They both concern the editing of  elements in the iterator variable.\n",
                "\n",
                "\n",
                "### 3.4.1 Re-assigning the value when iterating over `items()` \n",
                "\n",
                "In the code cell above, the variable `value` is assigned to each value in the dictionary.\n",
                "\n",
                "As the example below shows, updating this variable won't change the original values in the dictionary:\n"
            ]
        },
        {
            "cell_type": "code",
            "execution_count": 54,
            "metadata": {},
            "outputs": [
                {
                    "name": "stdout",
                    "output_type": "stream",
                    "text": [
                        "(1, 'one')\n",
                        "1\n",
                        "one\n",
                        "(2, 'two')\n",
                        "2\n",
                        "two\n",
                        "(3, 'three')\n",
                        "3\n",
                        "three\n"
                    ]
                }
            ],
            "source": [
                "my_dict = {1:'one',2:'two',3:'three'}\n",
                "\n",
                "for item in my_dict.items():\n",
                "    print(item)\n",
                "    print(item[0])\n",
                "    print(item[1])\n"
            ]
        },
        {
            "cell_type": "code",
            "execution_count": 56,
            "metadata": {},
            "outputs": [
                {
                    "name": "stdout",
                    "output_type": "stream",
                    "text": [
                        "i is 1, j is CHANGED VALUE\n",
                        "i is 2, j is CHANGED VALUE\n",
                        "i is 3, j is CHANGED VALUE\n"
                    ]
                }
            ],
            "source": [
                "for i, j in my_dict.items():\n",
                "    j = 'CHANGED VALUE'\n",
                "    print(f'i is {i}, j is {j}')"
            ]
        },
        {
            "cell_type": "code",
            "execution_count": 57,
            "metadata": {},
            "outputs": [
                {
                    "name": "stdout",
                    "output_type": "stream",
                    "text": [
                        "{1: 'one', 2: 'two', 3: 'three'}\n"
                    ]
                }
            ],
            "source": [
                "print(my_dict)"
            ]
        },
        {
            "cell_type": "code",
            "execution_count": 58,
            "metadata": {},
            "outputs": [],
            "source": [
                "for key in my_dict:\n",
                "    my_dict[key] = 'Changed Value'"
            ]
        },
        {
            "cell_type": "code",
            "execution_count": 59,
            "metadata": {},
            "outputs": [
                {
                    "data": {
                        "text/plain": [
                            "{1: 'Changed Value', 2: 'Changed Value', 3: 'Changed Value'}"
                        ]
                    },
                    "execution_count": 59,
                    "metadata": {},
                    "output_type": "execute_result"
                }
            ],
            "source": [
                "my_dict"
            ]
        },
        {
            "cell_type": "markdown",
            "metadata": {},
            "source": [
                "### 3.4.2 Removing Items During Iteration\n",
                "\n",
                "Beware removing items within an iteration: a maximum of one removal is allowed.\n",
                "\n",
                "If more than one removal is attempted, then the result may be unexpected (and unhelpful!)\n"
            ]
        },
        {
            "cell_type": "code",
            "execution_count": 61,
            "metadata": {},
            "outputs": [
                {
                    "data": {
                        "text/plain": [
                            "[1, 2, 4]"
                        ]
                    },
                    "execution_count": 61,
                    "metadata": {},
                    "output_type": "execute_result"
                }
            ],
            "source": [
                "my_list = [1, 2, 3, 4]\n",
                "my_list.remove(3)\n",
                "my_list"
            ]
        },
        {
            "cell_type": "code",
            "execution_count": 63,
            "metadata": {},
            "outputs": [
                {
                    "data": {
                        "text/plain": [
                            "[('tofu', 'vegetarian'),\n",
                            " ('lasagne', 'NOT vegetarian'),\n",
                            " ('salad', 'vegetarian')]"
                        ]
                    },
                    "execution_count": 63,
                    "metadata": {},
                    "output_type": "execute_result"
                }
            ],
            "source": [
                "menu = [\n",
                "    ('steak'  , 'NOT vegetarian'),\n",
                "    ('tofu'   , 'vegetarian'),\n",
                "    ('tuna'   , 'NOT vegetarian'),\n",
                "    ('lasagne', 'NOT vegetarian'),\n",
                "    ('salad'  , 'vegetarian')\n",
                "]\n",
                "\n",
                "for item in menu: #  this doesnt work\n",
                "    if item[1] != 'vegetarian':\n",
                "        menu.remove(item)\n",
                "\n",
                "menu"
            ]
        },
        {
            "cell_type": "code",
            "execution_count": null,
            "metadata": {},
            "outputs": [],
            "source": []
        },
        {
            "cell_type": "code",
            "execution_count": 65,
            "metadata": {},
            "outputs": [
                {
                    "name": "stdout",
                    "output_type": "stream",
                    "text": [
                        "[('tofu', 'vegetarian'), ('salad', 'vegetarian')]\n"
                    ]
                }
            ],
            "source": [
                "veg_menu = []\n",
                "for item in menu:#  this is the one that works\n",
                "    if item[1]=='vegetarian':\n",
                "        veg_menu.append(item)\n",
                "\n",
                "print(veg_menu)"
            ]
        },
        {
            "attachments": {},
            "cell_type": "markdown",
            "metadata": {},
            "source": [
                "## 3.5 Shortened For-loops: Comprehensions\n",
                "\n",
                "Recall the shortened or 'ternary' form of the `if` statement:\n",
                "```\n",
                "no_money = True\n",
                "x = 'stay_at_home' if no_money else 'goto_party'\n",
                "```\n",
                "\n",
                "\n"
            ]
        },
        {
            "cell_type": "code",
            "execution_count": null,
            "metadata": {},
            "outputs": [],
            "source": []
        },
        {
            "cell_type": "code",
            "execution_count": null,
            "metadata": {},
            "outputs": [],
            "source": []
        },
        {
            "cell_type": "markdown",
            "metadata": {},
            "source": [
                "A similar trick can be done with `for` statements"
            ]
        },
        {
            "cell_type": "markdown",
            "metadata": {},
            "source": [
                "### 3.5.1 List comprehension\n",
                "List comprehensions give us an easy way to apply a function to all elements in an iterable object. \n",
                "Results are returned as a list, i.e. the comprehension pattern is enclosed by a pair of square brackets `[]`"
            ]
        },
        {
            "cell_type": "code",
            "execution_count": null,
            "metadata": {},
            "outputs": [],
            "source": []
        },
        {
            "cell_type": "code",
            "execution_count": null,
            "metadata": {},
            "outputs": [],
            "source": []
        },
        {
            "cell_type": "code",
            "execution_count": null,
            "metadata": {},
            "outputs": [],
            "source": []
        },
        {
            "cell_type": "code",
            "execution_count": null,
            "metadata": {},
            "outputs": [],
            "source": []
        },
        {
            "cell_type": "code",
            "execution_count": null,
            "metadata": {},
            "outputs": [],
            "source": []
        },
        {
            "cell_type": "code",
            "execution_count": null,
            "metadata": {},
            "outputs": [],
            "source": []
        },
        {
            "cell_type": "code",
            "execution_count": null,
            "metadata": {},
            "outputs": [],
            "source": []
        },
        {
            "cell_type": "code",
            "execution_count": null,
            "metadata": {},
            "outputs": [],
            "source": []
        },
        {
            "cell_type": "code",
            "execution_count": null,
            "metadata": {},
            "outputs": [],
            "source": []
        },
        {
            "cell_type": "code",
            "execution_count": null,
            "metadata": {},
            "outputs": [],
            "source": []
        },
        {
            "cell_type": "code",
            "execution_count": null,
            "metadata": {},
            "outputs": [],
            "source": []
        },
        {
            "cell_type": "markdown",
            "metadata": {},
            "source": [
                "### 3.5.2 Dictionary comprehension\n",
                "Similar to list comprehension, except the output is a dictionary. The pattern is enclosed using `{}` and the individual elements are in key-value pair format."
            ]
        },
        {
            "cell_type": "code",
            "execution_count": null,
            "metadata": {},
            "outputs": [],
            "source": []
        },
        {
            "cell_type": "code",
            "execution_count": null,
            "metadata": {},
            "outputs": [],
            "source": []
        },
        {
            "cell_type": "code",
            "execution_count": null,
            "metadata": {},
            "outputs": [],
            "source": []
        },
        {
            "cell_type": "code",
            "execution_count": null,
            "metadata": {},
            "outputs": [],
            "source": []
        },
        {
            "cell_type": "markdown",
            "metadata": {},
            "source": [
                "### 3.5.3 Concept Check\n",
                "Write a list comprehension that takes in a range of numbers between 200 and 300 and returns a list that only contains multiples of both 5 and 7."
            ]
        },
        {
            "cell_type": "code",
            "execution_count": null,
            "metadata": {},
            "outputs": [],
            "source": []
        },
        {
            "cell_type": "code",
            "execution_count": null,
            "metadata": {},
            "outputs": [],
            "source": []
        },
        {
            "cell_type": "markdown",
            "metadata": {},
            "source": [
                "### 3.5.4 Concept Check\n",
                "Write a dictionary comprehension that has keys from 1 to 100 (as ints) and corresponding values '1' to '100' (as strings)."
            ]
        },
        {
            "cell_type": "code",
            "execution_count": null,
            "metadata": {},
            "outputs": [],
            "source": []
        }
    ],
    "metadata": {
        "kernelspec": {
            "display_name": "Python 3",
            "language": "python",
            "name": "python3"
        },
        "language_info": {
            "codemirror_mode": {
                "name": "ipython",
                "version": 3
            },
            "file_extension": ".py",
            "mimetype": "text/x-python",
            "name": "python",
            "nbconvert_exporter": "python",
            "pygments_lexer": "ipython3",
            "version": "3.11.8"
        },
        "toc": {
            "base_numbering": 1,
            "nav_menu": {},
            "number_sections": true,
            "sideBar": true,
            "skip_h1_title": false,
            "title_cell": "Table of Contents",
            "title_sidebar": "Contents",
            "toc_cell": false,
            "toc_position": {},
            "toc_section_display": true,
            "toc_window_display": false
        },
        "varInspector": {
            "cols": {
                "lenName": 16,
                "lenType": 16,
                "lenVar": 40
            },
            "kernels_config": {
                "python": {
                    "delete_cmd_postfix": "",
                    "delete_cmd_prefix": "del ",
                    "library": "var_list.py",
                    "varRefreshCmd": "print(var_dic_list())"
                },
                "r": {
                    "delete_cmd_postfix": ") ",
                    "delete_cmd_prefix": "rm(",
                    "library": "var_list.r",
                    "varRefreshCmd": "cat(var_dic_list()) "
                }
            },
            "types_to_exclude": [
                "module",
                "function",
                "builtin_function_or_method",
                "instance",
                "_Feature"
            ],
            "window_display": false
        },
        "vscode": {
            "interpreter": {
                "hash": "4f77c56a1733e9d421c3a053160f731a1cdaa61fcda062af7a855a05be992435"
            }
        }
    },
    "nbformat": 4,
    "nbformat_minor": 2
}
