{
    "cells": [
        {
            "attachments": {},
            "cell_type": "markdown",
            "metadata": {},
            "source": [
                "# 3. Advanced Loops"
            ]
        },
        {
            "attachments": {},
            "cell_type": "markdown",
            "metadata": {},
            "source": [
                "## 3.1 Exercise: `while` loops (Address book)\n",
                "\n",
                "Given the `address_book` defined below, write a python program that asks the user for a name, and prints out their phone number from the following address book, until the user enters an empty string, whereupon the program will terminate.\n"
            ]
        },
        {
            "cell_type": "code",
            "execution_count": 7,
            "metadata": {},
            "outputs": [
                {
                    "name": "stdout",
                    "output_type": "stream",
                    "text": [
                        "{'alice': '01234 567 890'}\n",
                        "{'bob': '06789 123 456'}\n"
                    ]
                }
            ],
            "source": [
                "address_book = {'alice':'01234 567 890',\n",
                "              'bob': '06789 123 456',\n",
                "              'charlie': '0987 654 321'}\n",
                "\n",
                "# Write your solution below\n",
                "\n",
                "while True:\n",
                "    user_input = input('Enter a name, or leave empty to terminate:')\n",
                "    if user_input == '':\n",
                "        break\n",
                "    else:\n",
                "        output = {} \n",
                "        for name, number in address_book.items():\n",
                "            if name.find(user_input) == 0:\n",
                "                output[name] = number\n",
                "            else:\n",
                "                pass\n",
                "        print(output)\n",
                "\n",
                "\n",
                "\n"
            ]
        },
        {
            "cell_type": "code",
            "execution_count": null,
            "metadata": {},
            "outputs": [],
            "source": []
        },
        {
            "attachments": {},
            "cell_type": "markdown",
            "metadata": {},
            "source": [
                "## 3.2 Selecting a meal\n",
                "\n",
                "### 3.2.1 Exercise: Using break\n",
                "\n",
                "- Iterate through the list of meal choices, asking the user if this is the selection they would like.\n",
                "- If they answer 'y', then assign `user_choice` to this item, and stop asking them.\n",
                "- If they did not answer 'y' to any of the options, then `user_choice` should be assigned `spam`.\n",
                "\n",
                "### 3.2.2 Extension: Wrap it in a function *\n",
                "\n",
                "Turn this into a function `get_user_choice` which accepts `meal_choices` as a argument and returns `user_choice`."
            ]
        },
        {
            "cell_type": "code",
            "execution_count": 20,
            "metadata": {},
            "outputs": [
                {
                    "data": {
                        "text/plain": [
                            "'Your choice is Spam'"
                        ]
                    },
                    "execution_count": 20,
                    "metadata": {},
                    "output_type": "execute_result"
                }
            ],
            "source": [
                "meal_choices = ['pad thai', 'burrito', 'salad']\n",
                "\n",
                "get_user_choice(meal_choices)\n"
            ]
        },
        {
            "attachments": {},
            "cell_type": "markdown",
            "metadata": {},
            "source": [
                "## 3.3 Exercise: Using the `zip` Function *\n",
                "\n",
                "Given the following lists of guests and activities:\n",
                "\n",
                "```\n",
                "guests = ['Alice', 'Bob', 'Charlie', 'David', 'Edgar', 'Freddy']\n",
                "activities = ['Tennis', 'Squash', 'Swimming', 'Badminton', 'Chess', 'Mahjong']\n",
                "```\n",
                "\n",
                "Produce the following list of announcements:\n",
                "\n",
                "```\n",
                "Alice will play Freddy at Tennis\n",
                "Bob will play Edgar at Squash\n",
                "Charlie will play David at Swimming\n",
                "David will play Charlie at Badminton\n",
                "Edgar will play Bob at Chess\n",
                "Freddy will play Alice at Mahjong\n",
                "```\n",
                "\n",
                "(The second name starts at the last name on the list, and iterates backwards, to the front.)"
            ]
        },
        {
            "cell_type": "code",
            "execution_count": 33,
            "metadata": {},
            "outputs": [
                {
                    "name": "stdout",
                    "output_type": "stream",
                    "text": [
                        "Alice will play Freddy at Tennis\n",
                        "Bob will play Edgar at Squash\n",
                        "Charlie will play David at Swimming\n",
                        "David will play Charlie at Badminton\n",
                        "Edgar will play Bob at Chess\n",
                        "Freddy will play Alice at Mahjong\n"
                    ]
                }
            ],
            "source": [
                "guests = ['Alice', 'Bob', 'Charlie', 'David', 'Edgar', 'Freddy']\n",
                "activities = ['Tennis', 'Squash', 'Swimming', 'Badminton', 'Chess', 'Mahjong']\n",
                "\n",
                "sequence = list(range(len(guests)))\n",
                "\n",
                "for i, j in zip(sequence, activities):\n",
                "    print(f'{guests[i]} will play {guests[-i-1]} at {activities[i]}')\n"
            ]
        },
        {
            "attachments": {},
            "cell_type": "markdown",
            "metadata": {},
            "source": [
                "## 3.4 Exploring the Solar System\n",
                "\n",
                "### 3.4.1 Exercise: Nested Loops *\n",
                "\n",
                "You have been given the task of exploring a solar system. Write a function `explore_solar_system` that takes a dictionary as an input, with each key being a planet in the solar system and each value being a dictionary containing properties of that planet. The properties of each planet should include mass, diameter, and number of moons, but you can include any other properties that you find interesting.\n",
                "\n",
                "The function should iterate through each planet in the solar system and print out the properties of each planet.\n",
                "\n",
                "### 3.4.2 Extension: Wrap in a function *\n",
                "\n",
                "Wrap this exploration code in a function `explore_solar_system` that takes the `solar_system` dictionary as an input.\n",
                "\n",
                "If the input is not a dictionary, the function should return an error message.\n",
                "\n",
                "Here is an example of how the function should behave:\n",
                "\n",
                "`explore_solar_system(solar_system)` returns\n",
                "\n",
                "```\n",
                "Exploring Mercury:\n",
                "mass: 3.3 x 10^23 kg\n",
                "diameter: 4,879 km\n",
                "moons: 0\n",
                "...\n",
                "\n",
                "```\n",
                "`explore_solar_system([\"Mercury\", \"Venus\", \"Earth\", \"Mars\"])` returns\n",
                "\n",
                "`Invalid input. Input must be a dictionary.`\n",
                "\n"
            ]
        },
        {
            "cell_type": "code",
            "execution_count": 67,
            "metadata": {},
            "outputs": [],
            "source": [
                "def explore_solar_system(solar_system):\n",
                "    first_str = ''\n",
                "    second_str = ''\n",
                "    if type(solar_system) != dict:\n",
                "        return 'Invalid input. Input myst be a dictionary'\n",
                "    else:\n",
                "        for name, facts in solar_system.items():\n",
                "            print(f'Exploring {name}:')\n",
                "            for key, value in facts.items():\n",
                "                print(f'{key}: {value}')\n",
                "\n",
                "\n"
            ]
        },
        {
            "cell_type": "code",
            "execution_count": 68,
            "metadata": {},
            "outputs": [
                {
                    "name": "stdout",
                    "output_type": "stream",
                    "text": [
                        "Exploring Mercury:\n",
                        "mass: 3.3 x 10^23 kg\n",
                        "diameter: 4,879 km\n",
                        "moons: 0\n",
                        "Exploring Venus:\n",
                        "mass: 4.87 x 10^24 kg\n",
                        "diameter: 12,104 km\n",
                        "moons: 0\n",
                        "Exploring Earth:\n",
                        "mass: 5.97 x 10^24 kg\n",
                        "diameter: 12,742 km\n",
                        "moons: 1\n",
                        "Exploring Mars:\n",
                        "mass: 6.42 x 10^23 kg\n",
                        "diameter: 6,779 km\n",
                        "moons: 2\n"
                    ]
                }
            ],
            "source": [
                "# Test the function\n",
                "solar_system = {\n",
                "    \"Mercury\": {\"mass\": \"3.3 x 10^23 kg\", \"diameter\": \"4,879 km\", \"moons\": 0},\n",
                "    \"Venus\": {\"mass\": \"4.87 x 10^24 kg\", \"diameter\": \"12,104 km\", \"moons\": 0},\n",
                "    \"Earth\": {\"mass\": \"5.97 x 10^24 kg\", \"diameter\": \"12,742 km\", \"moons\": 1},\n",
                "    \"Mars\": {\"mass\": \"6.42 x 10^23 kg\", \"diameter\": \"6,779 km\", \"moons\": 2},\n",
                "}\n",
                "explore_solar_system(solar_system)\n"
            ]
        },
        {
            "attachments": {},
            "cell_type": "markdown",
            "metadata": {},
            "source": [
                "## 3.5 Displaying time\n",
                "\n",
                "### 3.5.1 Exercise: Nested Loops\n",
                "\n",
                "Given the hours and quarters of a clock, print out every quarter hour of the day from 12 am to Midnight.\n",
                "```\n",
                "12:00 am\n",
                "12:15 am\n",
                "12:30 am\n",
                "...\n",
                "11:15 pm\n",
                "11:30 pm\n",
                "11:45 pm\n",
                "```\n",
                "\n",
                "### 3.5.2 Extension: Every minute of the day function *\n",
                "\n",
                "Use range instead of pre-made lists to generate the hours and quarters (ensure each number has a leading 0 where relevant - google if stuck). Wrap your code in a function called `get_times_of_day()`. This function takes no arguments, and returns a list of all the quarter hours in the day. "
            ]
        },
        {
            "cell_type": "code",
            "execution_count": 70,
            "metadata": {},
            "outputs": [
                {
                    "name": "stdout",
                    "output_type": "stream",
                    "text": [
                        "12:00 am\n",
                        "12:15 am\n",
                        "12:30 am\n",
                        "12:45 am\n",
                        "01:00 am\n",
                        "01:15 am\n",
                        "01:30 am\n",
                        "01:45 am\n",
                        "02:00 am\n",
                        "02:15 am\n",
                        "02:30 am\n",
                        "02:45 am\n",
                        "03:00 am\n",
                        "03:15 am\n",
                        "03:30 am\n",
                        "03:45 am\n",
                        "04:00 am\n",
                        "04:15 am\n",
                        "04:30 am\n",
                        "04:45 am\n",
                        "05:00 am\n",
                        "05:15 am\n",
                        "05:30 am\n",
                        "05:45 am\n",
                        "06:00 am\n",
                        "06:15 am\n",
                        "06:30 am\n",
                        "06:45 am\n",
                        "07:00 am\n",
                        "07:15 am\n",
                        "07:30 am\n",
                        "07:45 am\n",
                        "08:00 am\n",
                        "08:15 am\n",
                        "08:30 am\n",
                        "08:45 am\n",
                        "09:00 am\n",
                        "09:15 am\n",
                        "09:30 am\n",
                        "09:45 am\n",
                        "10:00 am\n",
                        "10:15 am\n",
                        "10:30 am\n",
                        "10:45 am\n",
                        "11:00 am\n",
                        "11:15 am\n",
                        "11:30 am\n",
                        "11:45 am\n",
                        "12:00 pm\n",
                        "12:15 pm\n",
                        "12:30 pm\n",
                        "12:45 pm\n",
                        "01:00 pm\n",
                        "01:15 pm\n",
                        "01:30 pm\n",
                        "01:45 pm\n",
                        "02:00 pm\n",
                        "02:15 pm\n",
                        "02:30 pm\n",
                        "02:45 pm\n",
                        "03:00 pm\n",
                        "03:15 pm\n",
                        "03:30 pm\n",
                        "03:45 pm\n",
                        "04:00 pm\n",
                        "04:15 pm\n",
                        "04:30 pm\n",
                        "04:45 pm\n",
                        "05:00 pm\n",
                        "05:15 pm\n",
                        "05:30 pm\n",
                        "05:45 pm\n",
                        "06:00 pm\n",
                        "06:15 pm\n",
                        "06:30 pm\n",
                        "06:45 pm\n",
                        "07:00 pm\n",
                        "07:15 pm\n",
                        "07:30 pm\n",
                        "07:45 pm\n",
                        "08:00 pm\n",
                        "08:15 pm\n",
                        "08:30 pm\n",
                        "08:45 pm\n",
                        "09:00 pm\n",
                        "09:15 pm\n",
                        "09:30 pm\n",
                        "09:45 pm\n",
                        "10:00 pm\n",
                        "10:15 pm\n",
                        "10:30 pm\n",
                        "10:45 pm\n",
                        "11:00 pm\n",
                        "11:15 pm\n",
                        "11:30 pm\n",
                        "11:45 pm\n"
                    ]
                }
            ],
            "source": [
                "hours = ['12','01','02','03','04','05','06','07','08','09','10','11']\n",
                "quarters = ['00', '15', '30', '45']\n",
                "\n",
                "for hour in hours:\n",
                "    for minute in quarters:\n",
                "        print(f'{hour}:{minute} am')\n",
                "for hour in hours:\n",
                "    for minute in quarters:\n",
                "        print(f'{hour}:{minute} pm')\n"
            ]
        },
        {
            "cell_type": "code",
            "execution_count": 91,
            "metadata": {},
            "outputs": [],
            "source": [
                "def get_times_of_day():\n",
                "    hours = list(range(12))\n",
                "    quarters = list(range(0,60,15))\n",
                "    print(hours)\n",
                "    print(quarters)\n",
                "    for hour in hours:\n",
                "        for minute in quarters:\n",
                "            print(f'{hour}:{minute} am')\n",
                "    for hour in hours:\n",
                "        for minute in quarters:\n",
                "            print(f'{hour}:{minute} pm')\n",
                "\n",
                "\n",
                "\n",
                "\n",
                "\n",
                "# hours = ['12','01','02','03','04','05','06','07','08','09','10','11']\n",
                "# quarters = ['00', '15', '30', '45']\n",
                "\n",
                "# for hour in hours:\n",
                "#     for minute in quarters:\n",
                "#         print(f'{hour}:{minute} am')\n",
                "# for hour in hours:\n",
                "#     for minute in quarters:\n",
                "#         print(f'{hour}:{minute} pm')\n",
                "    "
            ]
        },
        {
            "cell_type": "code",
            "execution_count": 92,
            "metadata": {},
            "outputs": [
                {
                    "name": "stdout",
                    "output_type": "stream",
                    "text": [
                        "[0, 1, 2, 3, 4, 5, 6, 7, 8, 9, 10, 11]\n",
                        "[0, 15, 30, 45]\n",
                        "0:0 am\n",
                        "0:15 am\n",
                        "0:30 am\n",
                        "0:45 am\n",
                        "1:0 am\n",
                        "1:15 am\n",
                        "1:30 am\n",
                        "1:45 am\n",
                        "2:0 am\n",
                        "2:15 am\n",
                        "2:30 am\n",
                        "2:45 am\n",
                        "3:0 am\n",
                        "3:15 am\n",
                        "3:30 am\n",
                        "3:45 am\n",
                        "4:0 am\n",
                        "4:15 am\n",
                        "4:30 am\n",
                        "4:45 am\n",
                        "5:0 am\n",
                        "5:15 am\n",
                        "5:30 am\n",
                        "5:45 am\n",
                        "6:0 am\n",
                        "6:15 am\n",
                        "6:30 am\n",
                        "6:45 am\n",
                        "7:0 am\n",
                        "7:15 am\n",
                        "7:30 am\n",
                        "7:45 am\n",
                        "8:0 am\n",
                        "8:15 am\n",
                        "8:30 am\n",
                        "8:45 am\n",
                        "9:0 am\n",
                        "9:15 am\n",
                        "9:30 am\n",
                        "9:45 am\n",
                        "10:0 am\n",
                        "10:15 am\n",
                        "10:30 am\n",
                        "10:45 am\n",
                        "11:0 am\n",
                        "11:15 am\n",
                        "11:30 am\n",
                        "11:45 am\n",
                        "0:0 pm\n",
                        "0:15 pm\n",
                        "0:30 pm\n",
                        "0:45 pm\n",
                        "1:0 pm\n",
                        "1:15 pm\n",
                        "1:30 pm\n",
                        "1:45 pm\n",
                        "2:0 pm\n",
                        "2:15 pm\n",
                        "2:30 pm\n",
                        "2:45 pm\n",
                        "3:0 pm\n",
                        "3:15 pm\n",
                        "3:30 pm\n",
                        "3:45 pm\n",
                        "4:0 pm\n",
                        "4:15 pm\n",
                        "4:30 pm\n",
                        "4:45 pm\n",
                        "5:0 pm\n",
                        "5:15 pm\n",
                        "5:30 pm\n",
                        "5:45 pm\n",
                        "6:0 pm\n",
                        "6:15 pm\n",
                        "6:30 pm\n",
                        "6:45 pm\n",
                        "7:0 pm\n",
                        "7:15 pm\n",
                        "7:30 pm\n",
                        "7:45 pm\n",
                        "8:0 pm\n",
                        "8:15 pm\n",
                        "8:30 pm\n",
                        "8:45 pm\n",
                        "9:0 pm\n",
                        "9:15 pm\n",
                        "9:30 pm\n",
                        "9:45 pm\n",
                        "10:0 pm\n",
                        "10:15 pm\n",
                        "10:30 pm\n",
                        "10:45 pm\n",
                        "11:0 pm\n",
                        "11:15 pm\n",
                        "11:30 pm\n",
                        "11:45 pm\n"
                    ]
                }
            ],
            "source": [
                "get_times_of_day()"
            ]
        },
        {
            "attachments": {},
            "cell_type": "markdown",
            "metadata": {},
            "source": [
                "## 3.6 Exercise: Finding the first repeating character **\n",
                "\n",
                "In this exercise, you will write a Python function that takes a string as input and returns the first repeating character in the string, along with its index. If there are no repeating characters, the function should return None.\n",
                "\n",
                "You will need to use a combination of the enumerate() function and a data structure (such as a dictionary) to keep track of the characters that have been encountered and their corresponding indexes.\n",
                "\n",
                "Here's an example of how the function should work:\n",
                "```\n",
                ">>> find_first_repeating(\"hello world\")\n",
                "('l', 3)\n",
                "\n",
                ">>> find_first_repeating(\"abcdef\")\n",
                "None\n",
                "```"
            ]
        },
        {
            "cell_type": "code",
            "execution_count": 13,
            "metadata": {},
            "outputs": [],
            "source": [
                "def find_first_repeating(string):\n",
                "    repeat = [] \n",
                "    for count, i, in enumerate(string):\n",
                "       if i not in repeat:\n",
                "            repeat.append(i)\n",
                "       elif i in repeat:\n",
                "            return(f'{i}, {count}')  \n",
                "    if len(repeat) == len(string):\n",
                "        return 'None'\n",
                "                \n",
                "\n",
                "\n"
            ]
        },
        {
            "cell_type": "code",
            "execution_count": 15,
            "metadata": {},
            "outputs": [
                {
                    "data": {
                        "text/plain": [
                            "'None'"
                        ]
                    },
                    "execution_count": 15,
                    "metadata": {},
                    "output_type": "execute_result"
                }
            ],
            "source": [
                "#find_first_repeating(\"hello world\")\n",
                "\n",
                "find_first_repeating(\"abcdef\")"
            ]
        },
        {
            "attachments": {},
            "cell_type": "markdown",
            "metadata": {},
            "source": [
                "## 3.7 File Paths and Core Python Units\n",
                "\n",
                "### 3.7.1 Exercise: List comprehensions and string manipulation *\n",
                "\n",
                "The variable `ipynb_paths` contain the paths of all the notebooks in Core Python.\n",
                "\n",
                "Use a list comprehension to replace `<username>` with your computer username.\n",
                "\n",
                "### 3.7.2 Extension: Get all unique modules ** \n",
                "\n",
                "From the list of paths, get the unique units resulting in a list of in the following format:\n",
                "\n",
                "```python\n",
                "['1-Intro.0-GettingStarted',\n",
                " '1-Intro.1-Variables',\n",
                " '1-Intro.2-Strings',\n",
                " ...\n",
                "  '4-Functions.2-Arguments',\n",
                " '4-Functions.3-Scope',\n",
                " '5-ObjectOrientedProgramming.1-Classes-Intro']\n",
                "```\n",
                "\n",
                "As a stretch, use a list comprehension where possible.\n",
                "\n",
                "\n",
                "\n"
            ]
        },
        {
            "cell_type": "code",
            "execution_count": 44,
            "metadata": {},
            "outputs": [],
            "source": [
                "username = \"\"\n",
                "ipynb_paths =  ['C:\\\\Users\\\\<username>\\\\Python\\\\1-Core\\\\1-Intro\\\\0-GettingStarted\\\\3_intro_to_python.ipynb','C:\\\\Users\\\\<username>\\\\Python\\\\1-Core\\\\1-Intro\\\\0-GettingStarted\\\\4_first_steps_with_jupyter_nb.ipynb','C:\\\\Users\\\\<username>\\\\Python\\\\1-Core\\\\1-Intro\\\\1-Variables\\\\exercises.ipynb','C:\\\\Users\\\\<username>\\\\Python\\\\1-Core\\\\1-Intro\\\\1-Variables\\\\variables.ipynb','C:\\\\Users\\\\<username>\\\\Python\\\\1-Core\\\\1-Intro\\\\2-Strings\\\\exercises.ipynb','C:\\\\Users\\\\<username>\\\\Python\\\\1-Core\\\\1-Intro\\\\2-Strings\\\\strings.ipynb','C:\\\\Users\\\\<username>\\\\Python\\\\1-Core\\\\1-Intro\\\\3-Containers\\\\containers.ipynb','C:\\\\Users\\\\<username>\\\\Python\\\\1-Core\\\\1-Intro\\\\3-Containers\\\\exercises.ipynb','C:\\\\Users\\\\<username>\\\\Python\\\\1-Core\\\\1-Intro\\\\4-Conditions\\\\conditions.ipynb','C:\\\\Users\\\\<username>\\\\Python\\\\1-Core\\\\1-Intro\\\\4-Conditions\\\\exercises.ipynb','C:\\\\Users\\\\<username>\\\\Python\\\\1-Core\\\\1-Intro\\\\5-Loops\\\\exercises.ipynb','C:\\\\Users\\\\<username>\\\\Python\\\\1-Core\\\\1-Intro\\\\5-Loops\\\\loops.ipynb','C:\\\\Users\\\\<username>\\\\Python\\\\1-Core\\\\1-Intro\\\\6-FunctionsAndMethods\\\\functions_and_methods.ipynb','C:\\\\Users\\\\<username>\\\\Python\\\\1-Core\\\\1-Intro\\\\7-Files\\\\files.ipynb','C:\\\\Users\\\\<username>\\\\Python\\\\1-Core\\\\1-Intro\\\\8-Modules\\\\modules.ipynb','C:\\\\Users\\\\<username>\\\\Python\\\\1-Core\\\\1-Intro\\\\9-StatementsConventionsScope\\\\statements_conventions_scope.ipynb','C:\\\\Users\\\\<username>\\\\Python\\\\1-Core\\\\2-Types\\\\1-IdentityTypeValue\\\\exercises.ipynb','C:\\\\Users\\\\<username>\\\\Python\\\\1-Core\\\\2-Types\\\\1-IdentityTypeValue\\\\identity_type_value.ipynb','C:\\\\Users\\\\<username>\\\\Python\\\\1-Core\\\\2-Types\\\\2-Mutability\\\\mutability.ipynb','C:\\\\Users\\\\<username>\\\\Python\\\\1-Core\\\\2-Types\\\\2-Mutability\\\\mutability_quiz.ipynb','C:\\\\Users\\\\<username>\\\\Python\\\\1-Core\\\\2-Types\\\\3-DataTypes\\\\datatypes.ipynb','C:\\\\Users\\\\<username>\\\\Python\\\\1-Core\\\\2-Types\\\\4-ListsAndTuples\\\\lists_and_tuples.ipynb','C:\\\\Users\\\\<username>\\\\Python\\\\1-Core\\\\2-Types\\\\5-DictsAndSets\\\\dictionaries_and_sets.ipynb','C:\\\\Users\\\\<username>\\\\Python\\\\1-Core\\\\2-Types\\\\5-DictsAndSets\\\\exercises.ipynb','C:\\\\Users\\\\<username>\\\\Python\\\\1-Core\\\\2-Types\\\\6-Sequences\\\\sequences.ipynb','C:\\\\Users\\\\<username>\\\\Python\\\\1-Core\\\\2-Types\\\\7-DataTypeConversions\\\\datatype_conversions.ipynb','C:\\\\Users\\\\<username>\\\\Python\\\\1-Core\\\\2-Types\\\\8-DataManipulationPractice\\\\data_manipulation_practice.ipynb','C:\\\\Users\\\\<username>\\\\Python\\\\1-Core\\\\3-Structure\\\\1-Logic\\\\exercises.ipynb','C:\\\\Users\\\\<username>\\\\Python\\\\1-Core\\\\3-Structure\\\\1-Logic\\\\logic.ipynb','C:\\\\Users\\\\<username>\\\\Python\\\\1-Core\\\\3-Structure\\\\2-Conditions\\\\conditions.ipynb','C:\\\\Users\\\\<username>\\\\Python\\\\1-Core\\\\3-Structure\\\\2-Conditions\\\\exercises.ipynb','C:\\\\Users\\\\<username>\\\\Python\\\\1-Core\\\\3-Structure\\\\3-Loops\\\\exercises.ipynb','C:\\\\Users\\\\<username>\\\\Python\\\\1-Core\\\\3-Structure\\\\3-Loops\\\\loops.ipynb','C:\\\\Users\\\\<username>\\\\Python\\\\1-Core\\\\3-Structure\\\\4-Exceptions\\\\exceptions.ipynb','C:\\\\Users\\\\<username>\\\\Python\\\\1-Core\\\\4-Functions\\\\1-FunctionsIntro\\\\exercises.ipynb','C:\\\\Users\\\\<username>\\\\Python\\\\1-Core\\\\4-Functions\\\\1-FunctionsIntro\\\\functions_intro.ipynb','C:\\\\Users\\\\<username>\\\\Python\\\\1-Core\\\\4-Functions\\\\2-Arguments\\\\arguments.ipynb','C:\\\\Users\\\\<username>\\\\Python\\\\1-Core\\\\4-Functions\\\\2-Arguments\\\\exercises.ipynb','C:\\\\Users\\\\<username>\\\\Python\\\\1-Core\\\\4-Functions\\\\3-Scope\\\\scope.ipynb','C:\\\\Users\\\\<username>\\\\Python\\\\1-Core\\\\5-ObjectOrientedProgramming\\\\1-Classes-Intro\\\\classes_intro.ipynb']\n"
            ]
        },
        {
            "cell_type": "code",
            "execution_count": 82,
            "metadata": {},
            "outputs": [],
            "source": []
        }
    ],
    "metadata": {
        "kernelspec": {
            "display_name": "base",
            "language": "python",
            "name": "python3"
        },
        "language_info": {
            "codemirror_mode": {
                "name": "ipython",
                "version": 3
            },
            "file_extension": ".py",
            "mimetype": "text/x-python",
            "name": "python",
            "nbconvert_exporter": "python",
            "pygments_lexer": "ipython3",
            "version": "3.11.8"
        },
        "orig_nbformat": 4,
        "vscode": {
            "interpreter": {
                "hash": "54b57a9d7255aa9bd89013014712be1af3e9c0518087b34529522b12b0bc87de"
            }
        }
    },
    "nbformat": 4,
    "nbformat_minor": 2
}
