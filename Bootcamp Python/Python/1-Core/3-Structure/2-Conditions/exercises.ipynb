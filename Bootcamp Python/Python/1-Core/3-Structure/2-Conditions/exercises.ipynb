{
    "cells": [
        {
            "attachments": {},
            "cell_type": "markdown",
            "metadata": {},
            "source": [
                "# 2. Advanced Conditions"
            ]
        },
        {
            "attachments": {},
            "cell_type": "markdown",
            "metadata": {},
            "source": [
                "## 2.1 Package Price Continued...\n",
                "\n",
                "### 2.1.1 Exercise: Nested If\n",
                "\n",
                "Create a simple program that prices the posting of a package. Here are the rules:\n",
                "\n",
                "- Can fit inside a letter box and less than `0.1` kg: `£0.50`\n",
                "- Can fit inside a letter box and greater than or equal to `0.1 kg` and less than or equal to `1 kg`: `£1.50`\n",
                "- Can not fit inside a letter box and less than `1 kg`: `£2.50`\n",
                "- All packages greater than or equal to `1 kg`: `£5`\n",
                "\n",
                "Print out the answer in a string with the following format:\n",
                "\n",
                "`'For a package of 1 kg, that can fit in a letter box, the postage price will be £1.50'`\n",
                "\n",
                "### 2.1.2 Extension: Wrap this in a function *\n",
                "\n",
                "Create a function `package_price` which accepts two arguments, `weight` and `can_fit_in_letterbox`. It returns `price` formatted as currency e.g. `'£1.50'`.\n",
                "\n",
                "Some example function calls:\n",
                "\n",
                "`package_price(0.05, \"can\")` returns `'£0.50'`\\\n",
                "`package_price(0.15, \"can\")` returns `'£1.50'`\\\n",
                "`package_price(2.5, \"cannot\")` returns `'£5.00'`\\\n",
                "`package_price(0.5, \"can\")` returns `'£2.50'`\n",
                "\n"
            ]
        },
        {
            "cell_type": "code",
            "execution_count": 20,
            "metadata": {},
            "outputs": [
                {
                    "name": "stdout",
                    "output_type": "stream",
                    "text": [
                        "£1.50\n"
                    ]
                }
            ],
            "source": [
                "def package_price(weight, can_fit_in_letterbox):\n",
                "    if weight >= 1:\n",
                "        weight_cost = 5\n",
                "    else:\n",
                "        if can_fit_in_letterbox == 'can':\n",
                "            if weight < 0.1:\n",
                "                weight_cost = 0.5\n",
                "            elif weight < 1:\n",
                "                weight_cost = 1.50\n",
                "        else:\n",
                "            if weight < 1:\n",
                "                weight_cost = 2.5\n",
                "    print(f'£{weight_cost:0.2f}')\n",
                "\n",
                "\n",
                "weight = 0.5\n",
                "can_fit_in_letterbox = \"can\" # / \"cannot\"\n",
                "price = package_price(weight, can_fit_in_letterbox)"
            ]
        },
        {
            "cell_type": "code",
            "execution_count": 11,
            "metadata": {},
            "outputs": [],
            "source": []
        },
        {
            "attachments": {},
            "cell_type": "markdown",
            "metadata": {},
            "source": [
                "## 2.2 Exercise: Calculate tax paid by a tax payer in the UK *\n",
                "\n",
                "Write a program that prints out the total income tax paid for a UK tax payer. \n",
                "\n",
                "The income taxation rules on annual income are as follows:\n",
                "- If they earn less than `£12.5k` (the personal allowance), then the tax is `0%`.\n",
                "- The first tax bracket is rate of `20%` percent which applies to all earnings over `£12.5k` and below `£50k`.\n",
                "- The second tax bracket of `40%` applies to all earnings above `£50k`.\n",
                "\n",
                "Example results, someone earning\n",
                "\n",
                "- `£12.5k` pays `£0` tax\n",
                "- `£15k` pays `£0.5k` tax\n",
                "- `£30k` pays `£3.5k` tax\n",
                "- `£55` pays `£9.5k` tax\n",
                "\n",
                "> **Note**: Importantly, this tax system isn't designed to penalise earning more money than you are currently earning. E.g. \n",
                "> - someone earning `£12.5k` pays `£0` in tax\n",
                "> - someone earning `£15k` only pays `20%` on the *extra* `£2,500`: `£500` tax\n",
                "> \n",
                "> **Not** `20%` on the entire `£15k`: `£3,000` (This would mean you would take home *more* money after tax while earning `£12.5k` than `£15k!`)\n"
            ]
        },
        {
            "cell_type": "code",
            "execution_count": 15,
            "metadata": {},
            "outputs": [],
            "source": []
        },
        {
            "attachments": {},
            "cell_type": "markdown",
            "metadata": {},
            "source": [
                "## 2.3 Exercise: Can you fly rockets for NASA? *\n",
                "\n",
                "We learnt in a previous concept check that in the U.S. a person can legally obtained a pilot's license at the age of 18.\n",
                "\n",
                "Let's say that in order to fly test rockets for NASA, a person need to have a pilots license, and be born in America. Write a program using nested if statements that tells a user whether they can fly test rockets and if not, if they can do anything to become eligible (i.e. grow up or earn their pilots license) provided they enter the following variables:\n",
                "\n",
                "- `age` (`int`)\n",
                "- `has_pilots_license` (`bool`)\n",
                "- `born_in_us` (`bool`)"
            ]
        },
        {
            "cell_type": "code",
            "execution_count": null,
            "metadata": {},
            "outputs": [],
            "source": []
        },
        {
            "attachments": {},
            "cell_type": "markdown",
            "metadata": {},
            "source": [
                "## 2.4 Guest Lists and Reserve Lists\n",
                "\n",
                "### 2.4.1 Exercise: Short Form of the `if` Statement *\n",
                "\n",
                "Re-write the code cell below, using the short form of the `if` statement.\n",
                "\n",
                "You can assume that `reserve_list` will never be empty.\n",
                "\n",
                "### 2.4.2 Extension: Nested Short Form If **\n",
                "\n",
                "Extension of exercise above: modify the logic so that `next_guest=None` if both lists are empty. You'll find it's more difficult to put this extended logic into the short form of the `if` statement!"
            ]
        },
        {
            "cell_type": "code",
            "execution_count": null,
            "metadata": {},
            "outputs": [],
            "source": [
                "vip_list = ['Alice']\n",
                "reserve_list = ['Bob', 'Charlie']\n",
                "\n",
                "if len(vip_list) > 0:\n",
                "    next_guest = vip_list[0]\n",
                "else:\n",
                "    next_guest = reserve_list[0]\n",
                "    \n",
                "print(next_guest)\n"
            ]
        },
        {
            "cell_type": "code",
            "execution_count": null,
            "metadata": {},
            "outputs": [],
            "source": [
                "vip_list = ['Alice']\n",
                "reserve_list = ['Bob', 'Charlie']\n",
                "# Re-write the above code, using the short form of the 'if' statement\n"
            ]
        },
        {
            "cell_type": "code",
            "execution_count": null,
            "metadata": {},
            "outputs": [],
            "source": []
        },
        {
            "attachments": {},
            "cell_type": "markdown",
            "metadata": {},
            "source": [
                "## 2.5 Exercise: Scaling Fizz Buzz **\n",
                "\n",
                "Below we have a straightforward implementation of the the `fizzbuzz` game we encountered earlier.\n",
                "\n",
                "A reminder of the rules:\n",
                "\n",
                "> - if it is divisible by `3`, print `fizz`\n",
                "> - if it is divisible by `5`, print `buzz`\n",
                "> - if it is divisible by both `3` and `5`, \n",
                "print `fizzbuzz`\n",
                "\n",
                "Extend this solution to account for the extra requirement:\n",
                "\n",
                "- if it is divisible by `7`, print `jazz`\n",
                "- every combination of `fizz`, `buzz` and `jazz` should now be taken into account i.e. `fizzjazz`, `buzzjazz` and `fizzbuzzjazz` is now possible\n",
                "\n",
                "After you have finished:\n",
                "\n",
                "While there is nothing wrong with the initial approach, we find that it is not easily extendable as we add requirements. If we were to now add another requirement `fuzz` where `num` is divisible by 11, then the number of combinations would double again. Is it possible to design a more elegant solution?"
            ]
        },
        {
            "cell_type": "code",
            "execution_count": 9,
            "metadata": {},
            "outputs": [],
            "source": [
                "num = int(input('Enter a number: '))\n",
                "if (num%3 == 0) and (num%5 == 0):\n",
                "    print('fizzbuzz')\n",
                "elif num%2 == 0:\n",
                "    print('fizz')\n",
                "elif num%5 == 0:\n",
                "    print('buzz')\n",
                "else:\n",
                "    print(num)\n"
            ]
        },
        {
            "cell_type": "code",
            "execution_count": null,
            "metadata": {},
            "outputs": [],
            "source": []
        }
    ],
    "metadata": {
        "kernelspec": {
            "display_name": "Python 3",
            "language": "python",
            "name": "python3"
        },
        "language_info": {
            "codemirror_mode": {
                "name": "ipython",
                "version": 3
            },
            "file_extension": ".py",
            "mimetype": "text/x-python",
            "name": "python",
            "nbconvert_exporter": "python",
            "pygments_lexer": "ipython3",
            "version": "3.11.8"
        },
        "orig_nbformat": 4,
        "vscode": {
            "interpreter": {
                "hash": "369f2c481f4da34e4445cda3fffd2e751bd1c4d706f27375911949ba6bb62e1c"
            }
        }
    },
    "nbformat": 4,
    "nbformat_minor": 2
}
