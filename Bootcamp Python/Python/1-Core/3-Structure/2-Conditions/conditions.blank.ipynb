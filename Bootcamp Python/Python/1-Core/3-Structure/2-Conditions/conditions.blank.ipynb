{
    "cells": [
        {
            "cell_type": "markdown",
            "metadata": {},
            "source": [
                "# 2. Conditional execution: `if-elif-else`  statements\n",
                "\n"
            ]
        },
        {
            "attachments": {},
            "cell_type": "markdown",
            "metadata": {},
            "source": [
                "## 2.1 The `if` statement\n",
                "\n",
                "`if`, `elif` and `else` statements are used for conditional execution\n",
                "\n",
                "`if` block\n",
                "\n",
                "```\n",
                "if <condition>:\n",
                "    # block to execute once if <condition> is True\n",
                "    <statement>\n",
                "    <statement>\n",
                "    ...\n",
                "```\n",
                "\n",
                "`if-else` block\n",
                "\n",
                "```\n",
                "if <condition>:\n",
                "    # block to execute once if <condition> is True\n",
                "    <statement>\n",
                "    <statement>\n",
                "    ...\n",
                "else:\n",
                "    # block to execute once if <condition> is False\n",
                "    <statement>\n",
                "    <statement>\n",
                "    ...\n",
                "```\n",
                "\n",
                "`if-elif-else` block\n",
                "\n",
                "```\n",
                "if <condition_1>:\n",
                "    # block to execute once if <condition_1> is True\n",
                "    <statement>\n",
                "    <statement>\n",
                "    ...\n",
                "elif <condition_2>:\n",
                "    # block to execute once if <condition_2> is True\n",
                "    <statement>\n",
                "    <statement>\n",
                "    ...\n",
                "...\n",
                "elif <condition_k>:\n",
                "    # block to execute once if <condition_k> is True\n",
                "    <statement>\n",
                "    <statement>\n",
                "    ...\n",
                "else:\n",
                "    # block to execute once if none of the above conditions are True\n",
                "    <statement>\n",
                "    <statement> \n",
                "    ...\n",
                "```\n",
                "\n",
                "We have already seen a couple of examples with `if-elif-else` in `1-Intro/4-Conditions`. Let us look at an example with multiple `elif` statements"
            ]
        },
        {
            "cell_type": "code",
            "execution_count": 6,
            "metadata": {},
            "outputs": [
                {
                    "name": "stdout",
                    "output_type": "stream",
                    "text": [
                        "You've won loads of money\n"
                    ]
                }
            ],
            "source": [
                "score = 3\n",
                "\n",
                "if score > 90:\n",
                "    print('Grade A')\n",
                "elif score > 80:\n",
                "    print('Grade B')\n",
                "elif 1 == 1:\n",
                "    print(\"You've won loads of money\")\n",
                "else:\n",
                "    print('Failed buddy')"
            ]
        },
        {
            "cell_type": "markdown",
            "metadata": {},
            "source": [
                "Notes: \n",
                "- A block are executed when the relevant boolean expression is True. \n",
                "- `elif` and `else` blocks are optional\n",
                "- We can have an arbitrary number of `elif` statements. Order matters in `elif`\n",
                "- Only one block of statements is executed. Boolean expressions are evaluated from top to bottom"
            ]
        },
        {
            "attachments": {},
            "cell_type": "markdown",
            "metadata": {},
            "source": [
                "### 2.1.1 Concept Check: Can drink and fly?\n",
                "\n",
                "In the U.S. a person can legally obtained a pilot's license at the age of 18, but has to wait until 21 to legally purchase alcohol.\n",
                "\n",
                "Write a simple program that accepts an age, and print's out whether that person can fly only, can drink and fly or neither."
            ]
        },
        {
            "cell_type": "code",
            "execution_count": 19,
            "metadata": {},
            "outputs": [
                {
                    "name": "stdout",
                    "output_type": "stream",
                    "text": [
                        "You can fly but you can't drink\n"
                    ]
                }
            ],
            "source": [
                "Age = int(input(f'Input your age:'))\n",
                "if Age < 18:\n",
                "    print(\"You can't do either\")\n",
                "elif Age <21:\n",
                "    print(\"You can fly but you can't drink\")\n",
                "else:\n",
                "    print(\"You can fly and drink\")"
            ]
        },
        {
            "cell_type": "markdown",
            "metadata": {},
            "source": [
                "### 2.1.2 Nested `if` statements\n",
                "\n",
                "'Nesting' means putting one inside the other. We can nest `if` statements using an additional level of indentation for the inner statement.\n",
                "\n",
                "\n",
                "### 2.1.3 Example: Nested if statements\n",
                "\n",
                "Write a code cell that asks a user for their estimate of volume and then prints out whether this is too low, too high or spot-on. \n",
                "\n",
                "In addition, if the user is more than 20% inaccurate, it should print 'WAY too low (or high)', as appropriate.\n"
            ]
        },
        {
            "cell_type": "code",
            "execution_count": 24,
            "metadata": {},
            "outputs": [
                {
                    "name": "stdout",
                    "output_type": "stream",
                    "text": [
                        "estimate volume: 1000\n",
                        "You've only gone and guessed it\n",
                        "actual volume: 1000\n"
                    ]
                }
            ],
            "source": [
                "width = 10\n",
                "height = 10\n",
                "depth = 10\n",
                "volume = width * height * depth\n",
                "\n",
                "estimated_volume = 1000\n",
                "print(f\"estimate volume: {estimated_volume}\")\n",
                "\n",
                "if estimated_volume > volume:\n",
                "    print(\"Estimate is too big\")\n",
                "elif estimated_volume == volume:\n",
                "    print(\"You've only gone and guessed it\")\n",
                "else:\n",
                "    print(\"Estimate is too low\")\n",
                "\n",
                "print(f\"actual volume: {volume}\")\n"
            ]
        },
        {
            "cell_type": "code",
            "execution_count": 29,
            "metadata": {},
            "outputs": [
                {
                    "name": "stdout",
                    "output_type": "stream",
                    "text": [
                        "estimate volume: 799\n",
                        "Estimate is way too low idiot\n",
                        "actual volume: 1000\n"
                    ]
                }
            ],
            "source": [
                "width = 10\n",
                "height = 10\n",
                "depth = 10\n",
                "volume = width * height * depth\n",
                "\n",
                "estimated_volume = int(input(f'leng the est in: '))\n",
                "print(f\"estimate volume: {estimated_volume}\")\n",
                "\n",
                "if estimated_volume > volume:   \n",
                "    if estimated_volume/volume >= 1.2:\n",
                "        print(\"estimate is way too high\")\n",
                "    else:\n",
                "        print(\"Estimate is too big\")\n",
                "elif estimated_volume == volume:\n",
                "    print(\"You've only gone and guessed it\")\n",
                "else:\n",
                "\n",
                "    if estimated_volume/volume <= 0.8:\n",
                "        print('Estimate is way too low idiot')\n",
                "    else:\n",
                "        print(\"Estimate is too low\")\n",
                "\n",
                "print(f\"actual volume: {volume}\")\n"
            ]
        },
        {
            "attachments": {},
            "cell_type": "markdown",
            "metadata": {},
            "source": [
                "### 2.1.4 Concept Check: Nested If Statements\n",
                "\n",
                "Continuing on from the concept check above, assuming someone is over 21, write a program that tells them whether its okay to fly a plane based on if they are drunk and if they have a pilots license. \n",
                "\n",
                "> **Note**: You can write this in an un-nested manner, but use nesting for the purpose of the exercise.\n"
            ]
        },
        {
            "cell_type": "code",
            "execution_count": 34,
            "metadata": {},
            "outputs": [
                {
                    "name": "stdout",
                    "output_type": "stream",
                    "text": [
                        "You don't have a license, but you're drunk so you wouldn't be able to anyway\n"
                    ]
                }
            ],
            "source": [
                "has_pilots_license = False\n",
                "drunk = True\n",
                "if has_pilots_license  == True:\n",
                "    if drunk == False:\n",
                "        print('You can fly buddy')\n",
                "    else:\n",
                "        print(\"You can't fly, you're drunk idiot\")\n",
                "elif has_pilots_license  == False:\n",
                "    if drunk == False:\n",
                "        print(\"You can't fly mate, you don't have a pilots license\")\n",
                "    else:\n",
                "        print(\"You don't have a license, but you're drunk so you wouldn't be able to anyway\")"
            ]
        },
        {
            "attachments": {},
            "cell_type": "markdown",
            "metadata": {},
            "source": [
                "> **Pro Tip**: While it is possible to nest multiple `if` statements inside each other, it can often make things difficult to read.\n",
                "> \n",
                "> When approaching nested code program in general, you can usually reframe the problem to be *flatter* as opposed to more nested. Nesting sensibly is not bad practice, but too much often makes the problem more convoluted."
            ]
        },
        {
            "attachments": {},
            "cell_type": "markdown",
            "metadata": {},
            "source": [
                "### 2.1.5 Concept Check: Flattening nests\n",
                "\n",
                "Can you re-write the above concept check to not require nesting?"
            ]
        },
        {
            "cell_type": "code",
            "execution_count": 35,
            "metadata": {},
            "outputs": [
                {
                    "name": "stdout",
                    "output_type": "stream",
                    "text": [
                        "dANERSOU\n"
                    ]
                }
            ],
            "source": [
                "if has_pilots_license == True and drunk == False:\n",
                "    print('Safe to fly')\n",
                "else:\n",
                "    print('dANERSOU')"
            ]
        },
        {
            "cell_type": "markdown",
            "metadata": {},
            "source": [
                "### 2.1.6 Short Form of the `if` Statement *\n",
                "\n",
                "The standard form of `if` statement is as follows:\n",
                "```\n",
                "if <condition>:\n",
                "     <statement 1>\n",
                "else: \n",
                "     <statement 2>\n",
                "```\n",
                "\n",
                "If both `<statement 1>` and `<statement 2>`  consist of one expression each, then we can write this using the short form, on a single line\n",
                "\n",
                "```\n",
                "<statement 1> if <condition> else <statement 2> \n",
                "```\n",
                "\n",
                "This short form of the `if` statement is sometimes called a *ternary operator*.\n",
                "\n",
                "### 2.1.7 Example: Short Form of the `if` Statement"
            ]
        },
        {
            "cell_type": "code",
            "execution_count": 36,
            "metadata": {},
            "outputs": [
                {
                    "name": "stdout",
                    "output_type": "stream",
                    "text": [
                        "10\n"
                    ]
                }
            ],
            "source": [
                "a = 10\n",
                "b = 20\n",
                "if a < b:\n",
                "    print(a)\n",
                "else:\n",
                "    print(b)"
            ]
        },
        {
            "cell_type": "code",
            "execution_count": 37,
            "metadata": {},
            "outputs": [
                {
                    "name": "stdout",
                    "output_type": "stream",
                    "text": [
                        "10\n"
                    ]
                }
            ],
            "source": [
                "print(a) if a < b else print(b)"
            ]
        },
        {
            "attachments": {},
            "cell_type": "markdown",
            "metadata": {},
            "source": [
                "### 2.1.8 Concept Check: Short Form of the `if` Statement\n",
                "\n",
                "Re-write the code cell below, using the short form of the `if` statement."
            ]
        },
        {
            "cell_type": "code",
            "execution_count": null,
            "metadata": {},
            "outputs": [],
            "source": [
                "age = int(input(\"Input your age: \"))\n",
                "if age >= 21:\n",
                "    print(\"You can drink!\")\n",
                "else:\n",
                "    print(\"You can't drink!\")\n"
            ]
        }
    ],
    "metadata": {
        "kernelspec": {
            "display_name": "Python 3",
            "language": "python",
            "name": "python3"
        },
        "language_info": {
            "codemirror_mode": {
                "name": "ipython",
                "version": 3
            },
            "file_extension": ".py",
            "mimetype": "text/x-python",
            "name": "python",
            "nbconvert_exporter": "python",
            "pygments_lexer": "ipython3",
            "version": "3.11.8"
        },
        "varInspector": {
            "cols": {
                "lenName": 16,
                "lenType": 16,
                "lenVar": 40
            },
            "kernels_config": {
                "python": {
                    "delete_cmd_postfix": "",
                    "delete_cmd_prefix": "del ",
                    "library": "var_list.py",
                    "varRefreshCmd": "print(var_dic_list())"
                },
                "r": {
                    "delete_cmd_postfix": ") ",
                    "delete_cmd_prefix": "rm(",
                    "library": "var_list.r",
                    "varRefreshCmd": "cat(var_dic_list()) "
                }
            },
            "types_to_exclude": [
                "module",
                "function",
                "builtin_function_or_method",
                "instance",
                "_Feature"
            ],
            "window_display": false
        },
        "vscode": {
            "interpreter": {
                "hash": "4f77c56a1733e9d421c3a053160f731a1cdaa61fcda062af7a855a05be992435"
            }
        }
    },
    "nbformat": 4,
    "nbformat_minor": 2
}
