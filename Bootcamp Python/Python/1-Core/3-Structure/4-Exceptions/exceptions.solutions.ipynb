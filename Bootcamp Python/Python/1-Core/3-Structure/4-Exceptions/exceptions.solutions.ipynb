{
    "cells": [
        {
            "cell_type": "markdown",
            "metadata": {},
            "source": [
                "---\n",
                "# 4. Exceptions\n",
                "---\n",
                "\n",
                "\n| <u>**Metric**<u> | <u>Count<u> |\n| --- | --- |\n| **Cells** | 25 |\n| **Characters** | 4347 |\n| **Concept Checks** | 0 |\n| **Completion Time** | 11 min |\n\n",
                "When an error occurs during execution, an exception is raised. \n"
            ]
        },
        {
            "cell_type": "code",
            "execution_count": null,
            "metadata": {},
            "outputs": [],
            "source": [
                "# Example of a SyntaxError\n",
                "a = 20\n",
                "b = 30\n",
                "if a < b\n",
                "    print(a)"
            ]
        },
        {
            "cell_type": "code",
            "execution_count": null,
            "metadata": {},
            "outputs": [],
            "source": [
                "# Example of an IndexError\n",
                "my_list = [1,2,3,4]\n",
                "print(my_list[4])"
            ]
        },
        {
            "cell_type": "code",
            "execution_count": null,
            "metadata": {},
            "outputs": [],
            "source": [
                "# Example of a ZeroDivisionError\n",
                "print(50/0)"
            ]
        },
        {
            "cell_type": "code",
            "execution_count": null,
            "metadata": {},
            "outputs": [],
            "source": [
                "# Example of a NameError\n",
                "print(xyz)"
            ]
        },
        {
            "cell_type": "code",
            "execution_count": null,
            "metadata": {},
            "outputs": [],
            "source": [
                "# Example of a KeyError\n",
                "my_dict = {'module': 'Python', 'year': 2024}\n",
                "print(my_dict['Module'])"
            ]
        },
        {
            "cell_type": "markdown",
            "metadata": {},
            "source": [
                "## 4.1 Raising Exceptions\n",
                "\n",
                "Exceptions indicate errors and break out of the normal control flow of a program.\n",
                "Exceptions can be raised using the `raise` statement.\n",
                "\n"
            ]
        },
        {
            "cell_type": "code",
            "execution_count": null,
            "metadata": {},
            "outputs": [],
            "source": [
                "def send_email(email_address):\n",
                "    if '@' not in email_address:\n",
                "        raise Exception('email address is not valid!')\n",
                "    else:\n",
                "        # code to send email\n",
                "        # ...\n",
                "        # ...\n",
                "        print(f'Email has been sent to {email_address}')"
            ]
        },
        {
            "cell_type": "code",
            "execution_count": null,
            "metadata": {},
            "outputs": [],
            "source": [
                "print('Hello')\n",
                "send_email('monicageller@kubrickgroup.com')\n",
                "print('End')"
            ]
        },
        {
            "cell_type": "code",
            "execution_count": null,
            "metadata": {},
            "outputs": [],
            "source": [
                "print('Hello')\n",
                "send_email('monicageller$kubrickgroup.com')\n",
                "print('End')"
            ]
        },
        {
            "cell_type": "code",
            "execution_count": null,
            "metadata": {},
            "outputs": [],
            "source": [
                "def send_email(email_address):\n",
                "    if '@' not in email_address:\n",
                "        raise ValueError('Email address is not valid!')\n",
                "    else:\n",
                "        # code to send email\n",
                "        # ...\n",
                "        # ...\n",
                "        print(f'Email has been sent to {email_address}')\n"
            ]
        },
        {
            "cell_type": "code",
            "execution_count": null,
            "metadata": {},
            "outputs": [],
            "source": [
                "age = input('Enter your age: ')\n",
                "if int(age) < 0:\n",
                "    raise Exception('age is invalid')\n",
                "print(age)"
            ]
        },
        {
            "cell_type": "markdown",
            "metadata": {},
            "source": [
                "## 4.2 Handling Exceptions with a `try-except` block\n",
                "\n",
                "\n",
                "- Exceptions are 'caught' in the `try` block and then 'handled' in the `except` block.  \n",
                "- Excution stops in the `try` block as soon as the exception is encountered, and jumps straight to the `except` block.  \n",
                "\n",
                "```\n",
                "try:\n",
                "    # block of statements to try \n",
                "    <statements>\n",
                "    <statements>\n",
                "    ...\n",
                "except:\n",
                "    # block of statements to execute when an exception is encountered in the try block\n",
                "    <statements>\n",
                "    <statements>\n",
                "    ...\n",
                "```"
            ]
        },
        {
            "cell_type": "code",
            "execution_count": null,
            "metadata": {},
            "outputs": [],
            "source": [
                "a = 15\n",
                "b = 0\n",
                "c = a/b\n",
                "print(c)"
            ]
        },
        {
            "cell_type": "code",
            "execution_count": null,
            "metadata": {},
            "outputs": [],
            "source": [
                "a = 15\n",
                "b = 0\n",
                "try:\n",
                "    print('try block')\n",
                "    c = a/b\n",
                "    print(c)\n",
                "except:\n",
                "    print('except block')\n",
                "    print('division by zero is not possible')"
            ]
        },
        {
            "cell_type": "code",
            "execution_count": null,
            "metadata": {},
            "outputs": [],
            "source": [
                "def get_even_numbers(input_list):\n",
                "    new_list = []\n",
                "    for i in input_list:\n",
                "        if i%2 == 0:\n",
                "            new_list.append(i)\n",
                "    return new_list\n",
                "\n",
                "print(get_even_numbers([1,2,3,4,5]))\n",
                "print(get_even_numbers(['1',2,3,4,5]))"
            ]
        },
        {
            "cell_type": "code",
            "execution_count": null,
            "metadata": {},
            "outputs": [],
            "source": [
                "def get_even_numbers(input_list):\n",
                "    new_list = []\n",
                "    for i in input_list:\n",
                "        print('---------------------')\n",
                "        try:\n",
                "            print(f'try block for i: {i}')\n",
                "            if i%2 == 0:\n",
                "                new_list.append(i)\n",
                "        except:\n",
                "            print(f'except block for i: {i}')\n",
                "            continue\n",
                "    return new_list"
            ]
        },
        {
            "cell_type": "code",
            "execution_count": null,
            "metadata": {},
            "outputs": [],
            "source": [
                "get_even_numbers([1,2,3,4,5,6])"
            ]
        },
        {
            "cell_type": "code",
            "execution_count": null,
            "metadata": {
                "scrolled": true
            },
            "outputs": [],
            "source": [
                "get_even_numbers(['1',2,3,4,5,6])"
            ]
        },
        {
            "cell_type": "markdown",
            "metadata": {},
            "source": [
                "## 4.3 Multiple `except` blocks\n",
                "\n",
                "- We can have multiple `except` blocks for different kinds of exceptions.\n",
                "- Each `except` block is considered in turn (starting with the first one). - If the type of the raised `Exception` matches the type in the `except` block, then this block is selected for execution (and no other `except` blocks will be executed). \n",
                "- The matching is performed using the hierachy of Python exception types. A list of the built-in exception types can be found [here](https://docs.python.org/3/library/exceptions.html?highlight=exception#Exception). "
            ]
        },
        {
            "cell_type": "code",
            "execution_count": null,
            "metadata": {},
            "outputs": [],
            "source": [
                "# Zero division error\n",
                "try:\n",
                "    y = 50 / 0\n",
                "except IndexError:\n",
                "    print('Index error!')\n",
                "except ZeroDivisionError:\n",
                "    print('Zero division error!')\n",
                "except: # Catch all\n",
                "    print('Something went wrong...')"
            ]
        },
        {
            "cell_type": "code",
            "execution_count": null,
            "metadata": {},
            "outputs": [],
            "source": [
                "# Index error\n",
                "try:\n",
                "    y = [1,2,3][10]\n",
                "except IndexError:\n",
                "    print('Index error!')\n",
                "except ZeroDivisionError:\n",
                "    print('Zero division error!')\n",
                "except: # Catch all\n",
                "    print('Something went wrong...')"
            ]
        },
        {
            "cell_type": "code",
            "execution_count": null,
            "metadata": {},
            "outputs": [],
            "source": [
                "# File file found error\n",
                "try:\n",
                "    f = open(r'D:/sdfhkdsfkshfsdfdsfds.txt', 'r')\n",
                "except IndexError:\n",
                "    print('Index error!')\n",
                "except ZeroDivisionError:\n",
                "    print('Zero division error!')\n",
                "except: # Catch all\n",
                "    print('Something went wrong...')"
            ]
        },
        {
            "cell_type": "code",
            "execution_count": null,
            "metadata": {},
            "outputs": [],
            "source": [
                "def my_divide_2(a,b):\n",
                "    try:\n",
                "        return a/b  \n",
                "    except ZeroDivisionError:\n",
                "        return 'cannot divide by zero'\n",
                "    except TypeError:\n",
                "        try:\n",
                "            return int(a)/int(b)\n",
                "        except:\n",
                "            return 'division is not possible'\n",
                "    except: # Catch all\n",
                "        return \"some exception was raised\""
            ]
        },
        {
            "cell_type": "code",
            "execution_count": null,
            "metadata": {},
            "outputs": [],
            "source": [
                "# Zero division error\n",
                "try:\n",
                "    y = 50 / 0\n",
                "except Exception:\n",
                "    print('Exception occurred.')\n",
                "except IndexError:\n",
                "    print('Index error!')\n",
                "except ZeroDivisionError:\n",
                "    print('Zero division error!')\n",
                "except: # Catch all\n",
                "    print('Something went wrong...')"
            ]
        }
    ],
    "metadata": {
        "kernelspec": {
            "display_name": "Python 3",
            "language": "python",
            "name": "python3"
        },
        "language_info": {
            "codemirror_mode": {
                "name": "ipython",
                "version": 3
            },
            "file_extension": ".py",
            "mimetype": "text/x-python",
            "name": "python",
            "nbconvert_exporter": "python",
            "pygments_lexer": "ipython3",
            "version": "3.11.7"
        },
        "varInspector": {
            "cols": {
                "lenName": 16,
                "lenType": 16,
                "lenVar": 40
            },
            "kernels_config": {
                "python": {
                    "delete_cmd_postfix": "",
                    "delete_cmd_prefix": "del ",
                    "library": "var_list.py",
                    "varRefreshCmd": "print(var_dic_list())"
                },
                "r": {
                    "delete_cmd_postfix": ") ",
                    "delete_cmd_prefix": "rm(",
                    "library": "var_list.r",
                    "varRefreshCmd": "cat(var_dic_list()) "
                }
            },
            "types_to_exclude": [
                "module",
                "function",
                "builtin_function_or_method",
                "instance",
                "_Feature"
            ],
            "window_display": false
        },
        "vscode": {
            "interpreter": {
                "hash": "4f77c56a1733e9d421c3a053160f731a1cdaa61fcda062af7a855a05be992435"
            }
        }
    },
    "nbformat": 4,
    "nbformat_minor": 2
}