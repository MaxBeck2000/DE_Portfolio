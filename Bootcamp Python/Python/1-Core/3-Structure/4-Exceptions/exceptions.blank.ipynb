{
    "cells": [
        {
            "cell_type": "markdown",
            "metadata": {},
            "source": [
                "---\n",
                "# 4. Exceptions\n",
                "---\n",
                "\n",
                "When an error occurs during execution, an exception is raised. \n"
            ]
        },
        {
            "cell_type": "code",
            "execution_count": 3,
            "metadata": {},
            "outputs": [
                {
                    "ename": "SyntaxError",
                    "evalue": "expected ':' (1739418407.py, line 3)",
                    "output_type": "error",
                    "traceback": [
                        "\u001b[1;36m  Cell \u001b[1;32mIn[3], line 3\u001b[1;36m\u001b[0m\n\u001b[1;33m    if a < b\u001b[0m\n\u001b[1;37m            ^\u001b[0m\n\u001b[1;31mSyntaxError\u001b[0m\u001b[1;31m:\u001b[0m expected ':'\n"
                    ]
                }
            ],
            "source": [
                "a = 20\n",
                "b = 10\n",
                "if a < b\n",
                "    print(a)\n"
            ]
        },
        {
            "cell_type": "code",
            "execution_count": 2,
            "metadata": {},
            "outputs": [
                {
                    "ename": "IndexError",
                    "evalue": "list index out of range",
                    "output_type": "error",
                    "traceback": [
                        "\u001b[1;31m---------------------------------------------------------------------------\u001b[0m",
                        "\u001b[1;31mIndexError\u001b[0m                                Traceback (most recent call last)",
                        "Cell \u001b[1;32mIn[2], line 2\u001b[0m\n\u001b[0;32m      1\u001b[0m my_list \u001b[38;5;241m=\u001b[39m [\u001b[38;5;241m1\u001b[39m, \u001b[38;5;241m3\u001b[39m, \u001b[38;5;241m4\u001b[39m]\n\u001b[1;32m----> 2\u001b[0m \u001b[43mmy_list\u001b[49m\u001b[43m[\u001b[49m\u001b[38;5;241;43m3\u001b[39;49m\u001b[43m]\u001b[49m\n",
                        "\u001b[1;31mIndexError\u001b[0m: list index out of range"
                    ]
                }
            ],
            "source": [
                "my_list = [1, 3, 4]\n",
                "my_list[3]"
            ]
        },
        {
            "cell_type": "code",
            "execution_count": null,
            "metadata": {},
            "outputs": [],
            "source": []
        },
        {
            "cell_type": "code",
            "execution_count": null,
            "metadata": {},
            "outputs": [],
            "source": []
        },
        {
            "cell_type": "code",
            "execution_count": 4,
            "metadata": {},
            "outputs": [
                {
                    "ename": "KeyError",
                    "evalue": "3",
                    "output_type": "error",
                    "traceback": [
                        "\u001b[1;31m---------------------------------------------------------------------------\u001b[0m",
                        "\u001b[1;31mKeyError\u001b[0m                                  Traceback (most recent call last)",
                        "Cell \u001b[1;32mIn[4], line 2\u001b[0m\n\u001b[0;32m      1\u001b[0m my_dict \u001b[38;5;241m=\u001b[39m {\u001b[38;5;241m1\u001b[39m:\u001b[38;5;124m'\u001b[39m\u001b[38;5;124mOne\u001b[39m\u001b[38;5;124m'\u001b[39m,\u001b[38;5;241m2\u001b[39m:\u001b[38;5;124m'\u001b[39m\u001b[38;5;124mTwo\u001b[39m\u001b[38;5;124m'\u001b[39m}\n\u001b[1;32m----> 2\u001b[0m \u001b[38;5;28mprint\u001b[39m(\u001b[43mmy_dict\u001b[49m\u001b[43m[\u001b[49m\u001b[38;5;241;43m3\u001b[39;49m\u001b[43m]\u001b[49m)\n",
                        "\u001b[1;31mKeyError\u001b[0m: 3"
                    ]
                }
            ],
            "source": [
                "my_dict = {1:'One',2:'Two'}\n",
                "print(my_dict[3])"
            ]
        },
        {
            "cell_type": "markdown",
            "metadata": {},
            "source": [
                "## 4.1 Raising Exceptions\n",
                "\n",
                "Exceptions indicate errors and break out of the normal control flow of a program.\n",
                "Exceptions can be raised using the `raise` statement.\n",
                "\n"
            ]
        },
        {
            "cell_type": "code",
            "execution_count": 5,
            "metadata": {},
            "outputs": [],
            "source": [
                "def send_email(email_address):\n",
                "    if '@' not in email_address:\n",
                "        raise Exception(\"Email address is not valid, where's @ buddy?\")\n",
                "    else:\n",
                "        #code to send email\n",
                "        print(f'Email sent to {email_address}')\n",
                "\n",
                "        "
            ]
        },
        {
            "cell_type": "code",
            "execution_count": 9,
            "metadata": {},
            "outputs": [
                {
                    "name": "stdout",
                    "output_type": "stream",
                    "text": [
                        "Email sent to maxbeck@kubrickgroup.com\n"
                    ]
                }
            ],
            "source": [
                "send_email('maxbeck@kubrickgroup.com')"
            ]
        },
        {
            "cell_type": "code",
            "execution_count": 10,
            "metadata": {},
            "outputs": [
                {
                    "ename": "Exception",
                    "evalue": "Email address is not valid, where's @ buddy?",
                    "output_type": "error",
                    "traceback": [
                        "\u001b[1;31m---------------------------------------------------------------------------\u001b[0m",
                        "\u001b[1;31mException\u001b[0m                                 Traceback (most recent call last)",
                        "Cell \u001b[1;32mIn[10], line 1\u001b[0m\n\u001b[1;32m----> 1\u001b[0m \u001b[43msend_email\u001b[49m\u001b[43m(\u001b[49m\u001b[38;5;124;43m'\u001b[39;49m\u001b[38;5;124;43mmaxbeck#kubrickgroup.com\u001b[39;49m\u001b[38;5;124;43m'\u001b[39;49m\u001b[43m)\u001b[49m\n",
                        "Cell \u001b[1;32mIn[5], line 3\u001b[0m, in \u001b[0;36msend_email\u001b[1;34m(email_address)\u001b[0m\n\u001b[0;32m      1\u001b[0m \u001b[38;5;28;01mdef\u001b[39;00m \u001b[38;5;21msend_email\u001b[39m(email_address):\n\u001b[0;32m      2\u001b[0m     \u001b[38;5;28;01mif\u001b[39;00m \u001b[38;5;124m'\u001b[39m\u001b[38;5;124m@\u001b[39m\u001b[38;5;124m'\u001b[39m \u001b[38;5;129;01mnot\u001b[39;00m \u001b[38;5;129;01min\u001b[39;00m email_address:\n\u001b[1;32m----> 3\u001b[0m         \u001b[38;5;28;01mraise\u001b[39;00m \u001b[38;5;167;01mException\u001b[39;00m(\u001b[38;5;124m\"\u001b[39m\u001b[38;5;124mEmail address is not valid, where\u001b[39m\u001b[38;5;124m'\u001b[39m\u001b[38;5;124ms @ buddy?\u001b[39m\u001b[38;5;124m\"\u001b[39m)\n\u001b[0;32m      4\u001b[0m     \u001b[38;5;28;01melse\u001b[39;00m:\n\u001b[0;32m      5\u001b[0m         \u001b[38;5;66;03m#code to send email\u001b[39;00m\n\u001b[0;32m      6\u001b[0m         \u001b[38;5;28mprint\u001b[39m(\u001b[38;5;124mf\u001b[39m\u001b[38;5;124m'\u001b[39m\u001b[38;5;124mEmail sent to \u001b[39m\u001b[38;5;132;01m{\u001b[39;00memail_address\u001b[38;5;132;01m}\u001b[39;00m\u001b[38;5;124m'\u001b[39m)\n",
                        "\u001b[1;31mException\u001b[0m: Email address is not valid, where's @ buddy?"
                    ]
                }
            ],
            "source": [
                "send_email('maxbeck#kubrickgroup.com')"
            ]
        },
        {
            "cell_type": "code",
            "execution_count": 11,
            "metadata": {},
            "outputs": [],
            "source": [
                "def send_email(email_address):\n",
                "    if '@' not in email_address:\n",
                "        raise ValueError(\"Email address is not valid, where's @ buddy?\")\n",
                "    else:\n",
                "        #code to send email\n",
                "        print(f'Email sent to {email_address}')\n",
                "\n",
                "        "
            ]
        },
        {
            "cell_type": "code",
            "execution_count": 12,
            "metadata": {},
            "outputs": [
                {
                    "ename": "ValueError",
                    "evalue": "Email address is not valid, where's @ buddy?",
                    "output_type": "error",
                    "traceback": [
                        "\u001b[1;31m---------------------------------------------------------------------------\u001b[0m",
                        "\u001b[1;31mValueError\u001b[0m                                Traceback (most recent call last)",
                        "Cell \u001b[1;32mIn[12], line 1\u001b[0m\n\u001b[1;32m----> 1\u001b[0m \u001b[43msend_email\u001b[49m\u001b[43m(\u001b[49m\u001b[38;5;124;43m'\u001b[39;49m\u001b[38;5;124;43mmaxbeck#kubrickgroup.com\u001b[39;49m\u001b[38;5;124;43m'\u001b[39;49m\u001b[43m)\u001b[49m\n",
                        "Cell \u001b[1;32mIn[11], line 3\u001b[0m, in \u001b[0;36msend_email\u001b[1;34m(email_address)\u001b[0m\n\u001b[0;32m      1\u001b[0m \u001b[38;5;28;01mdef\u001b[39;00m \u001b[38;5;21msend_email\u001b[39m(email_address):\n\u001b[0;32m      2\u001b[0m     \u001b[38;5;28;01mif\u001b[39;00m \u001b[38;5;124m'\u001b[39m\u001b[38;5;124m@\u001b[39m\u001b[38;5;124m'\u001b[39m \u001b[38;5;129;01mnot\u001b[39;00m \u001b[38;5;129;01min\u001b[39;00m email_address:\n\u001b[1;32m----> 3\u001b[0m         \u001b[38;5;28;01mraise\u001b[39;00m \u001b[38;5;167;01mValueError\u001b[39;00m(\u001b[38;5;124m\"\u001b[39m\u001b[38;5;124mEmail address is not valid, where\u001b[39m\u001b[38;5;124m'\u001b[39m\u001b[38;5;124ms @ buddy?\u001b[39m\u001b[38;5;124m\"\u001b[39m)\n\u001b[0;32m      4\u001b[0m     \u001b[38;5;28;01melse\u001b[39;00m:\n\u001b[0;32m      5\u001b[0m         \u001b[38;5;66;03m#code to send email\u001b[39;00m\n\u001b[0;32m      6\u001b[0m         \u001b[38;5;28mprint\u001b[39m(\u001b[38;5;124mf\u001b[39m\u001b[38;5;124m'\u001b[39m\u001b[38;5;124mEmail sent to \u001b[39m\u001b[38;5;132;01m{\u001b[39;00memail_address\u001b[38;5;132;01m}\u001b[39;00m\u001b[38;5;124m'\u001b[39m)\n",
                        "\u001b[1;31mValueError\u001b[0m: Email address is not valid, where's @ buddy?"
                    ]
                }
            ],
            "source": [
                "send_email('maxbeck#kubrickgroup.com')"
            ]
        },
        {
            "cell_type": "markdown",
            "metadata": {},
            "source": [
                "## 4.2 Handling Exceptions with a `try-except` block\n",
                "\n",
                "\n",
                "- Exceptions are 'caught' in the `try` block and then 'handled' in the `except` block.  \n",
                "- Excution stops in the `try` block as soon as the exception is encountered, and jumps straight to the `except` block.  \n",
                "\n",
                "```\n",
                "try:\n",
                "    # block of statements to try \n",
                "    <statements>\n",
                "    <statements>\n",
                "    ...\n",
                "except:\n",
                "    # block of statements to execute when an exception is encountered in the try block\n",
                "    <statements>\n",
                "    <statements>\n",
                "    ...\n",
                "```"
            ]
        },
        {
            "cell_type": "code",
            "execution_count": 16,
            "metadata": {},
            "outputs": [
                {
                    "name": "stdout",
                    "output_type": "stream",
                    "text": [
                        "Start of Cell\n",
                        "in the try block\n",
                        "2.0\n",
                        "we have moved to the except block\n",
                        "end of cell\n"
                    ]
                }
            ],
            "source": [
                "print('Start of Cell')\n",
                "\n",
                "try:\n",
                "    print('in the try block')\n",
                "    x = 2\n",
                "    y = 1\n",
                "\n",
                "    print(x/y)\n",
                "    [rint('got to the end of the try block')]\n",
                "except:\n",
                "    print('we have moved to the except block')\n",
                "print('end of cell')"
            ]
        },
        {
            "cell_type": "code",
            "execution_count": null,
            "metadata": {},
            "outputs": [],
            "source": []
        },
        {
            "cell_type": "code",
            "execution_count": null,
            "metadata": {},
            "outputs": [],
            "source": []
        },
        {
            "cell_type": "code",
            "execution_count": null,
            "metadata": {},
            "outputs": [],
            "source": []
        },
        {
            "cell_type": "code",
            "execution_count": null,
            "metadata": {},
            "outputs": [],
            "source": []
        },
        {
            "cell_type": "code",
            "execution_count": null,
            "metadata": {
                "scrolled": true
            },
            "outputs": [],
            "source": []
        },
        {
            "cell_type": "markdown",
            "metadata": {},
            "source": [
                "## 4.3 Multiple `except` blocks\n",
                "\n",
                "- We can have multiple `except` blocks for different kinds of exceptions.\n",
                "- Each `except` block is considered in turn (starting with the first one). - If the type of the raised `Exception` matches the type in the `except` block, then this block is selected for execution (and no other `except` blocks will be executed). \n",
                "- The matching is performed using the hierachy of Python exception types. A list of the built-in exception types can be found [here](https://docs.python.org/3/library/exceptions.html?highlight=exception#Exception). "
            ]
        },
        {
            "cell_type": "code",
            "execution_count": 22,
            "metadata": {},
            "outputs": [
                {
                    "name": "stdout",
                    "output_type": "stream",
                    "text": [
                        "Something went wrong buddy!\n"
                    ]
                }
            ],
            "source": [
                "try:\n",
                "    my_dict = {1:'One'}\n",
                "    print(my_dict['hello'])\n",
                "    my_list = [1,2,3]\n",
                "    print(my_list[7])\n",
                "    y = 50/0\n",
                "    #a lot of code here\n",
                "except IndexError:\n",
                "    print('Index error caught and handled')\n",
                "except ZeroDivisionError:\n",
                "    print('zero division error caught and handled')\n",
                "except: #catch all\n",
                "    print('Something went wrong buddy!')"
            ]
        },
        {
            "cell_type": "code",
            "execution_count": null,
            "metadata": {},
            "outputs": [],
            "source": []
        },
        {
            "cell_type": "code",
            "execution_count": null,
            "metadata": {},
            "outputs": [],
            "source": []
        },
        {
            "cell_type": "code",
            "execution_count": null,
            "metadata": {},
            "outputs": [],
            "source": []
        },
        {
            "cell_type": "code",
            "execution_count": null,
            "metadata": {},
            "outputs": [],
            "source": []
        }
    ],
    "metadata": {
        "kernelspec": {
            "display_name": "Python 3",
            "language": "python",
            "name": "python3"
        },
        "language_info": {
            "codemirror_mode": {
                "name": "ipython",
                "version": 3
            },
            "file_extension": ".py",
            "mimetype": "text/x-python",
            "name": "python",
            "nbconvert_exporter": "python",
            "pygments_lexer": "ipython3",
            "version": "3.11.8"
        },
        "varInspector": {
            "cols": {
                "lenName": 16,
                "lenType": 16,
                "lenVar": 40
            },
            "kernels_config": {
                "python": {
                    "delete_cmd_postfix": "",
                    "delete_cmd_prefix": "del ",
                    "library": "var_list.py",
                    "varRefreshCmd": "print(var_dic_list())"
                },
                "r": {
                    "delete_cmd_postfix": ") ",
                    "delete_cmd_prefix": "rm(",
                    "library": "var_list.r",
                    "varRefreshCmd": "cat(var_dic_list()) "
                }
            },
            "types_to_exclude": [
                "module",
                "function",
                "builtin_function_or_method",
                "instance",
                "_Feature"
            ],
            "window_display": false
        },
        "vscode": {
            "interpreter": {
                "hash": "4f77c56a1733e9d421c3a053160f731a1cdaa61fcda062af7a855a05be992435"
            }
        }
    },
    "nbformat": 4,
    "nbformat_minor": 2
}
