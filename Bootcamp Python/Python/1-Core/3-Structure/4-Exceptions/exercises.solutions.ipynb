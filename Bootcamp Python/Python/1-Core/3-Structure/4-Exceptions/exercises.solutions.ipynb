{
    "cells": [
        {
            "attachments": {},
            "cell_type": "markdown",
            "metadata": {},
            "source": [
                "# 4. Exceptions",
                "\n| <u>**Metric**<u> | <u>Count<u> |\n| --- | --- |\n| **Cells** | 13 |\n| **Characters** | 6534 |\n| **Exercises** | 6 (2 **S**, 2 **M**, 2 **L**) |\n| **Completion Time** | 76 min |\n\n"
            ]
        },
        {
            "attachments": {},
            "cell_type": "markdown",
            "metadata": {},
            "source": [
                "## 4.1 Exercise: Basic Exception Raising \n",
                "\n",
                "Create a function called `divide` that takes two arguments, `numerator` and `denominator`. If the inputs are integers, the function should divide the `numerator` by the `denominator`, and handle exceptions in the following way:\n",
                "\n",
                "- The function should check that both arguments are integers, if not `raise` a `TypeError` with the message \"Both inputs must be integers\".\n",
                "- Otherwise, if the denominator is 0 it should raise a `ZeroDivisionError` with an appropriate message \n",
                "- If no exception is raised, `return` the result of the division."
            ]
        },
        {
            "cell_type": "code",
            "execution_count": 10,
            "metadata": {},
            "outputs": [],
            "source": [
                "def divide(numerator, denominator):\n",
                "    if type(numerator) is not int or type(denominator) is not int:\n",
                "        raise TypeError(\"Both inputs must be integers\")\n",
                "    if denominator == 0:\n",
                "        raise ZeroDivisionError(\"division by zero!\")\n",
                "    result = numerator / denominator\n",
                "    return result\n",
                "\n",
                "#please run each line individually below to check your outcome is correct\n",
                "\n",
                "#divide(2, 1) # should output 2.0\n",
                "#divide(\"2\", \"1\") # should raise an error because inputs are not integers\n",
                "#divide(2, 0) # should raise an error because division is not possible\n"
            ]
        },
        {
            "attachments": {},
            "cell_type": "markdown",
            "metadata": {},
            "source": [
                "## 4.2 Exercise: Basic Try and Except \n",
                "\n",
                "Create a function called `hypo` that returns the hypotenuse of a triangle given the `width` and `height` of a triangle. If either of the arguments are not integers then return 0.\n",
                "\n",
                "*Please note negative integers should still be handled the same way, i.e. if the `width` is -3 and `height` is -4 it should still return 5.0*"
            ]
        },
        {
            "cell_type": "code",
            "execution_count": 15,
            "metadata": {},
            "outputs": [],
            "source": [
                "def hypo(width,height):\n",
                "    try:\n",
                "        return (width ** 2 + height ** 2)**0.5\n",
                "    except:\n",
                "        return 0\n",
                "\n",
                "#please run each line individually below to check your outcome is correct\n",
                "\n",
                "#hypo(3,4) #this should return 5.0\n",
                "#hypo(-3,-4) #this should return 5.0 \n",
                "#hypo('3',4) #this should return 0 \n",
                "\n"
            ]
        },
        {
            "attachments": {},
            "cell_type": "markdown",
            "metadata": {},
            "source": [
                "## 4.3 Exercise: Exception Raising with Try and Except integration *\n",
                "\n",
                "Create a function called `square_root` that takes a single argument, `x`, and returns the square root of `x`.\n",
                "\n",
                "- If `x` is a negative number, the function should square root the positive version of that number (e.g. if -4 is input the function should output the square root of 4)\n",
                "- If `x` is not an integer raise a `TypeError` with the message 'Please input an integer'.\n",
                "\n"
            ]
        },
        {
            "cell_type": "code",
            "execution_count": 22,
            "metadata": {},
            "outputs": [],
            "source": [
                "def square_root(x):\n",
                "    try:\n",
                "        if x < 0:\n",
                "            return (-x) ** 0.5\n",
                "        else:\n",
                "            return x ** 0.5\n",
                "    except:\n",
                "        raise TypeError('Please input an integer')\n",
                "\n",
                "\n",
                "#please run each line individually below to check your outcome is correct\n",
                "#square_root(4) #returns 2.0\n",
                "#square_root(-4) #returns 2.0\n",
                "#square_root('4') #raise a TypeError stating that you need to input an integer \n",
                "\n"
            ]
        },
        {
            "attachments": {},
            "cell_type": "markdown",
            "metadata": {},
            "source": [
                "## 4.4 Exercise: Multiple Exception Handling *\n",
                "\n",
                "Create a function called `position_10` that takes argument `list_a`. The Function should provide the 10th position of a list provided, if the list is too small or argument provided is not a list(or other type of sequence) then this should be caught using Error specific except clauses. ( e.g. Except `IndexError`)\n",
                "\n",
                "- If the argument provided is a sequence with 10 or more items then it should return the 10th item\n",
                "- If the argument provided a sequence with less than 10 items it should catch the `IndexError` and print 'The list contains too few items'\n",
                "- If the argument provided a non-sequence type object then it should catch the `TypeError` and print 'Please provide a sequence'"
            ]
        },
        {
            "cell_type": "code",
            "execution_count": 25,
            "metadata": {},
            "outputs": [
                {
                    "name": "stdout",
                    "output_type": "stream",
                    "text": [
                        "Please provide a sequence\n"
                    ]
                }
            ],
            "source": [
                "def position_10(list_a):\n",
                "    try:\n",
                "        list_a[9]\n",
                "        return list_a[9]\n",
                "    except IndexError:\n",
                "        print('The list contains too few items')\n",
                "    except TypeError:\n",
                "        print('Please provide a sequence')\n",
                "        \n",
                "\n",
                "#please run each line individually below to check your outcome is correct\n",
                "\n",
                "#position_10([0,1,2,3,4,5,6,7,8,9]) #this should return 9 \n",
                "#position_10([0,1,2,3,4,5,6,7,8]) # this should print 'The list contains too few items'\n",
                "#position_10(10) # this should print 'Please provide a sequence'\n",
                "\n"
            ]
        },
        {
            "attachments": {},
            "cell_type": "markdown",
            "metadata": {},
            "source": [
                "## 4.5 Exercise: Exception Raising with Try and Except Extention **\n",
                "\n",
                "Create a function called `check_age` that takes an argument, `age`. The function should check that `age` can be converted to an integer, if not it should raise a `TypeError` with the message \"Please input a positive integer\".\n",
                "\n",
                "- If `age` is valid, the function should check if `age` is greater than or equal to 18. \n",
                "- If it is, the function should print \"You are an adult\". \n",
                "- If the `age` is less than 0 it should raise a `ValueError` with the message 'You have inputted too small a number'. \n",
                "- If the `age` is greater than 150 it should raise a `ValueError` with the message 'You have inputted too large a number'  \n",
                "- If the `age` is less than 18 it should print ' You are a minor'"
            ]
        },
        {
            "cell_type": "code",
            "execution_count": 29,
            "metadata": {},
            "outputs": [],
            "source": [
                "def check_age(age):\n",
                "    try:\n",
                "        age = int(age)\n",
                "    except ValueError:\n",
                "        raise TypeError(\"Please input a positive integer\")\n",
                "    if age > 150:\n",
                "        raise ValueError(\"You have inputted too large a number\")\n",
                "    elif age >= 18:\n",
                "        print(\"You are an adult\")\n",
                "    elif age < 0:\n",
                "       raise ValueError('You have inputted too small a number')\n",
                "    else:\n",
                "        print(\"You are a minor\")\n",
                "\n",
                "\n",
                "#please run each line individually below to check your outcome is correct\n",
                "\n",
                "#check_age(20) # you are an adult\n",
                "#check_age(17) # you are a minor\n",
                "#check_age(\"20\") # you are an adult\n",
                "#check_age(-1) # raise ValueError: You have inputted too small a number\n",
                "#check_age(170) # raise ValueError: You have inputted too large a number\n",
                "\n"
            ]
        },
        {
            "attachments": {},
            "cell_type": "markdown",
            "metadata": {},
            "source": [
                "## 4.6 Exercise: Parse Function  **\n",
                "\n",
                "Create a `function` called `parse_string_to_dict` that takes a single argument, string_data which is a string that represent a list of key-value pairs separated by a specific delimiter. The function should parse the string and return the resulting data as a dictionary. The key-value pairs are separated by a comma and the keys and values are separated by a colon .\n",
                "\n",
                "For example, the following `string` is input:\n",
                "\"first_name:John,last_name:Doe,age:30,gender:male\"\n",
                "\n",
                "The `function` should return a Dictionary:\n",
                "{'first_name': 'John', 'last_name': 'Doe', 'age': '30', 'gender': 'male'}\n"
            ]
        },
        {
            "cell_type": "code",
            "execution_count": 4,
            "metadata": {},
            "outputs": [],
            "source": [
                "\n",
                "def parse_string_to_dict(string_data):\n",
                "    try:\n",
                "        data = {}\n",
                "        for item in string_data.split(\",\"):\n",
                "            key, value = item.split(\":\")\n",
                "            data[key] = value\n",
                "        return data\n",
                "    except ValueError:\n",
                "        raise ValueError(\"Error parsing string data\")\n",
                "\n",
                "    \n",
                "\n",
                "\n",
                "#parse_string_to_dict(\"first_name:John,last_name:Doe,age:30,gender:male\") # this should return {'first_name': 'John', 'last_name': 'Doe', 'age': '30', 'gender': 'male'}\n",
                "#parse_string_to_dict(\"first_name:John,last_name:Doe,age,gender:male\") #this should raise an exception\n",
                "\n"
            ]
        }
    ],
    "metadata": {
        "kernelspec": {
            "display_name": "base",
            "language": "python",
            "name": "python3"
        },
        "language_info": {
            "codemirror_mode": {
                "name": "ipython",
                "version": 3
            },
            "file_extension": ".py",
            "mimetype": "text/x-python",
            "name": "python",
            "nbconvert_exporter": "python",
            "pygments_lexer": "ipython3",
            "version": "3.9.13"
        },
        "orig_nbformat": 4,
        "vscode": {
            "interpreter": {
                "hash": "9bcd4d914e2bd1fd2df8e0d617ef656989b094900dc3b085585fa427e902d48a"
            }
        }
    },
    "nbformat": 4,
    "nbformat_minor": 2
}