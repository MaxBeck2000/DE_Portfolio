{
    "cells": [
        {
            "cell_type": "markdown",
            "metadata": {},
            "source": [
                "# 8. Data Manipulation\n",
                "\n| <u>**Metric**<u> | <u>Count<u> |\n| --- | --- |\n| **Cells** | 12 |\n| **Characters** | 2340 |\n| **Concept Checks** | 0 |\n| **Completion Time** | 6 min |\n\n",
                "Here, we will try and practice some data manipulation (indexing and slicing) with dictionaries, lists and strings"
            ]
        },
        {
            "cell_type": "markdown",
            "metadata": {},
            "source": [
                "## 8.1 Example 1"
            ]
        },
        {
            "cell_type": "code",
            "execution_count": 2,
            "metadata": {},
            "outputs": [],
            "source": [
                "my_list = [1, 2, [3.2, 3.4, 3.6, 3.8], 4, 5, [6.2, [6.25, 6.3, 6.35], 6.6, [6.65, 6.7, 6.75]], 7, 8, 9]\n"
            ]
        },
        {
            "cell_type": "markdown",
            "metadata": {},
            "source": [
                "Get the following items from the list:\n",
                "- 2\n",
                "- 3.4\n",
                "- 4\n",
                "- 6.2\n",
                "- 6.35\n",
                "- 6.6\n",
                "- 6.75\n",
                "- 8"
            ]
        },
        {
            "cell_type": "code",
            "execution_count": 15,
            "metadata": {},
            "outputs": [],
            "source": [
                "print(my_list[1]) # 2\n",
                "print(my_list[2][1]) # 3.4\n",
                "print(my_list[3]) # 4\n",
                "print(my_list[5][0]) # 6.2\n",
                "print(my_list[5][1][2]) # 6.35\n",
                "print(my_list[5][2]) # 6.6\n",
                "print(my_list[5][3][2]) # 6.75\n",
                "print(my_list[-2]) # 8"
            ]
        },
        {
            "cell_type": "markdown",
            "metadata": {},
            "source": [
                "## 8.2 Example 2"
            ]
        },
        {
            "cell_type": "code",
            "execution_count": 17,
            "metadata": {},
            "outputs": [],
            "source": [
                "my_dict = {\n",
                "    \"input_one\": {\n",
                "        \"document\": \"New York Yankees\"\n",
                "    },\n",
                "    \"output_one\": {\n",
                "        \"results\": {\n",
                "            \"count\": 1,\n",
                "            \"predictions\": [\n",
                "                {\n",
                "                    \"input_text\": \"New York Yankees\",\n",
                "                    \"category\": \"rec.sport.baseball\",\n",
                "                    \"index\": 1\n",
                "                }\n",
                "            ]\n",
                "        }\n",
                "    },\n",
                "    \"input_mult\": {\n",
                "        \"documents\": [\"Harley Davidson\", \"Windows computer\", \"Solar system\"]\n",
                "    },\n",
                "    \"output_mult\": {\n",
                "        \"results\": {\n",
                "            \"count\": 3,\n",
                "            \"predictions\": [\n",
                "                {\n",
                "                    \"input_text\": \"Harley Davidson\",\n",
                "                    \"category\": \"rec.autos\",\n",
                "                    \"index\": 1\n",
                "                },\n",
                "                {\n",
                "                    \"input_text\": \"Windows computer\",\n",
                "                    \"category\": \"comp.os.ms-windows.misc\",\n",
                "                    \"index\": 2\n",
                "                },\n",
                "                {\n",
                "                    \"input_text\": \"Solar system\",\n",
                "                    \"category\": \"sci.space\",\n",
                "                    \"index\": 3\n",
                "                }\n",
                "            ]\n",
                "        }\n",
                "    }\n",
                "}\n"
            ]
        },
        {
            "cell_type": "markdown",
            "metadata": {},
            "source": [
                "Get the following items from the above dictionary\n",
                "- \"sci.space\"\n",
                "- 1 (corresponding to \"count\": 1 in \"output_one\")\n",
                "- 3 (corresponding to \"index\": 3 in \"output_mult\")\n",
                "- 3 (corresponding to \"count\": 3 in \"output_mult\")\n",
                "- Windows (in \"Windows computer\")\n",
                "- \"documents\" list from \"input_mult\"\n",
                "- \"predictions\" list from \"results\" in \"output_mult\"\n",
                "\n",
                "You can try and come up with your own questions"
            ]
        },
        {
            "cell_type": "code",
            "execution_count": 18,
            "metadata": {},
            "outputs": [],
            "source": [
                "print(my_dict[\"output_mult\"][\"results\"][\"predictions\"][2][\"category\"])# sci.space"
            ]
        },
        {
            "cell_type": "code",
            "execution_count": 21,
            "metadata": {},
            "outputs": [],
            "source": [
                "print(my_dict[\"output_one\"][\"results\"][\"count\"])"
            ]
        },
        {
            "cell_type": "code",
            "execution_count": 23,
            "metadata": {},
            "outputs": [],
            "source": [
                "print(my_dict[\"output_mult\"][\"results\"][\"predictions\"][2][\"index\"])"
            ]
        },
        {
            "cell_type": "code",
            "execution_count": 27,
            "metadata": {},
            "outputs": [],
            "source": [
                "print(my_dict[\"output_mult\"][\"results\"][\"predictions\"][1][\"input_text\"][:7])"
            ]
        }
    ],
    "metadata": {
        "kernelspec": {
            "display_name": "base",
            "language": "python",
            "name": "python3"
        },
        "language_info": {
            "codemirror_mode": {
                "name": "ipython",
                "version": 3
            },
            "file_extension": ".py",
            "mimetype": "text/x-python",
            "name": "python",
            "nbconvert_exporter": "python",
            "pygments_lexer": "ipython3",
            "version": "3.9.7 (default, Sep 16 2021, 16:59:28) [MSC v.1916 64 bit (AMD64)]"
        },
        "varInspector": {
            "cols": {
                "lenName": 16,
                "lenType": 16,
                "lenVar": 40
            },
            "kernels_config": {
                "python": {
                    "delete_cmd_postfix": "",
                    "delete_cmd_prefix": "del ",
                    "library": "var_list.py",
                    "varRefreshCmd": "print(var_dic_list())"
                },
                "r": {
                    "delete_cmd_postfix": ") ",
                    "delete_cmd_prefix": "rm(",
                    "library": "var_list.r",
                    "varRefreshCmd": "cat(var_dic_list()) "
                }
            },
            "types_to_exclude": [
                "module",
                "function",
                "builtin_function_or_method",
                "instance",
                "_Feature"
            ],
            "window_display": false
        },
        "vscode": {
            "interpreter": {
                "hash": "54b57a9d7255aa9bd89013014712be1af3e9c0518087b34529522b12b0bc87de"
            }
        }
    },
    "nbformat": 4,
    "nbformat_minor": 2
}