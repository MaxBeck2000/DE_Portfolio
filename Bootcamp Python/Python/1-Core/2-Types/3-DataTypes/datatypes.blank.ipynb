{
    "cells": [
        {
            "attachments": {},
            "cell_type": "markdown",
            "metadata": {},
            "source": [
                "---\n",
                "# 3. Built-in Types for Representing Data\n",
                "---\n",
                "\n",
                "In Python, data types fall under several categories:\n",
                "\n",
                "- 'No data' (`None`)\n",
                "- Numbers (`bool`, `int`, `float`, `complex`)\n",
                "- Sequences (`str`, `list`, `tuple`, `range`)\n",
                "- Maps (`dict`)\n",
                "- Sets (`set`, `frozenset`)\n",
                "\n",
                "In this notebook, we'll review the first two of the items on this list. The remaining items will be covered in subsequent notebooks. \n"
            ]
        },
        {
            "cell_type": "markdown",
            "metadata": {},
            "source": [
                "## 3.1 `None`: the `NoneType` Data Type\n",
                "\n",
                "The value `None` represents 'no value' (as opposed to 'zero')."
            ]
        },
        {
            "cell_type": "markdown",
            "metadata": {},
            "source": [
                "**Warning**: `None` (without quotes) is different from `'None'` (with quotes). The former is the NoneType data type where the latter is a string object 'None'."
            ]
        },
        {
            "cell_type": "code",
            "execution_count": 2,
            "metadata": {},
            "outputs": [
                {
                    "name": "stdout",
                    "output_type": "stream",
                    "text": [
                        "The type of None is <class 'NoneType'>\n",
                        "The type of \"HELLO\" is <class 'str'>\n"
                    ]
                }
            ],
            "source": [
                "print(f'The type of None is {type(None)}')\n",
                "print(f'The type of \"HELLO\" is {type(\"HELLO\")}')"
            ]
        },
        {
            "cell_type": "code",
            "execution_count": 3,
            "metadata": {},
            "outputs": [
                {
                    "data": {
                        "text/plain": [
                            "NoneType"
                        ]
                    },
                    "execution_count": 3,
                    "metadata": {},
                    "output_type": "execute_result"
                }
            ],
            "source": [
                "my_var = None\n",
                "type(my_var)"
            ]
        },
        {
            "cell_type": "code",
            "execution_count": 4,
            "metadata": {},
            "outputs": [
                {
                    "name": "stdout",
                    "output_type": "stream",
                    "text": [
                        "num is an integer buddy\n"
                    ]
                }
            ],
            "source": [
                "my_num = 10\n",
                "if type(my_num) == int:\n",
                "    print('num is an integer buddy')"
            ]
        },
        {
            "cell_type": "code",
            "execution_count": 6,
            "metadata": {},
            "outputs": [
                {
                    "name": "stdout",
                    "output_type": "stream",
                    "text": [
                        "no data buddy\n"
                    ]
                }
            ],
            "source": [
                "my_var = None\n",
                "# if type(my_var) == Nonetype:\n",
                "#     print('no data buddy')\n",
                "if my_var == None:\n",
                "    print('no data buddy')\n"
            ]
        },
        {
            "cell_type": "markdown",
            "metadata": {},
            "source": [
                "When a function does not have a return statement, it returns `None`"
            ]
        },
        {
            "cell_type": "code",
            "execution_count": 7,
            "metadata": {},
            "outputs": [
                {
                    "name": "stdout",
                    "output_type": "stream",
                    "text": [
                        "hello max \n"
                    ]
                }
            ],
            "source": [
                "def greeting(name_arg):\n",
                "    print(f'hello {name_arg} ')\n",
                "greeting_msg = greeting('max')"
            ]
        },
        {
            "cell_type": "code",
            "execution_count": 8,
            "metadata": {},
            "outputs": [
                {
                    "name": "stdout",
                    "output_type": "stream",
                    "text": [
                        "None\n"
                    ]
                }
            ],
            "source": [
                "print(greeting_msg)"
            ]
        },
        {
            "cell_type": "code",
            "execution_count": null,
            "metadata": {},
            "outputs": [],
            "source": []
        },
        {
            "cell_type": "code",
            "execution_count": null,
            "metadata": {},
            "outputs": [],
            "source": []
        },
        {
            "attachments": {},
            "cell_type": "markdown",
            "metadata": {},
            "source": [
                "### 3.1.1 Concept Check: None\n",
                "\n",
                "1. What is printed out, `oranges` or `lemons`?\n",
                "```\n",
                "choice = None\n",
                "if choice=='None':\n",
                "    print('oranges')\n",
                "else:\n",
                "    print('lemons')\n",
                "```\n",
                "\n",
                "\n",
                "2. What is `None + None`"
            ]
        },
        {
            "cell_type": "code",
            "execution_count": 9,
            "metadata": {},
            "outputs": [
                {
                    "name": "stdout",
                    "output_type": "stream",
                    "text": [
                        "lemons\n"
                    ]
                }
            ],
            "source": [
                "choice = None\n",
                "if choice == 'None':\n",
                "    print('oranges')\n",
                "else:\n",
                "    print('lemons')"
            ]
        },
        {
            "cell_type": "code",
            "execution_count": 10,
            "metadata": {},
            "outputs": [
                {
                    "ename": "TypeError",
                    "evalue": "unsupported operand type(s) for +: 'NoneType' and 'NoneType'",
                    "output_type": "error",
                    "traceback": [
                        "\u001b[1;31m---------------------------------------------------------------------------\u001b[0m",
                        "\u001b[1;31mTypeError\u001b[0m                                 Traceback (most recent call last)",
                        "Cell \u001b[1;32mIn[10], line 1\u001b[0m\n\u001b[1;32m----> 1\u001b[0m \u001b[38;5;28;43;01mNone\u001b[39;49;00m\u001b[43m \u001b[49m\u001b[38;5;241;43m+\u001b[39;49m\u001b[43m \u001b[49m\u001b[38;5;28;43;01mNone\u001b[39;49;00m\n",
                        "\u001b[1;31mTypeError\u001b[0m: unsupported operand type(s) for +: 'NoneType' and 'NoneType'"
                    ]
                }
            ],
            "source": [
                "None + None"
            ]
        },
        {
            "cell_type": "markdown",
            "metadata": {},
            "source": [
                "\n",
                "## 3.2 Numbers\n",
                "\n",
                "Four built-in types of number are `bool`, `int`, `float` and `complex`. \n",
                "\n",
                "Operations between different types of numbers will produce specific types of number as an output. \n",
                "\n",
                "In general, the accuracy of output is prioritised, as the following examples show.\n"
            ]
        },
        {
            "cell_type": "markdown",
            "metadata": {},
            "source": [
                "### 3.2.1 The Boolean Data Type\n",
                "\n",
                "The Boolean data type has two values: `True` and `False`, numerically equivalent to 1 and 0 respectively.\n",
                "\n",
                "**Warning**  \n",
                "- Note the capital first letters (not `true`). \n",
                "- Note the absence of quotes (not `'True'` -- what data type is this?)\n",
                "\n"
            ]
        },
        {
            "cell_type": "code",
            "execution_count": 11,
            "metadata": {},
            "outputs": [
                {
                    "name": "stdout",
                    "output_type": "stream",
                    "text": [
                        "<class 'bool'>\n"
                    ]
                }
            ],
            "source": [
                "x = True\n",
                "print(type(x))"
            ]
        },
        {
            "cell_type": "code",
            "execution_count": 12,
            "metadata": {},
            "outputs": [
                {
                    "name": "stdout",
                    "output_type": "stream",
                    "text": [
                        "<class 'str'>\n"
                    ]
                }
            ],
            "source": [
                "y = 'True'\n",
                "print(type(y))"
            ]
        },
        {
            "cell_type": "code",
            "execution_count": 13,
            "metadata": {},
            "outputs": [
                {
                    "data": {
                        "text/plain": [
                            "False"
                        ]
                    },
                    "execution_count": 13,
                    "metadata": {},
                    "output_type": "execute_result"
                }
            ],
            "source": [
                "a = 15\n",
                "a < 10 "
            ]
        },
        {
            "cell_type": "code",
            "execution_count": 16,
            "metadata": {},
            "outputs": [
                {
                    "data": {
                        "text/plain": [
                            "False"
                        ]
                    },
                    "execution_count": 16,
                    "metadata": {},
                    "output_type": "execute_result"
                }
            ],
            "source": [
                "b = 20 \n",
                "b == 149000000"
            ]
        },
        {
            "attachments": {},
            "cell_type": "markdown",
            "metadata": {},
            "source": [
                "### 3.2.2 Adding booleans\n",
                "\n",
                "- Using the '+' operator on booleans results in an integer.\n",
                "- we can also use the built-in function `sum` to add up the `True` occurrences in a `list`, or `tuple`:"
            ]
        },
        {
            "cell_type": "code",
            "execution_count": 18,
            "metadata": {},
            "outputs": [
                {
                    "name": "stdout",
                    "output_type": "stream",
                    "text": [
                        "The value of z is 1\n"
                    ]
                }
            ],
            "source": [
                "x = True\n",
                "y = False\n",
                "z = x + y\n",
                "print(f'The value of z is {z}')"
            ]
        },
        {
            "cell_type": "code",
            "execution_count": 19,
            "metadata": {},
            "outputs": [
                {
                    "data": {
                        "text/plain": [
                            "19"
                        ]
                    },
                    "execution_count": 19,
                    "metadata": {},
                    "output_type": "execute_result"
                }
            ],
            "source": [
                "my_numbers = [1, 2, 6, 10]\n",
                "sum(my_numbers)"
            ]
        },
        {
            "attachments": {},
            "cell_type": "markdown",
            "metadata": {},
            "source": [
                "### 3.2.3 Concept Check: Adding Booleans\n",
                "\n",
                "The lists `alices_answers` and `bobs_answers` store values that represent whether each of their answers was correct (or not). Use the `sum` built-in function to print out the number of correct answers they scored.\n"
            ]
        },
        {
            "cell_type": "code",
            "execution_count": 27,
            "metadata": {},
            "outputs": [
                {
                    "name": "stdout",
                    "output_type": "stream",
                    "text": [
                        "The number of answers that Alice got correct is 3\n",
                        "The number of answers that Bob got correct is 4\n"
                    ]
                }
            ],
            "source": [
                "alices_answers = [True, False, True, False, True, False]\n",
                "bobs_answers = [False, True, False, True, False, True, False, True, False]\n",
                "\n",
                "print(f'The number of answers that Alice got correct is {sum(alices_answers)}')\n",
                "print(f'The number of answers that Bob got correct is {sum(bobs_answers)}')"
            ]
        },
        {
            "cell_type": "markdown",
            "metadata": {},
            "source": [
                "### 3.2.4  Integer Numbers \n",
                "\n",
                "In addition to the four regular arithmetic operators (`+`, `-`, `*` and `/`) we also have:\n",
                "- the power operator, '`**`'\n",
                "- the 'floor division' operator, '`//`'\n",
                "- the 'modulo' operator, '`%`'\n"
            ]
        },
        {
            "cell_type": "code",
            "execution_count": 29,
            "metadata": {},
            "outputs": [
                {
                    "name": "stdout",
                    "output_type": "stream",
                    "text": [
                        "200\n",
                        "<class 'int'>\n"
                    ]
                }
            ],
            "source": [
                "a = 10 \n",
                "b = 20 \n",
                "print(a*b)\n",
                "print(type(a*b))"
            ]
        },
        {
            "cell_type": "code",
            "execution_count": 30,
            "metadata": {},
            "outputs": [
                {
                    "name": "stdout",
                    "output_type": "stream",
                    "text": [
                        "3.0\n",
                        "<class 'float'>\n"
                    ]
                }
            ],
            "source": [
                "c = 15 \n",
                "d = 5 \n",
                "print(c/d)\n",
                "print(type(c/d))"
            ]
        },
        {
            "cell_type": "code",
            "execution_count": null,
            "metadata": {},
            "outputs": [],
            "source": []
        },
        {
            "attachments": {},
            "cell_type": "markdown",
            "metadata": {},
            "source": [
                "\n",
                "### 3.2.5 Floor division and modulo operators\n",
                "- **floor division** divides two integers and returns the **integer part** of the result\n",
                "- **modulo division** divides two integers and returns the **remainder** of the result - note this is always a non-negative number"
            ]
        },
        {
            "cell_type": "code",
            "execution_count": 34,
            "metadata": {},
            "outputs": [
                {
                    "data": {
                        "text/plain": [
                            "1"
                        ]
                    },
                    "execution_count": 34,
                    "metadata": {},
                    "output_type": "execute_result"
                }
            ],
            "source": [
                "5//3\n"
            ]
        },
        {
            "cell_type": "code",
            "execution_count": 33,
            "metadata": {},
            "outputs": [
                {
                    "data": {
                        "text/plain": [
                            "1.6666666666666667"
                        ]
                    },
                    "execution_count": 33,
                    "metadata": {},
                    "output_type": "execute_result"
                }
            ],
            "source": [
                "5/3"
            ]
        },
        {
            "cell_type": "code",
            "execution_count": 35,
            "metadata": {},
            "outputs": [
                {
                    "data": {
                        "text/plain": [
                            "1"
                        ]
                    },
                    "execution_count": 35,
                    "metadata": {},
                    "output_type": "execute_result"
                }
            ],
            "source": [
                "15 % 2\n"
            ]
        },
        {
            "cell_type": "code",
            "execution_count": 36,
            "metadata": {},
            "outputs": [
                {
                    "data": {
                        "text/plain": [
                            "7"
                        ]
                    },
                    "execution_count": 36,
                    "metadata": {},
                    "output_type": "execute_result"
                }
            ],
            "source": [
                "15 // 2\n"
            ]
        },
        {
            "cell_type": "code",
            "execution_count": 46,
            "metadata": {},
            "outputs": [
                {
                    "name": "stdout",
                    "output_type": "stream",
                    "text": [
                        "9999999999999999999999999999999999999999999999999999999999999999999999999999999999999999999999999999999999999999999999999999999999999999999999999999999992 is even\n"
                    ]
                }
            ],
            "source": [
                "num = input('enter a number buddy')\n",
                "int_num = int(num)\n",
                "type(int_num)\n",
                "if int_num % 2 == 0:\n",
                "    print(f'{num} is even')\n",
                "else:\n",
                "    print(f'{num} is odd')"
            ]
        },
        {
            "cell_type": "code",
            "execution_count": 41,
            "metadata": {},
            "outputs": [
                {
                    "data": {
                        "text/plain": [
                            "0"
                        ]
                    },
                    "execution_count": 41,
                    "metadata": {},
                    "output_type": "execute_result"
                }
            ],
            "source": [
                "14%2"
            ]
        },
        {
            "attachments": {},
            "cell_type": "markdown",
            "metadata": {},
            "source": [
                "\n",
                "### 3.2.6 Concept Check: division and modulo operators\n",
                "\n",
                "The cub scouts are to be given iced buns. It's a requirement that they each receive the same number of iced buns. \n",
                "\n",
                "For given numbers of cub scouts and iced buns, find:\n",
                "- the number of iced buns each cub scout receives\n",
                "- the number of iced buns left over"
            ]
        },
        {
            "cell_type": "code",
            "execution_count": 49,
            "metadata": {},
            "outputs": [
                {
                    "name": "stdout",
                    "output_type": "stream",
                    "text": [
                        "Number of buns per cub is 14\n",
                        "Number of buns left over is 30\n"
                    ]
                }
            ],
            "source": [
                "num_iced_buns = 576\n",
                "num_cub_scouts = 39\n",
                "\n",
                "print(f'Number of buns per cub is {num_iced_buns//num_cub_scouts}')\n",
                "print(f'Number of buns left over is {num_iced_buns%num_cub_scouts}')"
            ]
        },
        {
            "cell_type": "markdown",
            "metadata": {},
            "source": [
                "### 3.2.7  Floating Point Numbers \n",
                "\n",
                "This type can hold non-integer (real) numbers\n",
                "\n",
                "- note that 5.0 is a `float`, not an `int`\n",
                "- large floating point numbers may be printed in scientific format e.g. 'e+6' means 'million'"
            ]
        },
        {
            "cell_type": "code",
            "execution_count": 50,
            "metadata": {},
            "outputs": [
                {
                    "name": "stdout",
                    "output_type": "stream",
                    "text": [
                        "205.0\n",
                        "<class 'float'>\n"
                    ]
                }
            ],
            "source": [
                "a = 20.5 \n",
                "b = 10\n",
                "c = a*b\n",
                "print(c)\n",
                "print(type(c))"
            ]
        },
        {
            "cell_type": "code",
            "execution_count": 51,
            "metadata": {},
            "outputs": [
                {
                    "name": "stdout",
                    "output_type": "stream",
                    "text": [
                        "6.0\n",
                        "<class 'float'>\n"
                    ]
                }
            ],
            "source": [
                "a = 2.5\n",
                "b = 3.5\n",
                "c = a+b\n",
                "print(c)\n",
                "print(type(c))"
            ]
        },
        {
            "cell_type": "code",
            "execution_count": 52,
            "metadata": {},
            "outputs": [
                {
                    "data": {
                        "text/plain": [
                            "True"
                        ]
                    },
                    "execution_count": 52,
                    "metadata": {},
                    "output_type": "execute_result"
                }
            ],
            "source": [
                "4 == 4.0"
            ]
        },
        {
            "cell_type": "code",
            "execution_count": 53,
            "metadata": {},
            "outputs": [
                {
                    "name": "stdout",
                    "output_type": "stream",
                    "text": [
                        "{4: 'hello', 5: 'the kubricks'}\n"
                    ]
                }
            ],
            "source": [
                "my_dict = {4: 'hello'}\n",
                "my_dict[5] = 'the kubricks'\n",
                "print(my_dict)"
            ]
        },
        {
            "cell_type": "code",
            "execution_count": 54,
            "metadata": {},
            "outputs": [
                {
                    "name": "stdout",
                    "output_type": "stream",
                    "text": [
                        "{4: 'hello', 5: 'world'}\n"
                    ]
                }
            ],
            "source": [
                "my_dict[5] = 'world'\n",
                "print(my_dict)"
            ]
        },
        {
            "cell_type": "code",
            "execution_count": 55,
            "metadata": {},
            "outputs": [
                {
                    "name": "stdout",
                    "output_type": "stream",
                    "text": [
                        "{4: 'wednesday', 5: 'world'}\n"
                    ]
                }
            ],
            "source": [
                "my_dict[4.0] = 'wednesday'\n",
                "print(my_dict)"
            ]
        },
        {
            "attachments": {},
            "cell_type": "markdown",
            "metadata": {},
            "source": [
                "## 3.3 Built-in function: `isinstance`\n",
                "\n",
                "The built-in function `isinstance` returns `True` if the first argument is an instance of the second argument, and `False` otherwise. \n",
                "\n",
                "Example: are the objects `x` and `y` instance of the 'Integer' (`int`) type?"
            ]
        },
        {
            "cell_type": "code",
            "execution_count": 56,
            "metadata": {},
            "outputs": [
                {
                    "name": "stdout",
                    "output_type": "stream",
                    "text": [
                        "x is an int\n",
                        "y is NOT an int\n"
                    ]
                }
            ],
            "source": [
                "x = 42\n",
                "y = 42.0\n",
                "\n",
                "if isinstance(x,int):\n",
                "    print('x is an int')\n",
                "else:\n",
                "    print('x is NOT an int')\n",
                "\n",
                "if isinstance(y,int):\n",
                "    print('y is an int')\n",
                "else:\n",
                "    print('y is NOT an int')\n"
            ]
        },
        {
            "attachments": {},
            "cell_type": "markdown",
            "metadata": {},
            "source": [
                "\n",
                "There's a subtlety to the logic of the `isinstance` function that we'll show here, though it does introduce a concept that is properly covered much later on in the course, so we won't go into much detail here. \n",
                "\n",
                "Let's set `x` to be the boolean value `True`: is this an instance of an integer?"
            ]
        },
        {
            "cell_type": "code",
            "execution_count": 58,
            "metadata": {},
            "outputs": [
                {
                    "name": "stdout",
                    "output_type": "stream",
                    "text": [
                        "x is an int\n"
                    ]
                }
            ],
            "source": [
                "x = True\n",
                "if isinstance(x, int):\n",
                "    print('x is an int')\n",
                "else:\n",
                "    print('x is not int')"
            ]
        },
        {
            "cell_type": "code",
            "execution_count": 59,
            "metadata": {},
            "outputs": [
                {
                    "data": {
                        "text/plain": [
                            "False"
                        ]
                    },
                    "execution_count": 59,
                    "metadata": {},
                    "output_type": "execute_result"
                }
            ],
            "source": [
                "type(x) == int"
            ]
        },
        {
            "attachments": {},
            "cell_type": "markdown",
            "metadata": {},
            "source": [
                "The explanation for this surprising result is that there is a family tree of Python types, and the `bool` type is a descendent (or 'child') of the `int` type. (The `bool` type is a special version of the `int` type, that can only take two values, `0` and `1`).  \n",
                "\n",
                "The `isinstance(x,t)` function will return `True` if `type(x)` is `t`, *or if `type(x)` is any of the 'descendents' of `t`*, when considering the Python 'family tree' of Python types.   \n",
                "\n",
                "In our case, `type(x)` will be `bool`, which is a descendent of `int`, so  `isinstance(x,int)` function returns `True`! \n",
                "\n",
                "For most uses of `isinstance`, we don't have to consider the 'parent' types, but it is worthwhile being aware of this subtlety.\n"
            ]
        }
    ],
    "metadata": {
        "kernelspec": {
            "display_name": "Python 3",
            "language": "python",
            "name": "python3"
        },
        "language_info": {
            "codemirror_mode": {
                "name": "ipython",
                "version": 3
            },
            "file_extension": ".py",
            "mimetype": "text/x-python",
            "name": "python",
            "nbconvert_exporter": "python",
            "pygments_lexer": "ipython3",
            "version": "3.11.8"
        },
        "varInspector": {
            "cols": {
                "lenName": 16,
                "lenType": 16,
                "lenVar": 40
            },
            "kernels_config": {
                "python": {
                    "delete_cmd_postfix": "",
                    "delete_cmd_prefix": "del ",
                    "library": "var_list.py",
                    "varRefreshCmd": "print(var_dic_list())"
                },
                "r": {
                    "delete_cmd_postfix": ") ",
                    "delete_cmd_prefix": "rm(",
                    "library": "var_list.r",
                    "varRefreshCmd": "cat(var_dic_list()) "
                }
            },
            "types_to_exclude": [
                "module",
                "function",
                "builtin_function_or_method",
                "instance",
                "_Feature"
            ],
            "window_display": false
        },
        "vscode": {
            "interpreter": {
                "hash": "4f77c56a1733e9d421c3a053160f731a1cdaa61fcda062af7a855a05be992435"
            }
        }
    },
    "nbformat": 4,
    "nbformat_minor": 2
}
