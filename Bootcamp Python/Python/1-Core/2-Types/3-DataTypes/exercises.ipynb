{
    "cells": [
        {
            "attachments": {},
            "cell_type": "markdown",
            "metadata": {},
            "source": [
                "# 3. Data Types"
            ]
        },
        {
            "attachments": {},
            "cell_type": "markdown",
            "metadata": {},
            "source": [
                "## 3.1 Alice and Bob's answers once more\n",
                "\n",
                "### 3.1.1 Exercise: Bools\n",
                "\n",
                "The lists `alices_answers` and `bobs_answers` store Boolean values that represent whether each of their answers was correct (or not). \n",
                "\n",
                "Print out the total number of answers they gave, and the number of *incorrect* answers.\n",
                "\n",
                "### 3.1.2 Extension: formatted print\n",
                "\n",
                "Write a function `get_percent_string` that has an input argument `list_of_answers` containing boolean values, and returns a string that contains the percentage of answers that Alice and Bob got correct, to one decimal place e.g. `'50.0%'` for Alice's answers, in this example. \n"
            ]
        },
        {
            "cell_type": "code",
            "execution_count": 3,
            "metadata": {},
            "outputs": [],
            "source": [
                "alices_answers = [True, False, True, False, True, False]\n",
                "bobs_answers = [False, True, False, True, False, True, False, True, False]\n"
            ]
        },
        {
            "attachments": {},
            "cell_type": "markdown",
            "metadata": {},
            "source": [
                "## 3.2 Exercise: Strings to Integers\n",
                "\n",
                "Write a function `get_whole_number` that has a single input argument, `input_str` and returns the whole number that this represents.\n",
                "\n",
                "The `input_str` will contain a string repesentation of a single number, which may have decimal places e.g. `'87.654'`. \n",
                "\n",
                "For the above example, the expected output from the function would be the integer `87`."
            ]
        },
        {
            "cell_type": "code",
            "execution_count": null,
            "metadata": {},
            "outputs": [],
            "source": [
                "def get_whole_number(input_str)"
            ]
        },
        {
            "cell_type": "code",
            "execution_count": null,
            "metadata": {},
            "outputs": [],
            "source": []
        },
        {
            "cell_type": "code",
            "execution_count": 4,
            "metadata": {},
            "outputs": [],
            "source": [
                "# Write and test your solution here\n"
            ]
        },
        {
            "attachments": {},
            "cell_type": "markdown",
            "metadata": {},
            "source": [
                "## 3.3 Exercise: Floor and Modulus of Negative Numbers *\n",
                "\n",
                "The cub scout group owes a number of iced buns to the girl guides group, and this is represneted as a negative number e.g.\n",
                "\n",
                "`total_iced_buns = -37`\n",
                "\n",
                "There are 10 cub scouts and they each agree to be assigned an equal number of iced buns of this debt.\n",
                "\n",
                "Can we use the floor-division and modulo operator to represent the iced-bun-debt-per-cub, and the left-over debt?\n"
            ]
        },
        {
            "cell_type": "code",
            "execution_count": 4,
            "metadata": {},
            "outputs": [],
            "source": [
                "total_iced_buns = -37\n",
                "num_cubs = 10\n"
            ]
        },
        {
            "attachments": {},
            "cell_type": "markdown",
            "metadata": {},
            "source": [
                "## 3.4 Exercise: is this a number?\n",
                "\n",
                "Write a function called `is_numeric` that returns `True` if the number is an integer, floating point number, or boolean, and `False` otherwise  \n"
            ]
        },
        {
            "cell_type": "code",
            "execution_count": 5,
            "metadata": {},
            "outputs": [],
            "source": []
        },
        {
            "attachments": {},
            "cell_type": "markdown",
            "metadata": {},
            "source": [
                "## 3.5 Exercise: Complex Numbers **\n",
                "\n",
                "You may already know that the imaginary component of a complex number is defined using the square root of `-1`. \n",
                "\n",
                "(If you are not familiar with this concept, then you can skip this exercise without fear of missing out!)\n",
                "\n",
                "\n",
                "Two of the ways to take a square root in Python are:\n",
                "- using the `**` operator\n",
                "- using the `math.sqrt` function\n",
                "\n",
                "Which of these allows you to create a complex number, e.g. $x = 1 + \\sqrt-1$\n"
            ]
        },
        {
            "cell_type": "code",
            "execution_count": 9,
            "metadata": {},
            "outputs": [],
            "source": []
        }
    ],
    "metadata": {
        "kernelspec": {
            "display_name": "Python 3",
            "language": "python",
            "name": "python3"
        },
        "language_info": {
            "codemirror_mode": {
                "name": "ipython",
                "version": 3
            },
            "file_extension": ".py",
            "mimetype": "text/x-python",
            "name": "python",
            "nbconvert_exporter": "python",
            "pygments_lexer": "ipython3",
            "version": "3.10.7"
        },
        "orig_nbformat": 4,
        "vscode": {
            "interpreter": {
                "hash": "76e997188eef07398e433a4222fff8f6bd0ad449588ae3edaade77a68f157d79"
            }
        }
    },
    "nbformat": 4,
    "nbformat_minor": 2
}
