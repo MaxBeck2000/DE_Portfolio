{
    "cells": [
        {
            "attachments": {},
            "cell_type": "markdown",
            "metadata": {},
            "source": [
                "---\n",
                "# 2. Mutability and Immutability\n",
                "---\n",
                "- **Mutability** - the ability of a certain object to be modified (to *mutate*)\n",
                "- **Immutability** - the **in**ability of a certain object to be modified. Immutability is when **no change is possible** over time\n",
                "\n",
                "If an object's value can be changed without changing its ID, then it is mutable.\n",
                "Otherwise, it is immutable. \n",
                "\n",
                "Examples of mutable objects include lists, sets and dictionaries. This means that multiple references to the same object will reflect changes made by any of the references. \n",
                "\n",
                "Examples of immutable objects include tuples, ints, floats and strings. This means that multiple references to the same object will then refer to different objects, should any of them make a change. \n",
                "\n",
                "\n"
            ]
        },
        {
            "cell_type": "code",
            "execution_count": 1,
            "metadata": {},
            "outputs": [],
            "source": [
                "def print_id_type_value(var):\n",
                "    print(f'id   : {id(var)}')\n",
                "    print(f'type : {type(var)}')\n",
                "    print(f'value: {var}')\n",
                "    print('---------------------')\n"
            ]
        },
        {
            "cell_type": "markdown",
            "metadata": {},
            "source": [
                "## 2.1 Mutable objects"
            ]
        },
        {
            "cell_type": "code",
            "execution_count": 2,
            "metadata": {},
            "outputs": [
                {
                    "name": "stdout",
                    "output_type": "stream",
                    "text": [
                        "id   : 2528906465920\n",
                        "type : <class 'list'>\n",
                        "value: [1, 2, 3, 4]\n",
                        "---------------------\n",
                        "id   : 2528906465920\n",
                        "type : <class 'list'>\n",
                        "value: [1, 2, 3, 4]\n",
                        "---------------------\n"
                    ]
                }
            ],
            "source": [
                "list_a = [1,2,3,4]\n",
                "print_id_type_value(list_a)\n",
                "list_b = list_a\n",
                "print_id_type_value(list_b)"
            ]
        },
        {
            "cell_type": "code",
            "execution_count": 5,
            "metadata": {},
            "outputs": [
                {
                    "name": "stdout",
                    "output_type": "stream",
                    "text": [
                        "id   : 2528906465920\n",
                        "type : <class 'list'>\n",
                        "value: [1, 2, 3, 4, 5, 5, 5]\n",
                        "---------------------\n",
                        "id   : 2528906465920\n",
                        "type : <class 'list'>\n",
                        "value: [1, 2, 3, 4, 5, 5, 5]\n",
                        "---------------------\n"
                    ]
                }
            ],
            "source": [
                "list_b.append(5)\n",
                "print_id_type_value(list_b)\n",
                "print_id_type_value(list_a)"
            ]
        },
        {
            "cell_type": "code",
            "execution_count": 7,
            "metadata": {},
            "outputs": [
                {
                    "name": "stdout",
                    "output_type": "stream",
                    "text": [
                        "id   : 2528906473280\n",
                        "type : <class 'dict'>\n",
                        "value: {'Cohort': 'DE35'}\n",
                        "---------------------\n",
                        "id   : 2528906473280\n",
                        "type : <class 'dict'>\n",
                        "value: {'Cohort': 'DE35'}\n",
                        "---------------------\n",
                        "id   : 2528906473280\n",
                        "type : <class 'dict'>\n",
                        "value: {'Cohort': 'DE35'}\n",
                        "---------------------\n",
                        "id   : 2528906473280\n",
                        "type : <class 'dict'>\n",
                        "value: {'Cohort': 'DE35'}\n",
                        "---------------------\n"
                    ]
                }
            ],
            "source": [
                "dict_a = {'Cohort': 'DE35'}\n",
                "print_id_type_value(dict_a)\n",
                "dict_b = dict_a\n",
                "dict_c = dict_a\n",
                "dict_d = dict_b\n",
                "print_id_type_value(dict_b)\n",
                "print_id_type_value(dict_c)\n",
                "print_id_type_value(dict_d)"
            ]
        },
        {
            "cell_type": "code",
            "execution_count": 8,
            "metadata": {},
            "outputs": [
                {
                    "name": "stdout",
                    "output_type": "stream",
                    "text": [
                        "id   : 2528906473280\n",
                        "type : <class 'dict'>\n",
                        "value: {'Cohort': 'DE35', 'Module': 'Python'}\n",
                        "---------------------\n",
                        "id   : 2528906473280\n",
                        "type : <class 'dict'>\n",
                        "value: {'Cohort': 'DE35', 'Module': 'Python'}\n",
                        "---------------------\n",
                        "id   : 2528906473280\n",
                        "type : <class 'dict'>\n",
                        "value: {'Cohort': 'DE35', 'Module': 'Python'}\n",
                        "---------------------\n",
                        "id   : 2528906473280\n",
                        "type : <class 'dict'>\n",
                        "value: {'Cohort': 'DE35', 'Module': 'Python'}\n",
                        "---------------------\n"
                    ]
                }
            ],
            "source": [
                "dict_a['Module'] = 'Python'\n",
                "print_id_type_value(dict_a)\n",
                "print_id_type_value(dict_b)\n",
                "print_id_type_value(dict_c)\n",
                "print_id_type_value(dict_d)"
            ]
        },
        {
            "cell_type": "markdown",
            "metadata": {},
            "source": [
                "## 2.2 Immutable objects"
            ]
        },
        {
            "cell_type": "code",
            "execution_count": 11,
            "metadata": {},
            "outputs": [
                {
                    "name": "stdout",
                    "output_type": "stream",
                    "text": [
                        "id   : 2528906899120\n",
                        "type : <class 'str'>\n",
                        "value: Hello\n",
                        "---------------------\n",
                        "id   : 2528906899120\n",
                        "type : <class 'str'>\n",
                        "value: Hello\n",
                        "---------------------\n"
                    ]
                }
            ],
            "source": [
                "str_a = 'Hello'\n",
                "print_id_type_value(str_a)\n",
                "str_b = str_a\n",
                "print_id_type_value(str_b)\n"
            ]
        },
        {
            "cell_type": "code",
            "execution_count": 12,
            "metadata": {},
            "outputs": [
                {
                    "name": "stdout",
                    "output_type": "stream",
                    "text": [
                        "id   : 2528906899888\n",
                        "type : <class 'str'>\n",
                        "value: HelloWorld\n",
                        "---------------------\n",
                        "id   : 2528906899120\n",
                        "type : <class 'str'>\n",
                        "value: Hello\n",
                        "---------------------\n"
                    ]
                }
            ],
            "source": [
                "str_a = str_a + 'World'\n",
                "print_id_type_value(str_a)\n",
                "print_id_type_value(str_b)"
            ]
        },
        {
            "cell_type": "code",
            "execution_count": 13,
            "metadata": {},
            "outputs": [
                {
                    "name": "stdout",
                    "output_type": "stream",
                    "text": [
                        "id   : 140705598690376\n",
                        "type : <class 'int'>\n",
                        "value: 10\n",
                        "---------------------\n",
                        "id   : 140705598690376\n",
                        "type : <class 'int'>\n",
                        "value: 10\n",
                        "---------------------\n"
                    ]
                }
            ],
            "source": [
                "int_a = 10\n",
                "int_b = 10\n",
                "print_id_type_value(int_a)\n",
                "print_id_type_value(int_b)"
            ]
        },
        {
            "cell_type": "code",
            "execution_count": 14,
            "metadata": {},
            "outputs": [
                {
                    "name": "stdout",
                    "output_type": "stream",
                    "text": [
                        "id   : 140705598691976\n",
                        "type : <class 'int'>\n",
                        "value: 60\n",
                        "---------------------\n",
                        "id   : 140705598690376\n",
                        "type : <class 'int'>\n",
                        "value: 10\n",
                        "---------------------\n"
                    ]
                }
            ],
            "source": [
                "int_a = int_a + 50\n",
                "print_id_type_value(int_a)\n",
                "print_id_type_value(int_b)"
            ]
        }
    ],
    "metadata": {
        "kernelspec": {
            "display_name": "Python 3",
            "language": "python",
            "name": "python3"
        },
        "language_info": {
            "codemirror_mode": {
                "name": "ipython",
                "version": 3
            },
            "file_extension": ".py",
            "mimetype": "text/x-python",
            "name": "python",
            "nbconvert_exporter": "python",
            "pygments_lexer": "ipython3",
            "version": "3.11.8"
        },
        "varInspector": {
            "cols": {
                "lenName": 16,
                "lenType": 16,
                "lenVar": 40
            },
            "kernels_config": {
                "python": {
                    "delete_cmd_postfix": "",
                    "delete_cmd_prefix": "del ",
                    "library": "var_list.py",
                    "varRefreshCmd": "print(var_dic_list())"
                },
                "r": {
                    "delete_cmd_postfix": ") ",
                    "delete_cmd_prefix": "rm(",
                    "library": "var_list.r",
                    "varRefreshCmd": "cat(var_dic_list()) "
                }
            },
            "types_to_exclude": [
                "module",
                "function",
                "builtin_function_or_method",
                "instance",
                "_Feature"
            ],
            "window_display": false
        },
        "vscode": {
            "interpreter": {
                "hash": "4f77c56a1733e9d421c3a053160f731a1cdaa61fcda062af7a855a05be992435"
            }
        }
    },
    "nbformat": 4,
    "nbformat_minor": 2
}
