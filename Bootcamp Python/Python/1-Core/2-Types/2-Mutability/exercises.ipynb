{
    "cells": [
        {
            "attachments": {},
            "cell_type": "markdown",
            "metadata": {},
            "source": [
                "# 2. Mutability\n",
                "\n",
                "Before you run each block of python code, can you predict what the value of `z` will be?\n",
                "\n",
                "Then check your answers by running the code"
            ]
        },
        {
            "attachments": {},
            "cell_type": "markdown",
            "metadata": {},
            "source": [
                "## 2.1 Exercise 1\n",
                "```\n",
                "x = 10\n",
                "y = x\n",
                "z = y\n",
                "y = 20\n",
                "\n",
                "# 2. value of z=?\n",
                "\n",
                "# 2. a) 10\n",
                "# 2. b) 20\n",
                "# 2. c) [x]\n",
                "# 2. d) [y]\n",
                "# 2. e) [x, y]\n",
                "```"
            ]
        },
        {
            "cell_type": "code",
            "execution_count": null,
            "metadata": {},
            "outputs": [],
            "source": []
        },
        {
            "cell_type": "code",
            "execution_count": 1,
            "metadata": {},
            "outputs": [],
            "source": []
        },
        {
            "attachments": {},
            "cell_type": "markdown",
            "metadata": {},
            "source": [
                "## 2.2 Exercise 2\n",
                "```\n",
                "x = []\n",
                "z = x\n",
                "y = x\n",
                "y.append(1)\n",
                "\n",
                "# 2. value of z=?\n",
                "\n",
                "# 2. a) []\n",
                "# 2. b) [x, 1]\n",
                "# 2. c) [1,x]\n",
                "# 2. d) [1]\n",
                "# 2. e) 1\n",
                "\n",
                "```"
            ]
        },
        {
            "cell_type": "code",
            "execution_count": null,
            "metadata": {},
            "outputs": [],
            "source": []
        },
        {
            "cell_type": "code",
            "execution_count": 2,
            "metadata": {},
            "outputs": [],
            "source": []
        },
        {
            "attachments": {},
            "cell_type": "markdown",
            "metadata": {},
            "source": [
                "## 2.3 Exercise 3\n",
                "```\n",
                "z = 10\n",
                "y = z\n",
                "y = y+1\n",
                "z = z+1\n",
                "\n",
                "# 2. value of z=?\n",
                "# 2. a) 10\n",
                "# 2. b) 11\n",
                "# 2. c) 12\n",
                "# 2. d) [10, 1]\n",
                "# 2. e) [10, 1, 1]\n",
                "\n",
                "```"
            ]
        },
        {
            "cell_type": "code",
            "execution_count": null,
            "metadata": {},
            "outputs": [],
            "source": []
        },
        {
            "cell_type": "code",
            "execution_count": 3,
            "metadata": {},
            "outputs": [],
            "source": []
        },
        {
            "attachments": {},
            "cell_type": "markdown",
            "metadata": {},
            "source": [
                "## 2.4 Exercise 4\n",
                "```\n",
                "z = 10\n",
                "my_list = [z]\n",
                "my_list[0] = my_list[0]+1\n",
                "\n",
                "# 2. value of z=?\n",
                "# 2. a) 10\n",
                "# 2. b) 11\n",
                "# 2. c) 1\n",
                "# 2. d) [0, 1]\n",
                "# 2. e) 0\n",
                "\n",
                "```"
            ]
        },
        {
            "cell_type": "code",
            "execution_count": null,
            "metadata": {},
            "outputs": [],
            "source": []
        },
        {
            "cell_type": "code",
            "execution_count": 8,
            "metadata": {
                "scrolled": true
            },
            "outputs": [],
            "source": []
        },
        {
            "cell_type": "code",
            "execution_count": 6,
            "metadata": {},
            "outputs": [],
            "source": []
        },
        {
            "attachments": {},
            "cell_type": "markdown",
            "metadata": {},
            "source": [
                "## 2.5 Exercise 5\n",
                "```\n",
                "z = 10\n",
                "d = {'z':z}\n",
                "d['z'] = 20\n",
                "\n",
                "# 2. value of z=?\n",
                "\n",
                "# 2. value of z=?\n",
                "# 2. a) z\n",
                "# 2. b) 'z'\n",
                "# 2. c) 10\n",
                "# 2. d) 20\n",
                "# 2. e) {'z':20}\n",
                "\n",
                "```"
            ]
        },
        {
            "cell_type": "code",
            "execution_count": null,
            "metadata": {},
            "outputs": [],
            "source": []
        },
        {
            "cell_type": "code",
            "execution_count": 9,
            "metadata": {},
            "outputs": [],
            "source": []
        },
        {
            "attachments": {},
            "cell_type": "markdown",
            "metadata": {},
            "source": [
                "## 2.6 Exercise 6\n",
                "```\n",
                "x = 10\n",
                "y = x\n",
                "y = 20\n",
                "z = y\n",
                "\n",
                "# 2. value of z=?\n",
                "\n",
                "# 2. a) 10\n",
                "# 2. b) 20\n",
                "# 2. c) [10, 20]\n",
                "# 2. d) [20, 10]\n",
                "# 2. e) []\n",
                "\n",
                "```"
            ]
        },
        {
            "cell_type": "code",
            "execution_count": null,
            "metadata": {},
            "outputs": [],
            "source": []
        },
        {
            "cell_type": "code",
            "execution_count": 10,
            "metadata": {},
            "outputs": [],
            "source": []
        },
        {
            "attachments": {},
            "cell_type": "markdown",
            "metadata": {},
            "source": [
                "## 2.7 Exercise 7\n",
                "```\n",
                "x = [10, 20, 30]\n",
                "y = [40, 50, 60]\n",
                "z = x+y\n",
                "\n",
                "# 2. what is the value of z[1]?\n",
                "\n",
                "# 2. a) 10\n",
                "# 2. b) 20\n",
                "# 2. c) 50\n",
                "# 2. d) 70\n",
                "# 2. e) [10, 40]\n",
                "# 2. f) [20, 50]\n",
                "```"
            ]
        },
        {
            "cell_type": "code",
            "execution_count": null,
            "metadata": {},
            "outputs": [],
            "source": []
        },
        {
            "cell_type": "code",
            "execution_count": 11,
            "metadata": {},
            "outputs": [],
            "source": []
        },
        {
            "attachments": {},
            "cell_type": "markdown",
            "metadata": {},
            "source": [
                "\n",
                "## 2.8 Exercise 8\n",
                "```\n",
                "x = [10, 20, 30]\n",
                "y = [40, 50, 60]\n",
                "z = [x,y]\n",
                "\n",
                "# 2. what is the value of z[1]?\n",
                "\n",
                "# 2. a) 10\n",
                "# 2. b) 20\n",
                "# 2. c) [10, 40]\n",
                "# 2. d) [20, 50]\n",
                "# 2. e) [10, 20, 30]\n",
                "# 2. f) [40, 50, 60]\n",
                "```"
            ]
        },
        {
            "cell_type": "code",
            "execution_count": null,
            "metadata": {},
            "outputs": [],
            "source": []
        },
        {
            "cell_type": "code",
            "execution_count": 12,
            "metadata": {},
            "outputs": [],
            "source": []
        },
        {
            "attachments": {},
            "cell_type": "markdown",
            "metadata": {},
            "source": [
                "## 2.9 Exercise 9\n",
                "\n",
                "```\n",
                "x = ('a', 2, [2,3,4])\n",
                "x[2].append(5)\n",
                "\n",
                "Which of the following best describes the above code:\n",
                "\n",
                "# 2. a) This causes an error, because element [2] is an integer, which doesn't support the 'append' method\n",
                "# 2. b) This causes an error, because x is a tuple, meaning it can't be modified \n",
                "# 2. c) The statements don't produce an error, because none of the tuple elements are changed with a new object. \n",
                "# 2. d) The statements don't produce an error, because a copy of the values is created, leaving the originals unchanged.\n",
                "```"
            ]
        },
        {
            "cell_type": "code",
            "execution_count": null,
            "metadata": {},
            "outputs": [],
            "source": []
        },
        {
            "cell_type": "code",
            "execution_count": 13,
            "metadata": {},
            "outputs": [],
            "source": []
        },
        {
            "cell_type": "code",
            "execution_count": 15,
            "metadata": {},
            "outputs": [],
            "source": []
        },
        {
            "attachments": {},
            "cell_type": "markdown",
            "metadata": {},
            "source": [
                "## 2.10 Exercise 10\n",
                "```\n",
                "x = ['Alice', 'Bob', ('Charlie', 'Brown')]\n",
                "x[2].append('Junior')\n",
                "\n",
                "\n",
                "Which of the following best describes the above code:\n",
                "\n",
                "# 2. a) This list element is now modified to contain ('Charlie Brown Junior')\n",
                "# 2. b) This list element is now modified to contain ('Charlie', 'Brown', 'Junior')\n",
                "# 2. c) This causes an error, because lists can't be modified \n",
                "# 2. d) This causes an error, because tuples can't be modified\n",
                "# 2. e) This causes an error, because lists can't contain tuples\n",
                "```\n"
            ]
        },
        {
            "cell_type": "code",
            "execution_count": null,
            "metadata": {},
            "outputs": [],
            "source": []
        },
        {
            "cell_type": "code",
            "execution_count": 16,
            "metadata": {},
            "outputs": [],
            "source": []
        }
    ],
    "metadata": {
        "kernelspec": {
            "display_name": "base",
            "language": "python",
            "name": "python3"
        },
        "language_info": {
            "codemirror_mode": {
                "name": "ipython",
                "version": 3
            },
            "file_extension": ".py",
            "mimetype": "text/x-python",
            "name": "python",
            "nbconvert_exporter": "python",
            "pygments_lexer": "ipython3",
            "version": "3.9.7 (default, Sep 16 2021, 16:59:28) [MSC v.1916 64 bit (AMD64)]"
        },
        "varInspector": {
            "cols": {
                "lenName": 16,
                "lenType": 16,
                "lenVar": 40
            },
            "kernels_config": {
                "python": {
                    "delete_cmd_postfix": "",
                    "delete_cmd_prefix": "del ",
                    "library": "var_list.py",
                    "varRefreshCmd": "print(var_dic_list())"
                },
                "r": {
                    "delete_cmd_postfix": ") ",
                    "delete_cmd_prefix": "rm(",
                    "library": "var_list.r",
                    "varRefreshCmd": "cat(var_dic_list()) "
                }
            },
            "types_to_exclude": [
                "module",
                "function",
                "builtin_function_or_method",
                "instance",
                "_Feature"
            ],
            "window_display": false
        },
        "vscode": {
            "interpreter": {
                "hash": "54b57a9d7255aa9bd89013014712be1af3e9c0518087b34529522b12b0bc87de"
            }
        }
    },
    "nbformat": 4,
    "nbformat_minor": 2
}