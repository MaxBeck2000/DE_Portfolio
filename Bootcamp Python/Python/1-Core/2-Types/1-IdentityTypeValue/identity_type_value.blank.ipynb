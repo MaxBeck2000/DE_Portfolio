{
    "cells": [
        {
            "attachments": {},
            "cell_type": "markdown",
            "metadata": {},
            "source": [
                "---\n",
                "# 1. Identity, Type and Value\n",
                "---\n",
                "\n",
                "Every piece of data in Python is an object. Each object has:\n",
                "\n",
                "1.  an **identity (ID)** - uniquely identifying the object\n",
                "2.  a **type** - that is the class it belongs to - e.g. *int*, *str*, *list*\n",
                "3.  a **value**\n",
                "\n",
                "\n",
                "When an object is created, its ID and type cannot be changed. \n",
                "\n",
                "The ID of an object is returned by the builtin function `id`. See below for an example.\n"
            ]
        },
        {
            "cell_type": "code",
            "execution_count": 1,
            "metadata": {},
            "outputs": [
                {
                    "data": {
                        "text/plain": [
                            "140705483543624"
                        ]
                    },
                    "execution_count": 1,
                    "metadata": {},
                    "output_type": "execute_result"
                }
            ],
            "source": [
                "x = 10\n",
                "id(x)"
            ]
        },
        {
            "cell_type": "code",
            "execution_count": null,
            "metadata": {},
            "outputs": [],
            "source": []
        },
        {
            "cell_type": "markdown",
            "metadata": {},
            "source": [
                "Let's create a helper function to print id, type and value of a given variable"
            ]
        },
        {
            "cell_type": "code",
            "execution_count": 2,
            "metadata": {},
            "outputs": [],
            "source": [
                "def print_id_type_value(var):\n",
                "    print(f'id   : {id(var)}')\n",
                "    print(f'type : {type(var)}')\n",
                "    print(f'value: {var}')\n",
                "    print('---------------------')\n"
            ]
        },
        {
            "cell_type": "code",
            "execution_count": 3,
            "metadata": {
                "scrolled": true
            },
            "outputs": [
                {
                    "name": "stdout",
                    "output_type": "stream",
                    "text": [
                        "id   : 140705483543624\n",
                        "type : <class 'int'>\n",
                        "value: 10\n",
                        "---------------------\n"
                    ]
                }
            ],
            "source": [
                "print_id_type_value(x)"
            ]
        },
        {
            "cell_type": "code",
            "execution_count": 4,
            "metadata": {},
            "outputs": [
                {
                    "name": "stdout",
                    "output_type": "stream",
                    "text": [
                        "id   : 140705483543944\n",
                        "type : <class 'int'>\n",
                        "value: 20\n",
                        "---------------------\n"
                    ]
                }
            ],
            "source": [
                "y = 20\n",
                "print_id_type_value(y)"
            ]
        },
        {
            "cell_type": "markdown",
            "metadata": {},
            "source": [
                "## 1.1 Two Variables with the Same Value\n",
                "\n",
                "However, as the example below shows, Python may assign two variables to the same id, while they have the same value (typically for integers in the range [-5, 256])."
            ]
        },
        {
            "cell_type": "code",
            "execution_count": 6,
            "metadata": {},
            "outputs": [
                {
                    "name": "stdout",
                    "output_type": "stream",
                    "text": [
                        "id   : 140705483543624\n",
                        "type : <class 'int'>\n",
                        "value: 10\n",
                        "---------------------\n",
                        "id   : 140705483543624\n",
                        "type : <class 'int'>\n",
                        "value: 10\n",
                        "---------------------\n"
                    ]
                }
            ],
            "source": [
                "x = 10\n",
                "y = x\n",
                "print_id_type_value(x)\n",
                "print_id_type_value(y)"
            ]
        },
        {
            "cell_type": "code",
            "execution_count": null,
            "metadata": {},
            "outputs": [],
            "source": []
        },
        {
            "cell_type": "code",
            "execution_count": 7,
            "metadata": {},
            "outputs": [],
            "source": [
                "# After the following line of code is executed, consider the following three questions:\n",
                "\n",
                "x = x+1 # we change the value of x to 11\n",
                "\n",
                "# Question a) has the id of x changed? Yes\n",
                "# Question b) does the value of y change? No\n",
                "# Question c) does the id of y change? No\n"
            ]
        },
        {
            "cell_type": "code",
            "execution_count": 8,
            "metadata": {},
            "outputs": [
                {
                    "name": "stdout",
                    "output_type": "stream",
                    "text": [
                        "id   : 140705483543656\n",
                        "type : <class 'int'>\n",
                        "value: 11\n",
                        "---------------------\n",
                        "id   : 140705483543624\n",
                        "type : <class 'int'>\n",
                        "value: 10\n",
                        "---------------------\n"
                    ]
                }
            ],
            "source": [
                "print_id_type_value(x)\n",
                "print_id_type_value(y)"
            ]
        },
        {
            "attachments": {},
            "cell_type": "markdown",
            "metadata": {},
            "source": [
                "### 1.1.1 Explanation\n",
                "\n",
                "Your answers should indicate that the ID of `x` has changed,  whereas the value and ID of `y` have remained constant. \n",
                "\n",
                "The ID has changed, because the statement `x=x+1` creates a new object for this variable to refer to. "
            ]
        },
        {
            "cell_type": "markdown",
            "metadata": {},
            "source": [
                "## 1.2 Objects With More Than One Reference\n",
                "\n",
                "In the demonstration below, we define a variable `x` that refers to the list `[1,2,3]`.\n",
                "We  also define a variable `y` that refers to this list, i.e. `y = x`. \n",
                "\n",
                "Let's suppose we now need `x` to have the values `[1,2,3,4]`: here are two approaches or doing this:\n",
                "- Approach (i): append the number `4` to the original list of `[1,2,3]`\n",
                "- Approach (ii): assign the variable `x` to a new list, containing `[1,2,3,4]`\n",
                "\n",
                "Let's try both of the above, and see what happens:\n",
                "\n"
            ]
        },
        {
            "cell_type": "markdown",
            "metadata": {},
            "source": [
                "### 1.2.1 Approach (i): Appending to the original list \n",
                "\n",
                "After we append a value to x, two questions:\n",
                "- Question a) what happens to the id of x, after this change?\n",
                "- Question b) what happens to the values stored in y, after this change?"
            ]
        },
        {
            "cell_type": "code",
            "execution_count": 9,
            "metadata": {},
            "outputs": [
                {
                    "name": "stdout",
                    "output_type": "stream",
                    "text": [
                        "id   : 2088076016832\n",
                        "type : <class 'list'>\n",
                        "value: [1, 2, 3]\n",
                        "---------------------\n",
                        "id   : 2088076016832\n",
                        "type : <class 'list'>\n",
                        "value: [1, 2, 3]\n",
                        "---------------------\n"
                    ]
                }
            ],
            "source": [
                "x = [1,2,3]\n",
                "y = x\n",
                "print_id_type_value(x)\n",
                "print_id_type_value(y)"
            ]
        },
        {
            "cell_type": "code",
            "execution_count": 11,
            "metadata": {},
            "outputs": [],
            "source": [
                "x.append(4)\n"
            ]
        },
        {
            "cell_type": "code",
            "execution_count": 12,
            "metadata": {},
            "outputs": [
                {
                    "name": "stdout",
                    "output_type": "stream",
                    "text": [
                        "id   : 2088076016832\n",
                        "type : <class 'list'>\n",
                        "value: [1, 2, 3, 4]\n",
                        "---------------------\n",
                        "id   : 2088076016832\n",
                        "type : <class 'list'>\n",
                        "value: [1, 2, 3, 4]\n",
                        "---------------------\n"
                    ]
                }
            ],
            "source": [
                "print_id_type_value(x)\n",
                "print_id_type_value(y)"
            ]
        },
        {
            "cell_type": "markdown",
            "metadata": {},
            "source": [
                "### 1.2.2 Approach (ii): Creating a replacement list  \n",
                "\n",
                "Now let's start off the same way, but then use a different way to let `x` contain `[1,2,3,4]`: "
            ]
        },
        {
            "cell_type": "markdown",
            "metadata": {},
            "source": [
                " \n",
                "Check to see whether your answers are in line with these, below: \n",
                "- Answer to a): the id of `x` **doesn't** change\n",
                "- Answer to b): `y` also contains the appended number. \n",
                "\n"
            ]
        },
        {
            "cell_type": "code",
            "execution_count": 13,
            "metadata": {},
            "outputs": [
                {
                    "name": "stdout",
                    "output_type": "stream",
                    "text": [
                        "id   : 2088076038208\n",
                        "type : <class 'list'>\n",
                        "value: [1, 2, 3]\n",
                        "---------------------\n",
                        "id   : 2088076038208\n",
                        "type : <class 'list'>\n",
                        "value: [1, 2, 3]\n",
                        "---------------------\n"
                    ]
                }
            ],
            "source": [
                "x = [1,2,3]\n",
                "y = x\n",
                "print_id_type_value(x)\n",
                "print_id_type_value(y)"
            ]
        },
        {
            "cell_type": "code",
            "execution_count": 14,
            "metadata": {},
            "outputs": [
                {
                    "name": "stdout",
                    "output_type": "stream",
                    "text": [
                        "id   : 2088076042496\n",
                        "type : <class 'list'>\n",
                        "value: [1, 2, 3, 4]\n",
                        "---------------------\n"
                    ]
                }
            ],
            "source": [
                "x = [1,2,3, 4]\n",
                "print_id_type_value(x)"
            ]
        },
        {
            "cell_type": "code",
            "execution_count": 15,
            "metadata": {},
            "outputs": [
                {
                    "name": "stdout",
                    "output_type": "stream",
                    "text": [
                        "id   : 2088076038208\n",
                        "type : <class 'list'>\n",
                        "value: [1, 2, 3]\n",
                        "---------------------\n"
                    ]
                }
            ],
            "source": [
                "print_id_type_value(y)\n"
            ]
        },
        {
            "cell_type": "markdown",
            "metadata": {},
            "source": [
                " \n",
                "Check to see whether your answers are in line with these, below: \n",
                "- Answer to a): the id of `x` __does__ change\n",
                "- Answer to b): `y` does __NOT__ contain the appended number - it still refers to the initial list. \n",
                "\n",
                "\n",
                "### 1.2.3 Explanation\n",
                "\n",
                "Using Approach (i), `x` and `y` always refer to a single object. Changes made to `x` can be seen through the reference `y`. (and *vice versa*). \n",
                "\n",
                "Using Approach (ii), the line `x=[1,2,3,4]` is a new assignment for `x`. It no longer refers to the original list `[1,2,3]`, but instead refers to this new list. The variable `y` still refers to the original list. This means:\n",
                "- There are now two separate lists in this program.\n",
                "- Changes to one list will not affect the other list\n",
                "\n"
            ]
        },
        {
            "cell_type": "markdown",
            "metadata": {},
            "source": [
                "## 1.3 Summary\n",
                "\n",
                "- Python objects have a type, an ID and a value.\n",
                "- Examples of object types include integers (`int`), floating point numbers (`float`) , strings (`str`) and lists (`list`).\n",
                "- When we use the assignment operator (`=`), this can change a variable's reference to a new object, which will change the ID of the variable (to this new object's ID).\n",
                "- In the above list of object types, the list is the odd one out, because we can change the value of the object (using its `append` method) without changing its ID. We say that this type is *mutable* (i.e. changeable)."
            ]
        },
        {
            "cell_type": "code",
            "execution_count": null,
            "metadata": {},
            "outputs": [],
            "source": []
        },
        {
            "cell_type": "code",
            "execution_count": null,
            "metadata": {},
            "outputs": [],
            "source": []
        }
    ],
    "metadata": {
        "kernelspec": {
            "display_name": "Python 3",
            "language": "python",
            "name": "python3"
        },
        "language_info": {
            "codemirror_mode": {
                "name": "ipython",
                "version": 3
            },
            "file_extension": ".py",
            "mimetype": "text/x-python",
            "name": "python",
            "nbconvert_exporter": "python",
            "pygments_lexer": "ipython3",
            "version": "3.11.8"
        },
        "varInspector": {
            "cols": {
                "lenName": 16,
                "lenType": 16,
                "lenVar": 40
            },
            "kernels_config": {
                "python": {
                    "delete_cmd_postfix": "",
                    "delete_cmd_prefix": "del ",
                    "library": "var_list.py",
                    "varRefreshCmd": "print(var_dic_list())"
                },
                "r": {
                    "delete_cmd_postfix": ") ",
                    "delete_cmd_prefix": "rm(",
                    "library": "var_list.r",
                    "varRefreshCmd": "cat(var_dic_list()) "
                }
            },
            "types_to_exclude": [
                "module",
                "function",
                "builtin_function_or_method",
                "instance",
                "_Feature"
            ],
            "window_display": false
        },
        "vscode": {
            "interpreter": {
                "hash": "4f77c56a1733e9d421c3a053160f731a1cdaa61fcda062af7a855a05be992435"
            }
        }
    },
    "nbformat": 4,
    "nbformat_minor": 2
}
