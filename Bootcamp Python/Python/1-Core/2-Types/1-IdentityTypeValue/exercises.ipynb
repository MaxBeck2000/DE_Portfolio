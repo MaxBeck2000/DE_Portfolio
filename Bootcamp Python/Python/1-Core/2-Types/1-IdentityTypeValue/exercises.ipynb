{
    "cells": [
        {
            "attachments": {},
            "cell_type": "markdown",
            "metadata": {},
            "source": [
                "# 1. Identity, Type and Value"
            ]
        },
        {
            "attachments": {},
            "cell_type": "markdown",
            "metadata": {},
            "source": [
                "## 1.1 Exercise: Different Types, Same Value?\n",
                "\n",
                "Can two objects that have different types, have the same value?\n",
                "\n",
                "By choosing different values for `a` and `b`, are you able to to get the message:\n",
                "\n",
                "\n",
                "`hooray! a and b have different types and the same value`"
            ]
        },
        {
            "cell_type": "code",
            "execution_count": 3,
            "metadata": {},
            "outputs": [],
            "source": [
                "# edit this:\n",
                "a = 2\n",
                "b = 1\n",
                "\n",
                "# don't edit this:\n",
                "\n",
                "if type(a) != type(b):\n",
                "    if a == b:\n",
                "        print('hooray! a and b have different types and the same value')\n",
                "    else:\n",
                "        print('a and b have different values...')\n",
                "else:\n",
                "    print('a and b have the same type...')\n"
            ]
        },
        {
            "attachments": {},
            "cell_type": "markdown",
            "metadata": {},
            "source": [
                "## 1.2 Exercise: Different IDs, same value?\n",
                "\n",
                "Can two objects that have different ids, have the same value?\n",
                "\n",
                "By choosing different values for `a` and `b`, are you able to to get the message:\n",
                "\n",
                "`hooray! a and b have different ids and the same value`\n",
                "\n",
                "(Think about numbers, strings and lists, when making your choice.)"
            ]
        },
        {
            "cell_type": "code",
            "execution_count": 8,
            "metadata": {},
            "outputs": [],
            "source": [
                "\n",
                "# edit this:\n",
                "a = 15\n",
                "b = 15\n",
                "\n",
                "# don't edit this:\n",
                "\n",
                "if id(a) != id(b):\n",
                "    if a == b:\n",
                "        print('hooray! a and b have different ids, and the same value')\n",
                "    else:\n",
                "        print('a and b have different values...')\n",
                "else:\n",
                "    print('a and b have the same id...')\n"
            ]
        },
        {
            "attachments": {},
            "cell_type": "markdown",
            "metadata": {},
            "source": [
                "## 1.3 Exercise: Print the Types of List Elements \n",
                "\n",
                "Write code to print out the type of each element in a list, each on a new line (no matter how many elements in the list). \n",
                "\n",
                "For example, when `first_list` contains `123.45` and `'apple'`, it should print out\n",
                "\n",
                "`<class 'float'>`  \n",
                "`<class 'str'>`  \n",
                "\n",
                "(It prints out `<class 'float'>` rather than `float` to emphasise that it is a *class type* that is being shown).\n"
            ]
        },
        {
            "cell_type": "code",
            "execution_count": 10,
            "metadata": {},
            "outputs": [],
            "source": [
                "first_list = [123.45, 'apple']\n"
            ]
        },
        {
            "attachments": {},
            "cell_type": "markdown",
            "metadata": {},
            "source": [
                "## 1.4 Exercise: Return a List of Types\n",
                "\n",
                "Write a function called `get_types` that returns a list containing the types of the input-argument list.\n",
                "\n",
                "\n"
            ]
        },
        {
            "cell_type": "code",
            "execution_count": 15,
            "metadata": {},
            "outputs": [],
            "source": [
                "# valid inputs\n",
                "test_list = [123.45, 'apple']\n",
                "\n",
                "def get_types(some_list):\n",
                "    pass\n",
                "\n",
                "types_list = get_types(test_list)\n",
                "print(types_list)\n",
                "\n"
            ]
        },
        {
            "attachments": {},
            "cell_type": "markdown",
            "metadata": {},
            "source": [
                "## 1.5 Exercise: Count a Given Type **\n",
                "\n",
                "Write a function named `count_type_in_list` that has two arguments, an `input_list` and a `type_to_count`. It should return the number of items in the list that are of the type `type_to_count`. For example, \n",
                "- If the `input_list` is `[1,2, 'buckle', 'my', 'shoe']` and the `type_to_count` is `int`, then the function should return `2`. \n",
                "- For the same `input_list`, if the `type_to_count` is `str`, then the function should return `3`. \n",
                "\n"
            ]
        },
        {
            "cell_type": "code",
            "execution_count": 19,
            "metadata": {},
            "outputs": [],
            "source": [
                "input_list = [1,2, 'buckle', 'my', 'shoe']\n",
                "\n",
                "def count_type_in_list(input_list, type_to_count):\n",
                "    pass\n",
                "\n",
                "types_list = count_type_in_list(input_list, int)\n",
                "print(types_list)\n",
                "\n"
            ]
        }
    ],
    "metadata": {
        "kernelspec": {
            "display_name": "base",
            "language": "python",
            "name": "python3"
        },
        "language_info": {
            "codemirror_mode": {
                "name": "ipython",
                "version": 3
            },
            "file_extension": ".py",
            "mimetype": "text/x-python",
            "name": "python",
            "nbconvert_exporter": "python",
            "pygments_lexer": "ipython3",
            "version": "3.9.7 (default, Sep 16 2021, 16:59:28) [MSC v.1916 64 bit (AMD64)]"
        },
        "orig_nbformat": 4,
        "vscode": {
            "interpreter": {
                "hash": "54b57a9d7255aa9bd89013014712be1af3e9c0518087b34529522b12b0bc87de"
            }
        }
    },
    "nbformat": 4,
    "nbformat_minor": 2
}