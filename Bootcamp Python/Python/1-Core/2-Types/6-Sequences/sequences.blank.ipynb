{
    "cells": [
        {
            "cell_type": "markdown",
            "metadata": {},
            "source": [
                "---\n",
                "# 6. Sequence Types\n",
                "---\n",
                "\n",
                "Sequences can be indexed using non-negative numbers.\n",
                "Examples include strings, lists and tuples.\n",
                "All sequences support slicing and iteration.\n",
                "\n",
                "In this section, we shall cover:\n",
                "- Concatenation (using `+`)\n",
                "- Copying (using `*`)\n",
                "- Slicing (using `[::]`)\n",
                "- Membership (using `in`)\n",
                "- Aggregation functions and methods (max, min, mean, count)\n",
                "- Further methods of the String sequence type "
            ]
        },
        {
            "cell_type": "code",
            "execution_count": 1,
            "metadata": {},
            "outputs": [],
            "source": [
                "colours = ['blue','red','yellow','orange']\n",
                "tagline = 'Shaping tomorrow today'\n",
                "address = (85, 'Queen Victoria Street','London')"
            ]
        },
        {
            "cell_type": "markdown",
            "metadata": {},
            "source": [
                "## 6.1 Concatenation\n",
                "\n",
                "Two or more sequences can be joined together using the `+` operator."
            ]
        },
        {
            "cell_type": "code",
            "execution_count": 4,
            "metadata": {},
            "outputs": [
                {
                    "name": "stdout",
                    "output_type": "stream",
                    "text": [
                        "['blue', 'red', 'yellow', 'orange', 'gold', 'silver']\n"
                    ]
                }
            ],
            "source": [
                "more_colours = ['gold','silver']\n",
                "all_colours = colours + more_colours\n",
                "print(all_colours)"
            ]
        },
        {
            "cell_type": "code",
            "execution_count": 5,
            "metadata": {},
            "outputs": [
                {
                    "name": "stdout",
                    "output_type": "stream",
                    "text": [
                        "['blue', 'red', 'yellow', 'orange']\n",
                        "['gold', 'silver']\n"
                    ]
                }
            ],
            "source": [
                "print(colours)\n",
                "print(more_colours)"
            ]
        },
        {
            "cell_type": "code",
            "execution_count": 6,
            "metadata": {},
            "outputs": [
                {
                    "name": "stdout",
                    "output_type": "stream",
                    "text": [
                        "Kubrick: Shaping tomorrow today\n"
                    ]
                }
            ],
            "source": [
                "company = 'Kubrick: '\n",
                "sentence = company +tagline\n",
                "print(sentence)"
            ]
        },
        {
            "cell_type": "markdown",
            "metadata": {},
            "source": [
                "**Note**: The use of `+` for performing different operations (addition when used with numbers and concatenation when used with sequences) is called operator overloading. Python automatically recognises the type of the objects used in combination with the `+` operator and performs the required operation."
            ]
        },
        {
            "cell_type": "markdown",
            "metadata": {},
            "source": [
                "Question: What happens when you try to combine an integer and a list with `+`?"
            ]
        },
        {
            "cell_type": "code",
            "execution_count": 10,
            "metadata": {},
            "outputs": [
                {
                    "ename": "TypeError",
                    "evalue": "can only concatenate tuple (not \"list\") to tuple",
                    "output_type": "error",
                    "traceback": [
                        "\u001b[1;31m---------------------------------------------------------------------------\u001b[0m",
                        "\u001b[1;31mTypeError\u001b[0m                                 Traceback (most recent call last)",
                        "Cell \u001b[1;32mIn[10], line 1\u001b[0m\n\u001b[1;32m----> 1\u001b[0m \u001b[43m(\u001b[49m\u001b[38;5;241;43m1\u001b[39;49m\u001b[43m,\u001b[49m\u001b[43m \u001b[49m\u001b[38;5;241;43m2\u001b[39;49m\u001b[43m,\u001b[49m\u001b[43m \u001b[49m\u001b[38;5;241;43m3\u001b[39;49m\u001b[43m)\u001b[49m\u001b[43m \u001b[49m\u001b[38;5;241;43m+\u001b[39;49m\u001b[43m \u001b[49m\u001b[43m[\u001b[49m\u001b[38;5;241;43m4\u001b[39;49m\u001b[43m,\u001b[49m\u001b[43m \u001b[49m\u001b[38;5;241;43m5\u001b[39;49m\u001b[43m,\u001b[49m\u001b[43m \u001b[49m\u001b[38;5;241;43m6\u001b[39;49m\u001b[43m]\u001b[49m\n",
                        "\u001b[1;31mTypeError\u001b[0m: can only concatenate tuple (not \"list\") to tuple"
                    ]
                }
            ],
            "source": [
                "(1, 2, 3) + [4, 5, 6]"
            ]
        },
        {
            "cell_type": "code",
            "execution_count": null,
            "metadata": {},
            "outputs": [],
            "source": []
        },
        {
            "attachments": {},
            "cell_type": "markdown",
            "metadata": {},
            "source": [
                "## 6.2 Copying\n",
                "\n",
                "A sequence `s` can be copied `N` times by forming the expression `s*N`, i.e. using the `*` operator."
            ]
        },
        {
            "cell_type": "code",
            "execution_count": 12,
            "metadata": {},
            "outputs": [
                {
                    "name": "stdout",
                    "output_type": "stream",
                    "text": [
                        "['blue', 'red', 'yellow', 'orange']\n"
                    ]
                },
                {
                    "data": {
                        "text/plain": [
                            "['blue',\n",
                            " 'red',\n",
                            " 'yellow',\n",
                            " 'orange',\n",
                            " 'blue',\n",
                            " 'red',\n",
                            " 'yellow',\n",
                            " 'orange',\n",
                            " 'blue',\n",
                            " 'red',\n",
                            " 'yellow',\n",
                            " 'orange',\n",
                            " 'blue',\n",
                            " 'red',\n",
                            " 'yellow',\n",
                            " 'orange']"
                        ]
                    },
                    "execution_count": 12,
                    "metadata": {},
                    "output_type": "execute_result"
                }
            ],
            "source": [
                "print(colours)\n",
                "colours * 4"
            ]
        },
        {
            "cell_type": "code",
            "execution_count": 16,
            "metadata": {},
            "outputs": [
                {
                    "name": "stdout",
                    "output_type": "stream",
                    "text": [
                        "Hello!\n",
                        "Hello!\n",
                        "Hello!\n",
                        "Hello!\n",
                        "Hello!\n",
                        "Hello!\n",
                        "Hello!\n",
                        "Hello!\n",
                        "Hello!\n",
                        "Hello!\n",
                        "\n"
                    ]
                }
            ],
            "source": [
                "my_symbol = 'Hello!\\n'\n",
                "print(my_symbol*10)"
            ]
        },
        {
            "cell_type": "markdown",
            "metadata": {},
            "source": [
                "**Note**: Again, the `*` operator is overloaded. When used with sequences, it performs copying. When used with numbers, it performs multiplication."
            ]
        },
        {
            "attachments": {},
            "cell_type": "markdown",
            "metadata": {},
            "source": [
                "### 6.2.1 Concept Check -- Sequence Copying\n",
                "\n",
                "Use sequence copying to create a grid of zeros, represented as a list of lists. Let the number of rows be `num_rows` and the number of columns be `num_cols`. Example output for `num_rows = 2` and `num_cols = 3` is `[[0,0,0],[0,0,0]]` "
            ]
        },
        {
            "cell_type": "code",
            "execution_count": 20,
            "metadata": {},
            "outputs": [
                {
                    "name": "stdout",
                    "output_type": "stream",
                    "text": [
                        "[[0, 0, 0]]\n"
                    ]
                },
                {
                    "data": {
                        "text/plain": [
                            "[[0, 0, 0], [0, 0, 0]]"
                        ]
                    },
                    "execution_count": 20,
                    "metadata": {},
                    "output_type": "execute_result"
                }
            ],
            "source": [
                "num_cols = 3\n",
                "print([[0]*num_cols])\n",
                "[[0]*num_cols]*2"
            ]
        },
        {
            "cell_type": "code",
            "execution_count": 23,
            "metadata": {},
            "outputs": [
                {
                    "data": {
                        "text/plain": [
                            "[[0, 0, 0], [0, 0, 0]]"
                        ]
                    },
                    "execution_count": 23,
                    "metadata": {},
                    "output_type": "execute_result"
                }
            ],
            "source": [
                "num_cols = 3\n",
                "num_rows = 2\n",
                "[[0]*num_cols]*num_rows"
            ]
        },
        {
            "cell_type": "code",
            "execution_count": null,
            "metadata": {},
            "outputs": [],
            "source": []
        },
        {
            "cell_type": "markdown",
            "metadata": {},
            "source": [
                "## 6.3 Indexing\n",
                "\n",
                "If the sequence has `n` elements, then each element can be accessed by putting an integer index value (of between 0 and `n-1`) in square brackets after its variable name. \n",
                "\n",
                "![indexing](./indexing.png)\n"
            ]
        },
        {
            "cell_type": "code",
            "execution_count": 26,
            "metadata": {},
            "outputs": [
                {
                    "data": {
                        "text/plain": [
                            "'d'"
                        ]
                    },
                    "execution_count": 26,
                    "metadata": {},
                    "output_type": "execute_result"
                }
            ],
            "source": [
                "my_str = 'HelloWorld'\n",
                "#         0123456789\n",
                "my_str[9]"
            ]
        },
        {
            "cell_type": "code",
            "execution_count": 27,
            "metadata": {},
            "outputs": [
                {
                    "data": {
                        "text/plain": [
                            "'d'"
                        ]
                    },
                    "execution_count": 27,
                    "metadata": {},
                    "output_type": "execute_result"
                }
            ],
            "source": [
                "my_str[-1]"
            ]
        },
        {
            "cell_type": "code",
            "execution_count": 29,
            "metadata": {},
            "outputs": [],
            "source": [
                "file_name = 'sequences.blank.ipynb'"
            ]
        },
        {
            "cell_type": "code",
            "execution_count": 31,
            "metadata": {},
            "outputs": [
                {
                    "name": "stdout",
                    "output_type": "stream",
                    "text": [
                        "s\n",
                        "q\n",
                        ".\n"
                    ]
                }
            ],
            "source": [
                "print(file_name[0])\n",
                "print(file_name[2])\n",
                "print(file_name[-6])"
            ]
        },
        {
            "cell_type": "code",
            "execution_count": 33,
            "metadata": {},
            "outputs": [
                {
                    "name": "stdout",
                    "output_type": "stream",
                    "text": [
                        "['A', 'e', 'i', 'o', 'u']\n"
                    ]
                }
            ],
            "source": [
                "vowels = ['a','e','i','o','u']\n",
                "vowels[0] = 'A'\n",
                "print(vowels)"
            ]
        },
        {
            "cell_type": "markdown",
            "metadata": {},
            "source": [
                "### 6.3.1 Concept Check: Indexing\n",
                "\n",
                "The variable `x` is assigned to a list of 10 strings. Assign values to these strings so that the list starts with '1', '2', '3' and ends with '3', '2', '1':\n",
                "```\n",
                "['1', '2', '3', '-', '-', '-', '-', '3', '2', '1']\n",
                "```\n"
            ]
        },
        {
            "cell_type": "code",
            "execution_count": 38,
            "metadata": {},
            "outputs": [
                {
                    "name": "stdout",
                    "output_type": "stream",
                    "text": [
                        "[1, 2, 3, '-', '-', '-', '-', 3, 2, 1]\n"
                    ]
                }
            ],
            "source": [
                "x = ['-']*10\n",
                "x[0] = 1\n",
                "x[1] = 2\n",
                "x[2] = 3\n",
                "x[-3] = 3\n",
                "x[-2] = 2\n",
                "x[-1] = 1\n",
                "\n",
                "\n",
                "print(x)"
            ]
        },
        {
            "cell_type": "code",
            "execution_count": null,
            "metadata": {},
            "outputs": [],
            "source": []
        },
        {
            "cell_type": "code",
            "execution_count": null,
            "metadata": {},
            "outputs": [],
            "source": []
        },
        {
            "cell_type": "markdown",
            "metadata": {},
            "source": [
                "## 6.4 Slicing\n",
                "\n",
                "Most simply, the square brackets hold integers from 0 up to (but not including) the length of the sequence.\n",
                "\n",
                "However, more complex indexing operations are also possible: these are known as *slices*. Here are some of the slicing rules:\n",
                "\n",
                "Slicing is done using `[start:stop:step]`. Note that the value at `start` index is always included in the slice but the value at the `stop` index is not included. `step` allows us to slice every n-th element (assuming `step` is n)\n",
                "\n",
                "`start`, `stop` and `step` are all optional.\n",
                "\n",
                "- Negative numbers count from the back, so `[-1]` indexes the last element in the sequence.\n",
                "- Two numbers, separated by a colon, define a subsequence from the original sequence. The first number is inclusive and the second number is exclusive, and 0 is the start of the sequence (as usual). So `[2:4]` indexes the third and fourth elements in the sequence.\n",
                "- If a single colon is present but the first number is missing, then the sub-sequence starts at the beginning of the original sequence. So, `[:3]` indexes the first, second and third elements of the sequence. \n",
                "- If a single colon is present but the second number is missing, then the sub-sequence ends at the end of the original sequence. So, `[-2:]` indexes the penultimate and last elements of the original sequence. \n",
                "- If a second colon is present, then the number after this colon specifies the 'step' (or 'stride') of the slice. So, a slice `[10:20:2]` will include elements 10, 12, 14, 16 and 18, incrementing in steps of 2, and excluding the final index. \n",
                "\n",
                "![slicing](./slicing.png)"
            ]
        },
        {
            "cell_type": "code",
            "execution_count": 44,
            "metadata": {},
            "outputs": [
                {
                    "data": {
                        "text/plain": [
                            "'Hello'"
                        ]
                    },
                    "execution_count": 44,
                    "metadata": {},
                    "output_type": "execute_result"
                }
            ],
            "source": [
                "my_str = 'HelloWorld'\n",
                "my_str[0:5:1] #0 - 5 in steps of 1"
            ]
        },
        {
            "cell_type": "code",
            "execution_count": 42,
            "metadata": {},
            "outputs": [
                {
                    "data": {
                        "text/plain": [
                            "' World'"
                        ]
                    },
                    "execution_count": 42,
                    "metadata": {},
                    "output_type": "execute_result"
                }
            ],
            "source": [
                "my_str[5:]"
            ]
        },
        {
            "cell_type": "code",
            "execution_count": 45,
            "metadata": {},
            "outputs": [
                {
                    "data": {
                        "text/plain": [
                            "'Hlool'"
                        ]
                    },
                    "execution_count": 45,
                    "metadata": {},
                    "output_type": "execute_result"
                }
            ],
            "source": [
                "my_str[0::2]"
            ]
        },
        {
            "cell_type": "code",
            "execution_count": 46,
            "metadata": {},
            "outputs": [
                {
                    "data": {
                        "text/plain": [
                            "'loWo'"
                        ]
                    },
                    "execution_count": 46,
                    "metadata": {},
                    "output_type": "execute_result"
                }
            ],
            "source": [
                "my_str[3:7]"
            ]
        },
        {
            "cell_type": "code",
            "execution_count": 47,
            "metadata": {},
            "outputs": [
                {
                    "data": {
                        "text/plain": [
                            "'dlroWolleH'"
                        ]
                    },
                    "execution_count": 47,
                    "metadata": {},
                    "output_type": "execute_result"
                }
            ],
            "source": [
                "my_str[::-1]"
            ]
        },
        {
            "cell_type": "code",
            "execution_count": null,
            "metadata": {},
            "outputs": [],
            "source": []
        },
        {
            "cell_type": "markdown",
            "metadata": {},
            "source": [
                "All the above apply to lists and tuples as well"
            ]
        },
        {
            "cell_type": "code",
            "execution_count": 48,
            "metadata": {},
            "outputs": [
                {
                    "data": {
                        "text/plain": [
                            "[2, 4, 6]"
                        ]
                    },
                    "execution_count": 48,
                    "metadata": {},
                    "output_type": "execute_result"
                }
            ],
            "source": [
                "my_list = [1, 2, 3, 4, 5, 6, 7]\n",
                "my_list[1::2]"
            ]
        },
        {
            "cell_type": "code",
            "execution_count": 50,
            "metadata": {},
            "outputs": [
                {
                    "data": {
                        "text/plain": [
                            "('green',)"
                        ]
                    },
                    "execution_count": 50,
                    "metadata": {},
                    "output_type": "execute_result"
                }
            ],
            "source": [
                "my_tuple = ('red', 'green', 'yellow','gold','blue')\n",
                "my_tuple[1:2:2]"
            ]
        },
        {
            "cell_type": "markdown",
            "metadata": {},
            "source": [
                "### 6.4.1 Concept Check: Slicing Operations\n",
                "\n",
                "- Create a list containing three your favourite activities. Store in `my_activities`.\n",
                "- Create another list containing three favourite activities for a friend. Store in `friend_activities`.\n",
                "- Concatenate the two lists together and store into a new list `combined_list`.\n",
                "- Copy the list three times and store into a new variable `combined_list_x3`. Is the id of `combined_list` and `combined_list_x3` the same? Why / why not?\n",
                "- Use slicing on `combined_list` to select the activities enjoyed by your friend.\n",
                "- Use a slice with a negative step size to reverse the order of `combined_list`."
            ]
        },
        {
            "cell_type": "code",
            "execution_count": 70,
            "metadata": {},
            "outputs": [
                {
                    "name": "stdout",
                    "output_type": "stream",
                    "text": [
                        "2024835662016\n",
                        "2024835677504\n",
                        "['push day', 'pull day', 'rest day', \"spotting max's bench\", \"mixing max's protein shake\", \"counting max's reps\"]\n"
                    ]
                },
                {
                    "data": {
                        "text/plain": [
                            "[\"counting max's reps\",\n",
                            " \"mixing max's protein shake\",\n",
                            " \"spotting max's bench\",\n",
                            " 'rest day',\n",
                            " 'pull day',\n",
                            " 'push day']"
                        ]
                    },
                    "execution_count": 70,
                    "metadata": {},
                    "output_type": "execute_result"
                }
            ],
            "source": [
                "my_activites = ['push day','pull day','rest day']\n",
                "friend_activities = [\"spotting max's bench\", \"mixing max's protein shake\",\\\n",
                "                     \"counting max's reps\"]\n",
                "combined_list = my_activites + friend_activities\n",
                "combined_list_x3 = combined_list * 3\n",
                "print(id(combined_list))\n",
                "print(id(combined_list_x3))\n",
                "print(combined_list)\n",
                "combined_list[-3::]\n",
                "combined_list[::-1]"
            ]
        },
        {
            "cell_type": "code",
            "execution_count": null,
            "metadata": {},
            "outputs": [],
            "source": []
        },
        {
            "attachments": {},
            "cell_type": "markdown",
            "metadata": {},
            "source": [
                "## 6.5 Iteration\n",
                "\n",
                "Use the `for` statement to iterate over the elements in a list (or indeed the elements in any container):"
            ]
        },
        {
            "cell_type": "code",
            "execution_count": 2,
            "metadata": {},
            "outputs": [
                {
                    "name": "stdout",
                    "output_type": "stream",
                    "text": [
                        "Alice\n",
                        "Bob\n",
                        "Charlie\n"
                    ]
                }
            ],
            "source": [
                "my_list = ['Alice', 'Bob', 'Charlie']\n",
                "\n",
                "for name in my_list:\n",
                "    print(name)"
            ]
        },
        {
            "cell_type": "code",
            "execution_count": 5,
            "metadata": {},
            "outputs": [
                {
                    "name": "stdout",
                    "output_type": "stream",
                    "text": [
                        "green\n",
                        "blue\n",
                        "yellow\n"
                    ]
                }
            ],
            "source": [
                "my_tuple = ('green','blue','yellow')\n",
                "\n",
                "for colour in my_tuple:\n",
                "    print(colour)"
            ]
        },
        {
            "cell_type": "code",
            "execution_count": 6,
            "metadata": {},
            "outputs": [
                {
                    "name": "stdout",
                    "output_type": "stream",
                    "text": [
                        "The current char is D\n",
                        "The current char is E\n",
                        "The current char is 3\n",
                        "The current char is 5\n"
                    ]
                }
            ],
            "source": [
                "cohort = 'DE35'\n",
                "\n",
                "for char in cohort:\n",
                "    print(f'The current char is {char}')"
            ]
        },
        {
            "cell_type": "markdown",
            "metadata": {},
            "source": [
                "## 6.6 The `in` membership operator\n",
                "\n",
                "- The expression `item in sequence` will return `True` if `item` is contained in `sequence`, and otherwise `False`. \n",
                "- This membership operator can also be applied to the mapping types (see next section).\n"
            ]
        },
        {
            "cell_type": "code",
            "execution_count": 8,
            "metadata": {},
            "outputs": [
                {
                    "data": {
                        "text/plain": [
                            "False"
                        ]
                    },
                    "execution_count": 8,
                    "metadata": {},
                    "output_type": "execute_result"
                }
            ],
            "source": [
                "my_list = [1, 2, 3, 4]\n",
                "3 in my_list \n",
                "6 in my_list"
            ]
        },
        {
            "cell_type": "code",
            "execution_count": 9,
            "metadata": {
                "scrolled": true
            },
            "outputs": [
                {
                    "data": {
                        "text/plain": [
                            "True"
                        ]
                    },
                    "execution_count": 9,
                    "metadata": {},
                    "output_type": "execute_result"
                }
            ],
            "source": [
                "my_str = 'DE35'\n",
                "'DE' in my_str"
            ]
        },
        {
            "cell_type": "code",
            "execution_count": 10,
            "metadata": {},
            "outputs": [
                {
                    "data": {
                        "text/plain": [
                            "True"
                        ]
                    },
                    "execution_count": 10,
                    "metadata": {},
                    "output_type": "execute_result"
                }
            ],
            "source": [
                "'DE35' in my_str"
            ]
        },
        {
            "cell_type": "code",
            "execution_count": null,
            "metadata": {},
            "outputs": [],
            "source": []
        },
        {
            "cell_type": "code",
            "execution_count": null,
            "metadata": {},
            "outputs": [],
            "source": []
        },
        {
            "cell_type": "code",
            "execution_count": null,
            "metadata": {},
            "outputs": [],
            "source": []
        },
        {
            "cell_type": "markdown",
            "metadata": {},
            "source": [
                "### 6.6.1 Concept Check -- Using the Membership Operator\n",
                "\n",
                "If `example_list = ['Alice', 'Bob', 'Charlie', 123]` and `example_string = 'abcdefghijklmnopqrstuvwxyz'`, which of the following evaluate as `True`? What differences can you observe between string and list sequences?\n",
                "\n",
                "- `'a' in example_string` \n",
                "- `'Alice' in example_list`\n",
                "- `'abc' in example_string`\n",
                "- `['Alice', 'Bob'] in example_list`\n",
                "- `['Alice'] in example_list`\n",
                "- `'Ali' in example_list`\n",
                "- `'ABC' in example_string`\n",
                "- `123.0 in example_list`\n",
                "- `'123' in example_list`\n",
                "\n"
            ]
        },
        {
            "cell_type": "code",
            "execution_count": 24,
            "metadata": {},
            "outputs": [
                {
                    "data": {
                        "text/plain": [
                            "True"
                        ]
                    },
                    "execution_count": 24,
                    "metadata": {},
                    "output_type": "execute_result"
                }
            ],
            "source": [
                "example_list = ['Alice', 'Bob','Charlie',123]\n",
                "example_string = 'abcdefghijklmnopqrstuvwxyz'\n",
                "\n",
                "'a' in example_string\n",
                "'Alice' in example_list\n",
                "'abc' in example_string\n",
                "['Alice', 'Bob'] in example_list\n",
                "['Alice'] in example_list\n",
                "'Ali' in example_list\n",
                "'ABC' in example_string\n",
                "123.0 in example_list\n",
                "'123' in example_list\n",
                "\n",
                "# 1. True\n",
                "# 2. True\n",
                "# 3. True\n",
                "# 4. False\n",
                "# 5. False\n",
                "# 6. False\n",
                "# 7. False\n",
                "# 8. True\n",
                "# 9. False"
            ]
        },
        {
            "cell_type": "markdown",
            "metadata": {},
            "source": [
                "## 6.7 Aggregations\n",
                "\n",
                "An aggregator operates on a collection of data, reducing the output to a smaller set of values (often just one value). \n",
                "\n",
                "\n",
                "Some examples of aggregation functions:\n",
                "- Built-in functions: `len`, `sum`, `max` and `min`. The execution depends on the type of data (for example, sum is not supported for strings)\n",
                "- Methods, e.g. `str.count()`\n",
                "- Functions from other modules and packages. For example, `numpy` is a 'numerical python' library that provides functions for calulating the mean and median values (among many other functions!)\n",
                "  - In order to use `numpy`, we first have to install it from command prompt using the command `py -m pip install numpy`\n",
                "\n"
            ]
        },
        {
            "cell_type": "code",
            "execution_count": 27,
            "metadata": {},
            "outputs": [
                {
                    "name": "stdout",
                    "output_type": "stream",
                    "text": [
                        "10\n",
                        "55\n",
                        "1\n",
                        "10\n"
                    ]
                }
            ],
            "source": [
                "my_list = [1, 2, 3, 4, 5, 6, 7, 8, 9, 10]\n",
                "print(len(my_list))\n",
                "print(sum(my_list))\n",
                "print(min(my_list))\n",
                "print(max(my_list))"
            ]
        },
        {
            "cell_type": "code",
            "execution_count": 28,
            "metadata": {},
            "outputs": [
                {
                    "data": {
                        "text/plain": [
                            "2"
                        ]
                    },
                    "execution_count": 28,
                    "metadata": {},
                    "output_type": "execute_result"
                }
            ],
            "source": [
                "my_str = 'hello world'\n",
                "my_str.count('o')"
            ]
        },
        {
            "cell_type": "code",
            "execution_count": 30,
            "metadata": {},
            "outputs": [
                {
                    "name": "stdout",
                    "output_type": "stream",
                    "text": [
                        "5.5\n"
                    ]
                }
            ],
            "source": [
                "import numpy as np\n",
                "print(np.mean(my_list))"
            ]
        },
        {
            "cell_type": "markdown",
            "metadata": {},
            "source": [
                "### 6.7.1 Concept Check: Aggregations\n",
                "\n",
                "If `marks` is a list of integer marks, find the mean, median, mode and standard deviation of this data\n",
                "\n",
                "Hint: There is a `statistics` module in the Python standard library (https://docs.python.org/3/library/statistics.html) that you can use to calculate these values. \n",
                "\n",
                "Alternatively, you can use another library such as `numpy`, `scipy` or `pandas` to do these. (You may have to install these packages first)\n"
            ]
        },
        {
            "cell_type": "code",
            "execution_count": 34,
            "metadata": {},
            "outputs": [
                {
                    "name": "stdout",
                    "output_type": "stream",
                    "text": [
                        "5.5\n",
                        "3.0276503540974917\n",
                        "1\n",
                        "5.5\n"
                    ]
                }
            ],
            "source": [
                "import statistics as st \n",
                "print(st.mean(my_list))\n",
                "print(st.stdev(my_list))\n",
                "print(st.mode(my_list))\n",
                "print(st.median(my_list))"
            ]
        },
        {
            "cell_type": "markdown",
            "metadata": {},
            "source": [
                "## 6.8 Further String Methods\n",
                "\n",
                "There are several string methods available in Python that allow us to perform operations on string objects. Some of these are given below:\n",
                "\n",
                "More string methods can be found at https://www.w3schools.com/python/python_ref_string.asp\n",
                "\n",
                "- `lower`: returns a lower-case version of the original string\n",
                "- `upper`: returns an upper-case version of the original string\n",
                "- `title`: returns a title-case version of the original string\n",
                "- `replace`: replaces all occurences of one string with another string\n",
                "- `find`: finds a substring within a string and returns the index of the first character in the substring\n",
                "- `count`: counts the number of times a substring appears in the string\n",
                "- `strip`: returns a string with any surrounding 'white space' stripped away  \n",
                "- `split`: splits a string into a list of substrings\n",
                "- `join`: joins together a list of substrings\n",
                "\n",
                "\n"
            ]
        },
        {
            "cell_type": "code",
            "execution_count": 36,
            "metadata": {},
            "outputs": [
                {
                    "name": "stdout",
                    "output_type": "stream",
                    "text": [
                        "The quick brown fox jumped over the lazy dog\n"
                    ]
                }
            ],
            "source": [
                "my_str = 'The quick brown fox jumped over the lazy dog'\n",
                "print(my_str)"
            ]
        },
        {
            "cell_type": "markdown",
            "metadata": {},
            "source": [
                "### 6.8.1 `lower`, `upper` and `title` methods"
            ]
        },
        {
            "cell_type": "code",
            "execution_count": 40,
            "metadata": {},
            "outputs": [
                {
                    "name": "stdout",
                    "output_type": "stream",
                    "text": [
                        "the quick brown fox jumped over the lazy dog\n",
                        "THE QUICK BROWN FOX JUMPED OVER THE LAZY DOG\n",
                        "The Quick Brown Fox Jumped Over The Lazy Dog\n"
                    ]
                }
            ],
            "source": [
                "print(my_str.lower())\n",
                "print(my_str.upper())\n",
                "print(my_str.title())"
            ]
        },
        {
            "cell_type": "markdown",
            "metadata": {},
            "source": [
                "### 6.8.2 `find` and `replace` methods"
            ]
        },
        {
            "cell_type": "code",
            "execution_count": 41,
            "metadata": {},
            "outputs": [
                {
                    "data": {
                        "text/plain": [
                            "12"
                        ]
                    },
                    "execution_count": 41,
                    "metadata": {},
                    "output_type": "execute_result"
                }
            ],
            "source": [
                "my_str.find('o')"
            ]
        },
        {
            "cell_type": "code",
            "execution_count": 42,
            "metadata": {},
            "outputs": [
                {
                    "data": {
                        "text/plain": [
                            "16"
                        ]
                    },
                    "execution_count": 42,
                    "metadata": {},
                    "output_type": "execute_result"
                }
            ],
            "source": [
                "my_str.find('fox')"
            ]
        },
        {
            "cell_type": "code",
            "execution_count": 43,
            "metadata": {},
            "outputs": [
                {
                    "data": {
                        "text/plain": [
                            "-1"
                        ]
                    },
                    "execution_count": 43,
                    "metadata": {},
                    "output_type": "execute_result"
                }
            ],
            "source": [
                "my_str.find('cat')"
            ]
        },
        {
            "cell_type": "code",
            "execution_count": 44,
            "metadata": {},
            "outputs": [
                {
                    "data": {
                        "text/plain": [
                            "'The quick brown fox jumped over the lazy wolf'"
                        ]
                    },
                    "execution_count": 44,
                    "metadata": {},
                    "output_type": "execute_result"
                }
            ],
            "source": [
                "my_str.replace('dog','wolf')"
            ]
        },
        {
            "cell_type": "code",
            "execution_count": null,
            "metadata": {},
            "outputs": [],
            "source": []
        },
        {
            "cell_type": "code",
            "execution_count": null,
            "metadata": {},
            "outputs": [],
            "source": []
        },
        {
            "cell_type": "code",
            "execution_count": null,
            "metadata": {},
            "outputs": [],
            "source": []
        },
        {
            "cell_type": "markdown",
            "metadata": {},
            "source": [
                "### 6.8.3 `count` method"
            ]
        },
        {
            "cell_type": "code",
            "execution_count": 45,
            "metadata": {},
            "outputs": [
                {
                    "name": "stdout",
                    "output_type": "stream",
                    "text": [
                        "1\n"
                    ]
                }
            ],
            "source": [
                "print(my_str.count('fox'))"
            ]
        },
        {
            "cell_type": "code",
            "execution_count": 46,
            "metadata": {},
            "outputs": [
                {
                    "name": "stdout",
                    "output_type": "stream",
                    "text": [
                        "<class 'str'>\n"
                    ]
                }
            ],
            "source": [
                "print(type(my_str))"
            ]
        },
        {
            "cell_type": "code",
            "execution_count": 48,
            "metadata": {},
            "outputs": [
                {
                    "data": {
                        "text/plain": [
                            "2"
                        ]
                    },
                    "execution_count": 48,
                    "metadata": {},
                    "output_type": "execute_result"
                }
            ],
            "source": [
                "my_str.lower().count('the')"
            ]
        },
        {
            "cell_type": "code",
            "execution_count": 49,
            "metadata": {},
            "outputs": [
                {
                    "data": {
                        "text/plain": [
                            "1"
                        ]
                    },
                    "execution_count": 49,
                    "metadata": {},
                    "output_type": "execute_result"
                }
            ],
            "source": [
                "my_str.count('the') #only one cos its case sensitive"
            ]
        },
        {
            "cell_type": "code",
            "execution_count": null,
            "metadata": {},
            "outputs": [],
            "source": []
        },
        {
            "attachments": {},
            "cell_type": "markdown",
            "metadata": {},
            "source": [
                "### 6.8.4 `strip` method"
            ]
        },
        {
            "cell_type": "code",
            "execution_count": 52,
            "metadata": {},
            "outputs": [
                {
                    "name": "stdout",
                    "output_type": "stream",
                    "text": [
                        "   \tHello DE35\n",
                        "\n",
                        "\n",
                        "\n",
                        "\n",
                        "\n",
                        "\n",
                        "\n",
                        "\n",
                        "\n",
                        "\n",
                        "\n"
                    ]
                }
            ],
            "source": [
                "my_str = '   \\tHello DE35\\n\\n\\n\\n\\n\\n\\n\\n\\n\\n\\n'\n",
                "print(my_str)"
            ]
        },
        {
            "cell_type": "code",
            "execution_count": 53,
            "metadata": {},
            "outputs": [
                {
                    "name": "stdout",
                    "output_type": "stream",
                    "text": [
                        "Hello DE35\n"
                    ]
                }
            ],
            "source": [
                "print(my_str.strip()) #removes \"unnecessary\" things"
            ]
        },
        {
            "cell_type": "code",
            "execution_count": null,
            "metadata": {},
            "outputs": [],
            "source": []
        },
        {
            "cell_type": "code",
            "execution_count": null,
            "metadata": {},
            "outputs": [],
            "source": []
        },
        {
            "cell_type": "markdown",
            "metadata": {},
            "source": [
                "### 6.8.5 `split` and `join` Methods\n",
                "\n",
                "- `split` will return a list of substrings, splitting the original string by space (by default)\n",
                "- `join` takes a list of strings as an argument, and uses the subject string as the joining string."
            ]
        },
        {
            "cell_type": "code",
            "execution_count": 54,
            "metadata": {},
            "outputs": [
                {
                    "name": "stdout",
                    "output_type": "stream",
                    "text": [
                        "The quick brown fox jumped over the lazy dog\n"
                    ]
                }
            ],
            "source": [
                "my_str = 'The quick brown fox jumped over the lazy dog'\n",
                "print(my_str)"
            ]
        },
        {
            "cell_type": "code",
            "execution_count": 55,
            "metadata": {},
            "outputs": [
                {
                    "data": {
                        "text/plain": [
                            "['The', 'quick', 'brown', 'fox', 'jumped', 'over', 'the', 'lazy', 'dog']"
                        ]
                    },
                    "execution_count": 55,
                    "metadata": {},
                    "output_type": "execute_result"
                }
            ],
            "source": [
                "my_str.split(' ')"
            ]
        },
        {
            "cell_type": "code",
            "execution_count": 56,
            "metadata": {},
            "outputs": [
                {
                    "data": {
                        "text/plain": [
                            "['The quick brown', 'jumped over the lazy dog']"
                        ]
                    },
                    "execution_count": 56,
                    "metadata": {},
                    "output_type": "execute_result"
                }
            ],
            "source": [
                "my_str.split(' fox ')"
            ]
        },
        {
            "cell_type": "code",
            "execution_count": 58,
            "metadata": {},
            "outputs": [],
            "source": [
                "words = my_str.split()"
            ]
        },
        {
            "cell_type": "code",
            "execution_count": 62,
            "metadata": {},
            "outputs": [
                {
                    "data": {
                        "text/plain": [
                            "'The.quick.brown.fox.jumped.over.the.lazy.dog'"
                        ]
                    },
                    "execution_count": 62,
                    "metadata": {},
                    "output_type": "execute_result"
                }
            ],
            "source": [
                "'.'.join(words)"
            ]
        },
        {
            "cell_type": "code",
            "execution_count": 63,
            "metadata": {},
            "outputs": [
                {
                    "data": {
                        "text/plain": [
                            "'The quick brown fox jumped over the lazy dog'"
                        ]
                    },
                    "execution_count": 63,
                    "metadata": {},
                    "output_type": "execute_result"
                }
            ],
            "source": [
                "' '.join(words)"
            ]
        },
        {
            "attachments": {},
            "cell_type": "markdown",
            "metadata": {},
            "source": [
                "### 6.8.6 Concept Check: Split, Sort and Join\n",
                "\n",
                "Write code to re-arrange the words in a (lower-case) sentence into alphabetical order.\n",
                "\n",
                "```\n",
                "my_string = \"the quick brown fox jumped over the lazy dog\"\n",
                "\n",
                "becomes...\n",
                "\n",
                "'brown dog fox jumped lazy over quick the the'\n",
                "```"
            ]
        },
        {
            "cell_type": "code",
            "execution_count": 76,
            "metadata": {},
            "outputs": [
                {
                    "name": "stdout",
                    "output_type": "stream",
                    "text": [
                        "['the', 'quick', 'brown', 'fox', 'jumped', 'over', 'the', 'lazy', 'dog']\n",
                        "['brown', 'dog', 'fox', 'jumped', 'lazy', 'over', 'quick', 'the', 'the']\n"
                    ]
                },
                {
                    "data": {
                        "text/plain": [
                            "'brown dog fox jumped lazy over quick the the'"
                        ]
                    },
                    "execution_count": 76,
                    "metadata": {},
                    "output_type": "execute_result"
                }
            ],
            "source": [
                "my_string = \"the quick brown fox jumped over the lazy dog\"\n",
                "split_string = my_string.split()\n",
                "print(split_string)\n",
                "split_string.sort()\n",
                "print(split_string)\n",
                "' '.join(split_string)"
            ]
        }
    ],
    "metadata": {
        "kernelspec": {
            "display_name": "Python 3",
            "language": "python",
            "name": "python3"
        },
        "language_info": {
            "codemirror_mode": {
                "name": "ipython",
                "version": 3
            },
            "file_extension": ".py",
            "mimetype": "text/x-python",
            "name": "python",
            "nbconvert_exporter": "python",
            "pygments_lexer": "ipython3",
            "version": "3.11.8"
        },
        "varInspector": {
            "cols": {
                "lenName": 16,
                "lenType": 16,
                "lenVar": 40
            },
            "kernels_config": {
                "python": {
                    "delete_cmd_postfix": "",
                    "delete_cmd_prefix": "del ",
                    "library": "var_list.py",
                    "varRefreshCmd": "print(var_dic_list())"
                },
                "r": {
                    "delete_cmd_postfix": ") ",
                    "delete_cmd_prefix": "rm(",
                    "library": "var_list.r",
                    "varRefreshCmd": "cat(var_dic_list()) "
                }
            },
            "types_to_exclude": [
                "module",
                "function",
                "builtin_function_or_method",
                "instance",
                "_Feature"
            ],
            "window_display": false
        },
        "vscode": {
            "interpreter": {
                "hash": "4f77c56a1733e9d421c3a053160f731a1cdaa61fcda062af7a855a05be992435"
            }
        }
    },
    "nbformat": 4,
    "nbformat_minor": 2
}
