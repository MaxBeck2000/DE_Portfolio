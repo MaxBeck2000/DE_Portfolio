{
    "cells": [
        {
            "attachments": {},
            "cell_type": "markdown",
            "metadata": {},
            "source": [
                "# 6. Sequences"
            ]
        },
        {
            "attachments": {},
            "cell_type": "markdown",
            "metadata": {},
            "source": [
                "## 6.1 Exercise: Concatenating a welcome string\n",
                " \n",
                "Ask the user to enter in their first name, and then their second name, and use the `+` operator to construct a welcome string, e.g. \n",
                "\n",
                "`Welcome, <first name> <second name>!`\n",
                "\n"
            ]
        },
        {
            "cell_type": "code",
            "execution_count": 1,
            "metadata": {},
            "outputs": [
                {
                    "name": "stdout",
                    "output_type": "stream",
                    "text": [
                        "Welcome, Max Beck!\n"
                    ]
                }
            ],
            "source": [
                "first = input(\"Enter your first name:\")\n",
                "second = input(\"Enter your second name:\")\n",
                "fullname = first+ ' ' +second\n",
                "welcome = print(f'Welcome, {fullname}!')"
            ]
        },
        {
            "attachments": {},
            "cell_type": "markdown",
            "metadata": {},
            "source": [
                "## 6.2 Exercise: Spam\n",
                "\n",
                "Write a function `get_spam` that returns a string that repeats the word 'Spam' a given number of times, e.g. if an argument value of 3 was used, then the returned string would be \n",
                "\n",
                "`Spam Spam Spam `\n",
                "\n",
                "(The last space is included in the string, to make the exercise easier.)"
            ]
        },
        {
            "cell_type": "code",
            "execution_count": 20,
            "metadata": {},
            "outputs": [
                {
                    "name": "stdout",
                    "output_type": "stream",
                    "text": [
                        "spam spam spam spam spam spam spam spam spam spam spam spam \n"
                    ]
                }
            ],
            "source": [
                "def get_spam():\n",
                "    num = int(input(f'Input a number buddy: '))\n",
                "    print('spam '*num)\n",
                "\n",
                "get_spam()"
            ]
        },
        {
            "attachments": {},
            "cell_type": "markdown",
            "metadata": {},
            "source": [
                "## 6.3 Extension: More Spam\n",
                "\n",
                "Modify your function so that the words are separated by a comma, except that the last utterance of 'Spam' is preceded by the word 'and', e.g. \n",
                "\n",
                "`'Spam, Spam and Spam'`\n",
                "\n",
                "Small amounts of Spam should be handled appropriately."
            ]
        },
        {
            "cell_type": "code",
            "execution_count": 24,
            "metadata": {},
            "outputs": [
                {
                    "name": "stdout",
                    "output_type": "stream",
                    "text": [
                        "Spam, Spam, Spam, Spam, Spam, Spam, Spam, Spam, Spam, \n",
                        " and Spam\n"
                    ]
                }
            ],
            "source": [
                "def get_spam():\n",
                "    num = int(input(f'Input a number buddy: '))\n",
                "    print('Spam, '*(num-1))\n",
                "    print(' and Spam')\n",
                "\n",
                "get_spam()"
            ]
        },
        {
            "attachments": {},
            "cell_type": "markdown",
            "metadata": {},
            "source": [
                "## 6.4 Exercise: Top and Tail\n",
                "\n",
                "write a function `top_and_tail` that has two arguments, a list and a whole number `n`. The function should return a list that contains the first and last `n` items, in their original order. \n",
                "\n",
                "If the original list contains fewer than items than required, then the size of the output list should be reduced accordingly. \n"
            ]
        },
        {
            "cell_type": "code",
            "execution_count": 37,
            "metadata": {},
            "outputs": [],
            "source": [
                "def top_and_tail(input_list, n):\n",
                "    nums = list(range(n))\n",
                "    first = []\n",
                "    last = []\n",
                "    for i in nums:\n",
                "        first.append(input_list[i])\n",
                "        last.append(input_list[len(input_list)-n+i])\n",
                "    combined = first + last\n",
                "    return combined"
            ]
        },
        {
            "cell_type": "code",
            "execution_count": 38,
            "metadata": {},
            "outputs": [
                {
                    "data": {
                        "text/plain": [
                            "['a', 'b', 'c', 'h', 'i', 'j']"
                        ]
                    },
                    "execution_count": 38,
                    "metadata": {},
                    "output_type": "execute_result"
                }
            ],
            "source": [
                "input_list = ['a','b','c','d','e','f','g','h','i','j']\n",
                "n = 3\n",
                "top_and_tail(input_list, n)"
            ]
        },
        {
            "attachments": {},
            "cell_type": "markdown",
            "metadata": {},
            "source": [
                "## 6.5 Exercise: Sub-List *\n",
                "\n",
                "Write a function `find_sub_list` that accepts two lists of integers, `whole_list` and `sub_list`. The function should return `True` if there is a sequence of the `whole_list` that is the same as `sub_list`.\n",
                "\n",
                "For example:\n",
                "\n",
                "`whole_list = [1,2,3,4]` and `sub_list = [1,2,3]`\n",
                "\n",
                "Should return `True`\n",
                "\n",
                "However, \n",
                "\n",
                "`whole_list = [1,2,3,4]` and `sub_list = [3,2,1]`\n",
                "\n",
                "should be `False` as the sequence is not in order."
            ]
        },
        {
            "cell_type": "code",
            "execution_count": 61,
            "metadata": {},
            "outputs": [],
            "source": [
                "# My solution, not very good \n",
                "# def find_sub_list(whole_list, sub_list):\n",
                "#     common_list = []\n",
                "#     for i in whole_list:\n",
                "#         if i in sub_list:\n",
                "#             common_list.append(i)\n",
                "    \n",
                "#     if common_list == sub_list:\n",
                "#         return True\n",
                "#     else:\n",
                "#         return False\n",
                "\n",
                "def find_sub_list(whole_list, sub_list):\n",
                "    whole_len = len(whole_list)\n",
                "    sub_len = len(sub_list)\n",
                "\n",
                "    for i in range(whole_len):\n",
                "        if whole_list[i: i + sub_len] == sub_list:\n",
                "            return True\n",
                "        elif i == len(whole_list) - 1:\n",
                "            return False\n",
                "        else: \n",
                "            pass\n",
                "        \n"
            ]
        },
        {
            "cell_type": "code",
            "execution_count": 62,
            "metadata": {},
            "outputs": [
                {
                    "data": {
                        "text/plain": [
                            "True"
                        ]
                    },
                    "execution_count": 62,
                    "metadata": {},
                    "output_type": "execute_result"
                }
            ],
            "source": [
                "whole_list = [1,2,3,4]\n",
                "sub_list = [1,2,3]\n",
                "find_sub_list(whole_list, sub_list)"
            ]
        },
        {
            "cell_type": "code",
            "execution_count": 60,
            "metadata": {},
            "outputs": [
                {
                    "data": {
                        "text/plain": [
                            "False"
                        ]
                    },
                    "execution_count": 60,
                    "metadata": {},
                    "output_type": "execute_result"
                }
            ],
            "source": [
                "whole_list = [1,2,3,4]\n",
                "sub_list = [3,2,1]\n",
                "find_sub_list(whole_list, sub_list)"
            ]
        },
        {
            "cell_type": "code",
            "execution_count": 2,
            "metadata": {},
            "outputs": [],
            "source": []
        },
        {
            "cell_type": "code",
            "execution_count": 7,
            "metadata": {},
            "outputs": [],
            "source": []
        },
        {
            "attachments": {},
            "cell_type": "markdown",
            "metadata": {},
            "source": [
                "## 6.6 Exercise: Correct Accidental Caps Lock *\n",
                "\n",
                "Write a function `correct_caps_lock` that inputs a string of words and outputs the same string of words, but with accidental use of caps-lock corrected. \n",
                "\n",
                "A word is assumed to have been typed with accidental caps lock if it starts with a lower case letter and has all subsequent letters in capitals. (There should be at least one such subsequent letter). This should be replaced by the same word, but with only the first letter being a capital letter.\n",
                "\n",
                "\n",
                "For example, using an input argument of `'a Chance to uSE A sTRING mETHOD or two!'` would return a value of `'a Chance to Use A String Method or two!'`\n"
            ]
        },
        {
            "cell_type": "code",
            "execution_count": 83,
            "metadata": {},
            "outputs": [],
            "source": [
                "def correct_caps_lock(input_string):\n",
                "    input_list = list(input_string.split(' '))\n",
                "    output_str = ''\n",
                "    print(input_list)\n",
                "    for word in input_list:\n",
                "        for char in word:\n",
                "            if char.isupper():\n",
                "                word = word.title()\n",
                "            elif char.islower():\n",
                "                pass\n",
                "        output_str += word + ' '\n",
                "    output_str = output_str.strip()\n",
                "    return output_str\n",
                "\n",
                "\n",
                "\n",
                "\n",
                "\n",
                "    # input_string = input_string.lower()\n",
                "    # output_string = input_string.title()\n",
                "    # return output_string\n"
            ]
        },
        {
            "cell_type": "code",
            "execution_count": 84,
            "metadata": {},
            "outputs": [
                {
                    "name": "stdout",
                    "output_type": "stream",
                    "text": [
                        "['a', 'Chance', 'to', 'uSE', 'A', 'sTRING', 'mETHOD', 'or', 'two!']\n"
                    ]
                },
                {
                    "data": {
                        "text/plain": [
                            "'a Chance to Use A String Method or two!'"
                        ]
                    },
                    "execution_count": 84,
                    "metadata": {},
                    "output_type": "execute_result"
                }
            ],
            "source": [
                "correct_caps_lock('a Chance to uSE A sTRING mETHOD or two!')"
            ]
        }
    ],
    "metadata": {
        "kernelspec": {
            "display_name": "Python 3",
            "language": "python",
            "name": "python3"
        },
        "language_info": {
            "codemirror_mode": {
                "name": "ipython",
                "version": 3
            },
            "file_extension": ".py",
            "mimetype": "text/x-python",
            "name": "python",
            "nbconvert_exporter": "python",
            "pygments_lexer": "ipython3",
            "version": "3.11.8"
        },
        "orig_nbformat": 4,
        "vscode": {
            "interpreter": {
                "hash": "369f2c481f4da34e4445cda3fffd2e751bd1c4d706f27375911949ba6bb62e1c"
            }
        }
    },
    "nbformat": 4,
    "nbformat_minor": 2
}
