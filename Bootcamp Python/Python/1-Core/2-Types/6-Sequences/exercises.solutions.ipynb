{
    "cells": [
        {
            "attachments": {},
            "cell_type": "markdown",
            "metadata": {},
            "source": [
                "# 6. Sequences",
                "\n| <u>**Metric**<u> | <u>Count<u> |\n| --- | --- |\n| **Cells** | 17 |\n| **Characters** | 4794 |\n| **Exercises** | 6 (4 **S**, 2 **M**) |\n| **Completion Time** | 52 min |\n\n"
            ]
        },
        {
            "attachments": {},
            "cell_type": "markdown",
            "metadata": {},
            "source": [
                "## 6.1 Exercise: Concatenating a welcome string\n",
                " \n",
                "Ask the user to enter in their first name, and then their second name, and use the `+` operator to construct a welcome string, e.g. \n",
                "\n",
                "`Welcome, <first name> <second name>!`\n",
                "\n"
            ]
        },
        {
            "cell_type": "code",
            "execution_count": 1,
            "metadata": {},
            "outputs": [
                {
                    "name": "stdout",
                    "output_type": "stream",
                    "text": [
                        "Welcome, James Orwell!\n"
                    ]
                }
            ],
            "source": [
                "first_name = input('First Name')\n",
                "second_name = input('second name')\n",
                "\n",
                "welcome_string = 'Welcome, ' + first_name + ' ' + second_name + '!'\n",
                "print(welcome_string) "
            ]
        },
        {
            "attachments": {},
            "cell_type": "markdown",
            "metadata": {},
            "source": [
                "## 6.2 Exercise: Spam\n",
                "\n",
                "Write a function `get_spam` that returns a string that repeats the word 'Spam' a given number of times, e.g. if an argument value of 3 was used, then the returned string would be \n",
                "\n",
                "`Spam Spam Spam `\n",
                "\n",
                "(The last space is included in the string, to make the exercise easier.)"
            ]
        },
        {
            "cell_type": "code",
            "execution_count": 2,
            "metadata": {},
            "outputs": [
                {
                    "data": {
                        "text/plain": [
                            "'Spam Spam Spam Spam Spam '"
                        ]
                    },
                    "execution_count": 2,
                    "metadata": {},
                    "output_type": "execute_result"
                }
            ],
            "source": [
                "# basic solution\n",
                "\n",
                "def get_spam(how_much_spam):\n",
                "    output_str = 'Spam '*how_much_spam\n",
                "    return output_str\n",
                "\n",
                "get_spam(5)"
            ]
        },
        {
            "attachments": {},
            "cell_type": "markdown",
            "metadata": {},
            "source": [
                "## 6.3 Extension: More Spam\n",
                "\n",
                "Modify your function so that the words are separated by a comma, except that the last utterance of 'Spam' is preceded by the word 'and', e.g. \n",
                "\n",
                "`'Spam, Spam and Spam'`\n",
                "\n",
                "Small amounts of Spam should be handled appropriately."
            ]
        },
        {
            "cell_type": "code",
            "execution_count": 7,
            "metadata": {},
            "outputs": [
                {
                    "name": "stdout",
                    "output_type": "stream",
                    "text": [
                        "Spam\n",
                        "Spam and Spam\n",
                        "Spam, Spam and Spam\n",
                        "Spam, Spam, Spam and Spam\n",
                        "Spam, Spam, Spam, Spam and Spam\n"
                    ]
                }
            ],
            "source": [
                "# extended solution\n",
                "\n",
                "def get_spam(how_much_spam):\n",
                "    if how_much_spam == 1:\n",
                "        return 'Spam'\n",
                "    output_str = 'Spam and Spam'\n",
                "    if how_much_spam>2:\n",
                "        output_str = 'Spam, '*(how_much_spam-2) + output_str\n",
                "    return output_str\n",
                "\n",
                "for i in range(1,6):\n",
                "    print(get_spam(i))"
            ]
        },
        {
            "attachments": {},
            "cell_type": "markdown",
            "metadata": {},
            "source": [
                "## 6.4 Exercise: Top and Tail\n",
                "\n",
                "write a function `top_and_tail` that has two arguments, a list and a whole number `n`. The function should return a list that contains the first and last `n` items, in their original order. \n",
                "\n",
                "If the original list contains fewer than items than required, then the size of the output list should be reduced accordingly. \n"
            ]
        },
        {
            "cell_type": "code",
            "execution_count": 9,
            "metadata": {},
            "outputs": [
                {
                    "data": {
                        "text/plain": [
                            "['a', 'b', 'c', 'b', 'c', 'd']"
                        ]
                    },
                    "execution_count": 9,
                    "metadata": {},
                    "output_type": "execute_result"
                }
            ],
            "source": [
                "def top_and_tail(input_list, n):\n",
                "    n = min(n, len(input_list))\n",
                "    output_list = input_list[:n]\n",
                "    output_list.extend(input_list[-n:])\n",
                "    return output_list\n",
                "\n",
                "top_and_tail(['a','b','c','d'],3)"
            ]
        },
        {
            "attachments": {},
            "cell_type": "markdown",
            "metadata": {},
            "source": [
                "## 6.5 Exercise: Sub-List *\n",
                "\n",
                "Write a function `find_sub_list` that accepts two lists of integers, `whole_list` and `sub_list`. The function should return `True` if there is a sequence of the `whole_list` that is the same as `sub_list`.\n",
                "\n",
                "For example:\n",
                "\n",
                "`whole_list = [1,2,3,4]` and `sub_list = [1,2,3]`\n",
                "\n",
                "Should return `True`\n",
                "\n",
                "However, \n",
                "\n",
                "`whole_list = [1,2,3,4]` and `sub_list = [3,2,1]`\n",
                "\n",
                "should be `False` as the sequence is not in order."
            ]
        },
        {
            "cell_type": "code",
            "execution_count": 5,
            "metadata": {},
            "outputs": [
                {
                    "name": "stdout",
                    "output_type": "stream",
                    "text": [
                        "[1, 2, 3, 4]\n",
                        "[2, 3, 4]\n"
                    ]
                },
                {
                    "data": {
                        "text/plain": [
                            "True"
                        ]
                    },
                    "execution_count": 5,
                    "metadata": {},
                    "output_type": "execute_result"
                }
            ],
            "source": [
                "# ",
                "def find_sub_list(whole_list, sub_list):\n",
                "    whole_len =  len(whole_list)\n",
                "    sub_len = len(sub_list)\n",
                "    whole_len - sub_len\n",
                "    for i in range(0,whole_len-sub_len+1):\n",
                "        print(whole_list[i:i+whole_len])\n",
                "        if whole_list[i:i+whole_len]==sub_list:\n",
                "            return True\n",
                "    return False\n",
                "\n",
                "find_sub_list([1,2,3,4], [2,3,4])"
            ]
        },
        {
            "cell_type": "code",
            "execution_count": null,
            "metadata": {},
            "outputs": [],
            "source": [
                "def find_sub_list(whole_list, sub_list):\n",
                "    for i in range(len(whole_list)):\n",
                "        if whole_list[i: i + len(sub_list)] == sub_list:\n",
                "            return True\n",
                "        elif i == len(whole_list) - 1:\n",
                "            return False\n",
                "        else:\n",
                "            pass"
            ]
        },
        {
            "cell_type": "code",
            "execution_count": 3,
            "metadata": {},
            "outputs": [
                {
                    "data": {
                        "text/plain": [
                            "True"
                        ]
                    },
                    "execution_count": 3,
                    "metadata": {},
                    "output_type": "execute_result"
                }
            ],
            "source": [
                "# solution once they know about comprehensions\n",
                "def find_sub_list(whole_list, sub_list):\n",
                "    # Turn into strs\n",
                "    whole_list = [str(num) for num in whole_list]\n",
                "    sub_list = [str(num) for num in sub_list]\n",
                "    # join into one str\n",
                "    whole_list_str = \"\".join(whole_list)\n",
                "    sub_list_str = \"\".join(sub_list)\n",
                "    return sub_list_str in whole_list_str \n",
                "\n",
                "find_sub_list([1,2,3,4], [2,3,4])\n"
            ]
        },
        {
            "cell_type": "code",
            "execution_count": 2,
            "metadata": {},
            "outputs": [
                {
                    "data": {
                        "text/plain": [
                            "True"
                        ]
                    },
                    "execution_count": 2,
                    "metadata": {},
                    "output_type": "execute_result"
                }
            ],
            "source": [
                "# if you want to be extra unhelpful\n",
                "def find_sub_list(whole_list, sub_list):\n",
                "    whole_list_str = \"\".join([str(num) for num in whole_list])\n",
                "    sub_list_str = \"\".join([str(num) for num in sub_list])\n",
                "    return sub_list_str in whole_list_str\n",
                "\n",
                "find_sub_list([1,2,3,4], [2,3,4])\n"
            ]
        },
        {
            "cell_type": "code",
            "execution_count": 7,
            "metadata": {},
            "outputs": [
                {
                    "data": {
                        "text/plain": [
                            "False"
                        ]
                    },
                    "execution_count": 7,
                    "metadata": {},
                    "output_type": "execute_result"
                }
            ],
            "source": [
                "def find_sub_list(whole_list, sub_list):\n",
                "    for i in range(len(whole_list)):\n",
                "        if whole_list[i: i + len(sub_list)] == sub_list:\n",
                "            return True\n",
                "    return False\n",
                "\n",
                "find_sub_list([1,2,3,4], [4,3])"
            ]
        },
        {
            "attachments": {},
            "cell_type": "markdown",
            "metadata": {},
            "source": [
                "## 6.6 Exercise: Correct Accidental Caps Lock *\n",
                "\n",
                "Write a function `correct_caps_lock` that inputs a string of words and outputs the same string of words, but with accidental use of caps-lock corrected. \n",
                "\n",
                "A word is assumed to have been typed with accidental caps lock if it starts with a lower case letter and has all subsequent letters in capitals. (There should be at least one such subsequent letter). This should be replaced by the same word, but with only the first letter being a capital letter.\n",
                "\n",
                "\n",
                "For example, using an input argument of `'a Chance to uSE A sTRING mETHOD or two!'` would return a value of `'a Chance to Use A String Method or two!'`\n"
            ]
        },
        {
            "cell_type": "code",
            "execution_count": 26,
            "metadata": {},
            "outputs": [
                {
                    "data": {
                        "text/plain": [
                            "'a Chance to Use A String Method or two!'"
                        ]
                    },
                    "execution_count": 26,
                    "metadata": {},
                    "output_type": "execute_result"
                }
            ],
            "source": [
                "def correct_caps_lock(input_string):\n",
                "    words = input_string.split()\n",
                "    output_words = []\n",
                "    for word in words:\n",
                "        if len(word)>1 and word.swapcase()==word.title():\n",
                "            word = word.title()\n",
                "        output_words.append(word)\n",
                "    return ' '.join(output_words)\n",
                "\n",
                "test_string = 'a'\n",
                "correct_caps_lock('a Chance to uSE A sTRING mETHOD or two!')\n",
                "\n"
            ]
        }
    ],
    "metadata": {
        "kernelspec": {
            "display_name": "Python 3",
            "language": "python",
            "name": "python3"
        },
        "language_info": {
            "codemirror_mode": {
                "name": "ipython",
                "version": 3
            },
            "file_extension": ".py",
            "mimetype": "text/x-python",
            "name": "python",
            "nbconvert_exporter": "python",
            "pygments_lexer": "ipython3",
            "version": "3.10.8 (tags/v3.10.8:aaaf517, Oct 11 2022, 16:50:30) [MSC v.1933 64 bit (AMD64)]"
        },
        "orig_nbformat": 4,
        "vscode": {
            "interpreter": {
                "hash": "369f2c481f4da34e4445cda3fffd2e751bd1c4d706f27375911949ba6bb62e1c"
            }
        }
    },
    "nbformat": 4,
    "nbformat_minor": 2
}