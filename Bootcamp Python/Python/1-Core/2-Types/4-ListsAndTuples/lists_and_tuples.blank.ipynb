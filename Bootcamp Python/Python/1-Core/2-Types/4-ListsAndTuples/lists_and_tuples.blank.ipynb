{
    "cells": [
        {
            "cell_type": "markdown",
            "metadata": {},
            "source": [
                "---\n",
                "# 4. Lists and Tuples\n",
                "---\n",
                "Lists and Tuples are two similar data types for storing a sequence of objects. One difference between a list and a tuple is that a list is mutable (values can be changed once created) whereas a tuple is immutable (values cannot be changed once created). Another difference is that a list is enclosed by `[]` and a tuple is enclosed by `()`\n"
            ]
        },
        {
            "attachments": {},
            "cell_type": "markdown",
            "metadata": {},
            "source": [
                "## 4.1 Python Lists\n",
                "The Python List is the most commonly used data type for holding a collection of values. It is **mutable**, **ordered** and  can contain the **same element more than once** as well as **elements of different types**. The elements in the list are indexed starting from 0. "
            ]
        },
        {
            "cell_type": "code",
            "execution_count": 1,
            "metadata": {},
            "outputs": [
                {
                    "name": "stdout",
                    "output_type": "stream",
                    "text": [
                        "[1, 2, 3, 4, 5]\n"
                    ]
                }
            ],
            "source": [
                "my_list = [1, 2, 3, 4, 5]\n",
                "print(my_list)"
            ]
        },
        {
            "cell_type": "code",
            "execution_count": 2,
            "metadata": {},
            "outputs": [
                {
                    "name": "stdout",
                    "output_type": "stream",
                    "text": [
                        "[1, 2, 3, 4, 5, 8]\n"
                    ]
                }
            ],
            "source": [
                "my_list.append(8)\n",
                "print(my_list)"
            ]
        },
        {
            "cell_type": "code",
            "execution_count": 3,
            "metadata": {},
            "outputs": [
                {
                    "name": "stdout",
                    "output_type": "stream",
                    "text": [
                        "[1, 2, 3, 4, 5, 8, 1]\n"
                    ]
                }
            ],
            "source": [
                "my_list.append(1)\n",
                "print(my_list)"
            ]
        },
        {
            "cell_type": "code",
            "execution_count": null,
            "metadata": {},
            "outputs": [],
            "source": []
        },
        {
            "cell_type": "markdown",
            "metadata": {},
            "source": [
                "## 4.2 List methods\n",
                "Python lists have a range of built-in methods that allow us to perform different operations on lists such as adding elements to a list, removing elements from a list etc. Let us look at some commonly used list methods below. "
            ]
        },
        {
            "cell_type": "code",
            "execution_count": null,
            "metadata": {},
            "outputs": [],
            "source": []
        },
        {
            "cell_type": "markdown",
            "metadata": {},
            "source": [
                "#### `append` method"
            ]
        },
        {
            "cell_type": "code",
            "execution_count": null,
            "metadata": {},
            "outputs": [],
            "source": []
        },
        {
            "cell_type": "markdown",
            "metadata": {},
            "source": [
                "#### `extend` method"
            ]
        },
        {
            "cell_type": "code",
            "execution_count": 8,
            "metadata": {},
            "outputs": [
                {
                    "name": "stdout",
                    "output_type": "stream",
                    "text": [
                        "2049164435456\n",
                        "2049164330432\n",
                        "['apple', 'cherry', 'tomato', 'orange', 'plum']\n"
                    ]
                }
            ],
            "source": [
                "fruits = ['apple','cherry','tomato']\n",
                "more_fruits = ['orange','plum']\n",
                "print(id(fruits))\n",
                "print(id(more_fruits))\n",
                "fruits.extend(more_fruits)\n",
                "print(fruits)"
            ]
        },
        {
            "cell_type": "code",
            "execution_count": 9,
            "metadata": {},
            "outputs": [
                {
                    "name": "stdout",
                    "output_type": "stream",
                    "text": [
                        "2049164435456\n",
                        "2049164330432\n"
                    ]
                }
            ],
            "source": [
                "print(id(fruits))\n",
                "print(id(more_fruits))"
            ]
        },
        {
            "cell_type": "markdown",
            "metadata": {},
            "source": [
                "#### `count` method"
            ]
        },
        {
            "cell_type": "code",
            "execution_count": 12,
            "metadata": {},
            "outputs": [
                {
                    "name": "stdout",
                    "output_type": "stream",
                    "text": [
                        "1\n",
                        "['apple', 'cherry', 'tomato', 'orange', 'plum', 'apple']\n",
                        "2\n"
                    ]
                }
            ],
            "source": [
                "print(fruits.count('apple'))\n",
                "fruits.append('apple')\n",
                "print(fruits)\n",
                "print(fruits.count('apple'))"
            ]
        },
        {
            "cell_type": "code",
            "execution_count": null,
            "metadata": {},
            "outputs": [],
            "source": [
                "print(fruits.count('banana'))"
            ]
        },
        {
            "cell_type": "markdown",
            "metadata": {},
            "source": [
                "#### `index` method"
            ]
        },
        {
            "cell_type": "code",
            "execution_count": 14,
            "metadata": {
                "scrolled": true
            },
            "outputs": [
                {
                    "name": "stdout",
                    "output_type": "stream",
                    "text": [
                        "1\n"
                    ]
                }
            ],
            "source": [
                "print(fruits.index('cherry'))"
            ]
        },
        {
            "cell_type": "code",
            "execution_count": 15,
            "metadata": {},
            "outputs": [
                {
                    "ename": "ValueError",
                    "evalue": "'banana' is not in list",
                    "output_type": "error",
                    "traceback": [
                        "\u001b[1;31m---------------------------------------------------------------------------\u001b[0m",
                        "\u001b[1;31mValueError\u001b[0m                                Traceback (most recent call last)",
                        "Cell \u001b[1;32mIn[15], line 1\u001b[0m\n\u001b[1;32m----> 1\u001b[0m \u001b[38;5;28mprint\u001b[39m(\u001b[43mfruits\u001b[49m\u001b[38;5;241;43m.\u001b[39;49m\u001b[43mindex\u001b[49m\u001b[43m(\u001b[49m\u001b[38;5;124;43m'\u001b[39;49m\u001b[38;5;124;43mbanana\u001b[39;49m\u001b[38;5;124;43m'\u001b[39;49m\u001b[43m)\u001b[49m)\n",
                        "\u001b[1;31mValueError\u001b[0m: 'banana' is not in list"
                    ]
                }
            ],
            "source": [
                "print(fruits.index('banana'))"
            ]
        },
        {
            "cell_type": "markdown",
            "metadata": {},
            "source": [
                "#### `sort` method"
            ]
        },
        {
            "cell_type": "code",
            "execution_count": 16,
            "metadata": {},
            "outputs": [
                {
                    "name": "stdout",
                    "output_type": "stream",
                    "text": [
                        "[1, 2, 2, 6, 9]\n"
                    ]
                }
            ],
            "source": [
                "list_of_numbers = [2, 6, 1, 9, 2]\n",
                "list_of_numbers.sort()\n",
                "print(list_of_numbers)"
            ]
        },
        {
            "cell_type": "code",
            "execution_count": 17,
            "metadata": {
                "scrolled": false
            },
            "outputs": [
                {
                    "name": "stdout",
                    "output_type": "stream",
                    "text": [
                        "['apple', 'cherry', 'tomato', 'orange', 'plum', 'apple']\n",
                        "['apple', 'apple', 'cherry', 'orange', 'plum', 'tomato']\n"
                    ]
                }
            ],
            "source": [
                "print(fruits)\n",
                "fruits.sort()\n",
                "print(fruits)"
            ]
        },
        {
            "cell_type": "code",
            "execution_count": 19,
            "metadata": {},
            "outputs": [
                {
                    "name": "stdout",
                    "output_type": "stream",
                    "text": [
                        "[1, 4, 4.0, 10]\n"
                    ]
                }
            ],
            "source": [
                "my_list = [1, 10, 4, 4.0]\n",
                "my_list.sort()\n",
                "print(my_list)"
            ]
        },
        {
            "cell_type": "markdown",
            "metadata": {},
            "source": [
                "More list methods can be found at https://www.w3schools.com/python/python_ref_list.asp"
            ]
        },
        {
            "attachments": {},
            "cell_type": "markdown",
            "metadata": {},
            "source": [
                "### 4.2.1 Concept Check: Making and Sorting a List of Names\n",
                "\n",
                "Create a list of names of people in your Pod (excluding your own name) and use the sort method to sort the list. (You can use first names)\n",
                "    \n",
                "Next, append your name to the list and sort the list again."
            ]
        },
        {
            "cell_type": "code",
            "execution_count": 22,
            "metadata": {},
            "outputs": [
                {
                    "name": "stdout",
                    "output_type": "stream",
                    "text": [
                        "['Abdul', 'Bertasaurus Rex', 'Delyan', 'Khadija']\n",
                        "['Abdul', 'Bertasaurus Rex', 'Delyan', 'Khadija', 'Max']\n"
                    ]
                }
            ],
            "source": [
                "race_walkers = ['Bertasaurus Rex', 'Delyan', 'Khadija', 'Abdul']\n",
                "race_walkers.sort()\n",
                "print(race_walkers)\n",
                "race_walkers.append('Max')\n",
                "race_walkers.sort()\n",
                "print(race_walkers)"
            ]
        },
        {
            "cell_type": "markdown",
            "metadata": {},
            "source": [
                "## 4.3 Python Tuples\n",
                "Python tuples are similar to lists except they are **immutable**. They are created using a pair of round brackets `()`\n",
                "\n",
                "- It is not possible to add or remove items, e.g. there is no `append` method for tuples\n",
                "- Each element in the tuple contains an object that cannot be replaced with a different object \n",
                "\n",
                "We can create a tuple in several different ways:\n",
                "- Declare in normal brackets, separating with commas\n",
                "- Convert from a list to a tuple with the `tuple` built-in function (We can also do the reverse conversion using the `list` built-in function).\n",
                "- Concatenate other tuples together "
            ]
        },
        {
            "cell_type": "code",
            "execution_count": 23,
            "metadata": {},
            "outputs": [
                {
                    "name": "stdout",
                    "output_type": "stream",
                    "text": [
                        "(1, 2, 3)\n",
                        "<class 'tuple'>\n"
                    ]
                }
            ],
            "source": [
                "my_tuple = (1, 2, 3)\n",
                "print(my_tuple)\n",
                "print(type(my_tuple))"
            ]
        },
        {
            "cell_type": "code",
            "execution_count": 24,
            "metadata": {},
            "outputs": [
                {
                    "name": "stdout",
                    "output_type": "stream",
                    "text": [
                        "()\n",
                        "<class 'tuple'>\n"
                    ]
                }
            ],
            "source": [
                "empty_tuple = ()\n",
                "print(empty_tuple)\n",
                "print(type(empty_tuple))"
            ]
        },
        {
            "cell_type": "markdown",
            "metadata": {},
            "source": [
                "If we want to create a tuple with a single item, we have to include a trailing comma after the item. Otherwise, Python will create an int object"
            ]
        },
        {
            "cell_type": "code",
            "execution_count": 25,
            "metadata": {},
            "outputs": [
                {
                    "name": "stdout",
                    "output_type": "stream",
                    "text": [
                        "1\n",
                        "<class 'int'>\n"
                    ]
                }
            ],
            "source": [
                "my_tuple2 = (1)\n",
                "print(my_tuple2)\n",
                "print(type(my_tuple2))"
            ]
        },
        {
            "cell_type": "code",
            "execution_count": null,
            "metadata": {},
            "outputs": [],
            "source": [
                "# cant append a tuple       "
            ]
        },
        {
            "cell_type": "code",
            "execution_count": 26,
            "metadata": {},
            "outputs": [
                {
                    "data": {
                        "text/plain": [
                            "1"
                        ]
                    },
                    "execution_count": 26,
                    "metadata": {},
                    "output_type": "execute_result"
                }
            ],
            "source": [
                "my_tuple = (1, 2, 3)\n",
                "my_tuple[0]"
            ]
        },
        {
            "cell_type": "code",
            "execution_count": 27,
            "metadata": {},
            "outputs": [
                {
                    "name": "stdout",
                    "output_type": "stream",
                    "text": [
                        "(1, 2, 3)\n"
                    ]
                }
            ],
            "source": [
                "my_list = [1, 2, 3]\n",
                "my_new_tuple = tuple(my_list)\n",
                "print(my_new_tuple)"
            ]
        },
        {
            "cell_type": "code",
            "execution_count": null,
            "metadata": {},
            "outputs": [],
            "source": []
        },
        {
            "cell_type": "code",
            "execution_count": null,
            "metadata": {},
            "outputs": [],
            "source": []
        },
        {
            "cell_type": "markdown",
            "metadata": {},
            "source": [
                "### 4.3.1 Tuple methods\n",
                "There are only two tuple methods, `count` and `index`. These work similar to their list counterparts."
            ]
        },
        {
            "cell_type": "markdown",
            "metadata": {},
            "source": [
                "#### `count` method"
            ]
        },
        {
            "cell_type": "code",
            "execution_count": 28,
            "metadata": {},
            "outputs": [
                {
                    "data": {
                        "text/plain": [
                            "2"
                        ]
                    },
                    "execution_count": 28,
                    "metadata": {},
                    "output_type": "execute_result"
                }
            ],
            "source": [
                "my_tuple_4 = ('a', 'b', 'c', 'a', 'b')\n",
                "my_tuple_4.count('a')"
            ]
        },
        {
            "cell_type": "markdown",
            "metadata": {},
            "source": [
                "#### `index` method"
            ]
        },
        {
            "cell_type": "code",
            "execution_count": 29,
            "metadata": {},
            "outputs": [
                {
                    "data": {
                        "text/plain": [
                            "1"
                        ]
                    },
                    "execution_count": 29,
                    "metadata": {},
                    "output_type": "execute_result"
                }
            ],
            "source": [
                "my_tuple_4.index('b')"
            ]
        },
        {
            "attachments": {},
            "cell_type": "markdown",
            "metadata": {},
            "source": [
                "### 4.3.2 Concept Check: Can we change a list in a tuple?\n",
                "\n",
                "If I have a tuple that includes a list as one of the elements, can I append items to this list?\n",
                "\n",
                "If so, what does it mean, that a tuple is immutable? \n"
            ]
        },
        {
            "cell_type": "code",
            "execution_count": 31,
            "metadata": {},
            "outputs": [
                {
                    "name": "stdout",
                    "output_type": "stream",
                    "text": [
                        "(1, 2, 3, 'a', 'b', [1, 2, 3])\n"
                    ]
                }
            ],
            "source": [
                "my_tuple_5 = (1,2,3,'a','b',[1, 2, 3])\n",
                "print(my_tuple_5)"
            ]
        },
        {
            "cell_type": "code",
            "execution_count": 32,
            "metadata": {},
            "outputs": [
                {
                    "name": "stdout",
                    "output_type": "stream",
                    "text": [
                        "id of my_tuple_5 is 2049158897600\n",
                        "id of my_tuple_5[0] is 140705598690088\n",
                        "id of my_tuple_5[0] is 140705598690120\n",
                        "id of my_tuple_5[0] is 140705598690152\n",
                        "id of my_tuple_5[0] is 140705597614952\n",
                        "id of my_tuple_5[0] is 140705597307080\n",
                        "id of my_tuple_5[0] is 2049164261504\n"
                    ]
                }
            ],
            "source": [
                "print(f'id of my_tuple_5 is {id(my_tuple_5)}')\n",
                "print(f'id of my_tuple_5[0] is {id(my_tuple_5[0])}')\n",
                "print(f'id of my_tuple_5[0] is {id(my_tuple_5[1])}')\n",
                "print(f'id of my_tuple_5[0] is {id(my_tuple_5[2])}')\n",
                "print(f'id of my_tuple_5[0] is {id(my_tuple_5[3])}')\n",
                "print(f'id of my_tuple_5[0] is {id(my_tuple_5[4])}')\n",
                "print(f'id of my_tuple_5[0] is {id(my_tuple_5[5])}')"
            ]
        },
        {
            "cell_type": "code",
            "execution_count": 34,
            "metadata": {},
            "outputs": [
                {
                    "name": "stdout",
                    "output_type": "stream",
                    "text": [
                        "[1, 2, 3]\n"
                    ]
                }
            ],
            "source": [
                "print(my_tuple_5[5])\n",
                "my_tuple_5[5].append(4)"
            ]
        },
        {
            "cell_type": "code",
            "execution_count": 35,
            "metadata": {},
            "outputs": [
                {
                    "name": "stdout",
                    "output_type": "stream",
                    "text": [
                        "(1, 2, 3, 'a', 'b', [1, 2, 3, 4])\n"
                    ]
                }
            ],
            "source": [
                "print(my_tuple_5)"
            ]
        },
        {
            "cell_type": "code",
            "execution_count": 36,
            "metadata": {},
            "outputs": [
                {
                    "name": "stdout",
                    "output_type": "stream",
                    "text": [
                        "id of my_tuple_5 is 2049158897600\n",
                        "id of my_tuple_5[0] is 140705598690088\n",
                        "id of my_tuple_5[0] is 140705598690120\n",
                        "id of my_tuple_5[0] is 140705598690152\n",
                        "id of my_tuple_5[0] is 140705597614952\n",
                        "id of my_tuple_5[0] is 140705597307080\n",
                        "id of my_tuple_5[0] is 2049164261504\n"
                    ]
                }
            ],
            "source": [
                "print(f'id of my_tuple_5 is {id(my_tuple_5)}')\n",
                "print(f'id of my_tuple_5[0] is {id(my_tuple_5[0])}')\n",
                "print(f'id of my_tuple_5[0] is {id(my_tuple_5[1])}')\n",
                "print(f'id of my_tuple_5[0] is {id(my_tuple_5[2])}')\n",
                "print(f'id of my_tuple_5[0] is {id(my_tuple_5[3])}')\n",
                "print(f'id of my_tuple_5[0] is {id(my_tuple_5[4])}')\n",
                "print(f'id of my_tuple_5[0] is {id(my_tuple_5[5])}')"
            ]
        },
        {
            "cell_type": "code",
            "execution_count": null,
            "metadata": {},
            "outputs": [],
            "source": []
        },
        {
            "cell_type": "code",
            "execution_count": null,
            "metadata": {},
            "outputs": [],
            "source": []
        },
        {
            "cell_type": "markdown",
            "metadata": {},
            "source": [
                "### 4.3.3 Why would I use a tuple vs. a list?\n",
                "\n",
                "- We want to ensure the objects in the collection don't change.\n",
                "- Tuples take up less memory, and so are slightly more performant.\n",
                "- We can use tuples as keys in a dictionary, but we can't use lists."
            ]
        },
        {
            "cell_type": "code",
            "execution_count": null,
            "metadata": {},
            "outputs": [],
            "source": []
        }
    ],
    "metadata": {
        "kernelspec": {
            "display_name": "Python 3",
            "language": "python",
            "name": "python3"
        },
        "language_info": {
            "codemirror_mode": {
                "name": "ipython",
                "version": 3
            },
            "file_extension": ".py",
            "mimetype": "text/x-python",
            "name": "python",
            "nbconvert_exporter": "python",
            "pygments_lexer": "ipython3",
            "version": "3.11.8"
        },
        "varInspector": {
            "cols": {
                "lenName": 16,
                "lenType": 16,
                "lenVar": 40
            },
            "kernels_config": {
                "python": {
                    "delete_cmd_postfix": "",
                    "delete_cmd_prefix": "del ",
                    "library": "var_list.py",
                    "varRefreshCmd": "print(var_dic_list())"
                },
                "r": {
                    "delete_cmd_postfix": ") ",
                    "delete_cmd_prefix": "rm(",
                    "library": "var_list.r",
                    "varRefreshCmd": "cat(var_dic_list()) "
                }
            },
            "types_to_exclude": [
                "module",
                "function",
                "builtin_function_or_method",
                "instance",
                "_Feature"
            ],
            "window_display": false
        },
        "vscode": {
            "interpreter": {
                "hash": "4f77c56a1733e9d421c3a053160f731a1cdaa61fcda062af7a855a05be992435"
            }
        }
    },
    "nbformat": 4,
    "nbformat_minor": 2
}
