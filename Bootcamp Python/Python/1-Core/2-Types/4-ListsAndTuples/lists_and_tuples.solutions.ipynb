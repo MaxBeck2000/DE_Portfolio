{
    "cells": [
        {
            "cell_type": "markdown",
            "metadata": {},
            "source": [
                "---\n",
                "# 4. Lists and Tuples\n",
                "---\n",
                "Lists and Tuples are two similar data types for storing a sequence of objects. One difference between a list and a tuple is that a list is mutable (values can be changed once created) whereas a tuple is immutable (values cannot be changed once created). Another difference is that a list is enclosed by `[]` and a tuple is enclosed by `()`\n",
                "\n| <u>**Metric**<u> | <u>Count<u> |\n| --- | --- |\n| **Cells** | 48 |\n| **Characters** | 5066 |\n| **Concept Checks** | 2 |\n| **Completion Time** | 23 min |\n\n"
            ]
        },
        {
            "attachments": {},
            "cell_type": "markdown",
            "metadata": {},
            "source": [
                "## 4.1 Python Lists\n",
                "The Python List is the most commonly used data type for holding a collection of values. It is **mutable**, **ordered** and  can contain the **same element more than once** as well as **elements of different types**. The elements in the list are indexed starting from 0. "
            ]
        },
        {
            "cell_type": "code",
            "execution_count": null,
            "metadata": {},
            "outputs": [],
            "source": [
                "# list example \n",
                "my_list = [1,2,3,4,5]\n",
                "print(my_list)"
            ]
        },
        {
            "cell_type": "code",
            "execution_count": null,
            "metadata": {},
            "outputs": [],
            "source": [
                "# Lists are mutable (you can change the values after creation without changing the ID)\n",
                "my_list.append(6)\n",
                "print(my_list)"
            ]
        },
        {
            "cell_type": "code",
            "execution_count": null,
            "metadata": {},
            "outputs": [],
            "source": [
                "# Lists are ordered\n",
                "my_list[5]"
            ]
        },
        {
            "cell_type": "code",
            "execution_count": null,
            "metadata": {},
            "outputs": [],
            "source": [
                "# List elements are not necessarily unique\n",
                "my_list.append(1)\n",
                "print(my_list)"
            ]
        },
        {
            "cell_type": "markdown",
            "metadata": {},
            "source": [
                "## 4.2 List methods\n",
                "Python lists have a range of built-in methods that allow us to perform different operations on lists such as adding elements to a list, removing elements from a list etc. Let us look at some commonly used list methods below. "
            ]
        },
        {
            "cell_type": "code",
            "execution_count": null,
            "metadata": {},
            "outputs": [],
            "source": [
                "fruits = ['apple','cherry','tomato','banana']\n",
                "print(fruits)"
            ]
        },
        {
            "cell_type": "markdown",
            "metadata": {},
            "source": [
                "#### `append` method"
            ]
        },
        {
            "cell_type": "code",
            "execution_count": null,
            "metadata": {},
            "outputs": [],
            "source": [
                "# append method adds an element to the end of a list\n",
                "fruits.append('kiwi')\n",
                "print(fruits)"
            ]
        },
        {
            "cell_type": "markdown",
            "metadata": {},
            "source": [
                "#### `extend` method"
            ]
        },
        {
            "cell_type": "code",
            "execution_count": null,
            "metadata": {},
            "outputs": [],
            "source": [
                "# extend method adds another list containing one or more elements to the end of the list\n",
                "more_fruits = [\"orange\",\"plum\",\"watermelon\"]\n",
                "fruits.extend(more_fruits)\n",
                "print(fruits)"
            ]
        },
        {
            "cell_type": "markdown",
            "metadata": {},
            "source": [
                "#### `count` method"
            ]
        },
        {
            "cell_type": "code",
            "execution_count": null,
            "metadata": {},
            "outputs": [],
            "source": [
                "# count method counts the number of times an item appears in the list\n",
                "print(fruits.count('apple'))\n",
                "print(fruits.count('grape'))"
            ]
        },
        {
            "cell_type": "markdown",
            "metadata": {},
            "source": [
                "#### `index` method"
            ]
        },
        {
            "cell_type": "code",
            "execution_count": null,
            "metadata": {
                "scrolled": true
            },
            "outputs": [],
            "source": [
                "# index method returns the position of the first occurrence of the specified value\n",
                "fruits.index('banana')"
            ]
        },
        {
            "cell_type": "code",
            "execution_count": null,
            "metadata": {},
            "outputs": [],
            "source": [
                "fruits.index('grape')"
            ]
        },
        {
            "cell_type": "markdown",
            "metadata": {},
            "source": [
                "#### `sort` method"
            ]
        },
        {
            "cell_type": "code",
            "execution_count": null,
            "metadata": {},
            "outputs": [],
            "source": [
                "# sorting numbers\n",
                "list_of_numbers = [5,2,4,3,1]\n",
                "list_of_numbers.sort()\n",
                "print(list_of_numbers)"
            ]
        },
        {
            "cell_type": "code",
            "execution_count": null,
            "metadata": {
                "scrolled": false
            },
            "outputs": [],
            "source": [
                "# you can't mix and match letters and numbers and try to sort them\n",
                "my_list = [1,2,3,'a','A']\n",
                "my_list.sort()\n",
                "print(my_list)"
            ]
        },
        {
            "cell_type": "markdown",
            "metadata": {},
            "source": [
                "More list methods can be found at https://www.w3schools.com/python/python_ref_list.asp"
            ]
        },
        {
            "attachments": {},
            "cell_type": "markdown",
            "metadata": {},
            "source": [
                "### 4.2.1 Concept Check: Making and Sorting a List of Names\n",
                "\n",
                "Create a list of names of people in your Pod (excluding your own name) and use the sort method to sort the list. (You can use first names)\n",
                "    \n",
                "Next, append your name to the list and sort the list again."
            ]
        },
        {
            "cell_type": "code",
            "execution_count": null,
            "metadata": {},
            "outputs": [],
            "source": [
                "list_of_names = ['Joe', 'Harriet', 'Ben', 'Xiaoxia', 'Kaz']\n",
                "list_of_names.sort()\n",
                "print(list_of_names)\n",
                "list_of_names.append('Will')\n",
                "list_of_names.sort()\n",
                "print(list_of_names)"
            ]
        },
        {
            "cell_type": "markdown",
            "metadata": {},
            "source": [
                "## 4.3 Python Tuples\n",
                "Python tuples are similar to lists except they are **immutable**. They are created using a pair of round brackets `()`\n",
                "\n",
                "- It is not possible to add or remove items, e.g. there is no `append` method for tuples\n",
                "- Each element in the tuple contains an object that cannot be replaced with a different object \n",
                "\n",
                "We can create a tuple in several different ways:\n",
                "- Declare in normal brackets, separating with commas\n",
                "- Convert from a list to a tuple with the `tuple` built-in function (We can also do the reverse conversion using the `list` built-in function).\n",
                "- Concatenate other tuples together "
            ]
        },
        {
            "cell_type": "code",
            "execution_count": null,
            "metadata": {},
            "outputs": [],
            "source": [
                "my_tuple = (1,2,3)\n",
                "print(my_tuple)\n",
                "print(type(my_tuple))"
            ]
        },
        {
            "cell_type": "code",
            "execution_count": null,
            "metadata": {},
            "outputs": [],
            "source": [
                "my_tuple_2 = ()\n",
                "print(my_tuple_2)\n",
                "print(type(my_tuple_2))"
            ]
        },
        {
            "cell_type": "markdown",
            "metadata": {},
            "source": [
                "If we want to create a tuple with a single item, we have to include a trailing comma after the item. Otherwise, Python will create an int object"
            ]
        },
        {
            "cell_type": "code",
            "execution_count": null,
            "metadata": {},
            "outputs": [],
            "source": [
                "my_tuple_3 = (1)\n",
                "print(my_tuple_3)\n",
                "print(type(my_tuple_3))"
            ]
        },
        {
            "cell_type": "code",
            "execution_count": null,
            "metadata": {},
            "outputs": [],
            "source": [
                "\n",
                "my_tuple_4 = (1,)\n",
                "print(my_tuple_4)\n",
                "print(type(my_tuple_4))"
            ]
        },
        {
            "cell_type": "code",
            "execution_count": null,
            "metadata": {},
            "outputs": [],
            "source": [
                "# changing the values of a tuple? Tuples are immutable so we cannot directly add or remove elements from a tuple\n",
                "my_tuple = (1,2,3)\n",
                "my_tuple.append(4)\n",
                "print(my_tuple)"
            ]
        },
        {
            "cell_type": "code",
            "execution_count": null,
            "metadata": {},
            "outputs": [],
            "source": [
                "my_tuple[2] "
            ]
        },
        {
            "cell_type": "code",
            "execution_count": null,
            "metadata": {},
            "outputs": [],
            "source": [
                "my_tuple[2] = 4\n",
                "print(my_tuple)"
            ]
        },
        {
            "cell_type": "code",
            "execution_count": null,
            "metadata": {},
            "outputs": [],
            "source": [
                "my_list = [1,2,3,4]\n",
                "my_tuple = tuple(my_list) # this is another way of creating a tuple from another data type\n",
                "print(my_tuple)"
            ]
        },
        {
            "cell_type": "markdown",
            "metadata": {},
            "source": [
                "### 4.3.1 Tuple methods\n",
                "There are only two tuple methods, `count` and `index`. These work similar to their list counterparts."
            ]
        },
        {
            "cell_type": "markdown",
            "metadata": {},
            "source": [
                "#### `count` method"
            ]
        },
        {
            "cell_type": "code",
            "execution_count": null,
            "metadata": {},
            "outputs": [],
            "source": [
                "my_tuple = (1,2,3)\n",
                "my_tuple.count(2)"
            ]
        },
        {
            "cell_type": "markdown",
            "metadata": {},
            "source": [
                "#### `index` method"
            ]
        },
        {
            "cell_type": "code",
            "execution_count": null,
            "metadata": {},
            "outputs": [],
            "source": [
                "my_tuple.index(2)"
            ]
        },
        {
            "attachments": {},
            "cell_type": "markdown",
            "metadata": {},
            "source": [
                "### 4.3.2 Concept Check: Can we change a list in a tuple?\n",
                "\n",
                "If I have a tuple that includes a list as one of the elements, can I append items to this list?\n",
                "\n",
                "If so, what does it mean, that a tuple is immutable? \n"
            ]
        },
        {
            "cell_type": "code",
            "execution_count": null,
            "metadata": {},
            "outputs": [],
            "source": [
                "# write your code below\n",
                "my_tuple = (1,2,3,'a','b','DMDO01',[1,2,3],(1,2,3))\n",
                "print(my_tuple)"
            ]
        },
        {
            "cell_type": "code",
            "execution_count": null,
            "metadata": {},
            "outputs": [],
            "source": [
                "my_tuple[3]"
            ]
        },
        {
            "cell_type": "code",
            "execution_count": null,
            "metadata": {},
            "outputs": [],
            "source": [
                "my_tuple[6]"
            ]
        },
        {
            "cell_type": "code",
            "execution_count": null,
            "metadata": {},
            "outputs": [],
            "source": [
                "id(my_tuple[6])"
            ]
        },
        {
            "cell_type": "code",
            "execution_count": null,
            "metadata": {},
            "outputs": [],
            "source": [
                "my_tuple[6].append(4)\n",
                "print(my_tuple)"
            ]
        },
        {
            "cell_type": "code",
            "execution_count": null,
            "metadata": {},
            "outputs": [],
            "source": [
                "id(my_tuple[6])"
            ]
        },
        {
            "cell_type": "code",
            "execution_count": null,
            "metadata": {},
            "outputs": [],
            "source": [
                "my_tuple[6] = ['a','b','c']"
            ]
        },
        {
            "cell_type": "markdown",
            "metadata": {},
            "source": [
                "### 4.3.3 Why would I use a tuple vs. a list?\n",
                "\n",
                "- We want to ensure the objects in the collection don't change.\n",
                "- Tuples take up less memory, and so are slightly more performant.\n",
                "- We can use tuples as keys in a dictionary, but we can't use lists."
            ]
        },
        {
            "cell_type": "code",
            "execution_count": null,
            "metadata": {},
            "outputs": [],
            "source": [
                "#      page number v\n",
                "bookmark_place = (234, 45)\n",
                "#                      ^ line number\n",
                "\n",
                "bookmark_place1 = (12, 23) # It doesn't make sense to append or remove items\n",
                "bookmark_place2 = (145, 53) # If the values change, it represents a completely new object\n",
                "bookmark_place3 = (234, 74)"
            ]
        }
    ],
    "metadata": {
        "kernelspec": {
            "display_name": "Python 3",
            "language": "python",
            "name": "python3"
        },
        "language_info": {
            "codemirror_mode": {
                "name": "ipython",
                "version": 3
            },
            "file_extension": ".py",
            "mimetype": "text/x-python",
            "name": "python",
            "nbconvert_exporter": "python",
            "pygments_lexer": "ipython3",
            "version": "3.11.7"
        },
        "varInspector": {
            "cols": {
                "lenName": 16,
                "lenType": 16,
                "lenVar": 40
            },
            "kernels_config": {
                "python": {
                    "delete_cmd_postfix": "",
                    "delete_cmd_prefix": "del ",
                    "library": "var_list.py",
                    "varRefreshCmd": "print(var_dic_list())"
                },
                "r": {
                    "delete_cmd_postfix": ") ",
                    "delete_cmd_prefix": "rm(",
                    "library": "var_list.r",
                    "varRefreshCmd": "cat(var_dic_list()) "
                }
            },
            "types_to_exclude": [
                "module",
                "function",
                "builtin_function_or_method",
                "instance",
                "_Feature"
            ],
            "window_display": false
        },
        "vscode": {
            "interpreter": {
                "hash": "4f77c56a1733e9d421c3a053160f731a1cdaa61fcda062af7a855a05be992435"
            }
        }
    },
    "nbformat": 4,
    "nbformat_minor": 2
}