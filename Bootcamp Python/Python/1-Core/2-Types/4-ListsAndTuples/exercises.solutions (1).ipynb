{
    "cells": [
        {
            "attachments": {},
            "cell_type": "markdown",
            "metadata": {},
            "source": [
                "# 4. Lists and Tuples",
                "\n| <u>**Metric**<u> | <u>Count<u> |\n| --- | --- |\n| **Cells** | 14 |\n| **Characters** | 5213 |\n| **Exercises** | 8 (6 **S**, 2 **M**) |\n| **Completion Time** | 63 min |\n\n"
            ]
        },
        {
            "attachments": {},
            "cell_type": "markdown",
            "metadata": {},
            "source": [
                "## 4.1 Odd and Evens\n",
                "\n",
                "### 4.1.1 Exercise: list appending\n",
                "\n",
                "In the first code cell, make two empty lists, one to store odd numbers and the other to store even numbers. \n",
                "\n",
                "In the second code cell, Ask the user to enter a whole number. If it is an odd number, add it to the first list. If it's an even number, add it to the second list. Print out both lists\n",
                "\n",
                "\n",
                "### 4.1.2 Extension: Wrap in a function *\n",
                "\n",
                "Write a function called `add_to_list` that has two arguments, `odd_list` and `even_list`. This function should ask the user for a number and add it to the appropriate list (as above)."
            ]
        },
        {
            "cell_type": "code",
            "execution_count": 2,
            "metadata": {},
            "outputs": [],
            "source": [
                "# first code cell\n",
                "## \n",
                "odd_list = []\n",
                "even_list = []\n"
            ]
        },
        {
            "cell_type": "code",
            "execution_count": 3,
            "metadata": {},
            "outputs": [
                {
                    "name": "stdout",
                    "output_type": "stream",
                    "text": [
                        "odd_numbers: []\n",
                        "even_numbers: [4]\n"
                    ]
                }
            ],
            "source": [
                "# second  code cell\n",
                "user_input = input('please enter a number')\n",
                "user_number = int(user_input)\n",
                "if user_number%2==0:\n",
                "    even_list.append(user_number)\n",
                "else:\n",
                "    odd_list.append(user_number)\n",
                "\n",
                "print('odd_numbers:', odd_list)\n",
                "print('even_numbers:', even_list)\n"
            ]
        },
        {
            "cell_type": "code",
            "execution_count": 4,
            "metadata": {},
            "outputs": [],
            "source": [
                "# extension\n",
                "\n",
                "def add_to_list(odd_list, even_list):\n",
                "    user_input = input('please enter a number')\n",
                "    user_number = int(user_input)\n",
                "    if user_number%2==0:\n",
                "        even_list.append(user_number)\n",
                "    else:\n",
                "        odd_list.append(user_number)\n",
                "\n",
                "add_to_list(odd_list, even_list)\n",
                "print('odd_numbers:', odd_list)\n",
                "print('even_numbers:', even_list)"
            ]
        },
        {
            "attachments": {},
            "cell_type": "markdown",
            "metadata": {},
            "source": [
                "## 4.2 Exercise: Combining Lists\n",
                "\n",
                "We'll combine the `odd_list` and `even_list` into a single list called `all_numbers`, as follows:\n",
                "- If there are more odd numbers than even numbers, then put the odd numbers first, in the new list\n",
                "- Otherwise, we'll put the even numbers first, in the new list.\n",
                "\n",
                "Check that the `odd_list` and `even_list` are not modified, by this action. \n"
            ]
        },
        {
            "cell_type": "code",
            "execution_count": 4,
            "metadata": {},
            "outputs": [
                {
                    "data": {
                        "text/plain": [
                            "87"
                        ]
                    },
                    "execution_count": 4,
                    "metadata": {},
                    "output_type": "execute_result"
                }
            ],
            "source": [
                "# Write and test your solution here\n",
                "all_numbers = []\n",
                "if len(odd_list)>len(even_list):\n",
                "    all_numbers.extend(odd_list)\n",
                "    all_numbers.extend(even_list)\n",
                "else:\n",
                "    all_numbers.extend(even_list)\n",
                "    all_numbers.extend(odd_list)\n",
                "print('odd_numbers:', odd_list)\n",
                "print('even_numbers:', even_list)"
            ]
        },
        {
            "attachments": {},
            "cell_type": "markdown",
            "metadata": {},
            "source": [
                "## 4.3 Exercise: Roll-call\n",
                "\n",
                "Take a list of animals and double it, i.e. extend it by itself. \n",
                "\n",
                "Check that each animal is included exactly twice in this list.\n",
                "\n",
                "What happens if one animal is included more than once in the original list? \n"
            ]
        },
        {
            "cell_type": "code",
            "execution_count": 5,
            "metadata": {},
            "outputs": [
                {
                    "name": "stdout",
                    "output_type": "stream",
                    "text": [
                        "rabbit\n",
                        "goat\n",
                        "octopus\n"
                    ]
                }
            ],
            "source": [
                "animals = ['rabbit', 'goat', 'octopus']\n",
                "for animal in animals:\n",
                "    print(animal)\n"
            ]
        },
        {
            "attachments": {},
            "cell_type": "markdown",
            "metadata": {},
            "source": [
                "## 4.4 Neighbouring Animals\n",
                "\n",
                "### 4.4.1 Exercise: List Methods\n",
                "\n",
                "Using the `count` and `index` methods of the `list` data type, write a function called `get_neighbours` that accepts a list of animals, and a 'selected animal', which typically will be one of the animals in the list. \n",
                "- If the selected animal isn't in the list, the function should return `False`.\n",
                "- Otherwise, the function should return a new list containing the 'neighbouring animals' -- i.e. the ones that come before and after the first occurence of this selected animal, in the list. \n",
                "- If the selected animal is at the beginning or the end of the list, then the returned list should contain only one element. Otherwise, it should contain two elements. \n",
                "\n",
                "### 4.4.2 Extension: neighbouring animals (1 or 2 occurences) *\n",
                "\n",
                "Extend your function so that it finds all the neighbouring animals, whether there are one or two occurences of the selected animal. This means that the output list returned from the function may have up to four elements (up to two neighbours for up to two occurrences).\n"
            ]
        },
        {
            "cell_type": "code",
            "execution_count": 7,
            "metadata": {},
            "outputs": [
                {
                    "data": {
                        "text/plain": [
                            "['rabbit', 'octopus']"
                        ]
                    },
                    "execution_count": 7,
                    "metadata": {},
                    "output_type": "execute_result"
                }
            ],
            "source": [
                "# solution to one-occurence of selected animal\n",
                "def get_neighbours(animal_list, selected_animal):\n",
                "    n = animal_list.count(selected_animal)\n",
                "    if n == 0:\n",
                "        return False\n",
                "    output_list = []\n",
                "    i = animal_list.index(selected_animal)\n",
                "    if i>0:\n",
                "        output_list.append(animal_list[i-1])\n",
                "    if i<len(animal_list)-1:\n",
                "        output_list.append(animal_list[i+1])\n",
                "    return output_list\n",
                "\n",
                "animals = ['rabbit', 'goat', 'octopus']\n",
                "get_neighbours(animals, 'goat')\n"
            ]
        },
        {
            "cell_type": "code",
            "execution_count": 15,
            "metadata": {},
            "outputs": [
                {
                    "data": {
                        "text/plain": [
                            "['rabbit', 'octopus', 'fish', 'cat']"
                        ]
                    },
                    "execution_count": 15,
                    "metadata": {},
                    "output_type": "execute_result"
                }
            ],
            "source": [
                "# Extension\n",
                "\n",
                "# solution to one-occurence of selected animal\n",
                "def get_neighbours(animal_list, selected_animal):\n",
                "    n = animal_list.count(selected_animal)\n",
                "    if n == 0:\n",
                "        return False\n",
                "    output_list = []\n",
                "    i = animal_list.index(selected_animal)\n",
                "    if i>0:\n",
                "        output_list.append(animal_list[i-1])\n",
                "    if i<len(animal_list)-1:\n",
                "        output_list.append(animal_list[i+1])\n",
                "\n",
                "    if n==1:\n",
                "        return output_list\n",
                "    i2 = animal_list.index(selected_animal, i+1)\n",
                "    if i2>i+2:\n",
                "        output_list.append(animal_list[i2-1])\n",
                "    if i2<len(animal_list)-1:\n",
                "        output_list.append(animal_list[i2+1])\n",
                "    return output_list\n",
                "\n",
                "animals = ['rabbit', 'goat', 'octopus', 'fish', 'goat', 'cat']\n",
                "get_neighbours(animals, 'goat')\n"
            ]
        },
        {
            "attachments": {},
            "cell_type": "markdown",
            "metadata": {},
            "source": [
                "## 4.5 Exercise: List of Tuples \n",
                "\n",
                "As we may already know from Sunday School nursery rhymes, the animals went into the arc two-by-two. Write a function that accepts a list of animals and returns a list of tuples, each tuple containing two occurences of the original animal. \n",
                "\n",
                "For example, if we call the function using an argument of `['rabbit', 'goat', 'octopus']`, then we'd expect an output of \n",
                "\n",
                "`[('rabbit', 'rabbit'), ('goat', 'goat'), ('octopus', 'octopus')]`\n"
            ]
        },
        {
            "cell_type": "code",
            "execution_count": 16,
            "metadata": {},
            "outputs": [
                {
                    "name": "stdout",
                    "output_type": "stream",
                    "text": [
                        "rabbit\n",
                        "goat\n",
                        "octopus\n"
                    ]
                },
                {
                    "data": {
                        "text/plain": [
                            "[('rabbit', 'rabbit'), ('goat', 'goat'), ('octopus', 'octopus')]"
                        ]
                    },
                    "execution_count": 16,
                    "metadata": {},
                    "output_type": "execute_result"
                }
            ],
            "source": [
                "animals = ['rabbit', 'goat', 'octopus']\n",
                "for animal in animals:\n",
                "    print(animal)\n",
                "\n",
                "\n",
                "\n",
                "def two_by_two(animal_list):\n",
                "    output_list = []\n",
                "    for animal in animals:\n",
                "        t = (animal, animal)\n",
                "        output_list.append(t)\n",
                "    return output_list\n",
                "\n",
                "two_by_two(animals)"
            ]
        }
    ],
    "metadata": {
        "kernelspec": {
            "display_name": "base",
            "language": "python",
            "name": "python3"
        },
        "language_info": {
            "codemirror_mode": {
                "name": "ipython",
                "version": 3
            },
            "file_extension": ".py",
            "mimetype": "text/x-python",
            "name": "python",
            "nbconvert_exporter": "python",
            "pygments_lexer": "ipython3",
            "version": "3.9.7 (default, Sep 16 2021, 16:59:28) [MSC v.1916 64 bit (AMD64)]"
        },
        "orig_nbformat": 4,
        "vscode": {
            "interpreter": {
                "hash": "54b57a9d7255aa9bd89013014712be1af3e9c0518087b34529522b12b0bc87de"
            }
        }
    },
    "nbformat": 4,
    "nbformat_minor": 2
}