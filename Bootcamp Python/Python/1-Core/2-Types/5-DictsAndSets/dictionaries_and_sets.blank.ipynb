{
    "cells": [
        {
            "attachments": {},
            "cell_type": "markdown",
            "metadata": {},
            "source": [
                "---\n",
                "# 5. Dictionaries and Sets\n",
                "---\n",
                "\n",
                "The `dict` (dictionary) is the in-built python version of a mapping object. A mapping object refers to the data structure in computer science that stores key-value pairs.\n",
                "\n",
                "Whereas the elements in sequences can be accessed with indices 0, 1, 2,..., the elements in a mapping object are accessed by their keys.\n",
                "\n",
                "- A mapping object represents an arbitrary collection of key-value pairs\n",
                "- Objects in the collection are indexed by keys\n",
                "- Keys in the dictionary need to be unique, and hashable.\n",
                "- All immutable types in Python are hashable"
            ]
        },
        {
            "attachments": {},
            "cell_type": "markdown",
            "metadata": {},
            "source": [
                "## 5.1 Hashable objects\n",
                "- the `hash()` function takes a Python object and returns its hashed value\n",
                "- only **immutable data type** objects can be passed in the `hash()` function"
            ]
        },
        {
            "cell_type": "code",
            "execution_count": 1,
            "metadata": {},
            "outputs": [
                {
                    "data": {
                        "text/plain": [
                            "1"
                        ]
                    },
                    "execution_count": 1,
                    "metadata": {},
                    "output_type": "execute_result"
                }
            ],
            "source": [
                "hash(1)"
            ]
        },
        {
            "cell_type": "code",
            "execution_count": 2,
            "metadata": {},
            "outputs": [
                {
                    "data": {
                        "text/plain": [
                            "640382257715636324"
                        ]
                    },
                    "execution_count": 2,
                    "metadata": {},
                    "output_type": "execute_result"
                }
            ],
            "source": [
                "hash('maxmaxmaxmamxamxamxmaxmaxmamxamxmaxmamxmaxmamxam')"
            ]
        },
        {
            "cell_type": "code",
            "execution_count": 3,
            "metadata": {},
            "outputs": [
                {
                    "ename": "TypeError",
                    "evalue": "hash() takes exactly one argument (3 given)",
                    "output_type": "error",
                    "traceback": [
                        "\u001b[1;31m---------------------------------------------------------------------------\u001b[0m",
                        "\u001b[1;31mTypeError\u001b[0m                                 Traceback (most recent call last)",
                        "Cell \u001b[1;32mIn[3], line 1\u001b[0m\n\u001b[1;32m----> 1\u001b[0m \u001b[38;5;28;43mhash\u001b[39;49m\u001b[43m(\u001b[49m\u001b[38;5;241;43m1\u001b[39;49m\u001b[43m,\u001b[49m\u001b[43m \u001b[49m\u001b[38;5;241;43m2\u001b[39;49m\u001b[43m,\u001b[49m\u001b[43m \u001b[49m\u001b[38;5;241;43m3\u001b[39;49m\u001b[43m)\u001b[49m\n",
                        "\u001b[1;31mTypeError\u001b[0m: hash() takes exactly one argument (3 given)"
                    ]
                }
            ],
            "source": [
                "hash(1, 2, 3)"
            ]
        },
        {
            "cell_type": "code",
            "execution_count": 4,
            "metadata": {},
            "outputs": [
                {
                    "data": {
                        "text/plain": [
                            "529344067295497451"
                        ]
                    },
                    "execution_count": 4,
                    "metadata": {},
                    "output_type": "execute_result"
                }
            ],
            "source": [
                "hash((1, 2, 3))"
            ]
        },
        {
            "cell_type": "markdown",
            "metadata": {},
            "source": [
                "## 5.2 Python Dictionaries \n",
                "Python dictionaries are a **mutable** collection of key-value pairs with **unique** keys. "
            ]
        },
        {
            "cell_type": "code",
            "execution_count": 6,
            "metadata": {},
            "outputs": [
                {
                    "name": "stdout",
                    "output_type": "stream",
                    "text": [
                        "{1: 'One', 2: 'Two', 3: 'Three'}\n",
                        "<class 'dict'>\n"
                    ]
                }
            ],
            "source": [
                "my_dict = {1:'One', 2:'Two', 3:'Three'}\n",
                "print(my_dict)\n",
                "print(type(my_dict))"
            ]
        },
        {
            "cell_type": "code",
            "execution_count": 8,
            "metadata": {},
            "outputs": [],
            "source": [
                "my_dict_1 = {(1,2):'List 1', (3,4): 'List 2'}"
            ]
        },
        {
            "cell_type": "code",
            "execution_count": 9,
            "metadata": {},
            "outputs": [
                {
                    "name": "stdout",
                    "output_type": "stream",
                    "text": [
                        "{1: 'A new one', 2: 'Two', 3: 'Three'}\n"
                    ]
                }
            ],
            "source": [
                "my_dict[1] = 'A new one'\n",
                "print(my_dict)"
            ]
        },
        {
            "cell_type": "code",
            "execution_count": 10,
            "metadata": {},
            "outputs": [
                {
                    "name": "stdout",
                    "output_type": "stream",
                    "text": [
                        "{1: 'One', 2: 'One', 3: [1, 2, 3]}\n"
                    ]
                }
            ],
            "source": [
                "my_dict_2 = {1: 'One', 2:'One', 3:[1, 2, 3]}\n",
                "print(my_dict_2)"
            ]
        },
        {
            "cell_type": "code",
            "execution_count": null,
            "metadata": {},
            "outputs": [],
            "source": []
        },
        {
            "cell_type": "code",
            "execution_count": null,
            "metadata": {},
            "outputs": [],
            "source": []
        },
        {
            "cell_type": "markdown",
            "metadata": {},
            "source": [
                "### 5.2.1  Is a Python dictionary 'ordered'?\n",
                "\n",
                "officially, the python in-built dictionary is unordered, even though insertion order is preserved.\n",
                "\n",
                "This is because two dictionaries, with same key values but different order, will be evaluated to be equal to each other"
            ]
        },
        {
            "cell_type": "code",
            "execution_count": 12,
            "metadata": {},
            "outputs": [
                {
                    "name": "stdout",
                    "output_type": "stream",
                    "text": [
                        "{1: 'One', 2: 'Two'}\n",
                        "{2: 'Two', 1: 'One'}\n"
                    ]
                },
                {
                    "data": {
                        "text/plain": [
                            "True"
                        ]
                    },
                    "execution_count": 12,
                    "metadata": {},
                    "output_type": "execute_result"
                }
            ],
            "source": [
                "my_dict_3 = {1:'One', 2:'Two'}\n",
                "my_dict_4 = {2:'Two', 1:'One'}\n",
                "print(my_dict_3)\n",
                "print(my_dict_4)\n",
                "my_dict_3 == my_dict_4"
            ]
        },
        {
            "cell_type": "markdown",
            "metadata": {},
            "source": [
                "### 5.2.2 Dictionary methods\n",
                "Python dictionaries have a range of built-in methods that allow us to perform different operations on dictionaries."
            ]
        },
        {
            "cell_type": "code",
            "execution_count": 14,
            "metadata": {},
            "outputs": [
                {
                    "name": "stdout",
                    "output_type": "stream",
                    "text": [
                        "{'cohort': 'DE35', 'Module': 'Python', 'Year': 2024}\n"
                    ]
                }
            ],
            "source": [
                "my_dict_5 = {'cohort':'DE35', 'Module':'Python', 'Year':2024}\n",
                "print(my_dict_5)"
            ]
        },
        {
            "cell_type": "markdown",
            "metadata": {},
            "source": [
                "#### `keys` method"
            ]
        },
        {
            "cell_type": "code",
            "execution_count": 16,
            "metadata": {
                "scrolled": true
            },
            "outputs": [
                {
                    "name": "stdout",
                    "output_type": "stream",
                    "text": [
                        "dict_keys(['cohort', 'Module', 'Year'])\n",
                        "key is cohort\n",
                        "key is Module\n",
                        "key is Year\n"
                    ]
                }
            ],
            "source": [
                "print(my_dict_5.keys())\n",
                "\n",
                "for key in my_dict_5.keys():\n",
                "    print(f'key is {key}')"
            ]
        },
        {
            "cell_type": "code",
            "execution_count": 18,
            "metadata": {},
            "outputs": [
                {
                    "name": "stdout",
                    "output_type": "stream",
                    "text": [
                        "['cohort', 'Module', 'Year']\n"
                    ]
                }
            ],
            "source": [
                "keys_list = list(my_dict_5.keys())\n",
                "print(keys_list)"
            ]
        },
        {
            "cell_type": "markdown",
            "metadata": {},
            "source": [
                "#### `values` method"
            ]
        },
        {
            "cell_type": "code",
            "execution_count": 19,
            "metadata": {
                "scrolled": true
            },
            "outputs": [
                {
                    "name": "stdout",
                    "output_type": "stream",
                    "text": [
                        "dict_values(['DE35', 'Python', 2024])\n"
                    ]
                }
            ],
            "source": [
                "print(my_dict_5.values())"
            ]
        },
        {
            "cell_type": "code",
            "execution_count": 20,
            "metadata": {},
            "outputs": [
                {
                    "name": "stdout",
                    "output_type": "stream",
                    "text": [
                        "['DE35', 'Python', 2024]\n"
                    ]
                }
            ],
            "source": [
                "values_list = list(my_dict_5.values())\n",
                "print(values_list)"
            ]
        },
        {
            "cell_type": "markdown",
            "metadata": {},
            "source": [
                "#### `items` method"
            ]
        },
        {
            "cell_type": "code",
            "execution_count": 21,
            "metadata": {},
            "outputs": [
                {
                    "name": "stdout",
                    "output_type": "stream",
                    "text": [
                        "dict_items([('cohort', 'DE35'), ('Module', 'Python'), ('Year', 2024)])\n"
                    ]
                }
            ],
            "source": [
                "print(my_dict_5.items())\n"
            ]
        },
        {
            "cell_type": "markdown",
            "metadata": {},
            "source": [
                "#### `update` method"
            ]
        },
        {
            "cell_type": "code",
            "execution_count": 27,
            "metadata": {},
            "outputs": [
                {
                    "name": "stdout",
                    "output_type": "stream",
                    "text": [
                        "id of my_dict_5 is 2252936813376\n",
                        "{'cohort': 'DE35', 'Module': 'Python', 'Year': 2024, 'month': 'February', 'Practice': 'data engineering'}\n",
                        "id of my_dict_5 is 2252936813376\n"
                    ]
                }
            ],
            "source": [
                "my_dict_5 = {'cohort':'DE35', 'Module':'Python', 'Year':2024}\n",
                "print(f'id of my_dict_5 is {id(my_dict_5)}')\n",
                "\n",
                "\n",
                "another_dict = {'month':'February', 'Practice':'data engineering'}\n",
                "my_dict_5.update(another_dict)\n",
                "print(my_dict_5)\n",
                "print(f'id of my_dict_5 is {id(my_dict_5)}')"
            ]
        },
        {
            "cell_type": "markdown",
            "metadata": {},
            "source": [
                "More dictionary methods can be found at https://www.w3schools.com/python/python_ref_dictionary.asp"
            ]
        },
        {
            "cell_type": "markdown",
            "metadata": {},
            "source": [
                "## 5.3 Python Sets\n",
                "\n",
                "Sets are an **mutable**, **unordered** collection of **unique** items. These allow us to perform set operations. Common set operations include:\n",
                "- Set union\n",
                "- Set intersection\n",
                "- Set difference\n",
                "- Subset checking\n",
                "- Disjoint checking\n",
                "\n",
                "Sets are created using `{}`. But they are different from dictionaries in that each element is not a key-value pair. So, you can think of them as a list but enclosed using `{}`"
            ]
        },
        {
            "cell_type": "code",
            "execution_count": 30,
            "metadata": {},
            "outputs": [
                {
                    "name": "stdout",
                    "output_type": "stream",
                    "text": [
                        "{'a', 'c', 'b', 'e', 'd'}\n",
                        "<class 'set'>\n"
                    ]
                }
            ],
            "source": [
                "my_set = {'a','b','c','d','e'}\n",
                "print(my_set)\n",
                "print(type(my_set))"
            ]
        },
        {
            "cell_type": "code",
            "execution_count": 31,
            "metadata": {},
            "outputs": [
                {
                    "name": "stdout",
                    "output_type": "stream",
                    "text": [
                        "{'a', 'c', 'b', 'e', 'd'}\n"
                    ]
                }
            ],
            "source": [
                "my_set_2 = {'a','b','c','d','e','a','a','e'}\n",
                "print(my_set_2)"
            ]
        },
        {
            "cell_type": "code",
            "execution_count": 32,
            "metadata": {},
            "outputs": [
                {
                    "ename": "TypeError",
                    "evalue": "unhashable type: 'set'",
                    "output_type": "error",
                    "traceback": [
                        "\u001b[1;31m---------------------------------------------------------------------------\u001b[0m",
                        "\u001b[1;31mTypeError\u001b[0m                                 Traceback (most recent call last)",
                        "Cell \u001b[1;32mIn[32], line 1\u001b[0m\n\u001b[1;32m----> 1\u001b[0m \u001b[38;5;28;43mhash\u001b[39;49m\u001b[43m(\u001b[49m\u001b[43mmy_set_2\u001b[49m\u001b[43m)\u001b[49m\n",
                        "\u001b[1;31mTypeError\u001b[0m: unhashable type: 'set'"
                    ]
                }
            ],
            "source": [
                "hash(my_set_2)"
            ]
        },
        {
            "cell_type": "code",
            "execution_count": 9,
            "metadata": {},
            "outputs": [],
            "source": [
                "my_list = []\n",
                "my_tuple = ()\n",
                "my_dict = {}\n"
            ]
        },
        {
            "cell_type": "code",
            "execution_count": null,
            "metadata": {},
            "outputs": [],
            "source": []
        },
        {
            "cell_type": "code",
            "execution_count": 34,
            "metadata": {},
            "outputs": [
                {
                    "name": "stdout",
                    "output_type": "stream",
                    "text": [
                        "set()\n",
                        "<class 'set'>\n"
                    ]
                }
            ],
            "source": [
                "empty_set = set()\n",
                "print(empty_set)\n",
                "print(type(empty_set))"
            ]
        },
        {
            "cell_type": "code",
            "execution_count": 35,
            "metadata": {},
            "outputs": [
                {
                    "data": {
                        "text/plain": [
                            "0"
                        ]
                    },
                    "execution_count": 35,
                    "metadata": {},
                    "output_type": "execute_result"
                }
            ],
            "source": [
                "len(empty_set)"
            ]
        },
        {
            "cell_type": "code",
            "execution_count": 36,
            "metadata": {},
            "outputs": [],
            "source": [
                "a = {1, 2, 3}\n",
                "b = {3, 4, 5, 6}"
            ]
        },
        {
            "attachments": {},
            "cell_type": "markdown",
            "metadata": {},
            "source": [
                "### 5.3.1 `union` method"
            ]
        },
        {
            "cell_type": "code",
            "execution_count": 37,
            "metadata": {},
            "outputs": [
                {
                    "data": {
                        "text/plain": [
                            "{1, 2, 3, 4, 5, 6}"
                        ]
                    },
                    "execution_count": 37,
                    "metadata": {},
                    "output_type": "execute_result"
                }
            ],
            "source": [
                "a.union(b)\n"
            ]
        },
        {
            "cell_type": "code",
            "execution_count": 38,
            "metadata": {},
            "outputs": [
                {
                    "name": "stdout",
                    "output_type": "stream",
                    "text": [
                        "{1, 2, 3}\n",
                        "{3, 4, 5, 6}\n"
                    ]
                }
            ],
            "source": [
                "print(a)\n",
                "print(b)"
            ]
        },
        {
            "attachments": {},
            "cell_type": "markdown",
            "metadata": {},
            "source": [
                "### 5.3.2 `intersection` method"
            ]
        },
        {
            "cell_type": "code",
            "execution_count": 39,
            "metadata": {},
            "outputs": [
                {
                    "data": {
                        "text/plain": [
                            "{3}"
                        ]
                    },
                    "execution_count": 39,
                    "metadata": {},
                    "output_type": "execute_result"
                }
            ],
            "source": [
                "a.intersection(b)\n"
            ]
        },
        {
            "attachments": {},
            "cell_type": "markdown",
            "metadata": {},
            "source": [
                "### 5.3.3 `difference` method"
            ]
        },
        {
            "cell_type": "code",
            "execution_count": 40,
            "metadata": {},
            "outputs": [
                {
                    "data": {
                        "text/plain": [
                            "{1, 2}"
                        ]
                    },
                    "execution_count": 40,
                    "metadata": {},
                    "output_type": "execute_result"
                }
            ],
            "source": [
                "a.difference(b)"
            ]
        },
        {
            "cell_type": "code",
            "execution_count": null,
            "metadata": {},
            "outputs": [],
            "source": []
        },
        {
            "attachments": {},
            "cell_type": "markdown",
            "metadata": {},
            "source": [
                "### 5.3.4 `issubset` method"
            ]
        },
        {
            "cell_type": "code",
            "execution_count": 44,
            "metadata": {},
            "outputs": [
                {
                    "data": {
                        "text/plain": [
                            "True"
                        ]
                    },
                    "execution_count": 44,
                    "metadata": {},
                    "output_type": "execute_result"
                }
            ],
            "source": [
                "set_a ={'a','b','c'}\n",
                "set_d = {'a','b','c','d'}\n",
                "\n",
                "set_a.issubset(set_d)\n"
            ]
        },
        {
            "cell_type": "code",
            "execution_count": 14,
            "metadata": {},
            "outputs": [],
            "source": []
        },
        {
            "attachments": {},
            "cell_type": "markdown",
            "metadata": {},
            "source": [
                "### 5.3.5 `isdisjoint` method"
            ]
        },
        {
            "cell_type": "code",
            "execution_count": 42,
            "metadata": {},
            "outputs": [
                {
                    "data": {
                        "text/plain": [
                            "False"
                        ]
                    },
                    "execution_count": 42,
                    "metadata": {},
                    "output_type": "execute_result"
                }
            ],
            "source": [
                "a.isdisjoint(b) \n"
            ]
        },
        {
            "cell_type": "markdown",
            "metadata": {},
            "source": [
                "More set methods can be found at https://www.w3schools.com/python/python_ref_set.asp"
            ]
        }
    ],
    "metadata": {
        "kernelspec": {
            "display_name": "Python 3",
            "language": "python",
            "name": "python3"
        },
        "language_info": {
            "codemirror_mode": {
                "name": "ipython",
                "version": 3
            },
            "file_extension": ".py",
            "mimetype": "text/x-python",
            "name": "python",
            "nbconvert_exporter": "python",
            "pygments_lexer": "ipython3",
            "version": "3.11.8"
        },
        "varInspector": {
            "cols": {
                "lenName": 16,
                "lenType": 16,
                "lenVar": 40
            },
            "kernels_config": {
                "python": {
                    "delete_cmd_postfix": "",
                    "delete_cmd_prefix": "del ",
                    "library": "var_list.py",
                    "varRefreshCmd": "print(var_dic_list())"
                },
                "r": {
                    "delete_cmd_postfix": ") ",
                    "delete_cmd_prefix": "rm(",
                    "library": "var_list.r",
                    "varRefreshCmd": "cat(var_dic_list()) "
                }
            },
            "types_to_exclude": [
                "module",
                "function",
                "builtin_function_or_method",
                "instance",
                "_Feature"
            ],
            "window_display": false
        },
        "vscode": {
            "interpreter": {
                "hash": "4f77c56a1733e9d421c3a053160f731a1cdaa61fcda062af7a855a05be992435"
            }
        }
    },
    "nbformat": 4,
    "nbformat_minor": 2
}
