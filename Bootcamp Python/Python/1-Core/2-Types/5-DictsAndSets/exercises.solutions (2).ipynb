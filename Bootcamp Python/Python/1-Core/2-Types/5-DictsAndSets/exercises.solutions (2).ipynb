{
    "cells": [
        {
            "attachments": {},
            "cell_type": "markdown",
            "metadata": {},
            "source": [
                "# 5. Dictionaries and Sets",
                "\n| <u>**Metric**<u> | <u>Count<u> |\n| --- | --- |\n| **Cells** | 15 |\n| **Characters** | 5555 |\n| **Exercises** | 5 (2 **S**, 2 **M**, 1 **L**) |\n| **Completion Time** | 59 min |\n\n"
            ]
        },
        {
            "attachments": {},
            "cell_type": "markdown",
            "metadata": {},
            "source": [
                "The following exercises ask you to solve the problem using a function. There is some structure present used to guide you. \n",
                "\n",
                "If you are unsure of how to tackle the problem, make more cells and first solve the problem without a function."
            ]
        },
        {
            "attachments": {},
            "cell_type": "markdown",
            "metadata": {},
            "source": [
                "## 5.1 Exercise: Address Book - Get names in common\n",
                " \n",
                "Write a function called `get_names_in_common`, that accepts a two arguments: each being an 'address book' dictionary in which the keys are the names and the values are the numbers (stored as strings). The function should return a set of names. This set contains all the names that appear in both address books.\n"
            ]
        },
        {
            "cell_type": "code",
            "execution_count": 5,
            "metadata": {},
            "outputs": [],
            "source": [
                "def get_names_in_common(address_book1, address_book2):\n",
                "    pass\n",
                "\n",
                "def get_names_in_common(address_book1, address_book2):\n",
                "    \n",
                "    names_1 = set(address_book1.keys())\n",
                "    names_2 = set(address_book2.keys())\n",
                "    names_in_common = names_1.intersection(names_2)\n",
                "    return names_in_common"
            ]
        },
        {
            "cell_type": "code",
            "execution_count": 2,
            "metadata": {},
            "outputs": [
                {
                    "data": {
                        "text/plain": [
                            "{'Gareth', 'Jared'}"
                        ]
                    },
                    "execution_count": 2,
                    "metadata": {},
                    "output_type": "execute_result"
                }
            ],
            "source": [
                "# Running this should give...\n",
                "test_book1 = {\"Gareth\": 9293512334, \"Jared\": 1234567890, \"Nina\": 3873123443}\n",
                "test_book2 = {\"Gareth\": 9293512334, \"Jared\": 1234567890, \"Maddie\": 3455634563}\n",
                "get_names_in_common(test_book1, test_book2)\n",
                "# ... the following:\n",
                "# {'Gareth', 'Jared'}\n"
            ]
        },
        {
            "attachments": {},
            "cell_type": "markdown",
            "metadata": {},
            "source": [
                "## 5.2 Exercise: Address Book - Get numbers in common \n",
                " \n",
                "Write a function called `get_numbers_in_common`, that accepts a two arguments: each being an 'address book' dictionary in which the keys are the names and the values are the phone numbers (stored as strings). The function should return a  set of (string) phone numbers. This set contains all the numbers that appear in both address books.\n"
            ]
        },
        {
            "cell_type": "code",
            "execution_count": null,
            "metadata": {},
            "outputs": [],
            "source": [
                "def get_numbers_in_common(address_book1, address_book2):\n",
                "    pass\n",
                "\n",
                "def get_numbers_in_common(address_book_1, address_book_2):\n",
                "    numbers_1 = set(address_book_1.values())\n",
                "    numbers_2 = set(address_book_2.values())\n",
                "    numbers_in_common = numbers_1.intersection(numbers_2)\n",
                "    return numbers_in_common"
            ]
        },
        {
            "cell_type": "code",
            "execution_count": null,
            "metadata": {},
            "outputs": [],
            "source": [
                "# Running this should give...\n",
                "test_book1 = {\"Gareth\": 9293512334, \"Jared\": 1234567890, \"Nina\": 3873123443}\n",
                "test_book2 = {\"Gareth\": 9293512334, \"Jared\": 1234567890, \"Maddie\": 3455634563}\n",
                "get_numbers_in_common(test_book1, test_book2)\n",
                "# ... the following:\n",
                "# {1234567890, 9293512334}\n"
            ]
        },
        {
            "attachments": {},
            "cell_type": "markdown",
            "metadata": {},
            "source": [
                "## 5.3 Exercise: Search Address Book *\n",
                "\n",
                "Write a function called search_address_book, that accepts a two arguments: an 'address book' dictionary in which the keys are the names and the values are the numbers (stored as strings), and a search string. The function should return a dictionary that contains all the entries in the original address book, for which the name starts with the search string. "
            ]
        },
        {
            "cell_type": "code",
            "execution_count": 9,
            "metadata": {},
            "outputs": [],
            "source": [
                "def search_address_book(address_book, search_str):\n",
                "    pass\n",
                "\n",
                "## ",
                "# Solution 1\n",
                "def search_address_book(address_book, search_string):\n",
                "    new_address_book = {}\n",
                "    for name in address_book:\n",
                "        # Using .find()\n",
                "        if name.find(search_string) == 0:\n",
                "            new_address_book[name] = address_book[name]\n",
                "\n",
                "    return new_address_book\n",
                "\n",
                "# Solution 2\n",
                "def search_address_book(address_book, search_str):\n",
                "    new_address_book = {}\n",
                "    for name in address_book:\n",
                "        # Using .startswith(), not in course material, but easily googleable\n",
                "        if name.startswith(search_str):\n",
                "            new_address_book[name] = address_book[name]\n",
                "    return new_address_book\n",
                "\n",
                "# Solution 3\n",
                "def search_address_book(address_book, search_string):\n",
                "    new_address_book = {}\n",
                "    # Using .lower() for case insensitivity\n",
                "    search_string = search_string.lower()\n",
                "    for name, number in address_book.items(): # Using .items() to iterate \n",
                "        if name.lower().startswith(search_string): # An example of chaining string methods\n",
                "            new_address_book[name] = number\n",
                "    return new_address_book"
            ]
        },
        {
            "attachments": {},
            "cell_type": "markdown",
            "metadata": {},
            "source": [
                "## 5.4 Exercise: Count Vowels *\n",
                "\n",
                "Write a function `count_vowels` that accepts a string and return a dictionary that contains each of the five vowels as keys. The corresponding values should represent that number of occurrence of each vowel, in the input string. For Example, the input string  'hello world' will return the dictionary:\n",
                "`{'a':0, 'e':1, 'i':0, 'o':2, 'u':0}`\n",
                "\n",
                "The solution should be case insensitive.\n",
                "\n",
                "Example:\n",
                "\n",
                "`count_vowels('Albert Einstein')`\n",
                "\n",
                "returns `{'a': 1, 'e': 3, 'i': 2, 'o': 0, 'u': 0}`"
            ]
        },
        {
            "cell_type": "code",
            "execution_count": 3,
            "metadata": {},
            "outputs": [
                {
                    "data": {
                        "text/plain": [
                            "{'a': 1, 'e': 3, 'i': 2, 'o': 0, 'u': 0}"
                        ]
                    },
                    "execution_count": 3,
                    "metadata": {},
                    "output_type": "execute_result"
                }
            ],
            "source": [
                "def count_vowels(input_string):\n",
                "    pass\n",
                "\n",
                "def count_vowels(input_str):\n",
                "    input_str = input_str.lower()\n",
                "    vowel_count = {\"a\": 0, \"e\": 0, \"i\": 0, \"o\": 0, \"u\": 0}\n",
                "    for vowel in vowel_count:\n",
                "        vowel_count[vowel] = input_str.count(vowel)\n",
                "\n",
                "    return vowel_count\n",
                "\n",
                "count_vowels('Albert Einstein')"
            ]
        },
        {
            "attachments": {},
            "cell_type": "markdown",
            "metadata": {},
            "source": [
                "## 5.5 Exercise: Address Book - Count vowels for the names in common **\n",
                "\n",
                "Using both your `get_names_in_common` and your `count_vowels` functions, create a new function that accepts two address books and counts the vowels for the names in common.\n",
                "\n",
                "Example usage:\n",
                "\n",
                "```python\n",
                "test_book1 = {\"Albert Einstein\": 9293512334, \"Marie Curie\": 1234567890}\n",
                "test_book2 = {\"Albert Einstein\": 9293512334, \"Ada Lovelace\": 1234567890}\n",
                "count_vowels_for_names_in_common(test_book1, test_book2)\n",
                "```\n",
                "\n",
                "returns `{'Albert Einstein': {'a': 1, 'e': 3, 'i': 2, 'o': 0, 'u': 0}}`"
            ]
        },
        {
            "cell_type": "code",
            "execution_count": 10,
            "metadata": {},
            "outputs": [],
            "source": [
                "def count_vowels_for_names_in_common(address_book1, address_book2):\n",
                "    pass\n",
                "\n",
                "def count_vowels_for_names_in_common(address_book1, address_book2):\n",
                "    names_in_common = get_names_in_common(address_book1, address_book2)\n",
                "    output = {}\n",
                "    for name in names_in_common:\n",
                "        output[name] = count_vowels(name)\n",
                "    return output"
            ]
        },
        {
            "cell_type": "code",
            "execution_count": 11,
            "metadata": {},
            "outputs": [
                {
                    "data": {
                        "text/plain": [
                            "{'Albert Einstein': {'a': 1, 'e': 3, 'i': 2, 'o': 0, 'u': 0}}"
                        ]
                    },
                    "execution_count": 11,
                    "metadata": {},
                    "output_type": "execute_result"
                }
            ],
            "source": [
                "# Test your function below\n",
                "test_book1 = {\"Albert Einstein\": 9293512334, \"Marie Curie\": 1234567890}\n",
                "test_book2 = {\"Albert Einstein\": 9293512334, \"Ada Lovelace\": 1234567890}\n",
                "count_vowels_for_names_in_common(test_book1, test_book2)\n"
            ]
        }
    ],
    "metadata": {
        "kernelspec": {
            "display_name": "base",
            "language": "python",
            "name": "python3"
        },
        "language_info": {
            "codemirror_mode": {
                "name": "ipython",
                "version": 3
            },
            "file_extension": ".py",
            "mimetype": "text/x-python",
            "name": "python",
            "nbconvert_exporter": "python",
            "pygments_lexer": "ipython3",
            "version": "3.9.7 (default, Sep 16 2021, 16:59:28) [MSC v.1916 64 bit (AMD64)]"
        },
        "orig_nbformat": 4,
        "vscode": {
            "interpreter": {
                "hash": "54b57a9d7255aa9bd89013014712be1af3e9c0518087b34529522b12b0bc87de"
            }
        }
    },
    "nbformat": 4,
    "nbformat_minor": 2
}