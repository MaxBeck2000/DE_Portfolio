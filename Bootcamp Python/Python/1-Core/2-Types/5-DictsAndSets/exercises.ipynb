{
    "cells": [
        {
            "attachments": {},
            "cell_type": "markdown",
            "metadata": {},
            "source": [
                "# 5. Dictionaries and Sets"
            ]
        },
        {
            "attachments": {},
            "cell_type": "markdown",
            "metadata": {},
            "source": [
                "The following exercises ask you to solve the problem using a function. There is some structure present used to guide you. \n",
                "\n",
                "If you are unsure of how to tackle the problem, make more cells and first solve the problem without a function."
            ]
        },
        {
            "attachments": {},
            "cell_type": "markdown",
            "metadata": {},
            "source": [
                "## 5.1 Exercise: Address Book - Get names in common\n",
                " \n",
                "Write a function called `get_names_in_common`, that accepts a two arguments: each being an 'address book' dictionary in which the keys are the names and the values are the numbers (stored as strings). The function should return a set of names. This set contains all the names that appear in both address books.\n"
            ]
        },
        {
            "cell_type": "code",
            "execution_count": 5,
            "metadata": {},
            "outputs": [],
            "source": [
                "def get_names_in_common(address_book1, address_book2):\n",
                "    names1 = set(address_book1.keys())\n",
                "    names2 = set(address_book2.keys())\n",
                "    common = names1.intersection(names2)\n",
                "    print(common)\n"
            ]
        },
        {
            "cell_type": "code",
            "execution_count": 6,
            "metadata": {},
            "outputs": [
                {
                    "name": "stdout",
                    "output_type": "stream",
                    "text": [
                        "{'Gareth', 'Jared'}\n"
                    ]
                }
            ],
            "source": [
                "# Running this should give...\n",
                "test_book1 = {\"Gareth\": 9293512334, \"Jared\": 1234567890, \"Nina\": 3873123443}\n",
                "test_book2 = {\"Gareth\": 9293512334, \"Jared\": 1234567890, \"Maddie\": 3455634563}\n",
                "get_names_in_common(test_book1, test_book2)\n",
                "# ... the following:\n",
                "# {'Gareth', 'Jared'}\n"
            ]
        },
        {
            "attachments": {},
            "cell_type": "markdown",
            "metadata": {},
            "source": [
                "## 5.2 Exercise: Address Book - Get numbers in common \n",
                " \n",
                "Write a function called `get_numbers_in_common`, that accepts a two arguments: each being an 'address book' dictionary in which the keys are the names and the values are the phone numbers (stored as strings). The function should return a  set of (string) phone numbers. This set contains all the numbers that appear in both address books.\n"
            ]
        },
        {
            "cell_type": "code",
            "execution_count": 2,
            "metadata": {},
            "outputs": [],
            "source": [
                "def get_numbers_in_common(address_book1, address_book2):\n",
                "    numbers1 = set(address_book1.values())\n",
                "    numbers2 = set(address_book2.values())\n",
                "    common = numbers1.intersection(numbers2)\n",
                "    return common\n"
            ]
        },
        {
            "cell_type": "code",
            "execution_count": 3,
            "metadata": {},
            "outputs": [
                {
                    "data": {
                        "text/plain": [
                            "{1234567890, 9293512334}"
                        ]
                    },
                    "execution_count": 3,
                    "metadata": {},
                    "output_type": "execute_result"
                }
            ],
            "source": [
                "# Running this should give...\n",
                "test_book1 = {\"Gareth\": 9293512334, \"Jared\": 1234567890, \"Nina\": 3873123443}\n",
                "test_book2 = {\"Gareth\": 9293512334, \"Jared\": 1234567890, \"Maddie\": 3455634563}\n",
                "get_numbers_in_common(test_book1, test_book2)\n",
                "# ... the following:\n",
                "# {1234567890, 9293512334}\n"
            ]
        },
        {
            "attachments": {},
            "cell_type": "markdown",
            "metadata": {},
            "source": [
                "## 5.3 Exercise: Search Address Book *\n",
                "\n",
                "Write a function called search_address_book, that accepts a two arguments: an 'address book' dictionary in which the keys are the names and the values are the numbers (stored as strings), and a search string. The function should return a dictionary that contains all the entries in the original address book, for which the name starts with the search string. "
            ]
        },
        {
            "cell_type": "code",
            "execution_count": 8,
            "metadata": {},
            "outputs": [],
            "source": [
                "def search_address_book(address_book, search_str):\n",
                "    output = {}\n",
                "    for name, number in address_book.items():\n",
                "        if name.find(search_str) == 0:\n",
                "            output[name] = number\n",
                "        else:\n",
                "            pass\n",
                "    return output\n"
            ]
        },
        {
            "cell_type": "code",
            "execution_count": 11,
            "metadata": {},
            "outputs": [
                {
                    "data": {
                        "text/plain": [
                            "{'Jared': 1234567890}"
                        ]
                    },
                    "execution_count": 11,
                    "metadata": {},
                    "output_type": "execute_result"
                }
            ],
            "source": [
                "address_book = {\"Gareth\": 9293512334, \"Jared\": 1234567890, \"Nina\": 3873123443}\n",
                "search_str = \"Jared\"\n",
                "search_address_book(address_book, search_str)"
            ]
        },
        {
            "attachments": {},
            "cell_type": "markdown",
            "metadata": {},
            "source": [
                "## 5.4 Exercise: Count Vowels *\n",
                "\n",
                "Write a function `count_vowels` that accepts a string and return a dictionary that contains each of the five vowels as keys. The corresponding values should represent that number of occurrence of each vowel, in the input string. For Example, the input string  'hello world' will return the dictionary:\n",
                "`{'a':0, 'e':1, 'i':0, 'o':2, 'u':0}`\n",
                "\n",
                "The solution should be case insensitive.\n",
                "\n",
                "Example:\n",
                "\n",
                "`count_vowels('Albert Einstein')`\n",
                "\n",
                "returns `{'a': 1, 'e': 3, 'i': 2, 'o': 0, 'u': 0}`"
            ]
        },
        {
            "cell_type": "code",
            "execution_count": 26,
            "metadata": {},
            "outputs": [],
            "source": [
                "def count_vowels(input_string):\n",
                "    vowels = ['a','e','i','o','u']   \n",
                "    output = {}\n",
                "    input_string = input_string.lower()\n",
                "    for char in vowels:\n",
                "        count = 0\n",
                "        for i in input_string:\n",
                "            if i == char:\n",
                "                count = count + 1       \n",
                "        output[char] = count \n",
                "    return output\n"
            ]
        },
        {
            "cell_type": "code",
            "execution_count": 27,
            "metadata": {},
            "outputs": [
                {
                    "data": {
                        "text/plain": [
                            "{'a': 1, 'e': 4, 'i': 1, 'o': 4, 'u': 2}"
                        ]
                    },
                    "execution_count": 27,
                    "metadata": {},
                    "output_type": "execute_result"
                }
            ],
            "source": [
                "count_vowels('The quick brown fox jumped over the lazy dog')"
            ]
        },
        {
            "attachments": {},
            "cell_type": "markdown",
            "metadata": {},
            "source": [
                "## 5.5 Exercise: Address Book - Count vowels for the names in common **\n",
                "\n",
                "Using both your `get_names_in_common` and your `count_vowels` functions, create a new function that accepts two address books and counts the vowels for the names in common.\n",
                "\n",
                "Example usage:\n",
                "\n",
                "```python\n",
                "test_book1 = {\"Albert Einstein\": 9293512334, \"Marie Curie\": 1234567890}\n",
                "test_book2 = {\"Albert Einstein\": 9293512334, \"Ada Lovelace\": 1234567890}\n",
                "count_vowels_for_names_in_common(test_book1, test_book2)\n",
                "```\n",
                "\n",
                "returns `{'Albert Einstein': {'a': 1, 'e': 3, 'i': 2, 'o': 0, 'u': 0}}`"
            ]
        },
        {
            "cell_type": "code",
            "execution_count": 83,
            "metadata": {},
            "outputs": [],
            "source": [
                "def count_vowels_for_names_in_common(address_book1, address_book2):\n",
                "    vowels = ['a','e','i','o','u']\n",
                "    names1 = set(address_book1.keys())\n",
                "    names2 = set(address_book2.keys())\n",
                "    common = names1.intersection(names2)\n",
                "    common_list = list(common)\n",
                "    output = {}\n",
                "\n",
                "    for element in common_list:\n",
                "        element_lower = element.lower()\n",
                "        vowel_list = {}\n",
                "        for char in vowels:\n",
                "            count = 0\n",
                "            for i in element_lower:\n",
                "                if i == char:\n",
                "                    count = count + 1       \n",
                "            vowel_list[char] = count \n",
                "        output[element] = vowel_list\n",
                "    return output       \n"
            ]
        },
        {
            "cell_type": "code",
            "execution_count": 84,
            "metadata": {},
            "outputs": [
                {
                    "data": {
                        "text/plain": [
                            "{'Albert Einstein': {'a': 1, 'e': 3, 'i': 2, 'o': 0, 'u': 0}}"
                        ]
                    },
                    "execution_count": 84,
                    "metadata": {},
                    "output_type": "execute_result"
                }
            ],
            "source": [
                "# Test your function below\n",
                "test_book1 = {\"Albert Einstein\": 9293512334, \"Marie Curie\": 1234567890}\n",
                "test_book2 = {\"Albert Einstein\": 9293512334, \"Ada Lovelace\": 1234567890}\n",
                "count_vowels_for_names_in_common(test_book1, test_book2)\n"
            ]
        }
    ],
    "metadata": {
        "kernelspec": {
            "display_name": "base",
            "language": "python",
            "name": "python3"
        },
        "language_info": {
            "codemirror_mode": {
                "name": "ipython",
                "version": 3
            },
            "file_extension": ".py",
            "mimetype": "text/x-python",
            "name": "python",
            "nbconvert_exporter": "python",
            "pygments_lexer": "ipython3",
            "version": "3.11.8"
        },
        "orig_nbformat": 4,
        "vscode": {
            "interpreter": {
                "hash": "54b57a9d7255aa9bd89013014712be1af3e9c0518087b34529522b12b0bc87de"
            }
        }
    },
    "nbformat": 4,
    "nbformat_minor": 2
}
