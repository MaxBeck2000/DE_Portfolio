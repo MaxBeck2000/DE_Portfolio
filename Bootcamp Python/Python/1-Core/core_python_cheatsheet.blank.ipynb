{
    "cells": [
        {
            "cell_type": "markdown",
            "id": "db7eb157",
            "metadata": {},
            "source": [
                "# 1. Core Python - Summary"
            ]
        },
        {
            "cell_type": "markdown",
            "id": "91960b08",
            "metadata": {},
            "source": [
                "## 1.1 Types of objects:\n",
                "1. __Integers__:\n",
                "    - type `int`\n",
                "    - e.g. x = 1, y = 100, z = 123\n",
                "    - belong to family __numbers__\n",
                "    - immutable objects - can be hashed, therefore can be used as keys in dictionaries and can be elements in a set\n",
                " \n",
                " \n",
                "2. __Floats__:\n",
                "    - type `float`\n",
                "    - e.g. `x = 1.0`, `y = 1.5`, `z = 3.14`\n",
                "    - belong to family __numbers__\n",
                "    - immutable objects - can be hashed, therefore can be used as keys in dictionaries and can be elements in a set\n",
                "    \n",
                "    \n",
                "3. __Booleans__:\n",
                "    - type `bool`\n",
                "    - e.g. `x = True`, `y = False` - note: not 'True' or true\n",
                "    - belong to family __numbers__\n",
                "    - `True` corresponds to __1__, `False` corresponds to __0__\n",
                " \n",
                " \n",
                "3. __Strings__:\n",
                "    - type `str`\n",
                "    - e.g. `x = 'hello world'`, `y = 'alice'`, `z = 'gin&tonic'`\n",
                "    - belong to family __sequences__\n",
                "    - __definition__: an ordered collection of letters, numbers, symbols, other characters, incl. whitespace `' '` or `'\\n'`; each character is associated with an index; first character has index of __0__\n",
                "    - immutable objects - can be hashed, therefore can be used as keys in dictionaries and can be elements in a set \n",
                "  \n",
                "  \n",
                "4. __Lists__:\n",
                "    - e.g. `x = [1,2,3,4,5]`, `y = [1,'name', 2.5, '5']`, `z = []`\n",
                "    - belong to family __sequences__\n",
                "    - __definition__: an ordered sequence of elements (objects); each object is associated with an index; first object has index of __0__\n",
                "    - mutable object - cannot be hashed; cannot be used as keys in dictionaries, cannot be an element in a set\n",
                "    \n",
                "    \n",
                "5. __Dictionaries__:\n",
                "    - e.g. `x = {'starter':'prawns', 'main course':'fish and chips', 'dessert':'ice cream'}`, `y = {}`\n",
                "    - belong to family __maps__\n",
                "    - __definition__: an unordered value of __key:value pairs__; each key is unique and hashable (i.e. immutable)\n",
                "    - mutable object - cannot be hashed; cannot be used as keys in dictionaries, cannot be an element in a set\n",
                "    \n",
                "    \n",
                "6. __Tuples__:\n",
                "    - e.g. `x = (1,2,3,4,5)`\n",
                "    - belong to family __sequences__\n",
                "    - __definition__: the immutable version of a list\n",
                "    - immutable objects - can be hashed, therefore can be used as keys in dictionaries and can be elements in a set\n",
                "    \n",
                "    \n",
                "7. __Sets__:\n",
                "    - e.g. `x = {1,2,3,4,5,6,7}`, `y=set()`\n",
                "    - __definition__: an unordered collection of unique elements (objects); each object in a set must be immutable\n",
                "    - mutable object - cannot be hashed; cannot be used as keys in dictionaries, cannot be an element in a set\n",
                "    \n",
                "    \n",
                "8. __Frozenset__:\n",
                "    - e.g. `x = frozenset(1,2,3,4,5)`\n",
                "    - __definition__: the immutable version of a set\n",
                "    - immutable objects - can be hashed, therefore can be used as keys in dictionaries and can be elements in a set"
            ]
        },
        {
            "cell_type": "markdown",
            "id": "5ae000fb",
            "metadata": {},
            "source": [
                "## 1.2 Numbers - Methods & Operations:\n",
                "Rule of thumb: if you do not remember the order of precedence of each operator, always surround the expression you want executed first by __()__, just like in maths:\n",
                "- e.g. `(2+3)*5` - here addition takes precedence over multiplication due to the brackets"
            ]
        },
        {
            "cell_type": "code",
            "execution_count": null,
            "id": "23ba994c",
            "metadata": {},
            "outputs": [],
            "source": []
        },
        {
            "cell_type": "markdown",
            "id": "00644aa3",
            "metadata": {},
            "source": [
                "## 1.3 Strings - Methods & Operations:\n",
                "Remember - as long as a piece of text is surrounded by __single quotes ''__, it is a string!"
            ]
        },
        {
            "cell_type": "code",
            "execution_count": null,
            "id": "c552133f",
            "metadata": {},
            "outputs": [],
            "source": []
        },
        {
            "cell_type": "code",
            "execution_count": null,
            "id": "39d891ff",
            "metadata": {},
            "outputs": [],
            "source": []
        },
        {
            "cell_type": "code",
            "execution_count": null,
            "id": "bf8ae1b1",
            "metadata": {},
            "outputs": [],
            "source": []
        },
        {
            "cell_type": "markdown",
            "id": "a9f40e52",
            "metadata": {},
            "source": [
                "## 1.4 Lists - Methods & Operations: \n"
            ]
        },
        {
            "cell_type": "code",
            "execution_count": null,
            "id": "3ca186ae",
            "metadata": {},
            "outputs": [],
            "source": []
        },
        {
            "cell_type": "code",
            "execution_count": null,
            "id": "09f05a22",
            "metadata": {},
            "outputs": [],
            "source": []
        },
        {
            "cell_type": "markdown",
            "id": "4eb73a98",
            "metadata": {},
            "source": [
                "## 1.5 Lists and Strings - Indexing & Slicing:\n",
                "Remember - Indexing and Slicing are the 2 main ways we can access __one__ or __multiple__ elements of a sequence!\n",
                "Accessing individual elements in a sequence is important because it allows us to then manipulate them, make operations, extract valuable information!"
            ]
        },
        {
            "cell_type": "code",
            "execution_count": null,
            "id": "712ef8b7",
            "metadata": {},
            "outputs": [],
            "source": []
        },
        {
            "cell_type": "code",
            "execution_count": null,
            "id": "ee7a8836",
            "metadata": {},
            "outputs": [],
            "source": []
        },
        {
            "cell_type": "markdown",
            "id": "79ea778c",
            "metadata": {},
            "source": [
                "## 1.6 Dictionaries - Methods & Operations:\n",
                "Remember - dictionaries are unordered collections of key:value pairs; all keys must be immutable and unique"
            ]
        },
        {
            "cell_type": "code",
            "execution_count": null,
            "id": "136ac531",
            "metadata": {},
            "outputs": [],
            "source": []
        },
        {
            "cell_type": "code",
            "execution_count": null,
            "id": "ab1bfd81",
            "metadata": {},
            "outputs": [],
            "source": []
        },
        {
            "cell_type": "markdown",
            "id": "01890b44",
            "metadata": {},
            "source": [
                "## 1.7 Sets - Methods & Operations:\n",
                "Remember - sets are unordered collection of unique values. All elements in a set must be immutable objects!"
            ]
        },
        {
            "cell_type": "code",
            "execution_count": null,
            "id": "bdb15dda",
            "metadata": {},
            "outputs": [],
            "source": []
        },
        {
            "cell_type": "code",
            "execution_count": null,
            "id": "d5e82ce9",
            "metadata": {},
            "outputs": [],
            "source": []
        },
        {
            "cell_type": "code",
            "execution_count": null,
            "id": "e239e5dd",
            "metadata": {},
            "outputs": [],
            "source": []
        },
        {
            "cell_type": "markdown",
            "id": "39028ddd",
            "metadata": {},
            "source": [
                "## 1.8 Tuples - Methods & Operations\n",
                "Remember - tuples are the immutable version of a list! We can iterate through them and count elements, but cannot add or delete any!"
            ]
        },
        {
            "cell_type": "code",
            "execution_count": null,
            "id": "8abcffa2",
            "metadata": {},
            "outputs": [],
            "source": []
        },
        {
            "cell_type": "code",
            "execution_count": null,
            "id": "8f53f048",
            "metadata": {},
            "outputs": [],
            "source": []
        },
        {
            "cell_type": "markdown",
            "id": "4192847e",
            "metadata": {},
            "source": [
                "## 1.9 Booleans - Methods & Operations\n",
                "Remember that Boolean objects take one of 2 possible values - __True__ or __False__!\n",
                "Each Boolean object has a numerical equivalent - __True = 1__ and __False = 0__ - this allows us to do mathematical operations on them!"
            ]
        },
        {
            "cell_type": "code",
            "execution_count": null,
            "id": "ae03133a",
            "metadata": {},
            "outputs": [],
            "source": []
        },
        {
            "cell_type": "code",
            "execution_count": null,
            "id": "dfa40eef",
            "metadata": {},
            "outputs": [],
            "source": []
        },
        {
            "cell_type": "markdown",
            "id": "128caa55",
            "metadata": {},
            "source": [
                "## 1.10 IF Statements:\n",
                "Remember - `if ..... elif ..... else` statements are the go-to way when tackling a task which has conditional outcomes. As a rule of thumb, always try to map out a decision tree before attempting to write any code:\n",
                "\n",
                "Example: Today I have to cover 2 python units:\n",
                "- if I cover all in the morning, I have the afternoon free\n",
                "- if I cover only one in the morning, I have to cover 1 in the afternoon\n",
                "- if I don't cover anythin in the morning, I have to cover both in the afternoon"
            ]
        },
        {
            "cell_type": "code",
            "execution_count": null,
            "id": "5e8c193a",
            "metadata": {},
            "outputs": [],
            "source": []
        },
        {
            "cell_type": "code",
            "execution_count": 7,
            "id": "ff8619db",
            "metadata": {},
            "outputs": [],
            "source": []
        },
        {
            "cell_type": "markdown",
            "id": "2024fcf2",
            "metadata": {},
            "source": [
                "## 1.11 For Loops:\n",
                "Remember - __For Loops__ are one of 2 possible loops in Python - `for` and `while`. We use __For Loops__ when we have to:\n",
                "- iterate through a collection of elements, stored in a container - e.g. lists, dictionaries, tuples, strings\n",
                "- perform a certain task (set of tasks) __X__ times and we know the number of repetitions (i.e. we know the value of __X__)\n",
                "\n",
                "__Example__: 'I need to go to the gym every day for the next 3 months' -- I know the number of times I have to go to the gym (90). In situations like this, I would use a `for` loop."
            ]
        },
        {
            "cell_type": "code",
            "execution_count": null,
            "id": "94fbb703",
            "metadata": {},
            "outputs": [],
            "source": []
        },
        {
            "cell_type": "code",
            "execution_count": 16,
            "id": "d3e83517",
            "metadata": {},
            "outputs": [],
            "source": []
        },
        {
            "cell_type": "code",
            "execution_count": 18,
            "id": "17956bd4",
            "metadata": {},
            "outputs": [],
            "source": []
        },
        {
            "cell_type": "code",
            "execution_count": 20,
            "id": "125f2795",
            "metadata": {},
            "outputs": [],
            "source": []
        },
        {
            "cell_type": "code",
            "execution_count": 21,
            "id": "938e3d68",
            "metadata": {},
            "outputs": [],
            "source": []
        },
        {
            "cell_type": "markdown",
            "id": "17b41b47",
            "metadata": {},
            "source": [
                "## 1.12 While Loops:\n",
                "Remember - __While Loops__ are one of 2 possible loops in Python - `for` and `while`. We use __While Loops__ when we have to\n",
                "- perform a certain task (set of tasks) __X__ times until a certain condition is satisfied! __X__ is NOT KNOWN!\n",
                "\n",
                "__Example__: 'I need to go to the gym every day until I lose 5kg' -- I do NOT know how many times I will have to go to the gym, but I know I have to keep repeating until I have lost the weight. In situations like this, we would use a `while` loop."
            ]
        },
        {
            "cell_type": "code",
            "execution_count": 23,
            "id": "7d20a7d1",
            "metadata": {},
            "outputs": [],
            "source": []
        },
        {
            "cell_type": "code",
            "execution_count": 24,
            "id": "3760f041",
            "metadata": {},
            "outputs": [],
            "source": []
        },
        {
            "cell_type": "markdown",
            "id": "d2a833bd",
            "metadata": {},
            "source": [
                "## 1.13 Functions:\n",
                "Remember - Functions allow us to automate a set of logical operations/steps in Python. When we enclose these step in the definition of a function, we can leverage these steps repeatedly without having to writing any code from scratch - instead we simply have to call the function.\n",
                "\n",
                "A function characterises with the following:\n",
                "- it accepts a set of __arguments__ (also called inputs - do not mistake with the input() function) - there can be 0, 1 or multiple arguments in a function\n",
                "- it performs one or multiple logical operations on the arguments\n",
                "- it __returns__ an __output__ (for a function to return a tangible object as an output, we use the command __return__!)\n",
                "\n",
                "Often times when learning how to define and work with functions , we use the __print()__ function inside. __Print()__ works as a notification system - when we call the function, it will print out a message, but it won't return an output. \n",
                "\n",
                "Think of the following real-life example: Suppose we have the latest coffee machine model - it accepts inputs/arguments (coffee grains, water) and performs a number of steps (grinds the grains, uses a pressure stream of water to extract the coffee, etc.):\n",
                "- the cup of hot coffee is the tangible output of the machine - this is what the machine __returns__\n",
                "- the messages on the coffee machine monitor - e.g. 'making espresso', etc. are the notifications we receive - this is what the machine __prints__"
            ]
        },
        {
            "cell_type": "code",
            "execution_count": 27,
            "id": "d0c4ceb7",
            "metadata": {},
            "outputs": [],
            "source": []
        },
        {
            "cell_type": "code",
            "execution_count": 29,
            "id": "25028117",
            "metadata": {},
            "outputs": [],
            "source": []
        },
        {
            "cell_type": "code",
            "execution_count": 33,
            "id": "07d2011b",
            "metadata": {},
            "outputs": [],
            "source": []
        },
        {
            "cell_type": "code",
            "execution_count": 36,
            "id": "36299c66",
            "metadata": {},
            "outputs": [],
            "source": []
        },
        {
            "cell_type": "markdown",
            "id": "9b13bf17",
            "metadata": {},
            "source": [
                "## 1.14 Classes:\n",
                "Python is an Object-Oriented Programming Language! Remember that almost everything in Python is an object with its properties and methods - whenever we create a new variable and assign to it a value (e.g. an integer, a float, a string, a list, a dictionary, etc.), we are in fact creating an __object__!\n",
                "\n",
                "\n",
                "A __Class__ is like an object constructor - think of it as a 'blueprint' for creating objects. Defining Classes allows us all to design our own object types and shape their identity and behaviour!\n",
                "\n",
                "Once we have designed our __Class__ (i.e. created our 'blueprint'), we can then create __instances__ of this Class! A __Class instance__ is a tangible object, belonging to the Class - it will inherit certain features and behaviours from it (which in Python terms are called __attributes__ and __methods__)."
            ]
        },
        {
            "cell_type": "markdown",
            "id": "e5c152d4",
            "metadata": {},
            "source": [
                "### 1.14.1  Attributes and Methods:\n",
                "- __Attributes__ are variables, which store data. There are 2 types of attributes:\n",
                "    - __Instance Attribute__ - a variable, storing data, specific to a given instance of a Class. When we create a Class Instance (object), all of its unique features will be stored as instance attributes! Those attributes are accessible only by this single instance!\n",
                "    - __Class Attribute__ - a variable, storing data, specific to a given Class itself. It is shared across all instances (objects) of the Class.\n",
                "    \n",
                "Think of human kind as a Class in Python. Each person on the Earth is an Instance of the 'Human Kind' Class. All instances, i.e. all people share certain human features, which differentiate us from other 'Classes' in the world - our __consciousness__ is one example. In Python terms, __consciousness__ is a __Class Attribute__! However, each person has unique features, making us all different from one another - e.g. each person has a different __personality__, __virtues__, __ethic__, __eye colour__, __voice__, etc. In Python, these are calles __Instance Attributes__!\n",
                "\n",
                "- __Methods__ are functions, bound/inherent to instances of a Class. There are 2 types of methods:\n",
                "    - __Instance Method__ - a function, bound to Class instances. It can access both instance and class attributes. \n",
                "    - __Class Method__ - a function, bound to the Class itself. It can only access class attributes.\n",
                "    - __Static Method__ - a function which does NOT access or perform logical operations on either instance or class attributes.\n",
                "    \n",
                "Again, think of human kind as a Class in Python. Our behaviour and everything we do is an example of a __method__! When we perfom an action - e.g. __think__, __speak__, __help others__, we are calling our __methods__! These are all examples of functions, bound to us as instances of the 'Human Kind' Class! The difference between __Instance__ and __Class Methods__ is in the details, but as long as you remember that methods are simply functions, specific to a certain Class, you are on the right track!! "
            ]
        },
        {
            "cell_type": "code",
            "execution_count": 3,
            "id": "041d7c70",
            "metadata": {},
            "outputs": [],
            "source": []
        },
        {
            "cell_type": "code",
            "execution_count": 15,
            "id": "ef48383b",
            "metadata": {},
            "outputs": [],
            "source": []
        },
        {
            "cell_type": "code",
            "execution_count": 19,
            "id": "2ce8c43a",
            "metadata": {},
            "outputs": [],
            "source": []
        },
        {
            "cell_type": "code",
            "execution_count": 20,
            "id": "ab587cbe",
            "metadata": {},
            "outputs": [],
            "source": []
        },
        {
            "cell_type": "code",
            "execution_count": 21,
            "id": "5cd5d528",
            "metadata": {},
            "outputs": [],
            "source": []
        }
    ],
    "metadata": {
        "kernelspec": {
            "display_name": "Python 3 (ipykernel)",
            "language": "python",
            "name": "python3"
        },
        "language_info": {
            "codemirror_mode": {
                "name": "ipython",
                "version": 3
            },
            "file_extension": ".py",
            "mimetype": "text/x-python",
            "name": "python",
            "nbconvert_exporter": "python",
            "pygments_lexer": "ipython3",
            "version": "3.9.7"
        }
    },
    "nbformat": 4,
    "nbformat_minor": 5
}