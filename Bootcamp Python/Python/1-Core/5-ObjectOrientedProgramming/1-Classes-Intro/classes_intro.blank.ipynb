{
    "cells": [
        {
            "cell_type": "markdown",
            "metadata": {},
            "source": [
                "---\n",
                "# 1. Using Classes to Enclose Data and Functions\n",
                "---\n",
                "So far we've been using different built-in types of objects, \n",
                "such as strings, lists, dictionaries, files etc. \n",
                "\n",
                "These objects store data and they also have methods we can call, \n",
                "such as `lower` for the string type, `writelines` for the file type, `append` for list, `update` for dictionary etc. \n",
                "\n",
                "We can create our own types of data object using the *class* statement.\n",
                "\n",
                "It’s useful to be clear about the relationship between classes, types and objects. \n",
                "In Python 3, *classes* and *types* are the same thing: the blueprints for the python objects that are created and used in our programs. \n",
                "\n",
                "The class is the abstract design or blueprint (e.g. an application form template that is given to all patients at a GP practice), and objects are specific instances of a particular class (e.g. the blank form filled by a particular patient containing their own details).\n",
                "\n",
                "Classes can be defined to include data and functions in their scope. \n",
                "- The data elements specific to each instance are known as **attributes** (e.g. name of the patient, address of the patient etc.)\n",
                "- The functions specific to each instance are known as **methods** (e.g. booking an appointment for the patient)\n",
                "\n",
                "Instances of a class are called objects, and each object will have these attributes that store data values. \n",
                "\n",
                "An object will also have access to these methods, which can be called in the usual way. \n",
                "\n",
                "In other words, attributes are variables that describe the instance whereas methods are functions that act on an instance. "
            ]
        },
        {
            "cell_type": "code",
            "execution_count": 1,
            "metadata": {},
            "outputs": [
                {
                    "name": "stdout",
                    "output_type": "stream",
                    "text": [
                        "<class 'int'>\n"
                    ]
                }
            ],
            "source": [
                "print(type(1))"
            ]
        },
        {
            "cell_type": "code",
            "execution_count": 2,
            "metadata": {},
            "outputs": [],
            "source": [
                "my_list = [1, 2, 3]\n",
                "my_tuple = (1, 2, 3)"
            ]
        },
        {
            "cell_type": "code",
            "execution_count": 3,
            "metadata": {},
            "outputs": [],
            "source": [
                "def my_function():\n",
                "    return 1"
            ]
        },
        {
            "cell_type": "code",
            "execution_count": null,
            "metadata": {},
            "outputs": [],
            "source": []
        },
        {
            "attachments": {},
            "cell_type": "markdown",
            "metadata": {},
            "source": [
                "\n",
                "## 1.1 The `class` statement\n",
                "\n",
                "The `class` statement is used to create a new class in Python.\n",
                "\n",
                "\n",
                "```\n",
                "class MyClass:\n",
                "    # indented code block for elements of this class  \n",
                "    \n",
                "```\n",
                "- The indented code block following the `class` statement defines the class namespace in which functions and other objects can be declared. These will be the attributes and methods of the class.\n",
                "- For naming classes, the convention is to use capital letters in UpperCamelCase, e.g. `class MyDataLoader`, or `class DataFusionModel`, or `class RemoteLogMonitor` etc. \n"
            ]
        },
        {
            "cell_type": "code",
            "execution_count": 1,
            "metadata": {},
            "outputs": [],
            "source": [
                "class MyClass:\n",
                "    pass"
            ]
        },
        {
            "cell_type": "code",
            "execution_count": 2,
            "metadata": {},
            "outputs": [
                {
                    "name": "stdout",
                    "output_type": "stream",
                    "text": [
                        "<class '__main__.MyClass'>\n"
                    ]
                }
            ],
            "source": [
                "my_class = MyClass()\n",
                "print(type(my_class))"
            ]
        },
        {
            "cell_type": "code",
            "execution_count": null,
            "metadata": {},
            "outputs": [],
            "source": []
        },
        {
            "cell_type": "markdown",
            "metadata": {},
            "source": [
                "\n",
                "## 1.2 Instance Methods and Attributes \n",
                "\n",
                "The methods we have used so far, such as `my_string.lower()` and `my_file.readlines()` are actually *instance* methods. The most important instance method is called `__init__` (read as dunder init): \n",
                "\n",
                "\n",
                "### 1.2.1 The `__init__` method\n",
                "\n",
                "The `__init__` method is automatically called when we create a new instance of the class. \n",
                "Hence, this method is often named the 'constructor'.\n",
                "\n",
                "Python looks for a method of that name when the class name is *called*, i.e. an instance (object) of this class is created.\n",
                "\n"
            ]
        },
        {
            "cell_type": "code",
            "execution_count": 3,
            "metadata": {},
            "outputs": [],
            "source": [
                "class Car:\n",
                "    def __init__(self):\n",
                "        print('The __init__ method has been called. 23rd February 2024. DE35')"
            ]
        },
        {
            "cell_type": "code",
            "execution_count": 4,
            "metadata": {},
            "outputs": [
                {
                    "name": "stdout",
                    "output_type": "stream",
                    "text": [
                        "The __init__ method has been called. 23rd February 2024. DE35\n"
                    ]
                }
            ],
            "source": [
                "my_car = Car()"
            ]
        },
        {
            "cell_type": "code",
            "execution_count": 5,
            "metadata": {},
            "outputs": [
                {
                    "name": "stdout",
                    "output_type": "stream",
                    "text": [
                        "<class '__main__.Car'>\n"
                    ]
                }
            ],
            "source": [
                "print(type(my_car))"
            ]
        },
        {
            "attachments": {},
            "cell_type": "markdown",
            "metadata": {},
            "source": [
                "### 1.2.2 Adding Instance Attributes\n",
                "\n",
                "Instance attributes are data that is bound to the specific *instance*, or object. These can be thought of characteristics that describe an instance of this class.\n",
                "\n",
                "- These attributes are declared in the `__init__` method.\n",
                "- They are added to the  `self` object, e.g. to add an attribute called `my_data`, \n",
                "  initially with a value of `None`, we would include the statement `self.my_data=None` in the the `__init__` method.\n",
                "- It is often useful to initialize these attributes with values that are passed in to the `__init__` method as arguments (Recall arguments are the inputs to functions (referred to as methods inside a class))."
            ]
        },
        {
            "cell_type": "code",
            "execution_count": 11,
            "metadata": {},
            "outputs": [],
            "source": [
                "class Car:\n",
                "    def __init__(self):\n",
                "        print('The __innit__ method has been caled. 23rd Feb 2024. DE35')\n",
                "        self.wheels = 4"
            ]
        },
        {
            "cell_type": "code",
            "execution_count": 12,
            "metadata": {},
            "outputs": [
                {
                    "name": "stdout",
                    "output_type": "stream",
                    "text": [
                        "The __innit__ method has been caled. 23rd Feb 2024. DE35\n"
                    ]
                }
            ],
            "source": [
                "my_car = Car()"
            ]
        },
        {
            "cell_type": "code",
            "execution_count": 13,
            "metadata": {},
            "outputs": [
                {
                    "name": "stdout",
                    "output_type": "stream",
                    "text": [
                        "4\n"
                    ]
                }
            ],
            "source": [
                "print(my_car.wheels)"
            ]
        },
        {
            "cell_type": "markdown",
            "metadata": {},
            "source": [
                "\n",
                "\n",
                "\n",
                "The following example shows the how instances of the `Car` class can be initialised with four attributes describing a car (`make`, `model`, `age`, `fuel`), passed in as arguments when the object is created."
            ]
        },
        {
            "cell_type": "code",
            "execution_count": 6,
            "metadata": {},
            "outputs": [],
            "source": [
                "class Car:\n",
                "    def __init__(self, arg_make, arg_model, arg_age, arg_fuel):\n",
                "        print('The __init__ method has been called. 23rd Feb 2024. DE35')\n",
                "        self.wheels = 4\n",
                "        self.make = arg_make\n",
                "        self.model = arg_model\n",
                "        self.age = arg_age\n",
                "        self.fuel = arg_fuel"
            ]
        },
        {
            "cell_type": "code",
            "execution_count": 7,
            "metadata": {},
            "outputs": [
                {
                    "name": "stdout",
                    "output_type": "stream",
                    "text": [
                        "The __init__ method has been called. 23rd Feb 2024. DE35\n"
                    ]
                }
            ],
            "source": [
                "your_car = Car('ford', 'Model1', 8, 'Petrol')"
            ]
        },
        {
            "cell_type": "code",
            "execution_count": 8,
            "metadata": {},
            "outputs": [
                {
                    "name": "stdout",
                    "output_type": "stream",
                    "text": [
                        "ford\n",
                        "Model1\n",
                        "8\n",
                        "Petrol\n"
                    ]
                }
            ],
            "source": [
                "print(your_car.make)\n",
                "print(your_car.model)\n",
                "print(your_car.age)\n",
                "print(your_car.fuel)"
            ]
        },
        {
            "cell_type": "code",
            "execution_count": 21,
            "metadata": {},
            "outputs": [
                {
                    "name": "stdout",
                    "output_type": "stream",
                    "text": [
                        "The __init__ method has been called. 23rd Feb 2024. DE35\n"
                    ]
                }
            ],
            "source": [
                "another_car = Car('BMW','model2',0,'Petrol')"
            ]
        },
        {
            "cell_type": "code",
            "execution_count": 22,
            "metadata": {},
            "outputs": [
                {
                    "name": "stdout",
                    "output_type": "stream",
                    "text": [
                        "BMW\n",
                        "model2\n",
                        "0\n",
                        "Petrol\n"
                    ]
                }
            ],
            "source": [
                "print(another_car.make)\n",
                "print(another_car.model)\n",
                "print(another_car.age)\n",
                "print(another_car.fuel)"
            ]
        },
        {
            "cell_type": "code",
            "execution_count": null,
            "metadata": {
                "scrolled": true
            },
            "outputs": [],
            "source": []
        },
        {
            "cell_type": "code",
            "execution_count": null,
            "metadata": {},
            "outputs": [],
            "source": []
        },
        {
            "cell_type": "code",
            "execution_count": null,
            "metadata": {},
            "outputs": [],
            "source": []
        },
        {
            "cell_type": "code",
            "execution_count": null,
            "metadata": {},
            "outputs": [],
            "source": []
        },
        {
            "cell_type": "code",
            "execution_count": null,
            "metadata": {},
            "outputs": [],
            "source": []
        },
        {
            "cell_type": "code",
            "execution_count": null,
            "metadata": {},
            "outputs": [],
            "source": []
        },
        {
            "cell_type": "code",
            "execution_count": null,
            "metadata": {},
            "outputs": [],
            "source": []
        },
        {
            "cell_type": "code",
            "execution_count": null,
            "metadata": {},
            "outputs": [],
            "source": []
        },
        {
            "cell_type": "code",
            "execution_count": null,
            "metadata": {},
            "outputs": [],
            "source": []
        },
        {
            "cell_type": "markdown",
            "metadata": {},
            "source": [
                "In order to access the attributes for a specific object, we can use the syntax `<object_name>.<attr_name>`\n",
                "For example, to access the age of `oskar_car`, we can do `oskar_car.age` "
            ]
        },
        {
            "attachments": {},
            "cell_type": "markdown",
            "metadata": {},
            "source": [
                "### 1.2.3 Adding More Instance Methods\n",
                "\n",
                "We can add more instance methods to our class by using the same pattern as for the `__init__` method.\n",
                "\n",
                "Note the indentation of the methods with respect to the class\n"
            ]
        },
        {
            "cell_type": "code",
            "execution_count": 35,
            "metadata": {},
            "outputs": [],
            "source": [
                "class Car:\n",
                "    def __init__(self, arg_make, arg_model, arg_age, arg_fuel):\n",
                "        print('The __init__ method has been called. 23rd Feb 2024. DE35')\n",
                "        self.wheels = 4\n",
                "        self.make = arg_make\n",
                "        self.model = arg_model\n",
                "        self.age = arg_age\n",
                "        self.fuel = arg_fuel\n",
                "\n",
                "    def is_electric(self):\n",
                "        if self.fuel == 'Battery':\n",
                "            return 'The car is electric'\n",
                "        else:\n",
                "            return 'The car is not electric'\n",
                "    def require_mot(self):\n",
                "        if self.age > 2:\n",
                "            return 'Require MOT'\n",
                "        else:\n",
                "            return 'MOT is not required'"
            ]
        },
        {
            "cell_type": "code",
            "execution_count": 25,
            "metadata": {},
            "outputs": [
                {
                    "name": "stdout",
                    "output_type": "stream",
                    "text": [
                        "The __init__ method has been called. 23rd Feb 2024. DE35\n"
                    ]
                }
            ],
            "source": [
                "my_car = Car('BMW','model2',0,'Petrol')"
            ]
        },
        {
            "cell_type": "code",
            "execution_count": 26,
            "metadata": {},
            "outputs": [
                {
                    "data": {
                        "text/plain": [
                            "'The car is not electric'"
                        ]
                    },
                    "execution_count": 26,
                    "metadata": {},
                    "output_type": "execute_result"
                }
            ],
            "source": [
                "my_car.is_electric()"
            ]
        },
        {
            "cell_type": "code",
            "execution_count": 36,
            "metadata": {},
            "outputs": [
                {
                    "name": "stdout",
                    "output_type": "stream",
                    "text": [
                        "The __init__ method has been called. 23rd Feb 2024. DE35\n"
                    ]
                }
            ],
            "source": [
                "your_car = Car('BMW','model2',4,'Battery')"
            ]
        },
        {
            "cell_type": "code",
            "execution_count": 38,
            "metadata": {},
            "outputs": [
                {
                    "data": {
                        "text/plain": [
                            "'Require MOT'"
                        ]
                    },
                    "execution_count": 38,
                    "metadata": {},
                    "output_type": "execute_result"
                }
            ],
            "source": [
                "your_car.is_electric()\n",
                "your_car.require_mot()"
            ]
        },
        {
            "cell_type": "markdown",
            "metadata": {},
            "source": [
                "We can call the methods of this class as follows:\n",
                "`<object_name>.<method_name>()`"
            ]
        },
        {
            "cell_type": "code",
            "execution_count": null,
            "metadata": {},
            "outputs": [],
            "source": []
        },
        {
            "cell_type": "code",
            "execution_count": null,
            "metadata": {},
            "outputs": [],
            "source": []
        },
        {
            "cell_type": "code",
            "execution_count": null,
            "metadata": {},
            "outputs": [],
            "source": []
        },
        {
            "cell_type": "markdown",
            "metadata": {},
            "source": [
                "Remember, the `self` argument is implicitly used to pass the object into its methods:\n",
                "- It is the first argument in the definition of the method\n",
                "- It is **NOT** included in the method call"
            ]
        },
        {
            "cell_type": "code",
            "execution_count": null,
            "metadata": {},
            "outputs": [],
            "source": []
        },
        {
            "attachments": {},
            "cell_type": "markdown",
            "metadata": {},
            "source": [
                "### 1.2.4 Adding Arguments to Instance Methods\n",
                "\n",
                "Further arguments can be added to instance methods, and these are then processed in the normal way:\n"
            ]
        },
        {
            "cell_type": "code",
            "execution_count": 42,
            "metadata": {},
            "outputs": [],
            "source": [
                "class Car:\n",
                "    def __init__(self, arg_make, arg_model, arg_age, arg_fuel):\n",
                "        print('The __init__ method has been called. 23rd Feb 2024. DE35')\n",
                "        self.wheels = 4\n",
                "        self.make = arg_make\n",
                "        self.model = arg_model\n",
                "        self.age = arg_age\n",
                "        self.fuel = arg_fuel\n",
                "\n",
                "    def is_electric(self):\n",
                "        if self.fuel == 'Battery':\n",
                "            return 'The car is electric'\n",
                "        else:\n",
                "            return 'The car is not electric'\n",
                "    def require_mot(self):\n",
                "        if self.age > 2:\n",
                "            return 'Require MOT'\n",
                "        else:\n",
                "            return 'MOT is not required'\n",
                "    def description(self, owner):\n",
                "        return f'The car is {self.make} {self.model} and an owner is {owner}'"
            ]
        },
        {
            "cell_type": "code",
            "execution_count": 43,
            "metadata": {},
            "outputs": [
                {
                    "name": "stdout",
                    "output_type": "stream",
                    "text": [
                        "The __init__ method has been called. 23rd Feb 2024. DE35\n"
                    ]
                }
            ],
            "source": [
                "my_car = Car('BMW','Model2',4,'battery')"
            ]
        },
        {
            "cell_type": "code",
            "execution_count": 44,
            "metadata": {},
            "outputs": [
                {
                    "data": {
                        "text/plain": [
                            "'The car is BMW Model2 and an owner is MAX'"
                        ]
                    },
                    "execution_count": 44,
                    "metadata": {},
                    "output_type": "execute_result"
                }
            ],
            "source": [
                "my_car.description('MAX')"
            ]
        },
        {
            "cell_type": "code",
            "execution_count": 45,
            "metadata": {},
            "outputs": [
                {
                    "data": {
                        "text/plain": [
                            "1906459720464"
                        ]
                    },
                    "execution_count": 45,
                    "metadata": {},
                    "output_type": "execute_result"
                }
            ],
            "source": [
                "id(my_car)"
            ]
        },
        {
            "cell_type": "code",
            "execution_count": null,
            "metadata": {
                "scrolled": true
            },
            "outputs": [],
            "source": []
        },
        {
            "cell_type": "code",
            "execution_count": null,
            "metadata": {},
            "outputs": [],
            "source": []
        },
        {
            "cell_type": "code",
            "execution_count": null,
            "metadata": {},
            "outputs": [],
            "source": []
        },
        {
            "cell_type": "code",
            "execution_count": null,
            "metadata": {},
            "outputs": [],
            "source": []
        },
        {
            "cell_type": "code",
            "execution_count": null,
            "metadata": {},
            "outputs": [],
            "source": []
        },
        {
            "cell_type": "code",
            "execution_count": null,
            "metadata": {},
            "outputs": [],
            "source": []
        },
        {
            "cell_type": "code",
            "execution_count": null,
            "metadata": {},
            "outputs": [],
            "source": []
        },
        {
            "cell_type": "markdown",
            "metadata": {},
            "source": [
                "#### Concept Check: Adding an Instance Method\n",
                "\n",
                "Here's an example for a Dog class. Try and answer the following questions:\n",
                "1) What are the instance attributes of this class?  \n",
                "2) What are the instance methods of this class?  \n",
                "3) What does `self` mean?  \n",
                "4) What does the `__init__` method do?   \n",
                "\n",
                "Add a method to the `Dog` class, named `get_age_in_dog_years`, that returns the age multiplied by 7. \n",
                "\n",
                "Create an instance of this class, and call this method, to check your work."
            ]
        },
        {
            "cell_type": "code",
            "execution_count": 73,
            "metadata": {},
            "outputs": [],
            "source": [
                "# Add the get_age_in_dog_years method to this class\n",
                "class Dog:\n",
                "    def __init__(self, colour, age):\n",
                "        self.colour = colour\n",
                "        self.age = age\n",
                "        \n",
                "    def bark(self):\n",
                "        print('Bark!')\n",
                "        \n",
                "    def is_old(self):\n",
                "        self.bark()\n",
                "        return self.age > 10\n",
                "    \n",
                "    def get_age_in_dog_years(self):\n",
                "        return f'Age in dog years is {self.age*7}'\n"
            ]
        },
        {
            "cell_type": "code",
            "execution_count": 67,
            "metadata": {},
            "outputs": [],
            "source": [
                "my_dog = Dog('brown',7)"
            ]
        },
        {
            "cell_type": "code",
            "execution_count": 68,
            "metadata": {},
            "outputs": [
                {
                    "name": "stdout",
                    "output_type": "stream",
                    "text": [
                        "<class '__main__.Dog'>\n"
                    ]
                }
            ],
            "source": [
                "print(type(my_dog))"
            ]
        },
        {
            "cell_type": "code",
            "execution_count": 69,
            "metadata": {},
            "outputs": [
                {
                    "name": "stdout",
                    "output_type": "stream",
                    "text": [
                        "Bark!\n"
                    ]
                }
            ],
            "source": [
                "my_dog.bark()"
            ]
        },
        {
            "cell_type": "code",
            "execution_count": 74,
            "metadata": {},
            "outputs": [
                {
                    "data": {
                        "text/plain": [
                            "False"
                        ]
                    },
                    "execution_count": 74,
                    "metadata": {},
                    "output_type": "execute_result"
                }
            ],
            "source": [
                "my_dog.is_old()"
            ]
        },
        {
            "cell_type": "code",
            "execution_count": 71,
            "metadata": {},
            "outputs": [
                {
                    "data": {
                        "text/plain": [
                            "'Age in dog years is 49'"
                        ]
                    },
                    "execution_count": 71,
                    "metadata": {},
                    "output_type": "execute_result"
                }
            ],
            "source": [
                "my_dog.get_age_in_dog_years()"
            ]
        },
        {
            "cell_type": "code",
            "execution_count": null,
            "metadata": {},
            "outputs": [],
            "source": []
        },
        {
            "cell_type": "code",
            "execution_count": null,
            "metadata": {},
            "outputs": [],
            "source": []
        },
        {
            "cell_type": "markdown",
            "metadata": {},
            "source": [
                "### 1.2.5 Patterns to remember while writing classes\n",
                "- Include `self` as the first parameter to the instance methods. However, we don't have to pass an argument for `self` parameter while calling the method. \n",
                "- Always refer to instance attributes as `self.<attr_name>`. This applies everywhere inside the class (i.e. inside other methods as well and not just `__init__` method).\n",
                "- Always refer to instance methods as `self.<method_name>()`. This applies everywhere inside the class (i.e. inside other methods as well and not just `__init__` method).\n",
                "- `self.` prefix is only required for attributes and not arguments that we pass in as inputs to methods. Note the difference between attributes and arguments:\n",
                "  - Method arguments/parameters are the elements that go inside the brackets in the method definition (e.g. `def method1(self, argument1, argument2='Hello')`) or method call (e.g. `self.method1(10,'Hi')`)\n",
                "  - Attributes are variables that describe the instance. These are typically initialised in the body of the `__init__` method and are written as `self.<attribute1>`, `self.<attribute2>` etc."
            ]
        },
        {
            "cell_type": "markdown",
            "metadata": {},
            "source": [
                "### 1.2.6 Scoping Rules for classes\n",
                "\n",
                "\n",
                "When a method is called, the instance is passed back to the method as 'self' \n",
                "\n",
                "We need to be very careful when referring to attributes and methods within a class"
            ]
        },
        {
            "cell_type": "code",
            "execution_count": null,
            "metadata": {},
            "outputs": [],
            "source": []
        },
        {
            "cell_type": "code",
            "execution_count": null,
            "metadata": {},
            "outputs": [],
            "source": []
        },
        {
            "cell_type": "code",
            "execution_count": null,
            "metadata": {},
            "outputs": [],
            "source": []
        },
        {
            "cell_type": "code",
            "execution_count": null,
            "metadata": {},
            "outputs": [],
            "source": []
        },
        {
            "cell_type": "code",
            "execution_count": null,
            "metadata": {},
            "outputs": [],
            "source": []
        },
        {
            "cell_type": "code",
            "execution_count": null,
            "metadata": {},
            "outputs": [],
            "source": []
        },
        {
            "cell_type": "code",
            "execution_count": null,
            "metadata": {},
            "outputs": [],
            "source": []
        },
        {
            "cell_type": "code",
            "execution_count": null,
            "metadata": {},
            "outputs": [],
            "source": []
        },
        {
            "cell_type": "code",
            "execution_count": null,
            "metadata": {},
            "outputs": [],
            "source": []
        },
        {
            "cell_type": "markdown",
            "metadata": {},
            "source": [
                "\n",
                "### 1.2.7 Concept Check: Instance Methods and Attributes\n",
                "\n",
                "- Create a class called `Teacher`. The teacher has attributes `is_angry` and `is_drunk` which are initialized to `False`.\n",
                "- Add the `teach()` method that prints out 'Python is great!'.\n",
                "    - If the teacher is angry, then all words are capitalized.\n",
                "    - If the teacher is drunk, then the phrase is scrambled.  \n",
                "    The teacher becomes angry after teaching.\n",
                "- Add the `drink_booze()` method. Going drinking calms the teacher down and makes them not angry.\n",
                "  However, the teacher becomes drunk.\n",
                "- Add the `drink_water()` method. This sobers up the teacher."
            ]
        },
        {
            "cell_type": "code",
            "execution_count": 75,
            "metadata": {},
            "outputs": [
                {
                    "data": {
                        "text/plain": [
                            "'sa tyh!ie toPngr'"
                        ]
                    },
                    "execution_count": 75,
                    "metadata": {},
                    "output_type": "execute_result"
                }
            ],
            "source": [
                "# Utility function to scramble text\n",
                "import random\n",
                "\n",
                "def scramble_text(text):\n",
                "    text_list = list(text)\n",
                "    random.shuffle(text_list)\n",
                "    return ''.join(text_list)\n",
                "\n",
                "scramble_text('Python is great!')\n"
            ]
        },
        {
            "cell_type": "code",
            "execution_count": 76,
            "metadata": {},
            "outputs": [],
            "source": [
                "class FakeClass:\n",
                "    def __init__(self,arg1):\n",
                "        print(scramble_text(arg1))"
            ]
        },
        {
            "cell_type": "code",
            "execution_count": 77,
            "metadata": {},
            "outputs": [
                {
                    "name": "stdout",
                    "output_type": "stream",
                    "text": [
                        "int!a!sg r\n"
                    ]
                }
            ],
            "source": [
                "example = FakeClass('a string!!')"
            ]
        },
        {
            "cell_type": "code",
            "execution_count": 118,
            "metadata": {},
            "outputs": [],
            "source": [
                "class teacher:\n",
                "    def __init__(self):\n",
                "        self.is_angry = False\n",
                "        self.is_drunk = False\n",
                "\n",
                "    def teach(self):\n",
                "        my_str = 'Python is great!'\n",
                "        if self.is_angry == True:\n",
                "            my_str = my_str.upper()\n",
                "        if self.is_drunk == True:\n",
                "            my_str = scramble_text(my_str)\n",
                "        self.is_angry = True\n",
                "        return my_str\n",
                "\n",
                "    def drink_booze(self):\n",
                "        self.is_angry = False\n",
                "        self.is_drunk = True\n",
                "\n",
                "\n",
                "    def drink_water(self):\n",
                "        self.is_drunk = False\n",
                "        \n",
                "\n",
                "        "
            ]
        },
        {
            "cell_type": "code",
            "execution_count": 119,
            "metadata": {},
            "outputs": [],
            "source": [
                "max = teacher()"
            ]
        },
        {
            "cell_type": "code",
            "execution_count": 120,
            "metadata": {},
            "outputs": [
                {
                    "name": "stdout",
                    "output_type": "stream",
                    "text": [
                        "False\n",
                        "False\n"
                    ]
                }
            ],
            "source": [
                "print(max.is_drunk)\n",
                "print(max.is_angry)"
            ]
        },
        {
            "cell_type": "code",
            "execution_count": 122,
            "metadata": {},
            "outputs": [
                {
                    "data": {
                        "text/plain": [
                            "'Python is great!'"
                        ]
                    },
                    "execution_count": 122,
                    "metadata": {},
                    "output_type": "execute_result"
                }
            ],
            "source": [
                "max.teach()"
            ]
        },
        {
            "cell_type": "code",
            "execution_count": 123,
            "metadata": {},
            "outputs": [
                {
                    "name": "stdout",
                    "output_type": "stream",
                    "text": [
                        "False\n",
                        "True\n"
                    ]
                }
            ],
            "source": [
                "print(max.is_drunk)\n",
                "print(max.is_angry)"
            ]
        },
        {
            "cell_type": "code",
            "execution_count": 125,
            "metadata": {},
            "outputs": [
                {
                    "name": "stdout",
                    "output_type": "stream",
                    "text": [
                        "True\n",
                        "False\n"
                    ]
                }
            ],
            "source": [
                "max.drink_booze()\n",
                "print(max.is_drunk)\n",
                "print(max.is_angry)"
            ]
        },
        {
            "cell_type": "code",
            "execution_count": 126,
            "metadata": {},
            "outputs": [
                {
                    "data": {
                        "text/plain": [
                            "'atPtorye!sh gi n'"
                        ]
                    },
                    "execution_count": 126,
                    "metadata": {},
                    "output_type": "execute_result"
                }
            ],
            "source": [
                "max.teach()"
            ]
        },
        {
            "cell_type": "code",
            "execution_count": 127,
            "metadata": {},
            "outputs": [],
            "source": [
                "max.drink_water()"
            ]
        },
        {
            "cell_type": "code",
            "execution_count": 128,
            "metadata": {},
            "outputs": [
                {
                    "data": {
                        "text/plain": [
                            "'PYTHON IS GREAT!'"
                        ]
                    },
                    "execution_count": 128,
                    "metadata": {},
                    "output_type": "execute_result"
                }
            ],
            "source": [
                "max.teach()"
            ]
        },
        {
            "cell_type": "code",
            "execution_count": null,
            "metadata": {},
            "outputs": [],
            "source": [
                "class Teacher:\n",
                "    def __init__(self):\n",
                "        self.is_angry = False\n",
                "        self.is_drunk = False\n",
                "\n",
                "    def teach(self):\n",
                "        my_str = 'Python is great!'\n",
                "        \n",
                "        if self.is_angry == True:\n",
                "            my_str = my_str.upper()\n",
                "\n",
                "        if self.is_drunk == True:\n",
                "            my_str = scramble_text(my_str)\n",
                "        \n",
                "        self.is_angry = True\n",
                "        return my_str\n",
                "    \n",
                "    def drink_booze(self):\n",
                "        self.is_angry = False\n",
                "        self.is_drunk = True\n",
                "\n",
                "    def drink_water(self):\n",
                "        self.is_drunk = False\n",
                "Collapse\n",
                "has context menu"
            ]
        },
        {
            "cell_type": "code",
            "execution_count": null,
            "metadata": {},
            "outputs": [],
            "source": []
        },
        {
            "cell_type": "code",
            "execution_count": null,
            "metadata": {},
            "outputs": [],
            "source": []
        },
        {
            "cell_type": "code",
            "execution_count": null,
            "metadata": {},
            "outputs": [],
            "source": []
        },
        {
            "cell_type": "code",
            "execution_count": null,
            "metadata": {},
            "outputs": [],
            "source": []
        },
        {
            "cell_type": "code",
            "execution_count": null,
            "metadata": {},
            "outputs": [],
            "source": []
        }
    ],
    "metadata": {
        "kernelspec": {
            "display_name": "Python 3",
            "language": "python",
            "name": "python3"
        },
        "language_info": {
            "codemirror_mode": {
                "name": "ipython",
                "version": 3
            },
            "file_extension": ".py",
            "mimetype": "text/x-python",
            "name": "python",
            "nbconvert_exporter": "python",
            "pygments_lexer": "ipython3",
            "version": "3.11.8"
        },
        "varInspector": {
            "cols": {
                "lenName": 16,
                "lenType": 16,
                "lenVar": 40
            },
            "kernels_config": {
                "python": {
                    "delete_cmd_postfix": "",
                    "delete_cmd_prefix": "del ",
                    "library": "var_list.py",
                    "varRefreshCmd": "print(var_dic_list())"
                },
                "r": {
                    "delete_cmd_postfix": ") ",
                    "delete_cmd_prefix": "rm(",
                    "library": "var_list.r",
                    "varRefreshCmd": "cat(var_dic_list()) "
                }
            },
            "types_to_exclude": [
                "module",
                "function",
                "builtin_function_or_method",
                "instance",
                "_Feature"
            ],
            "window_display": false
        },
        "vscode": {
            "interpreter": {
                "hash": "4f77c56a1733e9d421c3a053160f731a1cdaa61fcda062af7a855a05be992435"
            }
        }
    },
    "nbformat": 4,
    "nbformat_minor": 2
}
