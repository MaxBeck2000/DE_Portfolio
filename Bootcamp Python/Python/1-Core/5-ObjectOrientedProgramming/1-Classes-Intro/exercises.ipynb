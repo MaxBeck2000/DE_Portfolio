{
    "cells": [
        {
            "attachments": {},
            "cell_type": "markdown",
            "metadata": {},
            "source": [
                "# 1. Classes"
            ]
        },
        {
            "attachments": {},
            "cell_type": "markdown",
            "metadata": {},
            "source": [
                "## 1.1 Exercise: Basic Class creation with a single method\n",
                "\n",
                "Create a `class` called `Person` that has a `name`, `age`, and `address` attribute. Add a method called `greet` that prints a personalized greeting.\n",
                "\n",
                "Please use the following naming conventions:\n",
                "- `class` should be called `Person`\n",
                "- instance attribute `name` \n",
                "- instance attribute `age` \n",
                "- instance attribute `address` \n",
                "- method should be called `greet` and include the `name`, `age` and `address` of the person in the `print` statement"
            ]
        },
        {
            "cell_type": "code",
            "execution_count": 6,
            "metadata": {},
            "outputs": [],
            "source": [
                "class Person:\n",
                "    def __init__(self, name, age, address):\n",
                "        self.name = name\n",
                "        self.age = age\n",
                "        self.address = address\n",
                "    \n",
                "    def greet(self):\n",
                "        return f'Hello, my name is {self.name} and I am {self.age} years old. I live at {self.address}'"
            ]
        },
        {
            "cell_type": "code",
            "execution_count": 8,
            "metadata": {},
            "outputs": [
                {
                    "data": {
                        "text/plain": [
                            "'Hello, my name is John Smith and I am 30 years old. I live at 123 Main St.'"
                        ]
                    },
                    "execution_count": 8,
                    "metadata": {},
                    "output_type": "execute_result"
                }
            ],
            "source": [
                "#the following out outcomes should occur if successful\n",
                "\n",
                "#p = Person(\"John Smith\", 30, \"123 Main St.\")\n",
                "p.greet() #should output Hello, my name is John Smith and I am 30 years old. I live at 123 Main St.\n",
                "\n"
            ]
        },
        {
            "attachments": {},
            "cell_type": "markdown",
            "metadata": {},
            "source": [
                "## 1.2 Exercise: Basic Class Creation with single method including conditions *\n",
                "\n",
                "Create a class that can be used to track the number of wins, losses and draws a sports team accumulates as well as total number of games played, all new teams should start with 0 for each. \n",
                "\n",
                "In order to increase the number of wins, losses or draws you should be able to call a single method called `record_game` passing through the outcome. e.g. \n",
                "```Python\n",
                "\n",
                "chelsea = Team() \n",
                "chelsea.record_games('win') #increases the number of wins, use 'draw' and 'lose' for draws and losses\n",
                "\n",
                "```\n",
                "\n",
                "Please use the following naming conventions:\n",
                "- `class` should be called `Team`\n",
                "- instance attribute `wins` should refer to number of wins \n",
                "- instance attribute `draws` should refer to number of draws\n",
                "- instance attribute `losses` should refer to number of loses\n",
                "- instance attribute `games` should refer to number of games\n",
                "- method should be called `record_game`"
            ]
        },
        {
            "cell_type": "code",
            "execution_count": 13,
            "metadata": {},
            "outputs": [],
            "source": [
                "class Team:\n",
                "    def __init__(self, wins = 0, draws = 0, losses = 0, games = 0):\n",
                "        self.wins = wins\n",
                "        self.draws = draws\n",
                "        self.losses = losses\n",
                "        self.games = games\n",
                "\n",
                "    def record_game(self, result):\n",
                "        self.games = self.games + 1\n",
                "        if result == 'Win' or result == 'win':\n",
                "            self.wins = self.wins + 1\n",
                "        elif result == 'Draw' or result == 'draw':\n",
                "            self.draws = self.draws + 1\n",
                "        elif result == 'Lose' or result == 'lose':\n",
                "            self.losses = self.losses + 1\n",
                "\n"
            ]
        },
        {
            "cell_type": "code",
            "execution_count": 21,
            "metadata": {},
            "outputs": [
                {
                    "data": {
                        "text/plain": [
                            "3"
                        ]
                    },
                    "execution_count": 21,
                    "metadata": {},
                    "output_type": "execute_result"
                }
            ],
            "source": [
                "#the following out outcomes should occur if successful\n",
                "\n",
                "\n",
                "#chelsea = Team()\n",
                "#chelsea.record_game('draw')\n",
                "#chelsea.draws #should return 1\n",
                "#chelsea.record_game('Win')\n",
                "#chelsea.wins #should return 1\n",
                "#chelsea.record_game('lose')\n",
                "#chelsea.losses #should return 1\n",
                "#chelsea.games # should return 3 \n"
            ]
        },
        {
            "attachments": {},
            "cell_type": "markdown",
            "metadata": {},
            "source": [
                "## 1.3 Exercise: Class creation with loops and input requirement **\n",
                "\n",
                "Create a class called `Employee` with instance attributes `income` and `python_ability`, `income` should be defaulted to 20000 and `python_ability` to 1. Create a method called `learn` that will execute an `input` request that will only take an integer that is greater than 0 and equal to or less than 11. If any other `input` is provided `print` a statement telling the user the issue, and keep requesting an `input` until a valid `input` is provided. The `input` should then first increase `income` attribute by the `input` multiplied by two percent and also reflect an increase in the `python_ability` attribute by that amount. For example if the user inputs 2 then the income should increase by 4% followed by an increase in their ability by 2.\n",
                "\n",
                "\n",
                "Please use the following naming conventions:\n",
                "- `class` should be called `Employee`\n",
                "- instance attribute's should be `income` and `python_ability` \n",
                "    - default for `income` should be 20000\n",
                "    - default for `python_ability` should be 0\n",
                "- method for increasing `python_ability` should be called `learn`"
            ]
        },
        {
            "cell_type": "code",
            "execution_count": 50,
            "metadata": {},
            "outputs": [],
            "source": [
                "class Employee:\n",
                "    def __init__(self, income = 20000, python_ability = 0):\n",
                "        self.income = income\n",
                "        self.python_ability = python_ability\n",
                "\n",
                "    def learn(self, inputstr = input('Enter a value:')):\n",
                "        if type(inputstr) != int:\n",
                "            inputstr = input('Can only enter an integer:')\n",
                "        if int(inputstr) < 0 or int(inputstr) > 11:\n",
                "            inputstr = input('Please enter a value between 0 and 11:')\n",
                "        self.income = self.income + (self.income * (int(inputstr)/50))\n",
                "        self.python_ability = self.python_ability + int(inputstr)"
            ]
        },
        {
            "cell_type": "code",
            "execution_count": 53,
            "metadata": {},
            "outputs": [
                {
                    "name": "stdout",
                    "output_type": "stream",
                    "text": [
                        "55000.0\n"
                    ]
                }
            ],
            "source": [
                "#expected outcome having ran the following\n",
                "\n",
                "#tom = Employee()\n",
                "#tom.learn() #input the number 2 when requested\n",
                "#print(tom.income) #should now be 20800\n",
                "\n",
                "#james = Employee(50000,2)\n",
                "#james.learn() #input the 20, it should request you to re-enter, then enter number 5 when requested\n",
                "#print(james.income) #should get the output 55000 (when rounding up)\n"
            ]
        },
        {
            "attachments": {},
            "cell_type": "markdown",
            "metadata": {},
            "source": [
                "## 1.4 Exercise: Class creation with multiple methods  **\n",
                "\n",
                "Create a `class` called `BankAccount` that has a `balance` attribute which is input at point of `Class` instance creation (e.g. Tom = BankAccount(1000)) and methods for checking the balance, depositing money, and withdrawing money. \n",
                "\n",
                "Please use the following naming conventions:\n",
                "- `class` should be called `BankAccount`\n",
                "- instance attribute `balance`\n",
                "- method `check_balance` should print a statement that includes the user's balance\n",
                "- method `deposit` should take the argument amount and increase the `balance` the respective amount. It should then print a message with your current deposited amount and new balance\n",
                "- method `withdraw` should take the argument amount, it should determine if you have the fund to withdraw first, if possible it will withdraw the fund from your `balance` and print a message showing the amount withdrawn and your new balance, otherwise it should print a message that you do not have the funds "
            ]
        },
        {
            "cell_type": "code",
            "execution_count": 54,
            "metadata": {},
            "outputs": [],
            "source": [
                "class BankAccount:\n",
                "    def __init__(self, balance):\n",
                "        self.balance = balance\n",
                "    \n",
                "    def check_balance(self):\n",
                "        print(self.balance)\n",
                "\n",
                "    def deposit(self, num):\n",
                "        self.balance = self.balance + num\n",
                "        print(f'You deposited £{num}. Your new balance is £{self.balance}')\n",
                "    \n",
                "    def withdraw(self, num):\n",
                "        if self.balance > num:\n",
                "            self.balance = self.balance - num\n",
                "            print(f'You withdrew £{num}. Your new balance is £{self.balance}')\n",
                "        else:\n",
                "            print('Transaction declined: Insufficient funds')\n",
                "        \n",
                "    "
            ]
        },
        {
            "cell_type": "code",
            "execution_count": 59,
            "metadata": {},
            "outputs": [
                {
                    "name": "stdout",
                    "output_type": "stream",
                    "text": [
                        "You withdrew £20. Your new balance is £130\n"
                    ]
                }
            ],
            "source": [
                "#expected outcome having ran the following\n",
                "\n",
                "#account = BankAccount(100)\n",
                "#account.check_balance() # should print a message similar to : Your current balance is £100.\n",
                "#account.deposit(50) # should print a message similar to : You deposited £50. Your new balance is £150.\n",
                "#account.withdraw(200) # should print a message similar to : Transaction declined: Insufficient funds.\n",
                "#account.withdraw(20) # should print a message similar to : You withdrew £20. Your new balance is £130.\n",
                "\n"
            ]
        }
    ],
    "metadata": {
        "kernelspec": {
            "display_name": "base",
            "language": "python",
            "name": "python3"
        },
        "language_info": {
            "codemirror_mode": {
                "name": "ipython",
                "version": 3
            },
            "file_extension": ".py",
            "mimetype": "text/x-python",
            "name": "python",
            "nbconvert_exporter": "python",
            "pygments_lexer": "ipython3",
            "version": "3.11.8"
        },
        "orig_nbformat": 4,
        "vscode": {
            "interpreter": {
                "hash": "9bcd4d914e2bd1fd2df8e0d617ef656989b094900dc3b085585fa427e902d48a"
            }
        }
    },
    "nbformat": 4,
    "nbformat_minor": 2
}
