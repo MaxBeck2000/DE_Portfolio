{
    "cells": [
        {
            "cell_type": "markdown",
            "metadata": {},
            "source": [
                "---\n",
                "# 1. Variables and Expressions\n",
                "---\n",
                "In Python, we store data in items called 'variables' – so called because the data values can 'vary' over  the lifetime of a program. "
            ]
        },
        {
            "cell_type": "code",
            "execution_count": 1,
            "metadata": {},
            "outputs": [
                {
                    "name": "stdout",
                    "output_type": "stream",
                    "text": [
                        "10\n"
                    ]
                }
            ],
            "source": [
                "x = 10\n",
                "print(x)"
            ]
        },
        {
            "cell_type": "code",
            "execution_count": 2,
            "metadata": {},
            "outputs": [
                {
                    "name": "stdout",
                    "output_type": "stream",
                    "text": [
                        "10\n",
                        "20\n"
                    ]
                }
            ],
            "source": [
                "x = 10\n",
                "print(x)\n",
                "x = 20\n",
                "print(x)\n",
                "\n",
                "#this-is-a-comment\n"
            ]
        },
        {
            "cell_type": "markdown",
            "metadata": {},
            "source": [
                "Points to note from the above code:\n",
                "\n",
                "- We can assign values to a variable name, the one above is called `x`.\n",
                "- The '=' sign is the assignment operator. We say \"The variable `x` is assigned to the value `10`\".\n",
                "- The lines of code are executed in sequence.\n",
                "- Any text coming after the '#' character is ignored by Python: these text strings are called 'comments'.\n",
                "\n",
                "The variable `x` can also be assigned to other types data, e.g. a string characters, as shown in the following code cell:"
            ]
        },
        {
            "cell_type": "markdown",
            "metadata": {},
            "source": [
                "**Note:** Comments are ignored when the code is executed. They are used by the programmer to annotate the code. "
            ]
        },
        {
            "cell_type": "code",
            "execution_count": 3,
            "metadata": {},
            "outputs": [
                {
                    "name": "stdout",
                    "output_type": "stream",
                    "text": [
                        "hello world\n"
                    ]
                }
            ],
            "source": [
                "x = 'hello world'\n",
                "print(x)"
            ]
        },
        {
            "cell_type": "code",
            "execution_count": 4,
            "metadata": {},
            "outputs": [
                {
                    "name": "stdout",
                    "output_type": "stream",
                    "text": [
                        "hello de35\n",
                        "1\n"
                    ]
                }
            ],
            "source": [
                "print('hello de35')\n",
                "print(1)"
            ]
        },
        {
            "cell_type": "markdown",
            "metadata": {},
            "source": [
                "**Tip**: To comment/uncomment line(s) of code, select the line(s) and hit `Ctrl+/` on the keyboard (same shortcut for toggle commenting or uncommenting)"
            ]
        },
        {
            "cell_type": "markdown",
            "metadata": {},
            "source": [
                "## 1.1 Variable Names: Some Rules and Conventions:\n",
                "\n",
                "Choosing correct and appropriate variable names is important. It is good practice to use names that aptly describe the data stored in the variable.\n",
                "\n",
                "### 1.1.1 Rules for variable names\n",
                "\n",
                "There are a few rules regarding variable names:  \n",
                "  1. Variable names can only include letters, numbers and the '`_`' character.   \n",
                "  2. Variable names cannot start with a number.  \n",
                "  3. Variable names can't be Python keywords (reserved words that carry a special meaning). Try `help('keywords')` to list all the Python keywords.\n",
                "  4. They are case-sensitive"
            ]
        },
        {
            "cell_type": "markdown",
            "metadata": {},
            "source": [
                "**Rule 1: Variable names can only include letters, numbers and '_'**"
            ]
        },
        {
            "cell_type": "code",
            "execution_count": 5,
            "metadata": {},
            "outputs": [],
            "source": [
                "hello_world = 'de35'"
            ]
        },
        {
            "cell_type": "code",
            "execution_count": 6,
            "metadata": {},
            "outputs": [
                {
                    "ename": "SyntaxError",
                    "evalue": "cannot assign to expression here. Maybe you meant '==' instead of '='? (3300023723.py, line 1)",
                    "output_type": "error",
                    "traceback": [
                        "\u001b[1;36m  Cell \u001b[1;32mIn[6], line 1\u001b[1;36m\u001b[0m\n\u001b[1;33m    hello-world = 'de35'\u001b[0m\n\u001b[1;37m    ^\u001b[0m\n\u001b[1;31mSyntaxError\u001b[0m\u001b[1;31m:\u001b[0m cannot assign to expression here. Maybe you meant '==' instead of '='?\n"
                    ]
                }
            ],
            "source": [
                "hello-world = 'de35'"
            ]
        },
        {
            "cell_type": "markdown",
            "metadata": {},
            "source": [
                "**Rule 2: Variable names cannot start with a number**"
            ]
        },
        {
            "cell_type": "code",
            "execution_count": 8,
            "metadata": {},
            "outputs": [],
            "source": [
                "a1_hello_world = 'de35'"
            ]
        },
        {
            "cell_type": "code",
            "execution_count": null,
            "metadata": {},
            "outputs": [],
            "source": []
        },
        {
            "cell_type": "code",
            "execution_count": null,
            "metadata": {},
            "outputs": [],
            "source": []
        },
        {
            "cell_type": "markdown",
            "metadata": {},
            "source": [
                "**Rule 3: Variable names cannot be Python keywords**"
            ]
        },
        {
            "cell_type": "code",
            "execution_count": 9,
            "metadata": {},
            "outputs": [
                {
                    "ename": "SyntaxError",
                    "evalue": "invalid syntax (1088076511.py, line 1)",
                    "output_type": "error",
                    "traceback": [
                        "\u001b[1;36m  Cell \u001b[1;32mIn[9], line 1\u001b[1;36m\u001b[0m\n\u001b[1;33m    if = 'de35'\u001b[0m\n\u001b[1;37m       ^\u001b[0m\n\u001b[1;31mSyntaxError\u001b[0m\u001b[1;31m:\u001b[0m invalid syntax\n"
                    ]
                }
            ],
            "source": [
                "if = 'de35'"
            ]
        },
        {
            "cell_type": "code",
            "execution_count": null,
            "metadata": {
                "scrolled": true
            },
            "outputs": [],
            "source": []
        },
        {
            "cell_type": "code",
            "execution_count": null,
            "metadata": {},
            "outputs": [],
            "source": []
        },
        {
            "cell_type": "code",
            "execution_count": null,
            "metadata": {},
            "outputs": [],
            "source": []
        },
        {
            "cell_type": "markdown",
            "metadata": {},
            "source": [
                "**Rule 4: Variable names are case sensitive**  \n",
                "Two variables created with a set of characters only differing in case will refer to different objects."
            ]
        },
        {
            "cell_type": "code",
            "execution_count": 11,
            "metadata": {},
            "outputs": [
                {
                    "name": "stdout",
                    "output_type": "stream",
                    "text": [
                        "10\n",
                        "20\n"
                    ]
                }
            ],
            "source": [
                "x = 10\n",
                "X = 20\n",
                "print(x)\n",
                "print(X)"
            ]
        },
        {
            "cell_type": "markdown",
            "metadata": {},
            "source": [
                "### 1.1.2 Common conventions around variable names\n",
                "\n",
                "There are also a few conventions around variable names (listed below) that are useful to follow as a good practice:\n",
                "  - Variable names typically use lower case rather than upper case characters (e.g. `area = 10` instead of `Area = 10`)\n",
                "  - Individual words in a name are typically separated by the '`_`' character. (e.g. `my_str = 'Hello'`)\n",
                "  - Variables starting with an underscore '`_`' have a special role in Python. (This will be covered later)\n",
                "  - They should be descriptive yet concise. This makes source code more understandable and 'easy on the eye'. For example, if we are creating a variable to store the area of a circle, `circle_area = 20` is a better choice than something like `xyz = 20`."
            ]
        },
        {
            "cell_type": "code",
            "execution_count": null,
            "metadata": {},
            "outputs": [],
            "source": []
        },
        {
            "cell_type": "code",
            "execution_count": null,
            "metadata": {},
            "outputs": [],
            "source": []
        },
        {
            "cell_type": "code",
            "execution_count": null,
            "metadata": {},
            "outputs": [],
            "source": []
        },
        {
            "cell_type": "markdown",
            "metadata": {},
            "source": [
                "**Warning**: One common mistake made by beginners to Python is using built-in functions and classes in Python as variable names. Some names to avoid are `print`, `len`, `list`, `dict`, `tuple`, `str` and `int`. For example, instead of writing `str = 'Hello World!'`, we could write something like `my_str = 'Hello World!` or `str1 = Hello World!`. "
            ]
        },
        {
            "cell_type": "markdown",
            "metadata": {},
            "source": [
                "### 1.1.3 Concept Check: Variable Names\n",
                "\n",
                "Which of the following variable names are valid, and which of these follows the above conventions?"
            ]
        },
        {
            "cell_type": "code",
            "execution_count": null,
            "metadata": {},
            "outputs": [],
            "source": [
                "# eight_ball = 8\n",
                "# 8_ball = 8 \n",
                "# eight-ball = 8\n",
                "# Eight_Ball = 8\n",
                "# ball_8 = 8\n",
                "# Gin&Tonic = 570\n",
                "\n",
                "# ManagingDirectorSalary = 100\n",
                "\n",
                "# category = 123\n",
                "# class = 456\n",
                "# None = \"nothing to see here\"\n",
                "\n",
                "# in = 10\n",
                "# in1 = 20 \n",
                "# IN = 30 \n",
                "# in_ = 40 \n",
                "# 1in = 50\n",
                "# in_% = 60\n"
            ]
        },
        {
            "cell_type": "code",
            "execution_count": null,
            "metadata": {},
            "outputs": [],
            "source": [
                "# in = 10\n",
                "# in1 = 20 \n",
                "# IN = 30 \n",
                "# in_ = 40 \n",
                "# 1in = 50\n",
                "# in_% = 60\n"
            ]
        },
        {
            "cell_type": "markdown",
            "metadata": {},
            "source": [
                "## 1.2 Expressions\n",
                "\n",
                "We can combine variables together in what Python calls expressions. Here, we look at arithmetic expressions (involving arithmetic operators). There are other types of expressions (e.g. logical expressions) which will be covered later. Some common arithmetic operators used in Python are:\n",
                "- `+` (addition)\n",
                "- `-` (subtraction)\n",
                "- `*` (multiplication)\n",
                "- `/` (division)\n",
                "- `**` (power of (or) exponentiation)\n",
                "- `%` (modulo (or) remainder of division)\n",
                "- `//` (floor division (or) quotient of division)\n",
                "\n",
                "For example:\n",
                "- `x + y` is an expression, \n",
                "- `x * y` means 'x multiplied by y', \n",
                "- `x ** 3` means 'x to the power three', or 'x cubed'.\n",
                "- `15 // 4` gives the quotient when 15 is divided by 4, i.e. 3.\n",
                "- `4 % 2` gives the remainder when 4 is divided by 2, i.e. 0."
            ]
        },
        {
            "cell_type": "code",
            "execution_count": 12,
            "metadata": {},
            "outputs": [
                {
                    "data": {
                        "text/plain": [
                            "1000"
                        ]
                    },
                    "execution_count": 12,
                    "metadata": {},
                    "output_type": "execute_result"
                }
            ],
            "source": [
                "x = 10\n",
                "x ** 3\n"
            ]
        },
        {
            "cell_type": "code",
            "execution_count": 16,
            "metadata": {},
            "outputs": [
                {
                    "data": {
                        "text/plain": [
                            "3"
                        ]
                    },
                    "execution_count": 16,
                    "metadata": {},
                    "output_type": "execute_result"
                }
            ],
            "source": [
                "20 // 5\n",
                "\n",
                "15%4\n"
            ]
        },
        {
            "cell_type": "markdown",
            "metadata": {},
            "source": [
                "### 1.2.1 Example: Calculating Volume \n",
                "\n",
                "Write a notebook cell to calculate and print the volume of a cuboid, given its width, height and depth, and print this out.\n"
            ]
        },
        {
            "cell_type": "code",
            "execution_count": 18,
            "metadata": {},
            "outputs": [
                {
                    "name": "stdout",
                    "output_type": "stream",
                    "text": [
                        "6000\n"
                    ]
                }
            ],
            "source": [
                "width = 10\n",
                "height = 20\n",
                "depth = 30\n",
                "\n",
                "volume = width*height*depth\n",
                "print(volume)"
            ]
        },
        {
            "cell_type": "markdown",
            "metadata": {},
            "source": [
                "## 1.3 Brackets and Operator Precedence \n",
                "\n",
                "- Expressions can be combined together using round brackets `()`, just like in regular maths. Expressions within brackets are evaluated first, and then combined with elements outside the brackets.\n",
                "- Operators are applied in order of precedence. Aside from brackets, arithmetic operators are applied in the following priority:\n",
                "    - The power operator (`**`) is the highest priority\n",
                "    - Next is the negative sign, e.g. `-x` reverses the sign of `x`  \n",
                "    - Then there are multiplication (`*`), division (`/`), modulo (`%`) and floor division (`//`). These have equal priority and are applied left-to-right.\n",
                "    - Finally there are the addition (`+`) and subtraction (`-`) operators. These are the lowest priority. \n",
                "    \n",
                "As mentioned above, there are also other types of operators in Python, which we cover later in the module. \n",
                "\n",
                "For more information on operator precedence, see <https://docs.python.org/3/reference/expressions.html#operator-precedence>\n",
                "    \n",
                "Predict the outcomes of the expressions below before executing the cells:"
            ]
        },
        {
            "cell_type": "code",
            "execution_count": null,
            "metadata": {},
            "outputs": [],
            "source": []
        },
        {
            "cell_type": "code",
            "execution_count": null,
            "metadata": {},
            "outputs": [],
            "source": []
        },
        {
            "cell_type": "code",
            "execution_count": null,
            "metadata": {},
            "outputs": [],
            "source": []
        },
        {
            "cell_type": "markdown",
            "metadata": {},
            "source": [
                "### 1.3.1 Concept Check: Calculating the Hypotenuse \n",
                "\n",
                "Write a notebook code cell, to calculate and print the length of a right angle’s hypotenuse, given the lengths of the adjacent and opposite sides. \n",
                "\n",
                "If you are not familiar with the formula, you can look it up here: https://en.wikipedia.org/wiki/Hypotenuse"
            ]
        },
        {
            "cell_type": "code",
            "execution_count": 22,
            "metadata": {},
            "outputs": [
                {
                    "name": "stdout",
                    "output_type": "stream",
                    "text": [
                        "31.622776601683793\n"
                    ]
                }
            ],
            "source": [
                "a = 10\n",
                "b = 30\n",
                "c = (a**2+b**2)**0.5\n",
                "\n",
                "print(c)"
            ]
        }
    ],
    "metadata": {
        "kernelspec": {
            "display_name": "Python 3",
            "language": "python",
            "name": "python3"
        },
        "language_info": {
            "codemirror_mode": {
                "name": "ipython",
                "version": 3
            },
            "file_extension": ".py",
            "mimetype": "text/x-python",
            "name": "python",
            "nbconvert_exporter": "python",
            "pygments_lexer": "ipython3",
            "version": "3.11.8"
        },
        "varInspector": {
            "cols": {
                "lenName": 16,
                "lenType": 16,
                "lenVar": 40
            },
            "kernels_config": {
                "python": {
                    "delete_cmd_postfix": "",
                    "delete_cmd_prefix": "del ",
                    "library": "var_list.py",
                    "varRefreshCmd": "print(var_dic_list())"
                },
                "r": {
                    "delete_cmd_postfix": ") ",
                    "delete_cmd_prefix": "rm(",
                    "library": "var_list.r",
                    "varRefreshCmd": "cat(var_dic_list()) "
                }
            },
            "types_to_exclude": [
                "module",
                "function",
                "builtin_function_or_method",
                "instance",
                "_Feature"
            ],
            "window_display": false
        },
        "vscode": {
            "interpreter": {
                "hash": "4f77c56a1733e9d421c3a053160f731a1cdaa61fcda062af7a855a05be992435"
            }
        }
    },
    "nbformat": 4,
    "nbformat_minor": 4
}
