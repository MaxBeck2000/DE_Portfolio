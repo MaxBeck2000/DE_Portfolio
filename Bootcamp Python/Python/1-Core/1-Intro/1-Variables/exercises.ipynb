{
    "cells": [
        {
            "attachments": {},
            "cell_type": "markdown",
            "metadata": {},
            "source": [
                "# 1. Variables"
            ]
        },
        {
            "attachments": {},
            "cell_type": "markdown",
            "metadata": {},
            "source": [
                "## 1.1 Exercise: Pythagorean Means *\n",
                "\n",
                "Write a notebook code cell, to calculate print the Pythagorean means of three numbers, a, b and c. \n",
                "\n",
                "The three Pythagorean means are the Arithmetic Mean, Geometric Mean and Harmonic Mean. Even if you are not familiar with this concept, you can simply use their formulas given here: https://en.wikipedia.org/wiki/Pythagorean_means"
            ]
        },
        {
            "cell_type": "code",
            "execution_count": 6,
            "metadata": {},
            "outputs": [
                {
                    "name": "stdout",
                    "output_type": "stream",
                    "text": [
                        "9.0\n",
                        "8.434326653017491\n",
                        "7.826086956521738\n"
                    ]
                }
            ],
            "source": [
                "# Write your code below (pythagorean means)\n",
                "a = 5\n",
                "b = 10\n",
                "c = 12\n",
                "\n",
                "AM = (a+b+c)/3\n",
                "GM = (a*b*c)**(1/3)\n",
                "HM = 3/((1/a)+(1/b)+(1/c))\n",
                "\n",
                "print(AM)\n",
                "print(GM)\n",
                "print(HM)\n"
            ]
        }
    ],
    "metadata": {
        "kernelspec": {
            "display_name": "base",
            "language": "python",
            "name": "python3"
        },
        "language_info": {
            "codemirror_mode": {
                "name": "ipython",
                "version": 3
            },
            "file_extension": ".py",
            "mimetype": "text/x-python",
            "name": "python",
            "nbconvert_exporter": "python",
            "pygments_lexer": "ipython3",
            "version": "3.11.8"
        },
        "orig_nbformat": 4,
        "vscode": {
            "interpreter": {
                "hash": "54b57a9d7255aa9bd89013014712be1af3e9c0518087b34529522b12b0bc87de"
            }
        }
    },
    "nbformat": 4,
    "nbformat_minor": 2
}
