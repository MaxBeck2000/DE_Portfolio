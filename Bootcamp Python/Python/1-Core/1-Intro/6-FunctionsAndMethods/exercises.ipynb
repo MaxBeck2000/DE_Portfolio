{
    "cells": [
        {
            "attachments": {},
            "cell_type": "markdown",
            "metadata": {},
            "source": [
                "# 6. Functions and Methods\n",
                "\n",
                "For most of the following exercises, we build on your past solutions turning them into functions.\n",
                "\n",
                "**Common Mistake**: Pay attention to when when the question says 'returns' instead of 'print', remember to use the `return` statement instead of `print`-ing the answer out."
            ]
        },
        {
            "attachments": {},
            "cell_type": "markdown",
            "metadata": {},
            "source": [
                "## 6.1 Exercise: Print receipt function\n",
                "\n",
                "In a previous exercise you wrote a function that prints a receipt out given receipt info. An examples solution is below.\n",
                "\n",
                "Wrap this code in a function `print_receipt` that accepts a single argument `receipt_info` (a dictionary).\n",
                "\n",
                "Example function call:\n",
                "```\n",
                "receipt_info2 = {'Balloons': 2.40, 'Birthday Cake': 7.50, 'Candles': 2.95, 'Card': 1.50}\n",
                "print_receipt(receipt_info2)\n",
                "```\n",
                "\n",
                "*prints*\n",
                "\n",
                "```\n",
                "Your Receipt:\n",
                "******************\n",
                "+ Balloons -- $2.40\n",
                "------------\n",
                "+ Birthday Cake -- $7.50\n",
                "------------\n",
                "+ Candles -- $2.95\n",
                "------------\n",
                "+ Card -- $1.50\n",
                "------------\n",
                "Total: $14.35\n",
                "******************\n",
                "Thanks for shopping with us!\n",
                "******************\n",
                "```"
            ]
        },
        {
            "cell_type": "code",
            "execution_count": 12,
            "metadata": {},
            "outputs": [],
            "source": [
                "receipt_info = {'Apples': 2.40, 'Bananas': 1.50, 'Cherries': 3.00, 'Durian': 5.20}\n",
                "total = 0\n",
                "print(\"Your Receipt:\")\n",
                "print(\"******************\")\n",
                "for item in receipt_info:\n",
                "    price = receipt_info[item]\n",
                "    total = total + price\n",
                "    print(f\"+ {item} -- ${price:0.2f}\")\n",
                "    print(\"------------\")\n",
                "print(f\"Total: ${total:0.2f}\")\n",
                "print(\"******************\")\n",
                "print(\"Thanks for shopping with us!\")\n",
                "print(\"******************\")\n"
            ]
        },
        {
            "attachments": {},
            "cell_type": "markdown",
            "metadata": {},
            "source": [
                "## 6.2 Exercise: String Formatting with User Inputs\n",
                "\n",
                "Write a function `birthday_greeting` that takes three arguments/inputs:\n",
                "\n",
                "- Their first name\n",
                "- Their last name\n",
                "- Their age (as a whole number, in years)\n",
                "\n",
                "Return a string of a 'birthday greeting' that includes both names and their age at their next birthday. \n",
                "\n",
                "For example, calling the following:\n",
                "\n",
                "`birthday_greeting('Albert', 'Einstein', 24)`\n",
                "\n",
                "returns\n",
                "\n",
                "`Greetings, Albert Einstein! On your next birthday, you will be 25.`\n",
                "\n",
                "(Note: This is similar to a previous exercise, but try not to use your past solution unless you are stuck.)"
            ]
        },
        {
            "cell_type": "code",
            "execution_count": 4,
            "metadata": {},
            "outputs": [],
            "source": [
                "def birthday_greeting(first, last, age):\n",
                "    "
            ]
        },
        {
            "attachments": {},
            "cell_type": "markdown",
            "metadata": {},
            "source": [
                "## 6.3 String Decoder\n",
                "\n",
                "### 6.3.1 Exercise: Manual String Replacement\n",
                "\n",
                "Using the solution to a past exercise below, create a function called `decode_string()` that accepts a `coded_string` as a argument, decodes the string and prints out the message vertically as before.\n",
                "\n",
                "Try calling this function with the following string:\n",
                "\n",
                "`decode_string(\"GR34T 3X3P3CT4TIONS\")` \n",
                "\n",
                "which should print \n",
                "\n",
                "```\n",
                "G\n",
                "R\n",
                "E\n",
                "A\n",
                "T\n",
                " \n",
                "E\n",
                "X\n",
                "E\n",
                "P\n",
                "E\n",
                "C\n",
                "T\n",
                "A\n",
                "T\n",
                "I\n",
                "O\n",
                "N\n",
                "S\n",
                "```\n",
                "\n",
                "### 6.3.2 Extension: Return the decoded string *\n",
                "\n",
                "Rather than printing out the decoded string vertically, it might be useful to keep your decoded string for later. Re-write your function to `return` a new string instead.\n"
            ]
        },
        {
            "cell_type": "code",
            "execution_count": null,
            "metadata": {},
            "outputs": [],
            "source": [
                "coded_string = 'N4S4 4RT3MI5'\n",
                "for char in coded_string:\n",
                "    if char == '3':\n",
                "        print(\"E\")\n",
                "    elif char == '4':\n",
                "        print(\"A\")\n",
                "    elif char == '5':\n",
                "        print(\"S\")\n",
                "    else:\n",
                "        print(char)\n"
            ]
        },
        {
            "cell_type": "code",
            "execution_count": null,
            "metadata": {},
            "outputs": [],
            "source": []
        },
        {
            "attachments": {},
            "cell_type": "markdown",
            "metadata": {},
            "source": [
                "## 6.4 Exercise: Calculating Distance Travelled *\n",
                "\n",
                "In a previous exercise, you wrote a simple program that calculates the `distance` travelled by a car given `speed` in miles per hour and `time` in hours: `distance = speed * time`. An example solution has been given to you below. The program also checked whether both inputs were floats or not.\n",
                "\n",
                "Turn this solution into a function `calculate_distance` that has `speed` and `time` as arguments, that returns distance.\n",
                "\n",
                "Here are some example function calls:\n",
                "\n",
                "`calculate_distance(10.0, 2.0)` *returns* `20.0`\n",
                "\n",
                "`calculate_distance(10.0, \"2\")` *prints* `\"Invalid input. Speed and time must be floats.\"`\n",
                "\n",
                "The outputs may look the same in a notebook cell, but what's the difference? "
            ]
        },
        {
            "cell_type": "code",
            "execution_count": 11,
            "metadata": {},
            "outputs": [],
            "source": [
                "speed = 20.0\n",
                "time = 2.0\n",
                "if type(speed) == float and type(time) == float:\n",
                "    distance = speed * time\n",
                "    print(distance)\n",
                "else:\n",
                "    print(\"Invalid input. Speed and time must be floats.\")\n"
            ]
        },
        {
            "attachments": {},
            "cell_type": "markdown",
            "metadata": {},
            "source": [
                "### 6.4.1 Exercise: Pythagorean Means **\n",
                "\n",
                "Earlier, we calculated the arithmetic, geometric and harmonic means (see solution below).\n",
                "\n",
                "Turn this code into a function `get_means` which has three inputs `a`, `b`, and `c` which returns a dictionary of the `means`.\n",
                "\n",
                "For instance, calling `get_means` with the following \n",
                "\n",
                "`get_means(5, 10, 12)`\n",
                "\n",
                "returns\n",
                "\n",
                "```\n",
                "{'Arithmetic': 9.0,\n",
                " 'Geometric': 8.434326653017491,\n",
                " 'Harmonic': 7.826086956521738}\n",
                "```\n",
                "\n"
            ]
        },
        {
            "cell_type": "code",
            "execution_count": 1,
            "metadata": {},
            "outputs": [],
            "source": [
                "# Write your code below (pythagorean means)\n",
                "a = 5\n",
                "b = 10\n",
                "c = 12\n",
                "\n",
                "# Arithmetic Mean: sum of the values divided by the total number\n",
                "a_mean = (a+b+c)/3 \n",
                "print(a_mean)\n",
                "\n",
                "# Geometric Mean: nth root of the product of n values\n",
                "g_mean = ((a*b*c))**(1/3) \n",
                "print(g_mean)\n",
                "\n",
                "# Harmonic Mean: total number of values divided by the sum of their inverses\n",
                "h_mean = (3/((1/a)+(1/b)+(1/c))) \n",
                "print(h_mean)\n"
            ]
        },
        {
            "cell_type": "code",
            "execution_count": 2,
            "metadata": {},
            "outputs": [],
            "source": []
        },
        {
            "attachments": {},
            "cell_type": "markdown",
            "metadata": {},
            "source": [
                "## 6.5 Exercise: Finding the highest goal per match **\n",
                "\n",
                "In this exercise, you will write a function that takes in a list of match results represented as a list of lists, where each inner list contains the number of goals scored by each team in a match. The function should return a list containing the highest number of goals scored by either team in each match.\n",
                "\n",
                "You can test your function using the following test cases:\n",
                "\n",
                "```\n",
                "match_goals = [[5,3], [0,0], [2,3], [2,1], [2,1]] \n",
                "print(highest_goals(match_goals))\n",
                "# 6. Output should be [5, 0, 3, 2, 2] \n",
                "\n",
                "```\n",
                "```\n",
                "match_goals = [[1,2], [2,1], [0,0], [5,5], [10,1]] \n",
                "print(highest_goals(match_goals))\n",
                "# 6. Output should be [2, 2, 0, 5, 10]\n",
                "```\n",
                "<details>\n",
                "\n",
                "<summary><b>Hint</b></summary>\n",
                "\n",
                "You will need to iterate over the match_goals list, and for each match, compare the number of goals scored by each team. If the first team scored more goals than the second team, append the number of goals scored by the first team to the highest_goal_per_match list. If the second team scored more goals, append the number of goals scored by the second team instead.\n",
                "\n",
                "Note that you should consider the case of a draw, where the number of goals scored by each team is the same."
            ]
        },
        {
            "cell_type": "code",
            "execution_count": 3,
            "metadata": {},
            "outputs": [],
            "source": []
        }
    ],
    "metadata": {
        "kernelspec": {
            "display_name": "base",
            "language": "python",
            "name": "python3"
        },
        "language_info": {
            "codemirror_mode": {
                "name": "ipython",
                "version": 3
            },
            "file_extension": ".py",
            "mimetype": "text/x-python",
            "name": "python",
            "nbconvert_exporter": "python",
            "pygments_lexer": "ipython3",
            "version": "3.9.7 (default, Sep 16 2021, 16:59:28) [MSC v.1916 64 bit (AMD64)]"
        },
        "orig_nbformat": 4,
        "vscode": {
            "interpreter": {
                "hash": "54b57a9d7255aa9bd89013014712be1af3e9c0518087b34529522b12b0bc87de"
            }
        }
    },
    "nbformat": 4,
    "nbformat_minor": 2
}
