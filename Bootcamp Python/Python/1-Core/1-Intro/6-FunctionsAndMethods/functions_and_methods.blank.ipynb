{
    "cells": [
        {
            "cell_type": "markdown",
            "metadata": {},
            "source": [
                "---\n",
                "# 6. Functions and Methods\n",
                "---\n",
                "So far we have been using built-in functions like `print` and `input` and `type`. In this unit, we’ll learn how to write our own functions, and call them from other parts of our program. \n"
            ]
        },
        {
            "cell_type": "code",
            "execution_count": 1,
            "metadata": {},
            "outputs": [
                {
                    "name": "stdout",
                    "output_type": "stream",
                    "text": [
                        "ayup\n"
                    ]
                }
            ],
            "source": [
                "print('ayup')"
            ]
        },
        {
            "cell_type": "markdown",
            "metadata": {},
            "source": [
                "## 6.1 Defining a function\n",
                "\n",
                "To define our own function, we start with the `def` keyword, and then we get to write its name, its arguments (in round brackets). Importantly, at the end of the first line, there is the colon, which signifies the start of a new code block, so increase the indent by one:\n"
            ]
        },
        {
            "cell_type": "code",
            "execution_count": 3,
            "metadata": {},
            "outputs": [],
            "source": [
                "def my_function_name(argument1, argument2):\n",
                "    print('hello from inside the function')\n",
                "    print(f'argument1 is {argument1}')\n",
                "    print(f'argument2 is {argument2}')"
            ]
        },
        {
            "cell_type": "markdown",
            "metadata": {},
            "source": [
                "Run the above block of code. You'll see that nothing is printed, because `my_function_name` has not yet been called. If we call the function, below, then we see the printed message:"
            ]
        },
        {
            "cell_type": "code",
            "execution_count": 4,
            "metadata": {},
            "outputs": [
                {
                    "name": "stdout",
                    "output_type": "stream",
                    "text": [
                        "hello from inside the function\n",
                        "argument1 is 1\n",
                        "argument2 is 2\n"
                    ]
                }
            ],
            "source": [
                "my_function_name(1,2)"
            ]
        },
        {
            "cell_type": "code",
            "execution_count": 5,
            "metadata": {},
            "outputs": [
                {
                    "name": "stdout",
                    "output_type": "stream",
                    "text": [
                        "hello from inside the function\n",
                        "argument1 is hello\n",
                        "argument2 is max\n"
                    ]
                }
            ],
            "source": [
                "my_function_name('hello', 'max')"
            ]
        },
        {
            "cell_type": "code",
            "execution_count": 6,
            "metadata": {},
            "outputs": [
                {
                    "name": "stdout",
                    "output_type": "stream",
                    "text": [
                        "hello from inside the function\n",
                        "argument1 is saul\n",
                        "argument2 is goodman\n"
                    ]
                }
            ],
            "source": [
                "my_function_name('saul', 'goodman')"
            ]
        },
        {
            "cell_type": "markdown",
            "metadata": {},
            "source": [
                "#### Another function example"
            ]
        },
        {
            "cell_type": "code",
            "execution_count": 8,
            "metadata": {},
            "outputs": [],
            "source": [
                "def add_two_numbers(a,b):\n",
                "    print('hello')\n",
                "    print(f'the value of a + b is {a+b}')\n",
                "    print('later')"
            ]
        },
        {
            "cell_type": "code",
            "execution_count": 9,
            "metadata": {},
            "outputs": [
                {
                    "name": "stdout",
                    "output_type": "stream",
                    "text": [
                        "hello\n",
                        "the value of a + b is 30\n",
                        "later\n"
                    ]
                }
            ],
            "source": [
                "add_two_numbers(10,20)"
            ]
        },
        {
            "cell_type": "code",
            "execution_count": 11,
            "metadata": {
                "scrolled": true
            },
            "outputs": [
                {
                    "name": "stdout",
                    "output_type": "stream",
                    "text": [
                        "hello\n",
                        "the value of a + b is 13.1415\n",
                        "later\n"
                    ]
                }
            ],
            "source": [
                "add_two_numbers(3.1415,10)"
            ]
        },
        {
            "cell_type": "code",
            "execution_count": 12,
            "metadata": {},
            "outputs": [],
            "source": [
                "def multi_two_numbers(c,d):\n",
                "    print(c*d)"
            ]
        },
        {
            "cell_type": "code",
            "execution_count": 14,
            "metadata": {},
            "outputs": [
                {
                    "name": "stdout",
                    "output_type": "stream",
                    "text": [
                        "156\n"
                    ]
                }
            ],
            "source": [
                "multi_two_numbers(13,12)"
            ]
        },
        {
            "cell_type": "code",
            "execution_count": 17,
            "metadata": {},
            "outputs": [],
            "source": [
                "def rand(a):\n",
                "    return a"
            ]
        },
        {
            "cell_type": "code",
            "execution_count": 20,
            "metadata": {},
            "outputs": [
                {
                    "data": {
                        "text/plain": [
                            "100"
                        ]
                    },
                    "execution_count": 20,
                    "metadata": {},
                    "output_type": "execute_result"
                }
            ],
            "source": [
                "rand(100)"
            ]
        },
        {
            "cell_type": "markdown",
            "metadata": {},
            "source": [
                "## 6.2 Returning a Value from a Function\n",
                "\n",
                "The `return` keyword is used to return a value from the function, back to the place it was called from. \n",
                " "
            ]
        },
        {
            "cell_type": "code",
            "execution_count": 22,
            "metadata": {},
            "outputs": [],
            "source": [
                "def add_ten(x):\n",
                "    result = x + 10\n",
                "    return result"
            ]
        },
        {
            "cell_type": "code",
            "execution_count": 26,
            "metadata": {},
            "outputs": [
                {
                    "name": "stdout",
                    "output_type": "stream",
                    "text": [
                        "add_ten(3) is 13\n"
                    ]
                }
            ],
            "source": [
                "my_num_add_ten = add_ten(3)\n",
                "print(f'add_ten(3) is {my_num_add_ten}')"
            ]
        },
        {
            "cell_type": "code",
            "execution_count": 27,
            "metadata": {},
            "outputs": [],
            "source": [
                "def add_ten_print(x):\n",
                "    result = x + 10\n",
                "    print(result)"
            ]
        },
        {
            "cell_type": "code",
            "execution_count": 29,
            "metadata": {},
            "outputs": [
                {
                    "name": "stdout",
                    "output_type": "stream",
                    "text": [
                        "13\n"
                    ]
                }
            ],
            "source": [
                "my_num_add_ten_print = add_ten_print(3)"
            ]
        },
        {
            "cell_type": "code",
            "execution_count": 31,
            "metadata": {},
            "outputs": [
                {
                    "name": "stdout",
                    "output_type": "stream",
                    "text": [
                        "add_ten_with_print(3) is None\n"
                    ]
                }
            ],
            "source": [
                "print(f'add_ten_with_print(3) is {my_num_add_ten_print}')"
            ]
        },
        {
            "cell_type": "markdown",
            "metadata": {},
            "source": [
                "### 6.2.1 Concept Check: Writing a Function\n",
                "\n",
                "Write a function called `get_full_name` which accepts two input argments, the first and second name. The function should  return a single string containing both these names, separated by a space\n",
                "\n",
                "Call your function with some example names;  print out the input arguments and return values, to show that it is working.\n",
                "\n",
                "\n",
                "\n"
            ]
        },
        {
            "cell_type": "code",
            "execution_count": 42,
            "metadata": {},
            "outputs": [],
            "source": [
                "def get_full_name(first, second):\n",
                "    full_name = f'{first} {second}'\n",
                "    # print(first)\n",
                "    # print(second)\n",
                "    return(full_name)"
            ]
        },
        {
            "cell_type": "code",
            "execution_count": 44,
            "metadata": {},
            "outputs": [
                {
                    "name": "stdout",
                    "output_type": "stream",
                    "text": [
                        "Max Beck\n"
                    ]
                }
            ],
            "source": [
                "my_full_name = get_full_name('Max', 'Beck')\n",
                "print(my_full_name)\n"
            ]
        },
        {
            "cell_type": "code",
            "execution_count": 45,
            "metadata": {},
            "outputs": [],
            "source": [
                "def full_name_print(first, second):\n",
                "    full_name = f'{first} {second}'\n",
                "    print(full_name)"
            ]
        },
        {
            "cell_type": "code",
            "execution_count": null,
            "metadata": {},
            "outputs": [],
            "source": []
        },
        {
            "cell_type": "code",
            "execution_count": 46,
            "metadata": {},
            "outputs": [],
            "source": [
                "full_name_print = get_full_name('Max', 'Beck')"
            ]
        },
        {
            "cell_type": "code",
            "execution_count": 47,
            "metadata": {},
            "outputs": [
                {
                    "name": "stdout",
                    "output_type": "stream",
                    "text": [
                        "Max Beck\n"
                    ]
                }
            ],
            "source": [
                "print(full_name_print)"
            ]
        },
        {
            "cell_type": "markdown",
            "metadata": {},
            "source": [
                "## 6.3 Methods\n",
                "\n",
                "Methods are functions that are attached to and operate on Python 'objects'. The data types we have covered so far are good examples of Python objects.\n",
                "\n",
                "We access an object's methods by using the following syntax: `object.method()`.\n",
                "\n",
                "Let's see an example below."
            ]
        },
        {
            "cell_type": "code",
            "execution_count": 49,
            "metadata": {},
            "outputs": [],
            "source": [
                "hello_world = 'Hello World'"
            ]
        },
        {
            "cell_type": "code",
            "execution_count": 51,
            "metadata": {},
            "outputs": [
                {
                    "data": {
                        "text/plain": [
                            "'hello world'"
                        ]
                    },
                    "execution_count": 51,
                    "metadata": {},
                    "output_type": "execute_result"
                }
            ],
            "source": [
                "hello_world.lower()\n"
            ]
        },
        {
            "cell_type": "code",
            "execution_count": 54,
            "metadata": {},
            "outputs": [
                {
                    "name": "stdout",
                    "output_type": "stream",
                    "text": [
                        "[1, 2, 3, 4, 5]\n"
                    ]
                }
            ],
            "source": [
                "my_list = [1,2,3,4]\n",
                "my_list.append(5)\n",
                "print(my_list)"
            ]
        },
        {
            "cell_type": "code",
            "execution_count": 56,
            "metadata": {},
            "outputs": [
                {
                    "name": "stdout",
                    "output_type": "stream",
                    "text": [
                        "[1, 3, 4, 100000]\n"
                    ]
                }
            ],
            "source": [
                "another_list = [4,3,100000,1]\n",
                "another_list.sort()\n",
                "print(another_list)"
            ]
        },
        {
            "cell_type": "markdown",
            "metadata": {},
            "source": [
                "### 6.3.1 Concept Check: Making and Sorting a List of Names\n",
                "\n",
                "- Run the first code cell immediately below, to create a list called  `list_of_names`.\n",
                "- In the second code cell, write code to:\n",
                "    - Ask the user for a name to add to the list\n",
                "    - Append this name to the list\n",
                "    - Sort the list (hint: there is a method for that!)\n",
                "    - Print the list\n",
                "    \n",
                "You can run the second code cell multiple times, to add multiple names to the list. Each time you run the first code cell, the empty list will be re-created.\n"
            ]
        },
        {
            "cell_type": "code",
            "execution_count": 57,
            "metadata": {},
            "outputs": [],
            "source": [
                "# first code cell: run this once\n",
                "list_of_names = []\n"
            ]
        },
        {
            "cell_type": "code",
            "execution_count": 70,
            "metadata": {},
            "outputs": [
                {
                    "ename": "AttributeError",
                    "evalue": "'list' object has no attribute 'upper'",
                    "output_type": "error",
                    "traceback": [
                        "\u001b[1;31m---------------------------------------------------------------------------\u001b[0m",
                        "\u001b[1;31mAttributeError\u001b[0m                            Traceback (most recent call last)",
                        "Cell \u001b[1;32mIn[70], line 3\u001b[0m\n\u001b[0;32m      1\u001b[0m list_of_names\u001b[38;5;241m.\u001b[39mappend(\u001b[38;5;28minput\u001b[39m(\u001b[38;5;124m'\u001b[39m\u001b[38;5;124mWhats your name buddy?\u001b[39m\u001b[38;5;124m'\u001b[39m))\n\u001b[0;32m      2\u001b[0m list_of_names\u001b[38;5;241m.\u001b[39msort()\n\u001b[1;32m----> 3\u001b[0m \u001b[43mlist_of_names\u001b[49m\u001b[38;5;241;43m.\u001b[39;49m\u001b[43mupper\u001b[49m\n\u001b[0;32m      4\u001b[0m \u001b[38;5;28mprint\u001b[39m(list_of_names)\n",
                        "\u001b[1;31mAttributeError\u001b[0m: 'list' object has no attribute 'upper'"
                    ]
                }
            ],
            "source": [
                "list_of_names.append(input('Whats your name buddy?'))\n",
                "list_of_names.sort()\n",
                "print(list_of_names)"
            ]
        }
    ],
    "metadata": {
        "kernelspec": {
            "display_name": "Python 3",
            "language": "python",
            "name": "python3"
        },
        "language_info": {
            "codemirror_mode": {
                "name": "ipython",
                "version": 3
            },
            "file_extension": ".py",
            "mimetype": "text/x-python",
            "name": "python",
            "nbconvert_exporter": "python",
            "pygments_lexer": "ipython3",
            "version": "3.11.8"
        },
        "varInspector": {
            "cols": {
                "lenName": 16,
                "lenType": 16,
                "lenVar": 40
            },
            "kernels_config": {
                "python": {
                    "delete_cmd_postfix": "",
                    "delete_cmd_prefix": "del ",
                    "library": "var_list.py",
                    "varRefreshCmd": "print(var_dic_list())"
                },
                "r": {
                    "delete_cmd_postfix": ") ",
                    "delete_cmd_prefix": "rm(",
                    "library": "var_list.r",
                    "varRefreshCmd": "cat(var_dic_list()) "
                }
            },
            "types_to_exclude": [
                "module",
                "function",
                "builtin_function_or_method",
                "instance",
                "_Feature"
            ],
            "window_display": false
        },
        "vscode": {
            "interpreter": {
                "hash": "4f77c56a1733e9d421c3a053160f731a1cdaa61fcda062af7a855a05be992435"
            }
        }
    },
    "nbformat": 4,
    "nbformat_minor": 4
}
