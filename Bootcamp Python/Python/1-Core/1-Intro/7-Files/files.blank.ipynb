{
    "cells": [
        {
            "cell_type": "markdown",
            "metadata": {},
            "source": [
                "---\n",
                "# 7. Files\n",
                "---\n",
                "\n",
                "Python programs can read in text from files, and write out text to files.\n",
                "\n",
                "The general pattern when working with files is straightforward:\n",
                "\n",
                "- `open` the file, and store it as a variable,\n",
                "- using file methods to read or write to the file,\n",
                "- when we have finished, we need to make sure to `close` the file."
            ]
        },
        {
            "cell_type": "markdown",
            "metadata": {},
            "source": [
                "## 7.1 Opening the File\n",
                "\n",
                "- Call built-in function `open` to create and return a file object\n",
                "- The first input argument is the *file path* -- the filename, optionally prepended with folders\n",
                "- The second input argument is the *operation mode* -- most simply this is read ('`r`') or write ('`w`')"
            ]
        },
        {
            "cell_type": "code",
            "execution_count": 18,
            "metadata": {},
            "outputs": [],
            "source": [
                "my_file = open('test_file_python.txt','w')"
            ]
        },
        {
            "cell_type": "markdown",
            "metadata": {},
            "source": [
                "## 7.2 Writing Lines of Text \n",
                "\n",
                "- The file object provides several methods to write text.\n",
                "- We'll choose the `.writelines` method to do this. It accepts a **list of strings** that it will write to file. \n",
                "- Note that we have included a newline character `\\n` at the end of each string, so that it will appear as a separate line in the file. If we didn't do this, all the text would appear on a single line, in the file. \n"
            ]
        },
        {
            "cell_type": "code",
            "execution_count": 19,
            "metadata": {},
            "outputs": [],
            "source": [
                "text_data = ['jimmy\\n','immy\\n','blimmy\\n']\n",
                "\n",
                "my_file.writelines(text_data)"
            ]
        },
        {
            "cell_type": "markdown",
            "metadata": {},
            "source": [
                "## 7.3 Closing the File\n",
                "\n",
                "- Use the `.close()` method to finish the write operations. \n",
                "- If you don't call this method, then the operating system may not have yet written all the text. It may also lock the file, preventing access from other programs. \n",
                "\n",
                "After running the code below, you should be able to find a file called `test_file_python.txt`, in the same folder as this notebook. "
            ]
        },
        {
            "cell_type": "code",
            "execution_count": 9,
            "metadata": {},
            "outputs": [],
            "source": [
                "my_file.close()"
            ]
        },
        {
            "cell_type": "markdown",
            "metadata": {},
            "source": [
                "## 7.4 Reading Lines of Text\n",
                "\n",
                "- We can create a file object using the `open` function and using the '`r`' mode as the second argument\n",
                "- We can then call the `readlines` method that returns a list of lines of text\n",
                "- Finally, we have to call the `close` method, to terminate the link between the python program and this file in the filesystem.  "
            ]
        },
        {
            "cell_type": "code",
            "execution_count": 15,
            "metadata": {},
            "outputs": [
                {
                    "data": {
                        "text/plain": [
                            "'This is the 100th Etext file presented by Project Gutenberg, and\\n'"
                        ]
                    },
                    "execution_count": 15,
                    "metadata": {},
                    "output_type": "execute_result"
                }
            ],
            "source": [
                "my_file = open('complete_works_of_shakespeare.txt','r')\n",
                "my_list = my_file.readlines()\n",
                "my_file.close()\n",
                "my_list[0]"
            ]
        },
        {
            "cell_type": "markdown",
            "metadata": {},
            "source": [
                "### 7.4.1 Concept Check: Print out the first and third lines from 'test_file.txt'\n",
                "\n",
                "Read in the contents of 'test_file.txt', which previously saved in this folder using the above code cells. \n",
                "\n",
                "Use the `readlines` method to read the lines of text into a list. Each element in the list is a line of text. Print out the first element in this list. Does each string in the list end with a newline? "
            ]
        },
        {
            "cell_type": "code",
            "execution_count": 21,
            "metadata": {},
            "outputs": [
                {
                    "data": {
                        "text/plain": [
                            "'jimmy\\n'"
                        ]
                    },
                    "execution_count": 21,
                    "metadata": {},
                    "output_type": "execute_result"
                }
            ],
            "source": [
                "my_file = open('test_file_python.txt')\n",
                "my_list = my_file.readlines()\n",
                "my_file.close()\n",
                "my_list[0]\n"
            ]
        },
        {
            "cell_type": "code",
            "execution_count": 22,
            "metadata": {},
            "outputs": [
                {
                    "data": {
                        "text/plain": [
                            "'immy\\n'"
                        ]
                    },
                    "execution_count": 22,
                    "metadata": {},
                    "output_type": "execute_result"
                }
            ],
            "source": [
                "my_file = open('test_file_python.txt')\n",
                "my_list = my_file.readlines()\n",
                "my_file.close()\n",
                "my_list[1]"
            ]
        },
        {
            "cell_type": "code",
            "execution_count": 23,
            "metadata": {},
            "outputs": [
                {
                    "data": {
                        "text/plain": [
                            "'blimmy\\n'"
                        ]
                    },
                    "execution_count": 23,
                    "metadata": {},
                    "output_type": "execute_result"
                }
            ],
            "source": [
                "my_file = open('test_file_python.txt')\n",
                "my_list = my_file.readlines()\n",
                "my_file.close()\n",
                "my_list[2]"
            ]
        },
        {
            "cell_type": "code",
            "execution_count": null,
            "metadata": {},
            "outputs": [],
            "source": []
        },
        {
            "cell_type": "code",
            "execution_count": null,
            "metadata": {},
            "outputs": [],
            "source": []
        },
        {
            "cell_type": "markdown",
            "metadata": {},
            "source": [
                "## 7.5 Some Variations on Reading and Writing\n",
                "\n",
                "- In addition to '`w`' and '`r`' modes, there is an *append* mode '`a`', which doesn't delete the previous lines, but rather adds the new lines to the end of the file.\n",
                "- We can use absolute file paths as well as relative file paths, for example '`C:/tmp/my_file.txt`' will write to a file in the folder '`C:\\tmp`' "
            ]
        },
        {
            "cell_type": "code",
            "execution_count": null,
            "metadata": {},
            "outputs": [],
            "source": [
                "my_file = open('test_file_python.txt','a')\n",
                "my_file.writelines(['lizardface\\n'])\n",
                "my_file.close()"
            ]
        },
        {
            "cell_type": "markdown",
            "metadata": {},
            "source": [
                "### 7.5.1 Concept check: Appending to File  \n",
                "\n",
                "Ask the user to input a string. Append this string to a file and then print out the file contents. \n",
                "\n",
                "You should find that, each time you run this code cell, the previous entries are stored in the file, and displayed.\n"
            ]
        },
        {
            "cell_type": "code",
            "execution_count": 21,
            "metadata": {},
            "outputs": [
                {
                    "name": "stdout",
                    "output_type": "stream",
                    "text": [
                        "['lizardface\\n', 'culligancxlavishasdasdas[stringy]\\n', '[stringy]\\n', '[stringy]\\n', '[stringy]\\n', '[stringy]\\n', '[stringy]\\n', '[stringy]\\n', 'asdasd\\n', 'asdasdasd\\n', 'asdasdasdasdalan']\n"
                    ]
                }
            ],
            "source": [
                "stringy = input('putnamein:')\n",
                "my_file = open('test_file_python.txt', 'a')\n",
                "my_file.write(stringy)\n",
                "\n",
                "my_file.close()\n",
                "\n",
                "my_file = open('test_file_python.txt', 'r')\n",
                "my_list = my_file.readlines()\n",
                "my_file.close()\n",
                "print(my_list)\n",
                "\n"
            ]
        }
    ],
    "metadata": {
        "kernelspec": {
            "display_name": "Python 3",
            "language": "python",
            "name": "python3"
        },
        "language_info": {
            "codemirror_mode": {
                "name": "ipython",
                "version": 3
            },
            "file_extension": ".py",
            "mimetype": "text/x-python",
            "name": "python",
            "nbconvert_exporter": "python",
            "pygments_lexer": "ipython3",
            "version": "3.11.8"
        },
        "varInspector": {
            "cols": {
                "lenName": 16,
                "lenType": 16,
                "lenVar": 40
            },
            "kernels_config": {
                "python": {
                    "delete_cmd_postfix": "",
                    "delete_cmd_prefix": "del ",
                    "library": "var_list.py",
                    "varRefreshCmd": "print(var_dic_list())"
                },
                "r": {
                    "delete_cmd_postfix": ") ",
                    "delete_cmd_prefix": "rm(",
                    "library": "var_list.r",
                    "varRefreshCmd": "cat(var_dic_list()) "
                }
            },
            "types_to_exclude": [
                "module",
                "function",
                "builtin_function_or_method",
                "instance",
                "_Feature"
            ],
            "window_display": false
        },
        "vscode": {
            "interpreter": {
                "hash": "4f77c56a1733e9d421c3a053160f731a1cdaa61fcda062af7a855a05be992435"
            }
        }
    },
    "nbformat": 4,
    "nbformat_minor": 4
}
