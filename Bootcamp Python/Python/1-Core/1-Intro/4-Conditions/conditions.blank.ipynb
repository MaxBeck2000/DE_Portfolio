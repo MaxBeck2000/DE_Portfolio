{
    "cells": [
        {
            "attachments": {},
            "cell_type": "markdown",
            "metadata": {},
            "source": [
                "---\n",
                "# 4. Conditional Execution\n",
                "---\n"
            ]
        },
        {
            "attachments": {},
            "cell_type": "markdown",
            "metadata": {},
            "source": [
                "## 4.1 Conditional Expressions\n",
                "\n",
                "Sometimes, we would like our code to work differently based on certain conditions. This allows us to create different branches in our code that perform different things. \n",
                "\n",
                "Conditional expressions can be created using  comparison operators. Common comparison operators are:\n",
                "- `>` (greater than)\n",
                "- `<` (less than)\n",
                "- `>=` (greater than or equal to)\n",
                "- `<=` (less than or equal to)\n",
                "- `==` (equal to)\n",
                "- `!=` (not equal to)\n",
                "\n",
                "\n",
                "**Note**: Contrast the \"equal to\" operator (`==`) with the \"variable assignment\" operator (`=`).  \n",
                "  - `a = 10` means we **assign** the value `10` to variable `a`  \n",
                "  - `a == 10` means we **check** if the variable `a` is equal to `10`"
            ]
        },
        {
            "cell_type": "code",
            "execution_count": null,
            "metadata": {},
            "outputs": [],
            "source": []
        },
        {
            "cell_type": "code",
            "execution_count": null,
            "metadata": {},
            "outputs": [],
            "source": []
        },
        {
            "attachments": {},
            "cell_type": "markdown",
            "metadata": {},
            "source": [
                "Conditional expressions can exist by themselves and will result in a value of `True` or `False`, we will explore these values in more detail later. A conditional expression can be thought of a binary question with a True/False answer."
            ]
        },
        {
            "cell_type": "code",
            "execution_count": null,
            "metadata": {},
            "outputs": [],
            "source": []
        },
        {
            "cell_type": "code",
            "execution_count": null,
            "metadata": {},
            "outputs": [],
            "source": []
        },
        {
            "attachments": {},
            "cell_type": "markdown",
            "metadata": {},
            "source": [
                "## 4.2 Conditional (`if`) Statements\n",
                "\n",
                "The `if` statement is used to compare expressions, and make our program act according to the result of that comparison. \n",
                "\n",
                "The syntax for `if` is given as:\n",
                "\n",
                "```\n",
                "if <condition>:\n",
                "    # block to execute once if <condition> is True\n",
                "    <statement>\n",
                "    <statement>\n",
                "```\n",
                "\n",
                "The flowchart below illustrates this concept. If the condition is evaluated as `True`, the statement(s) inside the indented block (typically indented with four spaces) will be executed. Otherwise, Python skips over this indented block and continues on executing the rest of the program. \n",
                "\n",
                "<p style='text-align:center;'>\n",
                "  <img src='images/if_.png' alt='if'/>\n",
                "</p>\n",
                "\n",
                "The example below shows how this works in Python."
            ]
        },
        {
            "cell_type": "code",
            "execution_count": null,
            "metadata": {},
            "outputs": [],
            "source": []
        },
        {
            "cell_type": "markdown",
            "metadata": {},
            "source": [
                "#### Example: Calculating Volume\n",
                "Let’s introduce an variable `estimated_volume` to the 'Calculating Volume' example from the Variables unit. If the estimate is bigger than the volume, we’ll print `estimate is too big`."
            ]
        },
        {
            "cell_type": "code",
            "execution_count": 7,
            "metadata": {},
            "outputs": [
                {
                    "name": "stdout",
                    "output_type": "stream",
                    "text": [
                        "Estimate is too big\n"
                    ]
                }
            ],
            "source": [
                "\n",
                "width = 10\n",
                "height = 20\n",
                "depth = 30\n",
                "\n",
                "volume = width*height*depth\n",
                "estimated_volume = int(input(\"Enter the estimated volume:\"))\n",
                "if estimated_volume > volume:\n",
                "    print('Estimate is too big')"
            ]
        },
        {
            "cell_type": "code",
            "execution_count": null,
            "metadata": {},
            "outputs": [],
            "source": []
        },
        {
            "cell_type": "markdown",
            "metadata": {},
            "source": [
                "Try changing the value of `estimated_volume` to activate and deactivate the indented block of code."
            ]
        },
        {
            "attachments": {},
            "cell_type": "markdown",
            "metadata": {},
            "source": [
                "#### Concept Check: Sign of number (if)\n",
                "\n",
                "We have a variable `num` set to an initial value of `3`.\n",
                "\n",
                "Write code that prints out the statement \"number is positive\" when `num` has a positive value. As num is initially `3`, the statement should print. \n",
                "\n",
                "Check your solution works by changing the value of `num`. Should the statement print when num is `0`?"
            ]
        },
        {
            "cell_type": "code",
            "execution_count": 10,
            "metadata": {},
            "outputs": [],
            "source": [
                "num = -1\n",
                "if num > 0:\n",
                "    print(\"number is positive\")\n",
                "# write your code here\n"
            ]
        },
        {
            "attachments": {},
            "cell_type": "markdown",
            "metadata": {},
            "source": [
                "### 4.2.1 Adding an `else` Statement\n",
                "\n",
                "Optionally,  an `else` statement can be included, to provide an alternative indented code block to run.\n",
                " \n",
                "The syntax for `if-else` is given as:\n",
                "```\n",
                "if <condition>:\n",
                "    # block to execute once if <condition> is True\n",
                "    <statement>\n",
                "    <statement>\n",
                "else:\n",
                "    # block to execute once if <condition> is False\n",
                "    <statement>\n",
                "    <statement>\n",
                "```\n",
                "\n",
                "The flowchart below illustrates this concept. If the condition is evaluated as `True`, the statement(s) inside the indented block corresponding to `if` will be executed. Otherwise, the statement(s) inside the indented block corresponding to `else` will be executed. Once either of these two blocks are executed, Python continues on executing the rest of the program. \n",
                "\n",
                "<p style='text-align:center;'>\n",
                "  <img src='images/if-else_.png' alt='if'/>\n",
                "</p>"
            ]
        },
        {
            "cell_type": "code",
            "execution_count": 13,
            "metadata": {},
            "outputs": [
                {
                    "name": "stdout",
                    "output_type": "stream",
                    "text": [
                        "before the if-else block\n",
                        "a is greater than b\n"
                    ]
                }
            ],
            "source": [
                "# basic if-else example\n",
                "# Try running the code a few times after changing the values of a and b below\n",
                "a = 201\n",
                "b = 200\n",
                "print('before the if-else block')\n",
                "if a < b:\n",
                "    print('inside if block')\n",
                "    print('a is less than b')\n",
                "else:\n",
                "    print('a is greater than b')\n"
            ]
        },
        {
            "cell_type": "markdown",
            "metadata": {},
            "source": [
                "Let us add an `else` statement to the Calculating Volume example above that prints out `estimate is NOT too big`."
            ]
        },
        {
            "cell_type": "code",
            "execution_count": 15,
            "metadata": {},
            "outputs": [
                {
                    "name": "stdout",
                    "output_type": "stream",
                    "text": [
                        "estimated volume is 3000\n",
                        "estimate is too small\n"
                    ]
                }
            ],
            "source": [
                "# if-else example: Calculating Volume\n",
                "width = 5\n",
                "height = 100\n",
                "depth = 25\n",
                "volume = width * height * depth\n",
                "\n",
                "estimated_volume = 3000 # my guess\n",
                "print(f\"estimated volume is {estimated_volume}\")\n",
                "\n",
                "if estimated_volume > volume:\n",
                "    print('estimate is too big')\n",
                "else:\n",
                "    print('estimate is too small')\n"
            ]
        },
        {
            "cell_type": "markdown",
            "metadata": {},
            "source": [
                "If we have no code to include in the indented block, we can just write `pass`. \n",
                "\n",
                "The `pass` statement is a placeholder that we can use when we need at least one line in an indented block."
            ]
        },
        {
            "cell_type": "markdown",
            "metadata": {},
            "source": [
                "**Warning**: Having an empty indented block (either `if` or `else`) will result in an error."
            ]
        },
        {
            "cell_type": "code",
            "execution_count": null,
            "metadata": {},
            "outputs": [],
            "source": []
        },
        {
            "cell_type": "code",
            "execution_count": null,
            "metadata": {},
            "outputs": [],
            "source": []
        },
        {
            "cell_type": "code",
            "execution_count": null,
            "metadata": {},
            "outputs": [],
            "source": []
        },
        {
            "cell_type": "code",
            "execution_count": null,
            "metadata": {},
            "outputs": [],
            "source": []
        },
        {
            "cell_type": "code",
            "execution_count": null,
            "metadata": {},
            "outputs": [],
            "source": []
        },
        {
            "cell_type": "markdown",
            "metadata": {},
            "source": [
                "#### Concept Check: Sign of number (if-else)\n",
                "Add an `else` statement to the concept check above to print \"number is not positive\" if it is not greater than 0."
            ]
        },
        {
            "cell_type": "code",
            "execution_count": 17,
            "metadata": {},
            "outputs": [
                {
                    "name": "stdout",
                    "output_type": "stream",
                    "text": [
                        "number is not positive\n"
                    ]
                }
            ],
            "source": [
                "num = 0\n",
                "if num > 0:\n",
                "    print('number is positive')\n",
                "else:\n",
                "    print('number is not positive')"
            ]
        },
        {
            "attachments": {},
            "cell_type": "markdown",
            "metadata": {},
            "source": [
                "### 4.2.2 Adding `elif` Statements\n",
                "\n",
                "Furthermore, we can include additional comparisons (and code blocks) with the `elif` statement in between `if` and `else`.\n",
                "\n",
                "The syntax for `if-elif-else` is given as:\n",
                "```\n",
                "if <condition_1>:\n",
                "    # block to execute once if <condition_1> is True\n",
                "    <statement>\n",
                "    <statement>\n",
                "elif <condition_2>:\n",
                "    # block to execute once if <condition_2> is True\n",
                "    <statement>\n",
                "    <statement>\n",
                "...\n",
                "elif <condition_k>:\n",
                "    # block to execute once if <condition_k> is True\n",
                "    <statement>\n",
                "    <statement>\n",
                "else:\n",
                "    # block to execute once if none of the above conditions are True\n",
                "    <statement>\n",
                "    <statement> \n",
                "```\n",
                "\n",
                "<p style='text-align:center;'>\n",
                "  <img src='images/if-elif-else_.png' alt='if'/>\n",
                "</p>"
            ]
        },
        {
            "cell_type": "code",
            "execution_count": null,
            "metadata": {},
            "outputs": [],
            "source": []
        },
        {
            "cell_type": "markdown",
            "metadata": {},
            "source": [
                "Let us continue our Calculating Volume example by adding an `elif` statement that compares if the estimated volume is equal to the actual volume."
            ]
        },
        {
            "cell_type": "code",
            "execution_count": 19,
            "metadata": {},
            "outputs": [
                {
                    "name": "stdout",
                    "output_type": "stream",
                    "text": [
                        "estimated volume is 3000\n",
                        "estimate is perfec\n"
                    ]
                }
            ],
            "source": [
                "# if-else example: Calculating Volume\n",
                "width = 3\n",
                "height = 100\n",
                "depth = 10\n",
                "volume = width * height * depth\n",
                "\n",
                "estimated_volume = 3000 # my guess\n",
                "print(f\"estimated volume is {estimated_volume}\")\n",
                "\n",
                "if estimated_volume > volume:\n",
                "    print('estimate is too big')\n",
                "elif estimated_volume == volume:\n",
                "    print('estimate is perfec')\n",
                "else:\n",
                "    print('estimate is too small')\n"
            ]
        },
        {
            "cell_type": "markdown",
            "metadata": {},
            "source": [
                "#### Concept Check: Sign of number (if-elif-else)\n",
                "Modify the previous concept check so that an `elif` statement checks if the number is less than 0 and prints \"number is negative\" and the `else` statement prints \"number is neither positive nor negative\"."
            ]
        },
        {
            "cell_type": "code",
            "execution_count": 20,
            "metadata": {},
            "outputs": [
                {
                    "name": "stdout",
                    "output_type": "stream",
                    "text": [
                        "it's zero buddy\n"
                    ]
                }
            ],
            "source": [
                "num = 0\n",
                "if num > 0:\n",
                "    print('number is positive')\n",
                "elif num == 0:\n",
                "    print(\"it's zero buddy\")\n",
                "else:\n",
                "    print('number is negative')"
            ]
        },
        {
            "cell_type": "markdown",
            "metadata": {},
            "source": [
                "### 4.2.3 Notes on if-elif-else\n",
                "- `elif` and `else` blocks are optional but there cannot be an `elif` or `else` without `if`. \n",
                "- An indented block is only executed when the corresponding boolean expression is True. \n",
                "- We can have an arbitrary number of `elif` statements.\n",
                "- Boolean expressions are evaluated from top to bottom. Only one indented block of statements is executed."
            ]
        },
        {
            "attachments": {},
            "cell_type": "markdown",
            "metadata": {},
            "source": [
                "## 4.3 Conditional Execution on the Type of an Object\n",
                "\n",
                "Sometimes its useful to check the type of the object before deciding what to do with it. This is helpful when you expect a variable to take multiple types in various scenarios. We can do this by comparing the type of an object to the python built-in types. The ones we have covered so far are:\n",
                "\n",
                "- `int`\n",
                "- `float`\n",
                "- `str`\n",
                "- `list`\n",
                "- `dict`"
            ]
        },
        {
            "cell_type": "code",
            "execution_count": null,
            "metadata": {},
            "outputs": [],
            "source": []
        },
        {
            "cell_type": "code",
            "execution_count": null,
            "metadata": {},
            "outputs": [],
            "source": []
        },
        {
            "attachments": {},
            "cell_type": "markdown",
            "metadata": {},
            "source": [
                "***Warning***: The above mistake is very common for beginners and can lead to your code having strange/unpredictable behaviour.\n",
                "\n",
                "This approach doesn't work because it is trying to compare the *value* of `a` to `int`, and of course the `int` type is not the same as the number `10`."
            ]
        },
        {
            "cell_type": "code",
            "execution_count": null,
            "metadata": {},
            "outputs": [],
            "source": []
        },
        {
            "attachments": {},
            "cell_type": "markdown",
            "metadata": {},
            "source": [
                "### 4.3.1 Example: Dog age calculations\n",
                "\n",
                "Let's use this new skill to design a simple program that achieves the following:\n",
                "\n",
                "You ask a user for their dog's age, and they can provide an integer (`int`), but if they do not have dog, their dog's age is just the string (`str`) `'Not Applicable'`.\n",
                "\n",
                "If they provide you with their dog's age, you provide the user with their dog's age in dog years (x7), but if they don't provide you"
            ]
        },
        {
            "cell_type": "code",
            "execution_count": null,
            "metadata": {},
            "outputs": [],
            "source": []
        },
        {
            "attachments": {},
            "cell_type": "markdown",
            "metadata": {},
            "source": [
                "### 4.3.2 Concept Check: Checking the type of a variable\n",
                "\n",
                "We have a variable `x` which could take many types, write a program that prints out the following strings based on the type of `x`.\n",
                "\n",
                "- '`this is an integer-type variable`', or \n",
                "- '`this is a string-type variable`', or \n",
                "- '`this is neither an integer nor a string`'. \n",
                "\n",
                "Try assigning `x` to an integer, a string and a decimal number, so that the different sentences are printed out. "
            ]
        },
        {
            "cell_type": "code",
            "execution_count": 27,
            "metadata": {},
            "outputs": [
                {
                    "name": "stdout",
                    "output_type": "stream",
                    "text": [
                        "This is neither an integer nor a string\n"
                    ]
                }
            ],
            "source": [
                "x = 10.2\n",
                "if type(x) == int:\n",
                "    print(\"This is an integer-type variable\")\n",
                "elif type(x) == str:\n",
                "    print(\"This is a string-type variable\")\n",
                "else:\n",
                "    print(\"This is neither an integer nor a string\")"
            ]
        }
    ],
    "metadata": {
        "kernelspec": {
            "display_name": "Python 3",
            "language": "python",
            "name": "python3"
        },
        "language_info": {
            "codemirror_mode": {
                "name": "ipython",
                "version": 3
            },
            "file_extension": ".py",
            "mimetype": "text/x-python",
            "name": "python",
            "nbconvert_exporter": "python",
            "pygments_lexer": "ipython3",
            "version": "3.11.8"
        },
        "varInspector": {
            "cols": {
                "lenName": 16,
                "lenType": 16,
                "lenVar": 40
            },
            "kernels_config": {
                "python": {
                    "delete_cmd_postfix": "",
                    "delete_cmd_prefix": "del ",
                    "library": "var_list.py",
                    "varRefreshCmd": "print(var_dic_list())"
                },
                "r": {
                    "delete_cmd_postfix": ") ",
                    "delete_cmd_prefix": "rm(",
                    "library": "var_list.r",
                    "varRefreshCmd": "cat(var_dic_list()) "
                }
            },
            "types_to_exclude": [
                "module",
                "function",
                "builtin_function_or_method",
                "instance",
                "_Feature"
            ],
            "window_display": false
        },
        "vscode": {
            "interpreter": {
                "hash": "4f77c56a1733e9d421c3a053160f731a1cdaa61fcda062af7a855a05be992435"
            }
        }
    },
    "nbformat": 4,
    "nbformat_minor": 4
}
