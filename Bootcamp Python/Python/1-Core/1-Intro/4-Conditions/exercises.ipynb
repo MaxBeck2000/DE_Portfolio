{
    "cells": [
        {
            "attachments": {},
            "cell_type": "markdown",
            "metadata": {},
            "source": [
                "# 4. Conditions"
            ]
        },
        {
            "attachments": {},
            "cell_type": "markdown",
            "metadata": {},
            "source": [
                "## 4.1 Exercise: Sign of number (f-strings)\n",
                "\n",
                "Modify the code below, using your knowledge of f-strings so that the print statements now dynamically print out the number that is checked.\n",
                "\n",
                "For example, if the number is 10, then the output should be \"10 is positive\" instead of \"number is positive\"."
            ]
        },
        {
            "cell_type": "code",
            "execution_count": 1,
            "metadata": {},
            "outputs": [
                {
                    "name": "stdout",
                    "output_type": "stream",
                    "text": [
                        "-20 is negative\n"
                    ]
                }
            ],
            "source": [
                "num = -20\n",
                "if num > 0:\n",
                "    print(f'{num} is positive')\n",
                "elif num < 0:\n",
                "    print(f'{num} is negative')\n",
                "else:\n",
                "    print(f'{num} is neither negative or positive')\n"
            ]
        },
        {
            "attachments": {},
            "cell_type": "markdown",
            "metadata": {},
            "source": [
                "## 4.2 Package Price\n",
                "\n",
                "### 4.2.1 Exercise: If-elif-else\n",
                "\n",
                "Create a simple program that prices the posting of a package. Here are the rules\n",
                "\n",
                "- Can fit inside a letter box and weight is less than or equal to 1 kg: £0.50\n",
                "- Cannot fit inside a letter box and weight is less than or equal to 1 kg: £2.50\n",
                "- All packages > 1 kg: £5\n",
                "\n",
                "Print out the resulting price.\n",
                "\n",
                "### 4.2.2 Extension: Pretty print *\n",
                "\n",
                "Print out the answer in a string with the following format:\n",
                "\n",
                "`'For a package of 1 kg, that can fit in a letter box, the postage price will be £1.50'`\n",
                "\n",
                "Note the 2 decimal places in the currency. (Hint: Google this if stuck.)"
            ]
        },
        {
            "cell_type": "code",
            "execution_count": 1,
            "metadata": {},
            "outputs": [
                {
                    "name": "stdout",
                    "output_type": "stream",
                    "text": [
                        "Postage is £2.50\n"
                    ]
                }
            ],
            "source": [
                "weight = 1.1\n",
                "can_fit_in_letterbox = \"can\" # / \"cannot\"\n",
                "if weight <= 1 and can_fit_in_letterbox == \"can\":\n",
                "    print('Postage is £0.50')\n",
                "elif weight == 1 and can_fit_in_letterbox == \"cannot\":\n",
                "    print('Postage is £2.50')\n",
                "else:\n",
                "    print('Postage is £2.50')"
            ]
        },
        {
            "attachments": {},
            "cell_type": "markdown",
            "metadata": {},
            "source": [
                "## 4.3 Exercise: Fizz Buzz *\n",
                "\n",
                "Ask the user to enter a number and then print this number out, unless...:\n",
                "- if it is divisible by `3`, print `fizz`\n",
                "- if it is divisible by `5`, print `buzz`\n",
                "- if it is divisible by both `3` and `5`, print `fizzbuzz`."
            ]
        },
        {
            "cell_type": "code",
            "execution_count": 1,
            "metadata": {},
            "outputs": [
                {
                    "name": "stdout",
                    "output_type": "stream",
                    "text": [
                        "fizzbuzz\n"
                    ]
                }
            ],
            "source": [
                "num = int(input(\"Input a number: \"))\n",
                "if num % 3 == 0 and num % 5 == 0:\n",
                "    print('fizzbuzz')\n",
                "elif num % 5 == 0:\n",
                "    print('buzz')\n",
                "elif num % 3 == 0:\n",
                "    print('FIZZ')\n",
                "else:\n",
                "    print(num)"
            ]
        },
        {
            "attachments": {},
            "cell_type": "markdown",
            "metadata": {},
            "source": [
                "## 4.4 Calculating Distance Travelled \n",
                "\n",
                "### 4.4.1 Exercise: Check input type\n",
                "\n",
                "Write a simple program that calculates the `distance` travelled by a car given `speed` in miles per hour and `time` in hours: `distance = speed * time`.\n",
                "\n",
                "You've been given variables for `speed` and `time` and check the validity of the inputs. Both inputs should be floats.\n",
                "\n",
                "If these conditions are not met, you should print a helpful message. Otherwise, print the output of the calculation.\n",
                "\n",
                "### 4.4.2 Extension: More conditions and pretty pritning *\n",
                "\n",
                "Additionally, check whether both `speed` and `time` are positive numbers. And print the output of the calculation in following format:\n",
                "\n",
                "\"The distance covered by a car travelling at 20.0 mph in 2.0 hours is 40.0 miles.\"\n",
                "\n"
            ]
        },
        {
            "cell_type": "code",
            "execution_count": 17,
            "metadata": {},
            "outputs": [
                {
                    "name": "stdout",
                    "output_type": "stream",
                    "text": [
                        "Speed's not a float buddy\n",
                        "Distance is a float buddy\n"
                    ]
                },
                {
                    "ename": "TypeError",
                    "evalue": "can't multiply sequence by non-int of type 'str'",
                    "output_type": "error",
                    "traceback": [
                        "\u001b[1;31m---------------------------------------------------------------------------\u001b[0m",
                        "\u001b[1;31mTypeError\u001b[0m                                 Traceback (most recent call last)",
                        "Cell \u001b[1;32mIn[17], line 20\u001b[0m\n\u001b[0;32m     17\u001b[0m \u001b[38;5;28;01melse\u001b[39;00m:\n\u001b[0;32m     18\u001b[0m     \u001b[38;5;28mprint\u001b[39m(\u001b[38;5;124m\"\u001b[39m\u001b[38;5;124mDistance is not a float buddy\u001b[39m\u001b[38;5;124m\"\u001b[39m)    \n\u001b[1;32m---> 20\u001b[0m distance \u001b[38;5;241m=\u001b[39m \u001b[43mspeed\u001b[49m\u001b[43m \u001b[49m\u001b[38;5;241;43m*\u001b[39;49m\u001b[43m \u001b[49m\u001b[43mtime\u001b[49m\n\u001b[0;32m     21\u001b[0m \u001b[38;5;28mprint\u001b[39m(distance)\n",
                        "\u001b[1;31mTypeError\u001b[0m: can't multiply sequence by non-int of type 'str'"
                    ]
                }
            ],
            "source": [
                "# valid inputs\n",
                "\n",
                "# speed = 20.0\n",
                "# time = 2.0\n",
                "\n",
                "# invalid inputs\n",
                "speed = 'twenty miles per hour'\n",
                "time = 'minus 3 hours'\n",
                "\n",
                "\n",
                "if type(speed) == float:\n",
                "    print(\"Speed's a float buddy\")\n",
                "else:\n",
                "    print(\"Speed's not a float buddy\")\n",
                "if type(distance) == float:\n",
                "    print(\"Distance is a float buddy\")\n",
                "else:\n",
                "    print(\"Distance is not a float buddy\")    \n",
                "\n",
                "distance = speed * time\n",
                "print(distance)"
            ]
        },
        {
            "cell_type": "code",
            "execution_count": null,
            "metadata": {},
            "outputs": [],
            "source": [
                "# valid inputs\n",
                "speed = 20.0\n",
                "time = 2.0\n",
                "\n",
                "# invalid inputs\n",
                "# speed = 'twenty miles per hour'\n",
                "# time = 'minus 3 hours'\n"
            ]
        }
    ],
    "metadata": {
        "kernelspec": {
            "display_name": "base",
            "language": "python",
            "name": "python3"
        },
        "language_info": {
            "codemirror_mode": {
                "name": "ipython",
                "version": 3
            },
            "file_extension": ".py",
            "mimetype": "text/x-python",
            "name": "python",
            "nbconvert_exporter": "python",
            "pygments_lexer": "ipython3",
            "version": "3.11.8"
        },
        "orig_nbformat": 4,
        "vscode": {
            "interpreter": {
                "hash": "54b57a9d7255aa9bd89013014712be1af3e9c0518087b34529522b12b0bc87de"
            }
        }
    },
    "nbformat": 4,
    "nbformat_minor": 2
}
