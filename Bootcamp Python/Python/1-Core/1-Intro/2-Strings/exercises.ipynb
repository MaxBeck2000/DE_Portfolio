{
    "cells": [
        {
            "attachments": {},
            "cell_type": "markdown",
            "metadata": {},
            "source": [
                "# 2. Strings"
            ]
        },
        {
            "attachments": {},
            "cell_type": "markdown",
            "metadata": {},
            "source": [
                "## 2.1 Exercise: Multiple Names with f-strings *\n",
                "\n",
                "Fill in the name variables below with a name (can be your own), and use f-strings to create the following name examples `name1` -> `name4`.\n",
                "\n",
                "E.g. With the following name:\n",
                "```\n",
                "prefix = \"Ms\"\n",
                "first_name = \"Grace\"\n",
                "middle_initial = \"B\"\n",
                "last_name = \"Hopper\"\n",
                "```\n",
                "\n",
                "- `name1` should be \"Ms. Grace B. Hopper\"\n",
                "- `name2` should be \"Ms. Hopper\"\n",
                "- `name3` should be \"Grace Hopper\"\n",
                "- `name4` should be \"Hopper, Grace B.\"\n",
                "\n",
                "\n"
            ]
        },
        {
            "cell_type": "code",
            "execution_count": null,
            "metadata": {},
            "outputs": [],
            "source": [
                "prefix = \"\"\n",
                "first_name = \"\"\n",
                "middle_initial = \"\"\n",
                "last_name = \"\"\n"
            ]
        },
        {
            "attachments": {},
            "cell_type": "markdown",
            "metadata": {},
            "source": [
                "## 2.2 Exercise: String Formatting with User Inputs *\n",
                "\n",
                "In the code cell below, write Python statements to input three things from the user: \n",
                "- Their first name\n",
                "- Their last name\n",
                "- Their age (as a whole number, in years)\n",
                "\n",
                "Print out a 'birthday greeting' that includes both names and their age at their next birthday. \n",
                "\n",
                "For example, If the user entered in 'Albert', 'Einstein', '24', then the message could say:\n",
                "\n",
                "`Greetings, Albert Einstein! On your next birthday, you will be 25.`"
            ]
        },
        {
            "cell_type": "code",
            "execution_count": null,
            "metadata": {},
            "outputs": [],
            "source": []
        }
    ],
    "metadata": {
        "kernelspec": {
            "display_name": "base",
            "language": "python",
            "name": "python3"
        },
        "language_info": {
            "name": "python",
            "version": "3.9.7 (default, Sep 16 2021, 16:59:28) [MSC v.1916 64 bit (AMD64)]"
        },
        "orig_nbformat": 4,
        "vscode": {
            "interpreter": {
                "hash": "54b57a9d7255aa9bd89013014712be1af3e9c0518087b34529522b12b0bc87de"
            }
        }
    },
    "nbformat": 4,
    "nbformat_minor": 2
}