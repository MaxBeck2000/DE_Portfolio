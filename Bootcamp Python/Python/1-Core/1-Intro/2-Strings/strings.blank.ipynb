{
    "cells": [
        {
            "cell_type": "markdown",
            "metadata": {},
            "source": [
                "---\n",
                "# 2. Strings and Built-in Functions\n",
                "---\n",
                "\n",
                "The string data type holds sequence of characters (letters, numbers, punctuation etc.)"
            ]
        },
        {
            "cell_type": "markdown",
            "metadata": {},
            "source": [
                "## 2.1 Literal Strings\n",
                "\n",
                "Just as we can assign variables to actual numbers, we can assign variables to 'string literals': specific sequences of characters, enclosed in quotes.  "
            ]
        },
        {
            "cell_type": "code",
            "execution_count": 1,
            "metadata": {},
            "outputs": [
                {
                    "name": "stdout",
                    "output_type": "stream",
                    "text": [
                        "hello world\n"
                    ]
                }
            ],
            "source": [
                "my_string = 'hello world'\n",
                "print(my_string)"
            ]
        },
        {
            "cell_type": "code",
            "execution_count": 2,
            "metadata": {},
            "outputs": [
                {
                    "name": "stdout",
                    "output_type": "stream",
                    "text": [
                        "10\n"
                    ]
                }
            ],
            "source": [
                "another_string = '10'\n",
                "print(another_string)"
            ]
        },
        {
            "cell_type": "code",
            "execution_count": 4,
            "metadata": {},
            "outputs": [
                {
                    "name": "stdout",
                    "output_type": "stream",
                    "text": [
                        "10\n",
                        "<class 'int'>\n"
                    ]
                }
            ],
            "source": [
                "my_number = 10\n",
                "print(10)\n",
                "print(type(my_number))"
            ]
        },
        {
            "cell_type": "markdown",
            "metadata": {},
            "source": [
                "**Hint**: If you are not sure of the type of a variable, you can use the built-in function `type()`. We will look at `type()` function again towards the end of this unit.  "
            ]
        },
        {
            "cell_type": "code",
            "execution_count": null,
            "metadata": {},
            "outputs": [],
            "source": []
        },
        {
            "cell_type": "code",
            "execution_count": null,
            "metadata": {},
            "outputs": [],
            "source": []
        },
        {
            "cell_type": "code",
            "execution_count": null,
            "metadata": {},
            "outputs": [],
            "source": []
        },
        {
            "cell_type": "markdown",
            "metadata": {},
            "source": [
                "### 2.1.1 Creating a string literal\n",
                "\n",
                "A string is enclosed in quotation marks. Strings can be created in a few different ways: \n",
                "- Single quotes\n",
                "- Double quotes\n",
                "- Triple single quotes\n",
                "- Triple double quotes"
            ]
        },
        {
            "cell_type": "code",
            "execution_count": 5,
            "metadata": {},
            "outputs": [
                {
                    "name": "stdout",
                    "output_type": "stream",
                    "text": [
                        "This is a string\n"
                    ]
                }
            ],
            "source": [
                "my_str1 = 'This is a string'\n",
                "print(my_str1)"
            ]
        },
        {
            "cell_type": "code",
            "execution_count": 8,
            "metadata": {},
            "outputs": [
                {
                    "name": "stdout",
                    "output_type": "stream",
                    "text": [
                        "This is another string\n",
                        "<class 'str'>\n"
                    ]
                }
            ],
            "source": [
                "my_str2 = \"This is another string\"\n",
                "print(my_str2)\n",
                "print(type(my_str2))"
            ]
        },
        {
            "cell_type": "code",
            "execution_count": 9,
            "metadata": {},
            "outputs": [
                {
                    "name": "stdout",
                    "output_type": "stream",
                    "text": [
                        "This is another string\n",
                        "<class 'str'>\n"
                    ]
                }
            ],
            "source": [
                "my_str3 = '''This is another string'''\n",
                "print(my_str3)\n",
                "print(type(my_str3))"
            ]
        },
        {
            "cell_type": "code",
            "execution_count": 10,
            "metadata": {},
            "outputs": [
                {
                    "name": "stdout",
                    "output_type": "stream",
                    "text": [
                        "This is another string\n",
                        "<class 'str'>\n"
                    ]
                }
            ],
            "source": [
                "my_str4 = \"\"\"This is another string\"\"\"\n",
                "print(my_str4)\n",
                "print(type(my_str4))"
            ]
        },
        {
            "cell_type": "markdown",
            "metadata": {},
            "source": [
                "Triple quotes can be used to create multi-line strings which is commonly used to write documentation."
            ]
        },
        {
            "cell_type": "code",
            "execution_count": 12,
            "metadata": {},
            "outputs": [
                {
                    "name": "stdout",
                    "output_type": "stream",
                    "text": [
                        "line 1\n",
                        "line 2\n"
                    ]
                }
            ],
            "source": [
                "my_str5 = '''line 1\n",
                "line 2'''\n",
                "print(my_str5)"
            ]
        },
        {
            "cell_type": "markdown",
            "metadata": {},
            "source": [
                "We can combine the different ways of creating a string to include different quotation marks in the same string."
            ]
        },
        {
            "cell_type": "code",
            "execution_count": 13,
            "metadata": {},
            "outputs": [
                {
                    "name": "stdout",
                    "output_type": "stream",
                    "text": [
                        "Ram's dog is barking\n"
                    ]
                }
            ],
            "source": [
                "my_str6 = \"Ram's dog is barking\"\n",
                "print(my_str6)"
            ]
        },
        {
            "cell_type": "code",
            "execution_count": 14,
            "metadata": {},
            "outputs": [
                {
                    "name": "stdout",
                    "output_type": "stream",
                    "text": [
                        "Ram's dog said \"woof\"\n"
                    ]
                }
            ],
            "source": [
                "my_str7 = '''Ram's dog said \"woof\"'''\n",
                "print(my_str7)"
            ]
        },
        {
            "cell_type": "code",
            "execution_count": null,
            "metadata": {},
            "outputs": [],
            "source": []
        },
        {
            "cell_type": "markdown",
            "metadata": {},
            "source": [
                "### 2.1.2 Formatting strings\n",
                "We often want to dynamically create strings based on data stored in variables. For example, we may want to create a customised welcome message for each user accessing our website. A user named `John` would see the message `Hello, John. Welcome to Kubrick!` whereas a user named `Jane` would see the message `Hello, Jane. Welcome to Kubrick!`. This can be achieved using **formatted strings** or **f-strings**. "
            ]
        },
        {
            "cell_type": "code",
            "execution_count": 17,
            "metadata": {},
            "outputs": [
                {
                    "name": "stdout",
                    "output_type": "stream",
                    "text": [
                        "Hello Max. Welcome to Kubrick\n"
                    ]
                }
            ],
            "source": [
                "name = \"Max\"\n",
                "message = f\"Hello {name}. Welcome to Kubrick\"\n",
                "\n",
                "print(message)"
            ]
        },
        {
            "cell_type": "markdown",
            "metadata": {},
            "source": [
                "F-strings are created by prefixing the string with the letter `f`. Additionally, the variable containing the data that we want to dynamically include inside the string is enclosed within a pair of curly brackets `{}` in the string. By changing the value stored in this variable, we can print different messages."
            ]
        },
        {
            "cell_type": "code",
            "execution_count": 19,
            "metadata": {},
            "outputs": [
                {
                    "name": "stdout",
                    "output_type": "stream",
                    "text": [
                        "The volume when the width is 10, the height is 20 and the depth is 10 is 2000\n"
                    ]
                }
            ],
            "source": [
                "width = 10\n",
                "height = 20\n",
                "depth = 10\n",
                "volume = width*height*depth\n",
                "message = f\"The volume when the width is {width}, the height is {height} and the depth is {depth} is {volume}\"\n",
                "print(message)"
            ]
        },
        {
            "cell_type": "code",
            "execution_count": null,
            "metadata": {},
            "outputs": [],
            "source": []
        },
        {
            "attachments": {},
            "cell_type": "markdown",
            "metadata": {},
            "source": [
                "#### Concept Check: Name and age\n",
                "\n",
                "Replace the placeholder variables with a name and age (can be your own), and then print out the following message using an f-string:\n",
                "\n",
                "If name and age was:\n",
                "\n",
                "```python\n",
                "name = \"Ada Lovelace\"\n",
                "age = 207\n",
                "```\n",
                "\n",
                "The message would say:\n",
                "\n",
                "\"Ada Lovelace is 207 years old.\""
            ]
        },
        {
            "cell_type": "code",
            "execution_count": 52,
            "metadata": {},
            "outputs": [
                {
                    "name": "stdout",
                    "output_type": "stream",
                    "text": [
                        "Max is 23.9 years old\n"
                    ]
                }
            ],
            "source": [
                "import datetime\n",
                "name = \"Max\"\n",
                "birthday = datetime.date(2000,3,14)\n",
                "birthyear = 2000\n",
                "current_date = datetime.date.today();\n",
                "days = current_date-birthday;\n",
                "age = days.days/365.25;\n",
                "\n",
                "message = f\"{name} is {age:.1f} years old\"\n",
                "\n",
                "print(message)"
            ]
        },
        {
            "cell_type": "markdown",
            "metadata": {},
            "source": [
                "### 2.1.3 Escape Characters and Raw Strings\n",
                "\n",
                "Certain characters in sequence are not printed literally as they are typed in the string. These are called **escape sequences**. For example, one of the most commonly encountered escape sequences is `\\n`. If a string includes this sequence `\\n` anywhere inside, then the `print` function interprets this as a line break (i.e. it creates a new line at this point)."
            ]
        },
        {
            "cell_type": "code",
            "execution_count": 46,
            "metadata": {},
            "outputs": [
                {
                    "name": "stdout",
                    "output_type": "stream",
                    "text": [
                        "Hello. \n",
                        " I hope you have a great day\n"
                    ]
                }
            ],
            "source": [
                "escape_string = \"Hello. \\n I hope you have a great day\"\n",
                "print(escape_string)"
            ]
        },
        {
            "cell_type": "markdown",
            "metadata": {},
            "source": [
                "Escape sequences combine the backslash character `\\` with other characters, to include non-printable operations in the print statement such as creating a new line in the example above. \n",
                "\n",
                "Another common escape sequence is `\\t` which inserts a tab space -- try adding `\\t` anywhere in the example above and view the output?\n",
                "\n",
                "If we want to literally print the characters in the escape sequence, we can prefix the string with the letter `r`. These are called **raw strings** or **r-strings** and they treat the backslash character `\\` as a literal character, rather than as the first element of an escape sequence.  "
            ]
        },
        {
            "cell_type": "code",
            "execution_count": 47,
            "metadata": {},
            "outputs": [
                {
                    "name": "stdout",
                    "output_type": "stream",
                    "text": [
                        "Python is great \t - What do you think\n"
                    ]
                }
            ],
            "source": [
                "escape_string2 = 'Python is great \\t - What do you think'\n",
                "print(escape_string2)"
            ]
        },
        {
            "cell_type": "code",
            "execution_count": 56,
            "metadata": {
                "scrolled": true
            },
            "outputs": [
                {
                    "name": "stdout",
                    "output_type": "stream",
                    "text": [
                        "\\Users\\MaxBeck\\Python\\new_folder\n"
                    ]
                }
            ],
            "source": [
                "my_folder_path = r'\\Users\\MaxBeck\\Python\\new_folder'\n",
                "print(my_folder_path)"
            ]
        },
        {
            "cell_type": "code",
            "execution_count": null,
            "metadata": {},
            "outputs": [],
            "source": []
        },
        {
            "cell_type": "markdown",
            "metadata": {},
            "source": [
                "**Tip**: f-strings and r-strings can be combined together."
            ]
        },
        {
            "cell_type": "code",
            "execution_count": 62,
            "metadata": {},
            "outputs": [
                {
                    "name": "stdout",
                    "output_type": "stream",
                    "text": [
                        "\\Users\\MaxBeck\\Python\\new_folder\n"
                    ]
                }
            ],
            "source": [
                "name = 'MaxBeck'\n",
                "my_folder_path = fr'\\Users\\{name}\\Python\\new_folder'\n",
                "print(my_folder_path)"
            ]
        },
        {
            "attachments": {},
            "cell_type": "markdown",
            "metadata": {},
            "source": [
                "## 2.2 The `input()` built-in function\n",
                "\n",
                "A built-in function is special word that enables extra *function*ality in Python. They can be *called* by placing round brackets/parenthesis directly after the word.\n",
                "\n",
                "The `input()` function allows a user to interact with the Python program using the keyboard. This function *returns* the string that the user enters on the keyboard. There is an optional input *argument* that contains a message for the user. \n",
                "\n",
                "It is written as `input(message)` where `message` is the prompt that we want to provide to the user in order to get their input."
            ]
        },
        {
            "cell_type": "code",
            "execution_count": 64,
            "metadata": {},
            "outputs": [
                {
                    "name": "stdout",
                    "output_type": "stream",
                    "text": [
                        "Max\n"
                    ]
                }
            ],
            "source": [
                "user_input = input('Please enter your name:')\n",
                "print(user_input)"
            ]
        },
        {
            "cell_type": "markdown",
            "metadata": {},
            "source": [
                "#### Concept Check: First and Last Names\n",
                "\n",
                "In the cell below, ask the user to enter in the their first name, and then ask them to enter their last name. Make a string variable to hold their full name (i.e. first name followed by a space followed by last name), and print this out."
            ]
        },
        {
            "cell_type": "code",
            "execution_count": 71,
            "metadata": {},
            "outputs": [
                {
                    "name": "stdout",
                    "output_type": "stream",
                    "text": [
                        "The user's name is Max Beck\n"
                    ]
                }
            ],
            "source": [
                "first_name = input('Please enter your first name:')\n",
                "second_name = input('Please enter your second name:')\n",
                "full_name = first_name + \" \" + second_name\n",
                "full_name_message = f\"The user's name is {full_name}\"\n",
                "print(full_name_message)"
            ]
        },
        {
            "cell_type": "markdown",
            "metadata": {},
            "source": [
                "#### Concept Check: Base and Bonus (First Attempt)\n",
                "Ask the user to enter in the base salary, and the bonus. Calculate and print out the total as the sum of base salary and the bonus.\n",
                "\n",
                "*Don't worry if the answer is not what you expected it to be!*"
            ]
        },
        {
            "cell_type": "code",
            "execution_count": 73,
            "metadata": {},
            "outputs": [
                {
                    "name": "stdout",
                    "output_type": "stream",
                    "text": [
                        "12000\n"
                    ]
                }
            ],
            "source": [
                "base_salary = input('please enter your base salary')\n",
                "bonus = input('Please enter your bonus')\n",
                "full = int(base_salary) + int(bonus)\n",
                "print(full)"
            ]
        },
        {
            "cell_type": "markdown",
            "metadata": {},
            "source": [
                "**Warning**: The input from the user is always returned as a string (even if numbers are entered by the user)."
            ]
        },
        {
            "cell_type": "code",
            "execution_count": null,
            "metadata": {},
            "outputs": [],
            "source": []
        },
        {
            "cell_type": "markdown",
            "metadata": {},
            "source": [
                "The `+` operator behaves differently when used with numbers or strings. With numbers, it adds the numbers. With strings, it concatenates (joins) the strings.\n",
                "\n",
                "This is called operator overloading"
            ]
        },
        {
            "cell_type": "code",
            "execution_count": null,
            "metadata": {},
            "outputs": [],
            "source": []
        },
        {
            "cell_type": "code",
            "execution_count": null,
            "metadata": {},
            "outputs": [],
            "source": []
        },
        {
            "cell_type": "code",
            "execution_count": null,
            "metadata": {},
            "outputs": [],
            "source": []
        },
        {
            "cell_type": "markdown",
            "metadata": {},
            "source": [
                "### 2.2.1 Converting Between Data Types\n",
                "\n",
                "- The `int` built-in function converts from a string to an integer, e.g. `x = int('123')`\n",
                "- The `float` built-in function converts from a string to a decimal (floating point) number, e.g. `x = float('1.5')`\n",
                "- The `str` function can convert from numbers into strings, e.g. `my_string = str(x)` "
            ]
        },
        {
            "cell_type": "code",
            "execution_count": null,
            "metadata": {},
            "outputs": [],
            "source": []
        },
        {
            "cell_type": "code",
            "execution_count": null,
            "metadata": {},
            "outputs": [],
            "source": []
        },
        {
            "cell_type": "code",
            "execution_count": null,
            "metadata": {},
            "outputs": [],
            "source": []
        },
        {
            "cell_type": "code",
            "execution_count": null,
            "metadata": {},
            "outputs": [],
            "source": []
        },
        {
            "cell_type": "markdown",
            "metadata": {},
            "source": [
                "#### Concept Check: Base and Bonus (Second Attempt)\n",
                "Ask the user to enter in the base salary, and the bonus. Calculate and print out the total as the sum of base salary and the bonus.\n",
                "\n",
                "*Hint: use one of the above functions to convert the user input*"
            ]
        },
        {
            "cell_type": "code",
            "execution_count": 74,
            "metadata": {},
            "outputs": [
                {
                    "name": "stdout",
                    "output_type": "stream",
                    "text": [
                        "12000\n"
                    ]
                }
            ],
            "source": [
                "base_salary = int(input('please enter your base salary'))\n",
                "bonus = int(input('Please enter your bonus'))\n",
                "full = base_salary + bonus\n",
                "print(full)"
            ]
        },
        {
            "cell_type": "markdown",
            "metadata": {},
            "source": [
                "## 2.3 The `type` built-in function\n",
                "\n",
                "The built-in function, `type()`, allows us to find the datatype of a particular Python object.\n",
                "\n",
                "- Strings and integers are different types of data objects\n",
                "- The Python type for integers is `int`, and the Python type for strings is `str`. \n"
            ]
        },
        {
            "cell_type": "code",
            "execution_count": null,
            "metadata": {},
            "outputs": [],
            "source": []
        }
    ],
    "metadata": {
        "kernelspec": {
            "display_name": "Python 3",
            "language": "python",
            "name": "python3"
        },
        "language_info": {
            "codemirror_mode": {
                "name": "ipython",
                "version": 3
            },
            "file_extension": ".py",
            "mimetype": "text/x-python",
            "name": "python",
            "nbconvert_exporter": "python",
            "pygments_lexer": "ipython3",
            "version": "3.11.8"
        },
        "varInspector": {
            "cols": {
                "lenName": 16,
                "lenType": 16,
                "lenVar": 40
            },
            "kernels_config": {
                "python": {
                    "delete_cmd_postfix": "",
                    "delete_cmd_prefix": "del ",
                    "library": "var_list.py",
                    "varRefreshCmd": "print(var_dic_list())"
                },
                "r": {
                    "delete_cmd_postfix": ") ",
                    "delete_cmd_prefix": "rm(",
                    "library": "var_list.r",
                    "varRefreshCmd": "cat(var_dic_list()) "
                }
            },
            "types_to_exclude": [
                "module",
                "function",
                "builtin_function_or_method",
                "instance",
                "_Feature"
            ],
            "window_display": false
        },
        "vscode": {
            "interpreter": {
                "hash": "4f77c56a1733e9d421c3a053160f731a1cdaa61fcda062af7a855a05be992435"
            }
        }
    },
    "nbformat": 4,
    "nbformat_minor": 2
}
