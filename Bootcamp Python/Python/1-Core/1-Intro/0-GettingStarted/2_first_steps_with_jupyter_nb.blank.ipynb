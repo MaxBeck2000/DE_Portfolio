{
    "cells": [
        {
            "attachments": {},
            "cell_type": "markdown",
            "id": "e4ba4395",
            "metadata": {},
            "source": [
                "# 0. Navigating through a Jupyter notebook\n",
                "\n",
                "Jupyter notebooks are made of components called cells. \n",
                "\n",
                "## 0.1 Cell modes\n",
                "\n",
                "In each cell, there are two different modes:\n",
                "- Command mode: In this mode, you can perform notebook level commands from the keyboard (e.g. creating a new cell, executing a cell, deleting a cell etc.)\n",
                "- Edit mode: In this mode, you can type content (code/markdown) into the cell. This will bring up a cursor that allows us to type inside the cell.\n",
                "\n",
                "You can switch between command mode and edit mode as follows:\n",
                "- To switch to Command mode from Edit mode, hit `Esc` button. This will remove the cursor from the cell and the contents will look greyed out. \n",
                "- To switch to Edit mode from Command mode, you hit `Enter` button or alternatively double-click inside the cell.\n",
                "\n",
                "## 0.2 Cell contents\n",
                "\n",
                "There are two different types of cell contents that you would commonly use:\n",
                "- Markdown: Used for typing and rendering notes (for more information, see https://markdownguide.org/cheat-sheet). \n",
                "- Code: Used for typing Python code (look at the cell below for an example)\n",
                "\n",
                "This text is written using Markdown. Clicking anywhere on this text will make this the current cell. Press `Enter` to see the underlying Markdown syntax. Note the `#` for heading levels, `-` for bulleted lists etc. To view the rendered text again, follow the instructions under [`Executing cell contents`](#executing-cell-contents) sub-section below.\n",
                "\n",
                "Clicking inside the current cell will display the type of cell on the toolbar at the top of the notebook (either Markdown or Code). You can switch between the different cell types by using keyboard shortcuts:\n",
                "- `Y` key for Code in command mode\n",
                "- `M` key for Markdown in command mode\n",
                "\n",
                "## 0.3 Useful operations in notebooks\n",
                "\n",
                "### 0.3.1 Executing cell contents\n",
                "\n",
                "To execute the contents of a cell, you have a few options:\n",
                "\n",
                "- Select it and hold `Ctrl` and hit `Enter` to run the cell and keep it selected.\n",
                "- Select it and hold `Shift` and hit `Enter` to run the cell and select the cell below (this will create a new cell if there is no cell below.)\n",
                "- Alternatively, you can click on the `Run` button from the toolbar.\n",
                "\n",
                "Executing a markdown cell renders the markdown content whereas executing a code cell runs the Python code.\n",
                "\n",
                "### 0.3.2 Creating new cells\n",
                "\n",
                "To create a new cell below the current cell, press `B` in command mode.  \n",
                "To create a new cell above the current cell, press `A` in command mode.\n",
                "\n",
                "### 0.3.3 Displaying line numbers in cells\n",
                "\n",
                "To show the line numbers in a cell, press `Shift+L` in command mode.\n",
                "\n",
                "## 0.4 Other points to remember\n",
                "\n",
                "There are a couple ways to create a new notebook depending on where you are running the notebook.\n",
                "\n",
                "### 0.4.1 Creating a notebook\n",
                "\n",
                "- Simply create a new file with the `.ipynb` file extension.\n",
                "\n",
                "### 0.4.2 Renaming the notebook\n",
                "\n",
                "- Right click the file in the file explorer on the left hand tool bar, and select `Rename...`.\n",
                "\n",
                "### 0.4.3 Saving the notebook\n",
                "\n",
                "Remember to save the file by using the shortcut `Ctrl+S`.\n",
                "\n",
                "### 0.4.4 Closing the notebook\n",
                "\n",
                "- Save your notebook and close the file, you can then close VS Code.\n",
                "\n",
                "## 0.5 Next Steps\n",
                "\n",
                "Try the following:\n",
                "- Create new cells below\n",
                "- Switch a cell between code and markdown\n",
                "  - What happens when you execute this cell written in Markdown as a code cell?\n",
                "    - You can switch it back to a markdown cell and execute the cell again. We will learn more about syntax errors later.\n",
                "- Create a new notebook, call it by a name of your choice by renaming it, add some markdown content (e.g. some heading, a bulleted list and some text) and save it."
            ]
        },
        {
            "attachments": {},
            "cell_type": "markdown",
            "id": "56fd8870",
            "metadata": {},
            "source": [
                "## 0.6 Concept Check: Print 'Hello World'\n",
                "\n",
                "Use the code cell below to print out 'Hello World'"
            ]
        },
        {
            "cell_type": "code",
            "execution_count": null,
            "id": "850367a3",
            "metadata": {},
            "outputs": [],
            "source": []
        }
    ],
    "metadata": {
        "kernelspec": {
            "display_name": "Python 3",
            "language": "python",
            "name": "python3"
        },
        "language_info": {
            "codemirror_mode": {
                "name": "ipython",
                "version": 3
            },
            "file_extension": ".py",
            "mimetype": "text/x-python",
            "name": "python",
            "nbconvert_exporter": "python",
            "pygments_lexer": "ipython3",
            "version": "3.11.7"
        },
        "varInspector": {
            "cols": {
                "lenName": 16,
                "lenType": 16,
                "lenVar": 40
            },
            "kernels_config": {
                "python": {
                    "delete_cmd_postfix": "",
                    "delete_cmd_prefix": "del ",
                    "library": "var_list.py",
                    "varRefreshCmd": "print(var_dic_list())"
                },
                "r": {
                    "delete_cmd_postfix": ") ",
                    "delete_cmd_prefix": "rm(",
                    "library": "var_list.r",
                    "varRefreshCmd": "cat(var_dic_list()) "
                }
            },
            "types_to_exclude": [
                "module",
                "function",
                "builtin_function_or_method",
                "instance",
                "_Feature"
            ],
            "window_display": false
        },
        "vscode": {
            "interpreter": {
                "hash": "4f77c56a1733e9d421c3a053160f731a1cdaa61fcda062af7a855a05be992435"
            }
        }
    },
    "nbformat": 4,
    "nbformat_minor": 5
}