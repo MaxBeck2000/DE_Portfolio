{
    "cells": [
        {
            "cell_type": "markdown",
            "metadata": {},
            "source": [
                "---\n",
                "# 3. Containers\n",
                "---\n",
                "\n",
                "Container objects allow us to store a collection of items inside one variable.\n",
                "\n",
                "Two most common types of containers in Python are:\n",
                "- The List: an ordered sequence of items seperated by commas enclosed by square brackets `[]`\n",
                "- The Dictionary: a mapping object containing key-value pairs enclosed by curly brackets `{}`\n",
                "\n",
                "Strings are also a type of a container object that contains individual characters in them."
            ]
        },
        {
            "cell_type": "code",
            "execution_count": 2,
            "metadata": {},
            "outputs": [
                {
                    "name": "stdout",
                    "output_type": "stream",
                    "text": [
                        "<class 'int'>\n",
                        "<class 'float'>\n",
                        "<class 'str'>\n"
                    ]
                }
            ],
            "source": [
                "z = 10\n",
                "y = 10.5\n",
                "x = 'hello'\n",
                "\n",
                "print(type(z))\n",
                "print(type(y))\n",
                "print(type(x))\n"
            ]
        },
        {
            "cell_type": "markdown",
            "metadata": {},
            "source": [
                "## 3.1 The Python List\n",
                "\n",
                "A Python list is an object containing an ordered sequence of items separated by commas and enclosed by squared brackets.\n",
                "\n",
                "### 3.1.1 Creating a List\n",
                "\n",
                "A list can be created by adding comma separated elements enclosed by squared brackets, e.g. `[1,2,3]`. \n",
                "\n",
                "A list could also be empty, i.e. `[]`."
            ]
        },
        {
            "cell_type": "code",
            "execution_count": 4,
            "metadata": {},
            "outputs": [
                {
                    "name": "stdout",
                    "output_type": "stream",
                    "text": [
                        "[]\n",
                        "<class 'list'>\n"
                    ]
                }
            ],
            "source": [
                "list_1 = []\n",
                "print(list_1)\n",
                "print(type(list_1))\n"
            ]
        },
        {
            "cell_type": "code",
            "execution_count": 5,
            "metadata": {},
            "outputs": [
                {
                    "name": "stdout",
                    "output_type": "stream",
                    "text": [
                        "[1, 2, 3, 4, 5]\n"
                    ]
                }
            ],
            "source": [
                "list_2 = [1,2,3,4,5]\n",
                "print(list_2)"
            ]
        },
        {
            "cell_type": "code",
            "execution_count": null,
            "metadata": {},
            "outputs": [],
            "source": []
        },
        {
            "cell_type": "markdown",
            "metadata": {},
            "source": [
                "**Warning**: As mentioned previously in the Variables chapter, do not use the exact word `list` as a variable name. Instead, something like `list1` or `list_1` or `my_list` or another descriptive name (e.g. `list_of_names`) could be used. "
            ]
        },
        {
            "cell_type": "markdown",
            "metadata": {},
            "source": [
                "### 3.1.2 Accessing Elements of the List\n",
                "\n",
                "Elements in a list are indexed starting from 0. We can use the index enclosed by square brackets to access the corresponding element in the list. For example, `my_list[0]` is used to access the first element of `my_list` object, `my_list[1]` is used to access the second element, and so on. "
            ]
        },
        {
            "cell_type": "code",
            "execution_count": 6,
            "metadata": {},
            "outputs": [
                {
                    "name": "stdout",
                    "output_type": "stream",
                    "text": [
                        "a\n"
                    ]
                }
            ],
            "source": [
                "#           0   1   2   3   4 \n",
                "my_list = ['a','b','c','d','e']\n",
                "\n",
                "print(my_list[0])"
            ]
        },
        {
            "cell_type": "code",
            "execution_count": 7,
            "metadata": {},
            "outputs": [
                {
                    "name": "stdout",
                    "output_type": "stream",
                    "text": [
                        "e\n"
                    ]
                }
            ],
            "source": [
                "print(my_list[4])"
            ]
        },
        {
            "cell_type": "code",
            "execution_count": 8,
            "metadata": {},
            "outputs": [
                {
                    "name": "stdout",
                    "output_type": "stream",
                    "text": [
                        "['apples', 'bananas', 'cherries']\n"
                    ]
                }
            ],
            "source": [
                "fruits = ['apples', 'bananas','cherries']\n",
                "\n",
                "print(fruits)"
            ]
        },
        {
            "cell_type": "markdown",
            "metadata": {},
            "source": [
                "We can also write values to the element by combining indexing and assignment operation."
            ]
        },
        {
            "cell_type": "code",
            "execution_count": null,
            "metadata": {},
            "outputs": [],
            "source": []
        },
        {
            "cell_type": "code",
            "execution_count": 9,
            "metadata": {},
            "outputs": [
                {
                    "name": "stdout",
                    "output_type": "stream",
                    "text": [
                        "['watermelon', 'bananas', 'cherries']\n"
                    ]
                }
            ],
            "source": [
                "fruits[0] = 'watermelon'\n",
                "print(fruits)"
            ]
        },
        {
            "cell_type": "markdown",
            "metadata": {},
            "source": [
                "**Warning**: If we try to use an index beyond the range of the list, Python will throw an error."
            ]
        },
        {
            "cell_type": "code",
            "execution_count": null,
            "metadata": {},
            "outputs": [],
            "source": []
        },
        {
            "cell_type": "code",
            "execution_count": null,
            "metadata": {},
            "outputs": [],
            "source": []
        },
        {
            "attachments": {},
            "cell_type": "markdown",
            "metadata": {},
            "source": [
                "#### Concept Check: Accessing List Elements\n",
                "\n",
                "Create a list called `vowels` containing the five vowels ('a', 'e', 'i', 'o','u') in lowercase. Change 'i' to 'I', 'u' to 'U', and print out the list."
            ]
        },
        {
            "cell_type": "code",
            "execution_count": 14,
            "metadata": {},
            "outputs": [
                {
                    "name": "stdout",
                    "output_type": "stream",
                    "text": [
                        "['a', 'e', 'i', 'o', 'u']\n",
                        "['a', 'e', 'I', 'o', 'U']\n"
                    ]
                }
            ],
            "source": [
                "vowels = ['a','e','i','o','u']\n",
                "print(vowels)\n",
                "\n",
                "vowels[2] = 'I'\n",
                "vowels[4] = 'U'\n",
                "print(vowels)"
            ]
        },
        {
            "cell_type": "markdown",
            "metadata": {},
            "source": [
                "## 3.2 The Python Dictionary\n",
                "\n",
                "A Python dictionary is a collection of key-value pairs. It is similar to a list but instead of using implicit indexing, we can explicitly index each value with a 'key'. It is a mapping object that allows us to map values to unique keys.\n",
                "\n",
                "### 3.2.1 Creating a Dictionary\n",
                "\n",
                "Each key-value pair is referred to as an item in a dictionary and the key is separated from the value by a colon `:`. \n",
                "\n",
                "A typical dictionary will look like `{key1: value1, key2: value2, ..., keyN: valueN}` where `key1: value1` corresponds to `item1`, `key2: value2` corresponds to `item2` and so on. \n",
                "\n",
                "Dictionaries can also be created empty, i.e. `{}`.  "
            ]
        },
        {
            "cell_type": "code",
            "execution_count": 21,
            "metadata": {},
            "outputs": [
                {
                    "name": "stdout",
                    "output_type": "stream",
                    "text": [
                        "{'cohort': 'DE35', 'module': 'python', 'month': 'feb', 'year': 2024}\n"
                    ]
                }
            ],
            "source": [
                "dict1 = {'cohort':'DE35','module':'python','month':'feb','year':2024}\n",
                "print(dict1)"
            ]
        },
        {
            "cell_type": "code",
            "execution_count": null,
            "metadata": {},
            "outputs": [],
            "source": []
        },
        {
            "cell_type": "markdown",
            "metadata": {},
            "source": [
                "**Warning**: As mentioned previously in the Variables chapter, do not use `dict` as a variable name. Instead, something like `dict1` or `dict_1` or `my_dict` or another descriptive name could be used.  "
            ]
        },
        {
            "cell_type": "code",
            "execution_count": null,
            "metadata": {},
            "outputs": [],
            "source": []
        },
        {
            "cell_type": "markdown",
            "metadata": {},
            "source": [
                "### 3.2.2 Accessing values in a dictionary\n",
                "\n",
                "To access a value in a dictionary, given some key, we can use square brackets to enclose the key.\n",
                "\n",
                "This is very similar to accessing an element of a list. The difference is that list elements are accessed with an implicit index that is an integer starting at zero, while dictionary keys can also be other types such as strings."
            ]
        },
        {
            "cell_type": "code",
            "execution_count": 22,
            "metadata": {},
            "outputs": [
                {
                    "data": {
                        "text/plain": [
                            "'DE35'"
                        ]
                    },
                    "execution_count": 22,
                    "metadata": {},
                    "output_type": "execute_result"
                }
            ],
            "source": [
                "dict1['cohort']"
            ]
        },
        {
            "cell_type": "code",
            "execution_count": null,
            "metadata": {},
            "outputs": [],
            "source": []
        },
        {
            "cell_type": "markdown",
            "metadata": {},
            "source": [
                "\n",
                "We can also use this syntax to assign a new value to an existing key, or indeed create a new key-value pair."
            ]
        },
        {
            "cell_type": "code",
            "execution_count": null,
            "metadata": {
                "scrolled": true
            },
            "outputs": [],
            "source": []
        },
        {
            "cell_type": "code",
            "execution_count": null,
            "metadata": {},
            "outputs": [],
            "source": []
        },
        {
            "attachments": {},
            "cell_type": "markdown",
            "metadata": {},
            "source": [
                "### 3.2.3 Concept Check: Dictionary Manipulation\n",
                "\n",
                "Given the following dictionary on vehicle capacities, do the following:\n",
                "\n",
                "a) Print out the capacity of a plane.\\\n",
                "b) Correct the `'car'` capacity to something more reasonable.\\\n",
                "c) Add another `'vehicle': 'capacity'` pair of your choice\n",
                "\n",
                "After each change you make to the `vehicle_capacity` object, print it out to prove you have changed what you intended to."
            ]
        },
        {
            "cell_type": "code",
            "execution_count": 30,
            "metadata": {},
            "outputs": [
                {
                    "name": "stdout",
                    "output_type": "stream",
                    "text": [
                        "150\n",
                        "5\n",
                        "{'plane': 150, 'car': 5, 'bus': 60, 'bike': 1, 'motorbike': 2}\n"
                    ]
                }
            ],
            "source": [
                "vehicle_capacity = {'plane': 150, 'car': 15, 'bus': 60, 'bike': 1}\n",
                "\n",
                "print(vehicle_capacity['plane'])\n",
                "\n",
                "vehicle_capacity['car'] = 5\n",
                "print(vehicle_capacity['car'])\n",
                "\n",
                "vehicle_capacity['motorbike'] = 2\n",
                "print(vehicle_capacity)\n"
            ]
        },
        {
            "cell_type": "markdown",
            "metadata": {},
            "source": [
                "## 3.3 The `len()` built-in function\n",
                "\n",
                "- The `len` function accepts one input argument -- a reference to a container such as a list, dictionary or even a string. It is written as `len(variable)` where `variable` is replaced by the object that we want to find the length of.\n",
                "- It will return the number of items in that container. \n",
                "  - For a list, this will be the number of elements in the list\n",
                "  - For a string, this will be the number of characters in the string\n",
                "  - For a dictionary, this will be the total number of key-value pairs in the dictionary"
            ]
        },
        {
            "cell_type": "code",
            "execution_count": 32,
            "metadata": {},
            "outputs": [
                {
                    "name": "stdout",
                    "output_type": "stream",
                    "text": [
                        "5\n"
                    ]
                }
            ],
            "source": [
                "primes = [2,3,5,7,11]\n",
                "print(len(primes))"
            ]
        },
        {
            "cell_type": "code",
            "execution_count": null,
            "metadata": {},
            "outputs": [],
            "source": []
        },
        {
            "cell_type": "code",
            "execution_count": null,
            "metadata": {},
            "outputs": [],
            "source": []
        },
        {
            "cell_type": "markdown",
            "metadata": {},
            "source": [
                "#### Concept Check: Length of strings\n",
                "What are the lengths of the following two strings\n",
                "\n",
                "```\n",
                "s1 = \"\\n\\n\\n\"\n",
                "s2 = r\"\\n\\n\\n\"\n",
                "```\n",
                "\n",
                "Use the `len()` function to check your answer. "
            ]
        },
        {
            "cell_type": "code",
            "execution_count": 35,
            "metadata": {},
            "outputs": [
                {
                    "name": "stdout",
                    "output_type": "stream",
                    "text": [
                        "3\n"
                    ]
                }
            ],
            "source": [
                "s1 = \"\\n\\n\\n\"\n",
                "print(len(s1))"
            ]
        },
        {
            "cell_type": "code",
            "execution_count": 37,
            "metadata": {},
            "outputs": [
                {
                    "name": "stdout",
                    "output_type": "stream",
                    "text": [
                        "6\n"
                    ]
                }
            ],
            "source": [
                "s2 = r\"\\n\\n\\n\"\n",
                "print(len(s2))"
            ]
        }
    ],
    "metadata": {
        "kernelspec": {
            "display_name": "Python 3",
            "language": "python",
            "name": "python3"
        },
        "language_info": {
            "codemirror_mode": {
                "name": "ipython",
                "version": 3
            },
            "file_extension": ".py",
            "mimetype": "text/x-python",
            "name": "python",
            "nbconvert_exporter": "python",
            "pygments_lexer": "ipython3",
            "version": "3.11.8"
        },
        "varInspector": {
            "cols": {
                "lenName": 16,
                "lenType": 16,
                "lenVar": 40
            },
            "kernels_config": {
                "python": {
                    "delete_cmd_postfix": "",
                    "delete_cmd_prefix": "del ",
                    "library": "var_list.py",
                    "varRefreshCmd": "print(var_dic_list())"
                },
                "r": {
                    "delete_cmd_postfix": ") ",
                    "delete_cmd_prefix": "rm(",
                    "library": "var_list.r",
                    "varRefreshCmd": "cat(var_dic_list()) "
                }
            },
            "types_to_exclude": [
                "module",
                "function",
                "builtin_function_or_method",
                "instance",
                "_Feature"
            ],
            "window_display": false
        },
        "vscode": {
            "interpreter": {
                "hash": "4f77c56a1733e9d421c3a053160f731a1cdaa61fcda062af7a855a05be992435"
            }
        }
    },
    "nbformat": 4,
    "nbformat_minor": 4
}
