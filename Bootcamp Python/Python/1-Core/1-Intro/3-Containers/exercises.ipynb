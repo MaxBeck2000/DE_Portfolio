{
    "cells": [
        {
            "attachments": {},
            "cell_type": "markdown",
            "metadata": {},
            "source": [
                "# 3. Containers"
            ]
        },
        {
            "attachments": {},
            "cell_type": "markdown",
            "metadata": {},
            "source": [
                "## 3.1 Exercise: Accessing and assigning elements of lists\n",
                "\n",
                "a) Given a list `shopping_list` of strings, write a line of code that selects the second element of the list (`'tomatoes`') and assigns it to a variable `item` and print it out.\n",
                "\n",
                "b) Replace the `'lime'` in the shopping list with a `'lemon'`, print out the new shopping list."
            ]
        },
        {
            "cell_type": "code",
            "execution_count": 2,
            "metadata": {},
            "outputs": [
                {
                    "name": "stdout",
                    "output_type": "stream",
                    "text": [
                        "tomatoes\n"
                    ]
                }
            ],
            "source": [
                "shopping_list = ['mushrooms', 'tomatoes', 'cucumber', 'lime']\n",
                "item = shopping_list[1]\n",
                "print(item)"
            ]
        },
        {
            "attachments": {},
            "cell_type": "markdown",
            "metadata": {},
            "source": [
                "## 3.2 Exercise: Song Dictionary\n",
                "\n",
                "Given the following dictionary `song_dict1`.\n",
                "\n",
                "a) Print out the artist and song on separate lines\\\n",
                "b) Using an f-string and dictionary indexing, print out a now playing string with the song and artist name like so (*):\n",
                "\n",
                "`'Now playing Yellow Submarine by The Beatles`\n",
                "\n",
                "c) Print out the length of the now playing string above\\\n",
                "d) Replace the `'song'` value with `'Here comes the sun'` (or your favourite beatles song) and re-print the now playing string above.\\\n",
                "e) Add a `'album'` key with the value `'Abbey Road'`, print out `song_dict1` before and after."
            ]
        },
        {
            "cell_type": "code",
            "execution_count": 3,
            "metadata": {},
            "outputs": [
                {
                    "name": "stdout",
                    "output_type": "stream",
                    "text": [
                        "The Beatles\n",
                        "Now playing Yellow Submarine by The Beatles\n",
                        "43\n",
                        "Now playing Here comes the sun by The Beatles\n",
                        "{'artist': 'The Beatles', 'song': 'Here comes the sun', 'album': 'Abbey Road'}\n"
                    ]
                }
            ],
            "source": [
                "song_dict1 = {'artist': 'The Beatles', 'song': 'Yellow Submarine'}\n",
                "print(song_dict1['artist'])\n",
                "song_string = f\"Now playing {song_dict1['song']} by {song_dict1['artist']}\"\n",
                "print(song_string)\n",
                "print(len(song_string))\n",
                "song_dict1['song'] = 'Here comes the sun'\n",
                "song_string = f\"Now playing {song_dict1['song']} by {song_dict1['artist']}\"\n",
                "print(song_string)\n",
                "song_dict1['album'] = 'Abbey Road'\n",
                "print(song_dict1)"
            ]
        },
        {
            "attachments": {},
            "cell_type": "markdown",
            "metadata": {},
            "source": [
                "## 3.3 Exercise: Playlist Dictionary *\n",
                "\n",
                "Fill in the `song_dict2` variable with a song of your choice.\n",
                "\n",
                "Using indexing on the `playlist` object (i.e. do not refer directly to either song_dict) print out the now playing strings for both songs.\n"
            ]
        },
        {
            "cell_type": "code",
            "execution_count": 4,
            "metadata": {},
            "outputs": [
                {
                    "name": "stdout",
                    "output_type": "stream",
                    "text": [
                        "[{'artist': 'The Beatles', 'song': 'Here comes the sun', 'album': 'Abbey Road'}, {'artist': 'Pulp', 'song': 'Bar Italia', 'album': 'Different Class'}]\n",
                        "Now playing Here comes the sun by The Beatles\n",
                        "Now playing Bar Italia by Pulp\n"
                    ]
                }
            ],
            "source": [
                "song_dict2 = {'artist': 'Pulp', 'song': 'Bar Italia', 'album': 'Different Class'}\n",
                "playlist = [song_dict1, song_dict2]\n",
                "print(playlist)\n",
                "song_string1 = f\"Now playing {playlist[0]['song']} by {playlist[0]['artist']}\"\n",
                "song_string2 = f\"Now playing {playlist[1]['song']} by {playlist[1]['artist']}\"\n",
                "print(song_string1)\n",
                "print(song_string2)"
            ]
        }
    ],
    "metadata": {
        "kernelspec": {
            "display_name": "base",
            "language": "python",
            "name": "python3"
        },
        "language_info": {
            "codemirror_mode": {
                "name": "ipython",
                "version": 3
            },
            "file_extension": ".py",
            "mimetype": "text/x-python",
            "name": "python",
            "nbconvert_exporter": "python",
            "pygments_lexer": "ipython3",
            "version": "3.11.8"
        },
        "orig_nbformat": 4,
        "vscode": {
            "interpreter": {
                "hash": "54b57a9d7255aa9bd89013014712be1af3e9c0518087b34529522b12b0bc87de"
            }
        }
    },
    "nbformat": 4,
    "nbformat_minor": 2
}
