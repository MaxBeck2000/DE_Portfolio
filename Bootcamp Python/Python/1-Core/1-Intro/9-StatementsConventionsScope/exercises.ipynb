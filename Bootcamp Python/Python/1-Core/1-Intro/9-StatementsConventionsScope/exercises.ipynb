{
    "cells": [
        {
            "attachments": {},
            "cell_type": "markdown",
            "metadata": {},
            "source": [
                "# 9. Statements, Conventions and Scope"
            ]
        },
        {
            "attachments": {},
            "cell_type": "markdown",
            "metadata": {},
            "source": [
                "## 9.1 Exercise: Type Hinting, Documentation and PEP8\n",
                "\n",
                "In a previous exercise we calculated `distance`, given `speed` and `time`.\n",
                "\n",
                "Below we have a function that calculates *`speed`* given `distance` and `time` using the equation:\n",
                "\n",
                "`speed = distance / time`\n",
                "\n",
                "Improve the readability and maintainability of the function by:\n",
                "- Renaming the function\n",
                "- Adding type hinting\n",
                "- Adding a doc string\n",
                "- Renaming the variables to be more descriptive\n",
                "- Adding appropriate comments"
            ]
        },
        {
            "cell_type": "code",
            "execution_count": null,
            "metadata": {},
            "outputs": [],
            "source": [
                "def my_func(a, b):\n",
                "    if type(a) == float and type(b) == float:\n",
                "        c = a / b\n",
                "        return c\n",
                "    else:\n",
                "        print(\"Invalid input. a and b must be floats.\")\n"
            ]
        }
    ],
    "metadata": {
        "kernelspec": {
            "display_name": "Python 3",
            "language": "python",
            "name": "python3"
        },
        "language_info": {
            "name": "python",
            "version": "3.10.8 (tags/v3.10.8:aaaf517, Oct 11 2022, 16:50:30) [MSC v.1933 64 bit (AMD64)]"
        },
        "orig_nbformat": 4,
        "vscode": {
            "interpreter": {
                "hash": "369f2c481f4da34e4445cda3fffd2e751bd1c4d706f27375911949ba6bb62e1c"
            }
        }
    },
    "nbformat": 4,
    "nbformat_minor": 2
}