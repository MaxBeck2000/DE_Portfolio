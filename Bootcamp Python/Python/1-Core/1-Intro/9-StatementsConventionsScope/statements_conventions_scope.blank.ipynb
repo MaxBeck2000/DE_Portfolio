{
    "cells": [
        {
            "attachments": {},
            "cell_type": "markdown",
            "metadata": {},
            "source": [
                "---\n",
                "# 9. Statements, Conventions and Scope \n",
                "---\n",
                "\n",
                "## 9.1 Python Statements\n",
                "\n",
                "A **Python statement** is an **instruction** that the Python Interpreter can execute. Every line of code that we write can be interpreted as a statement. Python executes statements one by one in the order in which they appear in the cell.\n",
                "\n",
                "Some statements have a **result**. Examples are:\n",
                "- arithmetic operations\n",
                "- calling a function\n",
                "\n",
                "Other statements **do NOT have a result**, as they serve a different purpose. Example:\n",
                "- printing a message\n",
                "- assigning a value to a variable\n",
                "- declaring an object"
            ]
        },
        {
            "cell_type": "code",
            "execution_count": 2,
            "metadata": {},
            "outputs": [],
            "source": [
                "x = 1+1\n"
            ]
        },
        {
            "cell_type": "code",
            "execution_count": 7,
            "metadata": {},
            "outputs": [
                {
                    "data": {
                        "text/plain": [
                            "3"
                        ]
                    },
                    "execution_count": 7,
                    "metadata": {},
                    "output_type": "execute_result"
                }
            ],
            "source": [
                "len([1, 2, 3])"
            ]
        },
        {
            "cell_type": "code",
            "execution_count": 9,
            "metadata": {},
            "outputs": [
                {
                    "data": {
                        "text/plain": [
                            "'hello world'"
                        ]
                    },
                    "execution_count": 9,
                    "metadata": {},
                    "output_type": "execute_result"
                }
            ],
            "source": [
                "'hello' + ' ' + 'world'"
            ]
        },
        {
            "attachments": {},
            "cell_type": "markdown",
            "metadata": {},
            "source": [
                "- Below are some statements which do not have a result\n",
                "- we can say that their result is `None`\n",
                "- if a statement has a `None` result, there won't be any output displayed under the cell once it is executed"
            ]
        },
        {
            "cell_type": "code",
            "execution_count": 10,
            "metadata": {},
            "outputs": [],
            "source": [
                "x = 1"
            ]
        },
        {
            "cell_type": "code",
            "execution_count": 13,
            "metadata": {},
            "outputs": [
                {
                    "name": "stdout",
                    "output_type": "stream",
                    "text": [
                        "the print function returns none\n"
                    ]
                }
            ],
            "source": [
                "y = print('the print function returns none')"
            ]
        },
        {
            "cell_type": "code",
            "execution_count": 14,
            "metadata": {},
            "outputs": [
                {
                    "data": {
                        "text/plain": [
                            "NoneType"
                        ]
                    },
                    "execution_count": 14,
                    "metadata": {},
                    "output_type": "execute_result"
                }
            ],
            "source": [
                "type(y)"
            ]
        },
        {
            "attachments": {},
            "cell_type": "markdown",
            "metadata": {},
            "source": [
                "## 9.2 Statements and Line Breaks\n",
                "\n",
                "\n",
                "- Usually, we write **one statement per line**\n",
                "- It's however **OK** to break a statement across multiple lines - either implicitly or explicitly:\n",
                "        "
            ]
        },
        {
            "cell_type": "code",
            "execution_count": 17,
            "metadata": {},
            "outputs": [
                {
                    "name": "stdout",
                    "output_type": "stream",
                    "text": [
                        "[[1, 2, 3], [4, 5, 6], [7, 8, 9]]\n"
                    ]
                }
            ],
            "source": [
                "my_list = [[1, 2, 3], \n",
                "           [4, 5, 6], \n",
                "           [7, 8, 9]]\n",
                "print(my_list)"
            ]
        },
        {
            "cell_type": "markdown",
            "metadata": {},
            "source": [
                "It's also (sometimes) ok to have more than one statement on a single line. \n",
                "\n",
                "Do this by separating the statements with semicolons, but ...\n",
                "- It's generally only used for short initialization statements\n",
                "- Used elsewhere, it tends to make code less readable, so avoid! \n"
            ]
        },
        {
            "cell_type": "code",
            "execution_count": 20,
            "metadata": {},
            "outputs": [
                {
                    "name": "stdout",
                    "output_type": "stream",
                    "text": [
                        "{'Starter': 'Soup', 'Main': 'Pasta', 'Dessert': 'Ice Cream', 'Drink': 'Prosecco'}\n"
                    ]
                }
            ],
            "source": [
                "my_dictionary = {'Starter': 'Soup', \n",
                "                 'Main': 'Pasta', \n",
                "                 'Dessert':'Ice Cream', \n",
                "                 'Drink':'Prosecco'}\n",
                "print(my_dictionary)"
            ]
        },
        {
            "cell_type": "code",
            "execution_count": 23,
            "metadata": {},
            "outputs": [
                {
                    "name": "stdout",
                    "output_type": "stream",
                    "text": [
                        "Laptop This is a longer stringThis is a longer string\n"
                    ]
                }
            ],
            "source": [
                "my_concatenated_string = 'Laptop' \\\n",
                "                        + ' ' \\\n",
                "                        + 'This is a longer string' \\\n",
                "                        + 'This is a longer string'\n",
                "print(my_concatenated_string)"
            ]
        },
        {
            "cell_type": "markdown",
            "metadata": {},
            "source": [
                "## 9.3 PEP 8 and Other Conventions\n",
                "\n",
                "\n",
                "### 9.3.1 PEP 8\n",
                "\n",
                "Many developers aim to follow the [PEP 8 style guide](https://www.python.org/dev/peps/pep-0008/). Some highlights:\n",
                "- Use four spaces per indent (not a tab character)\n",
                "- Lines of code shouldn't exceed 79 characters\n",
                "- Surround top-level function and class definitions with two blank lines.\n",
                "- When splitting lines, put the operator at the beginning of each line (see haiku example above) \n",
                "\n",
                "### 9.3.2 Function Documentation:\n",
                "\n",
                "It's good practice to write help text: this goes directly after the definition statement, in triple-quotes, as follows:\n"
            ]
        },
        {
            "cell_type": "code",
            "execution_count": 26,
            "metadata": {},
            "outputs": [],
            "source": [
                "    \n",
                "    def my_function(list_arg):\n",
                "        '''function that returns a formatted string telling us the argument'''\n",
                "        return f'the list arg is {list_arg}'"
            ]
        },
        {
            "cell_type": "code",
            "execution_count": 27,
            "metadata": {},
            "outputs": [
                {
                    "name": "stdout",
                    "output_type": "stream",
                    "text": [
                        "Help on function my_function in module __main__:\n",
                        "\n",
                        "my_function(list_arg)\n",
                        "    function that returns a formatted string telling us the argument\n",
                        "\n"
                    ]
                }
            ],
            "source": [
                "help(my_function)"
            ]
        },
        {
            "cell_type": "markdown",
            "metadata": {},
            "source": [
                "### 9.3.3 Linting and Type Hinting\n",
                "\n",
                "Although we won't be using Linting and Type Hinting in this module, we briefly mention it here, so that you will be prepared for it when you see it. \n",
                "\n",
                "- 'Linting' is the process of detecting potential issues with the source code. These are departures from syntactical and stylistic conventions that can create problems either now or in future. Some development teams require all contributed source code to be 'lint-free', i.e. complying with all syntactical and stylistic conventions. \n",
                "    \n",
                "- 'Type Hinting' can optionally be used in Python source code, to specify the expected types of the objects in the program. An example is shown below. We will not use type hinting in these notebooks, but you may see this in client respositories  "
            ]
        },
        {
            "cell_type": "code",
            "execution_count": 29,
            "metadata": {},
            "outputs": [],
            "source": [
                "def add_two_numbers(arg1,arg2):\n",
                "\n",
                "    result = arg1+arg2\n",
                "    return result"
            ]
        },
        {
            "cell_type": "code",
            "execution_count": 30,
            "metadata": {},
            "outputs": [
                {
                    "data": {
                        "text/plain": [
                            "'helloworld'"
                        ]
                    },
                    "execution_count": 30,
                    "metadata": {},
                    "output_type": "execute_result"
                }
            ],
            "source": [
                "add_two_numbers('hello','world')"
            ]
        },
        {
            "cell_type": "markdown",
            "metadata": {},
            "source": [
                "## 9.4 Scope  \n",
                "\n",
                "The built-in function `dir` gives a list of all the objects available in the current scope.\n",
                "\n"
            ]
        },
        {
            "cell_type": "code",
            "execution_count": 31,
            "metadata": {},
            "outputs": [
                {
                    "data": {
                        "text/plain": [
                            "['In',\n",
                            " 'Out',\n",
                            " '_',\n",
                            " '_1',\n",
                            " '_14',\n",
                            " '_3',\n",
                            " '_30',\n",
                            " '_4',\n",
                            " '_5',\n",
                            " '_7',\n",
                            " '_8',\n",
                            " '_9',\n",
                            " '__',\n",
                            " '___',\n",
                            " '__builtin__',\n",
                            " '__builtins__',\n",
                            " '__doc__',\n",
                            " '__loader__',\n",
                            " '__name__',\n",
                            " '__package__',\n",
                            " '__spec__',\n",
                            " '__vsc_ipynb_file__',\n",
                            " '_dh',\n",
                            " '_i',\n",
                            " '_i1',\n",
                            " '_i10',\n",
                            " '_i11',\n",
                            " '_i12',\n",
                            " '_i13',\n",
                            " '_i14',\n",
                            " '_i15',\n",
                            " '_i16',\n",
                            " '_i17',\n",
                            " '_i18',\n",
                            " '_i19',\n",
                            " '_i2',\n",
                            " '_i20',\n",
                            " '_i21',\n",
                            " '_i22',\n",
                            " '_i23',\n",
                            " '_i24',\n",
                            " '_i25',\n",
                            " '_i26',\n",
                            " '_i27',\n",
                            " '_i28',\n",
                            " '_i29',\n",
                            " '_i3',\n",
                            " '_i30',\n",
                            " '_i31',\n",
                            " '_i4',\n",
                            " '_i5',\n",
                            " '_i6',\n",
                            " '_i7',\n",
                            " '_i8',\n",
                            " '_i9',\n",
                            " '_ih',\n",
                            " '_ii',\n",
                            " '_iii',\n",
                            " '_oh',\n",
                            " 'add_two_numbers',\n",
                            " 'exit',\n",
                            " 'get_ipython',\n",
                            " 'my_concatenated_string',\n",
                            " 'my_dictionary',\n",
                            " 'my_function',\n",
                            " 'my_list',\n",
                            " 'open',\n",
                            " 'quit',\n",
                            " 'x',\n",
                            " 'y']"
                        ]
                    },
                    "execution_count": 31,
                    "metadata": {},
                    "output_type": "execute_result"
                }
            ],
            "source": [
                "dir()"
            ]
        },
        {
            "cell_type": "code",
            "execution_count": 32,
            "metadata": {},
            "outputs": [],
            "source": [
                "my_keyboard = 'qwerty'"
            ]
        },
        {
            "cell_type": "markdown",
            "metadata": {},
            "source": [
                "It returns a list of objects, which includes:\n",
                "- The objects we have created in our programs, e.g. `haiku`, `phone_book`, `sobel_operator` (assuming that the relevant code cells have been executed)\n",
                "- Some objects that are specific to Jupyter notebooks, e.g. `In` and `Out` are lists containing the input code and output result of the cells that have been run \n",
                "- Some objects that are used by Python to control the Program Structure. For example, the `__name__` object is a string that can  shows the current scope:\n"
            ]
        },
        {
            "cell_type": "code",
            "execution_count": 33,
            "metadata": {
                "scrolled": true
            },
            "outputs": [
                {
                    "name": "stdout",
                    "output_type": "stream",
                    "text": [
                        "__main__\n"
                    ]
                }
            ],
            "source": [
                "print(__name__)"
            ]
        },
        {
            "cell_type": "markdown",
            "metadata": {},
            "source": [
                "The value of `__name__` is automatically set to `__main__` when running code in a Jupyter notebook, or directly in a Python file. When running code in a module, or from inside a class, the value of `__name__` is different. This feature is used to control how code in Python files are executed.   \n",
                "\n",
                "Lots of items in the list returned by `dir()` start with a `__`. This double-underscore ( or 'dunder') is a Python convention for special names that are used 'behind the scenes' to make Python work. \n",
                "\n",
                "We can pass in a variable name as an argument to the `dir` function: in this case it gives a list of the available methods for this object:   "
            ]
        },
        {
            "cell_type": "code",
            "execution_count": 34,
            "metadata": {},
            "outputs": [
                {
                    "data": {
                        "text/plain": [
                            "['__abs__',\n",
                            " '__add__',\n",
                            " '__and__',\n",
                            " '__bool__',\n",
                            " '__ceil__',\n",
                            " '__class__',\n",
                            " '__delattr__',\n",
                            " '__dir__',\n",
                            " '__divmod__',\n",
                            " '__doc__',\n",
                            " '__eq__',\n",
                            " '__float__',\n",
                            " '__floor__',\n",
                            " '__floordiv__',\n",
                            " '__format__',\n",
                            " '__ge__',\n",
                            " '__getattribute__',\n",
                            " '__getnewargs__',\n",
                            " '__getstate__',\n",
                            " '__gt__',\n",
                            " '__hash__',\n",
                            " '__index__',\n",
                            " '__init__',\n",
                            " '__init_subclass__',\n",
                            " '__int__',\n",
                            " '__invert__',\n",
                            " '__le__',\n",
                            " '__lshift__',\n",
                            " '__lt__',\n",
                            " '__mod__',\n",
                            " '__mul__',\n",
                            " '__ne__',\n",
                            " '__neg__',\n",
                            " '__new__',\n",
                            " '__or__',\n",
                            " '__pos__',\n",
                            " '__pow__',\n",
                            " '__radd__',\n",
                            " '__rand__',\n",
                            " '__rdivmod__',\n",
                            " '__reduce__',\n",
                            " '__reduce_ex__',\n",
                            " '__repr__',\n",
                            " '__rfloordiv__',\n",
                            " '__rlshift__',\n",
                            " '__rmod__',\n",
                            " '__rmul__',\n",
                            " '__ror__',\n",
                            " '__round__',\n",
                            " '__rpow__',\n",
                            " '__rrshift__',\n",
                            " '__rshift__',\n",
                            " '__rsub__',\n",
                            " '__rtruediv__',\n",
                            " '__rxor__',\n",
                            " '__setattr__',\n",
                            " '__sizeof__',\n",
                            " '__str__',\n",
                            " '__sub__',\n",
                            " '__subclasshook__',\n",
                            " '__truediv__',\n",
                            " '__trunc__',\n",
                            " '__xor__',\n",
                            " 'as_integer_ratio',\n",
                            " 'bit_count',\n",
                            " 'bit_length',\n",
                            " 'conjugate',\n",
                            " 'denominator',\n",
                            " 'from_bytes',\n",
                            " 'imag',\n",
                            " 'numerator',\n",
                            " 'real',\n",
                            " 'to_bytes']"
                        ]
                    },
                    "execution_count": 34,
                    "metadata": {},
                    "output_type": "execute_result"
                }
            ],
            "source": [
                "x = 1\n",
                "dir(x)"
            ]
        },
        {
            "cell_type": "code",
            "execution_count": 1,
            "metadata": {},
            "outputs": [],
            "source": []
        },
        {
            "cell_type": "markdown",
            "metadata": {},
            "source": [
                "As you can see, many of the data types we have covered so far have lots useful methods that allow us to manipulate that object, we'll see in the next module just how useful these can be."
            ]
        }
    ],
    "metadata": {
        "kernelspec": {
            "display_name": "Python 3",
            "language": "python",
            "name": "python3"
        },
        "language_info": {
            "codemirror_mode": {
                "name": "ipython",
                "version": 3
            },
            "file_extension": ".py",
            "mimetype": "text/x-python",
            "name": "python",
            "nbconvert_exporter": "python",
            "pygments_lexer": "ipython3",
            "version": "3.11.8"
        },
        "vscode": {
            "interpreter": {
                "hash": "4f77c56a1733e9d421c3a053160f731a1cdaa61fcda062af7a855a05be992435"
            }
        }
    },
    "nbformat": 4,
    "nbformat_minor": 2
}
