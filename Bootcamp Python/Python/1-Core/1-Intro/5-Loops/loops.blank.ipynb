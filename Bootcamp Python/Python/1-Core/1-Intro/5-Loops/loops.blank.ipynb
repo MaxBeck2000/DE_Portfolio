{
    "cells": [
        {
            "cell_type": "markdown",
            "id": "3d54403c",
            "metadata": {},
            "source": [
                "# 5. Iteration and Looping\n",
                "\n",
                "We can create loops in our code to repeat execution of a particular code segment multiple times. An iteration refers to a single execution of the loop.\n",
                "\n",
                "The two types of loops in Python are:\n",
                "- **for** loop: this allows us to iterate over the individual elements of a collection object.\n",
                "- **while** loop: this allows us to create a loop that runs as long as a certain condition is met."
            ]
        },
        {
            "cell_type": "markdown",
            "id": "ae23f403",
            "metadata": {},
            "source": [
                "## 5.1 For loop\n",
                "\n",
                "For loops provide us a way to iterate over the elements of a collection.\n",
                "\n",
                "The syntax for a `for` loop is given by:\n",
                "\n",
                "```\n",
                "for <iterator> in <iterable>:\n",
                "    <statement>\n",
                "    <statement>\n",
                "```\n",
                "\n",
                "```\n",
                "for loop_variable in collection:\n",
                "    <statement>\n",
                "    <statement>\n",
                "```\n",
                "\n",
                "The flowchart below illustrates this concept. The iterable object is a collection (e.g. a list, dictionary, string etc.). The for loop block is run as many times as the number of items in this collection. In each iteration (or run of this loop), the iterator variable is assigned the next item in the collection. This gives us access to individual items so that we can process them as required. \n",
                "\n",
                "\n",
                "<p style='text-align:center;'>\n",
                "  <img src='./images/for_.png' alt='for'/>\n",
                "</p>\n",
                "\n",
                "The example below shows how this works in Python.\n"
            ]
        },
        {
            "cell_type": "code",
            "execution_count": 18,
            "id": "b380f1ef",
            "metadata": {},
            "outputs": [
                {
                    "name": "stdout",
                    "output_type": "stream",
                    "text": [
                        "Before the for loop\n",
                        "inside the for loop, current value of the iterator is 1\n",
                        "inside the for loop, current value of the iterator is 2\n",
                        "inside the for loop, current value of the iterator is 3\n",
                        "inside the for loop, current value of the iterator is 4\n",
                        "inside the for loop, current value of the iterator is 5\n",
                        "After the for loop\n"
                    ]
                }
            ],
            "source": [
                "print('Before the for loop')\n",
                "\n",
                "for i in [1, 2, 3, 4, 5]:\n",
                "    print(f'inside the for loop, current value of the iterator is {i}')\n",
                "print('After the for loop')"
            ]
        },
        {
            "cell_type": "markdown",
            "id": "926d89c3",
            "metadata": {},
            "source": [
                "### 5.1.1 Iterating Over a List\n",
                "\n",
                "- The `for` statement can be used to loop over each element in a list\n",
                "- The *iterable* is the object to be iterated over (the list)\n",
                "- The *iterator* is the variable assigned to each element in turn\n",
                "- The colon denotes the start of the indented code block, to be repeated once per element"
            ]
        },
        {
            "cell_type": "code",
            "execution_count": null,
            "id": "13a4065f",
            "metadata": {},
            "outputs": [],
            "source": []
        },
        {
            "cell_type": "code",
            "execution_count": null,
            "id": "38a09708",
            "metadata": {},
            "outputs": [],
            "source": []
        },
        {
            "attachments": {},
            "cell_type": "markdown",
            "id": "fc50bf68",
            "metadata": {},
            "source": [
                "#### Concept Check: Pretty Print a Shopping List\n",
                "\n",
                "You have a shopping list below:\n",
                "\n",
                "```python\n",
                "shopping_list = ['Apples', 'Bananas', 'Cherries', 'Durian']\n",
                "```\n",
                "\n",
                "Print out the list in the following format:\n",
                "\n",
                "```\n",
                "Shopping List:\n",
                "*******\n",
                "+ Apples\n",
                "---------\n",
                "+ Bananas\n",
                "---------\n",
                "+ Cherries\n",
                "---------\n",
                "+ Durian\n",
                "---------\n",
                "*******\n",
                "```"
            ]
        },
        {
            "cell_type": "code",
            "execution_count": 21,
            "id": "0f3594e2",
            "metadata": {},
            "outputs": [
                {
                    "name": "stdout",
                    "output_type": "stream",
                    "text": [
                        "Shopping List:\n",
                        "**************\n",
                        "+ Apples\n",
                        "---------\n",
                        "+ Bananas\n",
                        "---------\n",
                        "+ Cherries\n",
                        "---------\n",
                        "+ Durian\n",
                        "---------\n",
                        "**************\n"
                    ]
                }
            ],
            "source": [
                "shopping_list = ['Apples', 'Bananas', 'Cherries', 'Durian']\n",
                "print('Shopping List:')\n",
                "print('**************')\n",
                "for n in shopping_list:\n",
                "    print(f'+ {n}')\n",
                "    print('---------')\n",
                "print('**************')"
            ]
        },
        {
            "cell_type": "markdown",
            "id": "a78fc87f",
            "metadata": {},
            "source": [
                "### 5.1.2 Iterating Over a String\n",
                "We can iterate over each character in a string using a for loop"
            ]
        },
        {
            "cell_type": "code",
            "execution_count": null,
            "id": "fed6fb84",
            "metadata": {},
            "outputs": [],
            "source": []
        },
        {
            "cell_type": "code",
            "execution_count": null,
            "id": "b4e8e54e",
            "metadata": {},
            "outputs": [],
            "source": []
        },
        {
            "cell_type": "code",
            "execution_count": null,
            "id": "3c8b21e2",
            "metadata": {},
            "outputs": [],
            "source": []
        },
        {
            "attachments": {},
            "cell_type": "markdown",
            "id": "f3d5c211",
            "metadata": {},
            "source": [
                "#### Concept Check: Vertical String\n",
                "\n",
                "Given the string `'Kubrickans'`\n",
                "\n",
                "Print it vertically, each letter appearing 2 times, with `'***'` between each row.\n",
                "\n",
                "The first 6 rows of your output should look like this:\n",
                "\n",
                "```\n",
                "K K\n",
                "***\n",
                "u u\n",
                "***\n",
                "b b\n",
                "***\n",
                "```"
            ]
        },
        {
            "cell_type": "code",
            "execution_count": 8,
            "id": "1827b450",
            "metadata": {},
            "outputs": [
                {
                    "name": "stdout",
                    "output_type": "stream",
                    "text": [
                        "K K\n",
                        "***\n",
                        "u u\n",
                        "***\n",
                        "b b\n",
                        "***\n",
                        "r r\n",
                        "***\n",
                        "i i\n",
                        "***\n",
                        "c c\n",
                        "***\n",
                        "k k\n",
                        "***\n",
                        "a a\n",
                        "***\n",
                        "n n\n",
                        "***\n",
                        "s s\n",
                        "***\n"
                    ]
                }
            ],
            "source": [
                "my_str = 'Kubrickans'\n",
                "for n in my_str:\n",
                "    print(f'{n} {n}')\n",
                "    print('***')"
            ]
        },
        {
            "cell_type": "markdown",
            "id": "b0d0f3cb",
            "metadata": {},
            "source": [
                "### 5.1.3 Iterating Over a Dictionary\n",
                "\n",
                "The `for` statement can be used to iterate over a dictionary in a few different ways (e.g. iterating over keys, iterating over values, iterating over items etc.). Here, we will look at the most basic technique and then look at other methods later. \n"
            ]
        },
        {
            "cell_type": "code",
            "execution_count": 9,
            "id": "e43914d7",
            "metadata": {},
            "outputs": [
                {
                    "name": "stdout",
                    "output_type": "stream",
                    "text": [
                        "day\n",
                        "month\n",
                        "year\n"
                    ]
                }
            ],
            "source": [
                "my_dict = {'day':20, 'month':2, 'year': 2024}\n",
                "for i in my_dict:\n",
                "    print(i)"
            ]
        },
        {
            "cell_type": "code",
            "execution_count": 10,
            "id": "08a99776",
            "metadata": {},
            "outputs": [
                {
                    "name": "stdout",
                    "output_type": "stream",
                    "text": [
                        "day\n",
                        "month\n",
                        "year\n"
                    ]
                }
            ],
            "source": [
                "for key in my_dict:\n",
                "    print(key)"
            ]
        },
        {
            "cell_type": "code",
            "execution_count": null,
            "id": "19f26796",
            "metadata": {},
            "outputs": [],
            "source": []
        },
        {
            "attachments": {},
            "cell_type": "markdown",
            "id": "a78fc60e",
            "metadata": {},
            "source": [
                "### 5.1.4 Concept Check: Pretty Printing a Set Menu\n",
                "\n",
                "\n",
                "Given the `set_menu` variable below, choose a set menu you would like and pretty print it in the following format:\n",
                "\n",
                "```\n",
                "**************\n",
                "**** Starter ****\n",
                "--- Bruschetta ---\n",
                "=============\n",
                "**** Main ****\n",
                "--- Pasta ---\n",
                "=============\n",
                "**** Dessert ****\n",
                "--- Peach Sorbet ---\n",
                "=============\n",
                "**** Drink ****\n",
                "--- Prosecco ---\n",
                "=============\n",
                "**************\n",
                "```"
            ]
        },
        {
            "cell_type": "code",
            "execution_count": 19,
            "id": "293fefbc",
            "metadata": {},
            "outputs": [
                {
                    "name": "stdout",
                    "output_type": "stream",
                    "text": [
                        "************\n",
                        "**** Starter ****\n",
                        "--- Dough Balls ---\n",
                        "================\n",
                        "**** Main ****\n",
                        "--- Pizza ---\n",
                        "================\n",
                        "**** Dessert ****\n",
                        "--- Cheesecake ---\n",
                        "================\n",
                        "**** Drink ****\n",
                        "--- Pint ---\n",
                        "================\n",
                        "************\n"
                    ]
                }
            ],
            "source": [
                "set_menu = {'Starter': 'Dough Balls', 'Main': 'Pizza', 'Dessert': 'Cheesecake', 'Drink': 'Pint'}\n",
                "print('************')\n",
                "for key in set_menu:\n",
                "    print(f'**** {key} ****')\n",
                "    print(f'--- {set_menu[key]} ---')\n",
                "    print('================')\n",
                "\n",
                "print('************')\n"
            ]
        },
        {
            "cell_type": "markdown",
            "id": "605a2b71",
            "metadata": {},
            "source": [
                "## 5.2 While loop\n",
                "The `while` statement allow us to loop over a block of code as long as a certain condition is True. \n",
                "\n",
                "The syntax for a while loop is given as:\n",
                "\n",
                "```\n",
                "while <condition>:\n",
                "    <statement>\n",
                "    <statement>\n",
                "    ...\n",
                "```\n",
                "\n",
                "The flowchart below illustrates this concept. The condition for the `while` block is evaluated. If it is True, the statements in the indented block are executed once. Following this, the condition is checked once again and the entire process is repeated as long as the condition evaluates to True. If it changes to False, then the rest of the program is executed\n",
                "\n",
                "<p style='text-align:center;'>\n",
                "  <img src='./images/while_.png' alt='for'/>\n",
                "</p>\n",
                "\n",
                "The example below shows how this works in Python."
            ]
        },
        {
            "cell_type": "code",
            "execution_count": 23,
            "id": "a2f6384b",
            "metadata": {},
            "outputs": [
                {
                    "name": "stdout",
                    "output_type": "stream",
                    "text": [
                        "before the while loop\n",
                        "inside the while block, current value of n is 5\n",
                        "inside the while block, current value of n is 4\n",
                        "inside the while block, current value of n is 3\n",
                        "inside the while block, current value of n is 2\n",
                        "inside the while block, current value of n is 1\n",
                        "After the while block\n"
                    ]
                }
            ],
            "source": [
                "n = 5\n",
                "print('before the while loop')\n",
                "\n",
                "while n>0:\n",
                "    print(f'inside the while block, current value of n is {n}')\n",
                "    n = n-1\n",
                "\n",
                "print('After the while block')"
            ]
        },
        {
            "cell_type": "code",
            "execution_count": 24,
            "id": "fc9868b5",
            "metadata": {},
            "outputs": [
                {
                    "name": "stdout",
                    "output_type": "stream",
                    "text": [
                        "before the while loop\n",
                        "inside the while block, current value of n is -5\n",
                        "inside the while block, current value of n is -4\n",
                        "inside the while block, current value of n is -3\n",
                        "inside the while block, current value of n is -2\n",
                        "inside the while block, current value of n is -1\n",
                        "After the while block\n"
                    ]
                }
            ],
            "source": [
                "n = -5\n",
                "print('before the while loop')\n",
                "\n",
                "while n<0:\n",
                "    print(f'inside the while block, current value of n is {n}')\n",
                "    n = n+1\n",
                "\n",
                "print('After the while block')"
            ]
        },
        {
            "cell_type": "code",
            "execution_count": 27,
            "id": "d483b6e5",
            "metadata": {},
            "outputs": [
                {
                    "name": "stdout",
                    "output_type": "stream",
                    "text": [
                        "playing a game\n",
                        "Finished playing buddy\n"
                    ]
                }
            ],
            "source": [
                "play_again = 'y'\n",
                "\n",
                "while play_again == 'y':\n",
                "    print('playing a game')\n",
                "    play_again = input('Play again?')\n",
                "\n",
                "print('Finished playing buddy')"
            ]
        },
        {
            "cell_type": "code",
            "execution_count": null,
            "id": "5568215a",
            "metadata": {},
            "outputs": [],
            "source": []
        },
        {
            "attachments": {},
            "cell_type": "markdown",
            "id": "16e2ca0d",
            "metadata": {},
            "source": [
                "### 5.2.1 Concept Check: Printing the Hours\n",
                "\n",
                "Use while loops to print the hours of the day using a 12-hour time format like so:\n",
                "\n",
                "```\n",
                "1 am\n",
                "2 am\n",
                "3 am\n",
                "...\n",
                "10 pm\n",
                "11 pm\n",
                "12 pm\n",
                "```"
            ]
        },
        {
            "cell_type": "code",
            "execution_count": 33,
            "id": "6caf9cc3",
            "metadata": {},
            "outputs": [
                {
                    "name": "stdout",
                    "output_type": "stream",
                    "text": [
                        "1 am\n",
                        "2 am\n",
                        "3 am\n",
                        "4 am\n",
                        "5 am\n",
                        "6 am\n",
                        "7 am\n",
                        "8 am\n",
                        "9 am\n",
                        "10 am\n",
                        "11 am\n",
                        "12 am\n",
                        "1 pm\n",
                        "2 pm\n",
                        "3 pm\n",
                        "4 pm\n",
                        "5 pm\n",
                        "6 pm\n",
                        "7 pm\n",
                        "8 pm\n",
                        "9 pm\n",
                        "10 pm\n",
                        "11 pm\n",
                        "12 pm\n"
                    ]
                }
            ],
            "source": [
                "time = 1\n",
                "while time <= 12:\n",
                "    print(f'{time} am')\n",
                "    time = time + 1\n",
                "time = 1\n",
                "while time <=12:\n",
                "    print(f'{time} pm')\n",
                "    time = time + 1"
            ]
        }
    ],
    "metadata": {
        "kernelspec": {
            "display_name": "Python 3",
            "language": "python",
            "name": "python3"
        },
        "language_info": {
            "codemirror_mode": {
                "name": "ipython",
                "version": 3
            },
            "file_extension": ".py",
            "mimetype": "text/x-python",
            "name": "python",
            "nbconvert_exporter": "python",
            "pygments_lexer": "ipython3",
            "version": "3.11.8"
        },
        "varInspector": {
            "cols": {
                "lenName": 16,
                "lenType": 16,
                "lenVar": 40
            },
            "kernels_config": {
                "python": {
                    "delete_cmd_postfix": "",
                    "delete_cmd_prefix": "del ",
                    "library": "var_list.py",
                    "varRefreshCmd": "print(var_dic_list())"
                },
                "r": {
                    "delete_cmd_postfix": ") ",
                    "delete_cmd_prefix": "rm(",
                    "library": "var_list.r",
                    "varRefreshCmd": "cat(var_dic_list()) "
                }
            },
            "types_to_exclude": [
                "module",
                "function",
                "builtin_function_or_method",
                "instance",
                "_Feature"
            ],
            "window_display": false
        },
        "vscode": {
            "interpreter": {
                "hash": "4f77c56a1733e9d421c3a053160f731a1cdaa61fcda062af7a855a05be992435"
            }
        }
    },
    "nbformat": 4,
    "nbformat_minor": 5
}
