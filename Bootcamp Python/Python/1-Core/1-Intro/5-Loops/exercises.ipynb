{
    "cells": [
        {
            "attachments": {},
            "cell_type": "markdown",
            "metadata": {},
            "source": [
                "# 5. Loops"
            ]
        },
        {
            "attachments": {},
            "cell_type": "markdown",
            "id": "f3d5c211",
            "metadata": {},
            "source": [
                "## 5.1 Exercise: Manual String Replacement\n",
                "\n",
                "Your tasked with writing a message vertically on the side of a rocket going to the moon. The string you have been given is coded: \n",
                "\n",
                "'`N4S4 4RT3MI5`'\n",
                "\n",
                "Replace the numbers with letters as follows and print the message vertically:\n",
                "\n",
                "- `3` -> `'E'`\n",
                "- `4` -> `'A'`\n",
                "- `5` -> `'S'`\n",
                "\n"
            ]
        },
        {
            "cell_type": "code",
            "execution_count": 8,
            "id": "1827b450",
            "metadata": {},
            "outputs": [
                {
                    "name": "stdout",
                    "output_type": "stream",
                    "text": [
                        "N\n",
                        "A\n",
                        "S\n",
                        "A\n",
                        " \n",
                        "A\n",
                        "R\n",
                        "T\n",
                        "E\n",
                        "M\n",
                        "I\n",
                        "S\n"
                    ]
                }
            ],
            "source": [
                "coded_string = 'N4S4 4RT3MI5'\n",
                "coded_string = coded_string.replace('3','E')\n",
                "coded_string = coded_string.replace('4','A')\n",
                "coded_string = coded_string.replace('5','S')\n",
                "for n in coded_string:\n",
                "    print(f'{n}')"
            ]
        },
        {
            "attachments": {},
            "cell_type": "markdown",
            "id": "fc50bf68",
            "metadata": {},
            "source": [
                "## 5.2 Exercise: Printing names and length of names\n",
                "\n",
                "Given the list of names `['Alice', 'Bob', 'Charlie']` print each name on a separate line, along with how many characters there are in the name, like so: \n",
                "\n",
                "```\n",
                "Alice has 5 characters\n",
                "Bob has 3 characters\n",
                "Charlie has 7 characters\n",
                "```"
            ]
        },
        {
            "cell_type": "code",
            "execution_count": 12,
            "metadata": {},
            "outputs": [
                {
                    "name": "stdout",
                    "output_type": "stream",
                    "text": [
                        "Alice has 5 characters\n",
                        "Bob has 3 characters\n",
                        "Charlie has 7 characters\n"
                    ]
                }
            ],
            "source": [
                "list_of_names = ['Alice', 'Bob', 'Charlie']\n",
                "for n in list_of_names:\n",
                "    print(f'{n} has {len(n)} characters')"
            ]
        },
        {
            "attachments": {},
            "cell_type": "markdown",
            "metadata": {},
            "source": [
                "## 5.3 Remove the Vowels\n",
                "\n",
                "### 5.3.1 Exercise: Print Vertical\n",
                "\n",
                "The phrase: `\"the quick brown fox jumped over the lazy dog\"` contains every letter in the alphabet.\n",
                "\n",
                "Print it out vertically without the vowels.\n",
                "\n",
                "### 5.3.2 Extension: Remove the Vowels (horizontal) *\n",
                "\n",
                "Print out the same str horizontally. Hint: Google the arguments of the print function.\n"
            ]
        },
        {
            "cell_type": "code",
            "execution_count": 20,
            "metadata": {},
            "outputs": [
                {
                    "name": "stdout",
                    "output_type": "stream",
                    "text": [
                        "['a', 'e', 'i', 'o', 'u']\n",
                        "t\n",
                        "h\n",
                        " \n",
                        "q\n",
                        "c\n",
                        "k\n",
                        " \n",
                        "b\n",
                        "r\n",
                        "w\n",
                        "n\n",
                        " \n",
                        "f\n",
                        "x\n",
                        " \n",
                        "j\n",
                        "m\n",
                        "p\n",
                        "d\n",
                        " \n",
                        "v\n",
                        "r\n",
                        " \n",
                        "t\n",
                        "h\n",
                        " \n",
                        "l\n",
                        "z\n",
                        "y\n",
                        " \n",
                        "d\n",
                        "g\n"
                    ]
                }
            ],
            "source": [
                "az_str = \"the quick brown fox jumped over the lazy dog\"\n",
                "vowels = ['a','e','i','o','u']\n",
                "print(vowels)\n",
                "for n in az_str:\n",
                "    if n not in vowels:\n",
                "        print(f'{n}')\n"
            ]
        },
        {
            "attachments": {},
            "cell_type": "markdown",
            "metadata": {},
            "source": [
                "## 5.4 Exercise: Printing Receipt *\n",
                "\n",
                "Given the `receipt_info` below, print out the receipt as follows:\n",
                "\n",
                "\n",
                "```\n",
                "Your Receipt:\n",
                "******************\n",
                "+ Apples -- $2.40\n",
                "------------\n",
                "+ Bananas -- $1.50\n",
                "------------\n",
                "+ Cherries -- $3.00\n",
                "------------\n",
                "+ Durian -- $5.20\n",
                "------------\n",
                "Total: $12.10\n",
                "******************\n",
                "Thanks for shopping with us!\n",
                "******************\n",
                "```\n",
                "\n",
                "Hint: If stuck on the number formatting, google it!"
            ]
        },
        {
            "cell_type": "code",
            "execution_count": 29,
            "metadata": {},
            "outputs": [
                {
                    "name": "stdout",
                    "output_type": "stream",
                    "text": [
                        "Your Receipt:\n",
                        "*************\n",
                        "+ Apples -- $2.40\n",
                        "----------------\n",
                        "+ Bananas -- $1.50\n",
                        "----------------\n",
                        "+ Cherries -- $3.00\n",
                        "----------------\n",
                        "+ Durian -- $5.20\n",
                        "----------------\n",
                        "Total: 12.100000000000001\n"
                    ]
                }
            ],
            "source": [
                "receipt_info = {'Apples': 2.40, 'Bananas': 1.50, 'Cherries': 3.00, 'Durian': 5.20}\n",
                "totcost = 0\n",
                "print('Your Receipt:')\n",
                "print('*************')\n",
                "for i in receipt_info:\n",
                "    print(f'+ {i} -- ${receipt_info[i]}0')\n",
                "    print('----------------')\n",
                "    totcost = totcost + receipt_info[i]\n",
                "print(f'Total: {totcost}')"
            ]
        },
        {
            "attachments": {},
            "cell_type": "markdown",
            "metadata": {},
            "source": [
                "## 5.5 Exercise: Printing up to the square *\n",
                "\n",
                "Given the list of numbers `1`-`6` saved in variable `x`, without using any other variables use loops to print every number up to 36.\n"
            ]
        },
        {
            "cell_type": "code",
            "execution_count": 9,
            "metadata": {},
            "outputs": [
                {
                    "name": "stdout",
                    "output_type": "stream",
                    "text": [
                        "1\n",
                        "2\n",
                        "3\n",
                        "4\n",
                        "5\n",
                        "6\n",
                        "7\n",
                        "8\n",
                        "9\n",
                        "10\n",
                        "11\n",
                        "12\n",
                        "13\n",
                        "14\n",
                        "15\n",
                        "16\n",
                        "17\n",
                        "18\n",
                        "19\n",
                        "20\n",
                        "21\n",
                        "22\n",
                        "23\n",
                        "24\n",
                        "25\n",
                        "26\n",
                        "27\n",
                        "28\n",
                        "29\n",
                        "30\n",
                        "31\n",
                        "32\n",
                        "33\n",
                        "34\n",
                        "35\n",
                        "36\n"
                    ]
                }
            ],
            "source": [
                "#TODO\n",
                "\n",
                "x = [1,2,3,4,5,6]\n",
                "num = 0 \n",
                "while num < 36:\n",
                "    num = num + 1\n",
                "    if num in x:\n",
                "        print(num)\n",
                "    else:\n",
                "        print(x[5]+(num-x[5]))\n",
                "    \n",
                "\n",
                "\n"
            ]
        },
        {
            "attachments": {},
            "cell_type": "markdown",
            "metadata": {},
            "source": [
                "## 5.6 Exercise: Un-nest the list *\n",
                "\n",
                "Given the list of lists `[[1,2,3], [4,5,6], [7,8,9]]` un-nest the numbers and print them out in the following formats:\n",
                "\n",
                "a) vertically\\\n",
                "b) horizontal\\\n",
                "c) num pad format\n",
                "\n",
                "Like so:\n",
                "\n",
                "```\n",
                "1\n",
                "2\n",
                "3\n",
                "4\n",
                "5\n",
                "6\n",
                "7\n",
                "8\n",
                "9\n",
                "***\n",
                "123456789\n",
                "***\n",
                "123\n",
                "456\n",
                "789\n",
                "```\n",
                "\n"
            ]
        },
        {
            "cell_type": "code",
            "execution_count": 19,
            "metadata": {},
            "outputs": [],
            "source": [
                "list_of_lists = [[1,2,3], [4,5,6], [7,8,9]]\n"
            ]
        }
    ],
    "metadata": {
        "kernelspec": {
            "display_name": "base",
            "language": "python",
            "name": "python3"
        },
        "language_info": {
            "codemirror_mode": {
                "name": "ipython",
                "version": 3
            },
            "file_extension": ".py",
            "mimetype": "text/x-python",
            "name": "python",
            "nbconvert_exporter": "python",
            "pygments_lexer": "ipython3",
            "version": "3.11.8"
        },
        "orig_nbformat": 4,
        "vscode": {
            "interpreter": {
                "hash": "54b57a9d7255aa9bd89013014712be1af3e9c0518087b34529522b12b0bc87de"
            }
        }
    },
    "nbformat": 4,
    "nbformat_minor": 2
}
