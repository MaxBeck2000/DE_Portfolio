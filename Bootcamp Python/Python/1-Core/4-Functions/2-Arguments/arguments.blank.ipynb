{
    "cells": [
        {
            "cell_type": "markdown",
            "metadata": {},
            "source": [
                "---\n",
                "# 2. Function Arguments\n",
                "---\n",
                "Return statements allow us to control the output of a function. Arguments (or Parameters) are the inputs to the function that allow us to control its behaviour.\n",
                "\n",
                "Strictly speaking, we refer to the inputs as parameters when we define the function and we refer to them as arguments when we call the function. But people also tend to use these definitions loosely and interchange one another. \n"
            ]
        },
        {
            "cell_type": "code",
            "execution_count": 4,
            "metadata": {},
            "outputs": [],
            "source": [
                "def get_kinetic_energy_one(input_tuple):\n",
                "    mass = input_tuple[0]\n",
                "    vel  = input_tuple[1]\n",
                "    return 0.5 * mass * vel**2\n"
            ]
        },
        {
            "cell_type": "code",
            "execution_count": 6,
            "metadata": {},
            "outputs": [],
            "source": [
                "def get_kinetic_energy_two(mass, vel):\n",
                "    return 0.5*mass*vel**2"
            ]
        },
        {
            "cell_type": "code",
            "execution_count": 5,
            "metadata": {},
            "outputs": [
                {
                    "data": {
                        "text/plain": [
                            "20.0"
                        ]
                    },
                    "execution_count": 5,
                    "metadata": {},
                    "output_type": "execute_result"
                }
            ],
            "source": [
                "get_kinetic_energy_one((10,2))"
            ]
        },
        {
            "cell_type": "code",
            "execution_count": 7,
            "metadata": {},
            "outputs": [
                {
                    "data": {
                        "text/plain": [
                            "20.0"
                        ]
                    },
                    "execution_count": 7,
                    "metadata": {},
                    "output_type": "execute_result"
                }
            ],
            "source": [
                "get_kinetic_energy_two(10,2)"
            ]
        },
        {
            "cell_type": "markdown",
            "metadata": {},
            "source": [
                "The above function `get_kinetic_energy` takes one argument, `input_tuple`. This is expected to contain two numbers, representing the mass and velocity of the particle. \n",
                "\n",
                "Another way to specify the arguments is to use a separate argument for each variable.\n",
                "\n",
                "For example, the above function can be rewritten to take two arguments `m` and `v` for mass and velocity respectively."
            ]
        },
        {
            "cell_type": "code",
            "execution_count": null,
            "metadata": {},
            "outputs": [],
            "source": []
        },
        {
            "cell_type": "code",
            "execution_count": null,
            "metadata": {},
            "outputs": [],
            "source": []
        },
        {
            "cell_type": "markdown",
            "metadata": {},
            "source": [
                "## 2.1 Positional and Keyword Arguments"
            ]
        },
        {
            "cell_type": "code",
            "execution_count": 8,
            "metadata": {},
            "outputs": [],
            "source": [
                "def my_func(a, b, c):\n",
                "    print(f'a is {a}')\n",
                "    print(f'b is {b}')\n",
                "    print(f'c is {c}')"
            ]
        },
        {
            "cell_type": "code",
            "execution_count": null,
            "metadata": {},
            "outputs": [],
            "source": []
        },
        {
            "cell_type": "markdown",
            "metadata": {},
            "source": [
                "### 2.1.1 Positional arguments\n",
                "Python will match the positions of the list of arguments (that provide as inputs when you call a function) with a list of parameters (that are part of the function definition)"
            ]
        },
        {
            "cell_type": "code",
            "execution_count": 10,
            "metadata": {},
            "outputs": [],
            "source": [
                "def my_func(a, b, c):\n",
                "    print(f'a is {a}')\n",
                "    print(f'b is {b}')\n",
                "    print(f'c is {c}')"
            ]
        },
        {
            "cell_type": "code",
            "execution_count": 9,
            "metadata": {},
            "outputs": [
                {
                    "name": "stdout",
                    "output_type": "stream",
                    "text": [
                        "a is 10\n",
                        "b is 20\n",
                        "c is 30\n"
                    ]
                }
            ],
            "source": [
                "my_func(10,20,30)"
            ]
        },
        {
            "cell_type": "code",
            "execution_count": 6,
            "metadata": {},
            "outputs": [],
            "source": []
        },
        {
            "cell_type": "code",
            "execution_count": 7,
            "metadata": {},
            "outputs": [],
            "source": []
        },
        {
            "cell_type": "code",
            "execution_count": null,
            "metadata": {},
            "outputs": [],
            "source": []
        },
        {
            "cell_type": "code",
            "execution_count": null,
            "metadata": {},
            "outputs": [],
            "source": []
        },
        {
            "cell_type": "code",
            "execution_count": null,
            "metadata": {},
            "outputs": [],
            "source": []
        },
        {
            "cell_type": "markdown",
            "metadata": {},
            "source": [
                "### 2.1.2 Keyword arguments\n",
                "Keyword (or named) arguments are passed into the function along with a parameter name"
            ]
        },
        {
            "cell_type": "code",
            "execution_count": null,
            "metadata": {},
            "outputs": [
                {
                    "name": "stdout",
                    "output_type": "stream",
                    "text": [
                        "a is 10\n",
                        "b is 20\n",
                        "c is 30\n"
                    ]
                }
            ],
            "source": [
                "my_func(a = 10, b = 20, c = 30)"
            ]
        },
        {
            "cell_type": "code",
            "execution_count": null,
            "metadata": {},
            "outputs": [],
            "source": [
                "my_func(c = 10, a = 30, b = 20)"
            ]
        },
        {
            "cell_type": "code",
            "execution_count": 3,
            "metadata": {},
            "outputs": [],
            "source": []
        },
        {
            "cell_type": "markdown",
            "metadata": {},
            "source": [
                "Another example function to illustrate positional and keyword arguments"
            ]
        },
        {
            "cell_type": "code",
            "execution_count": 12,
            "metadata": {},
            "outputs": [],
            "source": [
                "def get_sandwich(bread, filling, extra):\n",
                "    return f'{filling} on {bread} with {extra}'"
            ]
        },
        {
            "cell_type": "markdown",
            "metadata": {},
            "source": [
                "When we use positional arguments, the arguments (that we provide during the function call) are matched against the positions of the parameters (given in brackets in the function definition)"
            ]
        },
        {
            "cell_type": "code",
            "execution_count": 14,
            "metadata": {},
            "outputs": [
                {
                    "data": {
                        "text/plain": [
                            "'marmite on white bread with pepper'"
                        ]
                    },
                    "execution_count": 14,
                    "metadata": {},
                    "output_type": "execute_result"
                }
            ],
            "source": [
                "get_sandwich('white bread', 'marmite', 'pepper')"
            ]
        },
        {
            "cell_type": "markdown",
            "metadata": {},
            "source": [
                "When we use keyword arguments, Python uses keys of the arguments (that we provide during the function call) to match against the parameter names (given in brackets during the function definition)"
            ]
        },
        {
            "cell_type": "code",
            "execution_count": null,
            "metadata": {},
            "outputs": [],
            "source": [
                "get_sandwich(extra = 'pepper', filling = 'marmite', bread = 'white bread')"
            ]
        },
        {
            "cell_type": "markdown",
            "metadata": {},
            "source": [
                "### 2.1.3 Positional Arguments Precede Keyword Arguments\n",
                "\n",
                "When calling a function, the positional arguments must precede the keyword arguments:\n"
            ]
        },
        {
            "cell_type": "code",
            "execution_count": null,
            "metadata": {},
            "outputs": [],
            "source": [
                "my_func('Hello', c = '!', b = 'world')"
            ]
        },
        {
            "cell_type": "code",
            "execution_count": 5,
            "metadata": {},
            "outputs": [],
            "source": []
        },
        {
            "cell_type": "markdown",
            "metadata": {},
            "source": [
                "## 2.2 Default Arguments"
            ]
        },
        {
            "cell_type": "code",
            "execution_count": 17,
            "metadata": {},
            "outputs": [],
            "source": [
                "def greet(name, greetings = 'Hello'):\n",
                "    return f'{greetings}, {name}'"
            ]
        },
        {
            "cell_type": "code",
            "execution_count": 18,
            "metadata": {},
            "outputs": [
                {
                    "data": {
                        "text/plain": [
                            "'Oi oi, Max'"
                        ]
                    },
                    "execution_count": 18,
                    "metadata": {},
                    "output_type": "execute_result"
                }
            ],
            "source": [
                "greet('Max','Oi oi')"
            ]
        },
        {
            "cell_type": "code",
            "execution_count": 22,
            "metadata": {},
            "outputs": [
                {
                    "data": {
                        "text/plain": [
                            "'Hello, Max'"
                        ]
                    },
                    "execution_count": 22,
                    "metadata": {},
                    "output_type": "execute_result"
                }
            ],
            "source": [
                "greet('Max')"
            ]
        },
        {
            "cell_type": "code",
            "execution_count": 19,
            "metadata": {},
            "outputs": [
                {
                    "data": {
                        "text/plain": [
                            "'Alright, Max'"
                        ]
                    },
                    "execution_count": 19,
                    "metadata": {},
                    "output_type": "execute_result"
                }
            ],
            "source": [
                "greet('Max', 'Alright')"
            ]
        },
        {
            "cell_type": "code",
            "execution_count": 20,
            "metadata": {},
            "outputs": [],
            "source": [
                "def greet_without_default(name,greetings):\n",
                "    return f'{greetings}',{name}"
            ]
        },
        {
            "cell_type": "code",
            "execution_count": 21,
            "metadata": {},
            "outputs": [
                {
                    "ename": "TypeError",
                    "evalue": "greet_without_default() missing 1 required positional argument: 'greetings'",
                    "output_type": "error",
                    "traceback": [
                        "\u001b[1;31m---------------------------------------------------------------------------\u001b[0m",
                        "\u001b[1;31mTypeError\u001b[0m                                 Traceback (most recent call last)",
                        "Cell \u001b[1;32mIn[21], line 1\u001b[0m\n\u001b[1;32m----> 1\u001b[0m \u001b[43mgreet_without_default\u001b[49m\u001b[43m(\u001b[49m\u001b[38;5;124;43m'\u001b[39;49m\u001b[38;5;124;43mjimmy\u001b[39;49m\u001b[38;5;124;43m'\u001b[39;49m\u001b[43m)\u001b[49m\n",
                        "\u001b[1;31mTypeError\u001b[0m: greet_without_default() missing 1 required positional argument: 'greetings'"
                    ]
                }
            ],
            "source": [
                "greet_without_default('jimmy')"
            ]
        },
        {
            "cell_type": "code",
            "execution_count": null,
            "metadata": {},
            "outputs": [],
            "source": []
        },
        {
            "cell_type": "markdown",
            "metadata": {},
            "source": [
                "In Python, we can set the default value for an argument, by using the `=` assignment operator inside the argument list definition.\n",
                "- When we call the function *without* including that argument, then the default value is used. \n",
                "- When we call the function and we do specify a value for that argument, then this specified value is used instead."
            ]
        },
        {
            "cell_type": "code",
            "execution_count": 31,
            "metadata": {},
            "outputs": [],
            "source": [
                "def greet(name = 'bilbo', greetings = 'Hello'):\n",
                "    return f'{greetings}, {name}'"
            ]
        },
        {
            "cell_type": "code",
            "execution_count": 34,
            "metadata": {},
            "outputs": [
                {
                    "data": {
                        "text/plain": [
                            "'yo, pippin'"
                        ]
                    },
                    "execution_count": 34,
                    "metadata": {},
                    "output_type": "execute_result"
                }
            ],
            "source": [
                "greet('pippin','yo')"
            ]
        },
        {
            "cell_type": "code",
            "execution_count": 33,
            "metadata": {},
            "outputs": [
                {
                    "data": {
                        "text/plain": [
                            "'Hello, bilbo'"
                        ]
                    },
                    "execution_count": 33,
                    "metadata": {},
                    "output_type": "execute_result"
                }
            ],
            "source": [
                "greet()"
            ]
        },
        {
            "cell_type": "code",
            "execution_count": 32,
            "metadata": {},
            "outputs": [
                {
                    "data": {
                        "text/plain": [
                            "'Hello, HEEEEEEEEEEEEEEEEEEEEEEEEEEEEEEELLO'"
                        ]
                    },
                    "execution_count": 32,
                    "metadata": {},
                    "output_type": "execute_result"
                }
            ],
            "source": [
                "greet('HEEEEEEEEEEEEEEEEEEEEEEEEEEEEEEELLO')"
            ]
        },
        {
            "cell_type": "code",
            "execution_count": 35,
            "metadata": {},
            "outputs": [
                {
                    "data": {
                        "text/plain": [
                            "'HEEEEEEEEEEEEEEEEEEEEEEEEEEEEEEELLO, bilbo'"
                        ]
                    },
                    "execution_count": 35,
                    "metadata": {},
                    "output_type": "execute_result"
                }
            ],
            "source": [
                "greet(greetings = 'HEEEEEEEEEEEEEEEEEEEEEEEEEEEEEEELLO')"
            ]
        },
        {
            "cell_type": "code",
            "execution_count": null,
            "metadata": {},
            "outputs": [],
            "source": []
        },
        {
            "cell_type": "code",
            "execution_count": null,
            "metadata": {},
            "outputs": [],
            "source": []
        },
        {
            "cell_type": "code",
            "execution_count": null,
            "metadata": {},
            "outputs": [],
            "source": []
        },
        {
            "cell_type": "markdown",
            "metadata": {},
            "source": [
                "### 2.2.1 Order of Arguments with Default Values\n",
                "\n",
                "We can specify default values for as many of the arguments as we need. \n",
                "\n",
                "We can even specify default values for all of the arguments.\n",
                "\n",
                "However, all non-default arguments must occur before the default arguments: \n",
                "the default arguments must be positioned after the non-default arguments.\n",
                "\n",
                "```\n",
                "def my_function(a=1, b=2, c=3):  # ok\n",
                "    pass\n",
                "    \n",
                "def my_function(a, b=2, c=3):    # ok\n",
                "    pass \n",
                "    \n",
                "def my_function(a=1, b, c=3):    # NOT ok\n",
                "    pass \n",
                "```\n"
            ]
        },
        {
            "cell_type": "code",
            "execution_count": 36,
            "metadata": {},
            "outputs": [],
            "source": [
                "def my_func(a = 1, b = 2, c = 3):\n",
                "    return a+b+c"
            ]
        },
        {
            "cell_type": "code",
            "execution_count": null,
            "metadata": {},
            "outputs": [],
            "source": [
                "def my_func(a, b = 2, c = 3):\n",
                "    return a+b+c"
            ]
        },
        {
            "cell_type": "code",
            "execution_count": 37,
            "metadata": {},
            "outputs": [
                {
                    "ename": "SyntaxError",
                    "evalue": "non-default argument follows default argument (2930598013.py, line 1)",
                    "output_type": "error",
                    "traceback": [
                        "\u001b[1;36m  Cell \u001b[1;32mIn[37], line 1\u001b[1;36m\u001b[0m\n\u001b[1;33m    def my_func(a = 1, b, c = 3):\u001b[0m\n\u001b[1;37m                       ^\u001b[0m\n\u001b[1;31mSyntaxError\u001b[0m\u001b[1;31m:\u001b[0m non-default argument follows default argument\n"
                    ]
                }
            ],
            "source": [
                "def my_func(a = 1, b, c = 3):\n",
                "    return a+b+c"
            ]
        },
        {
            "attachments": {},
            "cell_type": "markdown",
            "metadata": {},
            "source": [
                "### 2.2.2 Concept Check: Default Arguments\n",
                "\n",
                "Write two functions, `get_coffee` and `get_tea`, that returns a string describing the beverage. Use function arguments to adjust the milk and sugar. Some example return strings are given below:\n",
                "\n",
                "```\n",
                "'black coffee with no sugar'\n",
                "'white tea with one sugar'\n",
                "'white coffee with three sugars'\n",
                "```\n",
                "\n",
                "If the `get_coffee` function is called without any arguments, it should return \n",
                "\n",
                "```\n",
                "'black coffee with no sugar'\n",
                "```\n",
                "\n",
                "If the `get_tea` function is called without any arguments, it should return \n",
                "\n",
                "```\n",
                "'white tea with no sugar'\n",
                "```\n",
                "\n",
                "Hint: You don't need to do any maths!"
            ]
        },
        {
            "cell_type": "code",
            "execution_count": 49,
            "metadata": {},
            "outputs": [
                {
                    "data": {
                        "text/plain": [
                            "'white coffee with two sugars'"
                        ]
                    },
                    "execution_count": 49,
                    "metadata": {},
                    "output_type": "execute_result"
                }
            ],
            "source": [
                "def get_coffee(milk = 'black', num_sugar = 'no'):\n",
                "    plural = 'sugar' if num_sugar == 'one' else 'sugars'\n",
                "    return f'{milk} coffee with {num_sugar} {plural}'\n",
                "\n",
                "get_coffee('white', 'two')"
            ]
        },
        {
            "cell_type": "code",
            "execution_count": 52,
            "metadata": {},
            "outputs": [
                {
                    "data": {
                        "text/plain": [
                            "'black tea with eight sugars'"
                        ]
                    },
                    "execution_count": 52,
                    "metadata": {},
                    "output_type": "execute_result"
                }
            ],
            "source": [
                "def get_tea(milk = 'white', num_sugar = 'no'):\n",
                "    plural = 'sugar' if num_sugar == 'one' else 'sugars'\n",
                "    return f'{milk} tea with {num_sugar} {plural}'\n",
                "\n",
                "get_tea('black', 'eight')"
            ]
        },
        {
            "attachments": {},
            "cell_type": "markdown",
            "metadata": {},
            "source": [
                "### 2.2.3 Keyword Arguments and Default Arguments\n",
                "\n",
                "A quick review of these concepts:\n",
                "- Default Arguments are included where the function is *defined*, e.g. `greetings='Hello'` assigns a default value for the argument `greetings`. \n",
                "- Keyword Arguments are written where the function is *called*, e.g. `extras='mustard'` will assign the value of `'mustard'` to the argument `extras`, this time the function is executed.\n",
                "\n",
                "Both keyword arguments and default arguments must be positioned after the regular positional arguments\n",
                "\n",
                "Keyword arguments work well with default arguments: a function may have many default values set up, and the user of the function can use keyword arguments to pick out only those values that they need to modify.\n",
                "\n",
                "This is shown in the example below:"
            ]
        },
        {
            "cell_type": "code",
            "execution_count": 53,
            "metadata": {},
            "outputs": [],
            "source": [
                "def plot(x, y, colour = 'black', style = 'solid', thickness = 1):\n",
                "    pass\n",
                "\n",
                "x_list = [1, 2, 3]\n",
                "y_list = [4, 5, 6]\n",
                "\n",
                "plot(x_list, y_list, 'blue', 'solid', 6)"
            ]
        },
        {
            "cell_type": "markdown",
            "metadata": {},
            "source": [
                "## 2.3 Mutable Arguments *\n",
                "\n",
                "\n",
                "If we use a mutable object as the argument for a function, then we can write statements inside that function that will change the objects' values. \n",
                "\n",
                "Like this:"
            ]
        },
        {
            "cell_type": "code",
            "execution_count": 60,
            "metadata": {},
            "outputs": [],
            "source": [
                "book = {'Monica': '089192873918273', 'Chandler':'0198230983'}"
            ]
        },
        {
            "cell_type": "code",
            "execution_count": 58,
            "metadata": {},
            "outputs": [],
            "source": [
                "\n",
                "\n",
                "def add_to_phone_book(name, number, arg_book):\n",
                "    if name not in arg_book:\n",
                "        arg_book[name] = number\n",
                "    return arg_book"
            ]
        },
        {
            "cell_type": "code",
            "execution_count": 61,
            "metadata": {},
            "outputs": [
                {
                    "name": "stdout",
                    "output_type": "stream",
                    "text": [
                        "{'Monica': '089192873918273', 'Chandler': '0198230983', 'Rachel': '1802983109238'}\n"
                    ]
                }
            ],
            "source": [
                "my_new_book = add_to_phone_book('Rachel','1802983109238', book)\n",
                "print(my_new_book)\n"
            ]
        },
        {
            "cell_type": "code",
            "execution_count": 62,
            "metadata": {
                "scrolled": true
            },
            "outputs": [
                {
                    "name": "stdout",
                    "output_type": "stream",
                    "text": [
                        "{'Monica': '089192873918273', 'Chandler': '0198230983', 'Rachel': '1802983109238'}\n"
                    ]
                }
            ],
            "source": [
                "print(book)"
            ]
        },
        {
            "cell_type": "code",
            "execution_count": 11,
            "metadata": {
                "scrolled": true
            },
            "outputs": [],
            "source": [
                "book = {'Monica': '089192873918273', 'Chandler':'0198230983'}"
            ]
        },
        {
            "cell_type": "code",
            "execution_count": 63,
            "metadata": {},
            "outputs": [],
            "source": [
                "def add_to_phone_book(name, number, arg_book):\n",
                "    new_book = arg_book.copy()\n",
                "    if name not in new_book:\n",
                "        new_book[name] = number\n",
                "    return new_book"
            ]
        },
        {
            "cell_type": "code",
            "execution_count": 64,
            "metadata": {},
            "outputs": [],
            "source": [
                "book = {'Monica': '089192873918273', 'Chandler':'0198230983'}\n",
                "\n",
                "my_newest_book = add_to_phone_book('racjel', '123123123123131', book)"
            ]
        },
        {
            "cell_type": "code",
            "execution_count": null,
            "metadata": {},
            "outputs": [],
            "source": []
        },
        {
            "cell_type": "code",
            "execution_count": null,
            "metadata": {},
            "outputs": [],
            "source": []
        },
        {
            "cell_type": "markdown",
            "metadata": {},
            "source": [
                "### 2.3.1 Pitfall: Avoid 'Side Effects' with Mutable Arguments *\n",
                "\n",
                "A function should only modify mutable arguments if this is intended and explicitly signalled to the user of the function.  "
            ]
        },
        {
            "cell_type": "code",
            "execution_count": 65,
            "metadata": {},
            "outputs": [],
            "source": [
                "def add_five(x):\n",
                "    return x + 5"
            ]
        },
        {
            "cell_type": "code",
            "execution_count": 66,
            "metadata": {},
            "outputs": [
                {
                    "name": "stdout",
                    "output_type": "stream",
                    "text": [
                        "1\n",
                        "6\n",
                        "1\n"
                    ]
                }
            ],
            "source": [
                "x = 1\n",
                "print(x)\n",
                "d = add_five(x)\n",
                "print(d)\n",
                "print(x)\n"
            ]
        },
        {
            "cell_type": "markdown",
            "metadata": {},
            "source": [
                "---\n",
                "### 2.3.2 Pitfall: Avoid Mutable Default Arguments *\n",
                "\n",
                "As a general rule: **Don't use a mutable object (like a list, or a dictionary) as a default argument.**\n",
                "\n",
                "If we use a mutable default argument, then we get odd results: Python creates the object just once (when it is defined) as opposed to each time it gets called (which is what we might expect). \n",
                "\n",
                "It is recommended that default arguments are immutable.\n",
                "\n",
                "---\n"
            ]
        },
        {
            "cell_type": "code",
            "execution_count": 67,
            "metadata": {},
            "outputs": [],
            "source": [
                "def append_to_list(x, my_list):\n",
                "    my_list.append(x)\n",
                "    return my_list"
            ]
        },
        {
            "cell_type": "code",
            "execution_count": 68,
            "metadata": {},
            "outputs": [
                {
                    "data": {
                        "text/plain": [
                            "[10]"
                        ]
                    },
                    "execution_count": 68,
                    "metadata": {},
                    "output_type": "execute_result"
                }
            ],
            "source": [
                "append_to_list(10,[])"
            ]
        },
        {
            "cell_type": "code",
            "execution_count": 69,
            "metadata": {},
            "outputs": [
                {
                    "data": {
                        "text/plain": [
                            "[10, 20, 30]"
                        ]
                    },
                    "execution_count": 69,
                    "metadata": {},
                    "output_type": "execute_result"
                }
            ],
            "source": [
                "append_to_list(30, [10, 20])"
            ]
        },
        {
            "cell_type": "code",
            "execution_count": 70,
            "metadata": {},
            "outputs": [],
            "source": [
                "def dodgy_append_to_list(x, my_list = []):\n",
                "    my_list.append(x)\n",
                "    return my_list\n",
                "    "
            ]
        },
        {
            "cell_type": "code",
            "execution_count": 71,
            "metadata": {},
            "outputs": [
                {
                    "data": {
                        "text/plain": [
                            "[20, 10]"
                        ]
                    },
                    "execution_count": 71,
                    "metadata": {},
                    "output_type": "execute_result"
                }
            ],
            "source": [
                "dodgy_append_to_list(10,[20])"
            ]
        },
        {
            "cell_type": "code",
            "execution_count": 72,
            "metadata": {},
            "outputs": [
                {
                    "data": {
                        "text/plain": [
                            "[10]"
                        ]
                    },
                    "execution_count": 72,
                    "metadata": {},
                    "output_type": "execute_result"
                }
            ],
            "source": [
                "dodgy_append_to_list(10)"
            ]
        },
        {
            "cell_type": "code",
            "execution_count": 73,
            "metadata": {
                "scrolled": true
            },
            "outputs": [
                {
                    "data": {
                        "text/plain": [
                            "[20, 10]"
                        ]
                    },
                    "execution_count": 73,
                    "metadata": {},
                    "output_type": "execute_result"
                }
            ],
            "source": [
                "dodgy_append_to_list(10, [20])"
            ]
        },
        {
            "cell_type": "code",
            "execution_count": 74,
            "metadata": {},
            "outputs": [
                {
                    "data": {
                        "text/plain": [
                            "[10, 10]"
                        ]
                    },
                    "execution_count": 74,
                    "metadata": {},
                    "output_type": "execute_result"
                }
            ],
            "source": [
                "dodgy_append_to_list(10)"
            ]
        },
        {
            "cell_type": "code",
            "execution_count": 75,
            "metadata": {},
            "outputs": [
                {
                    "data": {
                        "text/plain": [
                            "[10, 10, 20]"
                        ]
                    },
                    "execution_count": 75,
                    "metadata": {},
                    "output_type": "execute_result"
                }
            ],
            "source": [
                "dodgy_append_to_list(20)"
            ]
        },
        {
            "cell_type": "code",
            "execution_count": 77,
            "metadata": {},
            "outputs": [],
            "source": [
                "def nice_append_to_list(x, my_list = None):\n",
                "    if my_list is None:\n",
                "        my_list = []\n",
                "    my_list.append(x)\n",
                "    return my_list"
            ]
        },
        {
            "cell_type": "code",
            "execution_count": 78,
            "metadata": {},
            "outputs": [
                {
                    "data": {
                        "text/plain": [
                            "[90, 10]"
                        ]
                    },
                    "execution_count": 78,
                    "metadata": {},
                    "output_type": "execute_result"
                }
            ],
            "source": [
                "nice_append_to_list(10, [90])"
            ]
        },
        {
            "cell_type": "code",
            "execution_count": 79,
            "metadata": {},
            "outputs": [
                {
                    "data": {
                        "text/plain": [
                            "[10]"
                        ]
                    },
                    "execution_count": 79,
                    "metadata": {},
                    "output_type": "execute_result"
                }
            ],
            "source": [
                "nice_append_to_list(10)"
            ]
        }
    ],
    "metadata": {
        "kernelspec": {
            "display_name": "Python 3",
            "language": "python",
            "name": "python3"
        },
        "language_info": {
            "codemirror_mode": {
                "name": "ipython",
                "version": 3
            },
            "file_extension": ".py",
            "mimetype": "text/x-python",
            "name": "python",
            "nbconvert_exporter": "python",
            "pygments_lexer": "ipython3",
            "version": "3.11.8"
        },
        "varInspector": {
            "cols": {
                "lenName": 16,
                "lenType": 16,
                "lenVar": 40
            },
            "kernels_config": {
                "python": {
                    "delete_cmd_postfix": "",
                    "delete_cmd_prefix": "del ",
                    "library": "var_list.py",
                    "varRefreshCmd": "print(var_dic_list())"
                },
                "r": {
                    "delete_cmd_postfix": ") ",
                    "delete_cmd_prefix": "rm(",
                    "library": "var_list.r",
                    "varRefreshCmd": "cat(var_dic_list()) "
                }
            },
            "types_to_exclude": [
                "module",
                "function",
                "builtin_function_or_method",
                "instance",
                "_Feature"
            ],
            "window_display": false
        },
        "vscode": {
            "interpreter": {
                "hash": "4f77c56a1733e9d421c3a053160f731a1cdaa61fcda062af7a855a05be992435"
            }
        }
    },
    "nbformat": 4,
    "nbformat_minor": 2
}
