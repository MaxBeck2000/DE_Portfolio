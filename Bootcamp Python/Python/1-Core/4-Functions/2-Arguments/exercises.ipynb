{
    "cells": [
        {
            "cell_type": "markdown",
            "metadata": {},
            "source": [
                "# 2. Function Arguments"
            ]
        },
        {
            "cell_type": "markdown",
            "metadata": {},
            "source": [
                "## 2.1 Exercise: Add Numbers\n",
                "\n",
                "Write a function `add_numbers()` that takes two positional arguments, `x` and `y`, and returns their sum."
            ]
        },
        {
            "cell_type": "code",
            "execution_count": null,
            "metadata": {},
            "outputs": [],
            "source": []
        },
        {
            "attachments": {},
            "cell_type": "markdown",
            "metadata": {},
            "source": [
                "## 2.2 Exercise: Farewell\n",
                "\n",
                "Write a function `greet()` that takes two arguments, `name` and `greeting`, with greeting having a default value of \"Goodbye\". The function should return a message combining the name and greeting."
            ]
        },
        {
            "cell_type": "code",
            "execution_count": null,
            "metadata": {},
            "outputs": [],
            "source": []
        },
        {
            "cell_type": "markdown",
            "metadata": {},
            "source": [
                "## 2.3 Exercise: Describing a Person\n",
                "\n",
                "Write a function `describe_person()` that takes three arguments: a positional argument `name`, and two keyword arguments, `age` and `city`. `age` should have a default value of 30, and `city` should have a default value of \"Unknown\". The function should return a message with the person's name, age, and city.\n"
            ]
        },
        {
            "cell_type": "code",
            "execution_count": null,
            "metadata": {},
            "outputs": [],
            "source": []
        },
        {
            "cell_type": "markdown",
            "metadata": {},
            "source": [
                "## 2.4 Exercise: Managing a Shopping Cart *\n",
                "\n",
                "You are implementing a shopping cart feature for an e-commerce platform. You have a function that adds items to the cart, but it is faulty. Find and fix the issue.\n"
            ]
        },
        {
            "cell_type": "code",
            "execution_count": 3,
            "metadata": {},
            "outputs": [],
            "source": [
                "def add_item_to_cart(item, cart=[], quantity=1):\n",
                "    for i in range(quantity):\n",
                "        cart.append(item)\n",
                "    return cart\n"
            ]
        }
    ],
    "metadata": {
        "kernelspec": {
            "display_name": "Python 3",
            "language": "python",
            "name": "python3"
        },
        "language_info": {
            "codemirror_mode": {
                "name": "ipython",
                "version": 3
            },
            "file_extension": ".py",
            "mimetype": "text/x-python",
            "name": "python",
            "nbconvert_exporter": "python",
            "pygments_lexer": "ipython3",
            "version": "3.10.10"
        }
    },
    "nbformat": 4,
    "nbformat_minor": 2
}