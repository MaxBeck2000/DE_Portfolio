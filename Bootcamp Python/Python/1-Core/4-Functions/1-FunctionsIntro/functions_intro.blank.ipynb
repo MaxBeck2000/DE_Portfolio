{
    "cells": [
        {
            "cell_type": "markdown",
            "metadata": {},
            "source": [
                "---\n",
                "# 1. Introduction to Functions\n",
                "---\n",
                "\n",
                "## 1.1 Functions to Encapsulate Logic \n",
                "\n",
                "- Functions are used to encapsulate logic in our code. \n",
                "- They can be defined using the `def` statement. \n",
                "\n",
                "```\n",
                "def function_name(arg1, arg2, ...):\n",
                "    # body of the function\n",
                "    <statements>\n",
                "    <statements>\n",
                "    return <value>\n",
                "```\n",
                "\n",
                "`function_name` is the name of the function  \n",
                "`arg1, arg2, ...` is called parameters (inputs to the function)  \n",
                "`<value>` is the output of the function \n",
                "\n",
                "\n",
                "The example below shows some code written without using functions -- what do you think is the main problem with this type of code? "
            ]
        },
        {
            "cell_type": "code",
            "execution_count": 1,
            "metadata": {},
            "outputs": [
                {
                    "name": "stdout",
                    "output_type": "stream",
                    "text": [
                        "2.0\n",
                        "37.5\n",
                        "8.0\n",
                        "250.0\n"
                    ]
                }
            ],
            "source": [
                "# A world without functions.\n",
                "\n",
                "# Suppose we had some data - list of tuples.\n",
                "# First element in the tuple is the mass, and the second is the velocity.\n",
                "data = [(1,2), (3,5), (4,2), (20,5)]\n",
                "\n",
                "# For each data point, we want to calculate the kinetic energy.\n",
                "# kinetic_energy = 0.5 * mass * velocity**2\n",
                "\n",
                "mass1 = data[0][0]\n",
                "vel1  = data[0][1]\n",
                "ke1   = 0.5*mass1*vel1**2\n",
                "\n",
                "mass2 = data[1][0]\n",
                "vel2  = data[1][1]\n",
                "ke2   = 0.5*mass2*vel2**2\n",
                "\n",
                "mass3 = data[2][0]\n",
                "vel3  = data[2][1]\n",
                "ke3   = 0.5*mass3*vel3**2\n",
                "\n",
                "mass4 = data[3][0]\n",
                "vel4  = data[3][1]\n",
                "ke4   = 0.5*mass4*vel4**2\n",
                "\n",
                "print(ke1)\n",
                "print(ke2)\n",
                "print(ke3)\n",
                "print(ke4)\n"
            ]
        },
        {
            "attachments": {},
            "cell_type": "markdown",
            "metadata": {},
            "source": [
                "- One problem with the above code is that it involves a **lot of repetition**: the multiplication expression is repeated each time it is needed\n",
                "- This results in code that may be **hard to understand and hard to maintain** \n",
                "- The example below shows how the code can be **'refactored'** to extract this multiplication as a function, called `get_kinetic_energy`:"
            ]
        },
        {
            "cell_type": "code",
            "execution_count": 10,
            "metadata": {},
            "outputs": [
                {
                    "name": "stdout",
                    "output_type": "stream",
                    "text": [
                        "2.0\n",
                        "37.5\n",
                        "8.0\n",
                        "250.0\n"
                    ]
                }
            ],
            "source": [
                "data = [(1,2), (3,5), (4,2), (20,5)]\n",
                "\n",
                "def get_kinetic_energy(input_tuple):\n",
                "    mass = input_tuple[0]\n",
                "    velocity = input_tuple[1]\n",
                "    return 0.5*mass*velocity**2\n",
                "\n",
                "\n",
                "ke1 = get_kinetic_energy(data[0])\n",
                "ke2 = get_kinetic_energy(data[1])\n",
                "ke3 = get_kinetic_energy(data[2])\n",
                "ke4 = get_kinetic_energy(data[3])\n",
                "\n",
                "print(ke1)\n",
                "print(ke2)\n",
                "print(ke3)\n",
                "print(ke4)"
            ]
        },
        {
            "cell_type": "markdown",
            "metadata": {},
            "source": [
                "In the above example, the multiplication expression has been identified as a common factor, and encapsulated in the function named `get_kinetic_energy`.\n",
                "\n",
                "Below, this code has been re-written to iterate over the list of inputs, rather than use a separate statement to call the function for each tuple:"
            ]
        },
        {
            "cell_type": "code",
            "execution_count": 15,
            "metadata": {},
            "outputs": [
                {
                    "name": "stdout",
                    "output_type": "stream",
                    "text": [
                        "2.0\n",
                        "37.5\n",
                        "8.0\n",
                        "250.0\n"
                    ]
                }
            ],
            "source": [
                "data = [(1,2), (3,5), (4,2), (20,5)]\n",
                "\n",
                "def get_kinetic_energy(input_tuple):\n",
                "    mass = input_tuple[0]\n",
                "    velocity = input_tuple[1]\n",
                "    return 0.5*mass*velocity**2\n",
                "\n",
                "for tup in data:\n",
                "    print(get_kinetic_energy(tup))"
            ]
        },
        {
            "attachments": {},
            "cell_type": "markdown",
            "metadata": {},
            "source": [
                "#### Concept Check - Function refactoring\n",
                "\n",
                "The code cell below includes Python statements for logging the progress of a program as it opens a database (the actual database calls are not included).\n",
                "\n",
                "Can you define a function `log_to_file` which can then be called to perform the logging below?\n",
                "\n",
                "Hint: the function should take in a `filename` and a `message` as arguments, so a sensible function signature could be:\n",
                "```\n",
                "def log_to_file(file_to_write, message):\n",
                "    pass\n",
                "```"
            ]
        },
        {
            "cell_type": "code",
            "execution_count": null,
            "metadata": {},
            "outputs": [],
            "source": [
                "logfile = open('logfile.txt', 'a')\n",
                "logfile.write('just about to open database connection\\n')\n",
                "logfile.close()\n",
                "\n",
                "# (now open database)\n",
                "\n",
                "logfile = open('logfile.txt', 'a')\n",
                "logfile.write('just about to start data analysis\\n')\n",
                "logfile.close()\n",
                "\n",
                "# (now start data analysis)\n",
                "\n",
                "logfile = open('logfile.txt', 'a')\n",
                "logfile.write('just about to write data to database\\n')\n",
                "logfile.close()\n",
                "\n",
                "# (now write data to database)\n"
            ]
        },
        {
            "cell_type": "code",
            "execution_count": 17,
            "metadata": {},
            "outputs": [],
            "source": [
                "def log_to_file(file_to_write, message):\n",
                "    logfile = open(file_to_write, 'a')\n",
                "    logfile.write(message)\n",
                "    logfile.close()"
            ]
        },
        {
            "cell_type": "code",
            "execution_count": 21,
            "metadata": {},
            "outputs": [],
            "source": [
                "logfile = open('logfile.txt','w')\n",
                "logfile.write('The log file \\n\\n')\n",
                "logfile.close()\n"
            ]
        },
        {
            "cell_type": "code",
            "execution_count": 23,
            "metadata": {},
            "outputs": [],
            "source": [
                "log_to_file('logfile.txt','just about to open database connection\\n')\n",
                "log_to_file('logfile.txt','just about to start data analysis\\n')\n",
                "log_to_file('logfile.txt','just about to write data to database\\n')"
            ]
        },
        {
            "cell_type": "code",
            "execution_count": 27,
            "metadata": {},
            "outputs": [],
            "source": [
                "messages = [' just about to open database connection\\n'\n",
                "          , 'just about to start data analysis\\n'\n",
                "          , 'just about to write data to database\\n']\n",
                "for message in messages:\n",
                "    log_to_file('logfile.txt',message)"
            ]
        },
        {
            "attachments": {},
            "cell_type": "markdown",
            "metadata": {},
            "source": [
                "## 1.2 The `return` Statement\n",
                "\n",
                "When a python function is called, it will execute the lines defined in the function's code block. \n",
                "\n",
                "When it encounters a `return` statement, that's the end of this function call -- Python will return to the statement that made the function call, passing back the expression immediately following  the `return` statement (or `None`, if there is nothing following it).\n",
                "\n",
                "**NB: `return` and `print` are two completely different concepts in Python. Recall that `print` statements return nothing (or an object of type None)**\n"
            ]
        },
        {
            "cell_type": "code",
            "execution_count": 28,
            "metadata": {},
            "outputs": [],
            "source": [
                "def return_example():\n",
                "    print('in a function call')\n",
                "    x = 2\n",
                "    return x\n",
                "    x = 7\n",
                "    print(x)"
            ]
        },
        {
            "cell_type": "code",
            "execution_count": 31,
            "metadata": {},
            "outputs": [
                {
                    "name": "stdout",
                    "output_type": "stream",
                    "text": [
                        "in a function call\n",
                        "2\n"
                    ]
                }
            ],
            "source": [
                "output_return_example = return_example()\n",
                "print(output_return_example)"
            ]
        },
        {
            "cell_type": "code",
            "execution_count": 32,
            "metadata": {
                "scrolled": true
            },
            "outputs": [],
            "source": [
                "def return_example():\n",
                "    print('in a function call')\n",
                "    x = 2\n",
                "    return x\n",
                "    return ' hello'"
            ]
        },
        {
            "cell_type": "code",
            "execution_count": 33,
            "metadata": {},
            "outputs": [
                {
                    "name": "stdout",
                    "output_type": "stream",
                    "text": [
                        "in a function call\n"
                    ]
                },
                {
                    "data": {
                        "text/plain": [
                            "2"
                        ]
                    },
                    "execution_count": 33,
                    "metadata": {},
                    "output_type": "execute_result"
                }
            ],
            "source": [
                "return_example()"
            ]
        },
        {
            "cell_type": "code",
            "execution_count": 3,
            "metadata": {},
            "outputs": [],
            "source": []
        },
        {
            "cell_type": "code",
            "execution_count": null,
            "metadata": {},
            "outputs": [],
            "source": []
        },
        {
            "cell_type": "code",
            "execution_count": null,
            "metadata": {},
            "outputs": [],
            "source": []
        },
        {
            "attachments": {},
            "cell_type": "markdown",
            "metadata": {},
            "source": [
                "In the above example, the value `100` is returned. \n",
                "\n",
                "Let's consider an example where there is no return statement"
            ]
        },
        {
            "cell_type": "code",
            "execution_count": 35,
            "metadata": {},
            "outputs": [],
            "source": [
                "def no_return_example():\n",
                "    x = 1"
            ]
        },
        {
            "cell_type": "code",
            "execution_count": 36,
            "metadata": {},
            "outputs": [],
            "source": [
                "my_output = no_return_example()"
            ]
        },
        {
            "cell_type": "code",
            "execution_count": 37,
            "metadata": {},
            "outputs": [
                {
                    "name": "stdout",
                    "output_type": "stream",
                    "text": [
                        "None\n"
                    ]
                }
            ],
            "source": [
                "print(my_output)"
            ]
        },
        {
            "cell_type": "code",
            "execution_count": 7,
            "metadata": {},
            "outputs": [],
            "source": []
        },
        {
            "cell_type": "markdown",
            "metadata": {},
            "source": [
                "The string inside the `print` function is **printed** when the function is called. But the value **returned** by the function is actually None. This is seen when we try and print the `return_value`. "
            ]
        },
        {
            "cell_type": "markdown",
            "metadata": {},
            "source": [
                "You can also return multiple values from a function. "
            ]
        },
        {
            "cell_type": "code",
            "execution_count": 38,
            "metadata": {},
            "outputs": [],
            "source": [
                "def multiple_return():\n",
                "    a = 1\n",
                "    b = 2\n",
                "    my_list = [1, 2, 3]\n",
                "    return a, b, my_list\n"
            ]
        },
        {
            "cell_type": "code",
            "execution_count": 39,
            "metadata": {},
            "outputs": [
                {
                    "data": {
                        "text/plain": [
                            "2"
                        ]
                    },
                    "execution_count": 39,
                    "metadata": {},
                    "output_type": "execute_result"
                }
            ],
            "source": [
                "my_output = multiple_return()\n",
                "my_output[1]"
            ]
        },
        {
            "cell_type": "markdown",
            "metadata": {},
            "source": [
                "We can also assign this returned tuple to a single named variable: "
            ]
        },
        {
            "cell_type": "code",
            "execution_count": 40,
            "metadata": {},
            "outputs": [
                {
                    "name": "stdout",
                    "output_type": "stream",
                    "text": [
                        "1\n",
                        "2\n",
                        "[1, 2, 3]\n"
                    ]
                }
            ],
            "source": [
                "a, b, c = multiple_return()\n",
                "print(a)\n",
                "print(b)\n",
                "print(c)"
            ]
        },
        {
            "cell_type": "markdown",
            "metadata": {},
            "source": [
                "We can also unpack the returned tuple into different variables"
            ]
        },
        {
            "cell_type": "code",
            "execution_count": 41,
            "metadata": {},
            "outputs": [],
            "source": [
                "def what_is_smaller(a,b):\n",
                "    if a < b:\n",
                "        return a\n",
                "    else:\n",
                "        return b\n",
                "    "
            ]
        },
        {
            "cell_type": "markdown",
            "metadata": {},
            "source": [
                "A function will only execute one `return` statement. But it is possible to return different values by placing them in conditional blocks"
            ]
        },
        {
            "cell_type": "code",
            "execution_count": 43,
            "metadata": {},
            "outputs": [
                {
                    "data": {
                        "text/plain": [
                            "2"
                        ]
                    },
                    "execution_count": 43,
                    "metadata": {},
                    "output_type": "execute_result"
                }
            ],
            "source": [
                "what_is_smaller(10,2)"
            ]
        },
        {
            "cell_type": "code",
            "execution_count": null,
            "metadata": {},
            "outputs": [],
            "source": []
        },
        {
            "cell_type": "code",
            "execution_count": null,
            "metadata": {},
            "outputs": [],
            "source": []
        },
        {
            "cell_type": "code",
            "execution_count": null,
            "metadata": {},
            "outputs": [],
            "source": []
        },
        {
            "cell_type": "markdown",
            "metadata": {},
            "source": [
                "Question: What happens if you put a `return` statement inside a loop in a function? "
            ]
        },
        {
            "cell_type": "code",
            "execution_count": 47,
            "metadata": {},
            "outputs": [],
            "source": [
                "def my_func(list_of_ints):\n",
                "    new_list = []\n",
                "    for num in list_of_ints:\n",
                "        new_list.append(num*2)\n",
                "\n",
                "\n",
                "    return new_list"
            ]
        },
        {
            "cell_type": "code",
            "execution_count": 48,
            "metadata": {},
            "outputs": [
                {
                    "data": {
                        "text/plain": [
                            "[2, 4, 6, 8, 10]"
                        ]
                    },
                    "execution_count": 48,
                    "metadata": {},
                    "output_type": "execute_result"
                }
            ],
            "source": [
                "my_func([1, 2, 3, 4, 5])"
            ]
        },
        {
            "cell_type": "code",
            "execution_count": null,
            "metadata": {},
            "outputs": [],
            "source": []
        },
        {
            "cell_type": "code",
            "execution_count": null,
            "metadata": {},
            "outputs": [],
            "source": []
        }
    ],
    "metadata": {
        "kernelspec": {
            "display_name": "Python 3",
            "language": "python",
            "name": "python3"
        },
        "language_info": {
            "codemirror_mode": {
                "name": "ipython",
                "version": 3
            },
            "file_extension": ".py",
            "mimetype": "text/x-python",
            "name": "python",
            "nbconvert_exporter": "python",
            "pygments_lexer": "ipython3",
            "version": "3.11.8"
        },
        "varInspector": {
            "cols": {
                "lenName": 16,
                "lenType": 16,
                "lenVar": 40
            },
            "kernels_config": {
                "python": {
                    "delete_cmd_postfix": "",
                    "delete_cmd_prefix": "del ",
                    "library": "var_list.py",
                    "varRefreshCmd": "print(var_dic_list())"
                },
                "r": {
                    "delete_cmd_postfix": ") ",
                    "delete_cmd_prefix": "rm(",
                    "library": "var_list.r",
                    "varRefreshCmd": "cat(var_dic_list()) "
                }
            },
            "types_to_exclude": [
                "module",
                "function",
                "builtin_function_or_method",
                "instance",
                "_Feature"
            ],
            "window_display": false
        },
        "vscode": {
            "interpreter": {
                "hash": "4f77c56a1733e9d421c3a053160f731a1cdaa61fcda062af7a855a05be992435"
            }
        }
    },
    "nbformat": 4,
    "nbformat_minor": 2
}
