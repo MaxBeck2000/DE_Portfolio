{
    "cells": [
        {
            "attachments": {},
            "cell_type": "markdown",
            "metadata": {},
            "source": [
                "# 1. Advanced Functions"
            ]
        },
        {
            "attachments": {},
            "cell_type": "markdown",
            "metadata": {},
            "source": [
                "## 1.1 Exercise: How many vowels ? \n",
                "\n",
                "Write a function named `count_vowels` in Python that takes a string as an input (argument named `string`) and returns the number of vowels in the string"
            ]
        },
        {
            "cell_type": "code",
            "execution_count": 7,
            "metadata": {},
            "outputs": [
                {
                    "data": {
                        "text/plain": [
                            "16"
                        ]
                    },
                    "execution_count": 7,
                    "metadata": {},
                    "output_type": "execute_result"
                }
            ],
            "source": [
                "def count_vowels(string):\n",
                "    count = 0\n",
                "    vowels = ('a','e','i','o','u')\n",
                "    for n in string:\n",
                "        if n in vowels:\n",
                "            count = count + 1\n",
                "    return count\n",
                "\n",
                "#for example \n",
                "#count_vowels('hello') #should return 2 \n",
                "count_vowels('Supercalifragilisticexpialidocious')\n"
            ]
        },
        {
            "attachments": {},
            "cell_type": "markdown",
            "metadata": {},
            "source": [
                "## 1.2 Exercise: Restricted Addition \n",
                "\n",
                "Write a function names `sum_even` in Python that takes a list of numbers (argument named `numbers`) as an input and returns the sum of the even numbers in the list"
            ]
        },
        {
            "cell_type": "code",
            "execution_count": 21,
            "metadata": {},
            "outputs": [],
            "source": [
                "#for example \n",
                "#sum_even([1,2,3,4,5]) # should return 6\n"
            ]
        },
        {
            "attachments": {},
            "cell_type": "markdown",
            "metadata": {},
            "source": [
                "## 1.3 Exercise: Caveated List *\n",
                "\n",
                "Write a function named `long_words` in Python that takes a list of words as an input (argument named `words`) and returns a new list with only the words that have more than 5 characters."
            ]
        },
        {
            "cell_type": "code",
            "execution_count": 23,
            "metadata": {},
            "outputs": [],
            "source": [
                "#for example \n",
                "#long_words(['hello','because','dog','discombobulated']) #this should return ['because', 'discombobulated']\n"
            ]
        },
        {
            "attachments": {},
            "cell_type": "markdown",
            "metadata": {},
            "source": [
                "## 1.4 Exercise: Caveated Dictionary **\n",
                "\n",
                " Write a function named `filter_by_value` in Python that takes a list of dictionaries as an input and returns a new list of dictionaries that contains only the dictionaries that have a specific value for a given key.\n",
                "\n",
                " Three arguments are needed for this function named `list_of_dicts`, `key` and `value`.\n",
                "\n",
                " For example the following code will return a list containing only the dictionaries that have an age of 25.\n",
                "\n",
                "```python\n",
                "\n",
                "list_of_dict = [{'name':'alice','age':25},{'name':'Bob','age':30},{'name':'Charlie','age':25}]\n",
                "filter_by_value(list_of_dict, 'age', 25)\n",
                "\n",
                "\n"
            ]
        },
        {
            "cell_type": "code",
            "execution_count": 25,
            "metadata": {},
            "outputs": [],
            "source": [
                "#for example \n",
                "#list_of_dict = [{'name':'alice','age':25},{'name':'Bob','age':30},{'name':'Charlie','age':25}]\n",
                "#filter_by_value(list_of_dict, 'age', 25) #should return [{'name': 'alice', 'age': 25}, {'name': 'Charlie', 'age': 25}]\n"
            ]
        },
        {
            "attachments": {},
            "cell_type": "markdown",
            "metadata": {},
            "source": [
                "## 1.5 Calculating Tax Continued...\n",
                "\n",
                "### 1.5.1 Exercise: Wrap past solution in a function\n",
                "\n",
                "In the exercises for `3-Structure/2-Conditions`, you wrote a short program that calculates the income tax paid by the UK tax payer on their annual salary.\n",
                "\n",
                "An example solution is shown below, convert it into a `calculate_tax` function that accepts a single argument `salary` (in £1000s).\n",
                "\n",
                "Calling our function should have the following results:\n",
                "\n",
                "- `calculate_tax(12.5)` returns `£0 k tax`\n",
                "- `calculate_tax(15)` returns `£0.5 k tax`\n",
                "- `calculate_tax(30)` returns `£3.5 tax`\n",
                "- `calculate_tax(55)` returns `£9.5 tax`\n",
                "\n",
                "### 1.5.2 Extension: Changing tax bands *\n",
                "\n",
                "Every year the UK government moves the 20% and 40% income tax bands impacting the amount of tax paid by an individual.\n",
                "\n",
                "Turn the tax bands into arguments so that they can change and we don't have to change them in the function.\n",
                "\n",
                "Calling our function should have the following results:\n",
                "\n",
                "`calculate_tax_ext1(55, 12.5, 50)` returns `£9.5 tax` \n",
                "\n",
                "which matches our previous result, but if the tax bands change to increase tax for the same salary:\n",
                "\n",
                "`calculate_tax_ext1(55, 10, 45)` returns `£11 k tax`\n",
                "\n",
                "Check the input to make sure the `tax_band_20` band is lower than the `tax_band_40`, raise a `ValueError` with a helpful message if this is not the case.\n",
                "\n",
                "### 1.5.3 Extension: Adding a tax band **\n",
                "\n",
                "Add another higher rate tax band of 45%. We should now have 3 tax bands:\n",
                "\n",
                "- `tax_band_20`\n",
                "- `tax_band_40`\n",
                "- `tax_band_45`\n",
                "\n",
                "Calling our function with the following:\n",
                "\n",
                "\n",
                "- `calculate_tax_ext2(55, 12.5, 50, 120) ` returns `£9.5 k tax` as before\n",
                "- `calculate_tax_ext2(115, 12.5, 50, 120) ` returns `£33.5 k tax`\n",
                "- `calculate_tax_ext2(125, 12.5, 50, 120) ` returns `£37.75 k tax`\n",
                "\n",
                "\n",
                "Again, check the input to make sure that as the tax percentage increases, the tax band increases as well and raise a `ValueError` with a helpful message if this is not the case.\n"
            ]
        },
        {
            "cell_type": "code",
            "execution_count": null,
            "metadata": {},
            "outputs": [],
            "source": [
                "# Example solution from previous exercise\n",
                "salary = float(input('Please enter your salary in $1000s: '))\n",
                "tax = 0\n",
                "if salary > 12.5:\n",
                "\n",
                "    if salary <= 50:\n",
                "        tax = 0.2 * (salary - 12.5)\n",
                "\n",
                "    elif salary > 50:\n",
                "        lowtax = 0.2 * (50 - 12.5)\n",
                "        hightax = 0.4 * (salary - 50)\n",
                "        tax = lowtax + hightax\n",
                "\n",
                "print(tax)\n"
            ]
        },
        {
            "cell_type": "code",
            "execution_count": 7,
            "metadata": {},
            "outputs": [],
            "source": []
        },
        {
            "cell_type": "code",
            "execution_count": 29,
            "metadata": {},
            "outputs": [],
            "source": []
        },
        {
            "cell_type": "code",
            "execution_count": 43,
            "metadata": {},
            "outputs": [],
            "source": []
        },
        {
            "attachments": {},
            "cell_type": "markdown",
            "metadata": {},
            "source": [
                "## 1.6 Exercise: Calculating Distance Traveled *\n",
                "\n",
                "You are given the speed of a car in miles per hour and the time it took to travel a certain distance. Write a function calc_distance that takes two arguments:\n",
                "\n",
                "- speed: an integer representing the speed of the car in miles per hour\n",
                "- time: an integer representing the time in hours that it took the car to travel the distance\n",
                "\n",
                "The function should return the distance traveled by the car in miles. If either speed is not an integer or time is not an integer, the function should return an error message. If either speed is not positive or time is not positive, the function should return an error message.\n",
                "\n",
                "Use the formula `distance = speed * time` to calculate the distance traveled.\n",
                "\n",
                "Here is an example of how the function should behave:\n",
                "\n",
                "`calc_distance(60, 2)`\\\n",
                "\"The car traveled 120 miles.\"\n",
                "\n",
                "`calc_distance(50, -3)`\\\n",
                "\"Invalid input. Speed and time must be positive integers.\"\n",
                "\n",
                "`calc_distance(\"fast\", 4)`\\\n",
                "\"Invalid input. Speed and time must be integers.\""
            ]
        },
        {
            "cell_type": "code",
            "execution_count": null,
            "metadata": {},
            "outputs": [],
            "source": []
        },
        {
            "attachments": {},
            "cell_type": "markdown",
            "metadata": {},
            "source": [
                "## 1.7 Exercise: Flying a Plane *\n",
                "\n",
                "You are the pilot of a small plane and you need to determine whether it is safe to fly at a given altitude in the current weather conditions. Write a function fly_plane that takes two arguments:\n",
                "\n",
                "- altitude: an integer representing the altitude in feet that the plane is flying at\n",
                "- weather: a string representing the current weather conditions (either \"clear\", \"cloudy\", or \"stormy\")\n",
                "\n",
                "The function should return a message indicating whether it is safe to fly the plane at the given altitude in the current weather conditions. If either altitude is not an integer or weather is not a string, the function should raise an error if this is the case.\n",
                "\n",
                "Use the following guidelines to determine whether it is safe to fly the plane:\n",
                "\n",
                "If the altitude is above 10000 feet and the weather is \"clear\", it is safe to fly the plane.\n",
                "If the altitude is above 5000 feet and the weather is \"cloudy\", it is safe to fly the plane, but it is not recommended.\n",
                "For all other conditions, it is not safe to fly the plane.\n",
                "Here is an example of how the function should behave:\n",
                "\n",
                "`fly_plane(15000, \"clear\")`\\\n",
                "\"Plane can safely fly at this altitude in clear weather.\"\n",
                "\n",
                "`fly_plane(8000, \"cloudy\")`\\\n",
                "\"Plane can fly at this altitude in cloudy weather, but it is not recommended.\"\n",
                "\n",
                "`fly_plane(4000, \"stormy\")`\\\n",
                "\"Plane should not fly at this altitude in the current weather conditions.\"\n",
                "\n",
                "`fly_plane(\"high\", \"clear\")`\\\n",
                "\"Invalid input. Altitude must be an integer and weather must be a string.\"\n"
            ]
        },
        {
            "cell_type": "code",
            "execution_count": 1,
            "metadata": {},
            "outputs": [],
            "source": []
        },
        {
            "attachments": {},
            "cell_type": "markdown",
            "metadata": {},
            "source": [
                "## 1.8 Exercise: Combine Address Books **\n",
                "\n",
                "Write a function called combine_address_books, that accepts two arguments (`address_book1` and `address_book2`): each being an 'address book' dictionary in which the keys are the names and the values are the phone numbers (stored as strings). \n",
                "\n",
                "The function should return a tuple of dictionaries that also represent  address books (that also contain name and number strings):\n",
                "\n",
                "- `combined_book`: The first returned address book contains all the elements in the first input address book, additionally with all names and numbers in the second address book that aren't already in the first address book. \n",
                "- `remainder_book`: The second returned address book contains those names and numbers of the second address book that weren't able to be added to the first returned element. This way if there are duplicate names across both address books that represent different people with a shared name, then the duplicate name in the second address book is not lost.\n",
                "\n",
                "Example, let's say these are our address books:\\\n",
                "`address_book1 = {'Gareth': '123', 'Sarah': '456', 'Simon': 789}`\\\n",
                "`address_book2 = {'Mirela': '321', 'Holly': '564', 'Simon': 879}`\n",
                "\n",
                "Then calling `combine_address_book` would return the following\n",
                "\n",
                "`combined_book`: `{'Gareth': '123', 'Sarah': '456', 'Simon': 789, 'Mirela': '321', 'Holly': '564'}`\n",
                "`remainder_book`: `{'Simon': 789}`\n",
                "\n",
                "As here, the duplicate \"Simon\"s represent different people."
            ]
        },
        {
            "cell_type": "code",
            "execution_count": 2,
            "metadata": {},
            "outputs": [],
            "source": []
        },
        {
            "attachments": {},
            "cell_type": "markdown",
            "metadata": {},
            "source": [
                "## 1.9 Exercise: Clean Up Address Book **\n",
                "\n",
                "Write a function called `clean_up_address_book`, that accepts a single argument: an 'address book' dictionary in which the keys are the names and the values are the numbers (stored as strings). The function should return a new dictionary, holding the names and numbers as the original, except that: \n",
                "\n",
                "- all names should be in title case\n",
                "- all numbers should be stored as strings (not integers), \n",
                "- if there are eight or more digits in the number, there should be a single space before the last six digits."
            ]
        },
        {
            "cell_type": "code",
            "execution_count": null,
            "metadata": {},
            "outputs": [],
            "source": []
        },
        {
            "attachments": {},
            "cell_type": "markdown",
            "metadata": {},
            "source": [
                "## 1.10 Exercise: Un-nesting with returns **\n",
                "\n",
                "We saw in an earlier exercise what was required for a person to fly rockets for NASA. A reminder of the conditions:\n",
                "\n",
                "> In order to fly test rockets for NASA, a person need to have a pilots license, and be born in America.\n",
                ">\n",
                "> In the U.S. a person can legally obtained a pilot's license at the age of 18.\n",
                "\n",
                "Below is a function that tells a user whether they can fly test rockets and if not, if they can do anything to become eligible (i.e. grow up or earn their pilots license).\n",
                "\n",
                "It was briefly mentioned when learning about nested ifs in `3-Structure/2-Conditions` that too much nesting can make a solution more convoluted. Can you re-write the function using return statements to make it so none of the `if` statements are nested?"
            ]
        },
        {
            "cell_type": "markdown",
            "metadata": {},
            "source": [
                "### 1.10.1"
            ]
        },
        {
            "cell_type": "code",
            "execution_count": null,
            "metadata": {},
            "outputs": [],
            "source": [
                "def can_i_fly_rockets_for_nasa(age, has_pilots_license, born_in_us):\n",
                "    statement = None\n",
                "    if born_in_us == False:\n",
                "        statement = \"Sorry you can never fly rockets for NASA\"\n",
                "    else:\n",
                "        if age < 18:\n",
                "            statement = \"You need to wait until you are 18 and earn your pilots license before you can fly rockets for NASA.\"\n",
                "        else:\n",
                "            if has_pilots_license == False:\n",
                "                statement = \"You need to earn your pilot's license before you can fly rockets for NASA.\"\n",
                "            else:\n",
                "                statement = \"You can fly rockets!\"\n",
                "\n",
                "    return statement\n",
                "\n",
                "print(can_i_fly_rockets_for_nasa(18, True, True))\n",
                "\n",
                "def can_i_fly_rockets_for_nasa(age, has_pilots_license, born_in_us):\n",
                "    \n",
                "    if born_in_us == False:\n",
                "        return \"Sorry you can never fly rockets for NASA\"\n",
                "\n",
                "    if age < 18:\n",
                "        return \"You need to wait until you are 18 and earn your pilots license before you can fly rockets for NASA.\"\n",
                "    \n",
                "    if has_pilots_license == False:\n",
                "        return \"You need to earn your pilot's license before you can fly rockets for NASA.\"\n",
                "\n",
                "    return \"You can fly rockets!\"\n",
                "print(can_i_fly_rockets_for_nasa(18, True, True))\n"
            ]
        },
        {
            "attachments": {},
            "cell_type": "markdown",
            "metadata": {},
            "source": [
                "## 1.11 Exercise: Printing a directory structure **\n",
                "\n",
                "In a previous exercise we produced a list of all the Python units from a list of paths. This is saved below in a variable called `all_python_units`.\n",
                "\n",
                "\n",
                "Create a function `draw_tree` that accepts this list as an argument, and prints out the directory structure in the following format:\n",
                "\n",
                "```\n",
                "|-- 1-Intro\n",
                "|     |-- 0-GettingStarted\n",
                "|     |-- 1-Variables\n",
                "|     |-- 2-Strings\n",
                "|     |-- 3-Containers\n",
                "|     |-- 4-Conditions\n",
                "|     |-- 5-Loops\n",
                "|     |-- 6-FunctionsAndMethods\n",
                "|     |-- 7-Files\n",
                "|     |-- 8-Modules\n",
                "|     |-- 9-StatementsConventionsScope\n",
                "|-- 2-Types\n",
                "|     |-- 1-IdentityTypeValue\n",
                "|     |-- 2-Mutability\n",
                "|     |-- 3-DataTypes\n",
                "|     |-- 4-ListsAndTuples\n",
                "|     |-- 5-DictsAndSets\n",
                "|     |-- 6-Sequences\n",
                "|     |-- 7-DataTypeConversions\n",
                "|     |-- 8-DataManipulationPractice\n",
                "|-- 3-Structure\n",
                "|     |-- 1-Logic\n",
                "|     |-- 2-Conditions\n",
                "|     |-- 3-Loops\n",
                "|     |-- 4-Exceptions\n",
                "|-- 4-Functions\n",
                "|     |-- 1-FunctionsIntro\n",
                "|     |-- 2-Arguments\n",
                "|     |-- 3-Scope\n",
                "|-- 5-ObjectOrientedProgramming\n",
                "|     |-- 1-Classes-Intro\n",
                "```"
            ]
        },
        {
            "cell_type": "code",
            "execution_count": null,
            "metadata": {},
            "outputs": [],
            "source": [
                "all_python_units = ['1-Intro.0-GettingStarted', '1-Intro.1-Variables', '1-Intro.2-Strings', '1-Intro.3-Containers', '1-Intro.4-Conditions', '1-Intro.5-Loops', '1-Intro.6-FunctionsAndMethods', '1-Intro.7-Files', '1-Intro.8-Modules', '1-Intro.9-StatementsConventionsScope', '2-Types.1-IdentityTypeValue', '2-Types.2-Mutability', '2-Types.3-DataTypes', '2-Types.4-ListsAndTuples', '2-Types.5-DictsAndSets', '2-Types.6-Sequences', '2-Types.7-DataTypeConversions', '2-Types.8-DataManipulationPractice', '3-Structure.1-Logic', '3-Structure.2-Conditions', '3-Structure.3-Loops', '3-Structure.4-Exceptions', '4-Functions.1-FunctionsIntro', '4-Functions.2-Arguments', '4-Functions.3-Scope', '5-ObjectOrientedProgramming.1-Classes-Intro']\n"
            ]
        }
    ],
    "metadata": {
        "kernelspec": {
            "display_name": "Python 3",
            "language": "python",
            "name": "python3"
        },
        "language_info": {
            "codemirror_mode": {
                "name": "ipython",
                "version": 3
            },
            "file_extension": ".py",
            "mimetype": "text/x-python",
            "name": "python",
            "nbconvert_exporter": "python",
            "pygments_lexer": "ipython3",
            "version": "3.11.8"
        },
        "orig_nbformat": 4,
        "vscode": {
            "interpreter": {
                "hash": "369f2c481f4da34e4445cda3fffd2e751bd1c4d706f27375911949ba6bb62e1c"
            }
        }
    },
    "nbformat": 4,
    "nbformat_minor": 2
}
