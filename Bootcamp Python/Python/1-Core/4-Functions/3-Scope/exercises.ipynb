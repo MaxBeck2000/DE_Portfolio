{
    "cells": [
        {
            "attachments": {},
            "cell_type": "markdown",
            "metadata": {},
            "source": [
                "# 3. Scope Arguments"
            ]
        },
        {
            "attachments": {},
            "cell_type": "markdown",
            "metadata": {},
            "source": [
                "## 3.1 Exercise: Basic Scope Understanding\n",
                "\n",
                "What will be the output of the following code?\n",
                "\n",
                "Then check your answers by running the code\n",
                "\n",
                "```Python \n",
                "x = 5\n",
                "def func():\n",
                "    x = 10\n",
                "    print(x)\n",
                "\n",
                "func()\n",
                "print(x)\n"
            ]
        },
        {
            "attachments": {},
            "cell_type": "markdown",
            "metadata": {},
            "source": [
                "## 3.2 Exercise: Basic Scope Understanding 2\n",
                "\n",
                "What will be the output of the following code?\n",
                "\n",
                "Then check your answers by running the code\n",
                "\n",
                "```Python \n",
                "x = [1, 2, 3]\n",
                "\n",
                "def func():\n",
                "    x.append(4)\n",
                "    print(x)\n",
                "\n",
                "func()\n",
                "print(x)\n",
                "\n"
            ]
        },
        {
            "attachments": {},
            "cell_type": "markdown",
            "metadata": {},
            "source": [
                "## 3.3 Exercise: Global and Local Scope \n",
                "\n",
                "What will be the output of the following code?\n",
                "\n",
                "Then check your answers by running the code\n",
                "\n",
                "```Python \n",
                "x = 5\n",
                "def func():\n",
                "    global x\n",
                "    x = 10\n",
                "    print(x)\n",
                "    x = 15\n",
                "    print(x)\n",
                "\n",
                "func()\n",
                "print(x)\n",
                "\n"
            ]
        },
        {
            "attachments": {},
            "cell_type": "markdown",
            "metadata": {},
            "source": [
                "## 3.4 Exercise: Nested Functions\n",
                "\n",
                "What will be the output of the following code?\n",
                "\n",
                "Then check your answers by running the code\n",
                "\n",
                "```Python \n",
                "def outer_func():\n",
                "    x = 5\n",
                "    def inner_func():\n",
                "        x = 10\n",
                "        print(x)\n",
                "    inner_func()\n",
                "    print(x)\n",
                "\n",
                "outer_func()\n",
                "\n"
            ]
        },
        {
            "attachments": {},
            "cell_type": "markdown",
            "metadata": {},
            "source": [
                "## 3.5 Exercise: Nested Functions 2 *\n",
                "\n",
                "What will be the output of the following code?\n",
                "\n",
                "Then check your answers by running the code\n",
                "\n",
                "```Python \n",
                "x = \"global\"\n",
                "\n",
                "def outer_func():\n",
                "    x = \"outer\"\n",
                "    def inner_func_1():\n",
                "        x = \"inner 1\"\n",
                "        print(x)\n",
                "    def inner_func_2():\n",
                "        global x\n",
                "        x = \"inner 2\"\n",
                "        print(x)\n",
                "    inner_func_1()\n",
                "    inner_func_2()\n",
                "    print(x)\n",
                "\n",
                "outer_func()\n",
                "print(x)\n",
                "\n"
            ]
        },
        {
            "attachments": {},
            "cell_type": "markdown",
            "metadata": {},
            "source": [
                "## 3.6 Exercise: Nested Functions 3 *\n",
                "\n",
                "What will be the output of the following code?\n",
                "\n",
                "Then check your answers by running the code\n",
                "\n",
                "```Python \n",
                "a = 1\n",
                "b = [1, 2, 3]\n",
                "\n",
                "def outer():\n",
                "    global a\n",
                "    a = 2\n",
                "    b.append(4)\n",
                "    def inner():\n",
                "        a = 3\n",
                "        b.append(5)\n",
                "        print(a, b)\n",
                "    inner()\n",
                "    print(a, b)\n",
                "outer()\n",
                "print(a, b)\n",
                "\n"
            ]
        }
    ],
    "metadata": {
        "kernelspec": {
            "display_name": "base",
            "language": "python",
            "name": "python3"
        },
        "language_info": {
            "codemirror_mode": {
                "name": "ipython",
                "version": 3
            },
            "file_extension": ".py",
            "mimetype": "text/x-python",
            "name": "python",
            "nbconvert_exporter": "python",
            "pygments_lexer": "ipython3",
            "version": "3.9.13"
        },
        "orig_nbformat": 4,
        "vscode": {
            "interpreter": {
                "hash": "9bcd4d914e2bd1fd2df8e0d617ef656989b094900dc3b085585fa427e902d48a"
            }
        }
    },
    "nbformat": 4,
    "nbformat_minor": 2
}