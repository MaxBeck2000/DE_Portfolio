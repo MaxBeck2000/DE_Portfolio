{
    "cells": [
        {
            "cell_type": "markdown",
            "metadata": {},
            "source": [
                "---\n",
                "# 3. Function Scope\n",
                "---\n",
                "\n",
                "When a function is executed, a new namespace is created.  \n",
                "The namespace is a local environment that contains the names of function parameters and variables."
            ]
        },
        {
            "cell_type": "markdown",
            "metadata": {},
            "source": [
                "## 3.1 Global and Local Variables \n",
                "\n",
                "The following examples demonstrate how this works:\n",
                "\n",
                "### 3.1.1 Example 1\n",
                "\n",
                "Local variables override global variables."
            ]
        },
        {
            "cell_type": "code",
            "execution_count": 8,
            "metadata": {},
            "outputs": [],
            "source": [
                "a = 10\n",
                "b = 20\n",
                "\n",
                "\n",
                "\n",
                "def my_func1(c,d):\n",
                "    e = 2\n",
                "    print(f'Local variable c:{c}')\n",
                "    print(f'Local variable d:{d}')\n",
                "    print(f'Global variable a:{a}')"
            ]
        },
        {
            "cell_type": "code",
            "execution_count": 9,
            "metadata": {},
            "outputs": [
                {
                    "name": "stdout",
                    "output_type": "stream",
                    "text": [
                        "Local variable c:1\n",
                        "Local variable d:2\n",
                        "Global variable a:10\n"
                    ]
                }
            ],
            "source": [
                "my_func1(1,2)"
            ]
        },
        {
            "cell_type": "code",
            "execution_count": 11,
            "metadata": {},
            "outputs": [],
            "source": [
                "\n",
                "def my_func2(a,b):\n",
                "    e = 2\n",
                "    print(f'Local variable a:{a}')\n",
                "    print(f'Local variable b:{b}')\n",
                "    print(f'Global variable a:{a}')"
            ]
        },
        {
            "cell_type": "code",
            "execution_count": 12,
            "metadata": {},
            "outputs": [
                {
                    "name": "stdout",
                    "output_type": "stream",
                    "text": [
                        "Local variable a:1\n",
                        "Local variable b:2\n",
                        "Global variable a:1\n"
                    ]
                }
            ],
            "source": [
                "my_func2(1,2)"
            ]
        },
        {
            "cell_type": "code",
            "execution_count": 14,
            "metadata": {},
            "outputs": [
                {
                    "name": "stdout",
                    "output_type": "stream",
                    "text": [
                        "Global Variable a: 10\n",
                        "Global Variable b: 20\n"
                    ]
                }
            ],
            "source": [
                "print(f'Global Variable a: {a}')\n",
                "print(f'Global Variable b: {b}')"
            ]
        },
        {
            "cell_type": "markdown",
            "metadata": {},
            "source": [
                "### 3.1.2 Example 2\n",
                "If variable 'a' is assigned in the local scope, the global 'a' is ignored."
            ]
        },
        {
            "cell_type": "code",
            "execution_count": 16,
            "metadata": {},
            "outputs": [
                {
                    "name": "stdout",
                    "output_type": "stream",
                    "text": [
                        "a inside of my_func3 is 789\n",
                        "id(a) inside my_func3 is 2352288148656\n"
                    ]
                }
            ],
            "source": [
                "def my_func3():\n",
                "    a = 789\n",
                "    print(f'a inside of my_func3 is {a}')\n",
                "    print(f'id(a) inside my_func3 is {id(a)}')\n",
                "\n",
                "my_func3()"
            ]
        },
        {
            "cell_type": "code",
            "execution_count": 18,
            "metadata": {
                "scrolled": true
            },
            "outputs": [
                {
                    "name": "stdout",
                    "output_type": "stream",
                    "text": [
                        "a outside my_func3 is 10\n",
                        "id(a) outside my_func3 is 140726267958344\n"
                    ]
                }
            ],
            "source": [
                "print(f'a outside my_func3 is {a}')\n",
                "print(f'id(a) outside my_func3 is {id(a)}')"
            ]
        },
        {
            "cell_type": "code",
            "execution_count": null,
            "metadata": {},
            "outputs": [],
            "source": []
        },
        {
            "attachments": {},
            "cell_type": "markdown",
            "metadata": {},
            "source": [
                "### 3.1.3 Example 3\n",
                "If the variable is not in the local scope, Python looks at the level above."
            ]
        },
        {
            "cell_type": "code",
            "execution_count": 19,
            "metadata": {},
            "outputs": [],
            "source": [
                "my_var = 123\n",
                "def my_func4():\n",
                "    print(my_var)"
            ]
        },
        {
            "cell_type": "code",
            "execution_count": 20,
            "metadata": {},
            "outputs": [
                {
                    "name": "stdout",
                    "output_type": "stream",
                    "text": [
                        "123\n"
                    ]
                }
            ],
            "source": [
                "my_func4()"
            ]
        },
        {
            "cell_type": "code",
            "execution_count": 21,
            "metadata": {},
            "outputs": [],
            "source": [
                "def my_func5():\n",
                "    print(xyz)"
            ]
        },
        {
            "cell_type": "code",
            "execution_count": 22,
            "metadata": {},
            "outputs": [
                {
                    "ename": "NameError",
                    "evalue": "name 'xyz' is not defined",
                    "output_type": "error",
                    "traceback": [
                        "\u001b[1;31m---------------------------------------------------------------------------\u001b[0m",
                        "\u001b[1;31mNameError\u001b[0m                                 Traceback (most recent call last)",
                        "Cell \u001b[1;32mIn[22], line 1\u001b[0m\n\u001b[1;32m----> 1\u001b[0m \u001b[43mmy_func5\u001b[49m\u001b[43m(\u001b[49m\u001b[43m)\u001b[49m\n",
                        "Cell \u001b[1;32mIn[21], line 2\u001b[0m, in \u001b[0;36mmy_func5\u001b[1;34m()\u001b[0m\n\u001b[0;32m      1\u001b[0m \u001b[38;5;28;01mdef\u001b[39;00m \u001b[38;5;21mmy_func5\u001b[39m():\n\u001b[1;32m----> 2\u001b[0m     \u001b[38;5;28mprint\u001b[39m(\u001b[43mxyz\u001b[49m)\n",
                        "\u001b[1;31mNameError\u001b[0m: name 'xyz' is not defined"
                    ]
                }
            ],
            "source": [
                "my_func5()"
            ]
        },
        {
            "attachments": {},
            "cell_type": "markdown",
            "metadata": {},
            "source": [
                "### 3.1.4 Example 4\n",
                "Modifying variables in the global scope. Functions do not modify variables in the global scope unless explicitly stated."
            ]
        },
        {
            "cell_type": "code",
            "execution_count": 25,
            "metadata": {},
            "outputs": [
                {
                    "name": "stdout",
                    "output_type": "stream",
                    "text": [
                        "120\n"
                    ]
                }
            ],
            "source": [
                "my_var = 123\n",
                "def my_func6():\n",
                "    my_var = 120\n",
                "    print(my_var)\n",
                "\n",
                "my_func6()"
            ]
        },
        {
            "cell_type": "code",
            "execution_count": 27,
            "metadata": {},
            "outputs": [
                {
                    "name": "stdout",
                    "output_type": "stream",
                    "text": [
                        "123\n"
                    ]
                }
            ],
            "source": [
                "print(my_var)"
            ]
        },
        {
            "cell_type": "code",
            "execution_count": 29,
            "metadata": {},
            "outputs": [
                {
                    "name": "stdout",
                    "output_type": "stream",
                    "text": [
                        "a inside my_func7 is 40\n",
                        "b inside my_func7 is 60\n"
                    ]
                }
            ],
            "source": [
                "a = 4 \n",
                "b = 6\n",
                "\n",
                "def my_func7():\n",
                "    global a\n",
                "    a = 40\n",
                "    b = 60\n",
                "    print(f'a inside my_func7 is {a}')\n",
                "    print(f'b inside my_func7 is {b}')\n",
                "\n",
                "my_func7()"
            ]
        },
        {
            "cell_type": "code",
            "execution_count": 30,
            "metadata": {},
            "outputs": [
                {
                    "name": "stdout",
                    "output_type": "stream",
                    "text": [
                        "a outside my_func7 is 40\n",
                        "b outside my_func7 is 6\n"
                    ]
                }
            ],
            "source": [
                "print(f'a outside my_func7 is {a}')\n",
                "print(f'b outside my_func7 is {b}')"
            ]
        },
        {
            "cell_type": "markdown",
            "metadata": {},
            "source": [
                "### 3.1.5 Example 5\n",
                "Modifying variables in the global scope is possible for mutable objects."
            ]
        },
        {
            "cell_type": "code",
            "execution_count": 31,
            "metadata": {},
            "outputs": [],
            "source": [
                "a = [1, 2, 3]\n",
                "\n",
                "def my_func8():\n",
                "    a.append(4)\n",
                "\n",
                "my_func8()"
            ]
        },
        {
            "cell_type": "code",
            "execution_count": 33,
            "metadata": {},
            "outputs": [
                {
                    "name": "stdout",
                    "output_type": "stream",
                    "text": [
                        "[1, 2, 3, 4]\n"
                    ]
                }
            ],
            "source": [
                "print(a)"
            ]
        },
        {
            "cell_type": "markdown",
            "metadata": {},
            "source": [
                "## 3.2 Nested Functions *\n",
                "\n",
                "Functions can be defined, one inside the other. \n",
                "\n",
                "The 'inner' function is not accessible from the global scope, as the following example shows:\n",
                "\n",
                "\n"
            ]
        },
        {
            "cell_type": "code",
            "execution_count": null,
            "metadata": {},
            "outputs": [],
            "source": [
                "x = 10\n",
                "y = 'hello'\n",
                "\n",
                "if x < 1:\n",
                "    if y == 'hello':\n",
                "        print('we are here')"
            ]
        },
        {
            "cell_type": "code",
            "execution_count": 40,
            "metadata": {},
            "outputs": [
                {
                    "ename": "NameError",
                    "evalue": "name 'inner_variable' is not defined",
                    "output_type": "error",
                    "traceback": [
                        "\u001b[1;31m---------------------------------------------------------------------------\u001b[0m",
                        "\u001b[1;31mNameError\u001b[0m                                 Traceback (most recent call last)",
                        "Cell \u001b[1;32mIn[40], line 13\u001b[0m\n\u001b[0;32m     10\u001b[0m     \u001b[38;5;28mprint\u001b[39m(inner_variable)\n\u001b[0;32m     11\u001b[0m     \u001b[38;5;28;01mreturn\u001b[39;00m x_de35\n\u001b[1;32m---> 13\u001b[0m \u001b[43mmy_func9\u001b[49m\u001b[43m(\u001b[49m\u001b[43m)\u001b[49m\n",
                        "Cell \u001b[1;32mIn[40], line 10\u001b[0m, in \u001b[0;36mmy_func9\u001b[1;34m()\u001b[0m\n\u001b[0;32m      8\u001b[0m     inner_variable \u001b[38;5;241m=\u001b[39m \u001b[38;5;241m6\u001b[39m\n\u001b[0;32m      9\u001b[0m     \u001b[38;5;28mprint\u001b[39m(\u001b[38;5;124m'\u001b[39m\u001b[38;5;124min the inner function\u001b[39m\u001b[38;5;124m'\u001b[39m)\n\u001b[1;32m---> 10\u001b[0m \u001b[38;5;28mprint\u001b[39m(\u001b[43minner_variable\u001b[49m)\n\u001b[0;32m     11\u001b[0m \u001b[38;5;28;01mreturn\u001b[39;00m x_de35\n",
                        "\u001b[1;31mNameError\u001b[0m: name 'inner_variable' is not defined"
                    ]
                }
            ],
            "source": [
                "my_variable = 2\n",
                "\n",
                "def my_func9():\n",
                "    # locally defining x_de35\n",
                "    x_de35 = 10\n",
                "    # locally defining inner_function\n",
                "    def inner_function():\n",
                "        inner_variable = 6\n",
                "        print('in the inner function')\n",
                "\n",
                "    return x_de35\n",
                "\n",
                "my_func9()"
            ]
        },
        {
            "cell_type": "code",
            "execution_count": 38,
            "metadata": {},
            "outputs": [
                {
                    "ename": "NameError",
                    "evalue": "name 'x_de35' is not defined",
                    "output_type": "error",
                    "traceback": [
                        "\u001b[1;31m---------------------------------------------------------------------------\u001b[0m",
                        "\u001b[1;31mNameError\u001b[0m                                 Traceback (most recent call last)",
                        "Cell \u001b[1;32mIn[38], line 1\u001b[0m\n\u001b[1;32m----> 1\u001b[0m \u001b[38;5;28mprint\u001b[39m(\u001b[43mx_de35\u001b[49m)\n",
                        "\u001b[1;31mNameError\u001b[0m: name 'x_de35' is not defined"
                    ]
                }
            ],
            "source": [
                "print(x_de35)"
            ]
        },
        {
            "cell_type": "code",
            "execution_count": 39,
            "metadata": {},
            "outputs": [
                {
                    "ename": "NameError",
                    "evalue": "name 'inner_function' is not defined",
                    "output_type": "error",
                    "traceback": [
                        "\u001b[1;31m---------------------------------------------------------------------------\u001b[0m",
                        "\u001b[1;31mNameError\u001b[0m                                 Traceback (most recent call last)",
                        "Cell \u001b[1;32mIn[39], line 1\u001b[0m\n\u001b[1;32m----> 1\u001b[0m \u001b[43minner_function\u001b[49m()\n",
                        "\u001b[1;31mNameError\u001b[0m: name 'inner_function' is not defined"
                    ]
                }
            ],
            "source": [
                "inner_function() #not defined globally"
            ]
        },
        {
            "cell_type": "markdown",
            "metadata": {},
            "source": [
                "We can \n",
                "- Call the inner function from the outer function.\n",
                "- Call the outer function from either the global scope, or from another function.\n"
            ]
        },
        {
            "cell_type": "code",
            "execution_count": 51,
            "metadata": {},
            "outputs": [],
            "source": [
                "def outer_function(x, y):\n",
                "    print(f'outer function logic begins and x is {x}, y is {y}')\n",
                "    outer_func_variable = 2\n",
                "\n",
                "    def inner_function(p):\n",
                "        print(f'inner function logic begins and p is {p}')\n",
                "\n",
                "    inner_function(y)"
            ]
        },
        {
            "cell_type": "code",
            "execution_count": 52,
            "metadata": {},
            "outputs": [
                {
                    "name": "stdout",
                    "output_type": "stream",
                    "text": [
                        "outer function logic begins and x is 1, y is 2\n",
                        "inner function logic begins and p is 2\n"
                    ]
                }
            ],
            "source": [
                "outer_function(1,2)"
            ]
        },
        {
            "cell_type": "code",
            "execution_count": 45,
            "metadata": {},
            "outputs": [
                {
                    "ename": "NameError",
                    "evalue": "name 'inner_function' is not defined",
                    "output_type": "error",
                    "traceback": [
                        "\u001b[1;31m---------------------------------------------------------------------------\u001b[0m",
                        "\u001b[1;31mNameError\u001b[0m                                 Traceback (most recent call last)",
                        "Cell \u001b[1;32mIn[45], line 1\u001b[0m\n\u001b[1;32m----> 1\u001b[0m \u001b[43minner_function\u001b[49m(\u001b[38;5;241m8\u001b[39m)\n",
                        "\u001b[1;31mNameError\u001b[0m: name 'inner_function' is not defined"
                    ]
                }
            ],
            "source": [
                "inner_function(8)"
            ]
        }
    ],
    "metadata": {
        "kernelspec": {
            "display_name": "Python 3",
            "language": "python",
            "name": "python3"
        },
        "language_info": {
            "codemirror_mode": {
                "name": "ipython",
                "version": 3
            },
            "file_extension": ".py",
            "mimetype": "text/x-python",
            "name": "python",
            "nbconvert_exporter": "python",
            "pygments_lexer": "ipython3",
            "version": "3.11.8"
        },
        "varInspector": {
            "cols": {
                "lenName": 16,
                "lenType": 16,
                "lenVar": 40
            },
            "kernels_config": {
                "python": {
                    "delete_cmd_postfix": "",
                    "delete_cmd_prefix": "del ",
                    "library": "var_list.py",
                    "varRefreshCmd": "print(var_dic_list())"
                },
                "r": {
                    "delete_cmd_postfix": ") ",
                    "delete_cmd_prefix": "rm(",
                    "library": "var_list.r",
                    "varRefreshCmd": "cat(var_dic_list()) "
                }
            },
            "types_to_exclude": [
                "module",
                "function",
                "builtin_function_or_method",
                "instance",
                "_Feature"
            ],
            "window_display": false
        },
        "vscode": {
            "interpreter": {
                "hash": "4f77c56a1733e9d421c3a053160f731a1cdaa61fcda062af7a855a05be992435"
            }
        }
    },
    "nbformat": 4,
    "nbformat_minor": 2
}
