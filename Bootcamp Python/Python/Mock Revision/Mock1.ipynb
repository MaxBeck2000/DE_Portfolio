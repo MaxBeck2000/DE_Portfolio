{
 "cells": [
  {
   "cell_type": "code",
   "execution_count": null,
   "metadata": {},
   "outputs": [],
   "source": [
    "#Mock 1 pandas\n"
   ]
  },
  {
   "cell_type": "markdown",
   "metadata": {},
   "source": [
    "7. Dataframe Creator (1)\n",
    "---\n",
    "Write a function that takes two arguments `data` and `col_names` and returns a \n",
    "dataframe. Assume the first argument `data` is a list of lists, and `col_names`\n",
    "is a list of column names.\n",
    "\n",
    "\n",
    "Required Signature:\n",
    "```python\n",
    "def dataframe_creator1(data: list, col_names: list):\n",
    "    pass\n",
    "```\n",
    "Example usage:\n",
    "\n",
    "\n",
    "```python\n",
    ">>> dataframe_creator1(['[[1,2],[3,4]]', \"col_names=['cookies', 'cream']\"])\n",
    "```\n",
    "\n",
    "|         | cookies | cream |\n",
    "| ---     | ---     | ----- |\n",
    "| 0       |      1  |     2 |\n",
    "| 1       |      3  |     4 |\n",
    "\n"
   ]
  },
  {
   "cell_type": "code",
   "execution_count": 3,
   "metadata": {},
   "outputs": [],
   "source": [
    "def dataframe_creator1(data: list, col_names: list):\n",
    "    import pandas as pd\n",
    "    df = pd.DataFrame(data, columns = col_names)\n",
    "    return df"
   ]
  },
  {
   "cell_type": "code",
   "execution_count": 4,
   "metadata": {},
   "outputs": [
    {
     "data": {
      "text/html": [
       "<div>\n",
       "<style scoped>\n",
       "    .dataframe tbody tr th:only-of-type {\n",
       "        vertical-align: middle;\n",
       "    }\n",
       "\n",
       "    .dataframe tbody tr th {\n",
       "        vertical-align: top;\n",
       "    }\n",
       "\n",
       "    .dataframe thead th {\n",
       "        text-align: right;\n",
       "    }\n",
       "</style>\n",
       "<table border=\"1\" class=\"dataframe\">\n",
       "  <thead>\n",
       "    <tr style=\"text-align: right;\">\n",
       "      <th></th>\n",
       "      <th>cookies</th>\n",
       "      <th>cream</th>\n",
       "    </tr>\n",
       "  </thead>\n",
       "  <tbody>\n",
       "    <tr>\n",
       "      <th>0</th>\n",
       "      <td>1</td>\n",
       "      <td>2</td>\n",
       "    </tr>\n",
       "    <tr>\n",
       "      <th>1</th>\n",
       "      <td>3</td>\n",
       "      <td>4</td>\n",
       "    </tr>\n",
       "  </tbody>\n",
       "</table>\n",
       "</div>"
      ],
      "text/plain": [
       "   cookies  cream\n",
       "0        1      2\n",
       "1        3      4"
      ]
     },
     "execution_count": 4,
     "metadata": {},
     "output_type": "execute_result"
    }
   ],
   "source": [
    "dataframe_creator1([[1,2],[3,4]], ['cookies', 'cream'])"
   ]
  },
  {
   "cell_type": "markdown",
   "metadata": {},
   "source": [
    "8. Dataframe Selector (2)\n",
    "---\n",
    "Write a function that accepts three arguments `input_df`, `col_names` and `row_indices`. \n",
    "Assume `df` is a dataframe, `col_names` is a list and `row_indices` is a list. \n",
    "The function is to return a dataframe with only the columns specified in \n",
    "`col_names` and rows with explicit index corresponding to `row_indices`.\n",
    "\n",
    "\n",
    "Required Signature:\n",
    "```python\n",
    "def dataframe_selector2(df, row_indices, col_names):\n",
    "    pass\n",
    "```\n",
    "Example usage:\n",
    "\n",
    "\n",
    "If this is the input dataframe `input_df`:\n",
    "\n",
    "|   | a |   b  |   c | \n",
    "| --- | --- | --- | --- | \n",
    "| 0 | 1 |  10 |  100 | \n",
    "| 1 |  2 |  20 |  200 | \n",
    "| 2 |  3  | 30 |  300 | \n",
    "\n",
    "Calling `dataframe_selector2(df, [0,2], ['a','c'])` will return the following dataframe:\n",
    "\n",
    "|  |   a |    c | \n",
    "| --- | --- | --- | \n",
    "| 0 |  1 |  100 | \n",
    "| 2 |  3 |  300 | \n",
    "\n"
   ]
  },
  {
   "cell_type": "code",
   "execution_count": 12,
   "metadata": {},
   "outputs": [],
   "source": [
    "def dataframe_selector2(df, row_indices, col_names):\n",
    "    import pandas as pd\n",
    "    df_new = df.loc[row_indices, col_names]\n",
    "    return df_new"
   ]
  },
  {
   "cell_type": "code",
   "execution_count": 13,
   "metadata": {},
   "outputs": [
    {
     "data": {
      "text/html": [
       "<div>\n",
       "<style scoped>\n",
       "    .dataframe tbody tr th:only-of-type {\n",
       "        vertical-align: middle;\n",
       "    }\n",
       "\n",
       "    .dataframe tbody tr th {\n",
       "        vertical-align: top;\n",
       "    }\n",
       "\n",
       "    .dataframe thead th {\n",
       "        text-align: right;\n",
       "    }\n",
       "</style>\n",
       "<table border=\"1\" class=\"dataframe\">\n",
       "  <thead>\n",
       "    <tr style=\"text-align: right;\">\n",
       "      <th></th>\n",
       "      <th>a</th>\n",
       "      <th>c</th>\n",
       "    </tr>\n",
       "  </thead>\n",
       "  <tbody>\n",
       "    <tr>\n",
       "      <th>0</th>\n",
       "      <td>1</td>\n",
       "      <td>100</td>\n",
       "    </tr>\n",
       "    <tr>\n",
       "      <th>2</th>\n",
       "      <td>3</td>\n",
       "      <td>300</td>\n",
       "    </tr>\n",
       "  </tbody>\n",
       "</table>\n",
       "</div>"
      ],
      "text/plain": [
       "   a    c\n",
       "0  1  100\n",
       "2  3  300"
      ]
     },
     "execution_count": 13,
     "metadata": {},
     "output_type": "execute_result"
    }
   ],
   "source": [
    "import pandas as pd\n",
    "df = pd.DataFrame([[1,10,100],[2,20,200],[3,30,300]], columns = ['a', 'b','c'])\n",
    "dataframe_selector2(df, [0,2], ['a','c'])"
   ]
  },
  {
   "cell_type": "markdown",
   "metadata": {},
   "source": [
    "9. Dataframe Combine (2)\n",
    "---\n",
    "Write a function that takes in two dataframes `input_df1` and `input_df2` and returns a new\n",
    "dataframe which includes all their rows, sorted by their 'date' column.\n",
    "\n",
    "\n",
    "Required Signature:\n",
    "```python\n",
    "def dataframe_combine2(input_df1, input_df2):\n",
    "    pass\n",
    "```\n",
    "Example usage:\n",
    "\n",
    "\n",
    "For example, if this is `df1`:\n",
    "\n",
    "| |         date | volume |\n",
    "|---|---|---|\n",
    "|0 | 01/01/2020  |    10 |\n",
    "|1 | 20/01/2020  |    20 |\n",
    "\n",
    "And this is `df2`:\n",
    "\n",
    "|   |      date | volume |\n",
    "|---|---|---|\n",
    "| 0 | 10/01/2020   |   30 |\n",
    "|1  | 30/01/2020  |    40 |\n",
    "\n",
    "Then this would be the expected output:\n",
    "\n",
    "| |         date | volume |\n",
    "|---|---|---|\n",
    "| 0  | 01/01/2020  |    10 |\n",
    "| 1  | 10/01/2020  |    30 |\n",
    "| 2  | 20/01/2020  |    20 |\n",
    "| 3  | 30/01/2020  |    40 |\n",
    "\n"
   ]
  },
  {
   "cell_type": "code",
   "execution_count": 33,
   "metadata": {},
   "outputs": [],
   "source": [
    "def dataframe_combine2(input_df1, input_df2):\n",
    "    import pandas as pd\n",
    "    new_df = pd.concat([input_df1, input_df2], axis = 0)\n",
    "    new_df.sort_values('date', ascending = True, inplace = True)\n",
    "    new_df.reset_index(drop = True, inplace = True)\n",
    "    return new_df\n"
   ]
  },
  {
   "cell_type": "code",
   "execution_count": 34,
   "metadata": {},
   "outputs": [
    {
     "data": {
      "text/html": [
       "<div>\n",
       "<style scoped>\n",
       "    .dataframe tbody tr th:only-of-type {\n",
       "        vertical-align: middle;\n",
       "    }\n",
       "\n",
       "    .dataframe tbody tr th {\n",
       "        vertical-align: top;\n",
       "    }\n",
       "\n",
       "    .dataframe thead th {\n",
       "        text-align: right;\n",
       "    }\n",
       "</style>\n",
       "<table border=\"1\" class=\"dataframe\">\n",
       "  <thead>\n",
       "    <tr style=\"text-align: right;\">\n",
       "      <th></th>\n",
       "      <th>date</th>\n",
       "      <th>volume</th>\n",
       "    </tr>\n",
       "  </thead>\n",
       "  <tbody>\n",
       "    <tr>\n",
       "      <th>0</th>\n",
       "      <td>01/01/2020</td>\n",
       "      <td>10</td>\n",
       "    </tr>\n",
       "    <tr>\n",
       "      <th>1</th>\n",
       "      <td>10/01/2020</td>\n",
       "      <td>30</td>\n",
       "    </tr>\n",
       "    <tr>\n",
       "      <th>2</th>\n",
       "      <td>20/01/2020</td>\n",
       "      <td>20</td>\n",
       "    </tr>\n",
       "    <tr>\n",
       "      <th>3</th>\n",
       "      <td>30/01/2020</td>\n",
       "      <td>40</td>\n",
       "    </tr>\n",
       "  </tbody>\n",
       "</table>\n",
       "</div>"
      ],
      "text/plain": [
       "         date  volume\n",
       "0  01/01/2020      10\n",
       "1  10/01/2020      30\n",
       "2  20/01/2020      20\n",
       "3  30/01/2020      40"
      ]
     },
     "execution_count": 34,
     "metadata": {},
     "output_type": "execute_result"
    }
   ],
   "source": [
    "input_df2 = {'date': ['10/01/2020','30/01/2020'],\n",
    "             'volume': [30, 40]}\n",
    "input_df2 = pd.DataFrame(input_df2)\n",
    "\n",
    "input_df1 = {'date': ['01/01/2020','20/01/2020'],\n",
    "             'volume': [10, 20]}\n",
    "input_df1 = pd.DataFrame(input_df1)\n",
    "\n",
    "\n",
    "dataframe_combine2(input_df1, input_df2)"
   ]
  },
  {
   "cell_type": "markdown",
   "metadata": {},
   "source": [
    "10. Dataframe Process Data (2)\n",
    "---\n",
    "Given an input dataframe in which each row holds students' marks for some questions, e.g.\n",
    "\n",
    "|  | student | question   |    topic | mark |\n",
    "| --- | --- | --- | --- | --- |\n",
    "| 0    | Alice | multiply | arithmetic  |   6 |\n",
    "| 1 |   Bob   | multiply  | arithmetic  |   3 |\n",
    "| 2 |  Alice  |  divide | arithmetic  |   5 |\n",
    "| 3 |    Bob  |  divide | arithmetic  |   4 |\n",
    "| 4 |  Alice  |  angles |   geometry  |  10 |\n",
    "| 5  |   Bob  |  angles |   geometry  |   5 |\n",
    "\n",
    "Write a function to calculate the mean mark for each question, and return this in a dictionary.\n",
    "\n",
    "\n",
    "Required Signature:\n",
    "```python\n",
    "def dataframe_process_data2(input_df):\n",
    "    pass\n",
    "```\n",
    "Example(s):\n",
    "\n",
    "```python\n",
    ">>> dataframe_process_data2(pd.DataFrame({'student':['Alice', 'Bob', 'Alice', 'Bob', 'Alice', 'Bob'], 'question':['multiply', 'multiply', 'divide', 'divide', 'angles','angles'], 'topic':['arithmetic', 'arithmetic', 'arithmetic', 'arithmetic', 'geometry','geometry'], 'mark':[10,20,30,40,50,60]}))\n",
    "```\n",
    "\n",
    "```\n",
    "{'angles': 55, 'divide': 35, 'multiply': 15}\n",
    "```\n",
    "\n"
   ]
  },
  {
   "cell_type": "code",
   "execution_count": 73,
   "metadata": {},
   "outputs": [],
   "source": [
    "def dataframe_process_data2(input_df):\n",
    "    import pandas as pd\n",
    "    product_df = input_df.groupby('question').agg({'mark':'mean'})\n",
    "    print(product_df)\n",
    "    return product_df['mark'].to_dict()"
   ]
  },
  {
   "cell_type": "code",
   "execution_count": 74,
   "metadata": {},
   "outputs": [
    {
     "data": {
      "text/html": [
       "<div>\n",
       "<style scoped>\n",
       "    .dataframe tbody tr th:only-of-type {\n",
       "        vertical-align: middle;\n",
       "    }\n",
       "\n",
       "    .dataframe tbody tr th {\n",
       "        vertical-align: top;\n",
       "    }\n",
       "\n",
       "    .dataframe thead th {\n",
       "        text-align: right;\n",
       "    }\n",
       "</style>\n",
       "<table border=\"1\" class=\"dataframe\">\n",
       "  <thead>\n",
       "    <tr style=\"text-align: right;\">\n",
       "      <th></th>\n",
       "      <th>student</th>\n",
       "      <th>question</th>\n",
       "      <th>topic</th>\n",
       "      <th>mark</th>\n",
       "    </tr>\n",
       "  </thead>\n",
       "  <tbody>\n",
       "    <tr>\n",
       "      <th>0</th>\n",
       "      <td>Alice</td>\n",
       "      <td>multiply</td>\n",
       "      <td>arithmetic</td>\n",
       "      <td>10</td>\n",
       "    </tr>\n",
       "    <tr>\n",
       "      <th>1</th>\n",
       "      <td>Bob</td>\n",
       "      <td>multiply</td>\n",
       "      <td>arithmetic</td>\n",
       "      <td>20</td>\n",
       "    </tr>\n",
       "    <tr>\n",
       "      <th>2</th>\n",
       "      <td>Alice</td>\n",
       "      <td>divide</td>\n",
       "      <td>arithmetic</td>\n",
       "      <td>30</td>\n",
       "    </tr>\n",
       "    <tr>\n",
       "      <th>3</th>\n",
       "      <td>Bob</td>\n",
       "      <td>divide</td>\n",
       "      <td>arithmetic</td>\n",
       "      <td>40</td>\n",
       "    </tr>\n",
       "    <tr>\n",
       "      <th>4</th>\n",
       "      <td>Alice</td>\n",
       "      <td>angles</td>\n",
       "      <td>geometry</td>\n",
       "      <td>50</td>\n",
       "    </tr>\n",
       "    <tr>\n",
       "      <th>5</th>\n",
       "      <td>Bob</td>\n",
       "      <td>angles</td>\n",
       "      <td>geometry</td>\n",
       "      <td>60</td>\n",
       "    </tr>\n",
       "  </tbody>\n",
       "</table>\n",
       "</div>"
      ],
      "text/plain": [
       "  student  question       topic  mark\n",
       "0   Alice  multiply  arithmetic    10\n",
       "1     Bob  multiply  arithmetic    20\n",
       "2   Alice    divide  arithmetic    30\n",
       "3     Bob    divide  arithmetic    40\n",
       "4   Alice    angles    geometry    50\n",
       "5     Bob    angles    geometry    60"
      ]
     },
     "metadata": {},
     "output_type": "display_data"
    },
    {
     "name": "stdout",
     "output_type": "stream",
     "text": [
      "          mark\n",
      "question      \n",
      "angles    55.0\n",
      "divide    35.0\n",
      "multiply  15.0\n"
     ]
    },
    {
     "data": {
      "text/plain": [
       "{'angles': 55.0, 'divide': 35.0, 'multiply': 15.0}"
      ]
     },
     "execution_count": 74,
     "metadata": {},
     "output_type": "execute_result"
    }
   ],
   "source": [
    "input_df = (pd.DataFrame({'student':['Alice', 'Bob', 'Alice', 'Bob', 'Alice', 'Bob'], 'question':['multiply', 'multiply', 'divide', 'divide', 'angles','angles'], 'topic':['arithmetic', 'arithmetic', 'arithmetic', 'arithmetic', 'geometry','geometry'], 'mark':[10,20,30,40,50,60]}))\n",
    "display(input_df)\n",
    "\n",
    "dataframe_process_data2(input_df)"
   ]
  },
  {
   "cell_type": "markdown",
   "metadata": {},
   "source": [
    "11. Get SpaceFlight Articles\n",
    "---\n",
    "Write a function that uses the articles endpoint of `https://api.spaceflightnewsapi.net/v3/articles` \n",
    "to return a list of the titles of recent news articles.\n",
    "\n",
    "Your function should return the list of all titles (not just the first three) that are available\n",
    "at the time of making the call to `https://api.spaceflightnewsapi.net/v3/articles`\n",
    "\n",
    "\n",
    "Required Signature:\n",
    "```python\n",
    "def get_spaceflight_articles(url: str):\n",
    "    pass\n",
    "```\n",
    "Example usage:\n",
    "\n",
    "\n",
    "For example, when the function was called recently, \n",
    "the returned list contained ten spaceflight article titles of which the first three are shown below as an example:\n",
    "\n",
    "`[\"Satellogic expanding U.S. footprint with eye on national security market\",` \n",
    "`\"SpaceX Starlink beta testers see big speed boosts, major outages\", `\n",
    "`\"NASA's Perseverance Mars Rover Mission Honors Navajo Language\", `\n",
    "`...]`\n",
    "\n"
   ]
  },
  {
   "cell_type": "code",
   "execution_count": 93,
   "metadata": {},
   "outputs": [],
   "source": [
    "def get_spaceflight_articles(url: str):\n",
    "    import pandas as pd\n",
    "    import requests\n",
    "    r = requests.get(url)\n",
    "    response = r.json()\n",
    "    title_list = []\n",
    "    for i in response:\n",
    "        title = i['title']\n",
    "        title_list.append(title)\n",
    "    return title_list"
   ]
  },
  {
   "cell_type": "code",
   "execution_count": 94,
   "metadata": {},
   "outputs": [
    {
     "data": {
      "text/plain": [
       "['Congress passes final fiscal year 2024 spending bill for NASA, NOAA and FAA',\n",
       " 'BlackSky secures back-to-back U.S. Air Force contracts',\n",
       " 'The Exploration Company’s Mission Possible Demo Flight Slips to 2025',\n",
       " 'ISS schedule conflicts delay Starliner crewed test flight to May',\n",
       " 'Space One scrubs Japan’s first commercial orbital launch',\n",
       " 'China targets 2030 for Mars sample return mission, potential landing areas revealed',\n",
       " 'Spacecraft maker Terran Orbital ‘looking at everything,’ CEO says after Lockheed Martin takeover bid',\n",
       " 'Blue Origin aims to launch first lunar lander in 2025',\n",
       " 'Irish Launch Facility Startup Eyes US Investors for Seed Funding',\n",
       " 'The limits of space power']"
      ]
     },
     "execution_count": 94,
     "metadata": {},
     "output_type": "execute_result"
    }
   ],
   "source": [
    "get_spaceflight_articles(\"https://api.spaceflightnewsapi.net/v3/articles\")"
   ]
  }
 ],
 "metadata": {
  "kernelspec": {
   "display_name": "Python 3",
   "language": "python",
   "name": "python3"
  },
  "language_info": {
   "codemirror_mode": {
    "name": "ipython",
    "version": 3
   },
   "file_extension": ".py",
   "mimetype": "text/x-python",
   "name": "python",
   "nbconvert_exporter": "python",
   "pygments_lexer": "ipython3",
   "version": "3.11.8"
  }
 },
 "nbformat": 4,
 "nbformat_minor": 2
}
