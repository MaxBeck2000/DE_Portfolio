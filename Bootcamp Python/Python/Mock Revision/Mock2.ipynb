{
 "cells": [
  {
   "cell_type": "markdown",
   "metadata": {},
   "source": [
    "1. Most Occurrences 1\n",
    "---\n",
    "Write a function that takes in a list of strings and a character n, the function returns the string with the most instances of n.\n",
    "\n",
    "- If there are no occurrences of n return False. \n",
    "- If there are multiple strings with the same number of occurrences, return the first string that has the maximum amount.\n",
    "- It should ignore case, i.e. if n = `r` both `r` and `R` should be counted \n",
    "\n",
    "\n",
    "Required Signature:\n",
    "```python\n",
    "def most_occurrences1(string_list: list, n:str):\n",
    "    pass\n",
    "```\n",
    "Example(s):\n",
    "\n",
    "```python\n",
    ">>> most_occurrences1(['hello','hurry','hi','hat','harry'] ,'r')\n",
    "```\n",
    "\n",
    "```\n",
    "hurry\n",
    "```\n",
    "\n"
   ]
  },
  {
   "cell_type": "code",
   "execution_count": 87,
   "metadata": {},
   "outputs": [],
   "source": [
    "def most_occurrences1(string_list: list, n:str):\n",
    "    word_count = []\n",
    "    for word in string_list:\n",
    "        word = word.lower()\n",
    "        count = 0 \n",
    "        for char in word:\n",
    "            if char == n:\n",
    "                count = count + 1\n",
    "            else:\n",
    "                pass\n",
    "        word_count.append(count)\n",
    "    max_count = max(word_count)\n",
    "    for i, j in zip(word_count, string_list):\n",
    "        if max_count == 0:\n",
    "            return False\n",
    "        elif i == max_count:\n",
    "            return j\n"
   ]
  },
  {
   "cell_type": "code",
   "execution_count": 91,
   "metadata": {},
   "outputs": [
    {
     "data": {
      "text/plain": [
       "'hurry'"
      ]
     },
     "execution_count": 91,
     "metadata": {},
     "output_type": "execute_result"
    }
   ],
   "source": [
    "most_occurrences1(['hello','hurry','hi','hat','harry'] ,'r')"
   ]
  },
  {
   "cell_type": "markdown",
   "metadata": {},
   "source": [
    "2. List to Tuples 1\n",
    "---\n",
    "Write a function that takes two lists of equal length and returns a list of tuples where each tuple contains the corresponding elements from the two input lists. \n",
    "- If the input lists are not of equal length, the function should return False. Maintain the correct order of tuple pairs in the list.\n",
    "- Inputted list may have a nested list within, in this instance take out those values and then return a list of tuples, please look at the example below. \n",
    "\n",
    "\n",
    "Required Signature:\n",
    "```python\n",
    "def list_to_tuples1(list1: list, list2: list):\n",
    "    pass\n",
    "```\n",
    "Example(s):\n",
    "\n",
    "```python\n",
    ">>> list_to_tuples1(['a', 'b', 'c'],[1, 2, 3])\n",
    "```\n",
    "\n",
    "```\n",
    "[('a', 1), ('b', 2), ('c', 3)]\n",
    "```\n",
    "\n",
    "```python\n",
    ">>> list_to_tuples1(['a', 'b',['c','d'], 'e'],[1, 2, 3, 4, 5])\n",
    "```\n",
    "\n",
    "```\n",
    "[('a', 1), ('b', 2), ('c', 3), ('d',4), ('e',5)]\n",
    "```\n",
    "\n"
   ]
  },
  {
   "cell_type": "code",
   "execution_count": 69,
   "metadata": {},
   "outputs": [],
   "source": [
    "def list_to_tuples1(list1: list, list2: list):\n",
    "    list_1 = []\n",
    "    list_2 = []\n",
    "    output = []\n",
    "    for i in list1:\n",
    "        if type(i) == str:\n",
    "            list_1.append(i)\n",
    "        elif type(i) == list:\n",
    "            for j in i:\n",
    "                list_1.append(j)\n",
    "    for i in list2:\n",
    "        if type(i) == int:\n",
    "            list_2.append(i)\n",
    "        elif type(i) == list:\n",
    "            for j in i:\n",
    "                list_2.append(j)\n",
    "    if len(list_1) == len(list_2):\n",
    "        for i, j in zip(list_1, list_2):\n",
    "            output_tup = (i, j)\n",
    "            output.append(output_tup)\n",
    "    else:\n",
    "        return False\n",
    "    return output"
   ]
  },
  {
   "cell_type": "code",
   "execution_count": 71,
   "metadata": {},
   "outputs": [
    {
     "data": {
      "text/plain": [
       "[('a', 1), ('b', 2), ('c', 3), ('d', 4), ('e', 5)]"
      ]
     },
     "execution_count": 71,
     "metadata": {},
     "output_type": "execute_result"
    }
   ],
   "source": [
    "list_to_tuples1(['a', 'b', 'c'],[1, 2, 3])\n",
    "list_to_tuples1(['a', 'b',['c','d'], 'e'],[1, 2, 3, 4, 5])\n"
   ]
  },
  {
   "cell_type": "markdown",
   "metadata": {},
   "source": [
    "3. Car String Formatting\n",
    "---\n",
    "Write a function that takes in a list of car strings in the format \"Brand Model EngineSize\" and returns a list of formatted car strings in the format \"Model Brand, EngineSize\".\n",
    "If there are two of the same exact cars, only include the first instance found in the list. \n",
    "\n",
    "- The EngineSize is optional, if the string does not have an EngineSize it should return \"Model Brand\". \n",
    "\n",
    "\n",
    "Required Signature:\n",
    "```python\n",
    "def car_string_formatting(list_of_names: list):\n",
    "    pass\n",
    "```\n",
    "Example(s):\n",
    "\n",
    "```python\n",
    ">>> car_string_formatting(['Toyota Corolla 1.8', 'Honda Civic', 'BMW M2 2.0'])\n",
    "```\n",
    "\n",
    "```\n",
    "['Corolla Toyota, 1.8', 'Civic Honda', 'M2 BMW, 2.0']\n",
    "```\n",
    "\n"
   ]
  },
  {
   "cell_type": "code",
   "execution_count": 62,
   "metadata": {},
   "outputs": [],
   "source": [
    "def car_string_formatting(list_of_names: list):\n",
    "    output = []\n",
    "    for element in list_of_names:\n",
    "        output_str = ''\n",
    "        brand = element.split(' ')[0]\n",
    "        model = element.split(' ')[1]\n",
    "        output_str += model + ' ' + brand\n",
    "        if len(element.split(' ')) == 3:\n",
    "            engine = element.split(' ')[2]\n",
    "            output_str += ', ' + engine\n",
    "        output.append(output_str)\n",
    "    return output\n",
    "        \n"
   ]
  },
  {
   "cell_type": "code",
   "execution_count": 63,
   "metadata": {},
   "outputs": [
    {
     "data": {
      "text/plain": [
       "['Corolla Toyota, 1.8', 'Civic Honda', 'M2 BMW, 2.0']"
      ]
     },
     "execution_count": 63,
     "metadata": {},
     "output_type": "execute_result"
    }
   ],
   "source": [
    "car_string_formatting(['Toyota Corolla 1.8', 'Honda Civic', 'BMW M2 2.0'])"
   ]
  },
  {
   "cell_type": "markdown",
   "metadata": {},
   "source": [
    "4. Name Processing (8)\n",
    "---\n",
    "Write a function that takes in a list of strings, where each string represents a person's full name in the format \"last_name, first_name\". The function should return a dictionary in which the keys are the last names, and the values are the corresponding first names. \n",
    "\n",
    " - If a last name appears more than once in the input list, then the value in the dictionary should be the first corresponding first name that has that last name.\n",
    " - If a name includes a hyphen, replace the hyphen with a space.\n",
    " \n",
    "\n",
    "\n",
    "Required Signature:\n",
    "```python\n",
    "def name_processing8(list_of_names: list):\n",
    "    pass\n",
    "```\n",
    "Example(s):\n",
    "\n",
    "```python\n",
    ">>> name_processing8(['Smith, John', 'Doe, Jane', 'Smith, Sally', 'Doe, Bob', 'Jones, Jim'])\n",
    "```\n",
    "\n",
    "```\n",
    "{'Smith': 'John', 'Doe': 'Jane', 'Jones': 'Jim'}\n",
    "```\n",
    "\n"
   ]
  },
  {
   "cell_type": "code",
   "execution_count": 43,
   "metadata": {},
   "outputs": [],
   "source": [
    "def name_processing8(list_of_names: list):\n",
    "    output_dict = {}\n",
    "    for element in list_of_names:\n",
    "        surname = element.split(', ')[0]\n",
    "        forename = element.split(', ')[1]\n",
    "        if surname not in output_dict:\n",
    "            output_dict[surname] = forename\n",
    "        else:\n",
    "            pass\n",
    "    return output_dict"
   ]
  },
  {
   "cell_type": "code",
   "execution_count": 44,
   "metadata": {},
   "outputs": [
    {
     "data": {
      "text/plain": [
       "{'Smith': 'John', 'Doe': 'Jane', 'Jones': 'Jim'}"
      ]
     },
     "execution_count": 44,
     "metadata": {},
     "output_type": "execute_result"
    }
   ],
   "source": [
    "name_processing8(['Smith, John', 'Doe, Jane', 'Smith, Sally', 'Doe, Bob', 'Jones, Jim'])"
   ]
  },
  {
   "cell_type": "markdown",
   "metadata": {},
   "source": [
    "5. 8 by 2 Numbers\n",
    "---\n",
    "Write a function that takes in a list `input_list` and returns a list of elements of all values that are divisible by both 8 and 2 (3 marks).\n",
    "\n",
    "- Non-numeric (float or int) values should be ignored (1 mark)\n",
    "- Strings that can be converted to numeric values should also be processed and returned in the list as an integer (1 mark)\n",
    "\n",
    "\n",
    "Required Signature:\n",
    "```python\n",
    "def numbers8_2(input_list: list):\n",
    "    pass\n",
    "```\n",
    "Example(s):\n",
    "\n",
    "```python\n",
    ">>> numbers8_2([1, 2, 3, 3, 16, 20])\n",
    "```\n",
    "\n",
    "```\n",
    "[16]\n",
    "```\n",
    "\n",
    "```python\n",
    ">>> numbers8_2([1, 2, 3, 3, '8', 16, 20])\n",
    "```\n",
    "\n",
    "```\n",
    "[8, 16]\n",
    "```\n",
    "\n",
    "```python\n",
    ">>> numbers8_2(['hello', {}, 3, 5.0, 7.5, 8.0, 24.0, 16])\n",
    "```\n",
    "\n",
    "```\n",
    "[8.0, 24.0, 16]\n",
    "```\n",
    "\n"
   ]
  },
  {
   "cell_type": "code",
   "execution_count": 10,
   "metadata": {},
   "outputs": [],
   "source": [
    "def numbers8_2(input_list: list):\n",
    "    output_list = []\n",
    "    for element in input_list:\n",
    "        if type(element) == float or type(element) == int:\n",
    "            if element % 2 == 0 and element % 8 == 0:\n",
    "                output_list.append(element)\n",
    "        else:\n",
    "            try:\n",
    "                value = int(element)\n",
    "                if value % 2 == 0 and value % 8 == 0:\n",
    "                    output_list.append(value)\n",
    "            except(ValueError, TypeError):\n",
    "                pass\n",
    "    return output_list"
   ]
  },
  {
   "cell_type": "code",
   "execution_count": 12,
   "metadata": {},
   "outputs": [
    {
     "data": {
      "text/plain": [
       "[8.0, 24.0, 16]"
      ]
     },
     "execution_count": 12,
     "metadata": {},
     "output_type": "execute_result"
    }
   ],
   "source": [
    "#numbers8_2([1, 2, 3, 3, 16, 20])\n",
    "#numbers8_2([1, 2, 3, 3, '8', 16, 20])\n",
    "numbers8_2(['hello', {}, 3, 5.0, 7.5, 8.0, 24.0, 16])"
   ]
  },
  {
   "cell_type": "markdown",
   "metadata": {},
   "source": [
    "6. Prime Numbers 2\n",
    "---\n",
    "Write a function that takes in a list `input_list` and an integer `num`. If the list has at least the num amount of prime numbers or more it will return `True`, otherwise it will return `False`.\n",
    "- The list may contain numeric and non numeric values, only process the numeric values, Boolean values should be ignored.\n",
    "\n",
    "\n",
    "Required Signature:\n",
    "```python\n",
    "def prime_numbers2(input_list: list, num : int):\n",
    "    pass\n",
    "```\n",
    "Example(s):\n",
    "\n",
    "```python\n",
    ">>> prime_numbers2(['hello',1,2,3,'bye'],1)\n",
    "```\n",
    "\n",
    "```\n",
    "True\n",
    "```\n",
    "\n"
   ]
  },
  {
   "cell_type": "code",
   "execution_count": 35,
   "metadata": {},
   "outputs": [],
   "source": [
    "def prime_numbers2(input_list: list, num : int):\n",
    "    prime_list = []\n",
    "    for element in input_list:\n",
    "        if type(element) == float or type(element) == int:\n",
    "            if element >  1:\n",
    "                for i in range(1, element):\n",
    "                    if element % i != 0:\n",
    "                        prime_list.append(element)\n",
    "                    elif element == 2:\n",
    "                        prime_list.append(element)\n",
    "        else:\n",
    "            pass\n",
    "    numb_prime = len(prime_list)\n",
    "    print(prime_list)\n",
    "    print(numb_prime)\n",
    "    if numb_prime >= num:\n",
    "        return True\n",
    "    else:\n",
    "        return False\n",
    "\n"
   ]
  },
  {
   "cell_type": "code",
   "execution_count": 36,
   "metadata": {},
   "outputs": [
    {
     "name": "stdout",
     "output_type": "stream",
     "text": [
      "[2, 3]\n",
      "2\n"
     ]
    },
    {
     "data": {
      "text/plain": [
       "True"
      ]
     },
     "execution_count": 36,
     "metadata": {},
     "output_type": "execute_result"
    }
   ],
   "source": [
    "prime_numbers2(['hello',1,2,3,'bye'],2)"
   ]
  },
  {
   "cell_type": "markdown",
   "metadata": {},
   "source": [
    "7. ToDo List\n",
    "---\n",
    "Write a class `ToDoList` to represent a to-do list.\n",
    "\n",
    "The `ToDoList` object is initialized with one argument, \n",
    "representing a list of strings containing actions that need to be completed. The class \n",
    "should also have two instance attributes, the list passed through as an argument, and the number of items in the list as the other.\n",
    "\n",
    "Instance attributes:\n",
    "- `todo_list` (list)\n",
    "- `number_of_tasks` (int)\n",
    "  - this should be correct at all times\n",
    "\n",
    "The class shall also implement three methods:\n",
    "\n",
    "Methods:\n",
    "- `add_item`: Add an item to the todo list. The method should take a single string argument and add it to the todo list. \n",
    "- `remove_item`: Remove an item from the todo list. The method should take a single string argument and remove it from the todo list if it exists. If the item does not exist in the todo list, the method should raise an Exception. \n",
    "- `return_items`: Return a dictionary with the key being the item number and the value being the task in the list respectively.\n",
    "  - e.g. given the todo_list consisting of `['wash car','run','eat']`, it should return `{1:'wash car',2: 'run',3: 'eat'}`\n",
    "\n",
    "\n",
    "Required Signature:\n",
    "```python\n",
    "class ToDoList:\n",
    "\tpass\n",
    "```\n",
    "Example usage:\n",
    "\n",
    "\n",
    "```python\n",
    "list1 = ToDoList(['wash car','workout','fill out taxes']) #this initializes the ToDoList with the four items passed\n",
    "list1.add_item('update car insurance') #this should add the task to the ToDoList\n",
    "list1.return_items() #this should return a dictionary with the key being the index and the value being the task in the list respectively.\n",
    "list1.remove_item('walk') #this should raise an exception \n",
    "list1.remove_item('wash car') #this should remove the item from the list\n",
    "list1.number_of_tasks #this should return an up to date number of items in your list \n",
    "```\n",
    "\n"
   ]
  },
  {
   "cell_type": "code",
   "execution_count": 108,
   "metadata": {},
   "outputs": [],
   "source": [
    "class ToDoList:\n",
    "    def __init__(self, todo_list):\n",
    "        self.todo_list = todo_list\n",
    "        self.number_of_tasks = len(todo_list)\n",
    "\n",
    "    def add_item(self, input):\n",
    "        if input not in self.todo_list:\n",
    "            self.todo_list.append(input)\n",
    "            self.number_of_tasks = self.number_of_tasks + 1\n",
    "        else:\n",
    "            raise Exception(\"Item is already on the todo list\")\n",
    "\n",
    "    def remove_item(self, input):\n",
    "        if input in self.todo_list:\n",
    "            self.todo_list.remove(input)\n",
    "            self.number_of_tasks = self.number_of_tasks - 1\n",
    "        else:\n",
    "            raise Exception(\"Item is not on the todo list\")\n",
    "\n",
    "    def return_items(self):\n",
    "        output_dict = {}\n",
    "        index = 1\n",
    "        for i in self.todo_list:\n",
    "            output_dict[index] = i\n",
    "            index = index + 1\n",
    "        return output_dict"
   ]
  },
  {
   "cell_type": "code",
   "execution_count": 115,
   "metadata": {},
   "outputs": [
    {
     "data": {
      "text/plain": [
       "3"
      ]
     },
     "execution_count": 115,
     "metadata": {},
     "output_type": "execute_result"
    }
   ],
   "source": [
    "#list1 = ToDoList(['wash car','workout','fill out taxes']) #this initializes the ToDoList with the four items passed\n",
    "#list1.add_item('update car insurance') #this should add the task to the ToDoList\n",
    "#list1.return_items() #this should return a dictionary with the key being the index and the value being the task in the list respectively.\n",
    "#list1.remove_item('walk') #this should raise an exception \n",
    "#list1.remove_item('wash car') #this should remove the item from the list\n",
    "list1.number_of_tasks #this should return an up to date number of items in your list \n",
    "# ```"
   ]
  },
  {
   "cell_type": "markdown",
   "metadata": {},
   "source": [
    "2. List to Tuples 1\n",
    "---\n",
    "Write a function that takes two lists of equal length and returns a list of tuples where each tuple contains the corresponding elements from the two input lists. \n",
    "- If the input lists are not of equal length, the function should return False. Maintain the correct order of tuple pairs in the list.\n",
    "- Inputted list may have a nested list within, in this instance take out those values and then return a list of tuples, please look at the example below. \n",
    "\n",
    "\n",
    "Required Signature:\n",
    "```python\n",
    "def list_to_tuples1(list1: list, list2: list):\n",
    "    pass\n",
    "```\n",
    "Example(s):\n",
    "\n",
    "```python\n",
    ">>> list_to_tuples1(['a', 'b', 'c'],[1, 2, 3])\n",
    "```\n",
    "\n",
    "```\n",
    "[('a', 1), ('b', 2), ('c', 3)]\n",
    "```\n",
    "\n",
    "```python\n",
    ">>> list_to_tuples1(['a', 'b',['c','d'], 'e'],[1, 2, 3, 4, 5])\n",
    "```\n",
    "\n",
    "```\n",
    "[('a', 1), ('b', 2), ('c', 3), ('d',4), ('e',5)]\n",
    "```\n",
    "\n"
   ]
  },
  {
   "cell_type": "markdown",
   "metadata": {},
   "source": [
    "8. Dataframe Combine (4)\n",
    "---\n",
    "Write a function that takes in two dataframes `input_df1` and `input_df2` with both dataframes having the same column names, and returns a new\n",
    "dataframe removing any duplicate rows and ensuring the index increases in chronological order. \n",
    "\n",
    "- In the instance of duplicates, keep the first instance of the rows position, delete any later repeats.\n",
    "\n",
    "\n",
    "Required Signature:\n",
    "```python\n",
    "def dataframe_combine4(input_df1, input_df2):\n",
    "    pass\n",
    "```\n",
    "Example usage:\n",
    "\n",
    "\n",
    "For example, if this is `df1`:\n",
    "\n",
    "| |         name | age |\n",
    "|---|---|---|\n",
    "|0 | Tom         |    14 |\n",
    "|1 | Dave        |    25 |\n",
    "  ```Python\n",
    "  # Create the DataFrame for df1\n",
    "  df1 = pd.DataFrame([['Tom', 14],['Dave', 25]],\n",
    "                    columns = ['name', 'age'])\n",
    "  ```\n",
    "\n",
    "And this is `df2`:\n",
    "\n",
    "| |         name | age |\n",
    "|---|---|---|\n",
    "|4 | Tom         |    14 |\n",
    "|3 | Sara        |    35 |\n",
    "  ```Python\n",
    "  # Create the DataFrame for df2\n",
    "  df2 = pd.DataFrame([['Tom', 14],['Sara', 35]],\n",
    "                    columns = ['name', 'age'],\n",
    "                    index = [4, 3])\n",
    "  ```\n",
    "\n",
    "Then calling `dataframe_combine4(df1, df2)` will return the following DataFrame:\n",
    "\n",
    "| |         name | age |\n",
    "|---|---|---|\n",
    "|0 | Tom         |    14 |\n",
    "|1 | Dave        |    25 |\n",
    "|2 | Sara        |    35 |\n",
    "\n",
    "  ```Python\n",
    "  # Create the expected outcome DataFrame\n",
    "  expected_outcome = pd.DataFrame([['Tom', 14], ['Dave', 25], ['Sara', 35]], \n",
    "                                columns = ['name', 'age'], \n",
    "                                index = [0, 1, 2])\n",
    "  ```\n"
   ]
  },
  {
   "cell_type": "code",
   "execution_count": 17,
   "metadata": {},
   "outputs": [],
   "source": [
    "def dataframe_combine4(input_df1, input_df2):\n",
    "    import pandas as pd\n",
    "    new_df = pd.concat([input_df1, input_df2])\n",
    "    new_df = new_df.drop_duplicates()\n",
    "    new_df.reset_index(drop = True, inplace = True)\n",
    "    return new_df"
   ]
  },
  {
   "cell_type": "code",
   "execution_count": 18,
   "metadata": {},
   "outputs": [
    {
     "data": {
      "text/html": [
       "<div>\n",
       "<style scoped>\n",
       "    .dataframe tbody tr th:only-of-type {\n",
       "        vertical-align: middle;\n",
       "    }\n",
       "\n",
       "    .dataframe tbody tr th {\n",
       "        vertical-align: top;\n",
       "    }\n",
       "\n",
       "    .dataframe thead th {\n",
       "        text-align: right;\n",
       "    }\n",
       "</style>\n",
       "<table border=\"1\" class=\"dataframe\">\n",
       "  <thead>\n",
       "    <tr style=\"text-align: right;\">\n",
       "      <th></th>\n",
       "      <th>name</th>\n",
       "      <th>age</th>\n",
       "    </tr>\n",
       "  </thead>\n",
       "  <tbody>\n",
       "    <tr>\n",
       "      <th>0</th>\n",
       "      <td>Tom</td>\n",
       "      <td>14</td>\n",
       "    </tr>\n",
       "    <tr>\n",
       "      <th>1</th>\n",
       "      <td>Dave</td>\n",
       "      <td>25</td>\n",
       "    </tr>\n",
       "    <tr>\n",
       "      <th>2</th>\n",
       "      <td>Sara</td>\n",
       "      <td>35</td>\n",
       "    </tr>\n",
       "  </tbody>\n",
       "</table>\n",
       "</div>"
      ],
      "text/plain": [
       "   name  age\n",
       "0   Tom   14\n",
       "1  Dave   25\n",
       "2  Sara   35"
      ]
     },
     "execution_count": 18,
     "metadata": {},
     "output_type": "execute_result"
    }
   ],
   "source": [
    "import pandas as pd\n",
    "df1 = pd.DataFrame([['Tom', 14],['Dave', 25]],\n",
    "                    columns = ['name', 'age'])\n",
    "df2 = pd.DataFrame([['Tom', 14],['Sara', 35]],\n",
    "                    columns = ['name', 'age'],\n",
    "                    index = [4, 3])\n",
    "dataframe_combine4(df1, df2)"
   ]
  },
  {
   "cell_type": "markdown",
   "metadata": {},
   "source": [
    "9. Dataframe Process Data (4)\n",
    "---\n",
    "Given an input dataframe in which each row holds a product name, region and sales column, e.g.\n",
    "\n",
    "|     | Product | Region   |    Sales |\n",
    "| --- | ---     | ---      | ---      | \n",
    "| 0   | Apple   | North    | 6        |\n",
    "| 1   | Apple   | South    | 3        |\n",
    "| 2   | Apple   | North    | 2        |\n",
    "| 3   | Apple   | South    | 1        |\n",
    "| 4   | Banana  | North    | 5        |\n",
    "| 5   | Banana  | South    | 4        |\n",
    "| 6   | Banana  | North    | 15       |\n",
    "| 7   | Banana  | South    | 45       |\n",
    "\n",
    "Write a function to calculate the minimum sales for each product-region combination and return a dictionary containing the region-product as the key and the minimum value as the key.\n",
    "\n",
    "\n",
    "Required Signature:\n",
    "```python\n",
    "def dataframe_process_data4(input_df):\n",
    "    pass\n",
    "```\n",
    "Example(s):\n",
    "\n",
    "```python\n",
    ">>> dataframe_process_data4(pd.DataFrame({'Product':['Apple','Apple','Apple','Apple','Banana','Banana','Banana','Banana'], 'Region':['North', 'South', 'North', 'South','North', 'South','North', 'South'], 'Sales':[6,3,2,1,5,4,15,45]}))\n",
    "```\n",
    "\n",
    "```\n",
    "{'Apple-North': 2, 'Apple-South': 1, 'Banana-North': 5, 'Banana-South': 4}\n",
    "```\n",
    "\n"
   ]
  },
  {
   "cell_type": "code",
   "execution_count": 35,
   "metadata": {},
   "outputs": [],
   "source": [
    "def dataframe_process_data4(input_df):\n",
    "    import pandas as pd\n",
    "    input_df['Product-Region'] = input_df['Product'] + '-' + input_df['Region']\n",
    "    product_df = input_df.groupby('Product-Region')['Sales'].agg('min')\n",
    "    return product_df.to_dict()\n"
   ]
  },
  {
   "cell_type": "code",
   "execution_count": 36,
   "metadata": {},
   "outputs": [
    {
     "data": {
      "text/plain": [
       "{'Apple-North': 2, 'Apple-South': 1, 'Banana-North': 5, 'Banana-South': 4}"
      ]
     },
     "execution_count": 36,
     "metadata": {},
     "output_type": "execute_result"
    }
   ],
   "source": [
    "import pandas as pd\n",
    "df = pd.DataFrame({'Product':['Apple','Apple','Apple','Apple','Banana','Banana','Banana','Banana'], 'Region':['North', 'South', 'North', 'South','North', 'South','North', 'South'], 'Sales':[6,3,2,1,5,4,15,45]})\n",
    "df\n",
    "dataframe_process_data4(df)"
   ]
  },
  {
   "cell_type": "markdown",
   "metadata": {},
   "source": [
    "10. Dataframe Selector (4)\n",
    "---\n",
    "Write a Python function that takes three input arguments: data (a Dictionary of Lists), column_name (a string), and n (an integer). \n",
    "The function should return a new DataFrame using data input that contains the first n rows of the data, sorted in ascending order by column_name.\n",
    "\n",
    "\n",
    "Required Signature:\n",
    "```python\n",
    "def dataframe_selector4(data: dict, column_name:str, n:int):\n",
    "    pass\n",
    "```\n",
    "Example usage:\n",
    "\n",
    "\n",
    "- argument: \n",
    "  ```python\n",
    "  [{'col1':['1','2','3','4'],'col2':['val4','val3','val2','val1']}, 'col2',2]\n",
    "  ```\n",
    "\n",
    "  return_value: \n",
    "    |         | col1    | col2   |\n",
    "    | ---     | ---     | ------ |\n",
    "    | 0       |      4  |   val1 |\n",
    "    | 1       |      3  |   val2 |\n",
    "\n"
   ]
  },
  {
   "cell_type": "code",
   "execution_count": 64,
   "metadata": {},
   "outputs": [],
   "source": [
    "def dataframe_selector4(data: dict, column_name:str, n:int):\n",
    "    import pandas as pd\n",
    "    df = pd.DataFrame(data)\n",
    "    df.sort_values(column_name, ascending = True, inplace = True)\n",
    "    df_new = df.iloc[:n]\n",
    "    df_new.reset_index(drop = True, inplace = True)\n",
    "    return df_new"
   ]
  },
  {
   "cell_type": "code",
   "execution_count": 65,
   "metadata": {},
   "outputs": [
    {
     "data": {
      "text/html": [
       "<div>\n",
       "<style scoped>\n",
       "    .dataframe tbody tr th:only-of-type {\n",
       "        vertical-align: middle;\n",
       "    }\n",
       "\n",
       "    .dataframe tbody tr th {\n",
       "        vertical-align: top;\n",
       "    }\n",
       "\n",
       "    .dataframe thead th {\n",
       "        text-align: right;\n",
       "    }\n",
       "</style>\n",
       "<table border=\"1\" class=\"dataframe\">\n",
       "  <thead>\n",
       "    <tr style=\"text-align: right;\">\n",
       "      <th></th>\n",
       "      <th>col1</th>\n",
       "      <th>col2</th>\n",
       "    </tr>\n",
       "  </thead>\n",
       "  <tbody>\n",
       "    <tr>\n",
       "      <th>0</th>\n",
       "      <td>4</td>\n",
       "      <td>val1</td>\n",
       "    </tr>\n",
       "    <tr>\n",
       "      <th>1</th>\n",
       "      <td>3</td>\n",
       "      <td>val2</td>\n",
       "    </tr>\n",
       "  </tbody>\n",
       "</table>\n",
       "</div>"
      ],
      "text/plain": [
       "  col1  col2\n",
       "0    4  val1\n",
       "1    3  val2"
      ]
     },
     "execution_count": 65,
     "metadata": {},
     "output_type": "execute_result"
    }
   ],
   "source": [
    "\n",
    "dataframe_selector4({'col1':['1','2','3','4'],'col2':['val4','val3','val2','val1']}, 'col2',2)"
   ]
  },
  {
   "cell_type": "markdown",
   "metadata": {},
   "source": [
    "11. Get Public APIs\n",
    "---\n",
    "Write a Python function that uses the \"https://api.publicapis.org/entries\" API to retrieve a list of all available APIs that are categorized as \"Science & Math\". \n",
    "\n",
    "\n",
    "Required Signature:\n",
    "```python\n",
    "def get_public_apis(url: str):\n",
    "    pass\n",
    "```\n",
    "Example usage:\n",
    "\n",
    "\n",
    "For example, when the function was called recently, \n",
    "the returned list contained these apis:\n",
    "\n",
    "\"  ['arcsecond.io', 'arXiv', 'CORE', 'GBIF', 'iDigBio', 'inspirehep.net', 'isEven (humor)', 'ISRO', 'ITIS', 'Launch Library 2', 'Materials Platform for Data Science', 'Minor Planet Center', 'NASA', 'NASA ADS', 'Newton', 'Noctua', 'Numbers', 'Numbers', 'Ocean Facts', 'Open Notify', 'Open Science Framework', 'Purple Air', 'Remote Calc', 'SHARE', 'SpaceX', 'SpaceX', 'Sunrise and Sunset', 'Times Adder', 'TLE', 'USGS Earthquake Hazards \n",
    "Program', 'USGS Water Services', 'World Bank', 'xMath']\"\n",
    "\n"
   ]
  },
  {
   "cell_type": "code",
   "execution_count": 1,
   "metadata": {},
   "outputs": [],
   "source": [
    "def get_public_apis(url: str):\n",
    "    import pandas as pd\n",
    "    import requests\n",
    "    r = requests.get(url)\n",
    "    response = r.json()\n",
    "    api_info = response['entries']\n",
    "    API_list = []\n",
    "    for i in api_info:\n",
    "        if i['Category'] == 'Science & Math':\n",
    "            API_list.append(i['API'])\n",
    "    return API_list\n"
   ]
  },
  {
   "cell_type": "code",
   "execution_count": 2,
   "metadata": {},
   "outputs": [
    {
     "data": {
      "text/plain": [
       "['arcsecond.io',\n",
       " 'arXiv',\n",
       " 'CORE',\n",
       " 'GBIF',\n",
       " 'iDigBio',\n",
       " 'inspirehep.net',\n",
       " 'isEven (humor)',\n",
       " 'ISRO',\n",
       " 'ITIS',\n",
       " 'Launch Library 2',\n",
       " 'Materials Platform for Data Science',\n",
       " 'Minor Planet Center',\n",
       " 'NASA',\n",
       " 'NASA ADS',\n",
       " 'Newton',\n",
       " 'Noctua',\n",
       " 'Numbers',\n",
       " 'Numbers',\n",
       " 'Ocean Facts',\n",
       " 'Open Notify',\n",
       " 'Open Science Framework',\n",
       " 'Purple Air',\n",
       " 'Remote Calc',\n",
       " 'SHARE',\n",
       " 'SpaceX',\n",
       " 'SpaceX',\n",
       " 'Sunrise and Sunset',\n",
       " 'Times Adder',\n",
       " 'TLE',\n",
       " 'USGS Earthquake Hazards Program',\n",
       " 'USGS Water Services',\n",
       " 'World Bank',\n",
       " 'xMath']"
      ]
     },
     "execution_count": 2,
     "metadata": {},
     "output_type": "execute_result"
    }
   ],
   "source": [
    "get_public_apis(\"https://api.publicapis.org/entries\")"
   ]
  }
 ],
 "metadata": {
  "kernelspec": {
   "display_name": "Python 3",
   "language": "python",
   "name": "python3"
  },
  "language_info": {
   "codemirror_mode": {
    "name": "ipython",
    "version": 3
   },
   "file_extension": ".py",
   "mimetype": "text/x-python",
   "name": "python",
   "nbconvert_exporter": "python",
   "pygments_lexer": "ipython3",
   "version": "3.11.8"
  }
 },
 "nbformat": 4,
 "nbformat_minor": 2
}
