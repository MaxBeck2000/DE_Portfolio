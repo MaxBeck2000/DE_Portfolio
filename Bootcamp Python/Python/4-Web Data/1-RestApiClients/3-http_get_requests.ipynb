{
 "cells": [
  {
   "cell_type": "markdown",
   "id": "1fc77725",
   "metadata": {
    "toc": true
   },
   "source": [
    "<h1>Table of Contents<span class=\"tocSkip\"></span></h1>\n",
    "<div class=\"toc\"><ul class=\"toc-item\">\n",
    "<li><span><a href=\"#1.-Introduction-to-Web-Scraping\" data-toc-modified-id=\"1.-Introduction-to-Web-Scraping-1\">1. Introduction to Web Scraping</a></span><ul class=\"toc-item\">\n",
    "<li><span><a href=\"#1.1-Example:-Getting-information-about-the-International-Space-Station-(ISS)-from-http://api.open-notify.org\" data-toc-modified-id=\"1.2-Example:-Getting-information-about-the-International-Space-Station-(ISS)-from-http://api.open-notify.org-1.2\">1.2 Example: Getting information about the International Space Station (ISS) from <a href=\"http://api.open-notify.org\" target=\"_blank\">http://api.open-notify.org</a></a></span></li>\n",
    "<li><span><a href=\"#1.2-Example:-Getting-information-about-countries-using-Rest-Countries-API\" data-toc-modified-id=\"1.2-Example:-Getting-information-about-countries-using-Rest-Countries-API-1.3\">1.3 Example: Getting information about countries using Rest Countries API</a></span></li></ul>\n",
    "</li></ul></div>"
   ]
  },
  {
   "cell_type": "markdown",
   "id": "a5fd2746",
   "metadata": {},
   "source": [
    "---\n",
    "# 1. Introduction to Web Scraping\n",
    "---\n",
    "\n",
    "Web scraping is the process of extracting data from websites. It can be performed manually or automated using software to download and store the data in an accessible format. \n",
    "\n",
    "In this notebook, we will be exploring web data access in Python using the built-in **requests** package, which allows us to make HTTP requests."
   ]
  },
  {
   "cell_type": "markdown",
   "id": "6b00adc5",
   "metadata": {},
   "source": [
    "## 1.1 Example: Getting information about the International Space Station (ISS) from http://api.open-notify.org"
   ]
  },
  {
   "cell_type": "code",
   "execution_count": 1,
   "id": "a1b35c3f",
   "metadata": {},
   "outputs": [],
   "source": [
    "## \n",
    "# Imports -- if this cell doesn't run then try, from command line, \n",
    "# python -m pip install requests\n",
    "import requests\n",
    "##"
   ]
  },
  {
   "cell_type": "code",
   "execution_count": 2,
   "id": "a86e51a3",
   "metadata": {},
   "outputs": [],
   "source": [
    "## \n",
    "# Request the current location of the ISS using the requests.get() method\n",
    "url = r'http://api.open-notify.org/iss-now.json'\n",
    "##\n",
    "r = requests.get(url)"
   ]
  },
  {
   "cell_type": "code",
   "execution_count": 3,
   "id": "7d81021a",
   "metadata": {},
   "outputs": [
    {
     "data": {
      "text/plain": [
       "200"
      ]
     },
     "execution_count": 3,
     "metadata": {},
     "output_type": "execute_result"
    }
   ],
   "source": [
    "##\n",
    "#  Check the status code of the response object\n",
    "##\n",
    "r.status_code"
   ]
  },
  {
   "cell_type": "markdown",
   "id": "8132ea8e",
   "metadata": {},
   "source": [
    "The response is in .json format, which looks similar to a Python dictionary. It can be converted into an actual Python dictionary using `.json()` method\n",
    "\n",
    "Note: Some websites may also return the response in formats other than json (e.g. html or xml)"
   ]
  },
  {
   "cell_type": "code",
   "execution_count": 4,
   "id": "062f6d13",
   "metadata": {},
   "outputs": [
    {
     "data": {
      "text/plain": [
       "'{\"timestamp\": 1709206449, \"message\": \"success\", \"iss_position\": {\"latitude\": \"23.6430\", \"longitude\": \"-38.5010\"}}'"
      ]
     },
     "execution_count": 4,
     "metadata": {},
     "output_type": "execute_result"
    }
   ],
   "source": [
    "## \n",
    "# Get the contents of the response as plain text\n",
    "##\n",
    "r.text"
   ]
  },
  {
   "cell_type": "code",
   "execution_count": 5,
   "id": "79bd5994",
   "metadata": {},
   "outputs": [
    {
     "data": {
      "text/plain": [
       "{'timestamp': 1709206449,\n",
       " 'message': 'success',\n",
       " 'iss_position': {'latitude': '23.6430', 'longitude': '-38.5010'}}"
      ]
     },
     "execution_count": 5,
     "metadata": {},
     "output_type": "execute_result"
    }
   ],
   "source": [
    "## \n",
    "# Convert from json to a dictionary using .json() method\n",
    "##\n",
    "response = r.json()\n",
    "response"
   ]
  },
  {
   "cell_type": "markdown",
   "id": "d7ab9254",
   "metadata": {},
   "source": [
    "Once converted into a dictionary, the response can be manipulated using standard indexing techniques"
   ]
  },
  {
   "cell_type": "code",
   "execution_count": 6,
   "id": "708eb2fe",
   "metadata": {},
   "outputs": [
    {
     "data": {
      "text/plain": [
       "'23.6430'"
      ]
     },
     "execution_count": 6,
     "metadata": {},
     "output_type": "execute_result"
    }
   ],
   "source": [
    "## \n",
    "# Getting the current latitude\n",
    "##\n",
    "response['iss_position']['latitude']"
   ]
  },
  {
   "attachments": {},
   "cell_type": "markdown",
   "id": "557df510",
   "metadata": {},
   "source": [
    "The timestamp is a sequence of numbers ([Unix time format](https://en.wikipedia.org/wiki/Unix_time)). We can convert this into a readable date using `utcfromtimestamp` function, from the the built-in `datetime` package in Python:"
   ]
  },
  {
   "cell_type": "code",
   "execution_count": 9,
   "id": "0a4e7db3",
   "metadata": {},
   "outputs": [],
   "source": [
    "## \n",
    "# Import the datetime package\n",
    "import datetime as dt\n",
    "##\n"
   ]
  },
  {
   "cell_type": "code",
   "execution_count": 11,
   "id": "4ad38160",
   "metadata": {},
   "outputs": [
    {
     "name": "stdout",
     "output_type": "stream",
     "text": [
      "2024-02-29 11:34:09\n"
     ]
    }
   ],
   "source": [
    "##\n",
    "#  Convert the timestamp from Unix time to a more readable format\n",
    "##\n",
    "print(dt.datetime.utcfromtimestamp(response['timestamp']))"
   ]
  },
  {
   "cell_type": "markdown",
   "id": "82d2a718",
   "metadata": {},
   "source": [
    "### Concept Check <a class=\"tocSkip\">\n",
    "\n",
    "Print out a list of all people who are currently in space on the ISS. Use `http://api.open-notify.org/astros.json`\n",
    "\n"
   ]
  },
  {
   "cell_type": "code",
   "execution_count": 13,
   "id": "25e150d6",
   "metadata": {},
   "outputs": [
    {
     "name": "stdout",
     "output_type": "stream",
     "text": [
      "200\n"
     ]
    }
   ],
   "source": [
    "api_endpoint = r\"http://api.open-notify.org/astros.json\"\n",
    "r = requests.get(api_endpoint)\n",
    "print(r.status_code)"
   ]
  },
  {
   "cell_type": "code",
   "execution_count": 14,
   "id": "a7fe3283",
   "metadata": {},
   "outputs": [
    {
     "name": "stdout",
     "output_type": "stream",
     "text": [
      "{\"hello\":1}\n"
     ]
    }
   ],
   "source": [
    "string_or_dict = '{\"hello\":1}'\n",
    "print(string_or_dict)"
   ]
  },
  {
   "cell_type": "code",
   "execution_count": 15,
   "id": "0c71698a",
   "metadata": {},
   "outputs": [
    {
     "name": "stdout",
     "output_type": "stream",
     "text": [
      "{\"message\": \"success\", \"people\": [{\"name\": \"Jasmin Moghbeli\", \"craft\": \"ISS\"}, {\"name\": \"Andreas Mogensen\", \"craft\": \"ISS\"}, {\"name\": \"Satoshi Furukawa\", \"craft\": \"ISS\"}, {\"name\": \"Konstantin Borisov\", \"craft\": \"ISS\"}, {\"name\": \"Oleg Kononenko\", \"craft\": \"ISS\"}, {\"name\": \"Nikolai Chub\", \"craft\": \"ISS\"}, {\"name\": \"Loral O'Hara\", \"craft\": \"ISS\"}], \"number\": 7}\n",
      "<class 'str'>\n"
     ]
    }
   ],
   "source": [
    "print(r.text)\n",
    "print(type(r.text))"
   ]
  },
  {
   "cell_type": "code",
   "execution_count": 16,
   "id": "7008a08b",
   "metadata": {},
   "outputs": [
    {
     "name": "stdout",
     "output_type": "stream",
     "text": [
      "{'message': 'success', 'people': [{'name': 'Jasmin Moghbeli', 'craft': 'ISS'}, {'name': 'Andreas Mogensen', 'craft': 'ISS'}, {'name': 'Satoshi Furukawa', 'craft': 'ISS'}, {'name': 'Konstantin Borisov', 'craft': 'ISS'}, {'name': 'Oleg Kononenko', 'craft': 'ISS'}, {'name': 'Nikolai Chub', 'craft': 'ISS'}, {'name': \"Loral O'Hara\", 'craft': 'ISS'}], 'number': 7}\n",
      "<class 'dict'>\n"
     ]
    }
   ],
   "source": [
    "info = r.json()\n",
    "print(info)\n",
    "print(type(info))"
   ]
  },
  {
   "cell_type": "code",
   "execution_count": 18,
   "id": "69945376",
   "metadata": {},
   "outputs": [
    {
     "name": "stdout",
     "output_type": "stream",
     "text": [
      "[{'name': 'Jasmin Moghbeli', 'craft': 'ISS'}, {'name': 'Andreas Mogensen', 'craft': 'ISS'}, {'name': 'Satoshi Furukawa', 'craft': 'ISS'}, {'name': 'Konstantin Borisov', 'craft': 'ISS'}, {'name': 'Oleg Kononenko', 'craft': 'ISS'}, {'name': 'Nikolai Chub', 'craft': 'ISS'}, {'name': \"Loral O'Hara\", 'craft': 'ISS'}]\n"
     ]
    }
   ],
   "source": [
    "info_people = info['people']\n",
    "print(info_people)"
   ]
  },
  {
   "cell_type": "code",
   "execution_count": 24,
   "id": "1f283f36",
   "metadata": {},
   "outputs": [
    {
     "name": "stdout",
     "output_type": "stream",
     "text": [
      "Jasmin Moghbeli ISS\n",
      "Andreas Mogensen ISS\n",
      "Satoshi Furukawa ISS\n",
      "Konstantin Borisov ISS\n",
      "Oleg Kononenko ISS\n",
      "Nikolai Chub ISS\n",
      "Loral O'Hara ISS\n"
     ]
    }
   ],
   "source": [
    "for people_dict in info_people:\n",
    "    print(people_dict['name'], people_dict['craft'])\n",
    "    if people_dict['craft'] == 'ISS':\n",
    "        astro_list.append(people_dict['name'])"
   ]
  },
  {
   "cell_type": "code",
   "execution_count": 22,
   "id": "cc644496",
   "metadata": {},
   "outputs": [
    {
     "name": "stdout",
     "output_type": "stream",
     "text": [
      "['Jasmin Moghbeli', 'Andreas Mogensen', 'Satoshi Furukawa', 'Konstantin Borisov', 'Oleg Kononenko', 'Nikolai Chub', \"Loral O'Hara\", 'Jasmin Moghbeli', 'Andreas Mogensen', 'Satoshi Furukawa', 'Konstantin Borisov', 'Oleg Kononenko', 'Nikolai Chub', \"Loral O'Hara\"]\n"
     ]
    }
   ],
   "source": [
    "print(astro_list)"
   ]
  },
  {
   "cell_type": "code",
   "execution_count": 12,
   "id": "a0d4386d",
   "metadata": {},
   "outputs": [
    {
     "name": "stdout",
     "output_type": "stream",
     "text": [
      "GET request status code to http://api.open-notify.org/astros.json: 200\n",
      "['Jasmin Moghbeli', 'Andreas Mogensen', 'Satoshi Furukawa', 'Konstantin Borisov', 'Oleg Kononenko', 'Nikolai Chub', \"Loral O'Hara\"]\n"
     ]
    }
   ],
   "source": [
    "# Solution to concept check\n",
    "api_endpoint = r\"http://api.open-notify.org/astros.json\"\n",
    "r = requests.get(api_endpoint)\n",
    "print(f\"GET request status code to {api_endpoint}: {r.status_code}\")\n",
    "response = r.json()\n",
    "\n",
    "astro_list = []\n",
    "\n",
    "for person in response[\"people\"]:\n",
    "    if person[\"craft\"] == \"ISS\":\n",
    "        astro_list.append(person[\"name\"])\n",
    "        \n",
    "print(astro_list)"
   ]
  },
  {
   "cell_type": "code",
   "execution_count": 28,
   "id": "9ee97080",
   "metadata": {},
   "outputs": [
    {
     "name": "stdout",
     "output_type": "stream",
     "text": [
      "{\n",
      "   \"message\": \"success\",\n",
      "   \"people\": [\n",
      "      {\n",
      "         \"name\": \"Jasmin Moghbeli\",\n",
      "         \"craft\": \"ISS\"\n",
      "      },\n",
      "      {\n",
      "         \"name\": \"Andreas Mogensen\",\n",
      "         \"craft\": \"ISS\"\n",
      "      },\n",
      "      {\n",
      "         \"name\": \"Satoshi Furukawa\",\n",
      "         \"craft\": \"ISS\"\n",
      "      },\n",
      "      {\n",
      "         \"name\": \"Konstantin Borisov\",\n",
      "         \"craft\": \"ISS\"\n",
      "      },\n",
      "      {\n",
      "         \"name\": \"Oleg Kononenko\",\n",
      "         \"craft\": \"ISS\"\n",
      "      },\n",
      "      {\n",
      "         \"name\": \"Nikolai Chub\",\n",
      "         \"craft\": \"ISS\"\n",
      "      },\n",
      "      {\n",
      "         \"name\": \"Loral O'Hara\",\n",
      "         \"craft\": \"ISS\"\n",
      "      }\n",
      "   ],\n",
      "   \"number\": 7\n",
      "}\n"
     ]
    }
   ],
   "source": [
    "import json\n",
    "print(json.dumps(info, indent=3))\n",
    " \n"
   ]
  },
  {
   "attachments": {},
   "cell_type": "markdown",
   "id": "b55cff55",
   "metadata": {},
   "source": [
    "# Request Parameters \n",
    "\n",
    "There are many types of *parameters* that can be accompany the HTTP request. These can be used to provide more information about what content is requested, or provide authorization credentials, or other information such as the browser or platform type that is making the request. \n",
    "\n",
    "HTTP *parameters* are similar to Python function *arguments*:\n",
    "- A Python function can be designed to accept positional and keyword arguments that are used to affect the processing of the function. \n",
    "- An HTTP request can be designerd to accept several types of parameters that are used to affect the processing of the function. \n",
    "\n",
    "There are several types of parameters, including:\n",
    "- `path` parameter: it's possible to specify a string as part of the url that can be interpreted and used by the server. See the first example below for a use of this. (This is quite similar to 'positional' arguments in a function.)\n",
    "- `query` parameters: these key-value pairs are appended to the url, after the `?` character. These provide the standard mechanism for providing information to the server, so that it can provide the content requested by the client. See the second example for a use of this. (These `query` parameters are very similar to the Python keyword arguments, i.e. a set of key-value pairs.)\n",
    "- `header` parameters: typically used to provide authentication credentials (such as a username and password, or an API key), and other technical details. We don't use these fields in these examples. [The Wikipedia page](https://en.wikipedia.org/wiki/List_of_HTTP_header_fields) has a useful listing of the various types. \n",
    "- `cookie` parameters: many web servers request permission to store data on the client device (via their web server). This 'cookie' data is sent back to the server by web-browser applications. We don't use these fields in these examples.\n",
    "\n"
   ]
  },
  {
   "cell_type": "code",
   "execution_count": null,
   "id": "0a8dd862",
   "metadata": {},
   "outputs": [],
   "source": []
  },
  {
   "cell_type": "code",
   "execution_count": null,
   "id": "3c34a46d",
   "metadata": {},
   "outputs": [],
   "source": []
  },
  {
   "attachments": {},
   "cell_type": "markdown",
   "id": "d589bc6d",
   "metadata": {},
   "source": [
    "## Example: Getting information about countries using Rest Countries API\n",
    "Rest Countries API: <https://restcountries.com>\n",
    "\n",
    "The above url contains the documentation for this RESTful service."
   ]
  },
  {
   "attachments": {},
   "cell_type": "markdown",
   "id": "d27b2486",
   "metadata": {},
   "source": [
    "The `v3.1/name` endpoint allows a search string to be appended to it, as a `path` parameter, as the example below shows:"
   ]
  },
  {
   "cell_type": "code",
   "execution_count": 29,
   "id": "2cfb85c9",
   "metadata": {},
   "outputs": [],
   "source": [
    "## \n",
    "# Getting the API url for a particular country\n",
    "country = 'Japan'\n",
    "##\n",
    "\n",
    "\n",
    "url = rf'https://restcountries.com/v3.1/name/{country}'"
   ]
  },
  {
   "cell_type": "code",
   "execution_count": 30,
   "id": "b0b5b577",
   "metadata": {},
   "outputs": [
    {
     "data": {
      "text/plain": [
       "200"
      ]
     },
     "execution_count": 30,
     "metadata": {},
     "output_type": "execute_result"
    }
   ],
   "source": [
    "##\n",
    "#  Do the request and check the status code\n",
    "##\n",
    "r = requests.get(url)\n",
    "r.status_code"
   ]
  },
  {
   "cell_type": "code",
   "execution_count": 32,
   "id": "01a40162",
   "metadata": {},
   "outputs": [
    {
     "data": {
      "text/plain": [
       "'https://restcountries.com/v3.1/name/Japan'"
      ]
     },
     "execution_count": 32,
     "metadata": {},
     "output_type": "execute_result"
    }
   ],
   "source": [
    "r.url"
   ]
  },
  {
   "cell_type": "code",
   "execution_count": 31,
   "id": "1b054f23",
   "metadata": {},
   "outputs": [
    {
     "name": "stdout",
     "output_type": "stream",
     "text": [
      "[{'name': {'common': 'Japan', 'official': 'Japan', 'nativeName': {'jpn': {'official': '日本', 'common': '日本'}}}, 'tld': ['.jp', '.みんな'], 'cca2': 'JP', 'ccn3': '392', 'cca3': 'JPN', 'cioc': 'JPN', 'independent': True, 'status': 'officially-assigned', 'unMember': True, 'currencies': {'JPY': {'name': 'Japanese yen', 'symbol': '¥'}}, 'idd': {'root': '+8', 'suffixes': ['1']}, 'capital': ['Tokyo'], 'altSpellings': ['JP', 'Nippon', 'Nihon'], 'region': 'Asia', 'subregion': 'Eastern Asia', 'languages': {'jpn': 'Japanese'}, 'translations': {'ara': {'official': 'اليابان', 'common': 'اليابان'}, 'bre': {'official': 'Japan', 'common': 'Japan'}, 'ces': {'official': 'Japonsko', 'common': 'Japonsko'}, 'cym': {'official': 'Japan', 'common': 'Japan'}, 'deu': {'official': 'Japan', 'common': 'Japan'}, 'est': {'official': 'Jaapan', 'common': 'Jaapan'}, 'fin': {'official': 'Japani', 'common': 'Japani'}, 'fra': {'official': 'Japon', 'common': 'Japon'}, 'hrv': {'official': 'Japan', 'common': 'Japan'}, 'hun': {'official': 'Japán', 'common': 'Japán'}, 'ita': {'official': 'Giappone', 'common': 'Giappone'}, 'jpn': {'official': '日本', 'common': '日本'}, 'kor': {'official': '일본국', 'common': '일본'}, 'nld': {'official': 'Japan', 'common': 'Japan'}, 'per': {'official': 'ژاپن', 'common': 'ژاپن'}, 'pol': {'official': 'Japonia', 'common': 'Japonia'}, 'por': {'official': 'Japão', 'common': 'Japão'}, 'rus': {'official': 'Япония', 'common': 'Япония'}, 'slk': {'official': 'Japonsko', 'common': 'Japonsko'}, 'spa': {'official': 'Japón', 'common': 'Japón'}, 'srp': {'official': 'Јапан', 'common': 'Јапан'}, 'swe': {'official': 'Japan', 'common': 'Japan'}, 'tur': {'official': 'Japonya', 'common': 'Japonya'}, 'urd': {'official': 'جاپان', 'common': 'جاپان'}, 'zho': {'official': '日本国', 'common': '日本'}}, 'latlng': [36.0, 138.0], 'landlocked': False, 'area': 377930.0, 'demonyms': {'eng': {'f': 'Japanese', 'm': 'Japanese'}, 'fra': {'f': 'Japonaise', 'm': 'Japonais'}}, 'flag': '🇯🇵', 'maps': {'googleMaps': 'https://goo.gl/maps/NGTLSCSrA8bMrvnX9', 'openStreetMaps': 'https://www.openstreetmap.org/relation/382313'}, 'population': 125836021, 'gini': {'2013': 32.9}, 'fifa': 'JPN', 'car': {'signs': ['J'], 'side': 'left'}, 'timezones': ['UTC+09:00'], 'continents': ['Asia'], 'flags': {'png': 'https://flagcdn.com/w320/jp.png', 'svg': 'https://flagcdn.com/jp.svg', 'alt': 'The flag of Japan features a crimson-red circle at the center of a white field.'}, 'coatOfArms': {'png': 'https://mainfacts.com/media/images/coats_of_arms/jp.png', 'svg': 'https://mainfacts.com/media/images/coats_of_arms/jp.svg'}, 'startOfWeek': 'monday', 'capitalInfo': {'latlng': [35.68, 139.75]}, 'postalCode': {'format': '###-####', 'regex': '^(\\\\d{7})$'}}]\n"
     ]
    }
   ],
   "source": [
    "##\n",
    "# Check the response\n",
    "##\n",
    "response = r.json()\n",
    "print(response)"
   ]
  },
  {
   "cell_type": "code",
   "execution_count": 33,
   "id": "83061da8",
   "metadata": {},
   "outputs": [
    {
     "data": {
      "text/plain": [
       "dict_keys(['name', 'tld', 'cca2', 'ccn3', 'cca3', 'cioc', 'independent', 'status', 'unMember', 'currencies', 'idd', 'capital', 'altSpellings', 'region', 'subregion', 'languages', 'translations', 'latlng', 'landlocked', 'area', 'demonyms', 'flag', 'maps', 'population', 'gini', 'fifa', 'car', 'timezones', 'continents', 'flags', 'coatOfArms', 'startOfWeek', 'capitalInfo', 'postalCode'])"
      ]
     },
     "execution_count": 33,
     "metadata": {},
     "output_type": "execute_result"
    }
   ],
   "source": [
    "##\n",
    "# Having a look at what is in the response object\n",
    "# Note: The response is returned as a list of dictionaries. The above response contains only one dictionary in the list.\n",
    "##\n",
    "response[0].keys()"
   ]
  },
  {
   "cell_type": "code",
   "execution_count": null,
   "id": "12f1d4ad",
   "metadata": {},
   "outputs": [],
   "source": [
    "# Getting the currency name from the response\n",
    "response[0]['currencies']['JPY']['name']"
   ]
  },
  {
   "cell_type": "code",
   "execution_count": 34,
   "id": "b51b53a3",
   "metadata": {},
   "outputs": [
    {
     "name": "stdout",
     "output_type": "stream",
     "text": [
      "{'JPY': {'name': 'Japanese yen', 'symbol': '¥'}}\n",
      "{'name': 'Japanese yen', 'symbol': '¥'}\n",
      "Japanese yen\n"
     ]
    }
   ],
   "source": [
    "print(response[0]['currencies'])\n",
    "print(response[0]['currencies']['JPY'])\n",
    "print(response[0]['currencies']['JPY']['name'])"
   ]
  },
  {
   "attachments": {},
   "cell_type": "markdown",
   "id": "30a75bbf",
   "metadata": {},
   "source": [
    "### Concept Check  <a class=\"tocSkip\">\n",
    "\n",
    "1. Create a list of all the capital cities in Europe that begin with the letter 'L'?\n",
    "2.  Create a dictionary that contains the capital city for each country (in the world) for which the country name begins with the letter 'L'? Use the country as the key, and the capital city as the value. \n",
    "\n",
    "(Stretch Challenge: put each of the above in its own function, allowing the caller of the function to specify different starting letters, e.g. 'L', 'M', 'N'...)"
   ]
  },
  {
   "cell_type": "code",
   "execution_count": 6,
   "id": "00c3f7f9",
   "metadata": {},
   "outputs": [
    {
     "name": "stdout",
     "output_type": "stream",
     "text": [
      "<Response [200]>\n"
     ]
    }
   ],
   "source": [
    "import requests\n",
    "url = 'https://restcountries.com/v3.1/region/europe'\n",
    "response = requests.get(url)\n"
   ]
  },
  {
   "cell_type": "code",
   "execution_count": 2,
   "id": "047ed946",
   "metadata": {},
   "outputs": [
    {
     "ename": "NameError",
     "evalue": "name 'response' is not defined",
     "output_type": "error",
     "traceback": [
      "\u001b[1;31m---------------------------------------------------------------------------\u001b[0m",
      "\u001b[1;31mNameError\u001b[0m                                 Traceback (most recent call last)",
      "Cell \u001b[1;32mIn[2], line 1\u001b[0m\n\u001b[1;32m----> 1\u001b[0m \u001b[38;5;28mprint\u001b[39m(\u001b[38;5;28mtype\u001b[39m(\u001b[43mresponse\u001b[49m))\n\u001b[0;32m      2\u001b[0m \u001b[38;5;28mprint\u001b[39m(\u001b[38;5;28mlen\u001b[39m(response))\n",
      "\u001b[1;31mNameError\u001b[0m: name 'response' is not defined"
     ]
    }
   ],
   "source": [
    "print(type(response))\n",
    "print(len(response))"
   ]
  },
  {
   "cell_type": "code",
   "execution_count": 63,
   "id": "cffb2d95",
   "metadata": {},
   "outputs": [
    {
     "name": "stdout",
     "output_type": "stream",
     "text": [
      "Nicosia\n",
      "Bratislava\n",
      "Vatican City\n",
      "Belgrade\n",
      "Tórshavn\n",
      "Tirana\n",
      "Rome\n",
      "Madrid\n",
      "Dublin\n",
      "Zagreb\n",
      "Tallinn\n",
      "London\n",
      "Gibraltar\n",
      "Helsinki\n",
      "Stockholm\n",
      "Reykjavik\n",
      "Bern\n",
      "Riga\n",
      "Warsaw\n",
      "Vilnius\n",
      "Andorra la Vella\n",
      "Saint Helier\n",
      "Valletta\n",
      "Berlin\n",
      "City of San Marino\n",
      "Luxembourg\n",
      "Bucharest\n",
      "Longyearbyen\n",
      "Minsk\n",
      "Mariehamn\n",
      "St. Peter Port\n",
      "Oslo\n",
      "Brussels\n",
      "Lisbon\n",
      "Copenhagen\n",
      "Prague\n",
      "Athens\n",
      "Vienna\n",
      "Monaco\n",
      "Ljubljana\n",
      "Sarajevo\n",
      "Paris\n",
      "Sofia\n",
      "Chișinău\n",
      "Douglas\n",
      "Podgorica\n",
      "Budapest\n",
      "Skopje\n",
      "Pristina\n",
      "Amsterdam\n",
      "Kyiv\n",
      "Vaduz\n",
      "Moscow\n"
     ]
    }
   ],
   "source": [
    "for i in response:\n",
    "    print(i['capital'][0])"
   ]
  },
  {
   "cell_type": "code",
   "execution_count": 7,
   "id": "66fee721",
   "metadata": {},
   "outputs": [
    {
     "data": {
      "text/plain": [
       "['London', 'Luxembourg', 'Longyearbyen', 'Lisbon', 'Ljubljana']"
      ]
     },
     "execution_count": 7,
     "metadata": {},
     "output_type": "execute_result"
    }
   ],
   "source": [
    "#1\n",
    "import requests\n",
    "url = 'https://restcountries.com/v3.1/region/europe'\n",
    "r = requests.get(url)\n",
    "response = r.json()\n",
    "european_capitals = []\n",
    "for country in response:\n",
    "    capital_city = country.get('capital')\n",
    "    if capital_city is not None:\n",
    "        if capital_city[0].startswith('L'):\n",
    "            european_capitals.append(capital_city[0])\n",
    "european_capitals\n"
   ]
  },
  {
   "cell_type": "code",
   "execution_count": 68,
   "id": "3b6e22f2",
   "metadata": {},
   "outputs": [
    {
     "data": {
      "text/plain": [
       "['London', 'Luxembourg', 'Longyearbyen', 'Lisbon', 'Ljubljana']"
      ]
     },
     "execution_count": 68,
     "metadata": {},
     "output_type": "execute_result"
    }
   ],
   "source": [
    "#1 as a function\n",
    "def get_capital_cities(beginning_letter):\n",
    "    url = 'https://restcountries.com/v3.1/region/europe'\n",
    "    r = requests.get(url)\n",
    "    response = r.json()\n",
    "    european_capitals = []\n",
    "    for i in response:\n",
    "        if i['capital'][0].startswith(beginning_letter):\n",
    "            european_capitals.append(i['capital'][0])\n",
    "    \n",
    "    return european_capitals\n",
    "\n",
    "get_capital_cities('L')\n",
    "\n",
    "#TODO \n",
    "#definitely going to have to practice this syntax"
   ]
  },
  {
   "cell_type": "code",
   "execution_count": 67,
   "id": "f1ada090",
   "metadata": {},
   "outputs": [
    {
     "data": {
      "text/plain": [
       "{'Liberia': 'Monrovia',\n",
       " 'Latvia': 'Riga',\n",
       " 'Lithuania': 'Vilnius',\n",
       " 'Lebanon': 'Beirut',\n",
       " 'Libya': 'Tripoli',\n",
       " 'Liechtenstein': 'Vaduz',\n",
       " 'Laos': 'Vientiane',\n",
       " 'Luxembourg': 'Luxembourg',\n",
       " 'Lesotho': 'Maseru'}"
      ]
     },
     "execution_count": 67,
     "metadata": {},
     "output_type": "execute_result"
    }
   ],
   "source": [
    "#2\n",
    "import requests\n",
    "url = 'https://restcountries.com/v3.1/all'\n",
    "r = requests.get(url)\n",
    "response = r.json()\n",
    "world_capitals = {}\n",
    "for country in response:\n",
    "    country_name = country['name']['common']\n",
    "    if country_name[0] == 'L':\n",
    "        capital_city = country.get('capital')\n",
    "        world_capitals[country_name] = capital_city[0]\n",
    "world_capitals"
   ]
  },
  {
   "cell_type": "code",
   "execution_count": 66,
   "id": "8b4678b3",
   "metadata": {},
   "outputs": [
    {
     "data": {
      "text/plain": [
       "{'Liberia': 'Monrovia',\n",
       " 'Latvia': 'Riga',\n",
       " 'Lithuania': 'Vilnius',\n",
       " 'Lebanon': 'Beirut',\n",
       " 'Libya': 'Tripoli',\n",
       " 'Liechtenstein': 'Vaduz',\n",
       " 'Laos': 'Vientiane',\n",
       " 'Luxembourg': 'Luxembourg',\n",
       " 'Lesotho': 'Maseru'}"
      ]
     },
     "execution_count": 66,
     "metadata": {},
     "output_type": "execute_result"
    }
   ],
   "source": [
    "#2 as a function\n",
    "def get_world_capitals(beginning_letter):\n",
    "    url = 'https://restcountries.com/v3.1/all'\n",
    "    r = requests.get(url)\n",
    "    response = r.json()\n",
    "    world_capitals = {}\n",
    "    for i in response:\n",
    "        if i['name']['common'].startswith(beginning_letter):\n",
    "            world_capitals[i['name']['common']] = i['capital'][0]\n",
    "\n",
    "    return world_capitals\n",
    "\n",
    "get_world_capitals('L')"
   ]
  },
  {
   "cell_type": "code",
   "execution_count": 1,
   "id": "5bc86f72",
   "metadata": {},
   "outputs": [
    {
     "data": {
      "text/plain": [
       "['London', 'Lisbon', 'Ljubljana', 'Longyearbyen', 'Luxembourg']"
      ]
     },
     "execution_count": 1,
     "metadata": {},
     "output_type": "execute_result"
    }
   ],
   "source": [
    "# Solution to concept check 1\n",
    "import requests\n",
    "url = 'https://restcountries.com/v3.1/region/europe'\n",
    "r = requests.get(url)\n",
    "response = r.json()\n",
    "\n",
    "european_capitals = []\n",
    "for country in response:\n",
    "    capital_city = country.get('capital')\n",
    "    if capital_city is not None:\n",
    "        if capital_city[0].startswith('L'):\n",
    "            european_capitals.append(capital_city[0])\n",
    "european_capitals"
   ]
  },
  {
   "cell_type": "code",
   "execution_count": 2,
   "id": "b02374da",
   "metadata": {},
   "outputs": [
    {
     "data": {
      "text/plain": [
       "{'Lithuania': 'Vilnius',\n",
       " 'Liechtenstein': 'Vaduz',\n",
       " 'Libya': 'Tripoli',\n",
       " 'Liberia': 'Monrovia',\n",
       " 'Latvia': 'Riga',\n",
       " 'Lebanon': 'Beirut',\n",
       " 'Laos': 'Vientiane',\n",
       " 'Lesotho': 'Maseru',\n",
       " 'Luxembourg': 'Luxembourg'}"
      ]
     },
     "execution_count": 2,
     "metadata": {},
     "output_type": "execute_result"
    }
   ],
   "source": [
    "# Solution to concept check 2\n",
    "\n",
    "import requests\n",
    "\n",
    "url = 'https://restcountries.com/v3.1/all'\n",
    "r = requests.get(url)\n",
    "response = r.json()\n",
    "\n",
    "worldwide_capitals = {}\n",
    "\n",
    "for country in response:\n",
    "    country_name = country['name']['common']\n",
    "    if country_name[0] =='L':\n",
    "        capital_city = country.get('capital')\n",
    "        worldwide_capitals[country_name] = capital_city[0]\n",
    "\n",
    "worldwide_capitals"
   ]
  },
  {
   "attachments": {},
   "cell_type": "markdown",
   "id": "9affcd6e",
   "metadata": {},
   "source": [
    "## Query string parameters\n",
    "\n",
    "\n",
    "\n",
    "\n",
    "From Python, the best way to include query string parameters into an HTTP `GET` request is to:\n",
    "- Create a Python dictionary (e.g. `my_params` that includes all the required key-value pairs)\n",
    "- Pass this dictionary into the `requests.get` function call, as a keyword argument, i.e. `parameters=my_params`\n",
    "\n",
    "\n",
    "To demonstrate this, we'll use the [Open-Air-Quality REST API](https://docs.openaq.org/docs/about-api)\n",
    "\n"
   ]
  },
  {
   "cell_type": "code",
   "execution_count": 69,
   "id": "0eac3665",
   "metadata": {},
   "outputs": [
    {
     "data": {
      "text/plain": [
       "200"
      ]
     },
     "execution_count": 69,
     "metadata": {},
     "output_type": "execute_result"
    }
   ],
   "source": [
    "##\n",
    "#  Example: find the latest London air quality measurements\n",
    "\n",
    "url = 'https://api.openaq.org/v2/latest'\n",
    "##\n",
    "\n",
    "import requests\n",
    "my_params = {'city':'London'}\n",
    "r = requests.get(url, params = my_params)\n",
    "r.status_code"
   ]
  },
  {
   "cell_type": "code",
   "execution_count": 71,
   "id": "3ceae569",
   "metadata": {},
   "outputs": [
    {
     "name": "stdout",
     "output_type": "stream",
     "text": [
      "<bound method Response.json of <Response [422]>>\n"
     ]
    }
   ],
   "source": [
    "r = requests.get('https://api.openaq.org/v2/locations?page=1&offset=0&sort=desc&radius=1000&city=london&city=&order_by=lastUpdated&dump_raw=false')\n",
    "print(r.json)\n",
    "    "
   ]
  },
  {
   "cell_type": "code",
   "execution_count": 70,
   "id": "7676ec56",
   "metadata": {},
   "outputs": [
    {
     "data": {
      "text/plain": [
       "dict_keys(['location', 'city', 'country', 'coordinates', 'measurements'])"
      ]
     },
     "execution_count": 70,
     "metadata": {},
     "output_type": "execute_result"
    }
   ],
   "source": [
    "##\n",
    "# Look at the response content  \n",
    "## \n",
    "\n",
    "data = r.json()\n",
    "data['results'][0].keys()\n"
   ]
  },
  {
   "attachments": {},
   "cell_type": "markdown",
   "id": "77f62c54",
   "metadata": {},
   "source": [
    "## For `openaq.org`, the term '`parameter`` has two meanings here:\n",
    "- There are HTTP request parameters, such as `query` parameters (what we are using). \n",
    "- Air Quality (AQ) parameters -- the different types of AQ measurement (e.g pm25, carbon monoxide, nitrogen dioxide etc)\n",
    "\n",
    "\n",
    "## Three Challenges:\n",
    "\n",
    "- Write a function `get_parameter_count(city)` that returns a dictionary of the AQ parameters used to measure AQ in the latest readings, in a given city. In the returned dictionary, each key should be an AQ parameter (e.g. `'pm25'`, and each value should be the number of locations in which that parameter has a measurement (e.g. `'13'` pm25 readings in London, Jan 2023))\n",
    "- Write a function `get_readings(city, parameter)` that returns a Pandas DataFrame containing the AQ readings from the last week, for a given city and given parameter type. Each DataFrame column should contain a different location within that city. \n",
    "- Plot the AQ (Air Quality) readings for the past week, for a given parameter type and locations within a given city.\n"
   ]
  },
  {
   "cell_type": "code",
   "execution_count": null,
   "id": "100abcee",
   "metadata": {},
   "outputs": [],
   "source": [
    "# Solution to challenge 1:\n",
    "\n",
    "import requests\n",
    "def get_parameter_count(city):\n",
    "    url = 'https://api.openaq.org/v2/latest'\n",
    "\n",
    "    my_params = {'city':city}\n",
    "    r = requests.get(url, params = my_params)\n",
    "    if r.status_code >=300:\n",
    "        raise Exception (r.reason)\n",
    "    data = r.json()\n",
    "    aq_parameter_count = {}\n",
    "    for result in data['results']:\n",
    "        for measurement in result['measurements']:\n",
    "            parameter = measurement['parameter']\n",
    "            if parameter in aq_parameter_count:\n",
    "                aq_parameter_count[parameter] += 1\n",
    "            else:\n",
    "                aq_parameter_count[parameter] = 1\n",
    "\n",
    "    return aq_parameter_count\n",
    "\n",
    "params = get_parameter_count('London')\n",
    "\n",
    "params\n"
   ]
  },
  {
   "cell_type": "code",
   "execution_count": null,
   "id": "e278226c",
   "metadata": {},
   "outputs": [],
   "source": [
    "import datetime as dt\n",
    "import pandas as pd\n",
    "def get_readings(city='Liverpool', aq_parameter='no2'):\n",
    "    url = 'https://api.openaq.org/v2/measurements'\n",
    "    today = dt.date.today()\n",
    "    one_week = dt.timedelta(days=7)\n",
    "    last_week = today - one_week\n",
    "    date_to = f'{today.year}-{today.month}-{today.day}'\n",
    "    date_from = f'{last_week.year}-{last_week.month}-{last_week.day}'\n",
    "    my_params = {\n",
    "        'city':city, \n",
    "        'parameter': aq_parameter, \n",
    "        'date_from':date_from, \n",
    "        'date_to':date_to,\n",
    "        'limit':9999\n",
    "        }\n",
    "    r = requests.get(url, params = my_params)\n",
    "    if r.status_code >=300:\n",
    "        raise Exception (r.reason)\n",
    "    data = r.json()\n",
    "    df = pd.DataFrame(index=pd.to_datetime([]))\n",
    "    for reading in data['results']:\n",
    "        s = reading['date']['utc']\n",
    "        d = dt.datetime.strptime(s.split('+')[0],'%Y-%m-%dT%H:%M:%S')\n",
    "        l = reading['location']\n",
    "        x = reading['value']\n",
    "        df.loc[d,l] = x\n",
    "\n",
    "    return df\n",
    "\n",
    "df = get_readings('London', 'no2')\n",
    "df"
   ]
  },
  {
   "cell_type": "code",
   "execution_count": null,
   "id": "4cf9ae0e",
   "metadata": {},
   "outputs": [],
   "source": [
    "ax = df.plot(figsize=(14,8))\n",
    "ax.set_title('no2 readings in London')\n",
    "ax.set_ylim(0, 160)\n",
    "ax.set_xlabel('date')\n",
    "ax.set_ylabel('parts per million')\n"
   ]
  },
  {
   "attachments": {},
   "cell_type": "markdown",
   "id": "fdf98e98",
   "metadata": {},
   "source": [
    "## Further topics\n",
    "\n",
    "### Other Request Types\n",
    "\n",
    "This notebook has only demonstrated GET requests (to *read* data). We also use POST, PUT and DELETE requests when we wish to *create*, *update* and *delete* data, respectively. \n",
    "\n",
    "For example, when we created your projects on gitlab, we used [this POST request](https://docs.gitlab.com/ee/api/members.html#add-a-member-to-a-group-or-project) to add you to the group we created for you. \n",
    "\n",
    "### Headers\n",
    "\n",
    "This notebook has only used resources that do not require authorization credentials. \n",
    "\n",
    "These credentials can sometimes be required in the `params`, alternatively they may be required in the 'Headers' (as in the above example). \n",
    "\n",
    "### More RESTful resources:\n",
    "\n",
    "[Here's a list](https://github.com/public-apis/public-apis) of publically accessible restful web services. Some will require registration, others not. You may find it useful and intresting to browse these data sources!\n",
    "\n"
   ]
  },
  {
   "cell_type": "code",
   "execution_count": null,
   "id": "5735ff0f",
   "metadata": {},
   "outputs": [],
   "source": []
  }
 ],
 "metadata": {
  "kernelspec": {
   "display_name": "Python 3.10.7 64-bit",
   "language": "python",
   "name": "python3"
  },
  "language_info": {
   "codemirror_mode": {
    "name": "ipython",
    "version": 3
   },
   "file_extension": ".py",
   "mimetype": "text/x-python",
   "name": "python",
   "nbconvert_exporter": "python",
   "pygments_lexer": "ipython3",
   "version": "3.11.8"
  },
  "toc": {
   "base_numbering": 1,
   "nav_menu": {},
   "number_sections": false,
   "sideBar": true,
   "skip_h1_title": false,
   "title_cell": "Table of Contents",
   "title_sidebar": "Contents",
   "toc_cell": true,
   "toc_position": {},
   "toc_section_display": true,
   "toc_window_display": false
  },
  "varInspector": {
   "cols": {
    "lenName": 16,
    "lenType": 16,
    "lenVar": 40
   },
   "kernels_config": {
    "python": {
     "delete_cmd_postfix": "",
     "delete_cmd_prefix": "del ",
     "library": "var_list.py",
     "varRefreshCmd": "print(var_dic_list())"
    },
    "r": {
     "delete_cmd_postfix": ") ",
     "delete_cmd_prefix": "rm(",
     "library": "var_list.r",
     "varRefreshCmd": "cat(var_dic_list()) "
    }
   },
   "types_to_exclude": [
    "module",
    "function",
    "builtin_function_or_method",
    "instance",
    "_Feature"
   ],
   "window_display": false
  },
  "vscode": {
   "interpreter": {
    "hash": "76e997188eef07398e433a4222fff8f6bd0ad449588ae3edaade77a68f157d79"
   }
  }
 },
 "nbformat": 4,
 "nbformat_minor": 5
}
