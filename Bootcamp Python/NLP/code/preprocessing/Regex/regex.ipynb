{
 "cells": [
  {
   "cell_type": "markdown",
   "metadata": {},
   "source": [
    "# Regular Expressions\n",
    "\n",
    "## Introduction to regular expressions\n",
    "\n",
    "A regular expression (or regex in short) is a string that defines a search pattern. Regular expressions can be used to search for specific patterns within a given text. Regular expressions have been used for well over 50 years, with the American pioneer of Computer Science, Kenneth Lane Thompson, creating the foundational notations that many variants of regular expressions still use today.\n",
    "\n",
    "Regular expression patterns are typically agnostic of programming languages and operating systems. Unix-based systems have made use of the `grep` (**g**lobally search for a **r**egular **e**xpression and **p**rint matches) command line utility function to search for one of more regex patterns in a given set of files and provide the results where these patterns are successfully matched in any of the input files.\n",
    "\n",
    "## Use of regular expressions\n",
    "\n",
    "Regular expression patterns are available for use in a wide range of tools and languages. For example, Microsoft Word allows us to search using simple wildcards in a word document. Certain patterns can also be used in command line utilities (e.g. PowerShell in Microsoft Windows or Terminal in MacOS) to search and list a set of files matching the wildcard pattern.\n",
    "\n",
    "For example, in Windows PowerShell,\n",
    "\n",
    "- `ls *.txt` will list all the files with the extension 'txt' in the current folder (or no output if no matches are found)\n",
    "- `ls t*` will list all files and folders beginning with the letter 't' in the current folder (or no output if no matches are found)\n",
    "\n",
    "Wildcards, while strictly not the same as regular expressions provide us a flavour of how they work. More powerful regex patterns can be used in a range of programming languages such as Python, SQL, Java or Perl. For example, Python has a built-in module **re** for handling regular expressions. These regex patterns can be used to search through a body of text for a variety of purposes - for example, when validating a particular field of data or when trying to apply data enrichment using find and replace methods. The core patterns in regular expressions are universal, however, different tools have their own regular expression engines to process regex patterns and these engines can have different behaviours and levels of support for more complex patterns. These variations are known as regex flavours.\n",
    "\n",
    "## Regex patterns\n",
    "\n",
    "Regex patterns are used to describe the target sequence to be matched. They can be formed by combining a number of different components (as detailed below). Regex patterns are matched from left to right and the leftmost match is always returned.\n",
    "\n",
    "### Literal characters\n",
    "\n",
    "These include precise matches to the characters. A few examples are given in the table below:\n",
    "\n",
    "| Pattern | Description                |\n",
    "| ------- | -------------------------- |\n",
    "| t       | Matches the letter 't'     |\n",
    "| toast   | Matches the string 'toast' |\n",
    "| 4       | Matches the number 4       |\n",
    "| 123     | Matches the number 123     |\n",
    "\n",
    "Several characters can be matched at the same time by placing them within square brackets. This also works for a range of characters. Negation can be performed by including a `^` (caret) symbol at the beginning (within the square brackets).\n",
    "\n",
    "| Pattern  | Description                                         |\n",
    "| -------- | --------------------------------------------------- |\n",
    "| [4-8]    | Matches any number from 4 to 8                      |\n",
    "| [^aeiou] | Matches any character that is not a lowercase vowel |\n",
    "\n",
    "### Character sets\n",
    "\n",
    "These are special patterns that match a set of characters. A few examples are given in the table below:\n",
    "\n",
    "| Pattern | Description                                                                                                                                   | Notes           |\n",
    "| ------- | --------------------------------------------------------------------------------------------------------------------------------------------- | --------------- |\n",
    "| `\\d`    | Matches any character that is a decimal digit (Typically **0-9** but may also include unicode digits from other languages)                    | Same as `[\\d]`  |\n",
    "| `\\D`    | Matches any character that is **not** a decimal digit                                                                                         | Same as `[^\\d]` |\n",
    "| `\\w`    | Matches any alphanumeric character and underscore (Typically **A-Z, a-z, 0-9, \\_** but may also include word characters from other languages) | Same as `[\\w]`  |\n",
    "| `\\W`    | Matches any character that is not alphanumeric or underscore                                                                                  | Same as `[^\\w]` |\n",
    "| `\\s`    | Matches a whitespace character (could also include tabs, newlines etc. depending on the regex flavour)                                        | Same as `[\\s]`  |\n",
    "| `\\S`    | Matches anything but a whitespace character                                                                                                   | Same as `[^\\s]` |\n",
    "\n",
    "Several flavours allow restriction matching to [ASCII encoding](https://en.wikipedia.org/wiki/ASCII). In this case, `\\d` is the same as `[0-9]` and `\\w` is the same as `[A-Za-z0-9_]`.\n",
    "\n",
    "### Metacharacters\n",
    "\n",
    "These are special characters that need to be escaped (preceded) with a backslash in order to be matched literally. Some examples are **+ (plus), ^ (caret), ? (question mark), $ (dollar), \\* (asterisk), \\. (dot)**. These metacharacters have a special meaning when used without escaping as given in the table below. These characters can also be used along with multiple characters (by placing after the character set or after the square brackets above). When placed inside the square brackets, the metacharacters are matched precisely without the need for escaping.\n",
    "\n",
    "| Pattern     | Description                                                                                                                                                                  | Example                                                                                                  |\n",
    "| ----------- | ---------------------------------------------------------------------------------------------------------------------------------------------------------------------------- | -------------------------------------------------------------------------------------------------------- |\n",
    "| `?`         | Matches the preceding element zero or one time                                                                                                                               | `colou?r` matches 'color' or 'colour' <br>`https?` matches 'http' or 'https'                             |\n",
    "| `*`         | Matches the preceding element zero or more times                                                                                                                             | `co*p` matches 'cp','cop','coop',...<br>`12*3` matches '13','123','1223',...                             |\n",
    "| `+`         | Matches the preceding element one or more times                                                                                                                              | `a+` matches 'a','aa','aaa',...<br>`ab+` matches 'ab','abb','abbb',...                                   |\n",
    "| `.`         | Matches any character                                                                                                                                                        | `l.st` matches 'last','lost','lest','l6st','l%st',...<br>`..t` matches 'cat','bat','cut','ant','net',... |\n",
    "| `{min,max}` | Denotes the minimum and maximum matches for the preceding element<br>Note: `max` is optional. `{min, }` matches at least 'min' times and `{min}` matches exactly 'min' times | `1{2,3}` matches '11' or '111'<br>`co{1,2}p` matches 'cop' or 'coop'                                     |\n",
    "| `^`         | Matches the beginning of a string                                                                                                                                            | `^The` matches the pattern for a string beginning with 'The'                                             |\n",
    "| `$`         | Matches the end of a string                                                                                                                                                  | `$done` matches the pattern for a string ending with 'done'                                              |\n",
    "| `\\|`        | Used to separate multiple patterns, any of which can be matched                                                                                                              | `a\\|an` matches 'a' or 'an'                                                                              |\n",
    "| `()`        | Used to group patterns together                                                                                                                                              | ab+ matches 'ab', 'abb', 'abbb', ...<br>(ab)+ matches 'ab', 'abab', 'ababab', ...                        |\n",
    "\n",
    "The characters `*`, `+`, `?`, `{min,max}` are called repetition qualifiers. `^` and `$` are anchors that match the position at the beginning or the end of the document (Note the operator overloading for `^`).\n"
   ]
  },
  {
   "cell_type": "markdown",
   "metadata": {},
   "source": [
    "## Regular Expressions in Python\n",
    "\n",
    "Python has a built-in module `re` for handling regular expressions. The following section provides a basic introduction to using this module for compiling and matching regular expressions in Python.\n"
   ]
  },
  {
   "cell_type": "code",
   "execution_count": null,
   "metadata": {},
   "outputs": [],
   "source": [
    "# Import the regex module in Python\n",
    "import re"
   ]
  },
  {
   "cell_type": "markdown",
   "metadata": {},
   "source": [
    "### Basic workflow\n",
    "\n",
    "The basic workflow for using regex in Python involves two steps:\n",
    "\n",
    "- Compiling the regex pattern\n",
    "- Performing matches against a test string\n"
   ]
  },
  {
   "cell_type": "markdown",
   "metadata": {},
   "source": [
    "#### Compiling a regex pattern\n",
    "\n",
    "Regular expression patterns can be passed as a raw string to `re.compile(...)`. This allows us to escape the special characters inside the string before converting it into a raw string format.\n",
    "\n",
    "#### Performing matches against a test string\n",
    "\n",
    "The compiled regex pattern can then be used to find matches in a test string in a few different ways.\n",
    "\n",
    "1. Using `pattern.findall('test string...')` - This returns all matches as a list.\n",
    "2. Using `pattern.finditer('test string...')` - This returns all matches as an iterator.\n",
    "3. Using `pattern.search('test string...')` - This searches the string and returns the first match found else `None`.\n"
   ]
  },
  {
   "cell_type": "code",
   "execution_count": null,
   "metadata": {},
   "outputs": [],
   "source": [
    "# Compile a regular expression to validate both the words \"gray\" and \"grey\"\n",
    "pattern = re.compile(r'gr[a|e]y')\n",
    "print(pattern)"
   ]
  },
  {
   "cell_type": "code",
   "execution_count": null,
   "metadata": {},
   "outputs": [],
   "source": [
    "# Our test document\n",
    "my_str = '''Gray and grey are both valid spellings for the intermediate colour between Black and White. \n",
    "While gray is widely used in the US, grey is more common in the UK.'''\n",
    "print(my_str)"
   ]
  },
  {
   "cell_type": "markdown",
   "metadata": {},
   "source": [
    "Using `pattern.findall()`\n"
   ]
  },
  {
   "cell_type": "code",
   "execution_count": null,
   "metadata": {},
   "outputs": [],
   "source": [
    "matches = pattern.findall(my_str)\n",
    "print(matches)"
   ]
  },
  {
   "cell_type": "markdown",
   "metadata": {},
   "source": [
    "Using `pattern.finditer()`\n"
   ]
  },
  {
   "cell_type": "code",
   "execution_count": null,
   "metadata": {},
   "outputs": [],
   "source": [
    "# Another document\n",
    "my_str2 = 'The racing greyhound dogs, however, are usually spelt with grey rather than gray.'\n",
    "print(my_str2)"
   ]
  },
  {
   "cell_type": "code",
   "execution_count": null,
   "metadata": {},
   "outputs": [],
   "source": [
    "matches = pattern.finditer(my_str2)"
   ]
  },
  {
   "cell_type": "markdown",
   "metadata": {},
   "source": [
    "This returns an iterator called `matches` which can be used, for example, in a `for` loop. Each item in this iterator is a match object.\n"
   ]
  },
  {
   "cell_type": "code",
   "execution_count": null,
   "metadata": {},
   "outputs": [],
   "source": [
    "type(matches)"
   ]
  },
  {
   "cell_type": "code",
   "execution_count": null,
   "metadata": {},
   "outputs": [],
   "source": [
    "for match in matches:\n",
    "    print(match)\n",
    "    print(match.start())\n",
    "    print(match.end())"
   ]
  },
  {
   "cell_type": "markdown",
   "metadata": {},
   "source": [
    "Using `pattern.search()`\n"
   ]
  },
  {
   "cell_type": "code",
   "execution_count": null,
   "metadata": {},
   "outputs": [],
   "source": [
    "match = pattern.search(my_str)\n",
    "print(match)"
   ]
  },
  {
   "cell_type": "markdown",
   "metadata": {},
   "source": [
    "For more information on the `re` module in Python, see <https://docs.python.org/3/library/re.html>\n"
   ]
  },
  {
   "cell_type": "markdown",
   "metadata": {},
   "source": [
    "### Example: Removing punctuation characters from a document\n",
    "\n",
    "It is common in NLP applications to clean the document by removing punctuations. Regular expressions can help clean up documents by removing unwanted characters such as punctuation marks, special symbols and whitespaces.\n"
   ]
  },
  {
   "cell_type": "code",
   "execution_count": null,
   "metadata": {},
   "outputs": [],
   "source": [
    "sample_doc = \"Hello, World! This is an example text, we are going to clean this text by removing any characters that are not alphanumeric or whitespace.\""
   ]
  },
  {
   "cell_type": "code",
   "execution_count": null,
   "metadata": {},
   "outputs": [],
   "source": [
    "# We are looking for anything that is not alphanumeric or a whitespace. \n",
    "# We are using ^ negation. \n",
    "pattern = re.compile(r'[^a-zA-Z0-9 ]')"
   ]
  },
  {
   "cell_type": "code",
   "execution_count": null,
   "metadata": {},
   "outputs": [],
   "source": [
    "# We can use re.sub to substitute any characters found with an empty string, thereby removing it.\n",
    "cleaned_doc = re.sub(pattern, '', sample_doc)\n",
    "print(cleaned_doc)"
   ]
  },
  {
   "cell_type": "markdown",
   "metadata": {},
   "source": [
    "### Example: UK Postcode format validation\n",
    "\n",
    "Let's consider a practical example where we validate the format of a UK postcode entered by an user in a form (Note that we are only validating the format of the postcode and not verifying if it is a genuine postcode in this example).\n",
    "\n",
    "Postcodes are alphanumeric (consisting on letters A-Z or a-z and number 0-9) ranging from 5 to 7 characters with an optional space in between the two sections. Some examples of UK postcodes (with the corresponding format in letters`(l)` and numbers`(n)`) are:\n",
    "\n",
    "| Postcode | Format   |\n",
    "| -------- | -------- |\n",
    "| L4 0TH   | ln nll   |\n",
    "| M16 0RA  | lnn nll  |\n",
    "| SE1 0BE  | lln nll  |\n",
    "| W1J 9HP  | lnl nll  |\n",
    "| SW1A 1AA | llnl nll |\n",
    "| BT57 8SU | llnn nll |\n"
   ]
  },
  {
   "cell_type": "markdown",
   "metadata": {},
   "source": [
    "#### Building the regular expression pattern\n",
    "\n",
    "Let's break down the different variations to construct our pattern.\n",
    "\n",
    "1. The first part of the postcode can be broken down into three components:\n",
    "\n",
    "   - One or two mandatory letters `[A-Za-z]{1,2}`\n",
    "   - One mandatory number `[0-9]`\n",
    "   - One optional letter or number `[A-Za-z0-9]?`\n",
    "\n",
    "2. This is followed by an optional space which can be matched using a space character followed a question mark \"` ?`\" (quotes given to highlight space character)\n",
    "\n",
    "3. The second part of the postcode follow the same pattern (nll) which can be matched using `[0-9][A-Za-z]{2}`\n",
    "\n",
    "Putting all these together between `^` and `$` to match the entire string, we get `^[A-Za-z]{1,2}[0-9][A-Za-z0-9]? ?[0-9][A-Za-z]{2}$`\n",
    "\n",
    "**Note**: This simply validates the format of the entered postcode, it does not check if it's an actual postcode.\n"
   ]
  },
  {
   "cell_type": "code",
   "execution_count": null,
   "metadata": {},
   "outputs": [],
   "source": [
    "# Compile the pattern\n",
    "pattern = re.compile(r\"^[A-Za-z]{1,2}[0-9][A-Za-z0-9]? [0-9][A-Za-z]{2}$\")"
   ]
  },
  {
   "cell_type": "markdown",
   "metadata": {},
   "source": [
    "#### Postcode validation\n"
   ]
  },
  {
   "cell_type": "code",
   "execution_count": null,
   "metadata": {},
   "outputs": [],
   "source": [
    "postcode = input('Enter a postcode: ')\n",
    "match = pattern.search(postcode)\n",
    "\n",
    "if not match:\n",
    "    print(f\"{postcode} is not provided in a valid UK postcode format!\")\n",
    "else:\n",
    "    print(f\"{postcode} is provided in a valid postcode format!\")"
   ]
  },
  {
   "cell_type": "markdown",
   "metadata": {},
   "source": [
    "---\n"
   ]
  },
  {
   "cell_type": "markdown",
   "metadata": {},
   "source": [
    "### Exercise: Date validation\n",
    "\n",
    "Validate the following date formats:\n",
    "\n",
    "- YYYY/MM/DD\n",
    "- MM-DD-YYYY\n",
    "- DD-MM-YYYY\n",
    "\n",
    "**Note:** We are only validating the format of the date. We are not checking for logical correctness (e.g., February 30th would be considered valid). For more complex validation, it is better to use date parsing libraries.\n"
   ]
  },
  {
   "cell_type": "markdown",
   "metadata": {},
   "source": [
    "---\n"
   ]
  },
  {
   "cell_type": "markdown",
   "metadata": {},
   "source": [
    "### Exercise: UK Number plate validation\n",
    "\n",
    "The current UK number plate format consists of:\n",
    "\n",
    "- Two letters (area code)\n",
    "- Two numbers (age identifier)\n",
    "- A mandatory space\n",
    "- Three letters (random sequence)\n",
    "\n",
    "For example, `BD51 SMR` is a valid UK number plate.\n",
    "\n",
    "Construct a regex pattern to validate the format of a given UK number plate.\n",
    "\n",
    "**Challenge:** Incorporate the following additional rules for validating the number plate.\n",
    "\n",
    "1. The letters I, Q and Z are not used in the area code (first two letters)\n",
    "2. The letters I and Q are not used in the random sequence (last three letters)\n"
   ]
  },
  {
   "cell_type": "code",
   "execution_count": null,
   "metadata": {},
   "outputs": [],
   "source": []
  },
  {
   "cell_type": "markdown",
   "metadata": {},
   "source": [
    "---\n"
   ]
  },
  {
   "cell_type": "markdown",
   "metadata": {},
   "source": []
  }
 ],
 "metadata": {
  "interpreter": {
   "hash": "e055f10a1cbe1d0cbba51f404348e190ab73be374e6176cbbfab8f6ff89a0609"
  },
  "kernelspec": {
   "display_name": "Python 3.8.12 ('base')",
   "language": "python",
   "name": "python3"
  },
  "language_info": {
   "codemirror_mode": {
    "name": "ipython",
    "version": 3
   },
   "file_extension": ".py",
   "mimetype": "text/x-python",
   "name": "python",
   "nbconvert_exporter": "python",
   "pygments_lexer": "ipython3",
   "version": "3.11.8"
  },
  "orig_nbformat": 4
 },
 "nbformat": 4,
 "nbformat_minor": 2
}
