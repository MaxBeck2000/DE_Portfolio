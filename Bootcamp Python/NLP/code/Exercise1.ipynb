{
 "cells": [
  {
   "cell_type": "code",
   "execution_count": 4,
   "metadata": {},
   "outputs": [
    {
     "name": "stdout",
     "output_type": "stream",
     "text": [
      "{'payload': {'allShortcutsEnabled': False, 'path': 'data/ag_news_csv', 'repo': {'id': 62956639, 'defaultBranch': 'master', 'name': 'CharCnn_Keras', 'ownerLogin': 'mhjabreel', 'currentUserCanPush': False, 'isFork': False, 'isEmpty': False, 'createdAt': '2016-07-09T15:46:50.000Z', 'ownerAvatar': 'https://avatars.githubusercontent.com/u/9088025?v=4', 'public': True, 'private': False, 'isOrgOwned': False}, 'currentUser': None, 'refInfo': {'name': 'master', 'listCacheKey': 'v0:1676497147.2822669', 'canEdit': False, 'refType': 'branch', 'currentOid': '555590db4219b1243abb1918effd6a7425a2d75f'}, 'tree': {'items': [{'name': 'classes.txt', 'path': 'data/ag_news_csv/classes.txt', 'contentType': 'file'}, {'name': 'readme.txt', 'path': 'data/ag_news_csv/readme.txt', 'contentType': 'file'}, {'name': 'test.csv', 'path': 'data/ag_news_csv/test.csv', 'contentType': 'file'}, {'name': 'train.csv', 'path': 'data/ag_news_csv/train.csv', 'contentType': 'file'}], 'templateDirectorySuggestionUrl': None, 'readme': {'displayName': 'readme.txt', 'richText': '<div class=\"plain\"><pre style=\"white-space: pre-wrap\">AG\\'s News Topic Classification Dataset\\n\\nVersion 3, Updated 09/09/2015\\n\\n\\nORIGIN\\n\\nAG is a collection of more than 1 million news articles. News articles have been gathered from more than 2000  news sources by ComeToMyHead in more than 1 year of activity. ComeToMyHead is an academic news search engine which has been running since July, 2004. The dataset is provided by the academic comunity for research purposes in data mining (clustering, classification, etc), information retrieval (ranking, search, etc), xml, data compression, data streaming, and any other non-commercial activity. For more information, please refer to the link <a href=\"http://www.di.unipi.it/~gulli/AG_corpus_of_news_articles.html\" rel=\"nofollow\">http://www.di.unipi.it/~gulli/AG_corpus_of_news_articles.html</a> .\\n\\nThe AG\\'s news topic classification dataset is constructed by Xiang Zhang (xiang.zhang@nyu.edu) from the dataset above. It is used as a text classification benchmark in the following paper: Xiang Zhang, Junbo Zhao, Yann LeCun. Character-level Convolutional Networks for Text Classification. Advances in Neural Information Processing Systems 28 (NIPS 2015).\\n\\n\\nDESCRIPTION\\n\\nThe AG\\'s news topic classification dataset is constructed by choosing 4 largest classes from the original corpus. Each class contains 30,000 training samples and 1,900 testing samples. The total number of training samples is 120,000 and testing 7,600.\\n\\nThe file classes.txt contains a list of classes corresponding to each label.\\n\\nThe files train.csv and test.csv contain all the training samples as comma-sparated values. There are 3 columns in them, corresponding to class index (1 to 4), title and description. The title and description are escaped using double quotes (\"), and any internal double quote is escaped by 2 double quotes (\"\"). New lines are escaped by a backslash followed with an \"n\" character, that is \"\\\\n\".\\n</pre></div>', 'errorMessage': None, 'headerInfo': {'toc': [], 'siteNavLoginPath': '/login?return_to=https%3A%2F%2Fgithub.com%2Fmhjabreel%2FCharCnn_Keras%2Ftree%2Fmaster%2Fdata%2Fag_news_csv'}}, 'totalCount': 4, 'showBranchInfobar': False}, 'fileTree': {'data': {'items': [{'name': 'ag_news_csv', 'path': 'data/ag_news_csv', 'contentType': 'directory'}], 'totalCount': 1}, '': {'items': [{'name': 'data', 'path': 'data', 'contentType': 'directory'}, {'name': 'models', 'path': 'models', 'contentType': 'directory'}, {'name': '.gitignore', 'path': '.gitignore', 'contentType': 'file'}, {'name': 'README.md', 'path': 'README.md', 'contentType': 'file'}, {'name': 'config.json', 'path': 'config.json', 'contentType': 'file'}, {'name': 'data_utils.py', 'path': 'data_utils.py', 'contentType': 'file'}, {'name': 'main.py', 'path': 'main.py', 'contentType': 'file'}, {'name': 'requirements.txt', 'path': 'requirements.txt', 'contentType': 'file'}], 'totalCount': 8}}, 'fileTreeProcessingTime': 3.748941, 'foldersToFetch': [], 'treeExpanded': True, 'symbolsExpanded': False, 'csrf_tokens': {'/mhjabreel/CharCnn_Keras/branches': {'post': 'Jp-DTaoW3wwZnnIDqLq3xAF7DEM_l7NmB2KG0ppkB_y3LCT3mmOs0noHf5EMaiBtBgz9FwWOVBxJLBwcKHcEhw'}, '/mhjabreel/CharCnn_Keras/branches/fetch_and_merge/master': {'post': 'Qahvd4c31PYovLL1oH0t37ksRZuAlReGm-52B0vjt22ats5rNQ4xbPq-2cekdUNOOoa7GNTMHFWYQOgVgSDBpg'}, '/mhjabreel/CharCnn_Keras/branches/fetch_and_merge/master?discard_changes=true': {'post': 'W7Mi_Sm4jVLL_2Q2IPtLHsQM6Hf3eXZ9mqt155wEjN2ArYPhm4FoyBn9DwQk8yWPR6YW9KMgfa6ZBev1Vsf6Fg'}}}, 'title': 'CharCnn_Keras/data/ag_news_csv at master · mhjabreel/CharCnn_Keras'}\n"
     ]
    }
   ],
   "source": [
    "import requests\n",
    "from sklearn.feature_extraction.text import CountVectorizer\n",
    "from sklearn.ensemble import RandomForestClassifier\n",
    "\n",
    "\n",
    "response = requests.get('https://github.com/mhjabreel/CharCnn_Keras/tree/master/data/ag_news_csv')\n",
    "r = response.json()\n",
    "data_train = pd.read\n",
    "\n",
    "#TODO tihs and the other exercises from this module"
   ]
  }
 ],
 "metadata": {
  "kernelspec": {
   "display_name": "de35_env",
   "language": "python",
   "name": "python3"
  },
  "language_info": {
   "codemirror_mode": {
    "name": "ipython",
    "version": 3
   },
   "file_extension": ".py",
   "mimetype": "text/x-python",
   "name": "python",
   "nbconvert_exporter": "python",
   "pygments_lexer": "ipython3",
   "version": "3.11.8"
  }
 },
 "nbformat": 4,
 "nbformat_minor": 2
}
